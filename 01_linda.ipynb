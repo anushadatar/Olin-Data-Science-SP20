{
  "nbformat": 4,
  "nbformat_minor": 0,
  "metadata": {
    "kernelspec": {
      "display_name": "Python 3",
      "language": "python",
      "name": "python3"
    },
    "language_info": {
      "codemirror_mode": {
        "name": "ipython",
        "version": 3
      },
      "file_extension": ".py",
      "mimetype": "text/x-python",
      "name": "python",
      "nbconvert_exporter": "python",
      "pygments_lexer": "ipython3",
      "version": "3.7.6"
    },
    "colab": {
      "name": "01_linda.ipynb",
      "provenance": [],
      "collapsed_sections": [],
      "include_colab_link": true
    }
  },
  "cells": [
    {
      "cell_type": "markdown",
      "metadata": {
        "id": "view-in-github",
        "colab_type": "text"
      },
      "source": [
        "<a href=\"https://colab.research.google.com/github/anushadatar/Olin-Data-Science-SP20/blob/master/01_linda.ipynb\" target=\"_parent\"><img src=\"https://colab.research.google.com/assets/colab-badge.svg\" alt=\"Open In Colab\"/></a>"
      ]
    },
    {
      "cell_type": "markdown",
      "metadata": {
        "id": "G6QQcQh73AIa",
        "colab_type": "text"
      },
      "source": [
        "# Bite Size Bayes\n",
        "\n",
        "Copyright 2020 Allen B. Downey\n",
        "\n",
        "MIT License: https://opensource.org/licenses/MIT"
      ]
    },
    {
      "cell_type": "code",
      "metadata": {
        "id": "TBd4Oytz3AIg",
        "colab_type": "code",
        "colab": {
          "base_uri": "https://localhost:8080/",
          "height": 289
        },
        "outputId": "e179ad16-4d3d-45e6-f26e-d5cea77bcbb4"
      },
      "source": [
        "# Load utils.py\n",
        "\n",
        "import os\n",
        "\n",
        "if not os.path.exists('utils.py'):\n",
        "    !wget https://github.com/AllenDowney/BiteSizeBayes/raw/master/utils.py"
      ],
      "execution_count": 1,
      "outputs": [
        {
          "output_type": "stream",
          "text": [
            "--2020-03-26 17:37:12--  https://github.com/AllenDowney/BiteSizeBayes/raw/master/utils.py\n",
            "Resolving github.com (github.com)... 140.82.112.3\n",
            "Connecting to github.com (github.com)|140.82.112.3|:443... connected.\n",
            "HTTP request sent, awaiting response... 302 Found\n",
            "Location: https://raw.githubusercontent.com/AllenDowney/BiteSizeBayes/master/utils.py [following]\n",
            "--2020-03-26 17:37:13--  https://raw.githubusercontent.com/AllenDowney/BiteSizeBayes/master/utils.py\n",
            "Resolving raw.githubusercontent.com (raw.githubusercontent.com)... 151.101.0.133, 151.101.64.133, 151.101.128.133, ...\n",
            "Connecting to raw.githubusercontent.com (raw.githubusercontent.com)|151.101.0.133|:443... connected.\n",
            "HTTP request sent, awaiting response... 200 OK\n",
            "Length: 8014 (7.8K) [text/plain]\n",
            "Saving to: ‘utils.py’\n",
            "\n",
            "\rutils.py              0%[                    ]       0  --.-KB/s               \rutils.py            100%[===================>]   7.83K  --.-KB/s    in 0s      \n",
            "\n",
            "2020-03-26 17:37:13 (115 MB/s) - ‘utils.py’ saved [8014/8014]\n",
            "\n"
          ],
          "name": "stdout"
        }
      ]
    },
    {
      "cell_type": "code",
      "metadata": {
        "id": "DAIlE2BZ3AIr",
        "colab_type": "code",
        "colab": {
          "base_uri": "https://localhost:8080/",
          "height": 289
        },
        "outputId": "dec1af4e-750c-45db-ccc2-c5047492b4ce"
      },
      "source": [
        "# Load the data file\n",
        "\n",
        "if not os.path.exists('gss_bayes.csv'):\n",
        "    !wget https://github.com/AllenDowney/BiteSizeBayes/raw/master/gss_bayes.csv"
      ],
      "execution_count": 2,
      "outputs": [
        {
          "output_type": "stream",
          "text": [
            "--2020-03-26 17:37:14--  https://github.com/AllenDowney/BiteSizeBayes/raw/master/gss_bayes.csv\n",
            "Resolving github.com (github.com)... 140.82.112.4\n",
            "Connecting to github.com (github.com)|140.82.112.4|:443... connected.\n",
            "HTTP request sent, awaiting response... 302 Found\n",
            "Location: https://raw.githubusercontent.com/AllenDowney/BiteSizeBayes/master/gss_bayes.csv [following]\n",
            "--2020-03-26 17:37:14--  https://raw.githubusercontent.com/AllenDowney/BiteSizeBayes/master/gss_bayes.csv\n",
            "Resolving raw.githubusercontent.com (raw.githubusercontent.com)... 151.101.0.133, 151.101.64.133, 151.101.128.133, ...\n",
            "Connecting to raw.githubusercontent.com (raw.githubusercontent.com)|151.101.0.133|:443... connected.\n",
            "HTTP request sent, awaiting response... 200 OK\n",
            "Length: 1546290 (1.5M) [text/plain]\n",
            "Saving to: ‘gss_bayes.csv’\n",
            "\n",
            "\rgss_bayes.csv         0%[                    ]       0  --.-KB/s               \rgss_bayes.csv       100%[===================>]   1.47M  --.-KB/s    in 0.09s   \n",
            "\n",
            "2020-03-26 17:37:14 (16.6 MB/s) - ‘gss_bayes.csv’ saved [1546290/1546290]\n",
            "\n"
          ],
          "name": "stdout"
        }
      ]
    },
    {
      "cell_type": "code",
      "metadata": {
        "id": "2QiPD9LE3AI0",
        "colab_type": "code",
        "colab": {}
      },
      "source": [
        "import pandas as pd\n",
        "import numpy as np\n",
        "\n",
        "from utils import values"
      ],
      "execution_count": 0,
      "outputs": []
    },
    {
      "cell_type": "markdown",
      "metadata": {
        "id": "4Ok95XQk3AI8",
        "colab_type": "text"
      },
      "source": [
        "## Introduction\n",
        "\n",
        "This notebook takes a computational approach to understanding probability.  We'll use data from the General Social Survey to compute the probability of propositions like:\n",
        "\n",
        "* If I choose a random survey respondent, what is the probability they are female?\n",
        "\n",
        "* If I choose a random survey respondent, what is the probability they work in banking?\n",
        "\n",
        "From there, we will explore two related concepts:\n",
        "\n",
        "* Conjunction, which is the probability that two propositions are both true; for example, what is the probability of choosing a female banker?\n",
        "\n",
        "* Conditional probability, which is the probability that one proposition is true, given that another is true; for example, given than a respondent is female, what is the probability that she is a banker?\n",
        "\n",
        "I chose these examples because they are related to a famous experiment by Tversky and Kahneman, who posed the following question:\n",
        "\n",
        "> Linda is 31 years old, single, outspoken, and very bright. She majored in philosophy. As a student, she was deeply concerned with issues of discrimination and social justice, and also participated in anti-nuclear demonstrations.  Which is more probable?\n",
        "1. Linda is a bank teller.\n",
        "2. Linda is a bank teller and is active in the feminist movement.\n",
        "\n",
        "Many people choose the second answer, presumably because it seems more consistent with the description.  It seems unlikely that Linda would be *just* a bank teller; if she is a bank teller, it seems likely that she would also be a feminist.\n",
        "\n",
        "But the second answer cannot be \"more probable\", as the question asks.  Suppose we find 1000 people who fit Linda's description and 10 of them work as bank tellers.  How many of them are also feminists?  At most, all 10 of them are; in that case, the two options are *equally* likely.  More likely, only some of them are; in that case the second option is *less* likely.  But there can't be more than 10 out of 10, so the second option cannot be more likely.\n",
        "\n",
        "The error people make if they choose the second option is called the [conjunction fallacy](https://en.wikipedia.org/wiki/Conjunction_fallacy).   It's called a [fallacy](https://en.wikipedia.org/wiki/Fallacy) because it's a logical error and \"conjunction\" because \"bank teller AND feminist\" is a [logical conjunction](https://en.wikipedia.org/wiki/Logical_conjunction).\n",
        "\n",
        "If this example makes you uncomfortable, you are in good company.  The biologist [Stephen J. Gould wrote](https://sci-hub.tw/https://doi.org/10.1080/09332480.1989.10554932) :\n",
        "\n",
        "> I am particularly fond of this example because I know that the [second] statement is least probable, yet a little [homunculus](https://en.wikipedia.org/wiki/Homunculus_argument) in my head continues to jump up and down, shouting at me, \"but she can't just be a bank teller; read the description.\"\n",
        "\n",
        "If the little person in your head is still unhappy, maybe this notebook will help."
      ]
    },
    {
      "cell_type": "markdown",
      "metadata": {
        "id": "m9g4gfas3AI9",
        "colab_type": "text"
      },
      "source": [
        "## Probability\n",
        "\n",
        "At this point I should define probability, but that [turns out to be surprisingly difficult](https://en.wikipedia.org/wiki/Probability_interpretations).  To avoid getting bogged down before we get started, I'll start with a simple definition: a **probability** is a **fraction** of a dataset.\n",
        "\n",
        "For example, if we survey 1000 people, and 20 of them are bank tellers, the fraction that work as bank tellers is 0.02 or 2\\%.  If we choose a person from this population at random, the probability that they are a bank teller is 2\\%.  \n",
        "\n",
        "(By \"at random\" I mean that every person in the dataset has the same chance of being chosen, and by \"they\" I mean the [singular, gender-neutral pronoun](https://en.wikipedia.org/wiki/Singular_they), which is a correct and useful feature of English.)\n",
        "\n",
        "With this definition and an appropriate dataset, we can compute probabilities by counting.\n",
        "\n",
        "To demonstrate, I'll use a data set from the [General Social Survey](http://gss.norc.org/) or GSS.  The following cell reads the data."
      ]
    },
    {
      "cell_type": "code",
      "metadata": {
        "id": "QYZQ-nsA3AI_",
        "colab_type": "code",
        "colab": {}
      },
      "source": [
        "gss = pd.read_csv('gss_bayes.csv', index_col=0)"
      ],
      "execution_count": 0,
      "outputs": []
    },
    {
      "cell_type": "markdown",
      "metadata": {
        "id": "v_nMH8xE3AJF",
        "colab_type": "text"
      },
      "source": [
        "The results is a Pandas DataFrame with one row for each person surveyed and one column for each variable I selected.\n",
        "\n",
        "Here are the number of rows and columns:"
      ]
    },
    {
      "cell_type": "code",
      "metadata": {
        "id": "_ZqlXxFC3AJI",
        "colab_type": "code",
        "colab": {
          "base_uri": "https://localhost:8080/",
          "height": 34
        },
        "outputId": "4d674ec1-9a42-4297-c127-9b7fd8c332ca"
      },
      "source": [
        "\n",
        "gss.shape"
      ],
      "execution_count": 5,
      "outputs": [
        {
          "output_type": "execute_result",
          "data": {
            "text/plain": [
              "(49290, 6)"
            ]
          },
          "metadata": {
            "tags": []
          },
          "execution_count": 5
        }
      ]
    },
    {
      "cell_type": "markdown",
      "metadata": {
        "id": "ehDlobrW3AJQ",
        "colab_type": "text"
      },
      "source": [
        "And here are the first few rows:"
      ]
    },
    {
      "cell_type": "code",
      "metadata": {
        "id": "dFg5VmIO3AJT",
        "colab_type": "code",
        "colab": {
          "base_uri": "https://localhost:8080/",
          "height": 235
        },
        "outputId": "626419fb-0a28-4d44-80fa-0f4b6a81db44"
      },
      "source": [
        "gss.head()"
      ],
      "execution_count": 6,
      "outputs": [
        {
          "output_type": "execute_result",
          "data": {
            "text/html": [
              "<div>\n",
              "<style scoped>\n",
              "    .dataframe tbody tr th:only-of-type {\n",
              "        vertical-align: middle;\n",
              "    }\n",
              "\n",
              "    .dataframe tbody tr th {\n",
              "        vertical-align: top;\n",
              "    }\n",
              "\n",
              "    .dataframe thead th {\n",
              "        text-align: right;\n",
              "    }\n",
              "</style>\n",
              "<table border=\"1\" class=\"dataframe\">\n",
              "  <thead>\n",
              "    <tr style=\"text-align: right;\">\n",
              "      <th></th>\n",
              "      <th>year</th>\n",
              "      <th>age</th>\n",
              "      <th>sex</th>\n",
              "      <th>polviews</th>\n",
              "      <th>partyid</th>\n",
              "      <th>indus10</th>\n",
              "    </tr>\n",
              "    <tr>\n",
              "      <th>caseid</th>\n",
              "      <th></th>\n",
              "      <th></th>\n",
              "      <th></th>\n",
              "      <th></th>\n",
              "      <th></th>\n",
              "      <th></th>\n",
              "    </tr>\n",
              "  </thead>\n",
              "  <tbody>\n",
              "    <tr>\n",
              "      <th>1</th>\n",
              "      <td>1974</td>\n",
              "      <td>21.0</td>\n",
              "      <td>1</td>\n",
              "      <td>4.0</td>\n",
              "      <td>2.0</td>\n",
              "      <td>4970.0</td>\n",
              "    </tr>\n",
              "    <tr>\n",
              "      <th>2</th>\n",
              "      <td>1974</td>\n",
              "      <td>41.0</td>\n",
              "      <td>1</td>\n",
              "      <td>5.0</td>\n",
              "      <td>0.0</td>\n",
              "      <td>9160.0</td>\n",
              "    </tr>\n",
              "    <tr>\n",
              "      <th>5</th>\n",
              "      <td>1974</td>\n",
              "      <td>58.0</td>\n",
              "      <td>2</td>\n",
              "      <td>6.0</td>\n",
              "      <td>1.0</td>\n",
              "      <td>2670.0</td>\n",
              "    </tr>\n",
              "    <tr>\n",
              "      <th>6</th>\n",
              "      <td>1974</td>\n",
              "      <td>30.0</td>\n",
              "      <td>1</td>\n",
              "      <td>5.0</td>\n",
              "      <td>4.0</td>\n",
              "      <td>6870.0</td>\n",
              "    </tr>\n",
              "    <tr>\n",
              "      <th>7</th>\n",
              "      <td>1974</td>\n",
              "      <td>48.0</td>\n",
              "      <td>1</td>\n",
              "      <td>5.0</td>\n",
              "      <td>4.0</td>\n",
              "      <td>7860.0</td>\n",
              "    </tr>\n",
              "  </tbody>\n",
              "</table>\n",
              "</div>"
            ],
            "text/plain": [
              "        year   age  sex  polviews  partyid  indus10\n",
              "caseid                                             \n",
              "1       1974  21.0    1       4.0      2.0   4970.0\n",
              "2       1974  41.0    1       5.0      0.0   9160.0\n",
              "5       1974  58.0    2       6.0      1.0   2670.0\n",
              "6       1974  30.0    1       5.0      4.0   6870.0\n",
              "7       1974  48.0    1       5.0      4.0   7860.0"
            ]
          },
          "metadata": {
            "tags": []
          },
          "execution_count": 6
        }
      ]
    },
    {
      "cell_type": "markdown",
      "metadata": {
        "id": "Akif9sRB3AJb",
        "colab_type": "text"
      },
      "source": [
        "The columns are\n",
        "\n",
        "* `caseid`: Respondent id (which is the index of the table).\n",
        "\n",
        "* `year`: Year when the respondent was surveyed.\n",
        "\n",
        "* `age`: Respondent's age when surveyed.\n",
        "\n",
        "* `sex`: Male or female.\n",
        "\n",
        "* `polviews`: Political views on a range from liberal to conservative.\n",
        "\n",
        "* `partyid`: Political party affiliation, Democrat, Independent, or Republican.\n",
        "\n",
        "* `indus10`: [Code](https://www.census.gov/cgi-bin/sssd/naics/naicsrch?chart=2007) for the industry the respondent works in.\n",
        "\n",
        "Let's look at these variables in more detail, starting with `indus10`."
      ]
    },
    {
      "cell_type": "markdown",
      "metadata": {
        "id": "_4ZUCOaJ3AJd",
        "colab_type": "text"
      },
      "source": [
        "## Banking\n",
        "\n",
        "The code for \"Banking and related activities\" is 6870, so we can select bankers like this:"
      ]
    },
    {
      "cell_type": "code",
      "metadata": {
        "id": "mM2nfcRe3AJg",
        "colab_type": "code",
        "colab": {}
      },
      "source": [
        "banker = (gss['indus10'] == 6870)"
      ],
      "execution_count": 0,
      "outputs": []
    },
    {
      "cell_type": "markdown",
      "metadata": {
        "id": "56gncCf53AJp",
        "colab_type": "text"
      },
      "source": [
        "The result is a Boolean series, which is a Pandas Series that contains the values `True` and `False`.  Here are the first few entries:"
      ]
    },
    {
      "cell_type": "code",
      "metadata": {
        "id": "RoMQqLIZ3AJs",
        "colab_type": "code",
        "colab": {
          "base_uri": "https://localhost:8080/",
          "height": 136
        },
        "outputId": "ed936a77-1f07-44e5-aeef-a5e2b4acebd7"
      },
      "source": [
        "banker.head()"
      ],
      "execution_count": 8,
      "outputs": [
        {
          "output_type": "execute_result",
          "data": {
            "text/plain": [
              "caseid\n",
              "1    False\n",
              "2    False\n",
              "5    False\n",
              "6     True\n",
              "7    False\n",
              "Name: indus10, dtype: bool"
            ]
          },
          "metadata": {
            "tags": []
          },
          "execution_count": 8
        }
      ]
    },
    {
      "cell_type": "markdown",
      "metadata": {
        "id": "7De_KaCv3AJ2",
        "colab_type": "text"
      },
      "source": [
        "We can use `values` to see how many times each value appears."
      ]
    },
    {
      "cell_type": "code",
      "metadata": {
        "id": "uuqxhZWU3AJ4",
        "colab_type": "code",
        "colab": {
          "base_uri": "https://localhost:8080/",
          "height": 142
        },
        "outputId": "f85fb5fa-6085-461e-9442-a3d790643057"
      },
      "source": [
        "values(banker)"
      ],
      "execution_count": 9,
      "outputs": [
        {
          "output_type": "execute_result",
          "data": {
            "text/html": [
              "<div>\n",
              "<style scoped>\n",
              "    .dataframe tbody tr th:only-of-type {\n",
              "        vertical-align: middle;\n",
              "    }\n",
              "\n",
              "    .dataframe tbody tr th {\n",
              "        vertical-align: top;\n",
              "    }\n",
              "\n",
              "    .dataframe thead th {\n",
              "        text-align: right;\n",
              "    }\n",
              "</style>\n",
              "<table border=\"1\" class=\"dataframe\">\n",
              "  <thead>\n",
              "    <tr style=\"text-align: right;\">\n",
              "      <th></th>\n",
              "      <th>counts</th>\n",
              "    </tr>\n",
              "    <tr>\n",
              "      <th>values</th>\n",
              "      <th></th>\n",
              "    </tr>\n",
              "  </thead>\n",
              "  <tbody>\n",
              "    <tr>\n",
              "      <th>False</th>\n",
              "      <td>48562</td>\n",
              "    </tr>\n",
              "    <tr>\n",
              "      <th>True</th>\n",
              "      <td>728</td>\n",
              "    </tr>\n",
              "  </tbody>\n",
              "</table>\n",
              "</div>"
            ],
            "text/plain": [
              "        counts\n",
              "values        \n",
              "False    48562\n",
              "True       728"
            ]
          },
          "metadata": {
            "tags": []
          },
          "execution_count": 9
        }
      ]
    },
    {
      "cell_type": "markdown",
      "metadata": {
        "id": "gH_UQnLu3AKA",
        "colab_type": "text"
      },
      "source": [
        "In this dataset, there are 728 bankers.\n",
        "\n",
        "If we use the `sum` function on this Series, it treats `True` as 1 and `False` as 0, so the total is the number of bankers."
      ]
    },
    {
      "cell_type": "code",
      "metadata": {
        "id": "VfWmh-Gz3AKC",
        "colab_type": "code",
        "colab": {
          "base_uri": "https://localhost:8080/",
          "height": 34
        },
        "outputId": "d22e09d7-5a85-45af-bb35-dab1618aaa0d"
      },
      "source": [
        "banker.sum()"
      ],
      "execution_count": 10,
      "outputs": [
        {
          "output_type": "execute_result",
          "data": {
            "text/plain": [
              "728"
            ]
          },
          "metadata": {
            "tags": []
          },
          "execution_count": 10
        }
      ]
    },
    {
      "cell_type": "markdown",
      "metadata": {
        "id": "zHbjqoyl3AKK",
        "colab_type": "text"
      },
      "source": [
        "To compute the *fraction* of bankers, we can divide by the number of people in the dataset:"
      ]
    },
    {
      "cell_type": "code",
      "metadata": {
        "id": "yC2szuCu3AKN",
        "colab_type": "code",
        "colab": {
          "base_uri": "https://localhost:8080/",
          "height": 34
        },
        "outputId": "b09542f2-37e3-4a93-d7ff-38e7d93d3877"
      },
      "source": [
        "banker.sum() / banker.size"
      ],
      "execution_count": 11,
      "outputs": [
        {
          "output_type": "execute_result",
          "data": {
            "text/plain": [
              "0.014769730168391155"
            ]
          },
          "metadata": {
            "tags": []
          },
          "execution_count": 11
        }
      ]
    },
    {
      "cell_type": "markdown",
      "metadata": {
        "id": "d0vzY5093AKU",
        "colab_type": "text"
      },
      "source": [
        "But we can also use the `mean` function, which computes the fraction of `True` values in the Series:"
      ]
    },
    {
      "cell_type": "code",
      "metadata": {
        "id": "zX97Rs_h3AKX",
        "colab_type": "code",
        "colab": {
          "base_uri": "https://localhost:8080/",
          "height": 34
        },
        "outputId": "a9faab28-298f-4c08-fae9-94ad3161acf9"
      },
      "source": [
        "banker.mean()"
      ],
      "execution_count": 12,
      "outputs": [
        {
          "output_type": "execute_result",
          "data": {
            "text/plain": [
              "0.014769730168391155"
            ]
          },
          "metadata": {
            "tags": []
          },
          "execution_count": 12
        }
      ]
    },
    {
      "cell_type": "markdown",
      "metadata": {
        "id": "Apd65-KZ3AKd",
        "colab_type": "text"
      },
      "source": [
        "About 1.5% of the respondents work in banking.\n",
        "\n",
        "That means if we choose a random person from the dataset, the probability they are a banker is about 1.5%."
      ]
    },
    {
      "cell_type": "markdown",
      "metadata": {
        "id": "TLKxKW-y3AKe",
        "colab_type": "text"
      },
      "source": [
        "**Exercise**: The values of the column `sex` are encoded like this:\n",
        "\n",
        "```\n",
        "1    Male\n",
        "2    Female\n",
        "```\n",
        "\n",
        "The following cell creates a Boolean series that is `True` for female respondents and `False` otherwise."
      ]
    },
    {
      "cell_type": "code",
      "metadata": {
        "id": "RKY0ayS13AKh",
        "colab_type": "code",
        "colab": {}
      },
      "source": [
        "female = (gss['sex'] == 2)"
      ],
      "execution_count": 0,
      "outputs": []
    },
    {
      "cell_type": "markdown",
      "metadata": {
        "id": "naqCJv2i3AKn",
        "colab_type": "text"
      },
      "source": [
        "* Use `values` to display the number of `True` and `False` values in `female`.\n",
        "\n",
        "* Use `sum` to count the number of female respondents.\n",
        "\n",
        "* Use `mean` to compute the fraction of female respondents."
      ]
    },
    {
      "cell_type": "code",
      "metadata": {
        "id": "6cQIn5Dc3AKp",
        "colab_type": "code",
        "colab": {
          "base_uri": "https://localhost:8080/",
          "height": 142
        },
        "outputId": "b6c25e3d-ac58-4efb-a462-f9e567aa62cb"
      },
      "source": [
        "# Solution goes here\n",
        "values(female)"
      ],
      "execution_count": 16,
      "outputs": [
        {
          "output_type": "execute_result",
          "data": {
            "text/html": [
              "<div>\n",
              "<style scoped>\n",
              "    .dataframe tbody tr th:only-of-type {\n",
              "        vertical-align: middle;\n",
              "    }\n",
              "\n",
              "    .dataframe tbody tr th {\n",
              "        vertical-align: top;\n",
              "    }\n",
              "\n",
              "    .dataframe thead th {\n",
              "        text-align: right;\n",
              "    }\n",
              "</style>\n",
              "<table border=\"1\" class=\"dataframe\">\n",
              "  <thead>\n",
              "    <tr style=\"text-align: right;\">\n",
              "      <th></th>\n",
              "      <th>counts</th>\n",
              "    </tr>\n",
              "    <tr>\n",
              "      <th>values</th>\n",
              "      <th></th>\n",
              "    </tr>\n",
              "  </thead>\n",
              "  <tbody>\n",
              "    <tr>\n",
              "      <th>False</th>\n",
              "      <td>22779</td>\n",
              "    </tr>\n",
              "    <tr>\n",
              "      <th>True</th>\n",
              "      <td>26511</td>\n",
              "    </tr>\n",
              "  </tbody>\n",
              "</table>\n",
              "</div>"
            ],
            "text/plain": [
              "        counts\n",
              "values        \n",
              "False    22779\n",
              "True     26511"
            ]
          },
          "metadata": {
            "tags": []
          },
          "execution_count": 16
        }
      ]
    },
    {
      "cell_type": "code",
      "metadata": {
        "id": "ggVBWVY33AKw",
        "colab_type": "code",
        "colab": {
          "base_uri": "https://localhost:8080/",
          "height": 34
        },
        "outputId": "c7119fe3-15ec-4029-a819-78de7fc47952"
      },
      "source": [
        "# Solution goes here\n",
        "female.sum()"
      ],
      "execution_count": 18,
      "outputs": [
        {
          "output_type": "execute_result",
          "data": {
            "text/plain": [
              "26511"
            ]
          },
          "metadata": {
            "tags": []
          },
          "execution_count": 18
        }
      ]
    },
    {
      "cell_type": "code",
      "metadata": {
        "id": "uyAyfe8Z3AK3",
        "colab_type": "code",
        "colab": {
          "base_uri": "https://localhost:8080/",
          "height": 34
        },
        "outputId": "e0cdaab6-9bd6-47f9-bfbd-a80d0de9b230"
      },
      "source": [
        "# Solution goes here\n",
        "female.mean()\n"
      ],
      "execution_count": 19,
      "outputs": [
        {
          "output_type": "execute_result",
          "data": {
            "text/plain": [
              "0.5378575776019476"
            ]
          },
          "metadata": {
            "tags": []
          },
          "execution_count": 19
        }
      ]
    },
    {
      "cell_type": "markdown",
      "metadata": {
        "id": "Idkt7JtR3ALB",
        "colab_type": "text"
      },
      "source": [
        "The fraction of women in this dataset is higher than in the adult U.S. population because [the GSS does not include people living in institutions](https://gss.norc.org/faq), including prisons and military housing, and those populations are more likely to be male."
      ]
    },
    {
      "cell_type": "markdown",
      "metadata": {
        "id": "FbPr-kXh3ALD",
        "colab_type": "text"
      },
      "source": [
        "**Exercise:** The designers of the General Social Survey chose to represent sex as a binary variable.  What alternatives might they have considered?  What are the advantages and disadvantages of their choice?\n",
        "\n",
        "For more on this topic, you might be interested in this article: Westbrook and Saperstein, [New categories are not enough: rethinking the measurement of sex and gender in social surveys](https://sci-hub.tw/10.1177/0891243215584758)"
      ]
    },
    {
      "cell_type": "markdown",
      "metadata": {
        "id": "MWnijLp07qRo",
        "colab_type": "text"
      },
      "source": [
        "They could have documented assigned sex at birth from identified gender, provided additional options for nonbinary and/or intersex folks, done some sort of non-categorical mapping to represent gender as a spectrum (though that could also get complicated if trying to depart from a binary). Adding sections beyond just assigned sex at birth and gender identified with would add additional complexity, but it would also provide a full and valid representation of the gender makeup of the sample.\n",
        "\n"
      ]
    },
    {
      "cell_type": "markdown",
      "metadata": {
        "id": "V5EgSTm23ALF",
        "colab_type": "text"
      },
      "source": [
        "## Political views\n",
        "\n",
        "The values of `polviews` are on a seven-point scale:\n",
        "\n",
        "```\n",
        "1\tExtremely liberal\n",
        "2\tLiberal\n",
        "3\tSlightly liberal\n",
        "4\tModerate\n",
        "5\tSlightly conservative\n",
        "6\tConservative\n",
        "7\tExtremely conservative\n",
        "```\n",
        "\n",
        "Here are the number of people who gave each response:"
      ]
    },
    {
      "cell_type": "code",
      "metadata": {
        "id": "ULWJNPN_3ALH",
        "colab_type": "code",
        "colab": {
          "base_uri": "https://localhost:8080/",
          "height": 297
        },
        "outputId": "d6b6d71b-ae23-45f4-b148-8c4619963b20"
      },
      "source": [
        "values(gss['polviews'])"
      ],
      "execution_count": 24,
      "outputs": [
        {
          "output_type": "execute_result",
          "data": {
            "text/html": [
              "<div>\n",
              "<style scoped>\n",
              "    .dataframe tbody tr th:only-of-type {\n",
              "        vertical-align: middle;\n",
              "    }\n",
              "\n",
              "    .dataframe tbody tr th {\n",
              "        vertical-align: top;\n",
              "    }\n",
              "\n",
              "    .dataframe thead th {\n",
              "        text-align: right;\n",
              "    }\n",
              "</style>\n",
              "<table border=\"1\" class=\"dataframe\">\n",
              "  <thead>\n",
              "    <tr style=\"text-align: right;\">\n",
              "      <th></th>\n",
              "      <th>counts</th>\n",
              "    </tr>\n",
              "    <tr>\n",
              "      <th>values</th>\n",
              "      <th></th>\n",
              "    </tr>\n",
              "  </thead>\n",
              "  <tbody>\n",
              "    <tr>\n",
              "      <th>1.0</th>\n",
              "      <td>1442</td>\n",
              "    </tr>\n",
              "    <tr>\n",
              "      <th>2.0</th>\n",
              "      <td>5808</td>\n",
              "    </tr>\n",
              "    <tr>\n",
              "      <th>3.0</th>\n",
              "      <td>6243</td>\n",
              "    </tr>\n",
              "    <tr>\n",
              "      <th>4.0</th>\n",
              "      <td>18943</td>\n",
              "    </tr>\n",
              "    <tr>\n",
              "      <th>5.0</th>\n",
              "      <td>7940</td>\n",
              "    </tr>\n",
              "    <tr>\n",
              "      <th>6.0</th>\n",
              "      <td>7319</td>\n",
              "    </tr>\n",
              "    <tr>\n",
              "      <th>7.0</th>\n",
              "      <td>1595</td>\n",
              "    </tr>\n",
              "  </tbody>\n",
              "</table>\n",
              "</div>"
            ],
            "text/plain": [
              "        counts\n",
              "values        \n",
              "1.0       1442\n",
              "2.0       5808\n",
              "3.0       6243\n",
              "4.0      18943\n",
              "5.0       7940\n",
              "6.0       7319\n",
              "7.0       1595"
            ]
          },
          "metadata": {
            "tags": []
          },
          "execution_count": 24
        }
      ]
    },
    {
      "cell_type": "markdown",
      "metadata": {
        "id": "POKt_Njr3ALM",
        "colab_type": "text"
      },
      "source": [
        "I'll define `liberal` to be `True` for anyone whose response is \"Extremely liberal\", \"Liberal\", or \"Slightly liberal\"."
      ]
    },
    {
      "cell_type": "code",
      "metadata": {
        "id": "jk9DwRaR3ALN",
        "colab_type": "code",
        "colab": {}
      },
      "source": [
        "liberal = (gss['polviews'] < 4)"
      ],
      "execution_count": 0,
      "outputs": []
    },
    {
      "cell_type": "markdown",
      "metadata": {
        "id": "KDY5_2Bx3ALQ",
        "colab_type": "text"
      },
      "source": [
        "Here are the number of `True` and `False` values:"
      ]
    },
    {
      "cell_type": "code",
      "metadata": {
        "id": "xmp1zP2u3ALS",
        "colab_type": "code",
        "colab": {
          "base_uri": "https://localhost:8080/",
          "height": 142
        },
        "outputId": "6b872a5a-8f70-4c60-94e3-d8e252cf4a3f"
      },
      "source": [
        "values(liberal)"
      ],
      "execution_count": 26,
      "outputs": [
        {
          "output_type": "execute_result",
          "data": {
            "text/html": [
              "<div>\n",
              "<style scoped>\n",
              "    .dataframe tbody tr th:only-of-type {\n",
              "        vertical-align: middle;\n",
              "    }\n",
              "\n",
              "    .dataframe tbody tr th {\n",
              "        vertical-align: top;\n",
              "    }\n",
              "\n",
              "    .dataframe thead th {\n",
              "        text-align: right;\n",
              "    }\n",
              "</style>\n",
              "<table border=\"1\" class=\"dataframe\">\n",
              "  <thead>\n",
              "    <tr style=\"text-align: right;\">\n",
              "      <th></th>\n",
              "      <th>counts</th>\n",
              "    </tr>\n",
              "    <tr>\n",
              "      <th>values</th>\n",
              "      <th></th>\n",
              "    </tr>\n",
              "  </thead>\n",
              "  <tbody>\n",
              "    <tr>\n",
              "      <th>False</th>\n",
              "      <td>35797</td>\n",
              "    </tr>\n",
              "    <tr>\n",
              "      <th>True</th>\n",
              "      <td>13493</td>\n",
              "    </tr>\n",
              "  </tbody>\n",
              "</table>\n",
              "</div>"
            ],
            "text/plain": [
              "        counts\n",
              "values        \n",
              "False    35797\n",
              "True     13493"
            ]
          },
          "metadata": {
            "tags": []
          },
          "execution_count": 26
        }
      ]
    },
    {
      "cell_type": "markdown",
      "metadata": {
        "id": "KdzzLUXn3ALZ",
        "colab_type": "text"
      },
      "source": [
        "And the fraction of respondents who are \"liberal\"."
      ]
    },
    {
      "cell_type": "code",
      "metadata": {
        "id": "sTH0b4aw3ALa",
        "colab_type": "code",
        "colab": {
          "base_uri": "https://localhost:8080/",
          "height": 34
        },
        "outputId": "8ede900e-6907-4461-d16f-a76596ee9b09"
      },
      "source": [
        "liberal.mean()"
      ],
      "execution_count": 27,
      "outputs": [
        {
          "output_type": "execute_result",
          "data": {
            "text/plain": [
              "0.27374721038750255"
            ]
          },
          "metadata": {
            "tags": []
          },
          "execution_count": 27
        }
      ]
    },
    {
      "cell_type": "markdown",
      "metadata": {
        "id": "jhn2F5_i3ALh",
        "colab_type": "text"
      },
      "source": [
        "If we choose a random person in this dataset, the probability they are liberal is about 27%."
      ]
    },
    {
      "cell_type": "markdown",
      "metadata": {
        "id": "JS7uRUZ_3ALk",
        "colab_type": "text"
      },
      "source": [
        "## The probability function\n",
        "\n",
        "To summarize what we have done so far:\n",
        "\n",
        "* To represent a logical proposition like \"this respondent is liberal\", we are using a Boolean series, which contains the values `True` and `False`.\n",
        "\n",
        "* To compute the probability that a proposition is true, we are using the `mean` function, which computes the fraction of `True` values in a series.\n",
        "\n",
        "To make this computation more explicit, I'll define a function that takes a Boolean series and returns a probability:"
      ]
    },
    {
      "cell_type": "code",
      "metadata": {
        "id": "XGyguXra3ALn",
        "colab_type": "code",
        "colab": {}
      },
      "source": [
        "def prob(A):\n",
        "    \"\"\"Computes the probability of a proposition, A.\n",
        "    \n",
        "    A: Boolean series\n",
        "    \n",
        "    returns: probability\n",
        "    \"\"\"\n",
        "    assert isinstance(A, pd.Series)\n",
        "    assert A.dtype == 'bool'\n",
        "    \n",
        "    return A.mean()"
      ],
      "execution_count": 0,
      "outputs": []
    },
    {
      "cell_type": "markdown",
      "metadata": {
        "id": "0-AAqBSC3ALu",
        "colab_type": "text"
      },
      "source": [
        "The `assert` statements check whether `A` is a Boolean series.  If not, they display an error message.\n",
        "\n",
        "Using this function to compute probabilities makes the code more readable.  Here are the probabilities for the propositions we have computed so far."
      ]
    },
    {
      "cell_type": "code",
      "metadata": {
        "id": "Oscv52sr3ALx",
        "colab_type": "code",
        "colab": {
          "base_uri": "https://localhost:8080/",
          "height": 34
        },
        "outputId": "1a534e60-4453-4ff5-f88e-d9759fba0c44"
      },
      "source": [
        "prob(banker)"
      ],
      "execution_count": 29,
      "outputs": [
        {
          "output_type": "execute_result",
          "data": {
            "text/plain": [
              "0.014769730168391155"
            ]
          },
          "metadata": {
            "tags": []
          },
          "execution_count": 29
        }
      ]
    },
    {
      "cell_type": "code",
      "metadata": {
        "id": "wWEbuiTq3AL4",
        "colab_type": "code",
        "colab": {
          "base_uri": "https://localhost:8080/",
          "height": 34
        },
        "outputId": "d329ed69-9260-4519-a1ad-9f63569aa4b9"
      },
      "source": [
        "prob(female)"
      ],
      "execution_count": 30,
      "outputs": [
        {
          "output_type": "execute_result",
          "data": {
            "text/plain": [
              "0.5378575776019476"
            ]
          },
          "metadata": {
            "tags": []
          },
          "execution_count": 30
        }
      ]
    },
    {
      "cell_type": "code",
      "metadata": {
        "id": "qNvv2xw33AL-",
        "colab_type": "code",
        "colab": {
          "base_uri": "https://localhost:8080/",
          "height": 34
        },
        "outputId": "bacb93c3-a5c9-492c-fc4c-d803ba0e131f"
      },
      "source": [
        "prob(liberal)"
      ],
      "execution_count": 31,
      "outputs": [
        {
          "output_type": "execute_result",
          "data": {
            "text/plain": [
              "0.27374721038750255"
            ]
          },
          "metadata": {
            "tags": []
          },
          "execution_count": 31
        }
      ]
    },
    {
      "cell_type": "markdown",
      "metadata": {
        "id": "WruKP1PJ3AMJ",
        "colab_type": "text"
      },
      "source": [
        "**Exercise**: The values of `partyid` are encoded like this:\n",
        "\n",
        "```\n",
        "0\tStrong democrat\n",
        "1\tNot str democrat\n",
        "2\tInd,near dem\n",
        "3\tIndependent\n",
        "4\tInd,near rep\n",
        "5\tNot str republican\n",
        "6\tStrong republican\n",
        "7\tOther party\n",
        "```\n",
        "\n",
        "I'll define `democrat` to include respondents who chose \"Strong democrat\" or \"Not str democrat\":"
      ]
    },
    {
      "cell_type": "code",
      "metadata": {
        "id": "k6OAmFbN3AMO",
        "colab_type": "code",
        "colab": {}
      },
      "source": [
        "democrat = (gss['partyid'] <= 1)"
      ],
      "execution_count": 0,
      "outputs": []
    },
    {
      "cell_type": "markdown",
      "metadata": {
        "id": "wbsDXRD73AMU",
        "colab_type": "text"
      },
      "source": [
        "* Use `mean` to compute the fraction of Democrats in this dataset.\n",
        "\n",
        "* Use `prob` to compute the same fraction, which we will think of as a probability."
      ]
    },
    {
      "cell_type": "code",
      "metadata": {
        "id": "82r13OmD3AMX",
        "colab_type": "code",
        "colab": {
          "base_uri": "https://localhost:8080/",
          "height": 34
        },
        "outputId": "702c62fa-0a68-434d-e6b4-76f4e2ee39cc"
      },
      "source": [
        "# Solution goes here\n",
        "democrat.mean()"
      ],
      "execution_count": 35,
      "outputs": [
        {
          "output_type": "execute_result",
          "data": {
            "text/plain": [
              "0.3662609048488537"
            ]
          },
          "metadata": {
            "tags": []
          },
          "execution_count": 35
        }
      ]
    },
    {
      "cell_type": "code",
      "metadata": {
        "id": "zxubGdCO3AMe",
        "colab_type": "code",
        "colab": {
          "base_uri": "https://localhost:8080/",
          "height": 34
        },
        "outputId": "2ff21fdc-0d12-4b58-aa36-7fd743a091f3"
      },
      "source": [
        "# Solution goes here\n",
        "prob(democrat)"
      ],
      "execution_count": 36,
      "outputs": [
        {
          "output_type": "execute_result",
          "data": {
            "text/plain": [
              "0.3662609048488537"
            ]
          },
          "metadata": {
            "tags": []
          },
          "execution_count": 36
        }
      ]
    },
    {
      "cell_type": "markdown",
      "metadata": {
        "id": "afKKdW703AMr",
        "colab_type": "text"
      },
      "source": [
        "## Conjunction\n",
        "\n",
        "Now that we have a definition of probability and a function that computes it, let's move on to conjunction.\n",
        "\n",
        "\"Conjunction\" is another name for the logical `and` operation.  If you have two propositions, `A` and `B`, the conjunction `A and B` is `True` if both `A` and `B` are `True`, and `False` otherwise.\n",
        "\n",
        "I'll demonstrate using two Boolean series constructed to enumerate every combination of `True` and `False`:"
      ]
    },
    {
      "cell_type": "code",
      "metadata": {
        "id": "kjo00y5u3AMt",
        "colab_type": "code",
        "colab": {
          "base_uri": "https://localhost:8080/",
          "height": 102
        },
        "outputId": "ae3971c4-1973-4e73-95d6-89d89fed3fcb"
      },
      "source": [
        "A = pd.Series((True, True, False, False))\n",
        "A"
      ],
      "execution_count": 37,
      "outputs": [
        {
          "output_type": "execute_result",
          "data": {
            "text/plain": [
              "0     True\n",
              "1     True\n",
              "2    False\n",
              "3    False\n",
              "dtype: bool"
            ]
          },
          "metadata": {
            "tags": []
          },
          "execution_count": 37
        }
      ]
    },
    {
      "cell_type": "code",
      "metadata": {
        "id": "o7dYgZCK3AM0",
        "colab_type": "code",
        "colab": {
          "base_uri": "https://localhost:8080/",
          "height": 102
        },
        "outputId": "682450a7-a05f-422f-ab58-4fbe8b87beb8"
      },
      "source": [
        "B = pd.Series((True, False, True, False))\n",
        "B"
      ],
      "execution_count": 38,
      "outputs": [
        {
          "output_type": "execute_result",
          "data": {
            "text/plain": [
              "0     True\n",
              "1    False\n",
              "2     True\n",
              "3    False\n",
              "dtype: bool"
            ]
          },
          "metadata": {
            "tags": []
          },
          "execution_count": 38
        }
      ]
    },
    {
      "cell_type": "markdown",
      "metadata": {
        "id": "qSxWJxJ53ANO",
        "colab_type": "text"
      },
      "source": [
        "To compute the conjunction of `A` and `B`, we can use the `&` operator, like this:"
      ]
    },
    {
      "cell_type": "code",
      "metadata": {
        "id": "TVRDCqv-3ANQ",
        "colab_type": "code",
        "colab": {
          "base_uri": "https://localhost:8080/",
          "height": 102
        },
        "outputId": "16411660-c538-46a6-be14-dfea2cfc8242"
      },
      "source": [
        "A & B"
      ],
      "execution_count": 39,
      "outputs": [
        {
          "output_type": "execute_result",
          "data": {
            "text/plain": [
              "0     True\n",
              "1    False\n",
              "2    False\n",
              "3    False\n",
              "dtype: bool"
            ]
          },
          "metadata": {
            "tags": []
          },
          "execution_count": 39
        }
      ]
    },
    {
      "cell_type": "markdown",
      "metadata": {
        "id": "zi5lQMRL3ANV",
        "colab_type": "text"
      },
      "source": [
        "The result is `True` only when `A` and `B` are `True`.\n",
        "\n",
        "To show this operation more clearly, I'll put the operands and the result in a DataFrame:"
      ]
    },
    {
      "cell_type": "code",
      "metadata": {
        "id": "S-SMyhX13ANX",
        "colab_type": "code",
        "colab": {
          "base_uri": "https://localhost:8080/",
          "height": 173
        },
        "outputId": "297f875d-b920-4e83-c838-d80a4583e945"
      },
      "source": [
        "table = pd.DataFrame()\n",
        "table['A'] = A\n",
        "table['B'] = B\n",
        "table['A & B'] = A & B\n",
        "table"
      ],
      "execution_count": 40,
      "outputs": [
        {
          "output_type": "execute_result",
          "data": {
            "text/html": [
              "<div>\n",
              "<style scoped>\n",
              "    .dataframe tbody tr th:only-of-type {\n",
              "        vertical-align: middle;\n",
              "    }\n",
              "\n",
              "    .dataframe tbody tr th {\n",
              "        vertical-align: top;\n",
              "    }\n",
              "\n",
              "    .dataframe thead th {\n",
              "        text-align: right;\n",
              "    }\n",
              "</style>\n",
              "<table border=\"1\" class=\"dataframe\">\n",
              "  <thead>\n",
              "    <tr style=\"text-align: right;\">\n",
              "      <th></th>\n",
              "      <th>A</th>\n",
              "      <th>B</th>\n",
              "      <th>A &amp; B</th>\n",
              "    </tr>\n",
              "  </thead>\n",
              "  <tbody>\n",
              "    <tr>\n",
              "      <th>0</th>\n",
              "      <td>True</td>\n",
              "      <td>True</td>\n",
              "      <td>True</td>\n",
              "    </tr>\n",
              "    <tr>\n",
              "      <th>1</th>\n",
              "      <td>True</td>\n",
              "      <td>False</td>\n",
              "      <td>False</td>\n",
              "    </tr>\n",
              "    <tr>\n",
              "      <th>2</th>\n",
              "      <td>False</td>\n",
              "      <td>True</td>\n",
              "      <td>False</td>\n",
              "    </tr>\n",
              "    <tr>\n",
              "      <th>3</th>\n",
              "      <td>False</td>\n",
              "      <td>False</td>\n",
              "      <td>False</td>\n",
              "    </tr>\n",
              "  </tbody>\n",
              "</table>\n",
              "</div>"
            ],
            "text/plain": [
              "       A      B  A & B\n",
              "0   True   True   True\n",
              "1   True  False  False\n",
              "2  False   True  False\n",
              "3  False  False  False"
            ]
          },
          "metadata": {
            "tags": []
          },
          "execution_count": 40
        }
      ]
    },
    {
      "cell_type": "markdown",
      "metadata": {
        "id": "kbOg4EnE3ANa",
        "colab_type": "text"
      },
      "source": [
        "This way of representing a logical operation is called a [truth table](https://en.wikipedia.org/wiki/Truth_table).\n",
        "\n",
        "In a previous section, we computed the probability that a random respondent is a banker:"
      ]
    },
    {
      "cell_type": "code",
      "metadata": {
        "id": "57ft-LRA3ANb",
        "colab_type": "code",
        "colab": {
          "base_uri": "https://localhost:8080/",
          "height": 34
        },
        "outputId": "027787db-8172-4223-f114-00b47b8644ef"
      },
      "source": [
        "prob(banker)"
      ],
      "execution_count": 41,
      "outputs": [
        {
          "output_type": "execute_result",
          "data": {
            "text/plain": [
              "0.014769730168391155"
            ]
          },
          "metadata": {
            "tags": []
          },
          "execution_count": 41
        }
      ]
    },
    {
      "cell_type": "markdown",
      "metadata": {
        "id": "Q2M3LPK03ANq",
        "colab_type": "text"
      },
      "source": [
        "And the probability that a respondent is a Democrat:"
      ]
    },
    {
      "cell_type": "code",
      "metadata": {
        "id": "Z9DX9t673ANv",
        "colab_type": "code",
        "colab": {
          "base_uri": "https://localhost:8080/",
          "height": 34
        },
        "outputId": "83380dff-3a3c-44b1-ce1e-e8e23c1f61a6"
      },
      "source": [
        "prob(democrat)"
      ],
      "execution_count": 42,
      "outputs": [
        {
          "output_type": "execute_result",
          "data": {
            "text/plain": [
              "0.3662609048488537"
            ]
          },
          "metadata": {
            "tags": []
          },
          "execution_count": 42
        }
      ]
    },
    {
      "cell_type": "markdown",
      "metadata": {
        "id": "wIAnyzYm3AN0",
        "colab_type": "text"
      },
      "source": [
        "Now we can compute the probability that a random respondent is a banker *and* a Democrat:"
      ]
    },
    {
      "cell_type": "code",
      "metadata": {
        "id": "JDFZq9ZG3AN1",
        "colab_type": "code",
        "colab": {
          "base_uri": "https://localhost:8080/",
          "height": 34
        },
        "outputId": "8fddcdf6-6c01-43f7-8f97-a6f9fdab88b5"
      },
      "source": [
        "prob(banker & democrat)"
      ],
      "execution_count": 43,
      "outputs": [
        {
          "output_type": "execute_result",
          "data": {
            "text/plain": [
              "0.004686548995739501"
            ]
          },
          "metadata": {
            "tags": []
          },
          "execution_count": 43
        }
      ]
    },
    {
      "cell_type": "markdown",
      "metadata": {
        "id": "csfMIh4G3AN5",
        "colab_type": "text"
      },
      "source": [
        "As we should expect, `prob(banker & democrat)` is less than `prob(banker)`, because not all bankers are Democrats."
      ]
    },
    {
      "cell_type": "markdown",
      "metadata": {
        "id": "NB-txxBI3AN_",
        "colab_type": "text"
      },
      "source": [
        "**Exercise:** Use `prob` and the `&` operator to compute the following probabilities.\n",
        "\n",
        "* What is the probability that a random respondent is a banker and liberal?\n",
        "\n",
        "* What is the probability that a random respondent is female, a banker, and liberal?\n",
        "\n",
        "* What is the probability that a random respondent is female, a banker, and a liberal Democrat?\n",
        "\n",
        "Notice that as we add more conjunctions, the probabilities get smaller."
      ]
    },
    {
      "cell_type": "code",
      "metadata": {
        "id": "Z0pSaW6p3AOA",
        "colab_type": "code",
        "colab": {
          "base_uri": "https://localhost:8080/",
          "height": 34
        },
        "outputId": "cd0d55e6-d9f4-47fe-f9f5-a8bb4140c2cd"
      },
      "source": [
        "# Solution goes here\n",
        "prob(banker & liberal)"
      ],
      "execution_count": 44,
      "outputs": [
        {
          "output_type": "execute_result",
          "data": {
            "text/plain": [
              "0.003306958815175492"
            ]
          },
          "metadata": {
            "tags": []
          },
          "execution_count": 44
        }
      ]
    },
    {
      "cell_type": "code",
      "metadata": {
        "id": "K3qBmtI23AOH",
        "colab_type": "code",
        "colab": {
          "base_uri": "https://localhost:8080/",
          "height": 34
        },
        "outputId": "ba94a02d-4973-4d8a-bf9b-f5fa3d45ad9b"
      },
      "source": [
        "# Solution goes here\n",
        "prob(female & banker & liberal)"
      ],
      "execution_count": 45,
      "outputs": [
        {
          "output_type": "execute_result",
          "data": {
            "text/plain": [
              "0.002556299452221546"
            ]
          },
          "metadata": {
            "tags": []
          },
          "execution_count": 45
        }
      ]
    },
    {
      "cell_type": "code",
      "metadata": {
        "id": "lrL5KFyU3AOL",
        "colab_type": "code",
        "colab": {
          "base_uri": "https://localhost:8080/",
          "height": 34
        },
        "outputId": "6f37ba74-4fa1-4678-fa67-0b37110956c7"
      },
      "source": [
        "# Solution goes here\n",
        "prob(female & banker & liberal & democrat)"
      ],
      "execution_count": 46,
      "outputs": [
        {
          "output_type": "execute_result",
          "data": {
            "text/plain": [
              "0.0012375735443294787"
            ]
          },
          "metadata": {
            "tags": []
          },
          "execution_count": 46
        }
      ]
    },
    {
      "cell_type": "markdown",
      "metadata": {
        "id": "6tudMyis3AOQ",
        "colab_type": "text"
      },
      "source": [
        "**Exercise:** We expect conjunction to be commutative; that is, `A & B` should be the same as `B & A`.\n",
        "\n",
        "To check, compute these two probabilies:\n",
        "\n",
        "* What is the probability that a random respondent is a banker and liberal?\n",
        "* What is the probability that a random respondent is liberal and a banker?"
      ]
    },
    {
      "cell_type": "code",
      "metadata": {
        "id": "xnHorLrE3AOW",
        "colab_type": "code",
        "colab": {
          "base_uri": "https://localhost:8080/",
          "height": 34
        },
        "outputId": "4df513d7-aaa5-43ec-daf3-fb51de9e2d69"
      },
      "source": [
        "prob(banker & liberal)"
      ],
      "execution_count": 47,
      "outputs": [
        {
          "output_type": "execute_result",
          "data": {
            "text/plain": [
              "0.003306958815175492"
            ]
          },
          "metadata": {
            "tags": []
          },
          "execution_count": 47
        }
      ]
    },
    {
      "cell_type": "code",
      "metadata": {
        "id": "n6K20iFy3AOd",
        "colab_type": "code",
        "colab": {
          "base_uri": "https://localhost:8080/",
          "height": 34
        },
        "outputId": "3342fc9c-5990-41d9-a9c8-1f8a87af0f06"
      },
      "source": [
        "prob(liberal & banker)"
      ],
      "execution_count": 48,
      "outputs": [
        {
          "output_type": "execute_result",
          "data": {
            "text/plain": [
              "0.003306958815175492"
            ]
          },
          "metadata": {
            "tags": []
          },
          "execution_count": 48
        }
      ]
    },
    {
      "cell_type": "markdown",
      "metadata": {
        "id": "oJtnl9C03AOh",
        "colab_type": "text"
      },
      "source": [
        "If they are not the same, something has gone very wrong!"
      ]
    },
    {
      "cell_type": "markdown",
      "metadata": {
        "id": "MOeno4cO3AOi",
        "colab_type": "text"
      },
      "source": [
        "## Conditional probability\n",
        "\n",
        "Conditional probability is a probability that depends on a condition, but that might not be the most helpful definition.  Here are some examples:\n",
        "\n",
        "* What is the probability that a respondent is a Democrat, given that they are liberal?\n",
        "\n",
        "* What is the probability that a respondent is female, given that they are a banker?\n",
        "\n",
        "* What is the probability that a respondent is liberal, given that they are female?\n",
        "\n",
        "Let's start with the first one, which we can interpret like this: \"Of all the respondents who are liberal, what fraction are Democrats?\"\n",
        "\n",
        "We can compute this probability in two steps:\n",
        "\n",
        "1. Select all respondents who are liberal.\n",
        "\n",
        "2. Compute the fraction of the selected respondents who are Democrats.\n",
        "\n",
        "To select liberal respondents, we can use the bracket operator, `[]`, like this:"
      ]
    },
    {
      "cell_type": "code",
      "metadata": {
        "id": "Bxu9ojT53AOk",
        "colab_type": "code",
        "colab": {}
      },
      "source": [
        "selected = democrat[liberal]"
      ],
      "execution_count": 0,
      "outputs": []
    },
    {
      "cell_type": "markdown",
      "metadata": {
        "id": "8hLVA8yh3AOo",
        "colab_type": "text"
      },
      "source": [
        "The result is a Boolean series that contains a subset of the values in `democrat`.  Specifically, it contains only the values where `liberal` is `True`.\n",
        "\n",
        "To confirm that, let's check the length of the result:"
      ]
    },
    {
      "cell_type": "code",
      "metadata": {
        "id": "q-NCNCwd3AOq",
        "colab_type": "code",
        "colab": {
          "base_uri": "https://localhost:8080/",
          "height": 34
        },
        "outputId": "b35b19e4-0fb9-480e-95b2-09c4037da589"
      },
      "source": [
        "len(selected)"
      ],
      "execution_count": 50,
      "outputs": [
        {
          "output_type": "execute_result",
          "data": {
            "text/plain": [
              "13493"
            ]
          },
          "metadata": {
            "tags": []
          },
          "execution_count": 50
        }
      ]
    },
    {
      "cell_type": "markdown",
      "metadata": {
        "id": "Y60aHy7e3AOx",
        "colab_type": "text"
      },
      "source": [
        "If things have gone according to plan, that should be the same as the number of `True` values in `liberal`:"
      ]
    },
    {
      "cell_type": "code",
      "metadata": {
        "id": "PE-W1MQX3AOz",
        "colab_type": "code",
        "colab": {
          "base_uri": "https://localhost:8080/",
          "height": 34
        },
        "outputId": "c18febf8-12ff-446b-f069-e7ee8f1419e9"
      },
      "source": [
        "liberal.sum()"
      ],
      "execution_count": 51,
      "outputs": [
        {
          "output_type": "execute_result",
          "data": {
            "text/plain": [
              "13493"
            ]
          },
          "metadata": {
            "tags": []
          },
          "execution_count": 51
        }
      ]
    },
    {
      "cell_type": "markdown",
      "metadata": {
        "id": "MVXXOECe3AO4",
        "colab_type": "text"
      },
      "source": [
        "Good.  \n",
        "\n",
        "`selected` contains the value of `democrat` for liberal respondents, so the mean of `selected` is the fraction of liberals who are Democrats:"
      ]
    },
    {
      "cell_type": "code",
      "metadata": {
        "id": "Qdg4LycZ3AO5",
        "colab_type": "code",
        "colab": {
          "base_uri": "https://localhost:8080/",
          "height": 34
        },
        "outputId": "9af8ea50-cd32-4d61-9ca2-494791708525"
      },
      "source": [
        "selected.mean()"
      ],
      "execution_count": 52,
      "outputs": [
        {
          "output_type": "execute_result",
          "data": {
            "text/plain": [
              "0.5206403320240125"
            ]
          },
          "metadata": {
            "tags": []
          },
          "execution_count": 52
        }
      ]
    },
    {
      "cell_type": "markdown",
      "metadata": {
        "id": "Avgz_7zV3APA",
        "colab_type": "text"
      },
      "source": [
        "A little more than half of liberals are Democrats.  If the result is lower than you expected, keep in mind:\n",
        "\n",
        "1. We used a somewhat strict definition of \"Democrat\", excluding Independents who \"lean\" democratic.\n",
        "\n",
        "2. The dataset includes respondents as far back as 1974; in the early part of this interval, there was less alignment between political views and party affiliation, compared to the present."
      ]
    },
    {
      "cell_type": "markdown",
      "metadata": {
        "id": "G1l07GaB3APD",
        "colab_type": "text"
      },
      "source": [
        "Let's try the second example, \"What is the probability that a respondent is female, given that they are a banker?\"\n",
        "\n",
        "We can interpret that to mean, \"Of all respondents who are bankers, what fraction are female?\"\n",
        "\n",
        "Again, we'll use the bracket operator to select only the bankers:"
      ]
    },
    {
      "cell_type": "code",
      "metadata": {
        "id": "J80oxfqw3APE",
        "colab_type": "code",
        "colab": {
          "base_uri": "https://localhost:8080/",
          "height": 34
        },
        "outputId": "d5bfb07c-5de3-4dec-b078-05ea55fd4b47"
      },
      "source": [
        "selected = female[banker]\n",
        "len(selected)"
      ],
      "execution_count": 53,
      "outputs": [
        {
          "output_type": "execute_result",
          "data": {
            "text/plain": [
              "728"
            ]
          },
          "metadata": {
            "tags": []
          },
          "execution_count": 53
        }
      ]
    },
    {
      "cell_type": "markdown",
      "metadata": {
        "id": "Gpb5ZRns3APK",
        "colab_type": "text"
      },
      "source": [
        "As we've seen, there are 728 bankers in the dataset.\n",
        "\n",
        "Now we can use `mean` to compute the conditional probability that a respondent is female, given that they are a banker:"
      ]
    },
    {
      "cell_type": "code",
      "metadata": {
        "id": "SMfs4F3K3APM",
        "colab_type": "code",
        "colab": {
          "base_uri": "https://localhost:8080/",
          "height": 34
        },
        "outputId": "28012ffb-23e1-48c4-cd0b-dd3c3051a0f8"
      },
      "source": [
        "selected.mean()"
      ],
      "execution_count": 54,
      "outputs": [
        {
          "output_type": "execute_result",
          "data": {
            "text/plain": [
              "0.7706043956043956"
            ]
          },
          "metadata": {
            "tags": []
          },
          "execution_count": 54
        }
      ]
    },
    {
      "cell_type": "markdown",
      "metadata": {
        "id": "e3zlJj243APS",
        "colab_type": "text"
      },
      "source": [
        "About 77% of the bankers in this dataset are female.\n",
        "\n",
        "We can get the same result using `prob`:"
      ]
    },
    {
      "cell_type": "code",
      "metadata": {
        "id": "BM7vvR6L3APT",
        "colab_type": "code",
        "colab": {
          "base_uri": "https://localhost:8080/",
          "height": 34
        },
        "outputId": "02b09609-4479-4909-830b-af51c8a07750"
      },
      "source": [
        "prob(selected)"
      ],
      "execution_count": 55,
      "outputs": [
        {
          "output_type": "execute_result",
          "data": {
            "text/plain": [
              "0.7706043956043956"
            ]
          },
          "metadata": {
            "tags": []
          },
          "execution_count": 55
        }
      ]
    },
    {
      "cell_type": "markdown",
      "metadata": {
        "id": "I5keVmKa3APW",
        "colab_type": "text"
      },
      "source": [
        "Remember that we defined `prob` to make the code easier to read.  We can do the same thing with conditional probability.\n",
        "\n",
        "I'll define `conditional` to take two Boolean series, `A` and `B`, and compute the conditional probability of `A` given `B`:"
      ]
    },
    {
      "cell_type": "code",
      "metadata": {
        "id": "Uy14OJsW3APY",
        "colab_type": "code",
        "colab": {}
      },
      "source": [
        "def conditional(A, B):\n",
        "    \"\"\"Conditional probability of A given B.\n",
        "    \n",
        "    A: Boolean series\n",
        "    B: Boolean series\n",
        "    \n",
        "    returns: probability\n",
        "    \"\"\"\n",
        "    return prob(A[B])"
      ],
      "execution_count": 0,
      "outputs": []
    },
    {
      "cell_type": "markdown",
      "metadata": {
        "id": "HmtwRHM83APi",
        "colab_type": "text"
      },
      "source": [
        "Now we can use it to compute the probability that a liberal is a Democrat:"
      ]
    },
    {
      "cell_type": "code",
      "metadata": {
        "id": "TmzLKm8o3APj",
        "colab_type": "code",
        "colab": {
          "base_uri": "https://localhost:8080/",
          "height": 34
        },
        "outputId": "d2eab32b-d7f5-4428-efa7-46f1fc5bbaac"
      },
      "source": [
        "conditional(democrat, liberal)"
      ],
      "execution_count": 57,
      "outputs": [
        {
          "output_type": "execute_result",
          "data": {
            "text/plain": [
              "0.5206403320240125"
            ]
          },
          "metadata": {
            "tags": []
          },
          "execution_count": 57
        }
      ]
    },
    {
      "cell_type": "markdown",
      "metadata": {
        "id": "JxjIJrq-3APo",
        "colab_type": "text"
      },
      "source": [
        "And the probability that a banker is female:"
      ]
    },
    {
      "cell_type": "code",
      "metadata": {
        "id": "TjNXiuRm3APq",
        "colab_type": "code",
        "colab": {
          "base_uri": "https://localhost:8080/",
          "height": 34
        },
        "outputId": "dc0593e6-f137-443c-ae6c-f9bbd1305783"
      },
      "source": [
        "conditional(female, banker)"
      ],
      "execution_count": 58,
      "outputs": [
        {
          "output_type": "execute_result",
          "data": {
            "text/plain": [
              "0.7706043956043956"
            ]
          },
          "metadata": {
            "tags": []
          },
          "execution_count": 58
        }
      ]
    },
    {
      "cell_type": "markdown",
      "metadata": {
        "id": "9edR2d-Y3APu",
        "colab_type": "text"
      },
      "source": [
        "The results are the same as what we computed above."
      ]
    },
    {
      "cell_type": "markdown",
      "metadata": {
        "id": "F2cFZGWA3APw",
        "colab_type": "text"
      },
      "source": [
        "**Exercise:** Use `conditional` to compute the probability that a respondent is liberal given that they are female.\n",
        "\n",
        "Hint: The answer should be less than 30%.  If your answer is about 54%, you have made a mistake (see the next exercise).\n"
      ]
    },
    {
      "cell_type": "code",
      "metadata": {
        "id": "7V9hSZ6V3APx",
        "colab_type": "code",
        "colab": {
          "base_uri": "https://localhost:8080/",
          "height": 34
        },
        "outputId": "5b72cec8-57a1-40d0-c170-305421902ec4"
      },
      "source": [
        "# Solution goes here\n",
        "conditional(liberal, female)"
      ],
      "execution_count": 60,
      "outputs": [
        {
          "output_type": "execute_result",
          "data": {
            "text/plain": [
              "0.27581004111500884"
            ]
          },
          "metadata": {
            "tags": []
          },
          "execution_count": 60
        }
      ]
    },
    {
      "cell_type": "markdown",
      "metadata": {
        "id": "g0TQ1vpy3AP2",
        "colab_type": "text"
      },
      "source": [
        "**Exercise:**  In a previous exercise, we saw that conjunction is commutative; that is, `prob(A & B)` is always equal to `prob(B & A)`.\n",
        "\n",
        "But conditional probability is NOT commutative; that is, `conditional(A, B)` is not the same as `conditional(B, A)`.\n",
        "\n",
        "That should be clear if we look at an example.  Previously, we computed the probability a respondent is female, given that they are banker."
      ]
    },
    {
      "cell_type": "code",
      "metadata": {
        "id": "XLJJJNMi3AP4",
        "colab_type": "code",
        "colab": {
          "base_uri": "https://localhost:8080/",
          "height": 34
        },
        "outputId": "6b7cedb8-f714-43e2-84c2-d646ec60af73"
      },
      "source": [
        "conditional(female, banker)"
      ],
      "execution_count": 61,
      "outputs": [
        {
          "output_type": "execute_result",
          "data": {
            "text/plain": [
              "0.7706043956043956"
            ]
          },
          "metadata": {
            "tags": []
          },
          "execution_count": 61
        }
      ]
    },
    {
      "cell_type": "markdown",
      "metadata": {
        "id": "sdNbg4e13AQC",
        "colab_type": "text"
      },
      "source": [
        "The result shows that the majority of bankers are female.  That is not the same as the probability that a respondent is a banker, given that they are female:"
      ]
    },
    {
      "cell_type": "code",
      "metadata": {
        "id": "ygwGCpoG3AQD",
        "colab_type": "code",
        "colab": {
          "base_uri": "https://localhost:8080/",
          "height": 34
        },
        "outputId": "9e324869-a6bf-46cf-ad8b-e917c6216e7a"
      },
      "source": [
        "conditional(banker, female)"
      ],
      "execution_count": 62,
      "outputs": [
        {
          "output_type": "execute_result",
          "data": {
            "text/plain": [
              "0.02116102749801969"
            ]
          },
          "metadata": {
            "tags": []
          },
          "execution_count": 62
        }
      ]
    },
    {
      "cell_type": "markdown",
      "metadata": {
        "id": "RRGvaJ1w3AQK",
        "colab_type": "text"
      },
      "source": [
        "Only about 2% of female respondents are bankers."
      ]
    },
    {
      "cell_type": "markdown",
      "metadata": {
        "id": "NjLac-QX3AQL",
        "colab_type": "text"
      },
      "source": [
        "**Exercise:** Use `conditional` to compute the following probabilities:\n",
        "\n",
        "* What is the probability that a respondent is liberal, given that they are a Democrat?\n",
        "\n",
        "* What is the probability that a respondent is a Democrat, given that they are liberal?\n",
        "\n",
        "Think carefully about the order of the series you pass to `conditional`."
      ]
    },
    {
      "cell_type": "code",
      "metadata": {
        "id": "ie0W88hx3AQO",
        "colab_type": "code",
        "colab": {
          "base_uri": "https://localhost:8080/",
          "height": 34
        },
        "outputId": "b9328719-9c1b-49fa-c0d2-69c1093a3699"
      },
      "source": [
        "conditional(liberal, democrat)"
      ],
      "execution_count": 63,
      "outputs": [
        {
          "output_type": "execute_result",
          "data": {
            "text/plain": [
              "0.3891320002215698"
            ]
          },
          "metadata": {
            "tags": []
          },
          "execution_count": 63
        }
      ]
    },
    {
      "cell_type": "code",
      "metadata": {
        "id": "Ttewt1lJ3AQS",
        "colab_type": "code",
        "colab": {
          "base_uri": "https://localhost:8080/",
          "height": 34
        },
        "outputId": "d04fd071-7554-43e3-a5c0-c909776cbdbc"
      },
      "source": [
        "conditional(democrat, liberal)"
      ],
      "execution_count": 64,
      "outputs": [
        {
          "output_type": "execute_result",
          "data": {
            "text/plain": [
              "0.5206403320240125"
            ]
          },
          "metadata": {
            "tags": []
          },
          "execution_count": 64
        }
      ]
    },
    {
      "cell_type": "markdown",
      "metadata": {
        "id": "0moguJgA3AQW",
        "colab_type": "text"
      },
      "source": [
        "## Conditions and conjunctions\n",
        "\n",
        "We can combine conditional probability and conjunction.  For example, here's the probability a respondent is female, given that they are a liberal Democrat."
      ]
    },
    {
      "cell_type": "code",
      "metadata": {
        "id": "aJWyI8-k3AQY",
        "colab_type": "code",
        "colab": {
          "base_uri": "https://localhost:8080/",
          "height": 34
        },
        "outputId": "ee58bf64-7245-48ed-e69e-08dcf2c88183"
      },
      "source": [
        "conditional(female, liberal & democrat)"
      ],
      "execution_count": 65,
      "outputs": [
        {
          "output_type": "execute_result",
          "data": {
            "text/plain": [
              "0.576085409252669"
            ]
          },
          "metadata": {
            "tags": []
          },
          "execution_count": 65
        }
      ]
    },
    {
      "cell_type": "markdown",
      "metadata": {
        "id": "-A_VgiBz3AQh",
        "colab_type": "text"
      },
      "source": [
        "Almost 57% of liberal Democrats are female.\n",
        "\n",
        "And here's the probability they are a liberal female, given that they are a banker:"
      ]
    },
    {
      "cell_type": "code",
      "metadata": {
        "id": "6-IaVOwI3AQh",
        "colab_type": "code",
        "colab": {
          "base_uri": "https://localhost:8080/",
          "height": 34
        },
        "outputId": "eec27684-e9d2-4f64-ca39-88305801318f"
      },
      "source": [
        "conditional(liberal & female, banker)"
      ],
      "execution_count": 66,
      "outputs": [
        {
          "output_type": "execute_result",
          "data": {
            "text/plain": [
              "0.17307692307692307"
            ]
          },
          "metadata": {
            "tags": []
          },
          "execution_count": 66
        }
      ]
    },
    {
      "cell_type": "markdown",
      "metadata": {
        "id": "4_1EcuCv3AQo",
        "colab_type": "text"
      },
      "source": [
        "About 17% of bankers are liberal women."
      ]
    },
    {
      "cell_type": "markdown",
      "metadata": {
        "id": "U3JyW8VC3AQo",
        "colab_type": "text"
      },
      "source": [
        "**Exercise:** What fraction of female bankers are liberal Democrats?\n",
        "\n",
        "Hint: If your answer is less than 1%, you have it backwards.  Remember that conditional probability is not commutative."
      ]
    },
    {
      "cell_type": "code",
      "metadata": {
        "id": "ZQatBb2F3AQp",
        "colab_type": "code",
        "colab": {
          "base_uri": "https://localhost:8080/",
          "height": 34
        },
        "outputId": "56789ee0-5d62-4687-b756-6bc67582e974"
      },
      "source": [
        "# Solution goes here\n",
        "conditional(liberal & democrat, female & banker)"
      ],
      "execution_count": 68,
      "outputs": [
        {
          "output_type": "execute_result",
          "data": {
            "text/plain": [
              "0.10873440285204991"
            ]
          },
          "metadata": {
            "tags": []
          },
          "execution_count": 68
        }
      ]
    },
    {
      "cell_type": "markdown",
      "metadata": {
        "id": "HvgNbW1_3AQs",
        "colab_type": "text"
      },
      "source": [
        "## Summary\n",
        "\n",
        "At this point, you should understand the definition of probability, at least in the simple case where we have a finite dataset.  Later we will consider cases where the definition of probability is more controversial.\n",
        "\n",
        "And you should understand conjunction and conditional probability.  In the next notebook, we will explore the relationship between conjunction and conditional probability, and use it to derive Bayes's Theorem, which is the foundation of Bayesian statistics."
      ]
    },
    {
      "cell_type": "code",
      "metadata": {
        "id": "DqzZP8-53AQt",
        "colab_type": "code",
        "colab": {}
      },
      "source": [
        ""
      ],
      "execution_count": 0,
      "outputs": []
    }
  ]
}