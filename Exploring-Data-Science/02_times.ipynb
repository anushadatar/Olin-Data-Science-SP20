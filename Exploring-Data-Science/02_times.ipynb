{
  "nbformat": 4,
  "nbformat_minor": 0,
  "metadata": {
    "kernelspec": {
      "display_name": "Python 3",
      "language": "python",
      "name": "python3"
    },
    "language_info": {
      "codemirror_mode": {
        "name": "ipython",
        "version": 3
      },
      "file_extension": ".py",
      "mimetype": "text/x-python",
      "name": "python",
      "nbconvert_exporter": "python",
      "pygments_lexer": "ipython3",
      "version": "3.7.4"
    },
    "colab": {
      "name": "Copy of 02_times.ipynb",
      "provenance": [],
      "collapsed_sections": [],
      "include_colab_link": true
    }
  },
  "cells": [
    {
      "cell_type": "markdown",
      "metadata": {
        "id": "view-in-github",
        "colab_type": "text"
      },
      "source": [
        "<a href=\"https://colab.research.google.com/github/anushadatar/Olin-Data-Science-SP20/blob/master/02_times.ipynb\" target=\"_parent\"><img src=\"https://colab.research.google.com/assets/colab-badge.svg\" alt=\"Open In Colab\"/></a>"
      ]
    },
    {
      "cell_type": "markdown",
      "metadata": {
        "id": "6hwWxHwlvtMs",
        "colab_type": "text"
      },
      "source": [
        "# Times and places\n",
        "\n",
        "Elements of Data Science\n",
        "\n",
        "by [Allen Downey](https://allendowney.com)\n",
        "\n",
        "[MIT License](https://opensource.org/licenses/MIT)\n",
        "\n",
        "### Goals\n",
        "\n",
        "In the previous notebook, you learned about variables and two kinds of values: integers and floating-point numbers.\n",
        "\n",
        "In this notebook, you'll see some additional types:\n",
        "\n",
        "* Strings, which contain sequences of letters, are used to represent text data.\n",
        "\n",
        "* Timestamp values are used to represent dates and times.\n",
        "\n",
        "* And several ways to represent and display geographical locations.\n",
        "\n",
        "Not every data science project uses all of these types, but many projects use at least one."
      ]
    },
    {
      "cell_type": "markdown",
      "metadata": {
        "id": "r6xyk9w9vtM0",
        "colab_type": "text"
      },
      "source": [
        "### A note\n",
        "\n",
        "In these notebooks, I generally try to define terms when they are first used, and to explain the code examples as we go along.\n",
        "\n",
        "However, there are a few places where I provide code with the expectation that you will not understand all of the details yet.  When that happens, I'll explain what you should or should not understand.\n",
        "\n",
        "If you are able to do the exercises, that probably means you are understanding what you need to understand."
      ]
    },
    {
      "cell_type": "markdown",
      "metadata": {
        "id": "2ZtpXPwPvtM5",
        "colab_type": "text"
      },
      "source": [
        "## Strings\n",
        "\n",
        "A **string** is a sequence of letters, numbers, and punctuation marks.\n",
        "\n",
        "In Python you can create a string by typing letters between single or double quotation marks."
      ]
    },
    {
      "cell_type": "code",
      "metadata": {
        "id": "8h3VzdfwvtM-",
        "colab_type": "code",
        "colab": {
          "base_uri": "https://localhost:8080/",
          "height": 35
        },
        "outputId": "2ddbdde6-1037-48c3-eb9f-e2b7eaa68b98"
      },
      "source": [
        "'Data'"
      ],
      "execution_count": 1,
      "outputs": [
        {
          "output_type": "execute_result",
          "data": {
            "text/plain": [
              "'Data'"
            ]
          },
          "metadata": {
            "tags": []
          },
          "execution_count": 1
        }
      ]
    },
    {
      "cell_type": "code",
      "metadata": {
        "id": "xMBg7c6bvtNf",
        "colab_type": "code",
        "colab": {
          "base_uri": "https://localhost:8080/",
          "height": 35
        },
        "outputId": "4b121631-84fd-4869-d1eb-c1c1cb9c3f11"
      },
      "source": [
        "\"Science\""
      ],
      "execution_count": 2,
      "outputs": [
        {
          "output_type": "execute_result",
          "data": {
            "text/plain": [
              "'Science'"
            ]
          },
          "metadata": {
            "tags": []
          },
          "execution_count": 2
        }
      ]
    },
    {
      "cell_type": "markdown",
      "metadata": {
        "id": "cB_y94W7vtNv",
        "colab_type": "text"
      },
      "source": [
        "And you can assign string values to variables."
      ]
    },
    {
      "cell_type": "code",
      "metadata": {
        "id": "Zbfp0PuPvtN1",
        "colab_type": "code",
        "colab": {}
      },
      "source": [
        "first = 'Data'"
      ],
      "execution_count": 0,
      "outputs": []
    },
    {
      "cell_type": "code",
      "metadata": {
        "id": "ptt9EGqivtOC",
        "colab_type": "code",
        "colab": {}
      },
      "source": [
        "last = \"Science\""
      ],
      "execution_count": 0,
      "outputs": []
    },
    {
      "cell_type": "markdown",
      "metadata": {
        "id": "sOlX6heTvtOP",
        "colab_type": "text"
      },
      "source": [
        "Some arithmetic operators work with strings, but they might no do what you expect.  For example, the `+` operator \"concatenates\" two strings; that is, it creates a new string that contains the first string followed by the second string:"
      ]
    },
    {
      "cell_type": "code",
      "metadata": {
        "id": "G7KcZWh5vtOU",
        "colab_type": "code",
        "colab": {
          "base_uri": "https://localhost:8080/",
          "height": 35
        },
        "outputId": "4c912b64-fa20-4fcf-dfcc-99e6f2039cfd"
      },
      "source": [
        "first + last"
      ],
      "execution_count": 5,
      "outputs": [
        {
          "output_type": "execute_result",
          "data": {
            "text/plain": [
              "'DataScience'"
            ]
          },
          "metadata": {
            "tags": []
          },
          "execution_count": 5
        }
      ]
    },
    {
      "cell_type": "markdown",
      "metadata": {
        "id": "4mm-wWElvtOi",
        "colab_type": "text"
      },
      "source": [
        "If you want to put a space between the words, you can use a string that contains a space:"
      ]
    },
    {
      "cell_type": "code",
      "metadata": {
        "id": "iEenTQwmvtOn",
        "colab_type": "code",
        "colab": {
          "base_uri": "https://localhost:8080/",
          "height": 35
        },
        "outputId": "c273f945-6772-4fdf-b5f1-3e8f95b4b722"
      },
      "source": [
        "first + ' ' + last"
      ],
      "execution_count": 6,
      "outputs": [
        {
          "output_type": "execute_result",
          "data": {
            "text/plain": [
              "'Data Science'"
            ]
          },
          "metadata": {
            "tags": []
          },
          "execution_count": 6
        }
      ]
    },
    {
      "cell_type": "markdown",
      "metadata": {
        "id": "YJDmDVq9vtO0",
        "colab_type": "text"
      },
      "source": [
        "Strings are used to store text data like names, addresses, titles, etc.\n",
        "\n",
        "When you read data from a file, you might see values that look like numbers, but they are actually strings, like this:"
      ]
    },
    {
      "cell_type": "code",
      "metadata": {
        "id": "Bg8-jlgbvtO4",
        "colab_type": "code",
        "colab": {}
      },
      "source": [
        "not_actually_a_number = '123'"
      ],
      "execution_count": 0,
      "outputs": []
    },
    {
      "cell_type": "markdown",
      "metadata": {
        "id": "hmFWMCK0vtPG",
        "colab_type": "text"
      },
      "source": [
        "If you try to do math with these strings, you might get an error:"
      ]
    },
    {
      "cell_type": "code",
      "metadata": {
        "id": "H006CHlfvtPM",
        "colab_type": "code",
        "colab": {
          "base_uri": "https://localhost:8080/",
          "height": 168
        },
        "outputId": "3004e0d9-3319-43be-bc27-f238df4eb475"
      },
      "source": [
        "not_actually_a_number + 1"
      ],
      "execution_count": 8,
      "outputs": [
        {
          "output_type": "error",
          "ename": "TypeError",
          "evalue": "ignored",
          "traceback": [
            "\u001b[0;31m---------------------------------------------------------------------------\u001b[0m",
            "\u001b[0;31mTypeError\u001b[0m                                 Traceback (most recent call last)",
            "\u001b[0;32m<ipython-input-8-df4034e4ecd6>\u001b[0m in \u001b[0;36m<module>\u001b[0;34m()\u001b[0m\n\u001b[0;32m----> 1\u001b[0;31m \u001b[0mnot_actually_a_number\u001b[0m \u001b[0;34m+\u001b[0m \u001b[0;36m1\u001b[0m\u001b[0;34m\u001b[0m\u001b[0;34m\u001b[0m\u001b[0m\n\u001b[0m",
            "\u001b[0;31mTypeError\u001b[0m: must be str, not int"
          ]
        }
      ]
    },
    {
      "cell_type": "markdown",
      "metadata": {
        "id": "m-DtQL9jvtPa",
        "colab_type": "text"
      },
      "source": [
        "Or you might get a surprising result:"
      ]
    },
    {
      "cell_type": "code",
      "metadata": {
        "id": "Z0sHO1GXvtPe",
        "colab_type": "code",
        "colab": {
          "base_uri": "https://localhost:8080/",
          "height": 35
        },
        "outputId": "aee5d38e-f5b7-4170-d283-cf4edbf3d928"
      },
      "source": [
        "not_actually_a_number + '1'"
      ],
      "execution_count": 9,
      "outputs": [
        {
          "output_type": "execute_result",
          "data": {
            "text/plain": [
              "'1231'"
            ]
          },
          "metadata": {
            "tags": []
          },
          "execution_count": 9
        }
      ]
    },
    {
      "cell_type": "markdown",
      "metadata": {
        "id": "fHCLs-cjvtPu",
        "colab_type": "text"
      },
      "source": [
        "Fortunately, you can convert strings to numbers.\n",
        "\n",
        "If you have a string that contains only digits, you can convert it to an integer using the `int` function:"
      ]
    },
    {
      "cell_type": "code",
      "metadata": {
        "id": "pQsNKOKcvtPy",
        "colab_type": "code",
        "colab": {
          "base_uri": "https://localhost:8080/",
          "height": 35
        },
        "outputId": "1fb4a1d5-75c6-4013-b73d-af9e1515914f"
      },
      "source": [
        "int('123')"
      ],
      "execution_count": 10,
      "outputs": [
        {
          "output_type": "execute_result",
          "data": {
            "text/plain": [
              "123"
            ]
          },
          "metadata": {
            "tags": []
          },
          "execution_count": 10
        }
      ]
    },
    {
      "cell_type": "markdown",
      "metadata": {
        "id": "6zGk-sV9vtP_",
        "colab_type": "text"
      },
      "source": [
        "Or you can convert it to a floating-point number using `float`:"
      ]
    },
    {
      "cell_type": "code",
      "metadata": {
        "id": "akQGeVVMvtQD",
        "colab_type": "code",
        "colab": {
          "base_uri": "https://localhost:8080/",
          "height": 35
        },
        "outputId": "8b065648-7772-44e2-acb5-bd3ab6ce158f"
      },
      "source": [
        "float('123')"
      ],
      "execution_count": 11,
      "outputs": [
        {
          "output_type": "execute_result",
          "data": {
            "text/plain": [
              "123.0"
            ]
          },
          "metadata": {
            "tags": []
          },
          "execution_count": 11
        }
      ]
    },
    {
      "cell_type": "markdown",
      "metadata": {
        "id": "21sMMH9_vtQR",
        "colab_type": "text"
      },
      "source": [
        "But if the string contains a decimal point, you can't convert it to an `int`:"
      ]
    },
    {
      "cell_type": "code",
      "metadata": {
        "id": "12NC-5NDvtQX",
        "colab_type": "code",
        "colab": {
          "base_uri": "https://localhost:8080/",
          "height": 168
        },
        "outputId": "e0feec16-702b-462c-e3e1-8a8a03e4df90"
      },
      "source": [
        "int('12.3')"
      ],
      "execution_count": 12,
      "outputs": [
        {
          "output_type": "error",
          "ename": "ValueError",
          "evalue": "ignored",
          "traceback": [
            "\u001b[0;31m---------------------------------------------------------------------------\u001b[0m",
            "\u001b[0;31mValueError\u001b[0m                                Traceback (most recent call last)",
            "\u001b[0;32m<ipython-input-12-8c6d9d2b222e>\u001b[0m in \u001b[0;36m<module>\u001b[0;34m()\u001b[0m\n\u001b[0;32m----> 1\u001b[0;31m \u001b[0mint\u001b[0m\u001b[0;34m(\u001b[0m\u001b[0;34m'12.3'\u001b[0m\u001b[0;34m)\u001b[0m\u001b[0;34m\u001b[0m\u001b[0;34m\u001b[0m\u001b[0m\n\u001b[0m",
            "\u001b[0;31mValueError\u001b[0m: invalid literal for int() with base 10: '12.3'"
          ]
        }
      ]
    },
    {
      "cell_type": "markdown",
      "metadata": {
        "id": "Wf6tpsojvtQl",
        "colab_type": "text"
      },
      "source": [
        "Going in the other direction, you can convert almost any type of value to a string using `str`:"
      ]
    },
    {
      "cell_type": "code",
      "metadata": {
        "id": "Z-T2ecxAvtQp",
        "colab_type": "code",
        "colab": {
          "base_uri": "https://localhost:8080/",
          "height": 35
        },
        "outputId": "98005bac-5755-447c-886c-a274df04ce54"
      },
      "source": [
        "str(123)"
      ],
      "execution_count": 13,
      "outputs": [
        {
          "output_type": "execute_result",
          "data": {
            "text/plain": [
              "'123'"
            ]
          },
          "metadata": {
            "tags": []
          },
          "execution_count": 13
        }
      ]
    },
    {
      "cell_type": "code",
      "metadata": {
        "id": "MNN_aIx1vtQ2",
        "colab_type": "code",
        "colab": {
          "base_uri": "https://localhost:8080/",
          "height": 35
        },
        "outputId": "673a1a67-e7a3-46fa-8453-8a64596849a0"
      },
      "source": [
        "str(12.3)"
      ],
      "execution_count": 14,
      "outputs": [
        {
          "output_type": "execute_result",
          "data": {
            "text/plain": [
              "'12.3'"
            ]
          },
          "metadata": {
            "tags": []
          },
          "execution_count": 14
        }
      ]
    },
    {
      "cell_type": "markdown",
      "metadata": {
        "id": "HEyJ13OMvtRB",
        "colab_type": "text"
      },
      "source": [
        "**Exercise**: When personal names are stored in a database, they are usually stored in three variables: a given name, a family name, and sometimes a middle name.  For example, a list of great rock drummers might include:"
      ]
    },
    {
      "cell_type": "code",
      "metadata": {
        "id": "2n8DYl6PvtRF",
        "colab_type": "code",
        "colab": {}
      },
      "source": [
        "given = 'Neil'\n",
        "middle = 'Ellwood'\n",
        "family = 'Peart'"
      ],
      "execution_count": 0,
      "outputs": []
    },
    {
      "cell_type": "markdown",
      "metadata": {
        "id": "1Sfc_5v8vtRR",
        "colab_type": "text"
      },
      "source": [
        "But names are often displayed different ways in different contexts.  For example, the first time you mention someone in an article, you might give all three names, like \"Neil Ellwood Peart\".  But in the index of a book, you might put the family name first, like \"Peart, Neil Ellwood\".\n",
        "\n",
        "Write Python expressions that use the variables `given`, `middle`, and `family` to display Neil Peart's name in these two formats. "
      ]
    },
    {
      "cell_type": "code",
      "metadata": {
        "id": "ZBI6mCG8vtRU",
        "colab_type": "code",
        "colab": {
          "base_uri": "https://localhost:8080/",
          "height": 35
        },
        "outputId": "0b8e8727-80b7-4e40-839a-e75c4c8343c9"
      },
      "source": [
        "# Solution goes here\n",
        "given + ' ' + middle + ' ' + family"
      ],
      "execution_count": 17,
      "outputs": [
        {
          "output_type": "execute_result",
          "data": {
            "text/plain": [
              "'Neil Ellwood Peart'"
            ]
          },
          "metadata": {
            "tags": []
          },
          "execution_count": 17
        }
      ]
    },
    {
      "cell_type": "code",
      "metadata": {
        "id": "MH_FzBxhvtRj",
        "colab_type": "code",
        "colab": {
          "base_uri": "https://localhost:8080/",
          "height": 35
        },
        "outputId": "d7b29c1e-d70a-4ccf-84db-168b5b438c4f"
      },
      "source": [
        "# Solution goes here\n",
        "family + ', ' + given + ' ' + middle"
      ],
      "execution_count": 18,
      "outputs": [
        {
          "output_type": "execute_result",
          "data": {
            "text/plain": [
              "'Peart, Neil Ellwood'"
            ]
          },
          "metadata": {
            "tags": []
          },
          "execution_count": 18
        }
      ]
    },
    {
      "cell_type": "markdown",
      "metadata": {
        "id": "lm323mRfvtRu",
        "colab_type": "text"
      },
      "source": [
        "## Dates and times"
      ]
    },
    {
      "cell_type": "markdown",
      "metadata": {
        "id": "Yw2NHYq0vtRz",
        "colab_type": "text"
      },
      "source": [
        "If you read data from a file, you might also find that dates and times are represented with strings."
      ]
    },
    {
      "cell_type": "code",
      "metadata": {
        "id": "v8WkkRv4vtR3",
        "colab_type": "code",
        "colab": {}
      },
      "source": [
        "not_really_a_date = 'June 4, 1989'"
      ],
      "execution_count": 0,
      "outputs": []
    },
    {
      "cell_type": "markdown",
      "metadata": {
        "id": "lkWI9yrXvtSD",
        "colab_type": "text"
      },
      "source": [
        "To confirm that this value is a string, we can use the `type` function, which takes a value and reports its type."
      ]
    },
    {
      "cell_type": "code",
      "metadata": {
        "id": "YeScxn0cvtSH",
        "colab_type": "code",
        "colab": {
          "base_uri": "https://localhost:8080/",
          "height": 35
        },
        "outputId": "2c61f79b-e731-4b58-9d00-593ef721e6a1"
      },
      "source": [
        "type(not_really_a_date)"
      ],
      "execution_count": 20,
      "outputs": [
        {
          "output_type": "execute_result",
          "data": {
            "text/plain": [
              "str"
            ]
          },
          "metadata": {
            "tags": []
          },
          "execution_count": 20
        }
      ]
    },
    {
      "cell_type": "markdown",
      "metadata": {
        "id": "wtAQ_UGRvtST",
        "colab_type": "text"
      },
      "source": [
        "`str` indicates that the value of `not_really_a_date` is a string.\n",
        "\n",
        "We get the same result with `not_really_a_time`, below:"
      ]
    },
    {
      "cell_type": "code",
      "metadata": {
        "id": "5jprCCvzvtSZ",
        "colab_type": "code",
        "colab": {}
      },
      "source": [
        "not_really_a_time = '6:30:00'"
      ],
      "execution_count": 0,
      "outputs": []
    },
    {
      "cell_type": "code",
      "metadata": {
        "id": "nPniotPyvtSm",
        "colab_type": "code",
        "colab": {
          "base_uri": "https://localhost:8080/",
          "height": 35
        },
        "outputId": "72bccdec-1df2-476a-90fc-efaab341ee69"
      },
      "source": [
        "type(not_really_a_time)"
      ],
      "execution_count": 22,
      "outputs": [
        {
          "output_type": "execute_result",
          "data": {
            "text/plain": [
              "str"
            ]
          },
          "metadata": {
            "tags": []
          },
          "execution_count": 22
        }
      ]
    },
    {
      "cell_type": "markdown",
      "metadata": {
        "id": "spukkDL7vtSv",
        "colab_type": "text"
      },
      "source": [
        "Representing dates and times using strings provides human-readable values, but they are not useful for doing computation.\n",
        "\n",
        "Fortunately, Python provides libraries for working with date and time data; the one we'll use is called Pandas.\n",
        "\n",
        "As always, we have to import a library before we use it; it is conventional to import Pandas with the abbreviated name `pd`:"
      ]
    },
    {
      "cell_type": "code",
      "metadata": {
        "id": "DrBbbrKbvtSy",
        "colab_type": "code",
        "colab": {}
      },
      "source": [
        "import pandas as pd"
      ],
      "execution_count": 0,
      "outputs": []
    },
    {
      "cell_type": "markdown",
      "metadata": {
        "id": "5Hm4G5TvvtS9",
        "colab_type": "text"
      },
      "source": [
        "Pandas provides type called `Timestamp`, which represents a date and time.\n",
        "\n",
        "It also provides a function called `Timestamp`, which we can use to convert a string to a `Timestamp`:"
      ]
    },
    {
      "cell_type": "code",
      "metadata": {
        "id": "y7Frt6t-vtTE",
        "colab_type": "code",
        "colab": {
          "base_uri": "https://localhost:8080/",
          "height": 35
        },
        "outputId": "0efa83e3-001b-4d0a-d1c8-57e5f144ac86"
      },
      "source": [
        "pd.Timestamp('6:30:00')"
      ],
      "execution_count": 24,
      "outputs": [
        {
          "output_type": "execute_result",
          "data": {
            "text/plain": [
              "Timestamp('2020-01-23 06:30:00')"
            ]
          },
          "metadata": {
            "tags": []
          },
          "execution_count": 24
        }
      ]
    },
    {
      "cell_type": "markdown",
      "metadata": {
        "id": "O0vgvFGEvtTO",
        "colab_type": "text"
      },
      "source": [
        "Or we can do the same thing using the variable defined above."
      ]
    },
    {
      "cell_type": "code",
      "metadata": {
        "id": "Xy9ZI444vtTR",
        "colab_type": "code",
        "colab": {
          "base_uri": "https://localhost:8080/",
          "height": 35
        },
        "outputId": "fd15aad6-0651-4ab8-bee4-e3d2e2b570df"
      },
      "source": [
        "pd.Timestamp(not_really_a_time)"
      ],
      "execution_count": 25,
      "outputs": [
        {
          "output_type": "execute_result",
          "data": {
            "text/plain": [
              "Timestamp('2020-01-23 06:30:00')"
            ]
          },
          "metadata": {
            "tags": []
          },
          "execution_count": 25
        }
      ]
    },
    {
      "cell_type": "markdown",
      "metadata": {
        "id": "YHSD88nEvtTd",
        "colab_type": "text"
      },
      "source": [
        "In this example, the string specifies a time but no date, so Pandas fills in today's date.\n",
        "\n",
        "A `Timestamp` is a value, so you can assign it to a variable."
      ]
    },
    {
      "cell_type": "code",
      "metadata": {
        "id": "eWnKmcJMvtTg",
        "colab_type": "code",
        "colab": {
          "base_uri": "https://localhost:8080/",
          "height": 35
        },
        "outputId": "d1a8adcd-c3a1-47cc-d8af-b9fb9d94a93f"
      },
      "source": [
        "date_of_birth = pd.Timestamp('June 4, 1989')\n",
        "date_of_birth"
      ],
      "execution_count": 26,
      "outputs": [
        {
          "output_type": "execute_result",
          "data": {
            "text/plain": [
              "Timestamp('1989-06-04 00:00:00')"
            ]
          },
          "metadata": {
            "tags": []
          },
          "execution_count": 26
        }
      ]
    },
    {
      "cell_type": "markdown",
      "metadata": {
        "id": "nZ2WGMVOvtTr",
        "colab_type": "text"
      },
      "source": [
        "If the string specifies a date but no time, Pandas fills in midnight as the default time.\n",
        "\n",
        "If you assign the `Timestamp` to a variable, you can use the variable name to get the year, month, and day, like this:"
      ]
    },
    {
      "cell_type": "code",
      "metadata": {
        "id": "eyFODvgqvtTu",
        "colab_type": "code",
        "colab": {
          "base_uri": "https://localhost:8080/",
          "height": 35
        },
        "outputId": "e2f7d53b-b048-4eed-c21e-5abcee5be488"
      },
      "source": [
        "date_of_birth.year, date_of_birth.month, date_of_birth.day"
      ],
      "execution_count": 27,
      "outputs": [
        {
          "output_type": "execute_result",
          "data": {
            "text/plain": [
              "(1989, 6, 4)"
            ]
          },
          "metadata": {
            "tags": []
          },
          "execution_count": 27
        }
      ]
    },
    {
      "cell_type": "markdown",
      "metadata": {
        "id": "FUAclUFAvtT3",
        "colab_type": "text"
      },
      "source": [
        "You can also gets the name of the month and the day of the week."
      ]
    },
    {
      "cell_type": "code",
      "metadata": {
        "id": "R9BLK8RgvtT5",
        "colab_type": "code",
        "colab": {
          "base_uri": "https://localhost:8080/",
          "height": 35
        },
        "outputId": "5e3c2127-a0bb-4bbf-e1ce-9b2d3638a767"
      },
      "source": [
        "date_of_birth.day_name(), date_of_birth.month_name()"
      ],
      "execution_count": 28,
      "outputs": [
        {
          "output_type": "execute_result",
          "data": {
            "text/plain": [
              "('Sunday', 'June')"
            ]
          },
          "metadata": {
            "tags": []
          },
          "execution_count": 28
        }
      ]
    },
    {
      "cell_type": "markdown",
      "metadata": {
        "id": "ZEaDnfIgvtUF",
        "colab_type": "text"
      },
      "source": [
        "`Timestamp` provides a function called `now` that returns the current date and time."
      ]
    },
    {
      "cell_type": "code",
      "metadata": {
        "id": "1JpkDH8uvtUH",
        "colab_type": "code",
        "colab": {
          "base_uri": "https://localhost:8080/",
          "height": 35
        },
        "outputId": "83d0938a-52df-4451-911e-b55c812d87ea"
      },
      "source": [
        "now = pd.Timestamp.now()\n",
        "now"
      ],
      "execution_count": 29,
      "outputs": [
        {
          "output_type": "execute_result",
          "data": {
            "text/plain": [
              "Timestamp('2020-01-23 19:00:09.977915')"
            ]
          },
          "metadata": {
            "tags": []
          },
          "execution_count": 29
        }
      ]
    },
    {
      "cell_type": "markdown",
      "metadata": {
        "id": "jMequkdIvtUN",
        "colab_type": "text"
      },
      "source": [
        "**Exercise:** Use the value of `now` to display the name of the current month and day of the week."
      ]
    },
    {
      "cell_type": "code",
      "metadata": {
        "id": "c0GzQ7aovtUO",
        "colab_type": "code",
        "colab": {
          "base_uri": "https://localhost:8080/",
          "height": 35
        },
        "outputId": "19fb26cb-307d-4a1b-99fb-e434d2637f89"
      },
      "source": [
        "# Solution goes here\n",
        "now.month_name() + ' ' + now.day_name()"
      ],
      "execution_count": 34,
      "outputs": [
        {
          "output_type": "execute_result",
          "data": {
            "text/plain": [
              "'January Thursday'"
            ]
          },
          "metadata": {
            "tags": []
          },
          "execution_count": 34
        }
      ]
    },
    {
      "cell_type": "markdown",
      "metadata": {
        "id": "b7B2-8x_vtUU",
        "colab_type": "text"
      },
      "source": [
        "## Timedelta\n",
        "\n",
        "`Timestamp` values support some arithmetic operations.  For example, you can compute the difference between two `Timestamps`:"
      ]
    },
    {
      "cell_type": "code",
      "metadata": {
        "id": "_vVnMIkCvtUW",
        "colab_type": "code",
        "colab": {
          "base_uri": "https://localhost:8080/",
          "height": 35
        },
        "outputId": "f03aeaa9-ddc5-4b21-aa5e-8ab7e4932617"
      },
      "source": [
        "age = now - date_of_birth\n",
        "age"
      ],
      "execution_count": 35,
      "outputs": [
        {
          "output_type": "execute_result",
          "data": {
            "text/plain": [
              "Timedelta('11190 days 19:00:09.977915')"
            ]
          },
          "metadata": {
            "tags": []
          },
          "execution_count": 35
        }
      ]
    },
    {
      "cell_type": "markdown",
      "metadata": {
        "id": "Am5Ie4WhvtUa",
        "colab_type": "text"
      },
      "source": [
        "The result is a `Timedelta` that represents the current age of someone born on `date_of_birth`.\n",
        "\n",
        "The `Timedelta` contains `components` that store the number of days, hours, etc. between the two `Timestamp` values."
      ]
    },
    {
      "cell_type": "code",
      "metadata": {
        "id": "q7lTWJwivtUc",
        "colab_type": "code",
        "colab": {
          "base_uri": "https://localhost:8080/",
          "height": 35
        },
        "outputId": "851717c9-a2fd-46e2-a26b-e60e562e9800"
      },
      "source": [
        "age.components"
      ],
      "execution_count": 36,
      "outputs": [
        {
          "output_type": "execute_result",
          "data": {
            "text/plain": [
              "Components(days=11190, hours=19, minutes=0, seconds=9, milliseconds=977, microseconds=915, nanoseconds=0)"
            ]
          },
          "metadata": {
            "tags": []
          },
          "execution_count": 36
        }
      ]
    },
    {
      "cell_type": "markdown",
      "metadata": {
        "id": "vUqvmBvJvtUj",
        "colab_type": "text"
      },
      "source": [
        "You can get one of the components like this:"
      ]
    },
    {
      "cell_type": "code",
      "metadata": {
        "id": "lFkHWvB0vtUk",
        "colab_type": "code",
        "colab": {
          "base_uri": "https://localhost:8080/",
          "height": 35
        },
        "outputId": "37d1d403-3c91-4fe6-9e49-2eefa023d3b4"
      },
      "source": [
        "age.days"
      ],
      "execution_count": 37,
      "outputs": [
        {
          "output_type": "execute_result",
          "data": {
            "text/plain": [
              "11190"
            ]
          },
          "metadata": {
            "tags": []
          },
          "execution_count": 37
        }
      ]
    },
    {
      "cell_type": "markdown",
      "metadata": {
        "id": "Efw0rPmWvtUy",
        "colab_type": "text"
      },
      "source": [
        "The biggest component of `Timedelta` is days, not years, because days are well defined and years are problematic.\n",
        "\n",
        "Most years are 365 days, but some are 366.  The average calendar year is 365.24 days, which is a very good approximation of a solar year, [but it is not exact](https://pumas.jpl.nasa.gov/files/04_21_97_1.pdf).\n",
        "\n",
        "One way to compute age in years is to divide age in days by 365.24:"
      ]
    },
    {
      "cell_type": "code",
      "metadata": {
        "id": "Gw93_mKGvtU3",
        "colab_type": "code",
        "colab": {
          "base_uri": "https://localhost:8080/",
          "height": 35
        },
        "outputId": "e5336f61-9510-4e04-e46f-550a09123f07"
      },
      "source": [
        "age.days / 365.24"
      ],
      "execution_count": 38,
      "outputs": [
        {
          "output_type": "execute_result",
          "data": {
            "text/plain": [
              "30.637389114007227"
            ]
          },
          "metadata": {
            "tags": []
          },
          "execution_count": 38
        }
      ]
    },
    {
      "cell_type": "markdown",
      "metadata": {
        "id": "jyLO9gg1vtVB",
        "colab_type": "text"
      },
      "source": [
        "But people usually report their ages in integer years.  We can use the Numpy `floor` function to round down:"
      ]
    },
    {
      "cell_type": "code",
      "metadata": {
        "id": "Ez_6fB7ivtVD",
        "colab_type": "code",
        "colab": {
          "base_uri": "https://localhost:8080/",
          "height": 35
        },
        "outputId": "bbbb9f7e-b5ca-4172-f011-b8b39a6703e7"
      },
      "source": [
        "import numpy as np\n",
        "\n",
        "np.floor(age.days / 365.24)"
      ],
      "execution_count": 39,
      "outputs": [
        {
          "output_type": "execute_result",
          "data": {
            "text/plain": [
              "30.0"
            ]
          },
          "metadata": {
            "tags": []
          },
          "execution_count": 39
        }
      ]
    },
    {
      "cell_type": "markdown",
      "metadata": {
        "id": "AdRkr7OpvtVJ",
        "colab_type": "text"
      },
      "source": [
        "Or the `ceil` function (which stands for \"ceiling\") to round up:"
      ]
    },
    {
      "cell_type": "code",
      "metadata": {
        "id": "0Svun7A0vtVR",
        "colab_type": "code",
        "colab": {
          "base_uri": "https://localhost:8080/",
          "height": 35
        },
        "outputId": "5b26afcf-606c-4fd5-d131-aeb531028d22"
      },
      "source": [
        "np.ceil(age.days / 365.24)"
      ],
      "execution_count": 40,
      "outputs": [
        {
          "output_type": "execute_result",
          "data": {
            "text/plain": [
              "31.0"
            ]
          },
          "metadata": {
            "tags": []
          },
          "execution_count": 40
        }
      ]
    },
    {
      "cell_type": "markdown",
      "metadata": {
        "id": "5qBvm8h5vtVZ",
        "colab_type": "text"
      },
      "source": [
        "We can also compare `Timestamp` values to see which comes first.\n",
        "\n",
        "For example, let's see if a person with a given birthdate has already had a birthday this year.\n",
        "\n",
        "We can create a new `Timestamp` with the year from `now` and the month and day from `date_of_birth`."
      ]
    },
    {
      "cell_type": "code",
      "metadata": {
        "id": "63hPYSTxvtVb",
        "colab_type": "code",
        "colab": {
          "base_uri": "https://localhost:8080/",
          "height": 35
        },
        "outputId": "c501b2eb-9ccd-4ab8-f3ce-bae03c4b6e80"
      },
      "source": [
        "bday_this_year = pd.Timestamp(now.year, date_of_birth.month, date_of_birth.day)\n",
        "bday_this_year"
      ],
      "execution_count": 41,
      "outputs": [
        {
          "output_type": "execute_result",
          "data": {
            "text/plain": [
              "Timestamp('2020-06-04 00:00:00')"
            ]
          },
          "metadata": {
            "tags": []
          },
          "execution_count": 41
        }
      ]
    },
    {
      "cell_type": "markdown",
      "metadata": {
        "id": "B4-4xJYSvtVj",
        "colab_type": "text"
      },
      "source": [
        "The result represents the person's birthday this year.  Now we can use the `>` operator to check whether `now` is later than the birthday:"
      ]
    },
    {
      "cell_type": "code",
      "metadata": {
        "id": "v6RUqUfvvtVk",
        "colab_type": "code",
        "colab": {
          "base_uri": "https://localhost:8080/",
          "height": 35
        },
        "outputId": "5742bbe5-d00e-43ee-8cb8-1e9d4ea3e562"
      },
      "source": [
        "now > bday_this_year"
      ],
      "execution_count": 42,
      "outputs": [
        {
          "output_type": "execute_result",
          "data": {
            "text/plain": [
              "False"
            ]
          },
          "metadata": {
            "tags": []
          },
          "execution_count": 42
        }
      ]
    },
    {
      "cell_type": "markdown",
      "metadata": {
        "id": "NeDXGikRvtVw",
        "colab_type": "text"
      },
      "source": [
        "The result is either `True` or `False`, which are special values in Python used to represent results from this kind of comparison.\n",
        "\n",
        "These values belong to a type called `bool`, short for \"Boolean algebra\", which is a branch of algebra where all values are either true or false. "
      ]
    },
    {
      "cell_type": "code",
      "metadata": {
        "id": "0gQn-txxvtVy",
        "colab_type": "code",
        "colab": {
          "base_uri": "https://localhost:8080/",
          "height": 35
        },
        "outputId": "5d972b9b-61b4-41dc-8aba-855d82d7ea07"
      },
      "source": [
        "type(True)"
      ],
      "execution_count": 43,
      "outputs": [
        {
          "output_type": "execute_result",
          "data": {
            "text/plain": [
              "bool"
            ]
          },
          "metadata": {
            "tags": []
          },
          "execution_count": 43
        }
      ]
    },
    {
      "cell_type": "code",
      "metadata": {
        "id": "y04L7vUkvtV3",
        "colab_type": "code",
        "colab": {
          "base_uri": "https://localhost:8080/",
          "height": 35
        },
        "outputId": "c0e46d56-083b-45fe-dffb-7d368a305299"
      },
      "source": [
        "type(False)"
      ],
      "execution_count": 44,
      "outputs": [
        {
          "output_type": "execute_result",
          "data": {
            "text/plain": [
              "bool"
            ]
          },
          "metadata": {
            "tags": []
          },
          "execution_count": 44
        }
      ]
    },
    {
      "cell_type": "markdown",
      "metadata": {
        "id": "mQ1_UytqvtV9",
        "colab_type": "text"
      },
      "source": [
        "**Exercise:** Any two people with different birthdays have a \"Double Day\" when one is twice as old as the other.\n",
        "\n",
        "Suppose you are given two `Timestamp` values, `d1` and `d2`, that represent birthdays for two people.  Use `Timestamp` arithmetic to compute their double day.\n",
        "\n",
        "Here are two example dates; with these dates, the result should be December 19, 2009."
      ]
    },
    {
      "cell_type": "code",
      "metadata": {
        "id": "2YBBkeDovtWA",
        "colab_type": "code",
        "colab": {}
      },
      "source": [
        "d1 = pd.Timestamp('2003-07-12')"
      ],
      "execution_count": 0,
      "outputs": []
    },
    {
      "cell_type": "code",
      "metadata": {
        "id": "fT1JBZEtvtWI",
        "colab_type": "code",
        "colab": {}
      },
      "source": [
        "d2 = pd.Timestamp('2006-09-30')"
      ],
      "execution_count": 0,
      "outputs": []
    },
    {
      "cell_type": "code",
      "metadata": {
        "id": "Ac3AuZALvtWV",
        "colab_type": "code",
        "colab": {
          "base_uri": "https://localhost:8080/",
          "height": 35
        },
        "outputId": "722d0b37-fdbe-427f-f3e4-4aef87bb17a6"
      },
      "source": [
        "# Solution goes here\n",
        "delta = d2 - d1\n",
        "# Solve for how long from now it will be double.\n",
        "number_of_days = 2 * abs(delta.days)\n",
        "# Add back the difference.\n",
        "double_date = d1 + pd.Timedelta(days = number_of_days)\n",
        "double_date"
      ],
      "execution_count": 93,
      "outputs": [
        {
          "output_type": "execute_result",
          "data": {
            "text/plain": [
              "Timestamp('2009-12-19 00:00:00')"
            ]
          },
          "metadata": {
            "tags": []
          },
          "execution_count": 93
        }
      ]
    },
    {
      "cell_type": "markdown",
      "metadata": {
        "id": "ntHFu4d2vtWZ",
        "colab_type": "text"
      },
      "source": [
        "## Location\n",
        "\n",
        "There are many ways to represent geographical locations, but the most common, at least for global data, is latitude and longitude.\n",
        "\n",
        "When stored as strings, latitude and longitude are expressed in degrees with compass directions N, S, E, and W.  For example, this string represents the location of Boston, MA, USA:"
      ]
    },
    {
      "cell_type": "code",
      "metadata": {
        "id": "7gNvXFu_vtWb",
        "colab_type": "code",
        "colab": {}
      },
      "source": [
        "lat_lon_string = '42.3601° N, 71.0589° W'"
      ],
      "execution_count": 0,
      "outputs": []
    },
    {
      "cell_type": "markdown",
      "metadata": {
        "id": "AVAmg5XovtWh",
        "colab_type": "text"
      },
      "source": [
        "When we compute with location information, we use floating-point numbers, with \n",
        "\n",
        "* Positive latitude for the northern hemisphere, negative latitude for the southern hemisphere, and \n",
        "\n",
        "* Positive longitude for the eastern hemisphere and negative latitude for the western hemisphere.\n",
        "\n",
        "Of course, the choice of the origin and the orientation of positive and negative are arbitrary choices that were made for historical reasons.  We might not be able to change conventions like these, but we should be aware that they are conventions.\n",
        "\n",
        "Here's how we might represent the location of Boston with two variables."
      ]
    },
    {
      "cell_type": "code",
      "metadata": {
        "id": "kGBvsGn7vtWj",
        "colab_type": "code",
        "colab": {}
      },
      "source": [
        "lat = 42.3601\n",
        "lon = -71.0589"
      ],
      "execution_count": 0,
      "outputs": []
    },
    {
      "cell_type": "markdown",
      "metadata": {
        "id": "WinFR29yvtWr",
        "colab_type": "text"
      },
      "source": [
        "It is also possible to combine two numbers into a composite value and assign it to a single variable:"
      ]
    },
    {
      "cell_type": "code",
      "metadata": {
        "id": "eYXU2KL5vtWt",
        "colab_type": "code",
        "colab": {
          "base_uri": "https://localhost:8080/",
          "height": 35
        },
        "outputId": "3d86b2f2-731b-4c99-caec-2147f1f635a4"
      },
      "source": [
        "boston = lat, lon\n",
        "boston"
      ],
      "execution_count": 55,
      "outputs": [
        {
          "output_type": "execute_result",
          "data": {
            "text/plain": [
              "(42.3601, -71.0589)"
            ]
          },
          "metadata": {
            "tags": []
          },
          "execution_count": 55
        }
      ]
    },
    {
      "cell_type": "markdown",
      "metadata": {
        "id": "y95_JMX_vtW0",
        "colab_type": "text"
      },
      "source": [
        "The type of this variable is `tuple`, which is a mathematical term for a value that contains a sequence of elements.  Math people pronounce it \"tuh' ple\", but computational people usually say \"too' ple\".  Take your pick."
      ]
    },
    {
      "cell_type": "code",
      "metadata": {
        "id": "1LNa8rTrvtW2",
        "colab_type": "code",
        "colab": {
          "base_uri": "https://localhost:8080/",
          "height": 35
        },
        "outputId": "57feaba6-46c9-4492-b373-8786bf25539b"
      },
      "source": [
        "type(boston)"
      ],
      "execution_count": 56,
      "outputs": [
        {
          "output_type": "execute_result",
          "data": {
            "text/plain": [
              "tuple"
            ]
          },
          "metadata": {
            "tags": []
          },
          "execution_count": 56
        }
      ]
    },
    {
      "cell_type": "markdown",
      "metadata": {
        "id": "AZik23gnvtW9",
        "colab_type": "text"
      },
      "source": [
        "If you have a tuple with two elements, you can assign them to two variables, like this:"
      ]
    },
    {
      "cell_type": "code",
      "metadata": {
        "id": "wVR5Oyc-vtW_",
        "colab_type": "code",
        "colab": {
          "base_uri": "https://localhost:8080/",
          "height": 35
        },
        "outputId": "b9753b06-9c1f-4ab9-ad4c-3726ca4c98e0"
      },
      "source": [
        "y, x = boston\n",
        "y"
      ],
      "execution_count": 57,
      "outputs": [
        {
          "output_type": "execute_result",
          "data": {
            "text/plain": [
              "42.3601"
            ]
          },
          "metadata": {
            "tags": []
          },
          "execution_count": 57
        }
      ]
    },
    {
      "cell_type": "code",
      "metadata": {
        "id": "2rrdOAZzvtXG",
        "colab_type": "code",
        "colab": {
          "base_uri": "https://localhost:8080/",
          "height": 35
        },
        "outputId": "97a0142b-dcc1-4629-d7e6-1b2dabab4c53"
      },
      "source": [
        "x"
      ],
      "execution_count": 58,
      "outputs": [
        {
          "output_type": "execute_result",
          "data": {
            "text/plain": [
              "-71.0589"
            ]
          },
          "metadata": {
            "tags": []
          },
          "execution_count": 58
        }
      ]
    },
    {
      "cell_type": "markdown",
      "metadata": {
        "id": "FdnLEXSVvtXQ",
        "colab_type": "text"
      },
      "source": [
        "Notice that I assigned latitude to `y` and longitude to `x`, because a `y` coordinate usually goes up and down like latitude, and an `x` coordinate usually goes side-to-side like longitude."
      ]
    },
    {
      "cell_type": "markdown",
      "metadata": {
        "id": "2KxXckNAvtXS",
        "colab_type": "text"
      },
      "source": [
        "**Exercise:** Find the latitude and longitude of the place you were born or someplace you think of as your \"home town\".  [You can use this web page to look it up](https://www.latlong.net/), among others.\n",
        "\n",
        "Make a tuple of floating-point numbers that represents this location."
      ]
    },
    {
      "cell_type": "code",
      "metadata": {
        "id": "nO2yCuwhvtXV",
        "colab_type": "code",
        "colab": {}
      },
      "source": [
        "# Solution goes here\n",
        "framingham = 42.504990, -71.195830"
      ],
      "execution_count": 0,
      "outputs": []
    },
    {
      "cell_type": "markdown",
      "metadata": {
        "id": "8ctlejO_vtXc",
        "colab_type": "text"
      },
      "source": [
        "## Distance\n",
        "\n",
        "If you are given two tuples that represent locations, you can compute the approximate distance between them, along the surface of the globe, using the haversine function.\n",
        "\n",
        "If you are curious about it, [you can read an explanation in this article](https://janakiev.com/blog/gps-points-distance-python/).\n",
        "\n",
        "To estimate a haversine distance, we have to compute the haversine function, which is defined:\n",
        "\n",
        "$\\mathrm{haversine}(θ)=\\sin^2(θ/2)$\n",
        "\n",
        "Where θ is an angle in radians.\n",
        "\n",
        "We can compute this function in Python like this:"
      ]
    },
    {
      "cell_type": "code",
      "metadata": {
        "id": "rFY4SoLYvtXe",
        "colab_type": "code",
        "colab": {
          "base_uri": "https://localhost:8080/",
          "height": 35
        },
        "outputId": "b8308d3b-e8c9-4869-9f9a-2c1ad1c8e153"
      },
      "source": [
        "import numpy as np\n",
        "\n",
        "θ = 1\n",
        "np.sin(θ/2)**2"
      ],
      "execution_count": 94,
      "outputs": [
        {
          "output_type": "execute_result",
          "data": {
            "text/plain": [
              "0.22984884706593015"
            ]
          },
          "metadata": {
            "tags": []
          },
          "execution_count": 94
        }
      ]
    },
    {
      "cell_type": "markdown",
      "metadata": {
        "id": "1BY_uUUVvtXk",
        "colab_type": "text"
      },
      "source": [
        "Notice that we can use Greek letters in variable names.  But there is currently no way to type them in Jupyter/Colab, so I usually copy them from a web page and paste them in.\n",
        "\n",
        "To avoid the inconvenience, it is more common to write out letter names, like this:"
      ]
    },
    {
      "cell_type": "code",
      "metadata": {
        "id": "3eUh_z4OvtXm",
        "colab_type": "code",
        "colab": {
          "base_uri": "https://localhost:8080/",
          "height": 35
        },
        "outputId": "aec204d4-cfb3-409c-b381-9452368be90b"
      },
      "source": [
        "theta = 1\n",
        "np.sin(theta/2)**2"
      ],
      "execution_count": 95,
      "outputs": [
        {
          "output_type": "execute_result",
          "data": {
            "text/plain": [
              "0.22984884706593015"
            ]
          },
          "metadata": {
            "tags": []
          },
          "execution_count": 95
        }
      ]
    },
    {
      "cell_type": "markdown",
      "metadata": {
        "id": "d-PWW_VfvtXu",
        "colab_type": "text"
      },
      "source": [
        "**Exercise:** This is a good time to remind you that the operator for exponentiation is `**`.  \n",
        "\n",
        "In some other languages the operator for exponentiation is `^`.  That is also an operator in Python, but it performs another operation altogether.\n",
        "\n",
        "Try out the previous expression, replacing `**` with `^`, and see what error message you get.  Remember this message in case you see it in the future!"
      ]
    },
    {
      "cell_type": "code",
      "metadata": {
        "id": "hLt8XPrNvtXx",
        "colab_type": "code",
        "colab": {
          "base_uri": "https://localhost:8080/",
          "height": 168
        },
        "outputId": "5e368f8b-29d7-41a9-8e2f-e9bfec3c536a"
      },
      "source": [
        "# Solution goes here\n",
        "# Bitwise xor is not the thing we want here.\n",
        "np.sin(theta/2)^2"
      ],
      "execution_count": 96,
      "outputs": [
        {
          "output_type": "error",
          "ename": "TypeError",
          "evalue": "ignored",
          "traceback": [
            "\u001b[0;31m---------------------------------------------------------------------------\u001b[0m",
            "\u001b[0;31mTypeError\u001b[0m                                 Traceback (most recent call last)",
            "\u001b[0;32m<ipython-input-96-2fe385ff30e3>\u001b[0m in \u001b[0;36m<module>\u001b[0;34m()\u001b[0m\n\u001b[0;32m----> 1\u001b[0;31m \u001b[0mnp\u001b[0m\u001b[0;34m.\u001b[0m\u001b[0msin\u001b[0m\u001b[0;34m(\u001b[0m\u001b[0mtheta\u001b[0m\u001b[0;34m/\u001b[0m\u001b[0;36m2\u001b[0m\u001b[0;34m)\u001b[0m\u001b[0;34m^\u001b[0m\u001b[0;36m2\u001b[0m\u001b[0;34m\u001b[0m\u001b[0;34m\u001b[0m\u001b[0m\n\u001b[0m",
            "\u001b[0;31mTypeError\u001b[0m: ufunc 'bitwise_xor' not supported for the input types, and the inputs could not be safely coerced to any supported types according to the casting rule ''safe''"
          ]
        }
      ]
    },
    {
      "cell_type": "markdown",
      "metadata": {
        "id": "QFCZvzlevtX6",
        "colab_type": "text"
      },
      "source": [
        "## Defining functions\n",
        "\n",
        "At this point you don't have to understand how to define a new function.  But you will see function defininitions, so I want to explain the basics now. \n",
        "\n",
        "If we are planning to use an expression like `np.sin(theta/2)**2` more than a few times, we can define a new function that compute it, like this:"
      ]
    },
    {
      "cell_type": "code",
      "metadata": {
        "id": "EQQmDUcNvtX8",
        "colab_type": "code",
        "colab": {}
      },
      "source": [
        "def haversine(theta):\n",
        "    \"\"\"Compute the haversine function of theta.\"\"\"\n",
        "    return np.sin(theta/2)**2"
      ],
      "execution_count": 0,
      "outputs": []
    },
    {
      "cell_type": "markdown",
      "metadata": {
        "id": "W-294mA_vtYH",
        "colab_type": "text"
      },
      "source": [
        "On the first line, `def` indicates that we are defining a function.\n",
        "\n",
        "The second line is a \"triple-quoted string\", which describes what the function does, but it has no effect when the program runs.\n",
        "\n",
        "On the third line, `return` indicates the result of the function.\n",
        "\n",
        "When you run the previous cell, it creates a new variable called `haversine`.  You can display its value like this:"
      ]
    },
    {
      "cell_type": "code",
      "metadata": {
        "id": "njVKGz35vtYI",
        "colab_type": "code",
        "colab": {
          "base_uri": "https://localhost:8080/",
          "height": 35
        },
        "outputId": "a5c12e9b-49bc-4c76-abd9-cc25b73113bd"
      },
      "source": [
        "haversine"
      ],
      "execution_count": 98,
      "outputs": [
        {
          "output_type": "execute_result",
          "data": {
            "text/plain": [
              "<function __main__.haversine>"
            ]
          },
          "metadata": {
            "tags": []
          },
          "execution_count": 98
        }
      ]
    },
    {
      "cell_type": "markdown",
      "metadata": {
        "id": "rXVsD_62vtYM",
        "colab_type": "text"
      },
      "source": [
        "And you can display its type like this:"
      ]
    },
    {
      "cell_type": "code",
      "metadata": {
        "id": "xQQvAbu7vtYO",
        "colab_type": "code",
        "colab": {
          "base_uri": "https://localhost:8080/",
          "height": 35
        },
        "outputId": "97919026-a3e8-4498-d961-a19bab52d713"
      },
      "source": [
        "type(haversine)"
      ],
      "execution_count": 99,
      "outputs": [
        {
          "output_type": "execute_result",
          "data": {
            "text/plain": [
              "function"
            ]
          },
          "metadata": {
            "tags": []
          },
          "execution_count": 99
        }
      ]
    },
    {
      "cell_type": "markdown",
      "metadata": {
        "id": "1UtntwVhvtYT",
        "colab_type": "text"
      },
      "source": [
        "So `haversin` is a variable that refers to a function.\n",
        "\n",
        "To run the function and compute a result, we have to \"call\" the function and provide a value for `theta`:"
      ]
    },
    {
      "cell_type": "code",
      "metadata": {
        "id": "JdTWrW_LvtYV",
        "colab_type": "code",
        "colab": {
          "base_uri": "https://localhost:8080/",
          "height": 35
        },
        "outputId": "9441ecb3-8ecf-40ca-a6c8-8b7a1ee12484"
      },
      "source": [
        "haversine(1)"
      ],
      "execution_count": 100,
      "outputs": [
        {
          "output_type": "execute_result",
          "data": {
            "text/plain": [
              "0.22984884706593015"
            ]
          },
          "metadata": {
            "tags": []
          },
          "execution_count": 100
        }
      ]
    },
    {
      "cell_type": "markdown",
      "metadata": {
        "id": "Q3UGl2hbvtYb",
        "colab_type": "text"
      },
      "source": [
        "When you define a function, you create a new variable.  But the function doesn't actually run until you call it."
      ]
    },
    {
      "cell_type": "markdown",
      "metadata": {
        "id": "I1qbdDO1vtYc",
        "colab_type": "text"
      },
      "source": [
        "## Haversine distance\n",
        "\n",
        "Now we can use `haversine` as part of a function that computes haversine distances.\n",
        "\n",
        "I won't explain this function in as much detail, but if you read through it, you might get a sense of how it works."
      ]
    },
    {
      "cell_type": "code",
      "metadata": {
        "id": "-khO4CKpvtYe",
        "colab_type": "code",
        "colab": {}
      },
      "source": [
        "def haversine_distance(coord1, coord2):\n",
        "    \"\"\"Haversine distance between two locations.\n",
        "    \n",
        "    coord1: lat-lon as tuple of float \n",
        "    coord2: lat-lon as tuple of float\n",
        "    \n",
        "    returns: distance in km\n",
        "    \"\"\"\n",
        "    R = 6372.8  # Earth radius in km\n",
        "    lat1, lon1 = coord1\n",
        "    lat2, lon2 = coord2\n",
        "    \n",
        "    phi1, phi2 = np.radians(lat1), np.radians(lat2) \n",
        "    dphi       = np.radians(lat2 - lat1)\n",
        "    dlambda    = np.radians(lon2 - lon1)\n",
        "    \n",
        "    a = haversine(dphi) + np.cos(phi1)*np.cos(phi2)*haversine(dlambda)\n",
        "    \n",
        "    distance = 2*R*np.arctan2(np.sqrt(a), np.sqrt(1 - a))\n",
        "    \n",
        "    return distance"
      ],
      "execution_count": 0,
      "outputs": []
    },
    {
      "cell_type": "markdown",
      "metadata": {
        "id": "-Pyefn2UvtYm",
        "colab_type": "text"
      },
      "source": [
        "When we call this function, we provide two tuples, each representing a latitude and a longitude.\n",
        "\n",
        "We already have a tuple that represents the location of Boston.\n",
        "Now here's a tuple that represents the location of London, England, UK:"
      ]
    },
    {
      "cell_type": "code",
      "metadata": {
        "id": "UW_TfE6XvtYo",
        "colab_type": "code",
        "colab": {}
      },
      "source": [
        "london = 51.5074, -0.1278"
      ],
      "execution_count": 0,
      "outputs": []
    },
    {
      "cell_type": "markdown",
      "metadata": {
        "id": "V7H7eshdvtYx",
        "colab_type": "text"
      },
      "source": [
        "And here's the haversine distance between Boston and London."
      ]
    },
    {
      "cell_type": "code",
      "metadata": {
        "id": "glMIGqQKvtY0",
        "colab_type": "code",
        "colab": {
          "base_uri": "https://localhost:8080/",
          "height": 35
        },
        "outputId": "f8396bc8-1f66-430b-d662-02cd7057788a"
      },
      "source": [
        "haversine_distance(boston, london)"
      ],
      "execution_count": 103,
      "outputs": [
        {
          "output_type": "execute_result",
          "data": {
            "text/plain": [
              "5265.656325981015"
            ]
          },
          "metadata": {
            "tags": []
          },
          "execution_count": 103
        }
      ]
    },
    {
      "cell_type": "markdown",
      "metadata": {
        "id": "9_wkpeMpvtY7",
        "colab_type": "text"
      },
      "source": [
        "The actual geographic distance is slightly different because Earth is not a perfect sphere.  But the error of this estimate is less than 1%."
      ]
    },
    {
      "cell_type": "markdown",
      "metadata": {
        "id": "YinZLZ8rvtY8",
        "colab_type": "text"
      },
      "source": [
        "**Exercise:** Use `haversine_distance` to compute the distance between Boston and your \"home town\" from the previous exercise.\n",
        "\n",
        "If possible, use an online map to check the result."
      ]
    },
    {
      "cell_type": "code",
      "metadata": {
        "id": "UFU2JTv9vtY-",
        "colab_type": "code",
        "colab": {
          "base_uri": "https://localhost:8080/",
          "height": 35
        },
        "outputId": "b55a8dae-8e94-4354-e0ac-3948b55c9f0c"
      },
      "source": [
        "# Solution goes here\n",
        "haversine_distance(boston, framingham)"
      ],
      "execution_count": 106,
      "outputs": [
        {
          "output_type": "execute_result",
          "data": {
            "text/plain": [
              "19.648714664498446"
            ]
          },
          "metadata": {
            "tags": []
          },
          "execution_count": 106
        }
      ]
    },
    {
      "cell_type": "markdown",
      "metadata": {
        "id": "icKvp0ugvtZe",
        "colab_type": "text"
      },
      "source": [
        "## Geopandas\n",
        "\n",
        "Python provides libraries for working with geographical data.  One of the most popular is Geopandas, which is based on another library called Shapely.  I'll introduce these libraries here, and we'll come back to them later.\n",
        "\n",
        "Shapely provides `Point` and `LineString` values, which we'll use to represent geographic locations and lines between locations."
      ]
    },
    {
      "cell_type": "code",
      "metadata": {
        "id": "hsDZ5TW_vtZf",
        "colab_type": "code",
        "colab": {}
      },
      "source": [
        "from shapely.geometry import Point, LineString"
      ],
      "execution_count": 0,
      "outputs": []
    },
    {
      "cell_type": "markdown",
      "metadata": {
        "id": "1zcUdX7evtZk",
        "colab_type": "text"
      },
      "source": [
        "We can use the tuples we defined in the previous section to create Shapely `Point` values, but we have to reverse the order of the coordinates, providing them in x-y order rather than lat-lon order, because that's the order the `Point` function expects."
      ]
    },
    {
      "cell_type": "code",
      "metadata": {
        "id": "r324iN_evtZm",
        "colab_type": "code",
        "colab": {}
      },
      "source": [
        "p1 = Point(reversed(boston))\n",
        "p2 = Point(reversed(london))\n",
        "p3 = Point(reversed(framingham))"
      ],
      "execution_count": 0,
      "outputs": []
    },
    {
      "cell_type": "markdown",
      "metadata": {
        "id": "nwkps1R4vtZt",
        "colab_type": "text"
      },
      "source": [
        "If we display a `Point` value, we get a graphical representation, but not a very useful one."
      ]
    },
    {
      "cell_type": "code",
      "metadata": {
        "id": "arUNT7xUvtZv",
        "colab_type": "code",
        "colab": {
          "base_uri": "https://localhost:8080/",
          "height": 121
        },
        "outputId": "f0c4e89b-61a7-49c2-c0ca-315849873903"
      },
      "source": [
        "p1"
      ],
      "execution_count": 109,
      "outputs": [
        {
          "output_type": "execute_result",
          "data": {
            "text/plain": [
              "<shapely.geometry.point.Point at 0x7f8c28f28908>"
            ],
            "image/svg+xml": "<svg xmlns=\"http://www.w3.org/2000/svg\" xmlns:xlink=\"http://www.w3.org/1999/xlink\" width=\"100.0\" height=\"100.0\" viewBox=\"-72.0589 41.3601 2.0 2.0\" preserveAspectRatio=\"xMinYMin meet\"><g transform=\"matrix(1,0,0,-1,0,84.7202)\"><circle cx=\"-71.0589\" cy=\"42.3601\" r=\"0.06\" stroke=\"#555555\" stroke-width=\"0.02\" fill=\"#66cc99\" opacity=\"0.6\" /></g></svg>"
          },
          "metadata": {
            "tags": []
          },
          "execution_count": 109
        }
      ]
    },
    {
      "cell_type": "markdown",
      "metadata": {
        "id": "Cx_ucWHcvtZ3",
        "colab_type": "text"
      },
      "source": [
        "Soon we will see how to plot a `Point`, more usefully, on a map."
      ]
    },
    {
      "cell_type": "markdown",
      "metadata": {
        "id": "r_5EGtJbvtZ4",
        "colab_type": "text"
      },
      "source": [
        "We can use the points we just defined to create a `LineString`:"
      ]
    },
    {
      "cell_type": "code",
      "metadata": {
        "id": "yDUsHW0OvtZ6",
        "colab_type": "code",
        "colab": {}
      },
      "source": [
        "line = LineString([p1, p2])\n",
        "line2 = LineString([p1, p3])"
      ],
      "execution_count": 0,
      "outputs": []
    },
    {
      "cell_type": "markdown",
      "metadata": {
        "id": "QdXNR6DdvtZ-",
        "colab_type": "text"
      },
      "source": [
        "If we display the result, we get another not very useful graphical representation."
      ]
    },
    {
      "cell_type": "code",
      "metadata": {
        "id": "9TA7NitYvtaB",
        "colab_type": "code",
        "colab": {
          "base_uri": "https://localhost:8080/",
          "height": 121
        },
        "outputId": "9582f70b-3b27-41e9-a45c-ac7b6c524261"
      },
      "source": [
        "line"
      ],
      "execution_count": 125,
      "outputs": [
        {
          "output_type": "execute_result",
          "data": {
            "text/plain": [
              "<shapely.geometry.linestring.LineString at 0x7f8c22846ac8>"
            ],
            "image/svg+xml": "<svg xmlns=\"http://www.w3.org/2000/svg\" xmlns:xlink=\"http://www.w3.org/1999/xlink\" width=\"100.0\" height=\"100.0\" viewBox=\"-71.2016256 42.354304400000004 0.14852120000000468 0.15648119999999466\" preserveAspectRatio=\"xMinYMin meet\"><g transform=\"matrix(1,0,0,-1,0,84.86509000000001)\"><polyline fill=\"none\" stroke=\"#66cc99\" stroke-width=\"0.003129623999999893\" points=\"-71.0589,42.3601 -71.19583,42.50499\" opacity=\"0.8\" /></g></svg>"
          },
          "metadata": {
            "tags": []
          },
          "execution_count": 125
        }
      ]
    },
    {
      "cell_type": "markdown",
      "metadata": {
        "id": "oylDUtvWvtaH",
        "colab_type": "text"
      },
      "source": [
        "However, now we can use Geopandas to show these points and lines on a map.\n",
        "\n",
        "If you are running this notebook on Colab, the following cell will install Geopandas, which should only take a few seconds.  It uses features we have not seen yet; you might be able to read it and guess how it works, but you don't have to."
      ]
    },
    {
      "cell_type": "code",
      "metadata": {
        "id": "Vu91csEDvtaI",
        "colab_type": "code",
        "colab": {
          "base_uri": "https://localhost:8080/",
          "height": 266
        },
        "outputId": "731fab64-2ab4-491b-b01a-cfadb41e4c3b"
      },
      "source": [
        "import sys\n",
        "IN_COLAB = 'google.colab' in sys.modules\n",
        "\n",
        "if IN_COLAB:\n",
        "    !pip install geopandas"
      ],
      "execution_count": 126,
      "outputs": [
        {
          "output_type": "stream",
          "text": [
            "Requirement already satisfied: geopandas in /usr/local/lib/python3.6/dist-packages (0.6.2)\n",
            "Requirement already satisfied: pyproj in /usr/local/lib/python3.6/dist-packages (from geopandas) (2.4.2.post1)\n",
            "Requirement already satisfied: fiona in /usr/local/lib/python3.6/dist-packages (from geopandas) (1.8.13)\n",
            "Requirement already satisfied: shapely in /usr/local/lib/python3.6/dist-packages (from geopandas) (1.6.4.post2)\n",
            "Requirement already satisfied: pandas>=0.23.0 in /usr/local/lib/python3.6/dist-packages (from geopandas) (0.25.3)\n",
            "Requirement already satisfied: cligj>=0.5 in /usr/local/lib/python3.6/dist-packages (from fiona->geopandas) (0.5.0)\n",
            "Requirement already satisfied: munch in /usr/local/lib/python3.6/dist-packages (from fiona->geopandas) (2.5.0)\n",
            "Requirement already satisfied: attrs>=17 in /usr/local/lib/python3.6/dist-packages (from fiona->geopandas) (19.3.0)\n",
            "Requirement already satisfied: click-plugins>=1.0 in /usr/local/lib/python3.6/dist-packages (from fiona->geopandas) (1.1.1)\n",
            "Requirement already satisfied: click<8,>=4.0 in /usr/local/lib/python3.6/dist-packages (from fiona->geopandas) (7.0)\n",
            "Requirement already satisfied: six>=1.7 in /usr/local/lib/python3.6/dist-packages (from fiona->geopandas) (1.12.0)\n",
            "Requirement already satisfied: python-dateutil>=2.6.1 in /usr/local/lib/python3.6/dist-packages (from pandas>=0.23.0->geopandas) (2.6.1)\n",
            "Requirement already satisfied: pytz>=2017.2 in /usr/local/lib/python3.6/dist-packages (from pandas>=0.23.0->geopandas) (2018.9)\n",
            "Requirement already satisfied: numpy>=1.13.3 in /usr/local/lib/python3.6/dist-packages (from pandas>=0.23.0->geopandas) (1.17.5)\n"
          ],
          "name": "stdout"
        }
      ]
    },
    {
      "cell_type": "markdown",
      "metadata": {
        "id": "vtL5ufzPvtaO",
        "colab_type": "text"
      },
      "source": [
        "Now the following import statement should work."
      ]
    },
    {
      "cell_type": "code",
      "metadata": {
        "id": "7XlZZIfEvtaP",
        "colab_type": "code",
        "colab": {}
      },
      "source": [
        "import geopandas as gpd"
      ],
      "execution_count": 0,
      "outputs": []
    },
    {
      "cell_type": "markdown",
      "metadata": {
        "id": "mEn-BE8-vtaU",
        "colab_type": "text"
      },
      "source": [
        "If you are running this notebook on Colab, the libraries you install disappear when you shut down the notebook.  When you start the notebook again, you have to install them again."
      ]
    },
    {
      "cell_type": "markdown",
      "metadata": {
        "id": "T1i_xnycvtaV",
        "colab_type": "text"
      },
      "source": [
        "The following code loads a map of the world and plots it."
      ]
    },
    {
      "cell_type": "code",
      "metadata": {
        "id": "ORRf4PnUvtaX",
        "colab_type": "code",
        "colab": {
          "base_uri": "https://localhost:8080/",
          "height": 209
        },
        "outputId": "6e59c2ad-9fab-4c21-aa2e-6a89589c4a4d"
      },
      "source": [
        "path = gpd.datasets.get_path('naturalearth_lowres')\n",
        "world = gpd.read_file(path)\n",
        "world.plot(color='white', edgecolor='gray');"
      ],
      "execution_count": 128,
      "outputs": [
        {
          "output_type": "display_data",
          "data": {
            "image/png": "[encoded data removed]",
            "text/plain": [
              "<Figure size 432x288 with 1 Axes>"
            ]
          },
          "metadata": {
            "tags": []
          }
        }
      ]
    },
    {
      "cell_type": "markdown",
      "metadata": {
        "id": "fCzLaxXWvtae",
        "colab_type": "text"
      },
      "source": [
        "Here's a version that just plots North America and Europe:"
      ]
    },
    {
      "cell_type": "code",
      "metadata": {
        "id": "WTRTgTJJvtag",
        "colab_type": "code",
        "colab": {
          "base_uri": "https://localhost:8080/",
          "height": 124
        },
        "outputId": "12599a7c-80f9-4d56-9728-33cdf23dc0a1"
      },
      "source": [
        "north_america = world.continent == 'North America'\n",
        "europe = world.continent == 'Europe'\n",
        "region = world[north_america | europe]\n",
        "region.plot(color='white', edgecolor='gray');"
      ],
      "execution_count": 129,
      "outputs": [
        {
          "output_type": "display_data",
          "data": {
            "image/png": "[encoded data removed]",
            "text/plain": [
              "<Figure size 432x288 with 1 Axes>"
            ]
          },
          "metadata": {
            "tags": []
          }
        }
      ]
    },
    {
      "cell_type": "markdown",
      "metadata": {
        "id": "AKwWINkZvtat",
        "colab_type": "text"
      },
      "source": [
        "Notice:\n",
        "\n",
        "* By default, Geopandas uses the political definition of \"Europe\", which includes the part of Russia that is on the Asian continent.\n",
        "\n",
        "* It also uses an [equirectangular projection](https://en.wikipedia.org/wiki/Equirectangular_projection), which provides a misleading picture of relative land areas.\n",
        "\n",
        "You can't make a map without making visualization decisions.\n",
        "\n",
        "Now let's put dots on the map for Boston and London.  We have to put the `Point` values and the `LineString` into a `GeoSeries`, which provides a `plot` function:"
      ]
    },
    {
      "cell_type": "code",
      "metadata": {
        "id": "ivOR3ORavtav",
        "colab_type": "code",
        "colab": {
          "base_uri": "https://localhost:8080/",
          "height": 91
        },
        "outputId": "008de6cb-41f4-4833-967b-f4bdf25bb793"
      },
      "source": [
        "t = [p1, p2, p3, line, line2]\n",
        "series = gpd.GeoSeries(t)\n",
        "series.plot();"
      ],
      "execution_count": 136,
      "outputs": [
        {
          "output_type": "display_data",
          "data": {
            "image/png": "[encoded data removed]",
            "text/plain": [
              "<Figure size 432x288 with 1 Axes>"
            ]
          },
          "metadata": {
            "tags": []
          }
        }
      ]
    },
    {
      "cell_type": "markdown",
      "metadata": {
        "id": "k5JXnZ4pvta3",
        "colab_type": "text"
      },
      "source": [
        "Here's a first attempt to plot the maps and the lines together:"
      ]
    },
    {
      "cell_type": "code",
      "metadata": {
        "id": "Uwy9Cwoovta5",
        "colab_type": "code",
        "colab": {
          "base_uri": "https://localhost:8080/",
          "height": 198
        },
        "outputId": "210a317b-7c60-4448-e526-a01cba132323"
      },
      "source": [
        "# plot the map\n",
        "region.plot(color='white', edgecolor='gray')\n",
        "\n",
        "# plot Boston, London, hometown, and the lines.\n",
        "series.plot();"
      ],
      "execution_count": 131,
      "outputs": [
        {
          "output_type": "display_data",
          "data": {
            "image/png": "[encoded data removed]",
            "text/plain": [
              "<Figure size 432x288 with 1 Axes>"
            ]
          },
          "metadata": {
            "tags": []
          }
        },
        {
          "output_type": "display_data",
          "data": {
            "image/png": "[encoded data removed]",
            "text/plain": [
              "<Figure size 432x288 with 1 Axes>"
            ]
          },
          "metadata": {
            "tags": []
          }
        }
      ]
    },
    {
      "cell_type": "markdown",
      "metadata": {
        "id": "fGfPIa6qvta_",
        "colab_type": "text"
      },
      "source": [
        "GeoPandas puts the two plots on different axes, which is not what we want in this case.\n",
        "\n",
        "To get the points and the map on the same axes, we have to use a function from Matplotlib, which is a visualization library we will use extensively.\n",
        "\n",
        "The function is `gca`, which stands for \"get current axes\".  We can use the result to tell `plot` to put the points and lines on the current axes, rather than create a new one."
      ]
    },
    {
      "cell_type": "code",
      "metadata": {
        "id": "boDZJdv7vtbA",
        "colab_type": "code",
        "colab": {
          "base_uri": "https://localhost:8080/",
          "height": 124
        },
        "outputId": "9c6ba829-27c2-4f48-dbdb-278d66db5b85"
      },
      "source": [
        "import matplotlib.pyplot as plt\n",
        "ax = plt.gca()\n",
        "\n",
        "# plot the map\n",
        "region.plot(color='white', edgecolor='gray', ax=ax)\n",
        "\n",
        "# plot Boston, London, hometown, and the lines.\n",
        "series.plot(ax=ax);"
      ],
      "execution_count": 137,
      "outputs": [
        {
          "output_type": "display_data",
          "data": {
            "image/png": "[encoded data removed]",
            "text/plain": [
              "<Figure size 432x288 with 1 Axes>"
            ]
          },
          "metadata": {
            "tags": []
          }
        }
      ]
    },
    {
      "cell_type": "markdown",
      "metadata": {
        "id": "lqUwL7ZivtbM",
        "colab_type": "text"
      },
      "source": [
        "We can also use `plt.figure` to set the figure size."
      ]
    },
    {
      "cell_type": "code",
      "metadata": {
        "id": "E-2om2xxvtbN",
        "colab_type": "code",
        "colab": {
          "base_uri": "https://localhost:8080/",
          "height": 371
        },
        "outputId": "b77fabd1-0bfb-4f7e-baea-85d3d3842840"
      },
      "source": [
        "import matplotlib.pyplot as plt\n",
        "plt.figure(figsize=(12, 12))\n",
        "ax = plt.gca()\n",
        "\n",
        "# plot the map\n",
        "world.plot(color='white', edgecolor='gray', ax=ax)\n",
        "\n",
        "# plot Boston, London, hometown, and the lines.\n",
        "series.plot(ax=ax);"
      ],
      "execution_count": 138,
      "outputs": [
        {
          "output_type": "display_data",
          "data": {
            "image/png": "[encoded data removed]",
            "text/plain": [
              "<Figure size 864x864 with 1 Axes>"
            ]
          },
          "metadata": {
            "tags": []
          }
        }
      ]
    },
    {
      "cell_type": "markdown",
      "metadata": {
        "id": "tFKKOi_cvtbR",
        "colab_type": "text"
      },
      "source": [
        "There are a few features in this example we have not explained completely, but hopefully you get the idea.  We will come back to Geopandas later."
      ]
    },
    {
      "cell_type": "markdown",
      "metadata": {
        "id": "j4Qtx6m1vtbS",
        "colab_type": "text"
      },
      "source": [
        "**Exercise:** Modify the code in the previous section to plot a point that shows the \"home town\" you chose in a previous exercise and a line from there to Boston.\n",
        "\n",
        "\n",
        "\n",
        "Then go to [this online survey](https://forms.gle/2LDcqxJmcWY3Q3X47) and answer the questions there.  We will use your responses for an upcoming example."
      ]
    },
    {
      "cell_type": "code",
      "metadata": {
        "id": "C6xWNw33vtbU",
        "colab_type": "code",
        "colab": {}
      },
      "source": [
        "# Kind of a boring difference in the map, guess it's what I get for being born near Boston.."
      ],
      "execution_count": 0,
      "outputs": []
    }
  ]
}