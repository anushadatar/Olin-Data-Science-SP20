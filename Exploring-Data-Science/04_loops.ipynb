{
  "nbformat": 4,
  "nbformat_minor": 0,
  "metadata": {
    "kernelspec": {
      "display_name": "Python 3",
      "language": "python",
      "name": "python3"
    },
    "language_info": {
      "codemirror_mode": {
        "name": "ipython",
        "version": 3
      },
      "file_extension": ".py",
      "mimetype": "text/x-python",
      "name": "python",
      "nbconvert_exporter": "python",
      "pygments_lexer": "ipython3",
      "version": "3.7.4"
    },
    "colab": {
      "name": "04_loops.ipynb",
      "provenance": [],
      "collapsed_sections": [],
      "include_colab_link": true
    }
  },
  "cells": [
    {
      "cell_type": "markdown",
      "metadata": {
        "id": "view-in-github",
        "colab_type": "text"
      },
      "source": [
        "<a href=\"https://colab.research.google.com/github/anushadatar/Olin-Data-Science-SP20/blob/master/04_loops.ipynb\" target=\"_parent\"><img src=\"https://colab.research.google.com/assets/colab-badge.svg\" alt=\"Open In Colab\"/></a>"
      ]
    },
    {
      "cell_type": "markdown",
      "metadata": {
        "id": "dg07Xt8zu2Ph",
        "colab_type": "text"
      },
      "source": [
        "# Loops and files\n",
        "\n",
        "Elements of Data Science\n",
        "\n",
        "by [Allen Downey](https://allendowney.com)\n",
        "\n",
        "[MIT License](https://opensource.org/licenses/MIT)\n",
        "\n",
        "### Goals\n",
        "\n",
        "This notebook presents loops, which are used to express repeated computation, and files, which are used to store data.  As an example, we will download the famous book *War and Peace* from Project Gutenberg and write a loop that reads the book and counts the words.\n",
        "\n",
        "In the next notebook, we'll extend this example to count the number of unique words and the number of times each word appears.\n",
        "\n",
        "This example is meant to introduce some computational tools you will need; it is also an introduction to working with textual data."
      ]
    },
    {
      "cell_type": "markdown",
      "metadata": {
        "id": "-pJ_MAn_u2Pk",
        "colab_type": "text"
      },
      "source": [
        "## Loops\n",
        "\n",
        "One of the most important elements of computation is repetition, and the most common way to express repetition is a `for` loop.\n",
        "\n",
        "As a simple example, suppose we want to display the elements of a tuple.  Here's a tuple of three integers:"
      ]
    },
    {
      "cell_type": "code",
      "metadata": {
        "id": "Ve0cVbWYu2Pm",
        "colab_type": "code",
        "colab": {}
      },
      "source": [
        "t = 1, 2, 3"
      ],
      "execution_count": 0,
      "outputs": []
    },
    {
      "cell_type": "markdown",
      "metadata": {
        "id": "hJ73dEGxu2Pv",
        "colab_type": "text"
      },
      "source": [
        "And here's a `for` loop that prints the elements."
      ]
    },
    {
      "cell_type": "code",
      "metadata": {
        "id": "Rb8-JZIju2Px",
        "colab_type": "code",
        "outputId": "4de8af05-7204-47d3-d37a-f0b25477050f",
        "colab": {
          "base_uri": "https://localhost:8080/",
          "height": 70
        }
      },
      "source": [
        "for x in t:\n",
        "    print(x)"
      ],
      "execution_count": 2,
      "outputs": [
        {
          "output_type": "stream",
          "text": [
            "1\n",
            "2\n",
            "3\n"
          ],
          "name": "stdout"
        }
      ]
    },
    {
      "cell_type": "markdown",
      "metadata": {
        "id": "J5uYW0wnu2P-",
        "colab_type": "text"
      },
      "source": [
        "The first line of the loop is a \"header\" that specifies the tuple, `t`, and a variable name `x`.  The tuple already exists, but `x` does not; the loop will create it.  The header has to end with a colon, `:`.\n",
        "\n",
        "Inside the loop is a `print` statement, which displays the value of `x`.\n",
        "\n",
        "So here's what happens:\n",
        "\n",
        "1. When the loop starts, it gets the first element of `t`, which is `1`, and assigns it to `x`.  It executes the `print` statement, which displays the value `1`.\n",
        "\n",
        "2. Then it gets the second element of `t`, which is `2`, and displays it.\n",
        "\n",
        "3. Then it gets the third element of `t`, which is `3`, and displays it.\n",
        "\n",
        "After printing the last element of the tuple, the loop ends.\n",
        "\n",
        "We can also loop through the letters in a string:"
      ]
    },
    {
      "cell_type": "code",
      "metadata": {
        "id": "NCVDrQfJu2QA",
        "colab_type": "code",
        "outputId": "f36769a7-7c1d-485b-e8eb-b038c29aeb5f",
        "colab": {
          "base_uri": "https://localhost:8080/",
          "height": 87
        }
      },
      "source": [
        "word = 'Data'\n",
        "\n",
        "for letter in word:\n",
        "    print(letter)"
      ],
      "execution_count": 3,
      "outputs": [
        {
          "output_type": "stream",
          "text": [
            "D\n",
            "a\n",
            "t\n",
            "a\n"
          ],
          "name": "stdout"
        }
      ]
    },
    {
      "cell_type": "markdown",
      "metadata": {
        "id": "erGTbcY0u2QH",
        "colab_type": "text"
      },
      "source": [
        "When the loop begins, `word` already exists, but `letter` does not.  Again, the loop creates `letter` and assign values to it.\n",
        "\n",
        "The variable created by the loop is called the \"loop variable\".  You can give it any name you like; in this example, I chose `letter` to remind me what kind of value it contains.\n",
        "\n",
        "After the loop ends, the loop variable contains the last value."
      ]
    },
    {
      "cell_type": "code",
      "metadata": {
        "id": "HF1XrgOCu2QK",
        "colab_type": "code",
        "outputId": "eaf3cb9c-85bb-4f4e-d66f-33ae4a224478",
        "colab": {
          "base_uri": "https://localhost:8080/",
          "height": 34
        }
      },
      "source": [
        "letter"
      ],
      "execution_count": 4,
      "outputs": [
        {
          "output_type": "execute_result",
          "data": {
            "text/plain": [
              "'a'"
            ]
          },
          "metadata": {
            "tags": []
          },
          "execution_count": 4
        }
      ]
    },
    {
      "cell_type": "markdown",
      "metadata": {
        "id": "F8_RJqxDu2QS",
        "colab_type": "text"
      },
      "source": [
        "**Exercise:** Create a list with four elements, of any type, and write a `for` loop that prints the elements.  Call the list `sequence` and the loop variable `element`."
      ]
    },
    {
      "cell_type": "code",
      "metadata": {
        "id": "bcKOC0Mdu2QV",
        "colab_type": "code",
        "outputId": "a26b5162-605e-4d4e-c827-2ec6907feef9",
        "colab": {
          "base_uri": "https://localhost:8080/",
          "height": 87
        }
      },
      "source": [
        "# Solution goes here\n",
        "l = [1, 2, 3, 4]\n",
        "for item in l:\n",
        "  print(item)"
      ],
      "execution_count": 5,
      "outputs": [
        {
          "output_type": "stream",
          "text": [
            "1\n",
            "2\n",
            "3\n",
            "4\n"
          ],
          "name": "stdout"
        }
      ]
    },
    {
      "cell_type": "markdown",
      "metadata": {
        "id": "J1bk8w3Eu2Qg",
        "colab_type": "text"
      },
      "source": [
        "You might wonder why I didn't call the list `list`.  I avoided it because Python has a function named `list` that makes new lists:"
      ]
    },
    {
      "cell_type": "code",
      "metadata": {
        "id": "d1ZIb2QFu2Qi",
        "colab_type": "code",
        "outputId": "ddd835a5-2ef4-4a35-9297-8def17097f30",
        "colab": {
          "base_uri": "https://localhost:8080/",
          "height": 34
        }
      },
      "source": [
        "list('string')"
      ],
      "execution_count": 6,
      "outputs": [
        {
          "output_type": "execute_result",
          "data": {
            "text/plain": [
              "['s', 't', 'r', 'i', 'n', 'g']"
            ]
          },
          "metadata": {
            "tags": []
          },
          "execution_count": 6
        }
      ]
    },
    {
      "cell_type": "markdown",
      "metadata": {
        "id": "OrQu5eN3u2Qp",
        "colab_type": "text"
      },
      "source": [
        "If you create a variable named `list`, you can't use the function any more."
      ]
    },
    {
      "cell_type": "code",
      "metadata": {
        "id": "-kL9BfgNu2Qt",
        "colab_type": "code",
        "outputId": "282286e9-83ac-4a39-b5af-8414b0657fc6",
        "colab": {
          "base_uri": "https://localhost:8080/",
          "height": 34
        }
      },
      "source": [
        "# list = [1, 2, 3]\n",
        "list('string')"
      ],
      "execution_count": 7,
      "outputs": [
        {
          "output_type": "execute_result",
          "data": {
            "text/plain": [
              "['s', 't', 'r', 'i', 'n', 'g']"
            ]
          },
          "metadata": {
            "tags": []
          },
          "execution_count": 7
        }
      ]
    },
    {
      "cell_type": "markdown",
      "metadata": {
        "id": "vc7hcWg6u2Q0",
        "colab_type": "text"
      },
      "source": [
        "In this example, Python tries to use your list as a function, which doesn't work because you can't \"call\" a list like a function.\n",
        "\n",
        "**Exercise:** After running that cell, we won't be able to use the `list` function until we restart the Python interpreter.  So this is a good time to find out how.\n",
        "\n",
        "1. \"Comment out\" the previous cell; that is, add the comment symbol, `#`, to the beginning of the first line so it will be treated as a comment.\n",
        "\n",
        "```\n",
        "# list = [1, 2, 3]\n",
        "list('string')\n",
        "```\n",
        "\n",
        "2. Now restart the Python interpreter.  If you are running this notebook on Colab, click the `Runtime` menu and select `Restart all runtimes...`; if you are running in another Jupyter environment, click on the `Kernel` menu and select `Restart`.\n",
        "\n",
        "When you restart the interpreter, your variables disappear, so you should start again at the beginning of the notebook and run the cells again, in order."
      ]
    },
    {
      "cell_type": "markdown",
      "metadata": {
        "id": "iW7wXZN8u2Q4",
        "colab_type": "text"
      },
      "source": [
        "## Looping and counting\n",
        "\n",
        "*War and Peace* is a famously long book; let's see how long it is.  To count the words in a book, we need to\n",
        "\n",
        "1. Loop through a book and \n",
        "\n",
        "2. Count.\n",
        "\n",
        "We'll start with counting.\n",
        "\n",
        "We've already seen that you can create a variable and give it a value, like this:"
      ]
    },
    {
      "cell_type": "code",
      "metadata": {
        "id": "q1iWDb9yu2Q8",
        "colab_type": "code",
        "outputId": "eb9e564d-deaf-465c-8f74-350d2fcf3aa7",
        "colab": {
          "base_uri": "https://localhost:8080/",
          "height": 34
        }
      },
      "source": [
        "count = 0\n",
        "count"
      ],
      "execution_count": 8,
      "outputs": [
        {
          "output_type": "execute_result",
          "data": {
            "text/plain": [
              "0"
            ]
          },
          "metadata": {
            "tags": []
          },
          "execution_count": 8
        }
      ]
    },
    {
      "cell_type": "markdown",
      "metadata": {
        "id": "UOPmyOdwu2RE",
        "colab_type": "text"
      },
      "source": [
        "If you assign a different value to the same variable, the new value replaces the old one."
      ]
    },
    {
      "cell_type": "code",
      "metadata": {
        "id": "WllLn5jSu2RH",
        "colab_type": "code",
        "outputId": "4e57c27d-f864-46e0-8e48-f5235b7875c4",
        "colab": {
          "base_uri": "https://localhost:8080/",
          "height": 34
        }
      },
      "source": [
        "count = 1\n",
        "count"
      ],
      "execution_count": 9,
      "outputs": [
        {
          "output_type": "execute_result",
          "data": {
            "text/plain": [
              "1"
            ]
          },
          "metadata": {
            "tags": []
          },
          "execution_count": 9
        }
      ]
    },
    {
      "cell_type": "markdown",
      "metadata": {
        "id": "XV60CCrNu2Ra",
        "colab_type": "text"
      },
      "source": [
        "You can increase the value of a variable by reading the old value, adding `1`, and assigning the result back to the original variable."
      ]
    },
    {
      "cell_type": "code",
      "metadata": {
        "id": "Q-r0XlNeu2Rc",
        "colab_type": "code",
        "outputId": "3e29385a-ead7-4911-d6a7-1e4eb49ca5fc",
        "colab": {
          "base_uri": "https://localhost:8080/",
          "height": 34
        }
      },
      "source": [
        "count = count + 1\n",
        "count"
      ],
      "execution_count": 10,
      "outputs": [
        {
          "output_type": "execute_result",
          "data": {
            "text/plain": [
              "2"
            ]
          },
          "metadata": {
            "tags": []
          },
          "execution_count": 10
        }
      ]
    },
    {
      "cell_type": "markdown",
      "metadata": {
        "id": "gd4gxExku2Ri",
        "colab_type": "text"
      },
      "source": [
        "Increasing the value of a variable is called an \"increment\"; decreasing the value is called a \"decrement\".  It is such a common operation that there is a special operator for it.  "
      ]
    },
    {
      "cell_type": "code",
      "metadata": {
        "id": "phE3DPgbu2Rk",
        "colab_type": "code",
        "outputId": "2bd6a75d-bd75-48ba-9801-aed1162da144",
        "colab": {
          "base_uri": "https://localhost:8080/",
          "height": 34
        }
      },
      "source": [
        "count += 1\n",
        "count"
      ],
      "execution_count": 11,
      "outputs": [
        {
          "output_type": "execute_result",
          "data": {
            "text/plain": [
              "3"
            ]
          },
          "metadata": {
            "tags": []
          },
          "execution_count": 11
        }
      ]
    },
    {
      "cell_type": "markdown",
      "metadata": {
        "id": "YrT-K4oOu2Rr",
        "colab_type": "text"
      },
      "source": [
        "In this example, the `+=` operator reads the value of `count`, adds `1`, and assigns the result back to `count`.\n",
        "\n",
        "Python also provides `-=` and other update operators like `*=` and `/=`."
      ]
    },
    {
      "cell_type": "markdown",
      "metadata": {
        "id": "0xa5V_JEu2Rw",
        "colab_type": "text"
      },
      "source": [
        "**Exercise:** The following is a number trick from [Learn With Math Games](https://www.learn-with-math-games.com/math-number-tricks.html)\n",
        "\n",
        "\"Finding Someone’s Age\n",
        "\n",
        "* Ask the person to multiply the first number of his or her age by 5.\n",
        "\n",
        "* Tell them to add 3.\n",
        "\n",
        "* Now tell them to double this figure.\n",
        "\n",
        "* Finally, have the person add the second number of his or her age to the figure and have them tell you their answer.\n",
        "\n",
        "* Deduct 6 and you will have their age.\"\n",
        "\n",
        "Test this algorithm using your age.  Use a single variable and update it using `+=` and other update operators."
      ]
    },
    {
      "cell_type": "code",
      "metadata": {
        "id": "Nh0wFkWwu2Rz",
        "colab_type": "code",
        "outputId": "1554c7e6-d330-4726-b520-67fb6ffa31e0",
        "colab": {
          "base_uri": "https://localhost:8080/",
          "height": 34
        }
      },
      "source": [
        "# Solution goes here\n",
        "# The second digit in my age is 2.\n",
        "age = 2\n",
        "age *= 5\n",
        "age += 3\n",
        "age *= 2\n",
        "# The second digit in my age is 0. \n",
        "age += 0\n",
        "age -= 6\n",
        "age"
      ],
      "execution_count": 40,
      "outputs": [
        {
          "output_type": "execute_result",
          "data": {
            "text/plain": [
              "20"
            ]
          },
          "metadata": {
            "tags": []
          },
          "execution_count": 40
        }
      ]
    },
    {
      "cell_type": "markdown",
      "metadata": {
        "id": "3l7bDsqTu2R6",
        "colab_type": "text"
      },
      "source": [
        "## Files\n",
        "\n",
        "Now we can use a loop to read lines from a file and use a variable to count them.\n",
        "\n",
        "We can download *War and Peace* from [Project Gutenberg](https://www.gutenberg.org), which is a repository of free books.\n",
        "\n",
        "The following cell imports `os`, which stands for \"operating system\"; it is a Python library that provides functions for interacting with files and other parts of the operating system."
      ]
    },
    {
      "cell_type": "code",
      "metadata": {
        "id": "2uBufizeu2R8",
        "colab_type": "code",
        "colab": {}
      },
      "source": [
        "import os"
      ],
      "execution_count": 0,
      "outputs": []
    },
    {
      "cell_type": "markdown",
      "metadata": {
        "id": "hYXiuCj2u2SE",
        "colab_type": "text"
      },
      "source": [
        "If you run the following cell, it checks to see whether you already have a file named `2600-0.txt`, which is the name of the file that contains the text of *War and Peace*.\n",
        "\n",
        "If not, it uses `wget` to copy the file from Project Gutenberg to your computer.  "
      ]
    },
    {
      "cell_type": "code",
      "metadata": {
        "id": "wUqPVqT4xSoQ",
        "colab_type": "code",
        "colab": {}
      },
      "source": [
        ""
      ],
      "execution_count": 0,
      "outputs": []
    },
    {
      "cell_type": "code",
      "metadata": {
        "id": "QZWo4mHpu2SG",
        "colab_type": "code",
        "colab": {}
      },
      "source": [
        "if not os.path.exists('2600-0.txt'):\n",
        "    !wget https://www.gutenberg.org/files/2600/2600-0.txt"
      ],
      "execution_count": 0,
      "outputs": []
    },
    {
      "cell_type": "markdown",
      "metadata": {
        "id": "NYd0-Q4tu2SO",
        "colab_type": "text"
      },
      "source": [
        "If you are running this notebook on Colab, it will copy the file to a \"virtual file system\" on Colab, which means it will disappear if you leave the notebook idle for a while.  In that case, you can download it again later.\n",
        "\n",
        "In order to read the contents of the file, you have to \"open\" it, which you can do with the `open` function."
      ]
    },
    {
      "cell_type": "code",
      "metadata": {
        "id": "qKE-VJ8eu2SQ",
        "colab_type": "code",
        "outputId": "209a9641-b603-45cb-c42b-fc9ca59bf454",
        "colab": {
          "base_uri": "https://localhost:8080/",
          "height": 34
        }
      },
      "source": [
        "fp = open('2600-0.txt')\n",
        "fp"
      ],
      "execution_count": 15,
      "outputs": [
        {
          "output_type": "execute_result",
          "data": {
            "text/plain": [
              "<_io.TextIOWrapper name='2600-0.txt' mode='r' encoding='UTF-8'>"
            ]
          },
          "metadata": {
            "tags": []
          },
          "execution_count": 15
        }
      ]
    },
    {
      "cell_type": "markdown",
      "metadata": {
        "id": "LkNqfETzu2SZ",
        "colab_type": "text"
      },
      "source": [
        "The result is a `TextIOWrapper`, which is a type of \"file pointer\".\n",
        "\n",
        "The file pointer contains the name of the file, the mode (which is `r` for \"reading\") and the encoding (which is `UTF` for \"Unicode Transformation Format\").\n",
        "\n",
        "A file pointer is like a bookmark; it keeps track of which parts of the file you have read.a"
      ]
    },
    {
      "cell_type": "markdown",
      "metadata": {
        "id": "heblpZr4u2Sb",
        "colab_type": "text"
      },
      "source": [
        "If you use a file pointer in a `for` loop, it loops through the lines in the file.\n",
        "\n",
        "So we can count the number of lines like this:"
      ]
    },
    {
      "cell_type": "code",
      "metadata": {
        "id": "wFpjg2E1u2Se",
        "colab_type": "code",
        "colab": {}
      },
      "source": [
        "fp = open('2600-0.txt')\n",
        "count = 0\n",
        "for line in fp:\n",
        "    count += 1"
      ],
      "execution_count": 0,
      "outputs": []
    },
    {
      "cell_type": "markdown",
      "metadata": {
        "id": "ry5y_aHVu2Sk",
        "colab_type": "text"
      },
      "source": [
        "And then display the result."
      ]
    },
    {
      "cell_type": "code",
      "metadata": {
        "id": "o6319B0Xu2Sm",
        "colab_type": "code",
        "outputId": "61e8710a-853c-46b7-8323-81a38126abfc",
        "colab": {
          "base_uri": "https://localhost:8080/",
          "height": 34
        }
      },
      "source": [
        "count"
      ],
      "execution_count": 17,
      "outputs": [
        {
          "output_type": "execute_result",
          "data": {
            "text/plain": [
              "66055"
            ]
          },
          "metadata": {
            "tags": []
          },
          "execution_count": 17
        }
      ]
    },
    {
      "cell_type": "markdown",
      "metadata": {
        "id": "xDkgnYSBu2Ss",
        "colab_type": "text"
      },
      "source": [
        "There are about 66,000 lines in this file."
      ]
    },
    {
      "cell_type": "markdown",
      "metadata": {
        "id": "bnwnyHf4u2St",
        "colab_type": "text"
      },
      "source": [
        "## if statements\n",
        "\n",
        "We've already see comparison operators, like `>` and `<`, which compare values and produce a Boolean result, `True` or `False`.\n",
        "\n",
        "For example, we can compare the final value of `count` to a number:"
      ]
    },
    {
      "cell_type": "code",
      "metadata": {
        "id": "GdSvVFxCu2Sv",
        "colab_type": "code",
        "outputId": "aed90365-f58d-4089-b9cf-d5f97ed6a2b6",
        "colab": {
          "base_uri": "https://localhost:8080/",
          "height": 34
        }
      },
      "source": [
        "count > 60000"
      ],
      "execution_count": 18,
      "outputs": [
        {
          "output_type": "execute_result",
          "data": {
            "text/plain": [
              "True"
            ]
          },
          "metadata": {
            "tags": []
          },
          "execution_count": 18
        }
      ]
    },
    {
      "cell_type": "markdown",
      "metadata": {
        "id": "ATqP9WQku2S2",
        "colab_type": "text"
      },
      "source": [
        "We can use a comparison operator in an `if` statement to check for a condition and take action accordingly."
      ]
    },
    {
      "cell_type": "code",
      "metadata": {
        "id": "nuuuO3XYu2S4",
        "colab_type": "code",
        "outputId": "98ce106f-fa2a-4257-cd51-3f10dc1e87e4",
        "colab": {
          "base_uri": "https://localhost:8080/",
          "height": 34
        }
      },
      "source": [
        "if count > 60000:\n",
        "    print('Long book!')"
      ],
      "execution_count": 19,
      "outputs": [
        {
          "output_type": "stream",
          "text": [
            "Long book!\n"
          ],
          "name": "stdout"
        }
      ]
    },
    {
      "cell_type": "markdown",
      "metadata": {
        "id": "mnPdXdZfu2TB",
        "colab_type": "text"
      },
      "source": [
        "The first line of the `if` statement specifies the condition we're checking for. Like the header of a `for` statement, the first line of an `if` statement has to end with a colon.\n",
        "\n",
        "If the condition is true, the indented statement runs; otherwise, it doesn't.\n",
        "\n",
        "In the previous example, the condition is true, so the `print` statement runs.  \n",
        "\n",
        "In the following example, the condition is false, so the `print` statement doesn't run."
      ]
    },
    {
      "cell_type": "code",
      "metadata": {
        "id": "Y-W0a2oTu2TD",
        "colab_type": "code",
        "colab": {}
      },
      "source": [
        "if count < 1000:\n",
        "    print('Novella!')"
      ],
      "execution_count": 0,
      "outputs": []
    },
    {
      "cell_type": "markdown",
      "metadata": {
        "id": "pA0ExyLLu2TI",
        "colab_type": "text"
      },
      "source": [
        "We can put a `print` statement inside a `for` loop.  In this example, we only print a line from the book when `count` is `1`.\n",
        "\n",
        "The other lines are read, but not displayed."
      ]
    },
    {
      "cell_type": "code",
      "metadata": {
        "id": "SPwTVjm5u2TK",
        "colab_type": "code",
        "outputId": "bc923c9d-938d-4759-d274-3170ea9e728b",
        "colab": {
          "base_uri": "https://localhost:8080/",
          "height": 52
        }
      },
      "source": [
        "fp = open('2600-0.txt')\n",
        "count = 0\n",
        "for line in fp:\n",
        "    if count == 1:\n",
        "        print(line)\n",
        "    count += 1"
      ],
      "execution_count": 21,
      "outputs": [
        {
          "output_type": "stream",
          "text": [
            "The Project Gutenberg EBook of War and Peace, by Leo Tolstoy\n",
            "\n"
          ],
          "name": "stdout"
        }
      ]
    },
    {
      "cell_type": "markdown",
      "metadata": {
        "id": "K9-zaXHhu2TR",
        "colab_type": "text"
      },
      "source": [
        "Notice the indentation in this example:\n",
        "\n",
        "* Statements inside the `for` loop are indented.\n",
        "\n",
        "* The statement inside the `if` statement is indented.\n",
        "\n",
        "* The statement `count += 1` is \"outdented\" from the previous line, so it ends the `if` statement.  But it is still inside the `for` loop.\n",
        "\n",
        "It is legal in Python to use spaces or tabs for indentation, but the most common convention is to use four spaces, never tabs.  That's what I'll do in my code and I strongly suggest you follow the convention."
      ]
    },
    {
      "cell_type": "markdown",
      "metadata": {
        "id": "uZyg0HCKu2TT",
        "colab_type": "text"
      },
      "source": [
        "## break statement\n",
        "\n",
        "If we display the final value of `count`, we see that the loop reads the entire file, but only prints one line:"
      ]
    },
    {
      "cell_type": "code",
      "metadata": {
        "id": "e8i0Uw8gu2TW",
        "colab_type": "code",
        "outputId": "a5dace72-8753-4c21-84c7-6d1afd0048b4",
        "colab": {
          "base_uri": "https://localhost:8080/",
          "height": 34
        }
      },
      "source": [
        "count"
      ],
      "execution_count": 22,
      "outputs": [
        {
          "output_type": "execute_result",
          "data": {
            "text/plain": [
              "66055"
            ]
          },
          "metadata": {
            "tags": []
          },
          "execution_count": 22
        }
      ]
    },
    {
      "cell_type": "markdown",
      "metadata": {
        "id": "2aM-11n6u2Tc",
        "colab_type": "text"
      },
      "source": [
        "We can avoid reading the whole file by using a `break` statement, like this:"
      ]
    },
    {
      "cell_type": "code",
      "metadata": {
        "id": "ySOCox1Ou2Te",
        "colab_type": "code",
        "outputId": "b43a5a6a-44a4-4f02-8620-671de2a9a8c6",
        "colab": {
          "base_uri": "https://localhost:8080/",
          "height": 52
        }
      },
      "source": [
        "fp = open('2600-0.txt')\n",
        "count = 0\n",
        "for line in fp:\n",
        "    if count == 1:\n",
        "        print(line)\n",
        "        break\n",
        "    count += 1"
      ],
      "execution_count": 23,
      "outputs": [
        {
          "output_type": "stream",
          "text": [
            "The Project Gutenberg EBook of War and Peace, by Leo Tolstoy\n",
            "\n"
          ],
          "name": "stdout"
        }
      ]
    },
    {
      "cell_type": "markdown",
      "metadata": {
        "id": "j7LNCxkSu2Tn",
        "colab_type": "text"
      },
      "source": [
        "The `break` statement ends the loop immediately, skipping the rest of the file.  We can confirm that by checking the last value of `count`: "
      ]
    },
    {
      "cell_type": "code",
      "metadata": {
        "id": "zB7FaH0Mu2To",
        "colab_type": "code",
        "outputId": "cab3f593-59a2-4229-9a23-bdd2f30be9a2",
        "colab": {
          "base_uri": "https://localhost:8080/",
          "height": 34
        }
      },
      "source": [
        "count"
      ],
      "execution_count": 24,
      "outputs": [
        {
          "output_type": "execute_result",
          "data": {
            "text/plain": [
              "1"
            ]
          },
          "metadata": {
            "tags": []
          },
          "execution_count": 24
        }
      ]
    },
    {
      "cell_type": "markdown",
      "metadata": {
        "id": "TtE3Zagbu2Tu",
        "colab_type": "text"
      },
      "source": [
        "**Exercise:** Write a loop that prints the first 5 lines of the file and then breaks out of the loop."
      ]
    },
    {
      "cell_type": "code",
      "metadata": {
        "id": "ySfUm4NTu2Tv",
        "colab_type": "code",
        "outputId": "41b86c80-6e50-4f8f-de2c-b94f0a195a1c",
        "colab": {
          "base_uri": "https://localhost:8080/",
          "height": 228
        }
      },
      "source": [
        "# Solution goes here\n",
        "fp = open('2600-0.txt')\n",
        "count = 0\n",
        "for line in fp:\n",
        "    print(line)\n",
        "    if count == 5:\n",
        "        break\n",
        "    count += 1"
      ],
      "execution_count": 37,
      "outputs": [
        {
          "output_type": "stream",
          "text": [
            "﻿\n",
            "\n",
            "The Project Gutenberg EBook of War and Peace, by Leo Tolstoy\n",
            "\n",
            "\n",
            "\n",
            "This eBook is for the use of anyone anywhere at no cost and with almost\n",
            "\n",
            "no restrictions whatsoever. You may copy it, give it away or re-use\n",
            "\n",
            "it under the terms of the Project Gutenberg License included with this\n",
            "\n"
          ],
          "name": "stdout"
        }
      ]
    },
    {
      "cell_type": "markdown",
      "metadata": {
        "id": "ztsZws3cu2T4",
        "colab_type": "text"
      },
      "source": [
        "## Whitespace\n",
        "\n",
        "If we run the loop again and display the final value of `line`, we see that there are two extra characters at the end:"
      ]
    },
    {
      "cell_type": "code",
      "metadata": {
        "id": "k3p18Ph8u2T5",
        "colab_type": "code",
        "outputId": "a0b11445-61ba-44a9-fd04-462696af9e50",
        "colab": {
          "base_uri": "https://localhost:8080/",
          "height": 52
        }
      },
      "source": [
        "fp = open('2600-0.txt')\n",
        "count = 0\n",
        "for line in fp:\n",
        "    if count == 1:\n",
        "        print(line)\n",
        "        break\n",
        "    count += 1"
      ],
      "execution_count": 26,
      "outputs": [
        {
          "output_type": "stream",
          "text": [
            "The Project Gutenberg EBook of War and Peace, by Leo Tolstoy\n",
            "\n"
          ],
          "name": "stdout"
        }
      ]
    },
    {
      "cell_type": "code",
      "metadata": {
        "id": "MHtWwHMNu2T-",
        "colab_type": "code",
        "outputId": "a27c73f1-8c08-4fb9-bb14-b3489f5db91f",
        "colab": {
          "base_uri": "https://localhost:8080/",
          "height": 34
        }
      },
      "source": [
        "line"
      ],
      "execution_count": 27,
      "outputs": [
        {
          "output_type": "execute_result",
          "data": {
            "text/plain": [
              "'The Project Gutenberg EBook of War and Peace, by Leo Tolstoy\\n'"
            ]
          },
          "metadata": {
            "tags": []
          },
          "execution_count": 27
        }
      ]
    },
    {
      "cell_type": "markdown",
      "metadata": {
        "id": "8o1GvHeAu2UE",
        "colab_type": "text"
      },
      "source": [
        "The sequence `\\n` represents a single character, called a \"newline\", that puts vertical space between lines.\n",
        "\n",
        "If we use a `print` statement to display `line`, we don't see the special sequence, but we do see extra space after the line."
      ]
    },
    {
      "cell_type": "code",
      "metadata": {
        "id": "UrAMsZiju2UG",
        "colab_type": "code",
        "outputId": "b2dd9f7c-b639-44a6-e2f6-7ee0975fd203",
        "colab": {
          "base_uri": "https://localhost:8080/",
          "height": 52
        }
      },
      "source": [
        "print(line)"
      ],
      "execution_count": 28,
      "outputs": [
        {
          "output_type": "stream",
          "text": [
            "The Project Gutenberg EBook of War and Peace, by Leo Tolstoy\n",
            "\n"
          ],
          "name": "stdout"
        }
      ]
    },
    {
      "cell_type": "markdown",
      "metadata": {
        "id": "IWUy7ilou2UL",
        "colab_type": "text"
      },
      "source": [
        "In other strings, you might see the sequence `\\t`, which represents a \"tab\" character.\n",
        "\n",
        "When you print a tab character, it adds enough space to make the next character appear in a column that is a multiple of 8."
      ]
    },
    {
      "cell_type": "code",
      "metadata": {
        "id": "YG8ko9hju2UM",
        "colab_type": "code",
        "outputId": "6222ebfd-5e30-4664-dba1-6d2e32b6e54b",
        "colab": {
          "base_uri": "https://localhost:8080/",
          "height": 52
        }
      },
      "source": [
        "print('01234567' * 6)\n",
        "print('a\\tbc\\tdef\\tghij\\tklmno\\tpqrstu')"
      ],
      "execution_count": 29,
      "outputs": [
        {
          "output_type": "stream",
          "text": [
            "012345670123456701234567012345670123456701234567\n",
            "a\tbc\tdef\tghij\tklmno\tpqrstu\n"
          ],
          "name": "stdout"
        }
      ]
    },
    {
      "cell_type": "markdown",
      "metadata": {
        "id": "SvpkiSR-u2UQ",
        "colab_type": "text"
      },
      "source": [
        "In the previous cell, the first line uses a feature we have not seen before: if you multiply a string by an integer, Python repeats the string the given number of times.\n",
        "\n",
        "Newline characters, tabs, and spaces are called \"whitespace\" because when they are printed they leave white space on the page."
      ]
    },
    {
      "cell_type": "markdown",
      "metadata": {
        "id": "PXGyhLMDu2UT",
        "colab_type": "text"
      },
      "source": [
        "## Counting words\n",
        "\n",
        "So far we've managed to count the lines in a file, but each line contains several words."
      ]
    },
    {
      "cell_type": "code",
      "metadata": {
        "id": "xF5FT28Xu2UV",
        "colab_type": "code",
        "outputId": "7c044caa-4e78-4705-a73b-9935d7bda67c",
        "colab": {
          "base_uri": "https://localhost:8080/",
          "height": 34
        }
      },
      "source": [
        "line"
      ],
      "execution_count": 30,
      "outputs": [
        {
          "output_type": "execute_result",
          "data": {
            "text/plain": [
              "'The Project Gutenberg EBook of War and Peace, by Leo Tolstoy\\n'"
            ]
          },
          "metadata": {
            "tags": []
          },
          "execution_count": 30
        }
      ]
    },
    {
      "cell_type": "markdown",
      "metadata": {
        "id": "NWuBff-4u2Uf",
        "colab_type": "text"
      },
      "source": [
        "To split a line into words, we can use a function called `split` that returns a list of words.\n",
        "\n",
        "To be more precise, `split` doesn't actually know what a word is; it just splits the line wherever there's a space or other whitespace character."
      ]
    },
    {
      "cell_type": "code",
      "metadata": {
        "id": "ROjaYEkyu2Um",
        "colab_type": "code",
        "outputId": "d27af0c3-1834-44cc-9a7b-ba7c055bddd9",
        "colab": {
          "base_uri": "https://localhost:8080/",
          "height": 210
        }
      },
      "source": [
        "line.split()"
      ],
      "execution_count": 31,
      "outputs": [
        {
          "output_type": "execute_result",
          "data": {
            "text/plain": [
              "['The',\n",
              " 'Project',\n",
              " 'Gutenberg',\n",
              " 'EBook',\n",
              " 'of',\n",
              " 'War',\n",
              " 'and',\n",
              " 'Peace,',\n",
              " 'by',\n",
              " 'Leo',\n",
              " 'Tolstoy']"
            ]
          },
          "metadata": {
            "tags": []
          },
          "execution_count": 31
        }
      ]
    },
    {
      "cell_type": "markdown",
      "metadata": {
        "id": "ohvRZqd_u2Uv",
        "colab_type": "text"
      },
      "source": [
        "Notice that the syntax for `split` is different from other functions we have seen.  Normally when we call a function, we name the function and provide values in parentheses.  So you might have expected to write `split(line)`.  Sadly, that doesn't work:"
      ]
    },
    {
      "cell_type": "code",
      "metadata": {
        "id": "YE6HP1_-u2Uw",
        "colab_type": "code",
        "outputId": "ef722df5-0b01-41a8-d8f2-4d416bf9d69c",
        "colab": {
          "base_uri": "https://localhost:8080/",
          "height": 167
        }
      },
      "source": [
        "split(line)"
      ],
      "execution_count": 32,
      "outputs": [
        {
          "output_type": "error",
          "ename": "NameError",
          "evalue": "ignored",
          "traceback": [
            "\u001b[0;31m---------------------------------------------------------------------------\u001b[0m",
            "\u001b[0;31mNameError\u001b[0m                                 Traceback (most recent call last)",
            "\u001b[0;32m<ipython-input-32-b5ba40708be5>\u001b[0m in \u001b[0;36m<module>\u001b[0;34m()\u001b[0m\n\u001b[0;32m----> 1\u001b[0;31m \u001b[0msplit\u001b[0m\u001b[0;34m(\u001b[0m\u001b[0mline\u001b[0m\u001b[0;34m)\u001b[0m\u001b[0;34m\u001b[0m\u001b[0;34m\u001b[0m\u001b[0m\n\u001b[0m",
            "\u001b[0;31mNameError\u001b[0m: name 'split' is not defined"
          ]
        }
      ]
    },
    {
      "cell_type": "markdown",
      "metadata": {
        "id": "aGFsWXNQu2U5",
        "colab_type": "text"
      },
      "source": [
        "The problem is that the `split` function belongs to the string `line`; in a sense, the function is attached to the string, so we can only refer to it using the string and the dot operator (the period between `line` and `split`).\n",
        "\n",
        "For historical reasons I won't try to explain, functions like this are called \"methods\".\n",
        "\n",
        "Anyway, now that we can split a line into a list of words, we can use `len` to get the number of words in each list, and increment `count` accordingly."
      ]
    },
    {
      "cell_type": "code",
      "metadata": {
        "id": "pqJr_DAVu2U6",
        "colab_type": "code",
        "colab": {}
      },
      "source": [
        "fp = open('2600-0.txt')\n",
        "count = 0\n",
        "for line in fp:\n",
        "    count += len(line.split())"
      ],
      "execution_count": 0,
      "outputs": []
    },
    {
      "cell_type": "code",
      "metadata": {
        "id": "_z31Cf0_u2VB",
        "colab_type": "code",
        "colab": {}
      },
      "source": [
        "count"
      ],
      "execution_count": 0,
      "outputs": []
    },
    {
      "cell_type": "markdown",
      "metadata": {
        "id": "G5txkQWIu2VH",
        "colab_type": "text"
      },
      "source": [
        "By this count, there are more than half a million words in *War and Peace*.\n",
        "\n",
        "Actually, there aren't quite that many, because the file we got from Project Gutenberg has some introductory text and a table of contents before the text.  And it has some license information at the end.\n",
        "\n",
        "To skip this \"frontmatter\", we can use one loop to read lines until we get to `CHAPTER I`, and then a second loop to count the words in the remaining lines.\n",
        "\n",
        "The file pointer, `fp`, keeps track of where it is in the file, so the second loop picks up where the first loop leaves off.\n",
        "\n",
        "In the second loop, we check for the end of the book and stop, so we ignore the \"endmatter\" at the end of the file."
      ]
    },
    {
      "cell_type": "code",
      "metadata": {
        "id": "eKR60Wpiu2VJ",
        "colab_type": "code",
        "colab": {}
      },
      "source": [
        "first_line = \"CHAPTER I\"\n",
        "last_line = \"End of the Project Gutenberg EBook of War and Peace, by Leo Tolstoy\\n\"\n",
        "\n",
        "fp = open('2600-0.txt')\n",
        "for line in fp:\n",
        "    if line == first_line:\n",
        "        break\n",
        "\n",
        "count = 0\n",
        "for line in fp:\n",
        "    if line == last_line:\n",
        "        print(line)\n",
        "        break\n",
        "    count += len(line.split())"
      ],
      "execution_count": 0,
      "outputs": []
    },
    {
      "cell_type": "code",
      "metadata": {
        "id": "wEkYi0Usu2VP",
        "colab_type": "code",
        "colab": {}
      },
      "source": [
        "count"
      ],
      "execution_count": 0,
      "outputs": []
    },
    {
      "cell_type": "markdown",
      "metadata": {
        "id": "Ktps_jxbu2VZ",
        "colab_type": "text"
      },
      "source": [
        "Two things to notice about this program:\n",
        "\n",
        "* When we compare two values to see if they are equal, we use the `==` operator, not to be confused with `=`, which is the assignment operator.\n",
        "\n",
        "* The string we compare `line` to has a newline at the end.  If we leave that out, it doesn't work."
      ]
    },
    {
      "cell_type": "markdown",
      "metadata": {
        "id": "_gKQI43lu2Va",
        "colab_type": "text"
      },
      "source": [
        "**Exercise:** \n",
        "\n",
        "1. In the previous program, replace `==` with `=` and see what happens.  This is a common error, so it is good to see what the error message looks like.  \n",
        "\n",
        "2. Correct the previous error, then remove the newline character after `CHAPTER I`, and see what happens.\n",
        "\n",
        "The first error is a \"syntax error\", which means that the program violates the rules of Python.  If your program has a syntax error, the Python interpreter prints an error message, and the program never runs.\n",
        "\n",
        "The second error is a \"logic error\", which means that there is something wrong with the logic of the program.  The syntax is legal, and the program runs, but it doesn't do what we wanted.  Logic errors can be hard to find because we don't get any error messages.  \n",
        "\n",
        "If you have a logic error, here are two strategies for debugging:\n",
        "\n",
        "1. Add print statements so the program displays additional information while it runs.\n",
        "\n",
        "2. Simplify the program until it does what you expect, and then gradually add more code, testing as you go."
      ]
    },
    {
      "cell_type": "code",
      "metadata": {
        "id": "_tuPm-vru2Vc",
        "colab_type": "code",
        "colab": {}
      },
      "source": [
        ""
      ],
      "execution_count": 0,
      "outputs": []
    }
  ]
}