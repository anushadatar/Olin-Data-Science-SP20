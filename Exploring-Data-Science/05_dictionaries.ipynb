{
  "nbformat": 4,
  "nbformat_minor": 0,
  "metadata": {
    "kernelspec": {
      "display_name": "Python 3",
      "language": "python",
      "name": "python3"
    },
    "language_info": {
      "codemirror_mode": {
        "name": "ipython",
        "version": 3
      },
      "file_extension": ".py",
      "mimetype": "text/x-python",
      "name": "python",
      "nbconvert_exporter": "python",
      "pygments_lexer": "ipython3",
      "version": "3.7.4"
    },
    "colab": {
      "name": "05_dictionaries.ipynb",
      "provenance": [],
      "collapsed_sections": [],
      "include_colab_link": true
    }
  },
  "cells": [
    {
      "cell_type": "markdown",
      "metadata": {
        "id": "view-in-github",
        "colab_type": "text"
      },
      "source": [
        "<a href=\"https://colab.research.google.com/github/anushadatar/Olin-Data-Science-SP20/blob/master/05_dictionaries.ipynb\" target=\"_parent\"><img src=\"https://colab.research.google.com/assets/colab-badge.svg\" alt=\"Open In Colab\"/></a>"
      ]
    },
    {
      "cell_type": "markdown",
      "metadata": {
        "id": "9JW6dtnPR1pR",
        "colab_type": "text"
      },
      "source": [
        "# Dictionaries\n",
        "\n",
        "Elements of Data Science\n",
        "\n",
        "by [Allen Downey](https://allendowney.com)\n",
        "\n",
        "[MIT License](https://opensource.org/licenses/MIT)\n",
        "\n",
        "### Goals\n",
        "\n",
        "In the previous notebook we used a `for` loop to read a file and count the words.  In this notebook, you'll learn about a new type called a \"dictionary\", and we will use it to count the number of unique words and the number of times each one appears.\n",
        "\n",
        "Along the way, you will also see how to use an index to select an element from a sequence (tuple, list, or array).  And you will learn a little about Unicode, which is used to represent letters, numbers, and punctuation for almost every language in the world."
      ]
    },
    {
      "cell_type": "markdown",
      "metadata": {
        "id": "zt0D7jToR1pX",
        "colab_type": "text"
      },
      "source": [
        "## Indexing\n",
        "\n",
        "Suppose you have a variable named `t` that refers to a list or tuple.\n",
        "You can select an element using the bracket operator, `[]`.  \n",
        "\n",
        "For example, here's a tuple of strings:"
      ]
    },
    {
      "cell_type": "code",
      "metadata": {
        "id": "NHb6bWu8R1pa",
        "colab_type": "code",
        "colab": {}
      },
      "source": [
        "t = 'zero', 'one', 'two'"
      ],
      "execution_count": 0,
      "outputs": []
    },
    {
      "cell_type": "markdown",
      "metadata": {
        "id": "3XLoRtlbR1pk",
        "colab_type": "text"
      },
      "source": [
        "To select the first element, we put `0` in brackets:"
      ]
    },
    {
      "cell_type": "code",
      "metadata": {
        "id": "HcZ0l9gdR1pm",
        "colab_type": "code",
        "outputId": "5076d0cb-5107-4f0d-fa02-21814d302ed3",
        "colab": {
          "base_uri": "https://localhost:8080/",
          "height": 34
        }
      },
      "source": [
        "t[0]"
      ],
      "execution_count": 0,
      "outputs": [
        {
          "output_type": "execute_result",
          "data": {
            "text/plain": [
              "'zero'"
            ]
          },
          "metadata": {
            "tags": []
          },
          "execution_count": 2
        }
      ]
    },
    {
      "cell_type": "markdown",
      "metadata": {
        "id": "axfIBCeiR1pu",
        "colab_type": "text"
      },
      "source": [
        "To select the second element, we put `1` in brackets:"
      ]
    },
    {
      "cell_type": "code",
      "metadata": {
        "id": "NG1XELwhR1px",
        "colab_type": "code",
        "outputId": "4ec7ad30-2dd2-49b4-db9b-fa9031e151f7",
        "colab": {
          "base_uri": "https://localhost:8080/",
          "height": 34
        }
      },
      "source": [
        "t[1]"
      ],
      "execution_count": 0,
      "outputs": [
        {
          "output_type": "execute_result",
          "data": {
            "text/plain": [
              "'one'"
            ]
          },
          "metadata": {
            "tags": []
          },
          "execution_count": 3
        }
      ]
    },
    {
      "cell_type": "markdown",
      "metadata": {
        "id": "_pm6pUs1R1p1",
        "colab_type": "text"
      },
      "source": [
        "\n",
        "To select the third element, we put `2` in brackets:"
      ]
    },
    {
      "cell_type": "code",
      "metadata": {
        "id": "2EOKS8HTR1p2",
        "colab_type": "code",
        "outputId": "247dbf40-4089-4e30-ddf7-8608faf21787",
        "colab": {
          "base_uri": "https://localhost:8080/",
          "height": 34
        }
      },
      "source": [
        "t[2]"
      ],
      "execution_count": 0,
      "outputs": [
        {
          "output_type": "execute_result",
          "data": {
            "text/plain": [
              "'two'"
            ]
          },
          "metadata": {
            "tags": []
          },
          "execution_count": 4
        }
      ]
    },
    {
      "cell_type": "markdown",
      "metadata": {
        "id": "c0stnF2yR1p6",
        "colab_type": "text"
      },
      "source": [
        "The number in brackets is called an \"index\" because it indicates which element we want.\n",
        "\n",
        "Tuples and lists use [zero-based numbering](https://en.wikipedia.org/wiki/Zero-based_numbering); that is, the index of the first element is 0.  Some other programming languages use one-based numbering.  There are pros and cons of both systems.\n",
        "\n",
        "The index in brackets can also be a variable:"
      ]
    },
    {
      "cell_type": "code",
      "metadata": {
        "id": "EqTnQtoVR1p8",
        "colab_type": "code",
        "outputId": "60417971-e8d0-4fdd-d711-16f6f96f9ae9",
        "colab": {
          "base_uri": "https://localhost:8080/",
          "height": 34
        }
      },
      "source": [
        "i = 1\n",
        "t[i]"
      ],
      "execution_count": 0,
      "outputs": [
        {
          "output_type": "execute_result",
          "data": {
            "text/plain": [
              "'one'"
            ]
          },
          "metadata": {
            "tags": []
          },
          "execution_count": 5
        }
      ]
    },
    {
      "cell_type": "markdown",
      "metadata": {
        "id": "Rmrn9pXiR1qC",
        "colab_type": "text"
      },
      "source": [
        "Or an expression with variables, values, and operators:"
      ]
    },
    {
      "cell_type": "code",
      "metadata": {
        "id": "2wmNuDLFR1qE",
        "colab_type": "code",
        "outputId": "d542594f-1a0d-4a58-92cd-78a641c05f2e",
        "colab": {
          "base_uri": "https://localhost:8080/",
          "height": 34
        }
      },
      "source": [
        "t[i+1]"
      ],
      "execution_count": 0,
      "outputs": [
        {
          "output_type": "execute_result",
          "data": {
            "text/plain": [
              "'two'"
            ]
          },
          "metadata": {
            "tags": []
          },
          "execution_count": 6
        }
      ]
    },
    {
      "cell_type": "markdown",
      "metadata": {
        "id": "34whzm-sR1qK",
        "colab_type": "text"
      },
      "source": [
        "But if the index goes past the end of the list or tuple, you get an error:"
      ]
    },
    {
      "cell_type": "code",
      "metadata": {
        "id": "oFnPzBJtR1qL",
        "colab_type": "code",
        "outputId": "f30704db-0132-448a-e2e0-b6a5679a0418",
        "colab": {
          "base_uri": "https://localhost:8080/",
          "height": 167
        }
      },
      "source": [
        "t[3]"
      ],
      "execution_count": 0,
      "outputs": [
        {
          "output_type": "error",
          "ename": "IndexError",
          "evalue": "ignored",
          "traceback": [
            "\u001b[0;31m---------------------------------------------------------------------------\u001b[0m",
            "\u001b[0;31mIndexError\u001b[0m                                Traceback (most recent call last)",
            "\u001b[0;32m<ipython-input-7-ffabd0b4a246>\u001b[0m in \u001b[0;36m<module>\u001b[0;34m()\u001b[0m\n\u001b[0;32m----> 1\u001b[0;31m \u001b[0mt\u001b[0m\u001b[0;34m[\u001b[0m\u001b[0;36m3\u001b[0m\u001b[0;34m]\u001b[0m\u001b[0;34m\u001b[0m\u001b[0;34m\u001b[0m\u001b[0m\n\u001b[0m",
            "\u001b[0;31mIndexError\u001b[0m: tuple index out of range"
          ]
        }
      ]
    },
    {
      "cell_type": "markdown",
      "metadata": {
        "id": "-yAHeV9SR1qT",
        "colab_type": "text"
      },
      "source": [
        "The index has to be an integer; if it is any other type, you get an error."
      ]
    },
    {
      "cell_type": "code",
      "metadata": {
        "id": "Uui_-wMlR1qU",
        "colab_type": "code",
        "outputId": "77762664-bbcb-407e-893d-8f6c4126e1f6",
        "colab": {
          "base_uri": "https://localhost:8080/",
          "height": 167
        }
      },
      "source": [
        "t[1.5]"
      ],
      "execution_count": 0,
      "outputs": [
        {
          "output_type": "error",
          "ename": "TypeError",
          "evalue": "ignored",
          "traceback": [
            "\u001b[0;31m---------------------------------------------------------------------------\u001b[0m",
            "\u001b[0;31mTypeError\u001b[0m                                 Traceback (most recent call last)",
            "\u001b[0;32m<ipython-input-8-9db65ba33973>\u001b[0m in \u001b[0;36m<module>\u001b[0;34m()\u001b[0m\n\u001b[0;32m----> 1\u001b[0;31m \u001b[0mt\u001b[0m\u001b[0;34m[\u001b[0m\u001b[0;36m1.5\u001b[0m\u001b[0;34m]\u001b[0m\u001b[0;34m\u001b[0m\u001b[0;34m\u001b[0m\u001b[0m\n\u001b[0m",
            "\u001b[0;31mTypeError\u001b[0m: tuple indices must be integers or slices, not float"
          ]
        }
      ]
    },
    {
      "cell_type": "code",
      "metadata": {
        "id": "S2NBIvPxR1qY",
        "colab_type": "code",
        "outputId": "3a2e48af-2620-4ec7-97e1-645b0806e9c7",
        "colab": {
          "base_uri": "https://localhost:8080/",
          "height": 167
        }
      },
      "source": [
        "t['index']"
      ],
      "execution_count": 0,
      "outputs": [
        {
          "output_type": "error",
          "ename": "TypeError",
          "evalue": "ignored",
          "traceback": [
            "\u001b[0;31m---------------------------------------------------------------------------\u001b[0m",
            "\u001b[0;31mTypeError\u001b[0m                                 Traceback (most recent call last)",
            "\u001b[0;32m<ipython-input-9-261e48520458>\u001b[0m in \u001b[0;36m<module>\u001b[0;34m()\u001b[0m\n\u001b[0;32m----> 1\u001b[0;31m \u001b[0mt\u001b[0m\u001b[0;34m[\u001b[0m\u001b[0;34m'index'\u001b[0m\u001b[0;34m]\u001b[0m\u001b[0;34m\u001b[0m\u001b[0;34m\u001b[0m\u001b[0m\n\u001b[0m",
            "\u001b[0;31mTypeError\u001b[0m: tuple indices must be integers or slices, not str"
          ]
        }
      ]
    },
    {
      "cell_type": "markdown",
      "metadata": {
        "id": "gzxyBjq_R1qb",
        "colab_type": "text"
      },
      "source": [
        "**Exercise:** You can use negative integers as indices.  Try using `-1` and `-2` as indices, and see if you can figure out what they do. "
      ]
    },
    {
      "cell_type": "code",
      "metadata": {
        "id": "KJxY_hYCR1qc",
        "colab_type": "code",
        "outputId": "ec92a524-82e3-4194-977d-8bdd82eb2c3e",
        "colab": {
          "base_uri": "https://localhost:8080/",
          "height": 34
        }
      },
      "source": [
        "# Solution goes here\n",
        "# Starts from the end.\n",
        "t[-1]"
      ],
      "execution_count": 0,
      "outputs": [
        {
          "output_type": "execute_result",
          "data": {
            "text/plain": [
              "'two'"
            ]
          },
          "metadata": {
            "tags": []
          },
          "execution_count": 12
        }
      ]
    },
    {
      "cell_type": "code",
      "metadata": {
        "id": "VbE31wriR1qf",
        "colab_type": "code",
        "outputId": "bc158e77-d27d-4259-db42-67c3795e48da",
        "colab": {
          "base_uri": "https://localhost:8080/",
          "height": 34
        }
      },
      "source": [
        "# Solution goes here\n",
        "# Starts from the end.\n",
        "t[-2]"
      ],
      "execution_count": 0,
      "outputs": [
        {
          "output_type": "execute_result",
          "data": {
            "text/plain": [
              "'one'"
            ]
          },
          "metadata": {
            "tags": []
          },
          "execution_count": 14
        }
      ]
    },
    {
      "cell_type": "markdown",
      "metadata": {
        "id": "js8FkHkMR1ql",
        "colab_type": "text"
      },
      "source": [
        "## Dictionaries\n",
        "\n",
        "A dictionary is similar to a tuple or list, but in a dictionary, the index can be almost any type, not just an integer.\n",
        "\n",
        "We can create an empty dictionary like this:"
      ]
    },
    {
      "cell_type": "code",
      "metadata": {
        "id": "-8TRGcM8R1qo",
        "colab_type": "code",
        "colab": {}
      },
      "source": [
        "d = {}"
      ],
      "execution_count": 0,
      "outputs": []
    },
    {
      "cell_type": "markdown",
      "metadata": {
        "id": "Rblvsl11R1qv",
        "colab_type": "text"
      },
      "source": [
        "Then we can add elements like this:"
      ]
    },
    {
      "cell_type": "code",
      "metadata": {
        "id": "7Dkjdl1KR1qy",
        "colab_type": "code",
        "colab": {}
      },
      "source": [
        "d['one'] = 1\n",
        "d['two'] = 2"
      ],
      "execution_count": 0,
      "outputs": []
    },
    {
      "cell_type": "markdown",
      "metadata": {
        "id": "Fy_Wt3wYR1q4",
        "colab_type": "text"
      },
      "source": [
        "If you display the dictionary, it shows each index and the corresponding value. "
      ]
    },
    {
      "cell_type": "code",
      "metadata": {
        "id": "OTg0Z3q6R1q5",
        "colab_type": "code",
        "outputId": "1789d4f2-74fd-4521-9b8b-c1d2f459f267",
        "colab": {
          "base_uri": "https://localhost:8080/",
          "height": 34
        }
      },
      "source": [
        "d"
      ],
      "execution_count": 0,
      "outputs": [
        {
          "output_type": "execute_result",
          "data": {
            "text/plain": [
              "{'one': 1, 'two': 2}"
            ]
          },
          "metadata": {
            "tags": []
          },
          "execution_count": 17
        }
      ]
    },
    {
      "cell_type": "markdown",
      "metadata": {
        "id": "_Xa_4P5KR1q_",
        "colab_type": "text"
      },
      "source": [
        "Instead of creating an empty dictionary and then adding elements, you can create a dictionary and specify the elements at the same time:"
      ]
    },
    {
      "cell_type": "code",
      "metadata": {
        "id": "nuD8P53XR1rA",
        "colab_type": "code",
        "outputId": "6179c8be-560d-4694-95ee-bd8cc6f03a18",
        "colab": {
          "base_uri": "https://localhost:8080/",
          "height": 34
        }
      },
      "source": [
        "d = {'one': 1, 'two': 2, 'three': 3}\n",
        "d"
      ],
      "execution_count": 0,
      "outputs": [
        {
          "output_type": "execute_result",
          "data": {
            "text/plain": [
              "{'one': 1, 'three': 3, 'two': 2}"
            ]
          },
          "metadata": {
            "tags": []
          },
          "execution_count": 18
        }
      ]
    },
    {
      "cell_type": "markdown",
      "metadata": {
        "id": "LOCKZ5xYR1rF",
        "colab_type": "text"
      },
      "source": [
        "When we are talking about dictionaries, an index is usually called a \"key\".  In this example, the keys are strings and the corresponding values are integers.\n",
        "\n",
        "A dictionary is also called a \"map\", because it represents a mapping, in the sense of a correspondence, between keys and values.  So we might say that this dictionary \"maps from\" English number names to the corresponding integers.\n",
        "\n",
        "You can use the bracket operator to select an element from a dictionary, like this:"
      ]
    },
    {
      "cell_type": "code",
      "metadata": {
        "id": "FT0dGe_8R1rH",
        "colab_type": "code",
        "outputId": "fae44980-15ad-46fe-d715-8fb4c683a979",
        "colab": {
          "base_uri": "https://localhost:8080/",
          "height": 34
        }
      },
      "source": [
        "d['two']"
      ],
      "execution_count": 0,
      "outputs": [
        {
          "output_type": "execute_result",
          "data": {
            "text/plain": [
              "2"
            ]
          },
          "metadata": {
            "tags": []
          },
          "execution_count": 19
        }
      ]
    },
    {
      "cell_type": "markdown",
      "metadata": {
        "id": "tzlXh-luR1rO",
        "colab_type": "text"
      },
      "source": [
        "But don't forget the quotation marks.  If you write something like this:"
      ]
    },
    {
      "cell_type": "code",
      "metadata": {
        "id": "0nAxW5AMR1rQ",
        "colab_type": "code",
        "outputId": "efa7f07b-163e-45a7-9ab8-b348e8a9ab9d",
        "colab": {
          "base_uri": "https://localhost:8080/",
          "height": 167
        }
      },
      "source": [
        "d[two]"
      ],
      "execution_count": 0,
      "outputs": [
        {
          "output_type": "error",
          "ename": "NameError",
          "evalue": "ignored",
          "traceback": [
            "\u001b[0;31m---------------------------------------------------------------------------\u001b[0m",
            "\u001b[0;31mNameError\u001b[0m                                 Traceback (most recent call last)",
            "\u001b[0;32m<ipython-input-20-59afea98a974>\u001b[0m in \u001b[0;36m<module>\u001b[0;34m()\u001b[0m\n\u001b[0;32m----> 1\u001b[0;31m \u001b[0md\u001b[0m\u001b[0;34m[\u001b[0m\u001b[0mtwo\u001b[0m\u001b[0;34m]\u001b[0m\u001b[0;34m\u001b[0m\u001b[0;34m\u001b[0m\u001b[0m\n\u001b[0m",
            "\u001b[0;31mNameError\u001b[0m: name 'two' is not defined"
          ]
        }
      ]
    },
    {
      "cell_type": "markdown",
      "metadata": {
        "id": "du74BOlwR1rV",
        "colab_type": "text"
      },
      "source": [
        "Python looks for a variable named `two` and doesn't find one."
      ]
    },
    {
      "cell_type": "markdown",
      "metadata": {
        "id": "RVekc7m5R1rX",
        "colab_type": "text"
      },
      "source": [
        "To check whether a particular key is in a dictionary, you can use the special word `in`:"
      ]
    },
    {
      "cell_type": "code",
      "metadata": {
        "id": "c9IDz4faR1rY",
        "colab_type": "code",
        "outputId": "be81fe4e-7dff-4fa5-f7c8-6e6e698551df",
        "colab": {
          "base_uri": "https://localhost:8080/",
          "height": 34
        }
      },
      "source": [
        "'one' in d"
      ],
      "execution_count": 0,
      "outputs": [
        {
          "output_type": "execute_result",
          "data": {
            "text/plain": [
              "True"
            ]
          },
          "metadata": {
            "tags": []
          },
          "execution_count": 21
        }
      ]
    },
    {
      "cell_type": "code",
      "metadata": {
        "id": "i_9uvIuJR1rd",
        "colab_type": "code",
        "outputId": "297c4fa0-a05e-4ae0-83d9-9294b61ef5b9",
        "colab": {
          "base_uri": "https://localhost:8080/",
          "height": 34
        }
      },
      "source": [
        "'zero' in d"
      ],
      "execution_count": 0,
      "outputs": [
        {
          "output_type": "execute_result",
          "data": {
            "text/plain": [
              "False"
            ]
          },
          "metadata": {
            "tags": []
          },
          "execution_count": 22
        }
      ]
    },
    {
      "cell_type": "markdown",
      "metadata": {
        "id": "gsFgbNhQR1ri",
        "colab_type": "text"
      },
      "source": [
        "The word `in` is actually an operator in Python, so you can't use it as a variable name:"
      ]
    },
    {
      "cell_type": "code",
      "metadata": {
        "id": "BEYfdcoLR1rm",
        "colab_type": "code",
        "outputId": "eee216f1-ce26-4f97-ffec-15577435767c",
        "colab": {
          "base_uri": "https://localhost:8080/",
          "height": 132
        }
      },
      "source": [
        "in = 5"
      ],
      "execution_count": 0,
      "outputs": [
        {
          "output_type": "error",
          "ename": "SyntaxError",
          "evalue": "ignored",
          "traceback": [
            "\u001b[0;36m  File \u001b[0;32m\"<ipython-input-23-0e0c90d245a5>\"\u001b[0;36m, line \u001b[0;32m1\u001b[0m\n\u001b[0;31m    in = 5\u001b[0m\n\u001b[0m     ^\u001b[0m\n\u001b[0;31mSyntaxError\u001b[0m\u001b[0;31m:\u001b[0m invalid syntax\n"
          ]
        }
      ]
    },
    {
      "cell_type": "markdown",
      "metadata": {
        "id": "oE5P40cmR1rp",
        "colab_type": "text"
      },
      "source": [
        "If a key is already in a dictionary, adding it again has no effect:"
      ]
    },
    {
      "cell_type": "code",
      "metadata": {
        "id": "KB-eD4hFR1rr",
        "colab_type": "code",
        "outputId": "3ac5775d-c75a-4bcd-bc9c-8340db465c74",
        "colab": {
          "base_uri": "https://localhost:8080/",
          "height": 34
        }
      },
      "source": [
        "d"
      ],
      "execution_count": 0,
      "outputs": [
        {
          "output_type": "execute_result",
          "data": {
            "text/plain": [
              "{'one': 1, 'three': 3, 'two': 2}"
            ]
          },
          "metadata": {
            "tags": []
          },
          "execution_count": 24
        }
      ]
    },
    {
      "cell_type": "code",
      "metadata": {
        "id": "eJ43ViacR1ru",
        "colab_type": "code",
        "outputId": "513529af-f178-42be-c5be-95ea3191e48e",
        "colab": {
          "base_uri": "https://localhost:8080/",
          "height": 34
        }
      },
      "source": [
        "d['one'] = 1\n",
        "d"
      ],
      "execution_count": 0,
      "outputs": [
        {
          "output_type": "execute_result",
          "data": {
            "text/plain": [
              "{'one': 1, 'three': 3, 'two': 2}"
            ]
          },
          "metadata": {
            "tags": []
          },
          "execution_count": 25
        }
      ]
    },
    {
      "cell_type": "markdown",
      "metadata": {
        "id": "0eaKjrzaR1rz",
        "colab_type": "text"
      },
      "source": [
        "But you can also change the value associated with a key:"
      ]
    },
    {
      "cell_type": "code",
      "metadata": {
        "id": "XpX9IhVrR1r2",
        "colab_type": "code",
        "outputId": "95baa3bd-6853-4622-af4f-72cd020f712c",
        "colab": {
          "base_uri": "https://localhost:8080/",
          "height": 34
        }
      },
      "source": [
        "d['one'] = 100\n",
        "d"
      ],
      "execution_count": 0,
      "outputs": [
        {
          "output_type": "execute_result",
          "data": {
            "text/plain": [
              "{'one': 100, 'three': 3, 'two': 2}"
            ]
          },
          "metadata": {
            "tags": []
          },
          "execution_count": 26
        }
      ]
    },
    {
      "cell_type": "markdown",
      "metadata": {
        "id": "D6RODkmWR1r5",
        "colab_type": "text"
      },
      "source": [
        "You can loop through the keys in a dictionary like this:"
      ]
    },
    {
      "cell_type": "code",
      "metadata": {
        "id": "V1N6kKXOR1r6",
        "colab_type": "code",
        "outputId": "c1c6eb41-734b-4b3b-8b34-fbf4441208fe",
        "colab": {
          "base_uri": "https://localhost:8080/",
          "height": 70
        }
      },
      "source": [
        "for key in d:\n",
        "    print(key)"
      ],
      "execution_count": 0,
      "outputs": [
        {
          "output_type": "stream",
          "text": [
            "one\n",
            "two\n",
            "three\n"
          ],
          "name": "stdout"
        }
      ]
    },
    {
      "cell_type": "markdown",
      "metadata": {
        "id": "kAo5nKLTR1r-",
        "colab_type": "text"
      },
      "source": [
        "If you want the keys and the values, a simple way to get them is to loop through the keys and look up the values:"
      ]
    },
    {
      "cell_type": "code",
      "metadata": {
        "id": "BHXazD8RR1r-",
        "colab_type": "code",
        "outputId": "3ac0b8d4-2375-4903-8dae-a529c79544a4",
        "colab": {
          "base_uri": "https://localhost:8080/",
          "height": 70
        }
      },
      "source": [
        "for key in d:\n",
        "    print(key, d[key])"
      ],
      "execution_count": 0,
      "outputs": [
        {
          "output_type": "stream",
          "text": [
            "one 100\n",
            "two 2\n",
            "three 3\n"
          ],
          "name": "stdout"
        }
      ]
    },
    {
      "cell_type": "markdown",
      "metadata": {
        "id": "8zluB2oiR1sC",
        "colab_type": "text"
      },
      "source": [
        "Or you can loop through both at the same time, like this:"
      ]
    },
    {
      "cell_type": "code",
      "metadata": {
        "id": "KxQ7N2raR1sE",
        "colab_type": "code",
        "outputId": "75b55092-b9d5-43c1-fb9b-8696d22f3259",
        "colab": {
          "base_uri": "https://localhost:8080/",
          "height": 70
        }
      },
      "source": [
        "for key, value in d.items():\n",
        "    print(key, value)"
      ],
      "execution_count": 0,
      "outputs": [
        {
          "output_type": "stream",
          "text": [
            "one 100\n",
            "two 2\n",
            "three 3\n"
          ],
          "name": "stdout"
        }
      ]
    },
    {
      "cell_type": "markdown",
      "metadata": {
        "id": "G878BFkWR1sI",
        "colab_type": "text"
      },
      "source": [
        "The `items` method loops through the key-value pairs in the dictionary; each time through the loop, they are assigned to `key` and `value`."
      ]
    },
    {
      "cell_type": "markdown",
      "metadata": {
        "id": "b51tDiNeR1sK",
        "colab_type": "text"
      },
      "source": [
        "**Exercise:** Make a dictionary with the numbers `1`, `2`, and `3` as keys and strings as values.  The strings should be the numbers \"one\", \"two\", and \"three\" in any language you know.\n",
        "\n",
        "Write a loop that prints just the values from the dictionary."
      ]
    },
    {
      "cell_type": "code",
      "metadata": {
        "id": "grF32GRnR1sL",
        "colab_type": "code",
        "colab": {}
      },
      "source": [
        "# Solution goes here\n",
        "d = {1: \"uno\", 2:\"dos\", 3:\"tres\"}"
      ],
      "execution_count": 0,
      "outputs": []
    },
    {
      "cell_type": "code",
      "metadata": {
        "id": "YJVWSCEwR1sR",
        "colab_type": "code",
        "outputId": "5fc34192-f7bc-4c8d-f16f-77026bbece02",
        "colab": {
          "base_uri": "https://localhost:8080/",
          "height": 70
        }
      },
      "source": [
        "# Solution goes here\n",
        "for key in d:\n",
        "  print(d[key])"
      ],
      "execution_count": 0,
      "outputs": [
        {
          "output_type": "stream",
          "text": [
            "uno\n",
            "dos\n",
            "tres\n"
          ],
          "name": "stdout"
        }
      ]
    },
    {
      "cell_type": "markdown",
      "metadata": {
        "id": "E-oxvFZ_R1sW",
        "colab_type": "text"
      },
      "source": [
        "## Unique words\n",
        "\n",
        "In the previous notebook we downloaded *War and Peace* from [Project Gutenberg](https://www.gutenberg.org) and counted the number of lines and words.\n",
        "\n",
        "Now that we have dictionaries, we can also count the number of unique words and the number of times each one appears.\n",
        "\n",
        "First, let's download the book again.  If you run the following cell, it checks to see whether you already have a file named `2600-0.txt`; if not, it uses `wget` to copy the file from Project Gutenberg to your computer.  "
      ]
    },
    {
      "cell_type": "code",
      "metadata": {
        "id": "4fqtgMYgR1sX",
        "colab_type": "code",
        "outputId": "79250649-d2df-4bf3-952b-f3332ca2889b",
        "colab": {
          "base_uri": "https://localhost:8080/",
          "height": 210
        }
      },
      "source": [
        "import os\n",
        "\n",
        "if not os.path.exists('2600-0.txt'):\n",
        "    !wget https://www.gutenberg.org/files/2600/2600-0.txt"
      ],
      "execution_count": 0,
      "outputs": [
        {
          "output_type": "stream",
          "text": [
            "--2020-01-27 19:39:37--  https://www.gutenberg.org/files/2600/2600-0.txt\n",
            "Resolving www.gutenberg.org (www.gutenberg.org)... 152.19.134.47, 2610:28:3090:3000:0:bad:cafe:47\n",
            "Connecting to www.gutenberg.org (www.gutenberg.org)|152.19.134.47|:443... connected.\n",
            "HTTP request sent, awaiting response... 200 OK\n",
            "Length: 3359549 (3.2M) [text/plain]\n",
            "Saving to: ‘2600-0.txt’\n",
            "\n",
            "2600-0.txt          100%[===================>]   3.20M  2.13MB/s    in 1.5s    \n",
            "\n",
            "2020-01-27 19:39:39 (2.13 MB/s) - ‘2600-0.txt’ saved [3359549/3359549]\n",
            "\n"
          ],
          "name": "stdout"
        }
      ]
    },
    {
      "cell_type": "markdown",
      "metadata": {
        "id": "g_bng4P9R1sb",
        "colab_type": "text"
      },
      "source": [
        "Now we can read the file and count the words as we did in the previous notebook:"
      ]
    },
    {
      "cell_type": "code",
      "metadata": {
        "id": "be-_6cZSR1sc",
        "colab_type": "code",
        "outputId": "38e850ec-97ed-4715-dc8b-68b6414378aa",
        "colab": {
          "base_uri": "https://localhost:8080/",
          "height": 34
        }
      },
      "source": [
        "fp = open('2600-0.txt')\n",
        "count = 0\n",
        "for line in fp:\n",
        "    count += len(line.split())\n",
        "    \n",
        "count"
      ],
      "execution_count": 0,
      "outputs": [
        {
          "output_type": "execute_result",
          "data": {
            "text/plain": [
              "566311"
            ]
          },
          "metadata": {
            "tags": []
          },
          "execution_count": 36
        }
      ]
    },
    {
      "cell_type": "markdown",
      "metadata": {
        "id": "pi3ziq0xR1sf",
        "colab_type": "text"
      },
      "source": [
        "To count the number of unique words, I'll loop through the words in each line and add as keys in a dictionary:"
      ]
    },
    {
      "cell_type": "code",
      "metadata": {
        "id": "g-vkIpkYR1sg",
        "colab_type": "code",
        "colab": {}
      },
      "source": [
        "fp = open('2600-0.txt')\n",
        "unique_words = {}\n",
        "for line in fp:\n",
        "    for word in line.split():\n",
        "        unique_words[word] = 1"
      ],
      "execution_count": 0,
      "outputs": []
    },
    {
      "cell_type": "markdown",
      "metadata": {
        "id": "HW14cRLWR1sj",
        "colab_type": "text"
      },
      "source": [
        "This is the first example we've seen with one loop inside another.\n",
        "\n",
        "* The outer loop runs through the lines in the file.\n",
        "\n",
        "* The inner loops runs through the words in each line.\n",
        "\n",
        "Each time through the inner loop, we add a word as a key in the dictionary, with the value 1.  If the same word appears more than once, it gets added to the dictionary again, which has no effect.  So the dictionary contains only one copy of each unique word in the file.\n",
        "\n",
        "At the end of the loop, we can display the first 10 keys:"
      ]
    },
    {
      "cell_type": "code",
      "metadata": {
        "id": "xAJetn2eR1sj",
        "colab_type": "code",
        "outputId": "c6948eea-b71e-4df8-8195-a8c606a9e356",
        "colab": {
          "base_uri": "https://localhost:8080/",
          "height": 193
        }
      },
      "source": [
        "i = 0\n",
        "for key in unique_words:\n",
        "    print(key)\n",
        "    i += 1\n",
        "    if i == 10:\n",
        "        break"
      ],
      "execution_count": 0,
      "outputs": [
        {
          "output_type": "stream",
          "text": [
            "﻿\n",
            "The\n",
            "Project\n",
            "Gutenberg\n",
            "EBook\n",
            "of\n",
            "War\n",
            "and\n",
            "Peace,\n",
            "by\n"
          ],
          "name": "stdout"
        }
      ]
    },
    {
      "cell_type": "markdown",
      "metadata": {
        "id": "9vAobavjR1sv",
        "colab_type": "text"
      },
      "source": [
        "So far, it looks like all the words in the file, in order.\n",
        "\n",
        "But each word only appears once, so the number of keys is the number of unique words:"
      ]
    },
    {
      "cell_type": "code",
      "metadata": {
        "id": "JGZ9YS2fR1sx",
        "colab_type": "code",
        "outputId": "4b9bcbd5-6a44-43d2-e734-3cbb89e9847f",
        "colab": {
          "base_uri": "https://localhost:8080/",
          "height": 34
        }
      },
      "source": [
        "len(unique_words)"
      ],
      "execution_count": 0,
      "outputs": [
        {
          "output_type": "execute_result",
          "data": {
            "text/plain": [
              "41993"
            ]
          },
          "metadata": {
            "tags": []
          },
          "execution_count": 39
        }
      ]
    },
    {
      "cell_type": "markdown",
      "metadata": {
        "id": "QjGCZQqLR1s2",
        "colab_type": "text"
      },
      "source": [
        "It looks like there are about 42,000 different words in the book, which is substantially less than the total number of words, about 560,000. \n",
        "\n",
        "But that's not quite right, because we have not taken into account capitalization and punctuation."
      ]
    },
    {
      "cell_type": "markdown",
      "metadata": {
        "id": "41RGHI2uR1s4",
        "colab_type": "text"
      },
      "source": [
        "**Exercise:** Before we deal with those problems, let's practice with \"nested loops\", that is, one loop inside another.\n",
        "\n",
        "Suppose you have a list of words, like this:"
      ]
    },
    {
      "cell_type": "code",
      "metadata": {
        "id": "k4pyiDkUR1s5",
        "colab_type": "code",
        "colab": {}
      },
      "source": [
        "line = ['War', 'and', 'Peace']"
      ],
      "execution_count": 0,
      "outputs": []
    },
    {
      "cell_type": "markdown",
      "metadata": {
        "id": "T3hJRHWsR1s9",
        "colab_type": "text"
      },
      "source": [
        "Write a nested loop that iterates through each word in the list, and each letter in each word, and prints the letters on separate lines."
      ]
    },
    {
      "cell_type": "code",
      "metadata": {
        "id": "Vaee_7p7R1s-",
        "colab_type": "code",
        "outputId": "acd45ce5-9e40-47ed-f3eb-2903dbff4f6f",
        "colab": {
          "base_uri": "https://localhost:8080/",
          "height": 210
        }
      },
      "source": [
        "# Solution goes here\n",
        "for word in line:\n",
        "  for letter in word:\n",
        "    print(letter)"
      ],
      "execution_count": 0,
      "outputs": [
        {
          "output_type": "stream",
          "text": [
            "W\n",
            "a\n",
            "r\n",
            "a\n",
            "n\n",
            "d\n",
            "P\n",
            "e\n",
            "a\n",
            "c\n",
            "e\n"
          ],
          "name": "stdout"
        }
      ]
    },
    {
      "cell_type": "markdown",
      "metadata": {
        "id": "26LvrHkgR1tB",
        "colab_type": "text"
      },
      "source": [
        "## Capitalization\n",
        "\n",
        "When we count unique words, we probably want to treat `The` and `the` as the same word.  We can do that by converting all words to lower case, using the `lower` function:"
      ]
    },
    {
      "cell_type": "code",
      "metadata": {
        "id": "QWYgRBqmR1tD",
        "colab_type": "code",
        "outputId": "a59a9852-e4e9-413d-d196-35e701d29497",
        "colab": {
          "base_uri": "https://localhost:8080/",
          "height": 34
        }
      },
      "source": [
        "word = 'The'\n",
        "word.lower()"
      ],
      "execution_count": 0,
      "outputs": [
        {
          "output_type": "execute_result",
          "data": {
            "text/plain": [
              "'the'"
            ]
          },
          "metadata": {
            "tags": []
          },
          "execution_count": 44
        }
      ]
    },
    {
      "cell_type": "code",
      "metadata": {
        "id": "CZt0_0xrR1tH",
        "colab_type": "code",
        "outputId": "d1c02372-8374-4a5b-ab31-f6082325221d",
        "colab": {
          "base_uri": "https://localhost:8080/",
          "height": 34
        }
      },
      "source": [
        "word = 'the'\n",
        "word.lower()"
      ],
      "execution_count": 0,
      "outputs": [
        {
          "output_type": "execute_result",
          "data": {
            "text/plain": [
              "'the'"
            ]
          },
          "metadata": {
            "tags": []
          },
          "execution_count": 45
        }
      ]
    },
    {
      "cell_type": "markdown",
      "metadata": {
        "id": "m96TvJmWR1tM",
        "colab_type": "text"
      },
      "source": [
        "`lower` creates a new string; it does not modify the original string.  "
      ]
    },
    {
      "cell_type": "code",
      "metadata": {
        "id": "PsPJw9IHR1tN",
        "colab_type": "code",
        "outputId": "ae00ce0a-4c0d-4960-cd93-a1f7f3ed84ec",
        "colab": {
          "base_uri": "https://localhost:8080/",
          "height": 34
        }
      },
      "source": [
        "word = 'THE'\n",
        "word.lower()"
      ],
      "execution_count": 0,
      "outputs": [
        {
          "output_type": "execute_result",
          "data": {
            "text/plain": [
              "'the'"
            ]
          },
          "metadata": {
            "tags": []
          },
          "execution_count": 46
        }
      ]
    },
    {
      "cell_type": "code",
      "metadata": {
        "id": "dKTpiV7sR1tR",
        "colab_type": "code",
        "outputId": "d08c7048-b2ad-411d-e3a2-2c494cc3162a",
        "colab": {
          "base_uri": "https://localhost:8080/",
          "height": 34
        }
      },
      "source": [
        "word"
      ],
      "execution_count": 0,
      "outputs": [
        {
          "output_type": "execute_result",
          "data": {
            "text/plain": [
              "'THE'"
            ]
          },
          "metadata": {
            "tags": []
          },
          "execution_count": 47
        }
      ]
    },
    {
      "cell_type": "markdown",
      "metadata": {
        "id": "HGJCSf4TR1tU",
        "colab_type": "text"
      },
      "source": [
        "However, you can assign the new string back to the existing variable, like this:"
      ]
    },
    {
      "cell_type": "code",
      "metadata": {
        "id": "a-m5mXy-R1tW",
        "colab_type": "code",
        "colab": {}
      },
      "source": [
        "word = 'THE'\n",
        "word = word.lower()"
      ],
      "execution_count": 0,
      "outputs": []
    },
    {
      "cell_type": "markdown",
      "metadata": {
        "id": "Qdm-Lp5JR1ta",
        "colab_type": "text"
      },
      "source": [
        "Now if we can display the new value of `word`, we get the lowercase version:"
      ]
    },
    {
      "cell_type": "code",
      "metadata": {
        "id": "QLsuNFxrR1tb",
        "colab_type": "code",
        "outputId": "b331a271-11d2-417b-c8f2-824ebc4374d6",
        "colab": {
          "base_uri": "https://localhost:8080/",
          "height": 34
        }
      },
      "source": [
        "word"
      ],
      "execution_count": 0,
      "outputs": [
        {
          "output_type": "execute_result",
          "data": {
            "text/plain": [
              "'the'"
            ]
          },
          "metadata": {
            "tags": []
          },
          "execution_count": 49
        }
      ]
    },
    {
      "cell_type": "markdown",
      "metadata": {
        "id": "jEucbKGTR1tj",
        "colab_type": "text"
      },
      "source": [
        "**Exercise:** Modify the previous loop so it makes a lowercase version of each word before adding it to the dictionary.  How many unique words are there, if we ignore the difference between uppercase and lowercase?"
      ]
    },
    {
      "cell_type": "code",
      "metadata": {
        "id": "Y8vjsC2bR1tk",
        "colab_type": "code",
        "outputId": "230460eb-fbf1-4ace-8070-bbc69ce77793",
        "colab": {
          "base_uri": "https://localhost:8080/",
          "height": 34
        }
      },
      "source": [
        "# Solution goes here\n",
        "fp = open('2600-0.txt')\n",
        "unique_words = {}\n",
        "for line in fp:\n",
        "    for word in line.split():\n",
        "      word = word.lower()\n",
        "      unique_words[word] = 1\n",
        "# Without lower, it is 41993. Without, it's 40132. \n",
        "len(unique_words)\n"
      ],
      "execution_count": 0,
      "outputs": [
        {
          "output_type": "execute_result",
          "data": {
            "text/plain": [
              "40132"
            ]
          },
          "metadata": {
            "tags": []
          },
          "execution_count": 55
        }
      ]
    },
    {
      "cell_type": "markdown",
      "metadata": {
        "id": "ErGOCR7iR1to",
        "colab_type": "text"
      },
      "source": [
        "## Punctuation\n",
        "\n",
        "To remove punctuation from the words, we can use `strip`, which removes specified characters from the beginning and end of a string.  Here's an example:"
      ]
    },
    {
      "cell_type": "code",
      "metadata": {
        "id": "uFdrjSkYR1tp",
        "colab_type": "code",
        "outputId": "c3401350-dbdf-4714-d815-a1e1e8523103",
        "colab": {
          "base_uri": "https://localhost:8080/",
          "height": 34
        }
      },
      "source": [
        "word = 'abracadabra'\n",
        "word.strip('ab')"
      ],
      "execution_count": 0,
      "outputs": [
        {
          "output_type": "execute_result",
          "data": {
            "text/plain": [
              "'racadabr'"
            ]
          },
          "metadata": {
            "tags": []
          },
          "execution_count": 56
        }
      ]
    },
    {
      "cell_type": "markdown",
      "metadata": {
        "id": "Dl20UmhBR1tt",
        "colab_type": "text"
      },
      "source": [
        "In this example, `strip` removes all instances of `a` and `b` from the beginning and end of the word, but not from the middle.\n",
        "\n",
        "But note that it makes a new word; it doesn't modify the original:"
      ]
    },
    {
      "cell_type": "code",
      "metadata": {
        "id": "QmlfdGBBR1tv",
        "colab_type": "code",
        "outputId": "5cbbee15-88bc-45a4-eb5f-1201c1abbb7c",
        "colab": {
          "base_uri": "https://localhost:8080/",
          "height": 34
        }
      },
      "source": [
        "word"
      ],
      "execution_count": 0,
      "outputs": [
        {
          "output_type": "execute_result",
          "data": {
            "text/plain": [
              "'abracadabra'"
            ]
          },
          "metadata": {
            "tags": []
          },
          "execution_count": 57
        }
      ]
    },
    {
      "cell_type": "markdown",
      "metadata": {
        "id": "Oa4yBaPBR1tz",
        "colab_type": "text"
      },
      "source": [
        "To remove punctuation, we can use the `string` library, which provides a variable named `punctuation`."
      ]
    },
    {
      "cell_type": "code",
      "metadata": {
        "id": "KeD8R3YPR1t0",
        "colab_type": "code",
        "outputId": "e4e7c24c-46bb-482d-c160-f0df9ef506aa",
        "colab": {
          "base_uri": "https://localhost:8080/",
          "height": 34
        }
      },
      "source": [
        "import string\n",
        "\n",
        "string.punctuation"
      ],
      "execution_count": 0,
      "outputs": [
        {
          "output_type": "execute_result",
          "data": {
            "text/plain": [
              "'!\"#$%&\\'()*+,-./:;<=>?@[\\\\]^_`{|}~'"
            ]
          },
          "metadata": {
            "tags": []
          },
          "execution_count": 58
        }
      ]
    },
    {
      "cell_type": "markdown",
      "metadata": {
        "id": "mK80mOB4R1t4",
        "colab_type": "text"
      },
      "source": [
        "`string.punctuation` contains the most common punctuation marks, but as we'll see, not all of them.\n",
        "\n",
        "Nevertheless, we can use it to handle most cases.  Here's an example:"
      ]
    },
    {
      "cell_type": "code",
      "metadata": {
        "id": "t5z407m3R1t6",
        "colab_type": "code",
        "outputId": "708d8813-2fd3-4190-c05a-d481597cf199",
        "colab": {
          "base_uri": "https://localhost:8080/",
          "height": 210
        }
      },
      "source": [
        "line = \"It's not given to people to judge what's right or wrong.\"\n",
        "\n",
        "for word in line.split():\n",
        "    word = word.strip(string.punctuation)\n",
        "    print(word)"
      ],
      "execution_count": 0,
      "outputs": [
        {
          "output_type": "stream",
          "text": [
            "It's\n",
            "not\n",
            "given\n",
            "to\n",
            "people\n",
            "to\n",
            "judge\n",
            "what's\n",
            "right\n",
            "or\n",
            "wrong\n"
          ],
          "name": "stdout"
        }
      ]
    },
    {
      "cell_type": "markdown",
      "metadata": {
        "id": "A70a06VtR1t9",
        "colab_type": "text"
      },
      "source": [
        "Notice that `strip` does not remove the apostrophe from the middle of `don't`, which is probably what we want.\n",
        "\n",
        "To see how well it works, I'll select an arbitrary line from the file:"
      ]
    },
    {
      "cell_type": "code",
      "metadata": {
        "id": "9YwOS-uhR1t-",
        "colab_type": "code",
        "outputId": "9dc8a378-2f50-4446-f06a-eaa2bd0567ad",
        "colab": {
          "base_uri": "https://localhost:8080/",
          "height": 34
        }
      },
      "source": [
        "fp = open('2600-0.txt')\n",
        "count = 0\n",
        "for line in fp:\n",
        "    if count == 1000:\n",
        "        break\n",
        "    count += 1\n",
        "    \n",
        "line"
      ],
      "execution_count": 0,
      "outputs": [
        {
          "output_type": "execute_result",
          "data": {
            "text/plain": [
              "'anyone, and so you don’t deserve to have them.”\\n'"
            ]
          },
          "metadata": {
            "tags": []
          },
          "execution_count": 60
        }
      ]
    },
    {
      "cell_type": "markdown",
      "metadata": {
        "id": "c9qTovkwR1uE",
        "colab_type": "text"
      },
      "source": [
        "And try to remove punctuation from the words:"
      ]
    },
    {
      "cell_type": "code",
      "metadata": {
        "id": "bgRDA8u8R1uE",
        "colab_type": "code",
        "outputId": "11e3391d-1110-4dbc-d184-c38979c22d70",
        "colab": {
          "base_uri": "https://localhost:8080/",
          "height": 175
        }
      },
      "source": [
        "for word in line.split():\n",
        "    word = word.strip(string.punctuation)\n",
        "    print(word)"
      ],
      "execution_count": 0,
      "outputs": [
        {
          "output_type": "stream",
          "text": [
            "anyone\n",
            "and\n",
            "so\n",
            "you\n",
            "don’t\n",
            "deserve\n",
            "to\n",
            "have\n",
            "them.”\n"
          ],
          "name": "stdout"
        }
      ]
    },
    {
      "cell_type": "markdown",
      "metadata": {
        "id": "ilyZNCnCR1uI",
        "colab_type": "text"
      },
      "source": [
        "It words pretty well, but the last word is a problem because it ends with a quotation mark that is not in `string.punctuation`.  To fix this problem, we'll use the following loop, which\n",
        "\n",
        "1. Reads the file and builds a dictionary that contains all punctuation marks that appear in the book, then\n",
        "\n",
        "2. It uses the `join` function to concatenate the keys of the dictionary in a single string.\n",
        "\n",
        "You don't have to understand everything about how it works, but you should read it and see how much you can figure out.  You can read [the documentation of the `unicodedata` library here](https://docs.python.org/3/library/unicodedata.html)."
      ]
    },
    {
      "cell_type": "code",
      "metadata": {
        "id": "bpy4Ug9pR1uK",
        "colab_type": "code",
        "outputId": "98b07823-1a1c-49b6-87d7-3e2cd8d1a6bd",
        "colab": {
          "base_uri": "https://localhost:8080/",
          "height": 34
        }
      },
      "source": [
        "import unicodedata\n",
        "\n",
        "fp = open('2600-0.txt')\n",
        "punc_marks = {}\n",
        "for line in fp:\n",
        "    for x in line:\n",
        "        category = unicodedata.category(x)\n",
        "        if category[0] == 'P':\n",
        "            punc_marks[x] = 1\n",
        "        \n",
        "all_punctuation = ''.join(punc_marks)\n",
        "print(all_punctuation)"
      ],
      "execution_count": 0,
      "outputs": [
        {
          "output_type": "stream",
          "text": [
            ",.-:[#]*/“’—‘!?”;()%@\n"
          ],
          "name": "stdout"
        }
      ]
    },
    {
      "cell_type": "markdown",
      "metadata": {
        "id": "EoTcwpeWR1uN",
        "colab_type": "text"
      },
      "source": [
        "**Exercise:** Modify the word-counting loop from the previous section to convert words to lower case *and* strip punctuation before adding them to the dictionary.  Now how many unique words are there?\n",
        "\n",
        "Optional: You might want to skip over the frontmatter and start with the text of Chapter 1, and skip over the license at the end, as we did in the previous notebook."
      ]
    },
    {
      "cell_type": "code",
      "metadata": {
        "id": "6FINSLYxR1uO",
        "colab_type": "code",
        "outputId": "94897c0f-1f8f-4067-c7b4-0c3a5945e312",
        "colab": {
          "base_uri": "https://localhost:8080/",
          "height": 34
        }
      },
      "source": [
        "# Solution goes here\n",
        "fp = open('2600-0.txt')\n",
        "unique_words = {}\n",
        "for line in fp:\n",
        "    for word in line.split():\n",
        "      word = word.lower()\n",
        "      word = word.strip(string.punctuation)\n",
        "      unique_words[word] = 1\n",
        "# Without lower, it is 41993. Without, it's 40132. \n",
        "# Without punctuation, it's 25855. \n",
        "len(unique_words)\n"
      ],
      "execution_count": 0,
      "outputs": [
        {
          "output_type": "execute_result",
          "data": {
            "text/plain": [
              "25855"
            ]
          },
          "metadata": {
            "tags": []
          },
          "execution_count": 72
        }
      ]
    },
    {
      "cell_type": "markdown",
      "metadata": {
        "id": "fTVuPQYUR1uS",
        "colab_type": "text"
      },
      "source": [
        "## Word frequencies\n",
        "\n",
        "In the previous section we counted the number of unique words, but we might also want to know how often each word appears.  Then we can find the most common and least common words in the book.\n",
        "\n",
        "To count the frequency of each word, we'll make a dictionary that maps from each word to the number of times it appears.\n",
        "\n",
        "Here's an example that loops through a string and counts the number of times each letter appears."
      ]
    },
    {
      "cell_type": "code",
      "metadata": {
        "id": "w079AekgR1uT",
        "colab_type": "code",
        "outputId": "4ef0eca0-004b-46df-9d3b-b769c5b0d66d",
        "colab": {
          "base_uri": "https://localhost:8080/",
          "height": 404
        }
      },
      "source": [
        "line = 'If everyone fought for their own convictions there would be no war.'\n",
        "\n",
        "letter_counts = {}\n",
        "for x in line:\n",
        "    if x in letter_counts:\n",
        "        letter_counts[x] += 1\n",
        "    else:\n",
        "        letter_counts[x] = 1\n",
        "        \n",
        "letter_counts"
      ],
      "execution_count": 0,
      "outputs": [
        {
          "output_type": "execute_result",
          "data": {
            "text/plain": [
              "{' ': 11,\n",
              " '.': 1,\n",
              " 'I': 1,\n",
              " 'a': 1,\n",
              " 'b': 1,\n",
              " 'c': 2,\n",
              " 'd': 1,\n",
              " 'e': 7,\n",
              " 'f': 3,\n",
              " 'g': 1,\n",
              " 'h': 3,\n",
              " 'i': 3,\n",
              " 'l': 1,\n",
              " 'n': 5,\n",
              " 'o': 8,\n",
              " 'r': 5,\n",
              " 's': 1,\n",
              " 't': 4,\n",
              " 'u': 2,\n",
              " 'v': 2,\n",
              " 'w': 3,\n",
              " 'y': 1}"
            ]
          },
          "metadata": {
            "tags": []
          },
          "execution_count": 68
        }
      ]
    },
    {
      "cell_type": "markdown",
      "metadata": {
        "id": "PXYIRsRVR1ub",
        "colab_type": "text"
      },
      "source": [
        "The `if` statement in the previous example uses a feature we have not seen before, an `else` clause.\n",
        "\n",
        "Here's how it works.\n",
        "\n",
        "1. First, it checks whether the letter is already a key in the dictionary, `letter_counts`.\n",
        "\n",
        "2. If so, it runs the first statement, `letter_counts[x] += 1`, which increments the value associated with the letter, `x`.\n",
        "\n",
        "3. Otherwise, it runs the second statement, `letter_counts[x] = 1`, which adds `x` as a new key, with the value `1` indicating that we have seen the new letter once.\n",
        "\n",
        "The result is a dictionary that maps from each letter to the number of times it appears."
      ]
    },
    {
      "cell_type": "markdown",
      "metadata": {
        "id": "KjYBlq-WR1uc",
        "colab_type": "text"
      },
      "source": [
        "To get the most common letters, we can use a `Counter`, which is similar to a dictionary.  To use it, we have to import a library called `collections`: "
      ]
    },
    {
      "cell_type": "code",
      "metadata": {
        "id": "kEvTY2jiR1uc",
        "colab_type": "code",
        "colab": {}
      },
      "source": [
        "import collections"
      ],
      "execution_count": 0,
      "outputs": []
    },
    {
      "cell_type": "markdown",
      "metadata": {
        "id": "Nbd8myVRR1uf",
        "colab_type": "text"
      },
      "source": [
        "Then we use `collections.Counter` as a function to convert the dictionary to a `Counter` value:"
      ]
    },
    {
      "cell_type": "code",
      "metadata": {
        "id": "8u9HvVlrR1uh",
        "colab_type": "code",
        "outputId": "2c3c300e-cf78-4e2c-c08a-72413cb24471",
        "colab": {
          "base_uri": "https://localhost:8080/",
          "height": 34
        }
      },
      "source": [
        "counter = collections.Counter(letter_counts)\n",
        "type(counter)"
      ],
      "execution_count": 0,
      "outputs": [
        {
          "output_type": "execute_result",
          "data": {
            "text/plain": [
              "collections.Counter"
            ]
          },
          "metadata": {
            "tags": []
          },
          "execution_count": 70
        }
      ]
    },
    {
      "cell_type": "markdown",
      "metadata": {
        "id": "x2Z-nY5PR1uk",
        "colab_type": "text"
      },
      "source": [
        "`Counter` provides a function called `most_common` we can use to get the most common characters:"
      ]
    },
    {
      "cell_type": "code",
      "metadata": {
        "id": "dSphZozgR1uk",
        "colab_type": "code",
        "outputId": "8c87113e-a24a-47ff-8a17-6c9f450267de",
        "colab": {
          "base_uri": "https://localhost:8080/",
          "height": 34
        }
      },
      "source": [
        "counter.most_common(3)"
      ],
      "execution_count": 0,
      "outputs": [
        {
          "output_type": "execute_result",
          "data": {
            "text/plain": [
              "[(' ', 11), ('o', 8), ('e', 7)]"
            ]
          },
          "metadata": {
            "tags": []
          },
          "execution_count": 71
        }
      ]
    },
    {
      "cell_type": "markdown",
      "metadata": {
        "id": "lhtalANnR1um",
        "colab_type": "text"
      },
      "source": [
        "The result is a list of tuples, where each tuple contains a character and an integer.\n",
        "\n",
        "The most common character is a space, followed by `o` and `e`."
      ]
    },
    {
      "cell_type": "markdown",
      "metadata": {
        "id": "Z-kc4YVAR1un",
        "colab_type": "text"
      },
      "source": [
        "**Exercise:** Modify the loop from the previous exercise to count the frequency of the words in *War and Peace*; then print the 20 most common words and the number of times each one appears."
      ]
    },
    {
      "cell_type": "code",
      "metadata": {
        "id": "FcsHJvfvR1uo",
        "colab_type": "code",
        "outputId": "b312b96d-4031-4820-8e30-fd12eb7276c2",
        "colab": {
          "base_uri": "https://localhost:8080/",
          "height": 369
        }
      },
      "source": [
        "# Solution goes here\n",
        "# Solution goes here\n",
        "fp = open('2600-0.txt')\n",
        "unique_words = {}\n",
        "for line in fp:\n",
        "    for word in line.split():\n",
        "      word = word.lower()\n",
        "      word = word.strip(string.punctuation)\n",
        "      if word in unique_words:\n",
        "        unique_words[word] += 1\n",
        "      else:\n",
        "        unique_words[word] = 1\n",
        "\n",
        "# Without lower, it is 41993. Without, it's 40132. \n",
        "# Without punctuation, it's 25855. \n",
        "len(unique_words)\n",
        "\n",
        "counter = collections.Counter(unique_words)\n",
        "counter.most_common(20)"
      ],
      "execution_count": 0,
      "outputs": [
        {
          "output_type": "execute_result",
          "data": {
            "text/plain": [
              "[('the', 34300),\n",
              " ('and', 21818),\n",
              " ('to', 16587),\n",
              " ('of', 14959),\n",
              " ('a', 10407),\n",
              " ('he', 9655),\n",
              " ('in', 8873),\n",
              " ('his', 7955),\n",
              " ('that', 7638),\n",
              " ('was', 7311),\n",
              " ('with', 5675),\n",
              " ('had', 5349),\n",
              " ('it', 4805),\n",
              " ('her', 4632),\n",
              " ('not', 4593),\n",
              " ('at', 4510),\n",
              " ('him', 4429),\n",
              " ('as', 3955),\n",
              " ('on', 3922),\n",
              " ('but', 3665)]"
            ]
          },
          "metadata": {
            "tags": []
          },
          "execution_count": 76
        }
      ]
    },
    {
      "cell_type": "markdown",
      "metadata": {
        "id": "qyqNFrf1R1ur",
        "colab_type": "text"
      },
      "source": [
        "**Exercise:** You can run `most_common` with no value in parentheses, like this:\n",
        "\n",
        "```\n",
        "word_freq_pairs = counter.most_common()\n",
        "```\n",
        "\n",
        "The result is a list of tuples, with one tuple for every unique word in the book.  Assign the result to a variable so it doesn't get displayed.  Then answer the following questions:\n",
        "\n",
        "1. How many times does the #1 ranked word appear (that is, the first element of the list)?\n",
        "\n",
        "2. How many times does the #10 ranked word appear?\n",
        "\n",
        "3. How many times does the #100 ranked word appear?\n",
        "\n",
        "4. How many times does the #1000 ranked word appear?\n",
        "\n",
        "5. How many times does the #10000 ranked word appear?\n",
        "\n",
        "Do you see a pattern in the results?  We will explore this pattern more in the next notebook."
      ]
    },
    {
      "cell_type": "code",
      "metadata": {
        "id": "5r048inRR1ur",
        "colab_type": "code",
        "outputId": "5808ec75-5444-4360-91e1-a53fff09048c",
        "colab": {
          "base_uri": "https://localhost:8080/",
          "height": 34
        }
      },
      "source": [
        "word_freq_pairs = counter.most_common()\n",
        "# The #1 ranked word appears 34300 times.\n",
        "word_freq_pairs[0]"
      ],
      "execution_count": 0,
      "outputs": [
        {
          "output_type": "execute_result",
          "data": {
            "text/plain": [
              "('the', 34300)"
            ]
          },
          "metadata": {
            "tags": []
          },
          "execution_count": 82
        }
      ]
    },
    {
      "cell_type": "code",
      "metadata": {
        "id": "z8_UK-ftR1uu",
        "colab_type": "code",
        "outputId": "fa03f2c5-eb52-4a74-d14a-317005729e79",
        "colab": {
          "base_uri": "https://localhost:8080/",
          "height": 34
        }
      },
      "source": [
        "# The #10 ranked word appears 7311 times.\n",
        "word_freq_pairs[9]"
      ],
      "execution_count": 0,
      "outputs": [
        {
          "output_type": "execute_result",
          "data": {
            "text/plain": [
              "('was', 7311)"
            ]
          },
          "metadata": {
            "tags": []
          },
          "execution_count": 84
        }
      ]
    },
    {
      "cell_type": "code",
      "metadata": {
        "id": "6-w7TSOYR1uw",
        "colab_type": "code",
        "outputId": "7ab7aec3-d74f-48a8-893b-a21551f5995d",
        "colab": {
          "base_uri": "https://localhost:8080/",
          "height": 34
        }
      },
      "source": [
        "# The #100 ranked word appears 667 times.\n",
        "word_freq_pairs[99]"
      ],
      "execution_count": 0,
      "outputs": [
        {
          "output_type": "execute_result",
          "data": {
            "text/plain": [
              "('asked', 667)"
            ]
          },
          "metadata": {
            "tags": []
          },
          "execution_count": 85
        }
      ]
    },
    {
      "cell_type": "code",
      "metadata": {
        "id": "03p82yKhR1uz",
        "colab_type": "code",
        "outputId": "c35646e5-30d7-4ff0-b7f8-a6ba73feb400",
        "colab": {
          "base_uri": "https://localhost:8080/",
          "height": 34
        }
      },
      "source": [
        "# The #1000 ranked word appears 59 times.\n",
        "word_freq_pairs[999]"
      ],
      "execution_count": 0,
      "outputs": [
        {
          "output_type": "execute_result",
          "data": {
            "text/plain": [
              "('tall', 59)"
            ]
          },
          "metadata": {
            "tags": []
          },
          "execution_count": 86
        }
      ]
    },
    {
      "cell_type": "code",
      "metadata": {
        "id": "Ab2F3ytNR1u0",
        "colab_type": "code",
        "outputId": "ecb4b3ae-4da9-445b-efdc-be5001e13bef",
        "colab": {
          "base_uri": "https://localhost:8080/",
          "height": 34
        }
      },
      "source": [
        "# The #10000 ranked word appears 3 times.\n",
        "word_freq_pairs[9999]\n",
        "\n",
        "# The frequencies appear to decrease by an order of magnitude (10x) each time."
      ],
      "execution_count": 0,
      "outputs": [
        {
          "output_type": "execute_result",
          "data": {
            "text/plain": [
              "('kindliness', 3)"
            ]
          },
          "metadata": {
            "tags": []
          },
          "execution_count": 87
        }
      ]
    },
    {
      "cell_type": "markdown",
      "metadata": {
        "id": "KJTgw2qyR1u2",
        "colab_type": "text"
      },
      "source": [
        "**Exercise:** Write a loop that counts how many words appear 200 times.  What are they?  How many words appear 100 times, 50 times, and 20 times?\n",
        "\n",
        "**Optional:** If you know how to define a function, write a function that takes a `Counter` and a frequency as arguments, prints all words with that frequency, and returns the number of words with that frequency."
      ]
    },
    {
      "cell_type": "code",
      "metadata": {
        "id": "l7IgDFdwR1u4",
        "colab_type": "code",
        "colab": {}
      },
      "source": [
        "# Solution goes here\n",
        "def frequency_count(count, frequency):\n",
        "  \"\"\"\n",
        "  Takes a Counter and a frequency as arguments, prints all words with that \n",
        "  frequency, and returns the number of words with that frequency.\n",
        "  \"\"\"\n",
        "  total = 0\n",
        "  for element in count:\n",
        "    if element[1] == frequency:\n",
        "      print(element)\n",
        "      total += 1\n",
        "  return total"
      ],
      "execution_count": 0,
      "outputs": []
    },
    {
      "cell_type": "code",
      "metadata": {
        "id": "Km8rP0AzR1u9",
        "colab_type": "code",
        "outputId": "734d46df-d4a8-4534-e06e-1f6ce40dd69e",
        "colab": {
          "base_uri": "https://localhost:8080/",
          "height": 52
        }
      },
      "source": [
        "# 1 word shows 200 times.\n",
        "frequency_count(word_freq_pairs, 200)\n"
      ],
      "execution_count": 0,
      "outputs": [
        {
          "output_type": "stream",
          "text": [
            "('enemy', 200)\n"
          ],
          "name": "stdout"
        },
        {
          "output_type": "execute_result",
          "data": {
            "text/plain": [
              "1"
            ]
          },
          "metadata": {
            "tags": []
          },
          "execution_count": 103
        }
      ]
    },
    {
      "cell_type": "code",
      "metadata": {
        "id": "STLv_JGOR1vA",
        "colab_type": "code",
        "outputId": "cac7c7ec-066e-4abe-f62a-aba0ff26340e",
        "colab": {
          "base_uri": "https://localhost:8080/",
          "height": 87
        }
      },
      "source": [
        "# 3 words show 100 times.\n",
        "frequency_count(word_freq_pairs, 100)\n"
      ],
      "execution_count": 0,
      "outputs": [
        {
          "output_type": "stream",
          "text": [
            "('dress', 100)\n",
            "('ought', 100)\n",
            "('generals', 100)\n"
          ],
          "name": "stdout"
        },
        {
          "output_type": "execute_result",
          "data": {
            "text/plain": [
              "3"
            ]
          },
          "metadata": {
            "tags": []
          },
          "execution_count": 102
        }
      ]
    },
    {
      "cell_type": "code",
      "metadata": {
        "id": "0GJ49keZR1vC",
        "colab_type": "code",
        "outputId": "33759b94-c5be-4182-bd6e-8983e59a3b12",
        "colab": {
          "base_uri": "https://localhost:8080/",
          "height": 298
        }
      },
      "source": [
        "# 15 words shows 50 times.\n",
        "frequency_count(word_freq_pairs, 50)\n"
      ],
      "execution_count": 0,
      "outputs": [
        {
          "output_type": "stream",
          "text": [
            "('mentioned', 50)\n",
            "('gesture', 50)\n",
            "('relation', 50)\n",
            "('stupid', 50)\n",
            "('grand', 50)\n",
            "('you.”', 50)\n",
            "('drive', 50)\n",
            "('shouts', 50)\n",
            "('further', 50)\n",
            "('kill', 50)\n",
            "('girls', 50)\n",
            "('loud', 50)\n",
            "('heads', 50)\n",
            "('crossing', 50)\n",
            "('common', 50)\n"
          ],
          "name": "stdout"
        },
        {
          "output_type": "execute_result",
          "data": {
            "text/plain": [
              "15"
            ]
          },
          "metadata": {
            "tags": []
          },
          "execution_count": 100
        }
      ]
    },
    {
      "cell_type": "code",
      "metadata": {
        "id": "H6Oqvt-VR1vF",
        "colab_type": "code",
        "outputId": "9689de3d-80df-4665-86e0-597148438b01",
        "colab": {
          "base_uri": "https://localhost:8080/",
          "height": 1000
        }
      },
      "source": [
        "# 90 words show 20 times.\n",
        "frequency_count(word_freq_pairs, 20)\n"
      ],
      "execution_count": 0,
      "outputs": [
        {
          "output_type": "stream",
          "text": [
            "('alexander’s', 20)\n",
            "('consent', 20)\n",
            "('samovar', 20)\n",
            "('for?”', 20)\n",
            "('merrily', 20)\n",
            "('george', 20)\n",
            "('powerful', 20)\n",
            "('affectionate', 20)\n",
            "('drop', 20)\n",
            "('fled', 20)\n",
            "('signs', 20)\n",
            "('shawl', 20)\n",
            "('woman’s', 20)\n",
            "('husband’s', 20)\n",
            "('“good', 20)\n",
            "('glasses', 20)\n",
            "('respected', 20)\n",
            "('oak', 20)\n",
            "('succeeded', 20)\n",
            "('conversations', 20)\n",
            "('count,”', 20)\n",
            "('amusing', 20)\n",
            "('failed', 20)\n",
            "('pávlograd', 20)\n",
            "('vanished', 20)\n",
            "('“yes,”', 20)\n",
            "('examined', 20)\n",
            "('sooner', 20)\n",
            "('cadet', 20)\n",
            "('coldly', 20)\n",
            "('inquiry', 20)\n",
            "('support', 20)\n",
            "('exchanged', 20)\n",
            "('nowhere', 20)\n",
            "('“eh', 20)\n",
            "('band', 20)\n",
            "('thrust', 20)\n",
            "('resolution', 20)\n",
            "('request', 20)\n",
            "('thee', 20)\n",
            "('pose', 20)\n",
            "('referred', 20)\n",
            "('risen', 20)\n",
            "('disorder', 20)\n",
            "('“please', 20)\n",
            "('problem', 20)\n",
            "('religion', 20)\n",
            "('eternal', 20)\n",
            "('sleeping', 20)\n",
            "('“thank', 20)\n",
            "('attacking', 20)\n",
            "('european', 20)\n",
            "('tranquil', 20)\n",
            "('inside', 20)\n",
            "('“of', 20)\n",
            "('coach', 20)\n",
            "('cases', 20)\n",
            "('comrade', 20)\n",
            "('i’d', 20)\n",
            "('beast', 20)\n",
            "('encounter', 20)\n",
            "('sum', 20)\n",
            "('dragging', 20)\n",
            "('“o', 20)\n",
            "('lot', 20)\n",
            "('confirmed', 20)\n",
            "('heights', 20)\n",
            "('roar', 20)\n",
            "('inevitably', 20)\n",
            "('“will', 20)\n",
            "('confidence', 20)\n",
            "('transport', 20)\n",
            "('theater', 20)\n",
            "('olmütz', 20)\n",
            "('enemies', 20)\n",
            "('mild', 20)\n",
            "('bodies', 20)\n",
            "('deed', 20)\n",
            "('avoided', 20)\n",
            "('sufferings', 20)\n",
            "('arrangements', 20)\n",
            "('cries', 20)\n",
            "('mason', 20)\n",
            "('militiamen', 20)\n",
            "('fence', 20)\n",
            "('harness', 20)\n",
            "('hive', 20)\n",
            "('michaud', 20)\n",
            "('vyázma', 20)\n",
            "('flèches', 20)\n"
          ],
          "name": "stdout"
        },
        {
          "output_type": "execute_result",
          "data": {
            "text/plain": [
              "90"
            ]
          },
          "metadata": {
            "tags": []
          },
          "execution_count": 99
        }
      ]
    },
    {
      "cell_type": "code",
      "metadata": {
        "id": "NGKX_qv5R1vI",
        "colab_type": "code",
        "colab": {}
      },
      "source": [
        ""
      ],
      "execution_count": 0,
      "outputs": []
    }
  ]
}