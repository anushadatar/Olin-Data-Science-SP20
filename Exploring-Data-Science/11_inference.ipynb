{
  "nbformat": 4,
  "nbformat_minor": 0,
  "metadata": {
    "kernelspec": {
      "display_name": "Python 3",
      "language": "python",
      "name": "python3"
    },
    "language_info": {
      "codemirror_mode": {
        "name": "ipython",
        "version": 3
      },
      "file_extension": ".py",
      "mimetype": "text/x-python",
      "name": "python",
      "nbconvert_exporter": "python",
      "pygments_lexer": "ipython3",
      "version": "3.7.4"
    },
    "colab": {
      "name": "11_inference.ipynb",
      "provenance": [],
      "collapsed_sections": [],
      "include_colab_link": true
    }
  },
  "cells": [
    {
      "cell_type": "markdown",
      "metadata": {
        "id": "view-in-github",
        "colab_type": "text"
      },
      "source": [
        "<a href=\"https://colab.research.google.com/github/anushadatar/Olin-Data-Science-SP20/blob/master/11_inference.ipynb\" target=\"_parent\"><img src=\"https://colab.research.google.com/assets/colab-badge.svg\" alt=\"Open In Colab\"/></a>"
      ]
    },
    {
      "cell_type": "markdown",
      "metadata": {
        "id": "BwxbGSfqewjt",
        "colab_type": "text"
      },
      "source": [
        "# Inference\n",
        "\n",
        "Elements of Data Science\n",
        "\n",
        "by [Allen Downey](https://allendowney.com)\n",
        "\n",
        "[MIT License](https://opensource.org/licenses/MIT)\n",
        "\n",
        "### Goals\n",
        "\n",
        "This notebook introduces \"statistical inference\", which is the process of using a sample to make inferences about a population.  This [figure from Wikipedia](https://en.wikipedia.org/wiki/Statistical_inference) illustrates the idea:\n",
        "\n",
        "<img src=\"https://upload.wikimedia.org/wikipedia/commons/b/bf/Simple_random_sampling.PNG\" width=\"400\">\n",
        "\n",
        "On the left, the \"population\" is the group we are interested in.  Sometimes it is a group of people, but in general it can be any kind of group.\n",
        "\n",
        "If we can observe the entire group, we might not need statistical inference.  If not, sometimes we can observe a \"sample\" (or subset) of the population and use those observations to make claims about the population.\n",
        "\n",
        "If you have studied statistics before, you might have encountered some of these ideas before: hypothesis testing, p-values, estimation, standard error, and confidence intervals.\n",
        "\n",
        "In this notebook we'll approach these topics using computation and simulation, as opposed to mathematical analysis.  I hope this approach makes the ideas clearer.\n",
        "\n",
        "If you have not seen these ideas before, don't worry.  That might even be better.\n",
        "\n",
        "We'll look at three examples:\n",
        "\n",
        "* Testing whether a coin is \"fair\".\n",
        "\n",
        "* Testing whether first babies are more like to be born early (or late).\n",
        "\n",
        "* Estimating the average height of men in the U.S., and quantifying the precision of the estimate."
      ]
    },
    {
      "cell_type": "markdown",
      "metadata": {
        "id": "KdfM3wa1ewjx",
        "colab_type": "text"
      },
      "source": [
        "## The Euro problem\n",
        "\n",
        "In *Information Theory, Inference, and Learning Algorithms*, David MacKay writes, \"A statistical statement appeared in *The Guardian* on Friday January 4, 2002:\n",
        "\n",
        "> When spun on edge 250 times, a Belgian one-euro coin came\n",
        "up heads 140 times and tails 110. ‘It looks very suspicious\n",
        "to me’, said Barry Blight, a statistics lecturer at the London\n",
        "School of Economics. ‘If the coin were unbiased the chance of\n",
        "getting a result as extreme as that would be less than 7%’.*\n",
        "\n",
        "But do these data give evidence that the coin is biased rather than fair?\"\n",
        "\n",
        "Before we answer MacKay's question, let's unpack what Dr. Blight said:\n",
        "\n",
        "\"If the coin were unbiased the chance of getting a result as extreme as that would be less than 7%\".\n",
        "\n",
        "To see where that comes from, I'll simulate the result of spinning an \"unbiased\" coin, meaning that the probability of heads is 50%.\n",
        "\n",
        "Here's an example with 10 spins:"
      ]
    },
    {
      "cell_type": "code",
      "metadata": {
        "id": "AzPxNL_Tewj0",
        "colab_type": "code",
        "outputId": "023837e5-121a-446f-a1b0-7f4c2f80a1b1",
        "colab": {
          "base_uri": "https://localhost:8080/",
          "height": 50
        }
      },
      "source": [
        "import numpy as np\n",
        "\n",
        "spins = np.random.random(10) < 0.5\n",
        "spins"
      ],
      "execution_count": 70,
      "outputs": [
        {
          "output_type": "execute_result",
          "data": {
            "text/plain": [
              "array([False, False, False,  True,  True, False, False, False,  True,\n",
              "       False])"
            ]
          },
          "metadata": {
            "tags": []
          },
          "execution_count": 70
        }
      ]
    },
    {
      "cell_type": "markdown",
      "metadata": {
        "id": "qaCABEEhewkA",
        "colab_type": "text"
      },
      "source": [
        "`np.random.random` returns numbers between 0 and 1, uniformly distributed.  So the probability of being less than 0.5 is 50%.  \n",
        "\n",
        "The sum of the array is the number of `True` elements, that is, the number of heads:"
      ]
    },
    {
      "cell_type": "code",
      "metadata": {
        "id": "H6nJ8C_tewkD",
        "colab_type": "code",
        "outputId": "e62414af-297a-41c5-dfe0-07f5dd5c8f94",
        "colab": {
          "base_uri": "https://localhost:8080/",
          "height": 34
        }
      },
      "source": [
        "np.sum(spins)"
      ],
      "execution_count": 71,
      "outputs": [
        {
          "output_type": "execute_result",
          "data": {
            "text/plain": [
              "3"
            ]
          },
          "metadata": {
            "tags": []
          },
          "execution_count": 71
        }
      ]
    },
    {
      "cell_type": "markdown",
      "metadata": {
        "id": "s6LUpnzxewkK",
        "colab_type": "text"
      },
      "source": [
        "We can wrap that in a function that simulates `n` spins with probability `p`. "
      ]
    },
    {
      "cell_type": "code",
      "metadata": {
        "id": "FkPP0YIjewkM",
        "colab_type": "code",
        "colab": {}
      },
      "source": [
        "def spin(n, p):\n",
        "    return np.sum(np.random.random(n) < p)"
      ],
      "execution_count": 0,
      "outputs": []
    },
    {
      "cell_type": "markdown",
      "metadata": {
        "id": "cjDqGGCiewkV",
        "colab_type": "text"
      },
      "source": [
        "Here's an example with the actual sample size (250) and hypothetical probability (50%)."
      ]
    },
    {
      "cell_type": "code",
      "metadata": {
        "id": "KwKTX9IdewkX",
        "colab_type": "code",
        "colab": {}
      },
      "source": [
        "heads, tails = 140, 110\n",
        "sample_size = heads + tails"
      ],
      "execution_count": 0,
      "outputs": []
    },
    {
      "cell_type": "code",
      "metadata": {
        "id": "wsb4V1gcewkf",
        "colab_type": "code",
        "outputId": "ba67ab2d-24d7-4520-fbea-66cb550acf70",
        "colab": {
          "base_uri": "https://localhost:8080/",
          "height": 34
        }
      },
      "source": [
        "hypo_prob = 0.5\n",
        "spin(sample_size, hypo_prob)"
      ],
      "execution_count": 74,
      "outputs": [
        {
          "output_type": "execute_result",
          "data": {
            "text/plain": [
              "119"
            ]
          },
          "metadata": {
            "tags": []
          },
          "execution_count": 74
        }
      ]
    },
    {
      "cell_type": "markdown",
      "metadata": {
        "id": "QoaF2qdYewkn",
        "colab_type": "text"
      },
      "source": [
        "Since we are generating random numbers, we expect to see different values if we run the experiment more than once.\n",
        "\n",
        "Here's a loop that runs `spin` 10 times."
      ]
    },
    {
      "cell_type": "code",
      "metadata": {
        "id": "Whatk5-aewkq",
        "colab_type": "code",
        "outputId": "53ddc95f-8502-4e79-d2c8-6697b1cbca1a",
        "colab": {
          "base_uri": "https://localhost:8080/",
          "height": 185
        }
      },
      "source": [
        "n = 250\n",
        "p = 0.5\n",
        "\n",
        "for i in range(10):\n",
        "    print(spin(n, p))"
      ],
      "execution_count": 75,
      "outputs": [
        {
          "output_type": "stream",
          "text": [
            "119\n",
            "128\n",
            "120\n",
            "129\n",
            "138\n",
            "118\n",
            "148\n",
            "117\n",
            "136\n",
            "130\n"
          ],
          "name": "stdout"
        }
      ]
    },
    {
      "cell_type": "markdown",
      "metadata": {
        "id": "YyU0IQ27ewky",
        "colab_type": "text"
      },
      "source": [
        "As expected, the results vary from one run to the next.\n",
        "\n",
        "Now let's run the simulated experiment 10000 times and store the results in a NumPy array."
      ]
    },
    {
      "cell_type": "code",
      "metadata": {
        "id": "d6lfRP56ewk0",
        "colab_type": "code",
        "colab": {}
      },
      "source": [
        "outcomes = np.empty(1000)\n",
        "\n",
        "for i in range(len(outcomes)):\n",
        "    outcomes[i] = spin(n, p)"
      ],
      "execution_count": 0,
      "outputs": []
    },
    {
      "cell_type": "markdown",
      "metadata": {
        "id": "tuItluOlewk6",
        "colab_type": "text"
      },
      "source": [
        "`np.empty` creates an empty array with the given length.  Each time through the loop, we run `spin` and assign the result to an element of `outcomes`.\n",
        "\n",
        "The result is an array of 10000 integers, each representing the number of heads in a simulated experiment.  \n",
        "\n",
        "The mean of `outcomes` is about 125:"
      ]
    },
    {
      "cell_type": "code",
      "metadata": {
        "id": "Zp6p3PWfewk-",
        "colab_type": "code",
        "outputId": "d58e6291-d817-42b4-9dd3-b2519703c10e",
        "colab": {
          "base_uri": "https://localhost:8080/",
          "height": 34
        }
      },
      "source": [
        "np.mean(outcomes)"
      ],
      "execution_count": 77,
      "outputs": [
        {
          "output_type": "execute_result",
          "data": {
            "text/plain": [
              "124.755"
            ]
          },
          "metadata": {
            "tags": []
          },
          "execution_count": 77
        }
      ]
    },
    {
      "cell_type": "markdown",
      "metadata": {
        "id": "ka1leT1wewlL",
        "colab_type": "text"
      },
      "source": [
        "Which makes sense.  On average, the expected number of heads is the product of the hypothetical probability and the sample size:"
      ]
    },
    {
      "cell_type": "code",
      "metadata": {
        "id": "CpJY17iHewlO",
        "colab_type": "code",
        "outputId": "119843d7-3398-4976-ab2e-31c25da6bf70",
        "colab": {
          "base_uri": "https://localhost:8080/",
          "height": 34
        }
      },
      "source": [
        "expected = hypo_prob * sample_size\n",
        "expected"
      ],
      "execution_count": 78,
      "outputs": [
        {
          "output_type": "execute_result",
          "data": {
            "text/plain": [
              "125.0"
            ]
          },
          "metadata": {
            "tags": []
          },
          "execution_count": 78
        }
      ]
    },
    {
      "cell_type": "markdown",
      "metadata": {
        "id": "Rp6kHz26ewlY",
        "colab_type": "text"
      },
      "source": [
        "Now let's see how much the values in `outcomes` differ from the expected value:"
      ]
    },
    {
      "cell_type": "code",
      "metadata": {
        "id": "f5CAYDYdewlb",
        "colab_type": "code",
        "colab": {}
      },
      "source": [
        "diffs = outcomes - expected"
      ],
      "execution_count": 0,
      "outputs": []
    },
    {
      "cell_type": "markdown",
      "metadata": {
        "id": "FnHBNL4Uewlh",
        "colab_type": "text"
      },
      "source": [
        "`diffs` is an array that contains the deviation of each experiment from the expected value, 125.\n",
        "\n",
        "Here's the mean of the absolute deviations:"
      ]
    },
    {
      "cell_type": "code",
      "metadata": {
        "id": "Cd7hCbg2ewll",
        "colab_type": "code",
        "outputId": "9f9469b1-a573-4214-e5e2-02d28c101806",
        "colab": {
          "base_uri": "https://localhost:8080/",
          "height": 34
        }
      },
      "source": [
        "np.mean(abs(diffs))"
      ],
      "execution_count": 80,
      "outputs": [
        {
          "output_type": "execute_result",
          "data": {
            "text/plain": [
              "6.255"
            ]
          },
          "metadata": {
            "tags": []
          },
          "execution_count": 80
        }
      ]
    },
    {
      "cell_type": "markdown",
      "metadata": {
        "id": "fj7BW8kZewlr",
        "colab_type": "text"
      },
      "source": [
        "So a typical experiment deviates from the mean by about 6.\n",
        "\n",
        "To see the whole distribution of deviations, we can plot a histogram.\n",
        "The following function uses Matplotlib to plot a histogram and adjust some of the settings."
      ]
    },
    {
      "cell_type": "code",
      "metadata": {
        "id": "XmUuEGy3ewlv",
        "colab_type": "code",
        "colab": {}
      },
      "source": [
        "import matplotlib.pyplot as plt\n",
        "\n",
        "def plot_hist(values):\n",
        "    xs, ys, patches = plt.hist(values,\n",
        "                               density=True,\n",
        "                               histtype='step',\n",
        "                               linewidth=2,\n",
        "                               alpha=0.5)\n",
        "    \n",
        "    \n",
        "    plt.ylabel('Density')\n",
        "    plt.tight_layout()\n",
        "    return patches[0]"
      ],
      "execution_count": 0,
      "outputs": []
    },
    {
      "cell_type": "markdown",
      "metadata": {
        "id": "sBK1ttAsewl5",
        "colab_type": "text"
      },
      "source": [
        "Here's what the distribution of deviations looks like:"
      ]
    },
    {
      "cell_type": "code",
      "metadata": {
        "id": "E-hFtDpeewl7",
        "colab_type": "code",
        "outputId": "06dec9bd-8d04-45b8-ad6e-bdc248a9a532",
        "colab": {
          "base_uri": "https://localhost:8080/",
          "height": 327
        }
      },
      "source": [
        "plot_hist(diffs)\n",
        "\n",
        "plt.title('Sampling distribution (n=250)')\n",
        "plt.xlabel('Deviation from expected number of heads');"
      ],
      "execution_count": 82,
      "outputs": [
        {
          "output_type": "display_data",
          "data": {
            "image/png": "[encoded data removed]",
            "text/plain": [
              "<Figure size 432x288 with 1 Axes>"
            ]
          },
          "metadata": {
            "tags": []
          }
        }
      ]
    },
    {
      "cell_type": "markdown",
      "metadata": {
        "id": "0u5VIP5PewmE",
        "colab_type": "text"
      },
      "source": [
        "This is the \"sampling distribution\" of deviations.  It shows how much variation we should expect between experiments with this sample size (n = 250)."
      ]
    },
    {
      "cell_type": "markdown",
      "metadata": {
        "id": "xALSw76UewmG",
        "colab_type": "text"
      },
      "source": [
        "## P-values\n",
        "\n",
        "Getting get back to the Euro example, Dr. Bright reported:\n",
        "\n",
        "\"If the coin were unbiased the chance of getting a result as extreme as that would be less than 7%\".\n",
        "\n",
        "The article doesn't say so explicitly, but this is a \"p-value\".  To understand what that means, let's count how many times, in 10000 attempts, the outcome is \"as extreme as\" the observed outcome, 140 heads.\n",
        "\n",
        "The observed deviation is the difference between the observed and expected number of heads:"
      ]
    },
    {
      "cell_type": "code",
      "metadata": {
        "id": "fwsHtTrjewmI",
        "colab_type": "code",
        "outputId": "29f9a740-f56e-4cff-b99e-a9a0a679a375",
        "colab": {
          "base_uri": "https://localhost:8080/",
          "height": 34
        }
      },
      "source": [
        "observed_diff = heads - expected\n",
        "observed_diff"
      ],
      "execution_count": 83,
      "outputs": [
        {
          "output_type": "execute_result",
          "data": {
            "text/plain": [
              "15.0"
            ]
          },
          "metadata": {
            "tags": []
          },
          "execution_count": 83
        }
      ]
    },
    {
      "cell_type": "markdown",
      "metadata": {
        "id": "4ZqxJcobewmN",
        "colab_type": "text"
      },
      "source": [
        "Let's see how many times the simulated `diffs` exceed the observed deviation:"
      ]
    },
    {
      "cell_type": "code",
      "metadata": {
        "id": "ibCKJG-CewmP",
        "colab_type": "code",
        "outputId": "e34e4263-0eff-4561-a115-a7a7d5888a8a",
        "colab": {
          "base_uri": "https://localhost:8080/",
          "height": 34
        }
      },
      "source": [
        "np.mean(diffs >= observed_diff)"
      ],
      "execution_count": 84,
      "outputs": [
        {
          "output_type": "execute_result",
          "data": {
            "text/plain": [
              "0.032"
            ]
          },
          "metadata": {
            "tags": []
          },
          "execution_count": 84
        }
      ]
    },
    {
      "cell_type": "markdown",
      "metadata": {
        "id": "yBbMHGsLewmZ",
        "colab_type": "text"
      },
      "source": [
        "It's around 3%.  But Dr. Blight said 7%.  Where did that come from?\n",
        "\n",
        "So far, we only counted the cases where the outcome is *more* heads than expected.  We might also want to count the cases where the outcome is *fewer* than expected.\n",
        "\n",
        "Here's the probability of falling below the expected number by 15 or more."
      ]
    },
    {
      "cell_type": "code",
      "metadata": {
        "id": "6oBzOuQMewme",
        "colab_type": "code",
        "outputId": "25f313c6-9eaf-481a-e6ff-de3783f79b44",
        "colab": {
          "base_uri": "https://localhost:8080/",
          "height": 34
        }
      },
      "source": [
        "np.mean(diffs <= -observed_diff)"
      ],
      "execution_count": 85,
      "outputs": [
        {
          "output_type": "execute_result",
          "data": {
            "text/plain": [
              "0.035"
            ]
          },
          "metadata": {
            "tags": []
          },
          "execution_count": 85
        }
      ]
    },
    {
      "cell_type": "markdown",
      "metadata": {
        "id": "UIQeGNReewmp",
        "colab_type": "text"
      },
      "source": [
        "To get the total probability of a result \"as extreme as that\", we can use the absolute value of the simulated differences:"
      ]
    },
    {
      "cell_type": "code",
      "metadata": {
        "id": "K2sEMw_Hewmr",
        "colab_type": "code",
        "outputId": "e8a028d1-0448-4aeb-e51d-6b07fa10c2cf",
        "colab": {
          "base_uri": "https://localhost:8080/",
          "height": 34
        }
      },
      "source": [
        "np.mean(abs(diffs) >= observed_diff)"
      ],
      "execution_count": 86,
      "outputs": [
        {
          "output_type": "execute_result",
          "data": {
            "text/plain": [
              "0.067"
            ]
          },
          "metadata": {
            "tags": []
          },
          "execution_count": 86
        }
      ]
    },
    {
      "cell_type": "markdown",
      "metadata": {
        "id": "uoYWgjLAewmy",
        "colab_type": "text"
      },
      "source": [
        "So that's consistent with what Dr. Blight reported.\n",
        "\n",
        "To show what that looks like graphically, I'll use the following function, which fills in the histogram between `low` and `high`."
      ]
    },
    {
      "cell_type": "code",
      "metadata": {
        "id": "LHoCMV7mewm1",
        "colab_type": "code",
        "colab": {}
      },
      "source": [
        "def fill_hist(low, high, patch):\n",
        "    fill = plt.axvspan(low, high, \n",
        "                       clip_path=patch,\n",
        "                       alpha=0.5, \n",
        "                       color='C0')"
      ],
      "execution_count": 0,
      "outputs": []
    },
    {
      "cell_type": "markdown",
      "metadata": {
        "id": "yc5558wkewm7",
        "colab_type": "text"
      },
      "source": [
        "The following plot shows the sampling distribution of `diffs` with two regions shaded.  These regions represent the probability that an unbiased coin yields a deviation from the expected as extreme as 15."
      ]
    },
    {
      "cell_type": "code",
      "metadata": {
        "id": "vfk2p7B3ewm9",
        "colab_type": "code",
        "outputId": "4427711b-fd6a-499b-ab14-6cb5d2208091",
        "colab": {
          "base_uri": "https://localhost:8080/",
          "height": 327
        }
      },
      "source": [
        "patch = plot_hist(diffs)\n",
        "\n",
        "# fill the right tail of the hist\n",
        "low = observed_diff\n",
        "high = diffs.max()\n",
        "fill_hist(low, high, patch)\n",
        "\n",
        "# fill the left tail of the hist\n",
        "low = diffs.min()\n",
        "high = -observed_diff\n",
        "fill_hist(low, high, patch)\n",
        "\n",
        "plt.title('Sampling distribution (n=250)')\n",
        "plt.xlabel('Deviation from expected number of heads')\n",
        "plt.ylabel('Density');"
      ],
      "execution_count": 88,
      "outputs": [
        {
          "output_type": "display_data",
          "data": {
            "image/png": "[encoded data removed]",
            "text/plain": [
              "<Figure size 432x288 with 1 Axes>"
            ]
          },
          "metadata": {
            "tags": []
          }
        }
      ]
    },
    {
      "cell_type": "markdown",
      "metadata": {
        "id": "NWaYkScPewnF",
        "colab_type": "text"
      },
      "source": [
        "These results show that there is a non-negligible chance of getting a result as extreme as 140 heads, even if the coin is actually fair.\n",
        "\n",
        "So even if the results are \"suspicious\" they don't provide compelling evidence that the coin is biased."
      ]
    },
    {
      "cell_type": "markdown",
      "metadata": {
        "id": "Ws02ObayewnH",
        "colab_type": "text"
      },
      "source": [
        "**Exercise:** There are a few ways to make \"crooked\" dice, that is, dice that are more likely to land on one side than the others.  Suppose you run a casino and you suspect that a patron is using a die that comes up 3 more often than it should.  \n",
        "\n",
        "You confiscate the die, roll it 300 times, and 63 times it comes up 3.  Does that support your suspicions?\n",
        "\n",
        "- To answer this question, use `spin` to simulate the experiment, assuming that the die is fair.\n",
        "\n",
        "- Use a for loop to run `spin` 1000 times and store the results in a NumPy array.\n",
        "\n",
        "- What is the mean of the results from the simulated experiments?\n",
        "\n",
        "- What is the expected number of 3s if the die is fair?\n",
        "\n",
        "- Use `plot_hist` to plot the results.  The histogram you plot approximates the sampling distribution."
      ]
    },
    {
      "cell_type": "code",
      "metadata": {
        "id": "hQEKEKPYewnJ",
        "colab_type": "code",
        "outputId": "002c5996-9e01-440b-8fc9-507b25a8999f",
        "colab": {
          "base_uri": "https://localhost:8080/",
          "height": 34
        }
      },
      "source": [
        "# Solution goes here\n",
        "\n",
        "die_sample_size = 300\n",
        "die_hypo_prob = 0.1666666666666666\n",
        "spin(die_sample_size, die_hypo_prob)"
      ],
      "execution_count": 90,
      "outputs": [
        {
          "output_type": "execute_result",
          "data": {
            "text/plain": [
              "45"
            ]
          },
          "metadata": {
            "tags": []
          },
          "execution_count": 90
        }
      ]
    },
    {
      "cell_type": "code",
      "metadata": {
        "id": "7LGH1xAvewnO",
        "colab_type": "code",
        "colab": {}
      },
      "source": [
        "# Solution goes here\n",
        "die_outcomes = np.empty(1000)\n",
        "\n",
        "for i in range(len(die_outcomes)):\n",
        "    die_outcomes[i] = spin(die_sample_size, die_hypo_prob)"
      ],
      "execution_count": 0,
      "outputs": []
    },
    {
      "cell_type": "code",
      "metadata": {
        "id": "b83ftorcewnT",
        "colab_type": "code",
        "outputId": "d1b3347c-3bc6-445a-b0db-0adfaf03b5f4",
        "colab": {
          "base_uri": "https://localhost:8080/",
          "height": 34
        }
      },
      "source": [
        "\n",
        "# Solution goes here\n",
        "np.mean(die_outcomes)"
      ],
      "execution_count": 92,
      "outputs": [
        {
          "output_type": "execute_result",
          "data": {
            "text/plain": [
              "49.819"
            ]
          },
          "metadata": {
            "tags": []
          },
          "execution_count": 92
        }
      ]
    },
    {
      "cell_type": "code",
      "metadata": {
        "id": "E-952nlLewnZ",
        "colab_type": "code",
        "colab": {}
      },
      "source": [
        "# Solution goes here\n",
        "die_expected = 50 \n",
        "die_diffs = die_outcomes - die_expected"
      ],
      "execution_count": 0,
      "outputs": []
    },
    {
      "cell_type": "code",
      "metadata": {
        "scrolled": true,
        "id": "4A4fpFa1ewnd",
        "colab_type": "code",
        "outputId": "d76a5af6-b34c-4aa2-98a6-4b02f4c30558",
        "colab": {
          "base_uri": "https://localhost:8080/",
          "height": 327
        }
      },
      "source": [
        "# Solution goes here\n",
        "plot_hist(die_diffs)\n",
        "\n",
        "plt.title('Sampling distribution (n=300)')\n",
        "plt.xlabel('Deviation from expected number of 3s');\n"
      ],
      "execution_count": 94,
      "outputs": [
        {
          "output_type": "display_data",
          "data": {
            "image/png": "[encoded data removed]",
            "text/plain": [
              "<Figure size 432x288 with 1 Axes>"
            ]
          },
          "metadata": {
            "tags": []
          }
        }
      ]
    },
    {
      "cell_type": "markdown",
      "metadata": {
        "id": "MLjcst1zewni",
        "colab_type": "text"
      },
      "source": [
        "**Exercise:** Continuing the previous exercise, compute the probability of seeing a deviation from the expected value that is \"as extreme\" as the observed difference.\n",
        "\n",
        "For this context, what do you think is the best definition of \"as extreme\"?\n",
        "\n",
        "Plot the histogram of the random deviations again, and use `fill_hist` to fill the region of the histogram that corresponds to the p-value you computed. "
      ]
    },
    {
      "cell_type": "code",
      "metadata": {
        "id": "55eKfrnmewnj",
        "colab_type": "code",
        "colab": {}
      },
      "source": [
        "# Solution goes here\n",
        "die_observed_diff = 63 - die_expected\n"
      ],
      "execution_count": 0,
      "outputs": []
    },
    {
      "cell_type": "code",
      "metadata": {
        "id": "MPpoT9crewnp",
        "colab_type": "code",
        "outputId": "17ac4e1c-4591-4c8a-bb52-ef573977f5de",
        "colab": {
          "base_uri": "https://localhost:8080/",
          "height": 34
        }
      },
      "source": [
        "# Using existing delta to quantify extreme values.\n",
        "p_value = np.mean(abs(die_diffs) >= die_observed_diff)\n",
        "p_value"
      ],
      "execution_count": 96,
      "outputs": [
        {
          "output_type": "execute_result",
          "data": {
            "text/plain": [
              "0.053"
            ]
          },
          "metadata": {
            "tags": []
          },
          "execution_count": 96
        }
      ]
    },
    {
      "cell_type": "code",
      "metadata": {
        "id": "tVjEAanlewnt",
        "colab_type": "code",
        "outputId": "e0148321-2555-45b7-ea78-48083c0d6a47",
        "colab": {
          "base_uri": "https://localhost:8080/",
          "height": 327
        }
      },
      "source": [
        "# Solution goes here\n",
        "die_patch = plot_hist(die_diffs)\n",
        "\n",
        "# fill the right tail of the hist\n",
        "die_low = die_observed_diff\n",
        "die_high = die_diffs.max()\n",
        "fill_hist(die_low, die_high, die_patch)\n",
        "\n",
        "# fill the left tail of the hist\n",
        "die_low = die_diffs.min()\n",
        "die_high = -die_observed_diff\n",
        "fill_hist(die_low, die_high, die_patch)\n",
        "\n",
        "plt.title('Sampling distribution (n=300)')\n",
        "plt.xlabel('Deviation from expected number of 3s')\n",
        "plt.ylabel('Density');"
      ],
      "execution_count": 97,
      "outputs": [
        {
          "output_type": "display_data",
          "data": {
            "image/png": "[encoded data removed]",
            "text/plain": [
              "<Figure size 432x288 with 1 Axes>"
            ]
          },
          "metadata": {
            "tags": []
          }
        }
      ]
    },
    {
      "cell_type": "markdown",
      "metadata": {
        "id": "8lMMVMR-ewnw",
        "colab_type": "text"
      },
      "source": [
        "## Are first babies more likely to be late?\n",
        "\n",
        "The examples so far have been based on coins and dice, which are relatively simple.  In this section we'll look at an example that's based on real-world data.\n",
        "\n",
        "Here's the motivation for it: When my wife and I were expecting our first baby, we heard that first babies are more likely to be late.  We also hear that first babies are more likely to be early.  Neither claim was supported by evidence.\n",
        "\n",
        "Fortunately, I am a data scientist!  Also fortunately, the CDC runs the National Survey of Family Growth (NSFG), which \"gathers information on family life, marriage and divorce, pregnancy, infertility, use of contraception, and men’s and women’s health.\"\n",
        "\n",
        "I got the data from their web page, https://www.cdc.gov/nchs/nsfg/index.htm, and wrote some code to get it into a Pandas Dataframe:"
      ]
    },
    {
      "cell_type": "code",
      "metadata": {
        "id": "pt7p0lZHewnx",
        "colab_type": "code",
        "colab": {}
      },
      "source": [
        "import os\n",
        "\n",
        "if not os.path.exists('nsfg.hdf5'):\n",
        "    !wget https://github.com/AllenDowney/ElementsOfDataScience/raw/master/nsfg.hdf5"
      ],
      "execution_count": 0,
      "outputs": []
    },
    {
      "cell_type": "code",
      "metadata": {
        "id": "3aCqhivuewn4",
        "colab_type": "code",
        "outputId": "65a2cfdb-3826-4f33-b6ad-20af2373343b",
        "colab": {
          "base_uri": "https://localhost:8080/",
          "height": 34
        }
      },
      "source": [
        "import pandas as pd\n",
        "\n",
        "nsfg = pd.read_hdf('nsfg.hdf5')\n",
        "nsfg.shape"
      ],
      "execution_count": 99,
      "outputs": [
        {
          "output_type": "execute_result",
          "data": {
            "text/plain": [
              "(9358, 11)"
            ]
          },
          "metadata": {
            "tags": []
          },
          "execution_count": 99
        }
      ]
    },
    {
      "cell_type": "markdown",
      "metadata": {
        "id": "S9tQPpqZewn8",
        "colab_type": "text"
      },
      "source": [
        "The `nsfg` DataFrame contains 9358 rows, one for each recorded pregnancy, and 11 columns, one of each of the variables I selected.\n",
        "\n",
        "Here are the first few lines."
      ]
    },
    {
      "cell_type": "code",
      "metadata": {
        "id": "LIPqEjJfewn-",
        "colab_type": "code",
        "outputId": "4cb7eccd-f1ed-44e9-e3c2-f95b26483de5",
        "colab": {
          "base_uri": "https://localhost:8080/",
          "height": 195
        }
      },
      "source": [
        "nsfg.head()"
      ],
      "execution_count": 100,
      "outputs": [
        {
          "output_type": "execute_result",
          "data": {
            "text/html": [
              "<div>\n",
              "<style scoped>\n",
              "    .dataframe tbody tr th:only-of-type {\n",
              "        vertical-align: middle;\n",
              "    }\n",
              "\n",
              "    .dataframe tbody tr th {\n",
              "        vertical-align: top;\n",
              "    }\n",
              "\n",
              "    .dataframe thead th {\n",
              "        text-align: right;\n",
              "    }\n",
              "</style>\n",
              "<table border=\"1\" class=\"dataframe\">\n",
              "  <thead>\n",
              "    <tr style=\"text-align: right;\">\n",
              "      <th></th>\n",
              "      <th>caseid</th>\n",
              "      <th>outcome</th>\n",
              "      <th>birthwgt_lb1</th>\n",
              "      <th>birthwgt_oz1</th>\n",
              "      <th>prglngth</th>\n",
              "      <th>nbrnaliv</th>\n",
              "      <th>agecon</th>\n",
              "      <th>agepreg</th>\n",
              "      <th>birthord</th>\n",
              "      <th>hpagelb</th>\n",
              "      <th>wgt2013_2015</th>\n",
              "    </tr>\n",
              "  </thead>\n",
              "  <tbody>\n",
              "    <tr>\n",
              "      <th>0</th>\n",
              "      <td>60418</td>\n",
              "      <td>1</td>\n",
              "      <td>5.0</td>\n",
              "      <td>4.0</td>\n",
              "      <td>40</td>\n",
              "      <td>1.0</td>\n",
              "      <td>2000</td>\n",
              "      <td>2075.0</td>\n",
              "      <td>1.0</td>\n",
              "      <td>22.0</td>\n",
              "      <td>3554.964843</td>\n",
              "    </tr>\n",
              "    <tr>\n",
              "      <th>1</th>\n",
              "      <td>60418</td>\n",
              "      <td>1</td>\n",
              "      <td>4.0</td>\n",
              "      <td>12.0</td>\n",
              "      <td>36</td>\n",
              "      <td>1.0</td>\n",
              "      <td>2291</td>\n",
              "      <td>2358.0</td>\n",
              "      <td>2.0</td>\n",
              "      <td>25.0</td>\n",
              "      <td>3554.964843</td>\n",
              "    </tr>\n",
              "    <tr>\n",
              "      <th>2</th>\n",
              "      <td>60418</td>\n",
              "      <td>1</td>\n",
              "      <td>5.0</td>\n",
              "      <td>4.0</td>\n",
              "      <td>36</td>\n",
              "      <td>1.0</td>\n",
              "      <td>3241</td>\n",
              "      <td>3308.0</td>\n",
              "      <td>3.0</td>\n",
              "      <td>52.0</td>\n",
              "      <td>3554.964843</td>\n",
              "    </tr>\n",
              "    <tr>\n",
              "      <th>3</th>\n",
              "      <td>60419</td>\n",
              "      <td>6</td>\n",
              "      <td>NaN</td>\n",
              "      <td>NaN</td>\n",
              "      <td>33</td>\n",
              "      <td>NaN</td>\n",
              "      <td>3650</td>\n",
              "      <td>NaN</td>\n",
              "      <td>NaN</td>\n",
              "      <td>NaN</td>\n",
              "      <td>2484.535358</td>\n",
              "    </tr>\n",
              "    <tr>\n",
              "      <th>4</th>\n",
              "      <td>60420</td>\n",
              "      <td>1</td>\n",
              "      <td>8.0</td>\n",
              "      <td>13.0</td>\n",
              "      <td>41</td>\n",
              "      <td>1.0</td>\n",
              "      <td>2191</td>\n",
              "      <td>2266.0</td>\n",
              "      <td>1.0</td>\n",
              "      <td>24.0</td>\n",
              "      <td>2903.782914</td>\n",
              "    </tr>\n",
              "  </tbody>\n",
              "</table>\n",
              "</div>"
            ],
            "text/plain": [
              "   caseid  outcome  birthwgt_lb1  ...  birthord  hpagelb  wgt2013_2015\n",
              "0   60418        1           5.0  ...       1.0     22.0   3554.964843\n",
              "1   60418        1           4.0  ...       2.0     25.0   3554.964843\n",
              "2   60418        1           5.0  ...       3.0     52.0   3554.964843\n",
              "3   60419        6           NaN  ...       NaN      NaN   2484.535358\n",
              "4   60420        1           8.0  ...       1.0     24.0   2903.782914\n",
              "\n",
              "[5 rows x 11 columns]"
            ]
          },
          "metadata": {
            "tags": []
          },
          "execution_count": 100
        }
      ]
    },
    {
      "cell_type": "markdown",
      "metadata": {
        "id": "e3BtGlBTewoD",
        "colab_type": "text"
      },
      "source": [
        "The variables we need are `birthord`, which indicates birth order, and `prglength`, which is pregnancy length in weeks.\n",
        "\n",
        "I'll make two boolean Series, one for first babies and one for others."
      ]
    },
    {
      "cell_type": "code",
      "metadata": {
        "id": "zznOi6BzewoE",
        "colab_type": "code",
        "outputId": "8a91c521-4e53-4923-ae34-fe9ddfb9db55",
        "colab": {
          "base_uri": "https://localhost:8080/",
          "height": 34
        }
      },
      "source": [
        "firsts = (nsfg.birthord == 1)\n",
        "others = (nsfg.birthord > 1)\n",
        "\n",
        "np.sum(firsts), np.sum(others)"
      ],
      "execution_count": 101,
      "outputs": [
        {
          "output_type": "execute_result",
          "data": {
            "text/plain": [
              "(3067, 3422)"
            ]
          },
          "metadata": {
            "tags": []
          },
          "execution_count": 101
        }
      ]
    },
    {
      "cell_type": "markdown",
      "metadata": {
        "id": "ZfYIXDYkewoI",
        "colab_type": "text"
      },
      "source": [
        "We can use the boolean Series to select pregnancy lengths for the two groups and compute their means:"
      ]
    },
    {
      "cell_type": "code",
      "metadata": {
        "id": "0HO-xA2mewoK",
        "colab_type": "code",
        "outputId": "c038939e-e1bb-4e60-b4b1-6dd5733c2108",
        "colab": {
          "base_uri": "https://localhost:8080/",
          "height": 34
        }
      },
      "source": [
        "prglngth = nsfg['prglngth']\n",
        "\n",
        "mean_first = prglngth[firsts].mean() \n",
        "mean_other = prglngth[others].mean()\n",
        "\n",
        "mean_first, mean_other"
      ],
      "execution_count": 102,
      "outputs": [
        {
          "output_type": "execute_result",
          "data": {
            "text/plain": [
              "(38.57124225627649, 38.36908240794857)"
            ]
          },
          "metadata": {
            "tags": []
          },
          "execution_count": 102
        }
      ]
    },
    {
      "cell_type": "markdown",
      "metadata": {
        "id": "wH_JD0OSewoN",
        "colab_type": "text"
      },
      "source": [
        "Here's the difference in means, in weeks."
      ]
    },
    {
      "cell_type": "code",
      "metadata": {
        "scrolled": true,
        "id": "ZxJvtolNewoQ",
        "colab_type": "code",
        "outputId": "1dff0e63-e8c7-4408-d23c-c2c7b24fffe3",
        "colab": {
          "base_uri": "https://localhost:8080/",
          "height": 34
        }
      },
      "source": [
        "diff = mean_first - mean_other\n",
        "diff"
      ],
      "execution_count": 103,
      "outputs": [
        {
          "output_type": "execute_result",
          "data": {
            "text/plain": [
              "0.20215984832792344"
            ]
          },
          "metadata": {
            "tags": []
          },
          "execution_count": 103
        }
      ]
    },
    {
      "cell_type": "markdown",
      "metadata": {
        "id": "h2Vh4q1xewoX",
        "colab_type": "text"
      },
      "source": [
        "Here it is converted to days:"
      ]
    },
    {
      "cell_type": "code",
      "metadata": {
        "scrolled": true,
        "id": "MCEuOph9ewoY",
        "colab_type": "code",
        "outputId": "2b3afe7e-ee08-4352-c4f1-f821dc2a5f6c",
        "colab": {
          "base_uri": "https://localhost:8080/",
          "height": 34
        }
      },
      "source": [
        "diff * 7"
      ],
      "execution_count": 104,
      "outputs": [
        {
          "output_type": "execute_result",
          "data": {
            "text/plain": [
              "1.415118938295464"
            ]
          },
          "metadata": {
            "tags": []
          },
          "execution_count": 104
        }
      ]
    },
    {
      "cell_type": "markdown",
      "metadata": {
        "id": "alZ_R-NSewoe",
        "colab_type": "text"
      },
      "source": [
        "It looks like first babies are born 1.4 days later than other babies, on average. "
      ]
    },
    {
      "cell_type": "markdown",
      "metadata": {
        "id": "xYRrrl2qewof",
        "colab_type": "text"
      },
      "source": [
        "## Hypothesis testing\n",
        "\n",
        "The apparent difference between these groups is based on a random sample that is much smaller than the actual population.  So we can't be sure that the difference we see in the sample reflects a real difference in the population.  There are two other possibilities we should keep in mind:\n",
        "\n",
        "*  Systematic errors: The sample might be more likely to include some pregancies, and less likely to include others, in a way that causes an apparent difference in the sample, even if there is no such difference in the population.\n",
        "\n",
        "*  Sampling errors: Even if every pregnancy is equally likely to appear in the sample, it is still possible to see a difference in the sample that is not in the population, just because of random variation.\n",
        "\n",
        "We can never rule out the possibility of systematic errors, but we *can* test whether an apparent effect could be explained by random sampling.\n",
        "\n",
        "Here's how:\n",
        "\n",
        "1. First we choose a \"test statistic\" that measures the size of the effect; the test statistic in this example is the difference in mean pregnancy length.\n",
        "\n",
        "2. Next we define a model of the population under the assumption that there is actually no difference between the groups.  This assumption is called the \"null hypothesis\".\n",
        "\n",
        "3. Then we use the model to compute the distribution of the test statistic under the null hypothesis.\n",
        "\n",
        "We have already done step 1, but to make it easier to repeat, I'll wrap it in a function."
      ]
    },
    {
      "cell_type": "code",
      "metadata": {
        "id": "_ePqrhsdewoh",
        "colab_type": "code",
        "colab": {}
      },
      "source": [
        "def test_stat(group1, group2):\n",
        "    \"\"\"Difference in means.\n",
        "    \n",
        "    group1: sequence of values\n",
        "    group2: sequence of values\n",
        "    \n",
        "    returns: float difference in means\n",
        "    \"\"\"\n",
        "    diff = np.mean(group1) - np.mean(group2)\n",
        "    return diff"
      ],
      "execution_count": 0,
      "outputs": []
    },
    {
      "cell_type": "markdown",
      "metadata": {
        "id": "AZiDYbUCewoo",
        "colab_type": "text"
      },
      "source": [
        "`test_stat` takes two sequences and computes the difference in their means.\n",
        "\n",
        "Here's how we use it to compute the actual difference in the sample."
      ]
    },
    {
      "cell_type": "code",
      "metadata": {
        "id": "2uoubQrFewop",
        "colab_type": "code",
        "outputId": "6e5f45a8-4f4f-479f-c543-8604f3a2c071",
        "colab": {
          "base_uri": "https://localhost:8080/",
          "height": 34
        }
      },
      "source": [
        "group1 = prglngth[firsts]\n",
        "group2 = prglngth[others]\n",
        "\n",
        "actual_diff = test_stat(group1, group2)\n",
        "actual_diff"
      ],
      "execution_count": 106,
      "outputs": [
        {
          "output_type": "execute_result",
          "data": {
            "text/plain": [
              "0.20215984832792344"
            ]
          },
          "metadata": {
            "tags": []
          },
          "execution_count": 106
        }
      ]
    },
    {
      "cell_type": "markdown",
      "metadata": {
        "id": "qcOYUmyeewos",
        "colab_type": "text"
      },
      "source": [
        "Now we have to define the null hypothesis, which is a model of the world where there is no difference in pregnancy length between first babies and others.\n",
        "\n",
        "One way to do that is to put the two groups together and then divide them up again at random.  That way the distribution of pregnancy lengths is the same for both groups.\n",
        "\n",
        "I'll use `concatenate` to pool the groups. "
      ]
    },
    {
      "cell_type": "code",
      "metadata": {
        "id": "hd-57oaYewou",
        "colab_type": "code",
        "outputId": "f575057c-981a-418f-c430-aede3a441366",
        "colab": {
          "base_uri": "https://localhost:8080/",
          "height": 34
        }
      },
      "source": [
        "len(group1), len(group2)"
      ],
      "execution_count": 107,
      "outputs": [
        {
          "output_type": "execute_result",
          "data": {
            "text/plain": [
              "(3067, 3422)"
            ]
          },
          "metadata": {
            "tags": []
          },
          "execution_count": 107
        }
      ]
    },
    {
      "cell_type": "code",
      "metadata": {
        "id": "HD2whP5Iewox",
        "colab_type": "code",
        "outputId": "8292361b-daac-437a-95d0-90f7b2249c05",
        "colab": {
          "base_uri": "https://localhost:8080/",
          "height": 34
        }
      },
      "source": [
        "pool = np.concatenate([group1, group2])\n",
        "pool.shape"
      ],
      "execution_count": 108,
      "outputs": [
        {
          "output_type": "execute_result",
          "data": {
            "text/plain": [
              "(6489,)"
            ]
          },
          "metadata": {
            "tags": []
          },
          "execution_count": 108
        }
      ]
    },
    {
      "cell_type": "markdown",
      "metadata": {
        "id": "oeCadB-Cewo2",
        "colab_type": "text"
      },
      "source": [
        "I'll use `shuffle` to reorder them."
      ]
    },
    {
      "cell_type": "code",
      "metadata": {
        "id": "B8jL2HHtewo4",
        "colab_type": "code",
        "colab": {}
      },
      "source": [
        "np.random.shuffle(pool)"
      ],
      "execution_count": 0,
      "outputs": []
    },
    {
      "cell_type": "markdown",
      "metadata": {
        "id": "U1nMFBDVewo-",
        "colab_type": "text"
      },
      "source": [
        "Then I'll use `split` to make two simulated groups, the same size as the originals."
      ]
    },
    {
      "cell_type": "code",
      "metadata": {
        "id": "yFHh5aktewo_",
        "colab_type": "code",
        "colab": {}
      },
      "source": [
        "n = len(group1)\n",
        "sim_group1, sim_group2 = np.split(pool, [n])"
      ],
      "execution_count": 0,
      "outputs": []
    },
    {
      "cell_type": "code",
      "metadata": {
        "id": "xNCd-lsMewpE",
        "colab_type": "code",
        "outputId": "2df7abba-91b6-4405-a296-d1b7118748e6",
        "colab": {
          "base_uri": "https://localhost:8080/",
          "height": 34
        }
      },
      "source": [
        "len(sim_group1), len(sim_group2)"
      ],
      "execution_count": 111,
      "outputs": [
        {
          "output_type": "execute_result",
          "data": {
            "text/plain": [
              "(3067, 3422)"
            ]
          },
          "metadata": {
            "tags": []
          },
          "execution_count": 111
        }
      ]
    },
    {
      "cell_type": "markdown",
      "metadata": {
        "id": "PBv9iBh5ewpI",
        "colab_type": "text"
      },
      "source": [
        "Now we can compute the test statistic for the simulated data."
      ]
    },
    {
      "cell_type": "code",
      "metadata": {
        "id": "9MSE_--JewpK",
        "colab_type": "code",
        "outputId": "3f7cdb1f-29ab-4ef7-bd5e-30233adea318",
        "colab": {
          "base_uri": "https://localhost:8080/",
          "height": 34
        }
      },
      "source": [
        "test_stat(sim_group1, sim_group2)"
      ],
      "execution_count": 112,
      "outputs": [
        {
          "output_type": "execute_result",
          "data": {
            "text/plain": [
              "-0.07668365780636321"
            ]
          },
          "metadata": {
            "tags": []
          },
          "execution_count": 112
        }
      ]
    },
    {
      "cell_type": "markdown",
      "metadata": {
        "id": "Af-0wdD4ewpN",
        "colab_type": "text"
      },
      "source": [
        "In the simulated data, the distribution of pregnancy lengths is the same for both groups, so the difference is usually close to 0.\n",
        "\n",
        "But because it is based on a random shuffle of the groups, we get a different value each time we run it.\n",
        "\n",
        "To see what the whole distribution looks like, we can run the simulation many times and store the results."
      ]
    },
    {
      "cell_type": "code",
      "metadata": {
        "id": "ozLi-i6XewpO",
        "colab_type": "code",
        "colab": {}
      },
      "source": [
        "diffs = np.empty(1000)\n",
        "\n",
        "for i in range(len(diffs)):\n",
        "    np.random.shuffle(pool)\n",
        "    sim_group1, sim_group2 = np.split(pool, [n])\n",
        "    diffs[i] = test_stat(sim_group1, sim_group2)"
      ],
      "execution_count": 0,
      "outputs": []
    },
    {
      "cell_type": "markdown",
      "metadata": {
        "id": "py-CLRGKewpQ",
        "colab_type": "text"
      },
      "source": [
        "The result is the \"sampling distribution of the test statistic under the null hypothesis\".\n",
        "\n",
        "The mean of this distribution should close to zero, because it is based on the assumption that there is actually no difference between the groups."
      ]
    },
    {
      "cell_type": "code",
      "metadata": {
        "id": "wlaOHEG-ewpR",
        "colab_type": "code",
        "outputId": "45135f3c-32fa-4ce2-d3fd-493db1476a55",
        "colab": {
          "base_uri": "https://localhost:8080/",
          "height": 34
        }
      },
      "source": [
        "np.mean(diffs)"
      ],
      "execution_count": 114,
      "outputs": [
        {
          "output_type": "execute_result",
          "data": {
            "text/plain": [
              "0.0009170679107569342"
            ]
          },
          "metadata": {
            "tags": []
          },
          "execution_count": 114
        }
      ]
    },
    {
      "cell_type": "markdown",
      "metadata": {
        "id": "Qc2Tinr_ewpV",
        "colab_type": "text"
      },
      "source": [
        "And here's what the whole distribution looks like."
      ]
    },
    {
      "cell_type": "code",
      "metadata": {
        "id": "pToyk99_ewpW",
        "colab_type": "code",
        "outputId": "ce9be8e7-314b-47e4-8ec3-c2ab6e5bcd93",
        "colab": {
          "base_uri": "https://localhost:8080/",
          "height": 327
        }
      },
      "source": [
        "plot_hist(diffs)\n",
        "\n",
        "plt.xlabel('Difference in mean (weeks)')\n",
        "plt.title('Distribution of test statistic under null hypothesis');"
      ],
      "execution_count": 115,
      "outputs": [
        {
          "output_type": "display_data",
          "data": {
            "image/png": "[encoded data removed]",
            "text/plain": [
              "<Figure size 432x288 with 1 Axes>"
            ]
          },
          "metadata": {
            "tags": []
          }
        }
      ]
    },
    {
      "cell_type": "markdown",
      "metadata": {
        "id": "BkpU6Lv7ewpY",
        "colab_type": "text"
      },
      "source": [
        "If there were actually no difference between the groups, we would expect to see a difference as big as 0.15 weeks by chance, at least occasionally.  But a difference as big as 0.2 would be rare.\n",
        "\n",
        "To quantify that surprise, we can estimate the probability that the test statistic, under the null hypothesis, exceeds the observed differences in the means.\n",
        "\n",
        "The result is a \"p-value\"."
      ]
    },
    {
      "cell_type": "code",
      "metadata": {
        "id": "dpdqiJnQewpZ",
        "colab_type": "code",
        "outputId": "f51c2ad6-3bf1-43c1-aef3-e5aa053366f1",
        "colab": {
          "base_uri": "https://localhost:8080/",
          "height": 34
        }
      },
      "source": [
        "p_value = np.mean(diffs >= actual_diff)\n",
        "p_value"
      ],
      "execution_count": 116,
      "outputs": [
        {
          "output_type": "execute_result",
          "data": {
            "text/plain": [
              "0.0"
            ]
          },
          "metadata": {
            "tags": []
          },
          "execution_count": 116
        }
      ]
    },
    {
      "cell_type": "markdown",
      "metadata": {
        "id": "gjfobAyNewpb",
        "colab_type": "text"
      },
      "source": [
        "In this example the result is 0, which is to say that in 1000 simulations of the null hypothesis, we never saw a difference as big as 0.2."
      ]
    },
    {
      "cell_type": "markdown",
      "metadata": {
        "id": "jTdPiKuTewpc",
        "colab_type": "text"
      },
      "source": [
        "## Interpreting p-values\n",
        "\n",
        "To interpret this result, remember that we started with three possible explanations for the observed difference between the groups:\n",
        "\n",
        "1. The observed difference might be \"real\"; that is, there might be an actual difference in pregnancy length between first babies and others.\n",
        "\n",
        "2. There might be no real difference between the groups, and the observed difference might be because of a systematic error in the sampling process or the data collection process.  For example, maybe reported pregnancy lengths are less accurate for first time mothers.\n",
        "\n",
        "3. There might be no real difference between the groups, and the observed difference might be due to random variation in the sampling process.\n",
        "\n",
        "By computing a p-value, we have established that it would be rare to see a difference as big as 0.2 due to sampling alone.  So we can conclude that the third explanation is unlikely.\n",
        "\n",
        "That makes it more likely that the difference is real, but we still can't rule out the second possibility."
      ]
    },
    {
      "cell_type": "markdown",
      "metadata": {
        "id": "IDD8bh0yewpe",
        "colab_type": "text"
      },
      "source": [
        "**Exercise:** The test statistic we chose is the difference in means between the two groups.\n",
        "\n",
        "But suppose we would like to know whether first babies are more unpredictable than other babies.  In that case the test statistic we choose might be the standard deviation of pregnancy length, which is one way to quantify unpredictability.\n",
        "\n",
        "As an exercise:\n",
        "\n",
        "1. Write a version of `test_stat` that computes the difference in standard deviation between the groups.\n",
        "\n",
        "2. Write a loop that estimates the distribution of this test statistic under the null hypothesis.\n",
        "\n",
        "3. Compute a p-value."
      ]
    },
    {
      "cell_type": "code",
      "metadata": {
        "id": "OSkbbWscewpf",
        "colab_type": "code",
        "colab": {}
      },
      "source": [
        "# Solution goes here\n",
        "def test_stat_sd(group1, group2):\n",
        "    \"\"\"Difference in means.\n",
        "    \n",
        "    group1: sequence of values\n",
        "    group2: sequence of values\n",
        "    \n",
        "    returns: float difference in means\n",
        "    \"\"\"\n",
        "    diff = np.std(group1) - np.std(group2)\n",
        "    return diff"
      ],
      "execution_count": 0,
      "outputs": []
    },
    {
      "cell_type": "code",
      "metadata": {
        "id": "D_LoYreDewpj",
        "colab_type": "code",
        "colab": {}
      },
      "source": [
        "# Solution goes here\n",
        "sd_diffs = np.empty(1000)\n",
        "\n",
        "for i in range(len(sd_diffs)):\n",
        "    np.random.shuffle(pool)\n",
        "    sim_group1, sim_group2 = np.split(pool, [n])\n",
        "    sd_diffs[i] = test_stat_sd(sim_group1, sim_group2)"
      ],
      "execution_count": 0,
      "outputs": []
    },
    {
      "cell_type": "code",
      "metadata": {
        "id": "SzQ4Zyy6ewpo",
        "colab_type": "code",
        "outputId": "c22b245b-209a-4da5-fb53-68e189cc36b9",
        "colab": {
          "base_uri": "https://localhost:8080/",
          "height": 34
        }
      },
      "source": [
        "# Solution goes here\n",
        "group1 = prglngth[firsts]\n",
        "group2 = prglngth[others]\n",
        "\n",
        "actual_diff_sd = test_stat_sd(group1, group2)\n",
        "actual_diff_sd"
      ],
      "execution_count": 119,
      "outputs": [
        {
          "output_type": "execute_result",
          "data": {
            "text/plain": [
              "0.17121586668855615"
            ]
          },
          "metadata": {
            "tags": []
          },
          "execution_count": 119
        }
      ]
    },
    {
      "cell_type": "code",
      "metadata": {
        "id": "sE43AlqHewpr",
        "colab_type": "code",
        "outputId": "c8d69532-bb38-4905-c85f-1575c06ae950",
        "colab": {
          "base_uri": "https://localhost:8080/",
          "height": 34
        }
      },
      "source": [
        "# Solution goes here\n",
        "sd_p_val = np.mean(sd_diffs >= actual_diff_sd)\n",
        "sd_p_val"
      ],
      "execution_count": 120,
      "outputs": [
        {
          "output_type": "execute_result",
          "data": {
            "text/plain": [
              "0.06"
            ]
          },
          "metadata": {
            "tags": []
          },
          "execution_count": 120
        }
      ]
    },
    {
      "cell_type": "code",
      "metadata": {
        "id": "PehcJqAxewpv",
        "colab_type": "code",
        "colab": {}
      },
      "source": [
        "# Solution goes here"
      ],
      "execution_count": 0,
      "outputs": []
    },
    {
      "cell_type": "code",
      "metadata": {
        "id": "8f9Qkz9Qewpy",
        "colab_type": "code",
        "colab": {}
      },
      "source": [
        "# Solution goes here"
      ],
      "execution_count": 0,
      "outputs": []
    },
    {
      "cell_type": "markdown",
      "metadata": {
        "id": "yfucCRMEewp2",
        "colab_type": "text"
      },
      "source": [
        "## Estimation\n",
        "\n",
        "Suppose we want to estimate the average height of men in the U.S.\n",
        "\n",
        "We can use data from the [BRFSS](https://www.cdc.gov/brfss/index.html):\n",
        "\n",
        "\"The Behavioral Risk Factor Surveillance System (BRFSS) is the nation's premier system of health-related telephone surveys that collect state data about U.S. residents regarding their health-related risk behaviors, chronic health conditions, and use of preventive services.\""
      ]
    },
    {
      "cell_type": "code",
      "metadata": {
        "id": "cVi6hmTmewp3",
        "colab_type": "code",
        "colab": {}
      },
      "source": [
        "# Get the data file\n",
        "\n",
        "import os\n",
        "\n",
        "if not os.path.exists('brfss.hdf5'):\n",
        "    !wget https://github.com/AllenDowney/ElementsOfDataScience/raw/master/brfss.hdf5"
      ],
      "execution_count": 0,
      "outputs": []
    },
    {
      "cell_type": "code",
      "metadata": {
        "id": "NdFPhnQJewp-",
        "colab_type": "code",
        "outputId": "8890a0cc-4dac-4ea5-81b8-5b2d9e6158da",
        "colab": {
          "base_uri": "https://localhost:8080/",
          "height": 34
        }
      },
      "source": [
        "import pandas as pd\n",
        "\n",
        "brfss = pd.read_hdf('brfss.hdf5', 'brfss')\n",
        "brfss.shape"
      ],
      "execution_count": 124,
      "outputs": [
        {
          "output_type": "execute_result",
          "data": {
            "text/plain": [
              "(100000, 9)"
            ]
          },
          "metadata": {
            "tags": []
          },
          "execution_count": 124
        }
      ]
    },
    {
      "cell_type": "markdown",
      "metadata": {
        "id": "rSEOq6l-ewqH",
        "colab_type": "text"
      },
      "source": [
        "We can use `SEX` to select male respondents."
      ]
    },
    {
      "cell_type": "code",
      "metadata": {
        "id": "jk0vdj8pewqJ",
        "colab_type": "code",
        "outputId": "306b728a-e0f8-4951-c74e-e2d5af82bbf0",
        "colab": {
          "base_uri": "https://localhost:8080/",
          "height": 34
        }
      },
      "source": [
        "male = (brfss.SEX == 1)\n",
        "np.mean(male)"
      ],
      "execution_count": 125,
      "outputs": [
        {
          "output_type": "execute_result",
          "data": {
            "text/plain": [
              "0.48589"
            ]
          },
          "metadata": {
            "tags": []
          },
          "execution_count": 125
        }
      ]
    },
    {
      "cell_type": "markdown",
      "metadata": {
        "id": "fbd5Sl0kewqM",
        "colab_type": "text"
      },
      "source": [
        "Then we select height data."
      ]
    },
    {
      "cell_type": "code",
      "metadata": {
        "id": "CDmWWdsYewqN",
        "colab_type": "code",
        "colab": {}
      },
      "source": [
        "heights = brfss['HTM4']\n",
        "data = heights[male]"
      ],
      "execution_count": 0,
      "outputs": []
    },
    {
      "cell_type": "markdown",
      "metadata": {
        "id": "AjE8I4ElewqS",
        "colab_type": "text"
      },
      "source": [
        "We can use `isnan` to check for NaN values:"
      ]
    },
    {
      "cell_type": "code",
      "metadata": {
        "id": "95TDrSxxewqT",
        "colab_type": "code",
        "outputId": "848f400a-7f05-4a4f-f386-40088fee48a7",
        "colab": {
          "base_uri": "https://localhost:8080/",
          "height": 34
        }
      },
      "source": [
        "np.mean(np.isnan(data)) * 100"
      ],
      "execution_count": 127,
      "outputs": [
        {
          "output_type": "execute_result",
          "data": {
            "text/plain": [
              "4.338430508962934"
            ]
          },
          "metadata": {
            "tags": []
          },
          "execution_count": 127
        }
      ]
    },
    {
      "cell_type": "markdown",
      "metadata": {
        "id": "9HpCyDzCewqX",
        "colab_type": "text"
      },
      "source": [
        "About 4% of the values are missing.\n",
        "\n",
        "Here are the mean and standard deviation, ignoring missing data."
      ]
    },
    {
      "cell_type": "code",
      "metadata": {
        "id": "s13UhTKBewqY",
        "colab_type": "code",
        "outputId": "9435cadf-22bb-45f9-8896-c1e23d9cef77",
        "colab": {
          "base_uri": "https://localhost:8080/",
          "height": 50
        }
      },
      "source": [
        "print('Mean male height in cm =', np.nanmean(data))\n",
        "print('Std male height in cm =', np.nanstd(data))"
      ],
      "execution_count": 128,
      "outputs": [
        {
          "output_type": "stream",
          "text": [
            "Mean male height in cm = 177.53804780447925\n",
            "Std male height in cm = 8.350063691943435\n"
          ],
          "name": "stdout"
        }
      ]
    },
    {
      "cell_type": "markdown",
      "metadata": {
        "id": "MCAFb04aewqb",
        "colab_type": "text"
      },
      "source": [
        "## Quantifying precision\n",
        "\n",
        "At this point we have an estimate of the average adult male height.  We'd like to know how accurate this estimate is, and how precise.  In the context of estimation, these words have a [technical distinction](https://en.wikipedia.org/wiki/Accuracy_and_precision):\n",
        "\n",
        ">Given a set of data points from repeated measurements of the same quantity, the set can be said to be precise if the values are close to each other, while the set can be said to be accurate if their average is close to the true value of the quantity being measured.\n",
        "\n",
        "Usually accuracy is what we really care about, but it's hard to measure accuracy unless you know the true value.  And if you know the true value, you don't have to estimate it.\n",
        "\n",
        "Quantifying precision is not as useful, but it is much easier.  Here's one way to do it:\n",
        "\n",
        "1.  Use the data you have to make a model of the population.\n",
        "\n",
        "2.  Use the model to simulate the data collection process.\n",
        "\n",
        "3.  Use the simulated data to compute an estimate.\n",
        "\n",
        "By repeating these steps, we can quantify the variability of the estimate due to random sampling."
      ]
    },
    {
      "cell_type": "markdown",
      "metadata": {
        "id": "Si6CpKGSewqc",
        "colab_type": "text"
      },
      "source": [
        "To model the population, I'll use **resampling**; that is, I will treat the observed measurements as if they were taken from the entire population, and I will draw random samples from them.\n",
        "\n",
        "We can use `np.random.choice` to resample the data:"
      ]
    },
    {
      "cell_type": "code",
      "metadata": {
        "id": "sZ_9dtjAewqd",
        "colab_type": "code",
        "outputId": "dc4f7b27-0712-4eb0-b8ab-5d7401d407a1",
        "colab": {
          "base_uri": "https://localhost:8080/",
          "height": 34
        }
      },
      "source": [
        "size = len(data)\n",
        "sim_data = np.random.choice(data, size, replace=True)\n",
        "sim_data.shape"
      ],
      "execution_count": 129,
      "outputs": [
        {
          "output_type": "execute_result",
          "data": {
            "text/plain": [
              "(48589,)"
            ]
          },
          "metadata": {
            "tags": []
          },
          "execution_count": 129
        }
      ]
    },
    {
      "cell_type": "markdown",
      "metadata": {
        "id": "w516hqJfewqi",
        "colab_type": "text"
      },
      "source": [
        "With `replace=True`, we sample with replacement, which means that some measurements might be chosen more than once, and some might not be chosen at all.\n",
        "\n",
        "(If we sample *without* replacement, the resampled data is always identical to the original, so that's no good.)"
      ]
    },
    {
      "cell_type": "markdown",
      "metadata": {
        "id": "zzjbcFjMewqj",
        "colab_type": "text"
      },
      "source": [
        "Now we can use `nanmean` to compute the mean of the simulated data, ignoring missing values."
      ]
    },
    {
      "cell_type": "code",
      "metadata": {
        "id": "IRgHo6nBewqk",
        "colab_type": "code",
        "outputId": "ca19b80e-1018-4c6a-fc2b-2815ba789a77",
        "colab": {
          "base_uri": "https://localhost:8080/",
          "height": 34
        }
      },
      "source": [
        "np.nanmean(sim_data)"
      ],
      "execution_count": 130,
      "outputs": [
        {
          "output_type": "execute_result",
          "data": {
            "text/plain": [
              "177.54084179721121"
            ]
          },
          "metadata": {
            "tags": []
          },
          "execution_count": 130
        }
      ]
    },
    {
      "cell_type": "markdown",
      "metadata": {
        "id": "NxEFEhdPewqm",
        "colab_type": "text"
      },
      "source": [
        "If we repeat this process 1000 times, we can see how much the results vary."
      ]
    },
    {
      "cell_type": "code",
      "metadata": {
        "id": "T-24ggLfewqn",
        "colab_type": "code",
        "colab": {}
      },
      "source": [
        "outcomes = np.empty(1000)\n",
        "size = len(data)\n",
        "\n",
        "for i in range(len(outcomes)):\n",
        "    sim_data = np.random.choice(data, size, replace=True)\n",
        "    outcomes[i] = np.nanmean(sim_data)"
      ],
      "execution_count": 0,
      "outputs": []
    },
    {
      "cell_type": "markdown",
      "metadata": {
        "id": "95oWM7UMewqr",
        "colab_type": "text"
      },
      "source": [
        "The result is the \"sampling distribution\", which shows how much the results of the experiment would vary if we ran it many times.  Here's what it looks like:"
      ]
    },
    {
      "cell_type": "code",
      "metadata": {
        "id": "TY1hyr2Fewqw",
        "colab_type": "code",
        "outputId": "21b442af-d157-421b-805e-415c2f450e90",
        "colab": {
          "base_uri": "https://localhost:8080/",
          "height": 327
        }
      },
      "source": [
        "plot_hist(outcomes)\n",
        "plt.title('Sampling distribution of the mean')\n",
        "plt.xlabel('Mean adult male height, U.S.');"
      ],
      "execution_count": 132,
      "outputs": [
        {
          "output_type": "display_data",
          "data": {
            "image/png": "[encoded data removed]",
            "text/plain": [
              "<Figure size 432x288 with 1 Axes>"
            ]
          },
          "metadata": {
            "tags": []
          }
        }
      ]
    },
    {
      "cell_type": "markdown",
      "metadata": {
        "id": "wuBAIU8Rewq0",
        "colab_type": "text"
      },
      "source": [
        "The width of this distribution shows how much the results vary from one experiment to the next.\n",
        "\n",
        "We can quantify this variability by computing the standard deviation of the sampling distribution, which is called \"standard error\".\n"
      ]
    },
    {
      "cell_type": "code",
      "metadata": {
        "id": "cEvgK5uaewq1",
        "colab_type": "code",
        "outputId": "01ff4397-9d3c-47ed-87d4-559ee93a523e",
        "colab": {
          "base_uri": "https://localhost:8080/",
          "height": 34
        }
      },
      "source": [
        "std_err = np.std(outcomes)\n",
        "std_err"
      ],
      "execution_count": 133,
      "outputs": [
        {
          "output_type": "execute_result",
          "data": {
            "text/plain": [
              "0.039840331250963985"
            ]
          },
          "metadata": {
            "tags": []
          },
          "execution_count": 133
        }
      ]
    },
    {
      "cell_type": "markdown",
      "metadata": {
        "id": "L349rVkSewq4",
        "colab_type": "text"
      },
      "source": [
        "We can also summarize the sampling distribution with a \"confidence interval\", which is a range that contains a specified fraction, like 90%, of the values in `sampling_dist_mean`.\n",
        "\n",
        "The central 90% confidence interval is between the 5th and 95th percentiles of the sampling distribution."
      ]
    },
    {
      "cell_type": "code",
      "metadata": {
        "id": "tHmAc0xsewq5",
        "colab_type": "code",
        "outputId": "0799710d-3df6-416e-dd19-55a4972491da",
        "colab": {
          "base_uri": "https://localhost:8080/",
          "height": 34
        }
      },
      "source": [
        "ci_90 = np.percentile(outcomes, [5, 95])\n",
        "ci_90"
      ],
      "execution_count": 134,
      "outputs": [
        {
          "output_type": "execute_result",
          "data": {
            "text/plain": [
              "array([177.47578274, 177.60552993])"
            ]
          },
          "metadata": {
            "tags": []
          },
          "execution_count": 134
        }
      ]
    },
    {
      "cell_type": "markdown",
      "metadata": {
        "id": "q1_9HuMtewq8",
        "colab_type": "text"
      },
      "source": [
        "The following function plots a histogram and shades the 90% confidence interval."
      ]
    },
    {
      "cell_type": "code",
      "metadata": {
        "id": "zl1rcphnewq9",
        "colab_type": "code",
        "colab": {}
      },
      "source": [
        "def plot_sampling_dist(outcomes):\n",
        "    patch = plot_hist(outcomes)\n",
        "    low, high = np.percentile(outcomes, [5, 95])\n",
        "    fill_hist(low, high, patch)\n",
        "    print('Mean = ', np.mean(outcomes))\n",
        "    print('Std error = ', np.std(outcomes))\n",
        "    print('90% CI = ', (low, high))"
      ],
      "execution_count": 0,
      "outputs": []
    },
    {
      "cell_type": "markdown",
      "metadata": {
        "id": "49vroOV7ewq_",
        "colab_type": "text"
      },
      "source": [
        "Here's what it looks like for the sampling distribution of mean adult height:"
      ]
    },
    {
      "cell_type": "code",
      "metadata": {
        "id": "plnSdifgewrA",
        "colab_type": "code",
        "outputId": "ea0e09fe-4a03-465f-c61f-27ff37dcba8d",
        "colab": {
          "base_uri": "https://localhost:8080/",
          "height": 362
        }
      },
      "source": [
        "plot_sampling_dist(outcomes)\n",
        "plt.xlabel('Mean adult male height, U.S. (%)');"
      ],
      "execution_count": 136,
      "outputs": [
        {
          "output_type": "stream",
          "text": [
            "Mean =  177.5406653041678\n",
            "Std error =  0.039840331250963985\n",
            "90% CI =  (177.4757827428498, 177.60552992828698)\n"
          ],
          "name": "stdout"
        },
        {
          "output_type": "display_data",
          "data": {
            "image/png": "[encoded data removed]",
            "text/plain": [
              "<Figure size 432x288 with 1 Axes>"
            ]
          },
          "metadata": {
            "tags": []
          }
        }
      ]
    },
    {
      "cell_type": "markdown",
      "metadata": {
        "id": "5m68PbMUewrE",
        "colab_type": "text"
      },
      "source": [
        "For an experiment like this, we can compute the standard error analytically."
      ]
    },
    {
      "cell_type": "code",
      "metadata": {
        "id": "KEibE-ClewrF",
        "colab_type": "code",
        "colab": {}
      },
      "source": [
        "size = len(data)\n",
        "analytic_std_err = np.std(data) / np.sqrt(size)"
      ],
      "execution_count": 0,
      "outputs": []
    },
    {
      "cell_type": "markdown",
      "metadata": {
        "id": "uZ6EpFWlewrI",
        "colab_type": "text"
      },
      "source": [
        "The result is close to what we observed computationally."
      ]
    },
    {
      "cell_type": "code",
      "metadata": {
        "id": "z0QG4l28ewrI",
        "colab_type": "code",
        "outputId": "b855af51-7fd0-4db6-ab69-35023bc71070",
        "colab": {
          "base_uri": "https://localhost:8080/",
          "height": 34
        }
      },
      "source": [
        "analytic_std_err, std_err"
      ],
      "execution_count": 138,
      "outputs": [
        {
          "output_type": "execute_result",
          "data": {
            "text/plain": [
              "(0.037880945264186006, 0.039840331250963985)"
            ]
          },
          "metadata": {
            "tags": []
          },
          "execution_count": 138
        }
      ]
    },
    {
      "cell_type": "markdown",
      "metadata": {
        "id": "D1x8G9KTewrM",
        "colab_type": "text"
      },
      "source": [
        "This result indicates that our estimate of the mean is *precise*; that is, if we ran this experiment many times, the results would fall in a narrow range.\n",
        "\n",
        "But this range reflects only variability due to random sampling.  If there are systematic errors in the sampling process, or in the measurement process, the result would not be *accurate*.\n",
        "\n",
        "Computing a standard error or confidence interval can be useful, but it only quantifies variability due to random sampling, not other sources of error."
      ]
    },
    {
      "cell_type": "markdown",
      "metadata": {
        "id": "139KkIxxewrN",
        "colab_type": "text"
      },
      "source": [
        "**Exercise:** One nice thing about using resampling is that it is easy to compute the sampling distribution for other statistics.\n",
        "\n",
        "For example, suppose we want to estimate the coefficient of variation (standard deviation as a fraction of the mean) for adult male height.  Here's how we can compute it."
      ]
    },
    {
      "cell_type": "code",
      "metadata": {
        "id": "qLzdqS4tewrP",
        "colab_type": "code",
        "outputId": "52035c70-fbef-46d7-b0b0-fe46708aaaff",
        "colab": {
          "base_uri": "https://localhost:8080/",
          "height": 34
        }
      },
      "source": [
        "cv = np.nanstd(data) / np.nanmean(data)\n",
        "cv"
      ],
      "execution_count": 139,
      "outputs": [
        {
          "output_type": "execute_result",
          "data": {
            "text/plain": [
              "0.04703253074596872"
            ]
          },
          "metadata": {
            "tags": []
          },
          "execution_count": 139
        }
      ]
    },
    {
      "cell_type": "markdown",
      "metadata": {
        "id": "YMktoicYewrT",
        "colab_type": "text"
      },
      "source": [
        "So the standard deviation is about 5% of the mean. \n",
        "\n",
        "Write a loop that uses resampling to estimate the sampling distribution of `cv`; store the results in an array named `outcomes`.\n",
        "\n",
        "Then use `plot_sampling_dist` to plot the sampling distribution of the coefficient of variation.\n",
        "\n",
        "What is the standard error of the estimated coefficient of variation?"
      ]
    },
    {
      "cell_type": "code",
      "metadata": {
        "id": "q-ML4Pa8ewrV",
        "colab_type": "code",
        "colab": {
          "base_uri": "https://localhost:8080/",
          "height": 347
        },
        "outputId": "ffd30266-5a30-46f4-fed6-ef895392935e"
      },
      "source": [
        "# Solution goes here\n",
        "for i in range(len(outcomes)):\n",
        "    sim_data = np.random.choice(data, size, replace=True)\n",
        "    outcomes[i] = np.nanmean(sim_data)\n",
        "plot_sampling_dist(outcomes)"
      ],
      "execution_count": 140,
      "outputs": [
        {
          "output_type": "stream",
          "text": [
            "Mean =  177.53614206708693\n",
            "Std error =  0.038840973253550896\n",
            "90% CI =  (177.47333968249993, 177.6029040869451)\n"
          ],
          "name": "stdout"
        },
        {
          "output_type": "display_data",
          "data": {
            "image/png": "[encoded data removed]",
            "text/plain": [
              "<Figure size 432x288 with 1 Axes>"
            ]
          },
          "metadata": {
            "tags": []
          }
        }
      ]
    },
    {
      "cell_type": "code",
      "metadata": {
        "scrolled": true,
        "id": "PkgGBC_hewrZ",
        "colab_type": "code",
        "colab": {
          "base_uri": "https://localhost:8080/",
          "height": 34
        },
        "outputId": "a90ad39a-3ea5-4f2a-fe88-4bc9378d259d"
      },
      "source": [
        "# Solution goes here\n",
        "cv = np.nanstd(sim_data) / np.nanmean(sim_data)\n",
        "cv"
      ],
      "execution_count": 141,
      "outputs": [
        {
          "output_type": "execute_result",
          "data": {
            "text/plain": [
              "0.0472636984033127"
            ]
          },
          "metadata": {
            "tags": []
          },
          "execution_count": 141
        }
      ]
    },
    {
      "cell_type": "markdown",
      "metadata": {
        "id": "rdJlbvrBewrf",
        "colab_type": "text"
      },
      "source": [
        "## Summary\n",
        "\n",
        "This notebook presents computational methods for computing p-values, standard errors, and confidence intervals.  The two processes are similar, but they answer different questions.\n",
        "\n",
        "The following diagram outlines the hypothesis testing process:\n",
        "\n",
        "<img src=\"https://github.com/AllenDowney/ElementsOfDataScience/raw/master/figs/hypothesis_testing.png\" width=\"400\">\n"
      ]
    },
    {
      "cell_type": "markdown",
      "metadata": {
        "id": "uHHgDHIdewrg",
        "colab_type": "text"
      },
      "source": [
        "Again, the key steps are\n",
        "\n",
        "1. Choose a test statistic that quantifies the observed effect.\n",
        "\n",
        "2. Define a model of the null hypothesis and use it to generate simulated data.\n",
        "\n",
        "3. Compute the distribution of the test statistic under the null hypothesis.\n",
        "\n",
        "4. Compute a p-value, which is probability, under the null hypothesis, of seeing an effect as extreme as what you saw."
      ]
    },
    {
      "cell_type": "markdown",
      "metadata": {
        "id": "H6KGIikUewrh",
        "colab_type": "text"
      },
      "source": [
        "The following figure shows the similar process for computing standard errors and confidence intervals.\n",
        "\n",
        "<img src=\"https://github.com/AllenDowney/ElementsOfDataScience/raw/master/figs/resampling.png\" width=\"400\">\n"
      ]
    },
    {
      "cell_type": "markdown",
      "metadata": {
        "id": "Xcs229Gjewrk",
        "colab_type": "text"
      },
      "source": [
        "The essential steps are:\n",
        "\n",
        "1. Choose a sample statistic that quantifies the thing you want to estimate.\n",
        "\n",
        "2. Use the data to make a model of the population, assuming that the estimate is accurate.\n",
        "\n",
        "3. Use the model to simulate the sampling process and generate simulated data.\n",
        "\n",
        "4. Compute the sampling distribution of the estimate.\n",
        "\n",
        "5. Use the sampling distribution to compute the standard error, confidence interval, or both.\n",
        "\n",
        "Finally, remember that both processes only account for variability due to random sampling.  They don't tell us anything about systematic errors in the sampling process, measurement error, or other sources of error."
      ]
    },
    {
      "cell_type": "code",
      "metadata": {
        "id": "bGaMYc6Qewrl",
        "colab_type": "code",
        "colab": {}
      },
      "source": [
        ""
      ],
      "execution_count": 0,
      "outputs": []
    }
  ]
}