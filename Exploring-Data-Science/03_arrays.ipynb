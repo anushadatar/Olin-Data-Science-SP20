{
  "nbformat": 4,
  "nbformat_minor": 0,
  "metadata": {
    "kernelspec": {
      "display_name": "Python 3",
      "language": "python",
      "name": "python3"
    },
    "language_info": {
      "codemirror_mode": {
        "name": "ipython",
        "version": 3
      },
      "file_extension": ".py",
      "mimetype": "text/x-python",
      "name": "python",
      "nbconvert_exporter": "python",
      "pygments_lexer": "ipython3",
      "version": "3.7.4"
    },
    "colab": {
      "name": "03_arrays.ipynb",
      "provenance": [],
      "collapsed_sections": [],
      "include_colab_link": true
    }
  },
  "cells": [
    {
      "cell_type": "markdown",
      "metadata": {
        "id": "view-in-github",
        "colab_type": "text"
      },
      "source": [
        "<a href=\"https://colab.research.google.com/github/anushadatar/Olin-Data-Science-SP20/blob/master/03_arrays.ipynb\" target=\"_parent\"><img src=\"https://colab.research.google.com/assets/colab-badge.svg\" alt=\"Open In Colab\"/></a>"
      ]
    },
    {
      "cell_type": "markdown",
      "metadata": {
        "id": "OZ6SuliV9HJZ",
        "colab_type": "text"
      },
      "source": [
        "# Lists and arrays\n",
        "\n",
        "Elements of Data Science\n",
        "\n",
        "by [Allen Downey](https://allendowney.com)\n",
        "\n",
        "[MIT License](https://opensource.org/licenses/MIT)\n",
        "\n",
        "### Goals\n",
        "\n",
        "In the previous notebook we used tuples to represent latitude and longitude.  In this notebook, you'll see how to use tuples more generally to represent a sequence of values.  And we'll see two more ways to represent sequences: lists and arrays.\n",
        "\n",
        "You might wonder why we need three ways to represent the same thing.  Most of the time you don't, but each of them has different capabilities.  For work with data, we will use arrays most of the time.\n",
        "\n",
        "As an example, we will use a small dataset from an article in *The Economist* about the price of sandwiches.  It's a silly example, but we'll use it to discuss the idea of absolute and relative differences, and different ways to summarize a dataset."
      ]
    },
    {
      "cell_type": "markdown",
      "metadata": {
        "id": "H0UFIjHi9HJb",
        "colab_type": "text"
      },
      "source": [
        "## Tuples\n",
        "\n",
        "A tuple is a sequence of elements.  When we use a tuple to represent latitude and longitude, the sequence only contains two elements, and they are both floating-point numbers.\n",
        "\n",
        "But in general a tuple can contain any number of elements, and the elements can be values of any type.\n",
        "\n",
        "The following is a tuple of three integers:"
      ]
    },
    {
      "cell_type": "code",
      "metadata": {
        "id": "HwkOl-c89HJd",
        "colab_type": "code",
        "outputId": "cc0a35bd-99b5-4064-a190-4017e873e99c",
        "colab": {
          "base_uri": "https://localhost:8080/",
          "height": 33
        }
      },
      "source": [
        "1, 2, 3"
      ],
      "execution_count": 0,
      "outputs": [
        {
          "output_type": "execute_result",
          "data": {
            "text/plain": [
              "(1, 2, 3)"
            ]
          },
          "metadata": {
            "tags": []
          },
          "execution_count": 3
        }
      ]
    },
    {
      "cell_type": "markdown",
      "metadata": {
        "id": "mUenembK9HJk",
        "colab_type": "text"
      },
      "source": [
        "Notice that when Python displays a tuple, it puts the elements in parentheses.\n",
        "\n",
        "When you type a tuple, you can put it in parentheses if you think it is easier to read that way, but you don't have to."
      ]
    },
    {
      "cell_type": "code",
      "metadata": {
        "id": "Z0YYOReu9HJm",
        "colab_type": "code",
        "outputId": "befefcb4-4073-454c-a5d5-2e8a0f2af280",
        "colab": {
          "base_uri": "https://localhost:8080/",
          "height": 34
        }
      },
      "source": [
        "(1, 2, 3)"
      ],
      "execution_count": 3,
      "outputs": [
        {
          "output_type": "execute_result",
          "data": {
            "text/plain": [
              "(1, 2, 3)"
            ]
          },
          "metadata": {
            "tags": []
          },
          "execution_count": 3
        }
      ]
    },
    {
      "cell_type": "markdown",
      "metadata": {
        "id": "gZXXTdi19HJr",
        "colab_type": "text"
      },
      "source": [
        "The elements can be any type.  Here's a tuple of strings:"
      ]
    },
    {
      "cell_type": "code",
      "metadata": {
        "id": "3q35nuiB9HJs",
        "colab_type": "code",
        "outputId": "27728ccc-a489-4dd4-b40b-6cc5952df5b5",
        "colab": {
          "base_uri": "https://localhost:8080/",
          "height": 34
        }
      },
      "source": [
        "'Data', 'Science'"
      ],
      "execution_count": 4,
      "outputs": [
        {
          "output_type": "execute_result",
          "data": {
            "text/plain": [
              "('Data', 'Science')"
            ]
          },
          "metadata": {
            "tags": []
          },
          "execution_count": 4
        }
      ]
    },
    {
      "cell_type": "markdown",
      "metadata": {
        "id": "h-bfbh1y9HJx",
        "colab_type": "text"
      },
      "source": [
        "The elements don't have to be the same type.  Here's a tuple with a string, an integer, and a floating-point number."
      ]
    },
    {
      "cell_type": "code",
      "metadata": {
        "id": "hloLrZ1E9HJy",
        "colab_type": "code",
        "outputId": "5502b17a-4819-4e16-a1d9-9ecd9ccc00a6",
        "colab": {
          "base_uri": "https://localhost:8080/",
          "height": 34
        }
      },
      "source": [
        "'one', 2, 3.14159 "
      ],
      "execution_count": 5,
      "outputs": [
        {
          "output_type": "execute_result",
          "data": {
            "text/plain": [
              "('one', 2, 3.14159)"
            ]
          },
          "metadata": {
            "tags": []
          },
          "execution_count": 5
        }
      ]
    },
    {
      "cell_type": "markdown",
      "metadata": {
        "id": "8F8flbM89HJ3",
        "colab_type": "text"
      },
      "source": [
        "If you have a string, you can convert it to a tuple using the `tuple` function:"
      ]
    },
    {
      "cell_type": "code",
      "metadata": {
        "id": "xwY-jL_u9HJ6",
        "colab_type": "code",
        "outputId": "f8e11f33-7b5f-4d9d-8640-6bb9f5e7d25f",
        "colab": {
          "base_uri": "https://localhost:8080/",
          "height": 34
        }
      },
      "source": [
        "tuple('DataScience')"
      ],
      "execution_count": 6,
      "outputs": [
        {
          "output_type": "execute_result",
          "data": {
            "text/plain": [
              "('D', 'a', 't', 'a', 'S', 'c', 'i', 'e', 'n', 'c', 'e')"
            ]
          },
          "metadata": {
            "tags": []
          },
          "execution_count": 6
        }
      ]
    },
    {
      "cell_type": "markdown",
      "metadata": {
        "id": "lccJuS4H9HKB",
        "colab_type": "text"
      },
      "source": [
        "The result is a tuple of single-character strings."
      ]
    },
    {
      "cell_type": "markdown",
      "metadata": {
        "id": "gz9-En9o9HKD",
        "colab_type": "text"
      },
      "source": [
        "When you create a tuple, the parentheses are optional, but the commas are required.  So how do you think you create a tuple with a single element?  You might be tempted to write:"
      ]
    },
    {
      "cell_type": "code",
      "metadata": {
        "id": "_YgnhlqA9HKF",
        "colab_type": "code",
        "outputId": "e9d38a41-4bb7-47ba-afae-43cb22f169a0",
        "colab": {
          "base_uri": "https://localhost:8080/",
          "height": 34
        }
      },
      "source": [
        "x = (5)\n",
        "x"
      ],
      "execution_count": 7,
      "outputs": [
        {
          "output_type": "execute_result",
          "data": {
            "text/plain": [
              "5"
            ]
          },
          "metadata": {
            "tags": []
          },
          "execution_count": 7
        }
      ]
    },
    {
      "cell_type": "markdown",
      "metadata": {
        "id": "6t97XOgU9HKI",
        "colab_type": "text"
      },
      "source": [
        "But you will find that the result is just a number, not a tuple."
      ]
    },
    {
      "cell_type": "code",
      "metadata": {
        "id": "cILujaD19HKJ",
        "colab_type": "code",
        "outputId": "44578818-4744-4a02-f430-65d517c89862",
        "colab": {
          "base_uri": "https://localhost:8080/",
          "height": 34
        }
      },
      "source": [
        "type(x)"
      ],
      "execution_count": 8,
      "outputs": [
        {
          "output_type": "execute_result",
          "data": {
            "text/plain": [
              "int"
            ]
          },
          "metadata": {
            "tags": []
          },
          "execution_count": 8
        }
      ]
    },
    {
      "cell_type": "markdown",
      "metadata": {
        "id": "J8CBb3_P9HKN",
        "colab_type": "text"
      },
      "source": [
        "To make a tuple with a single element, you need a comma:"
      ]
    },
    {
      "cell_type": "code",
      "metadata": {
        "id": "5pcpeG9y9HKO",
        "colab_type": "code",
        "outputId": "333714f5-145d-4532-a57b-601c836d856c",
        "colab": {
          "base_uri": "https://localhost:8080/",
          "height": 34
        }
      },
      "source": [
        "t = 5,\n",
        "t"
      ],
      "execution_count": 9,
      "outputs": [
        {
          "output_type": "execute_result",
          "data": {
            "text/plain": [
              "(5,)"
            ]
          },
          "metadata": {
            "tags": []
          },
          "execution_count": 9
        }
      ]
    },
    {
      "cell_type": "code",
      "metadata": {
        "id": "gXD-RcIq9HKT",
        "colab_type": "code",
        "outputId": "2cfc1c9a-6d24-424a-c14f-fa5e80f0e3bb",
        "colab": {
          "base_uri": "https://localhost:8080/",
          "height": 34
        }
      },
      "source": [
        "type(t)"
      ],
      "execution_count": 10,
      "outputs": [
        {
          "output_type": "execute_result",
          "data": {
            "text/plain": [
              "tuple"
            ]
          },
          "metadata": {
            "tags": []
          },
          "execution_count": 10
        }
      ]
    },
    {
      "cell_type": "markdown",
      "metadata": {
        "id": "wZykPrQp9HKW",
        "colab_type": "text"
      },
      "source": [
        "## Lists\n",
        "\n",
        "Python provides another way to store a sequence of elements: a list.\n",
        "\n",
        "To create a list, you put a sequence of elements in square brackets."
      ]
    },
    {
      "cell_type": "code",
      "metadata": {
        "id": "kO2ySRRz9HKX",
        "colab_type": "code",
        "outputId": "64826229-c53e-4ed3-b68e-79551551be4b",
        "colab": {
          "base_uri": "https://localhost:8080/",
          "height": 34
        }
      },
      "source": [
        "[1, 2, 3]"
      ],
      "execution_count": 11,
      "outputs": [
        {
          "output_type": "execute_result",
          "data": {
            "text/plain": [
              "[1, 2, 3]"
            ]
          },
          "metadata": {
            "tags": []
          },
          "execution_count": 11
        }
      ]
    },
    {
      "cell_type": "markdown",
      "metadata": {
        "id": "ZelLa2Pe9HKa",
        "colab_type": "text"
      },
      "source": [
        "Lists and tuples are very similar.  They can contain any number of elements, the elements can be any type, and the elements don't have to be the same type.\n",
        "\n",
        "The only difference is that you can modify a list; tuples are immutable (cannot be modified).  This difference will matter later, but for now we can ignore it.\n",
        "\n",
        "When you make a list, the brackets are required, but if there is a single element, you don't need a comma.  So you can make a list like this:"
      ]
    },
    {
      "cell_type": "code",
      "metadata": {
        "id": "y9L4b2C-9HKb",
        "colab_type": "code",
        "colab": {}
      },
      "source": [
        "single = [5]"
      ],
      "execution_count": 0,
      "outputs": []
    },
    {
      "cell_type": "code",
      "metadata": {
        "id": "bYsHus3Z9HKf",
        "colab_type": "code",
        "outputId": "e5b4326b-792d-4d13-863f-c6857b587f50",
        "colab": {
          "base_uri": "https://localhost:8080/",
          "height": 34
        }
      },
      "source": [
        "type(single)"
      ],
      "execution_count": 13,
      "outputs": [
        {
          "output_type": "execute_result",
          "data": {
            "text/plain": [
              "list"
            ]
          },
          "metadata": {
            "tags": []
          },
          "execution_count": 13
        }
      ]
    },
    {
      "cell_type": "markdown",
      "metadata": {
        "id": "vjPVQ4PG9HKm",
        "colab_type": "text"
      },
      "source": [
        "It is also possible to make a list with no elements, like this:"
      ]
    },
    {
      "cell_type": "code",
      "metadata": {
        "id": "C0hNrR7w9HKn",
        "colab_type": "code",
        "colab": {}
      },
      "source": [
        "empty = []"
      ],
      "execution_count": 0,
      "outputs": []
    },
    {
      "cell_type": "code",
      "metadata": {
        "id": "ilN6jPOz9HKr",
        "colab_type": "code",
        "outputId": "37c2497c-cfeb-4825-d306-632661ae5935",
        "colab": {
          "base_uri": "https://localhost:8080/",
          "height": 34
        }
      },
      "source": [
        "type(empty)"
      ],
      "execution_count": 15,
      "outputs": [
        {
          "output_type": "execute_result",
          "data": {
            "text/plain": [
              "list"
            ]
          },
          "metadata": {
            "tags": []
          },
          "execution_count": 15
        }
      ]
    },
    {
      "cell_type": "markdown",
      "metadata": {
        "id": "Wj9X9GeK9HKv",
        "colab_type": "text"
      },
      "source": [
        "The `len` function computes the length (number of elements) in a list or tuple."
      ]
    },
    {
      "cell_type": "code",
      "metadata": {
        "id": "ZMs8lmDS9HKx",
        "colab_type": "code",
        "outputId": "16a302bc-e5d0-4067-b6ce-e8310046925c",
        "colab": {
          "base_uri": "https://localhost:8080/",
          "height": 34
        }
      },
      "source": [
        "len([1, 2, 3])"
      ],
      "execution_count": 16,
      "outputs": [
        {
          "output_type": "execute_result",
          "data": {
            "text/plain": [
              "3"
            ]
          },
          "metadata": {
            "tags": []
          },
          "execution_count": 16
        }
      ]
    },
    {
      "cell_type": "code",
      "metadata": {
        "id": "m3OAAjob9HK1",
        "colab_type": "code",
        "outputId": "06d254a4-f346-412e-acbe-726430e19e26",
        "colab": {
          "base_uri": "https://localhost:8080/",
          "height": 34
        }
      },
      "source": [
        "len(single)"
      ],
      "execution_count": 17,
      "outputs": [
        {
          "output_type": "execute_result",
          "data": {
            "text/plain": [
              "1"
            ]
          },
          "metadata": {
            "tags": []
          },
          "execution_count": 17
        }
      ]
    },
    {
      "cell_type": "code",
      "metadata": {
        "id": "8QmoMU-C9HK6",
        "colab_type": "code",
        "outputId": "6304c17e-f15f-49d4-9f5a-8874c23d8e19",
        "colab": {
          "base_uri": "https://localhost:8080/",
          "height": 34
        }
      },
      "source": [
        "len(empty)"
      ],
      "execution_count": 18,
      "outputs": [
        {
          "output_type": "execute_result",
          "data": {
            "text/plain": [
              "0"
            ]
          },
          "metadata": {
            "tags": []
          },
          "execution_count": 18
        }
      ]
    },
    {
      "cell_type": "markdown",
      "metadata": {
        "id": "eBwzzHVp9HK8",
        "colab_type": "text"
      },
      "source": [
        "**Exercise:** Create a list with 4 elements; then use `type` to confirm that it's a list, and `len` to confirm that it has 4 elements."
      ]
    },
    {
      "cell_type": "code",
      "metadata": {
        "id": "6XSpVNvu9HK9",
        "colab_type": "code",
        "colab": {}
      },
      "source": [
        "# Solution goes here\n",
        "a = ['a', 'b', 'c', 'd']"
      ],
      "execution_count": 0,
      "outputs": []
    },
    {
      "cell_type": "code",
      "metadata": {
        "id": "-Td5ZEvE9HLB",
        "colab_type": "code",
        "outputId": "9a8d3a1e-7a92-42fd-a2e2-a564a1478859",
        "colab": {
          "base_uri": "https://localhost:8080/",
          "height": 34
        }
      },
      "source": [
        "# Solution goes here\n",
        "type(a)"
      ],
      "execution_count": 20,
      "outputs": [
        {
          "output_type": "execute_result",
          "data": {
            "text/plain": [
              "list"
            ]
          },
          "metadata": {
            "tags": []
          },
          "execution_count": 20
        }
      ]
    },
    {
      "cell_type": "code",
      "metadata": {
        "id": "1QoW19mW9HLD",
        "colab_type": "code",
        "outputId": "6f493066-8e26-4f6c-d127-d8c6eef68d3f",
        "colab": {
          "base_uri": "https://localhost:8080/",
          "height": 34
        }
      },
      "source": [
        "# Solution goes here\n",
        "len(a)"
      ],
      "execution_count": 21,
      "outputs": [
        {
          "output_type": "execute_result",
          "data": {
            "text/plain": [
              "4"
            ]
          },
          "metadata": {
            "tags": []
          },
          "execution_count": 21
        }
      ]
    },
    {
      "cell_type": "markdown",
      "metadata": {
        "id": "Ztq91ANC9HLG",
        "colab_type": "text"
      },
      "source": [
        "There's a lot more we could do with lists, but that's enough to get started.  In the next section, we'll use lists to store data about sandwich prices."
      ]
    },
    {
      "cell_type": "markdown",
      "metadata": {
        "id": "-oLGsttS9HLH",
        "colab_type": "text"
      },
      "source": [
        "## Sandwiches\n",
        "\n",
        "In September 2019, *The Economist* published an article comparing sandwich prices in Boston and London: \"[Why Americans pay more for lunch than Britons do](https://www.economist.com/finance-and-economics/2019/09/07/why-americans-pay-more-for-lunch-than-britons-do)\"\n",
        "\n",
        "It includes this graph showing prices of several sandwiches in the two cities:\n",
        "\n",
        "<img src=\"https://github.com/AllenDowney/ElementsOfDataScience/raw/master/figs/20190907_FNC941.png\" width=\"400\"/>"
      ]
    },
    {
      "cell_type": "markdown",
      "metadata": {
        "id": "4gvz0vnB9HLI",
        "colab_type": "text"
      },
      "source": [
        "Here are the sandwich names from the graph, as a list of strings."
      ]
    },
    {
      "cell_type": "code",
      "metadata": {
        "id": "x97jTGXI9HLJ",
        "colab_type": "code",
        "colab": {}
      },
      "source": [
        "name_list = ['Lobster roll',\n",
        "    'Chicken caesar',\n",
        "    'Bang bang chicken',\n",
        "    'Ham and cheese',\n",
        "    'Tuna and cucumber',\n",
        "    'Egg'\n",
        "]"
      ],
      "execution_count": 0,
      "outputs": []
    },
    {
      "cell_type": "markdown",
      "metadata": {
        "id": "TBO-EG_l9HLM",
        "colab_type": "text"
      },
      "source": [
        "I contacted *The Economist* to ask for the data they used to create that graph, and they were kind enough to share it with me.\n",
        "\n",
        "Here are the corresponding sandwich prices in Boston:"
      ]
    },
    {
      "cell_type": "code",
      "metadata": {
        "id": "jdIqdTUb9HLN",
        "colab_type": "code",
        "colab": {}
      },
      "source": [
        "boston_price_list = [9.99, 7.99, 7.49, 7, 6.29, 4.99]"
      ],
      "execution_count": 0,
      "outputs": []
    },
    {
      "cell_type": "markdown",
      "metadata": {
        "id": "75x_5g2M9HLQ",
        "colab_type": "text"
      },
      "source": [
        "So the lobster roll is \\$9.99 in Boston.\n",
        "\n",
        "The egg sandwich is \\$4.99.\n",
        "\n",
        "Here are the prices in London, converted to dollars at \\$1.25 / £1."
      ]
    },
    {
      "cell_type": "code",
      "metadata": {
        "id": "09OMeg1v9HLR",
        "colab_type": "code",
        "colab": {}
      },
      "source": [
        "london_price_list = [7.5, 5, 4.4, 5, 3.75, 2.25]"
      ],
      "execution_count": 0,
      "outputs": []
    },
    {
      "cell_type": "markdown",
      "metadata": {
        "id": "iso9ar9R9HLW",
        "colab_type": "text"
      },
      "source": [
        "Lists provide some arithmetic operators, but they might not do what you want.  For example, you can \"add\" two lists:"
      ]
    },
    {
      "cell_type": "code",
      "metadata": {
        "id": "8OkPAUF89HLX",
        "colab_type": "code",
        "outputId": "f8b51706-2530-4abe-a9b8-fd9358a65df1",
        "colab": {
          "base_uri": "https://localhost:8080/",
          "height": 34
        }
      },
      "source": [
        "boston_price_list + london_price_list"
      ],
      "execution_count": 25,
      "outputs": [
        {
          "output_type": "execute_result",
          "data": {
            "text/plain": [
              "[9.99, 7.99, 7.49, 7, 6.29, 4.99, 7.5, 5, 4.4, 5, 3.75, 2.25]"
            ]
          },
          "metadata": {
            "tags": []
          },
          "execution_count": 25
        }
      ]
    },
    {
      "cell_type": "markdown",
      "metadata": {
        "id": "-SBdHs4C9HLa",
        "colab_type": "text"
      },
      "source": [
        "But it concatenates the two lists, which is not very useful in this example.\n",
        "\n",
        "To compute differences between prices, you might try subtracting lists, but you would get an error."
      ]
    },
    {
      "cell_type": "code",
      "metadata": {
        "id": "m3FV0ogo9HLb",
        "colab_type": "code",
        "outputId": "e04da22e-def8-4530-f47d-3aafee8dfd46",
        "colab": {
          "base_uri": "https://localhost:8080/",
          "height": 167
        }
      },
      "source": [
        "boston_price_list - london_price_list"
      ],
      "execution_count": 26,
      "outputs": [
        {
          "output_type": "error",
          "ename": "TypeError",
          "evalue": "ignored",
          "traceback": [
            "\u001b[0;31m---------------------------------------------------------------------------\u001b[0m",
            "\u001b[0;31mTypeError\u001b[0m                                 Traceback (most recent call last)",
            "\u001b[0;32m<ipython-input-26-1ff9739e4f5a>\u001b[0m in \u001b[0;36m<module>\u001b[0;34m()\u001b[0m\n\u001b[0;32m----> 1\u001b[0;31m \u001b[0mboston_price_list\u001b[0m \u001b[0;34m-\u001b[0m \u001b[0mlondon_price_list\u001b[0m\u001b[0;34m\u001b[0m\u001b[0;34m\u001b[0m\u001b[0m\n\u001b[0m",
            "\u001b[0;31mTypeError\u001b[0m: unsupported operand type(s) for -: 'list' and 'list'"
          ]
        }
      ]
    },
    {
      "cell_type": "markdown",
      "metadata": {
        "id": "U7YIcATW9HLe",
        "colab_type": "text"
      },
      "source": [
        "We can solve this problem with a NumPy array."
      ]
    },
    {
      "cell_type": "markdown",
      "metadata": {
        "id": "PjL2VX5D9HLf",
        "colab_type": "text"
      },
      "source": [
        "## NumPy arrays\n",
        "\n",
        "We've already seen that the NumPy library provides math functions.  It also provides a type of sequence called an array.\n",
        "\n",
        "You can create a new array with the `np.array` function, starting with a list or tuple."
      ]
    },
    {
      "cell_type": "code",
      "metadata": {
        "id": "IpRZK8nV9HLg",
        "colab_type": "code",
        "colab": {}
      },
      "source": [
        "import numpy as np\n",
        "\n",
        "boston_price_array = np.array(boston_price_list)\n",
        "london_price_array = np.array(london_price_list)"
      ],
      "execution_count": 0,
      "outputs": []
    },
    {
      "cell_type": "markdown",
      "metadata": {
        "id": "3FF5rwNO9HLj",
        "colab_type": "text"
      },
      "source": [
        "The type of the result is `numpy.ndarray`."
      ]
    },
    {
      "cell_type": "code",
      "metadata": {
        "id": "mVWaFixG9HLk",
        "colab_type": "code",
        "outputId": "629632f2-47d2-423a-e924-4164d8de2aed",
        "colab": {
          "base_uri": "https://localhost:8080/",
          "height": 34
        }
      },
      "source": [
        "type(boston_price_array)"
      ],
      "execution_count": 28,
      "outputs": [
        {
          "output_type": "execute_result",
          "data": {
            "text/plain": [
              "numpy.ndarray"
            ]
          },
          "metadata": {
            "tags": []
          },
          "execution_count": 28
        }
      ]
    },
    {
      "cell_type": "markdown",
      "metadata": {
        "id": "qdojv36w9HLo",
        "colab_type": "text"
      },
      "source": [
        "The \"nd\" stands for \"n-dimensional\"; NumPy arrays can have any number of dimensions.  But for now we will work with one-dimensional sequences.\n",
        "\n",
        "If you display an array, Python displays the elements:"
      ]
    },
    {
      "cell_type": "code",
      "metadata": {
        "id": "gHGhvkBc9HLo",
        "colab_type": "code",
        "outputId": "503eee7c-6088-494a-fbf4-cd2236980c81",
        "colab": {
          "base_uri": "https://localhost:8080/",
          "height": 34
        }
      },
      "source": [
        "boston_price_array"
      ],
      "execution_count": 29,
      "outputs": [
        {
          "output_type": "execute_result",
          "data": {
            "text/plain": [
              "array([9.99, 7.99, 7.49, 7.  , 6.29, 4.99])"
            ]
          },
          "metadata": {
            "tags": []
          },
          "execution_count": 29
        }
      ]
    },
    {
      "cell_type": "markdown",
      "metadata": {
        "id": "QEO7CFo39HLs",
        "colab_type": "text"
      },
      "source": [
        "You can also display the \"data type\" of the array, which is the type of the elements:"
      ]
    },
    {
      "cell_type": "code",
      "metadata": {
        "id": "_bU7rC4i9HLv",
        "colab_type": "code",
        "outputId": "5d79fcaf-1f02-4802-ce68-dd38d80042a7",
        "colab": {
          "base_uri": "https://localhost:8080/",
          "height": 34
        }
      },
      "source": [
        "boston_price_array.dtype"
      ],
      "execution_count": 30,
      "outputs": [
        {
          "output_type": "execute_result",
          "data": {
            "text/plain": [
              "dtype('float64')"
            ]
          },
          "metadata": {
            "tags": []
          },
          "execution_count": 30
        }
      ]
    },
    {
      "cell_type": "markdown",
      "metadata": {
        "id": "J7HGvSW59HLz",
        "colab_type": "text"
      },
      "source": [
        "`float64` means that the elements are floating-point numbers that take up 64 bits each.  You don't need to know about the storage format of these numbers, but if you are curious, [you can read about it here](https://en.wikipedia.org/wiki/Floating-point_arithmetic#Internal_representation).\n",
        "\n",
        "The elements of a NumPy array can be any type, but they all have to be the same type.\n",
        "\n",
        "Most often the elements are numbers, but you can also make an array of strings."
      ]
    },
    {
      "cell_type": "code",
      "metadata": {
        "id": "G6uGe_gU9HL1",
        "colab_type": "code",
        "outputId": "6484b77f-98f3-49c6-e4ca-886cdf8998e4",
        "colab": {
          "base_uri": "https://localhost:8080/",
          "height": 52
        }
      },
      "source": [
        "name_array = np.array(name_list)\n",
        "name_array"
      ],
      "execution_count": 31,
      "outputs": [
        {
          "output_type": "execute_result",
          "data": {
            "text/plain": [
              "array(['Lobster roll', 'Chicken caesar', 'Bang bang chicken',\n",
              "       'Ham and cheese', 'Tuna and cucumber', 'Egg'], dtype='<U17')"
            ]
          },
          "metadata": {
            "tags": []
          },
          "execution_count": 31
        }
      ]
    },
    {
      "cell_type": "markdown",
      "metadata": {
        "id": "UvScTbtY9HL5",
        "colab_type": "text"
      },
      "source": [
        "In this example, the `dtype` is `<U17`.  You don't have to understand this code, but if you are curious, the `U` indicates that the elements are Unicode strings; Unicode is the standard Python uses to represent strings.\n",
        "\n",
        "Now, here's why NumPy arrays are useful: they can do arithmetic.  For example, to compute the differences between Boston and London prices, we can write: "
      ]
    },
    {
      "cell_type": "code",
      "metadata": {
        "id": "gqX93Kx79HL6",
        "colab_type": "code",
        "outputId": "057abb1e-62ce-4866-c875-b9b41383e3fc",
        "colab": {
          "base_uri": "https://localhost:8080/",
          "height": 34
        }
      },
      "source": [
        "differences = boston_price_array - london_price_array\n",
        "differences"
      ],
      "execution_count": 32,
      "outputs": [
        {
          "output_type": "execute_result",
          "data": {
            "text/plain": [
              "array([2.49, 2.99, 3.09, 2.  , 2.54, 2.74])"
            ]
          },
          "metadata": {
            "tags": []
          },
          "execution_count": 32
        }
      ]
    },
    {
      "cell_type": "markdown",
      "metadata": {
        "id": "b90S6xIg9HL-",
        "colab_type": "text"
      },
      "source": [
        "Subtraction is done \"elementwise\"; that is, NumPy lines up the two arrays and subtracts corresponding elements.  The result is a new array."
      ]
    },
    {
      "cell_type": "markdown",
      "metadata": {
        "id": "UHmyVPhz9HL_",
        "colab_type": "text"
      },
      "source": [
        "## Mean and standard deviation\n",
        "\n",
        "NumPy provides functions that compute statistical summaries like the mean: "
      ]
    },
    {
      "cell_type": "code",
      "metadata": {
        "id": "fySXICpM9HMD",
        "colab_type": "code",
        "outputId": "650a0242-c548-423a-e7ad-759d6ca07a2a",
        "colab": {
          "base_uri": "https://localhost:8080/",
          "height": 34
        }
      },
      "source": [
        "np.mean(differences)"
      ],
      "execution_count": 33,
      "outputs": [
        {
          "output_type": "execute_result",
          "data": {
            "text/plain": [
              "2.6416666666666666"
            ]
          },
          "metadata": {
            "tags": []
          },
          "execution_count": 33
        }
      ]
    },
    {
      "cell_type": "markdown",
      "metadata": {
        "id": "eWfZUITA9HMJ",
        "colab_type": "text"
      },
      "source": [
        "So we could describe the difference in prices like this: \"Sandwiches in Boston are more expensive by \\$2.64, on average\".\n",
        "\n",
        "We could also compute the means first, and then compute their difference:"
      ]
    },
    {
      "cell_type": "code",
      "metadata": {
        "id": "NvlyRJ4j9HMK",
        "colab_type": "code",
        "outputId": "1cb46ba7-623d-4e14-b141-d47618276b3a",
        "colab": {
          "base_uri": "https://localhost:8080/",
          "height": 34
        }
      },
      "source": [
        "np.mean(boston_price_array) - np.mean(london_price_array)"
      ],
      "execution_count": 34,
      "outputs": [
        {
          "output_type": "execute_result",
          "data": {
            "text/plain": [
              "2.6416666666666675"
            ]
          },
          "metadata": {
            "tags": []
          },
          "execution_count": 34
        }
      ]
    },
    {
      "cell_type": "markdown",
      "metadata": {
        "id": "SS3PF56h9HMR",
        "colab_type": "text"
      },
      "source": [
        "And that turns out to be the same thing: the difference in means is the same as the mean of the differences.\n",
        "\n",
        "As an aside, many of the NumPy functions also work with lists, so we could also do this:"
      ]
    },
    {
      "cell_type": "code",
      "metadata": {
        "id": "DSiG9u8o9HMS",
        "colab_type": "code",
        "outputId": "f9ae7c1c-e432-4ff2-dd47-af6ca23c2bbc",
        "colab": {
          "base_uri": "https://localhost:8080/",
          "height": 34
        }
      },
      "source": [
        "np.mean(boston_price_list) - np.mean(london_price_list)"
      ],
      "execution_count": 35,
      "outputs": [
        {
          "output_type": "execute_result",
          "data": {
            "text/plain": [
              "2.6416666666666675"
            ]
          },
          "metadata": {
            "tags": []
          },
          "execution_count": 35
        }
      ]
    },
    {
      "cell_type": "markdown",
      "metadata": {
        "id": "POi_Bhcp9HMX",
        "colab_type": "text"
      },
      "source": [
        "**Exercise:** Standard deviation is way to quantify the variability in a set of numbers.  The NumPy function that computes standard deviation is `np.std`.\n",
        "\n",
        "Compute the standard deviation of sandwich prices in Boston and London.  By this measure, which set of prices is more variable?"
      ]
    },
    {
      "cell_type": "code",
      "metadata": {
        "id": "bpvUIcoc9HMY",
        "colab_type": "code",
        "outputId": "6f3fbd55-a4f6-49a6-9701-6a263db23f17",
        "colab": {
          "base_uri": "https://localhost:8080/",
          "height": 34
        }
      },
      "source": [
        "# Solution goes here\n",
        "\n",
        "np.std(boston_price_list) # 1.5380769017040583\n",
        "np.std(london_price_list) # 1.5811388300841898\n",
        "\n",
        "# The London prices are more variable. "
      ],
      "execution_count": 36,
      "outputs": [
        {
          "output_type": "execute_result",
          "data": {
            "text/plain": [
              "1.5811388300841898"
            ]
          },
          "metadata": {
            "tags": []
          },
          "execution_count": 36
        }
      ]
    },
    {
      "cell_type": "markdown",
      "metadata": {
        "id": "snqEGret9HMd",
        "colab_type": "text"
      },
      "source": [
        "**Exercise:** The definition of the mean, in math notation, is\n",
        "\n",
        "$\\mu = \\frac{1}{N} \\sum_i x_i$\n",
        "\n",
        "where $x$ is a sequence of elements, $x_i$ is the element with index $i$, and $N$ is the number of elements.\n",
        "\n",
        "The definition of standard deviation is\n",
        "\n",
        "$\\sigma = \\sqrt{\\frac{1}{N} \\sum_i (x_i - \\mu)^2}$\n",
        "\n",
        "Compute the standard deviation of `boston_price_list` using NumPy functions `np.mean` and `np.sqrt` and see if you get the same result as `np.std`.\n",
        "\n",
        "Note: You should do this exercise using only features we have discussed so far."
      ]
    },
    {
      "cell_type": "code",
      "metadata": {
        "id": "-h36arH_9HMe",
        "colab_type": "code",
        "colab": {}
      },
      "source": [
        "x = boston_price_list"
      ],
      "execution_count": 0,
      "outputs": []
    },
    {
      "cell_type": "code",
      "metadata": {
        "id": "zSmcR2u19HMg",
        "colab_type": "code",
        "outputId": "4c2f4ee5-6b34-4d98-87d5-148b92114099",
        "colab": {
          "base_uri": "https://localhost:8080/",
          "height": 34
        }
      },
      "source": [
        "# Solution goes here\n",
        "boston_stdev = np.sqrt(np.mean((x - np.mean(x))**2))\n",
        "boston_stdev # 1.5380769017040583 - this is the same answer"
      ],
      "execution_count": 38,
      "outputs": [
        {
          "output_type": "execute_result",
          "data": {
            "text/plain": [
              "1.5380769017040583"
            ]
          },
          "metadata": {
            "tags": []
          },
          "execution_count": 38
        }
      ]
    },
    {
      "cell_type": "markdown",
      "metadata": {
        "id": "sA0Iei4P9HMl",
        "colab_type": "text"
      },
      "source": [
        "Note: This definition of standard deviation is sometimes called the \"population standard deviation\".  You might have seen another definition with $N-1$ in the denominator; that's the \"sample standard deviation\".  We'll use the population standard deviation for now and come back to this issue later."
      ]
    },
    {
      "cell_type": "markdown",
      "metadata": {
        "id": "naaYUYoh9HMm",
        "colab_type": "text"
      },
      "source": [
        "## Absolute and relative differences\n",
        "\n",
        "In the previous section we computed \"absolute\" differences in price; that's what you get when you subtract two quantities.\n",
        "\n",
        "But often when we make this kind of comparison, we are interested in \"relative\" difference, which are differences expressed as a fraction or percentage of a quantity.\n",
        "\n",
        "Taking the lobster roll as an example, the absolute difference in price is:"
      ]
    },
    {
      "cell_type": "code",
      "metadata": {
        "id": "cHuo3Eqy9HMn",
        "colab_type": "code",
        "colab": {
          "base_uri": "https://localhost:8080/",
          "height": 34
        },
        "outputId": "ae5aec71-6d3c-4648-c306-55da32636a01"
      },
      "source": [
        "9.99 - 7.5"
      ],
      "execution_count": 39,
      "outputs": [
        {
          "output_type": "execute_result",
          "data": {
            "text/plain": [
              "2.49"
            ]
          },
          "metadata": {
            "tags": []
          },
          "execution_count": 39
        }
      ]
    },
    {
      "cell_type": "markdown",
      "metadata": {
        "id": "YLH3aDkV9HMq",
        "colab_type": "text"
      },
      "source": [
        "We can express that difference as a fraction of the London price, like this:"
      ]
    },
    {
      "cell_type": "code",
      "metadata": {
        "id": "zNKx2Sa-9HMr",
        "colab_type": "code",
        "colab": {
          "base_uri": "https://localhost:8080/",
          "height": 34
        },
        "outputId": "39dd271d-81ad-4fd0-994c-9fd70eb9bf02"
      },
      "source": [
        "(9.99 - 7.5) / 7.5"
      ],
      "execution_count": 40,
      "outputs": [
        {
          "output_type": "execute_result",
          "data": {
            "text/plain": [
              "0.332"
            ]
          },
          "metadata": {
            "tags": []
          },
          "execution_count": 40
        }
      ]
    },
    {
      "cell_type": "markdown",
      "metadata": {
        "id": "SKDjMDnm9HMv",
        "colab_type": "text"
      },
      "source": [
        "Or as a percentage of the London price, like this:"
      ]
    },
    {
      "cell_type": "code",
      "metadata": {
        "id": "iMh6GuTl9HMv",
        "colab_type": "code",
        "colab": {
          "base_uri": "https://localhost:8080/",
          "height": 34
        },
        "outputId": "bc490d6f-0c22-41ea-994e-b3c10d2f034c"
      },
      "source": [
        "(9.99 - 7.5) / 7.5 * 100"
      ],
      "execution_count": 41,
      "outputs": [
        {
          "output_type": "execute_result",
          "data": {
            "text/plain": [
              "33.2"
            ]
          },
          "metadata": {
            "tags": []
          },
          "execution_count": 41
        }
      ]
    },
    {
      "cell_type": "markdown",
      "metadata": {
        "id": "vFZgLjqz9HMz",
        "colab_type": "text"
      },
      "source": [
        "So we might say that the lobster roll is 33% more expensive in Boston.\n",
        "\n",
        "But putting London in the denominator was an arbitrary choice.  We could also compute the difference as a percentage of the Boston price:"
      ]
    },
    {
      "cell_type": "code",
      "metadata": {
        "id": "YyPW4zta9HMz",
        "colab_type": "code",
        "colab": {
          "base_uri": "https://localhost:8080/",
          "height": 34
        },
        "outputId": "e4e7f303-5e7a-423f-f52f-13bcee1c89b0"
      },
      "source": [
        "(9.99 - 7.5) / 9.99 * 100"
      ],
      "execution_count": 42,
      "outputs": [
        {
          "output_type": "execute_result",
          "data": {
            "text/plain": [
              "24.924924924924927"
            ]
          },
          "metadata": {
            "tags": []
          },
          "execution_count": 42
        }
      ]
    },
    {
      "cell_type": "markdown",
      "metadata": {
        "id": "xtYa3EW-9HM4",
        "colab_type": "text"
      },
      "source": [
        "If we do that calculation, we might say the lobster roll is 25% cheaper in London.\n",
        "\n",
        "When you read this kind of comparison, you should make sure you understand which quantity is in the denominator, and you might want to think about why that choice was made.\n",
        "\n",
        "In this example, if you want to make the difference seem bigger, you might put London prices in the denominator.\n",
        "\n",
        "Now we can use the arrays to compute all of the relative differences:"
      ]
    },
    {
      "cell_type": "code",
      "metadata": {
        "id": "hlELXHId9HM4",
        "colab_type": "code",
        "colab": {
          "base_uri": "https://localhost:8080/",
          "height": 34
        },
        "outputId": "f2f2e1ba-1306-451e-84e9-6cdba6167ed5"
      },
      "source": [
        "absolute_differences = boston_price_array - london_price_array\n",
        "absolute_differences"
      ],
      "execution_count": 43,
      "outputs": [
        {
          "output_type": "execute_result",
          "data": {
            "text/plain": [
              "array([2.49, 2.99, 3.09, 2.  , 2.54, 2.74])"
            ]
          },
          "metadata": {
            "tags": []
          },
          "execution_count": 43
        }
      ]
    },
    {
      "cell_type": "code",
      "metadata": {
        "id": "c6R2bSAC9HM6",
        "colab_type": "code",
        "colab": {
          "base_uri": "https://localhost:8080/",
          "height": 52
        },
        "outputId": "e408a6fd-b74b-4b7d-ab3f-8fd85bc36787"
      },
      "source": [
        "relative_differences = absolute_differences / london_price_array\n",
        "relative_differences"
      ],
      "execution_count": 44,
      "outputs": [
        {
          "output_type": "execute_result",
          "data": {
            "text/plain": [
              "array([0.332     , 0.598     , 0.70227273, 0.4       , 0.67733333,\n",
              "       1.21777778])"
            ]
          },
          "metadata": {
            "tags": []
          },
          "execution_count": 44
        }
      ]
    },
    {
      "cell_type": "code",
      "metadata": {
        "id": "W03W2rTz9HM9",
        "colab_type": "code",
        "colab": {
          "base_uri": "https://localhost:8080/",
          "height": 52
        },
        "outputId": "ae083038-e312-4453-a405-4aa6912eb215"
      },
      "source": [
        "percent_differences = relative_differences * 100\n",
        "percent_differences"
      ],
      "execution_count": 45,
      "outputs": [
        {
          "output_type": "execute_result",
          "data": {
            "text/plain": [
              "array([ 33.2       ,  59.8       ,  70.22727273,  40.        ,\n",
              "        67.73333333, 121.77777778])"
            ]
          },
          "metadata": {
            "tags": []
          },
          "execution_count": 45
        }
      ]
    },
    {
      "cell_type": "markdown",
      "metadata": {
        "id": "q4RoKrQ19HM-",
        "colab_type": "text"
      },
      "source": [
        "In this example, relative differences are more variable than absolute differences.\n",
        "\n",
        "We can use `np.min` and `np.max` to compute the range of absolute differences:"
      ]
    },
    {
      "cell_type": "code",
      "metadata": {
        "id": "ipsxWdGU9HM_",
        "colab_type": "code",
        "colab": {
          "base_uri": "https://localhost:8080/",
          "height": 34
        },
        "outputId": "c5744aad-0e43-4406-f248-1cd703f95ae5"
      },
      "source": [
        "np.min(absolute_differences), np.max(absolute_differences)"
      ],
      "execution_count": 46,
      "outputs": [
        {
          "output_type": "execute_result",
          "data": {
            "text/plain": [
              "(2.0, 3.09)"
            ]
          },
          "metadata": {
            "tags": []
          },
          "execution_count": 46
        }
      ]
    },
    {
      "cell_type": "markdown",
      "metadata": {
        "id": "WbkryqFc9HNB",
        "colab_type": "text"
      },
      "source": [
        "The differences are between 2 dollars and \\$3.10.\n",
        "\n",
        "Here is the range of percent differences:"
      ]
    },
    {
      "cell_type": "code",
      "metadata": {
        "id": "4O9YWpld9HNC",
        "colab_type": "code",
        "colab": {
          "base_uri": "https://localhost:8080/",
          "height": 34
        },
        "outputId": "8f768dcb-78fc-45bd-fe72-d0c2c918b47a"
      },
      "source": [
        "np.min(percent_differences), np.max(percent_differences)"
      ],
      "execution_count": 47,
      "outputs": [
        {
          "output_type": "execute_result",
          "data": {
            "text/plain": [
              "(33.2, 121.77777777777779)"
            ]
          },
          "metadata": {
            "tags": []
          },
          "execution_count": 47
        }
      ]
    },
    {
      "cell_type": "markdown",
      "metadata": {
        "id": "jFs-z4-K9HNE",
        "colab_type": "text"
      },
      "source": [
        "The range is quite wide: the lobster roll is only 33% more expensive in Boston; the egg sandwich is 117% percent more (that is, more than twice the price)."
      ]
    },
    {
      "cell_type": "markdown",
      "metadata": {
        "id": "_wqnCREK9HNF",
        "colab_type": "text"
      },
      "source": [
        "**Exercise:** What are the percent differences if we put the Boston prices in the denominator?  What is the range of those differences?  Write a sentence that summarizes the results."
      ]
    },
    {
      "cell_type": "code",
      "metadata": {
        "id": "XkLC_e3w9HNG",
        "colab_type": "code",
        "colab": {
          "base_uri": "https://localhost:8080/",
          "height": 52
        },
        "outputId": "e1db2633-26a9-47e3-efd6-69cf9ad24353"
      },
      "source": [
        "# Solution goes here\n",
        "# Percentage differences \n",
        "differences_boston = 100*(absolute_differences / boston_price_array)\n",
        "differences_boston"
      ],
      "execution_count": 51,
      "outputs": [
        {
          "output_type": "execute_result",
          "data": {
            "text/plain": [
              "array([24.92492492, 37.42177722, 41.25500668, 28.57142857, 40.38155803,\n",
              "       54.90981964])"
            ]
          },
          "metadata": {
            "tags": []
          },
          "execution_count": 51
        }
      ]
    },
    {
      "cell_type": "code",
      "metadata": {
        "id": "xphDctlU9HNL",
        "colab_type": "code",
        "colab": {
          "base_uri": "https://localhost:8080/",
          "height": 34
        },
        "outputId": "11be84be-39f2-4401-c73c-32caec63c428"
      },
      "source": [
        "# Solution goes here\n",
        "np.min(differences_boston), np.max(differences_boston)"
      ],
      "execution_count": 52,
      "outputs": [
        {
          "output_type": "execute_result",
          "data": {
            "text/plain": [
              "(24.924924924924927, 54.90981963927856)"
            ]
          },
          "metadata": {
            "tags": []
          },
          "execution_count": 52
        }
      ]
    },
    {
      "cell_type": "code",
      "metadata": {
        "id": "eq-Cqww_9HNN",
        "colab_type": "code",
        "colab": {}
      },
      "source": [
        "# Solution goes here\n",
        "# The range, while still wide, appears less dramatic: the lobster roll is only 24% cheaper in Londo, but the egg sandwich is 54% cheaper (about half the price!)."
      ],
      "execution_count": 0,
      "outputs": []
    },
    {
      "cell_type": "markdown",
      "metadata": {
        "id": "KWg12fts9HNQ",
        "colab_type": "text"
      },
      "source": [
        "## Summarizing relative differences\n",
        "\n",
        "Because the range of relative differences is wide, it is not clear how we should best summarize it.  One option is the mean of the percent differences:"
      ]
    },
    {
      "cell_type": "code",
      "metadata": {
        "id": "qXZPWngC9HNQ",
        "colab_type": "code",
        "colab": {
          "base_uri": "https://localhost:8080/",
          "height": 34
        },
        "outputId": "0cd3a260-2af3-4abe-9f66-30c07deaa63e"
      },
      "source": [
        "np.mean(percent_differences)"
      ],
      "execution_count": 53,
      "outputs": [
        {
          "output_type": "execute_result",
          "data": {
            "text/plain": [
              "65.4563973063973"
            ]
          },
          "metadata": {
            "tags": []
          },
          "execution_count": 53
        }
      ]
    },
    {
      "cell_type": "markdown",
      "metadata": {
        "id": "wYBDFyE-9HNU",
        "colab_type": "text"
      },
      "source": [
        "So we might say, on average, sandwiches are 65% more expensive in Boston.\n",
        "\n",
        "But another way to summarize the data is to compute the mean price in each city, and then compute the percentage difference of the means:"
      ]
    },
    {
      "cell_type": "code",
      "metadata": {
        "id": "ypZEcUR39HNV",
        "colab_type": "code",
        "colab": {
          "base_uri": "https://localhost:8080/",
          "height": 34
        },
        "outputId": "73376b63-4a50-42eb-fdef-33cf3f7e7ead"
      },
      "source": [
        "boston_mean = np.mean(boston_price_array)\n",
        "london_mean = np.mean(london_price_array)\n",
        "\n",
        "(boston_mean - london_mean) / london_mean * 100"
      ],
      "execution_count": 54,
      "outputs": [
        {
          "output_type": "execute_result",
          "data": {
            "text/plain": [
              "56.81003584229393"
            ]
          },
          "metadata": {
            "tags": []
          },
          "execution_count": 54
        }
      ]
    },
    {
      "cell_type": "markdown",
      "metadata": {
        "id": "cxtsRpYr9HNY",
        "colab_type": "text"
      },
      "source": [
        "So we might say that the average sandwich price is 56% higher in Boston.\n",
        "\n",
        "As this example demonstrates:\n",
        "\n",
        "* With relative and percentage differences, the mean of the differences is not the same as the difference of the means.\n",
        "\n",
        "* When you report data like this, you should think about different ways to summarize the data.\n",
        "\n",
        "* When you read a summary of data like this, make sure you understand what summary was chosen and what it means.\n",
        "\n",
        "In this example, I think the second option (the relative difference in the means) is more meaningful, because it reflects the difference in price between \"baskets of goods\" that include one of each sandwich."
      ]
    },
    {
      "cell_type": "markdown",
      "metadata": {
        "id": "d9JF1Bm59HNb",
        "colab_type": "text"
      },
      "source": [
        "## Debugging\n",
        "\n",
        "So far, most of the exercises have only required a few lines of code.  If you made errors along the way, you probably found them quickly.\n",
        "\n",
        "As we go along, the exercises will be more substantial, and you may find yourself spending more time debugging.  Here are a couple of suggestions to help you find errors quickly -- and avoid them in the first place.\n",
        "\n",
        "Most importantly, you should develop code incrementally; that is, you should write a small amount of code and test it.  If it works, add more code; otherwise, debug what you have.\n",
        "\n",
        "Conversely, if you have written too much code, and you are having a hard time debugging it, split it into smaller chunks and debug them separately.\n",
        "\n",
        "For example, suppose you want to compute, for each sandwich in the sandwich list, the midpoint of the Boston and London prices.  As a first draft, you might write something like this:"
      ]
    },
    {
      "cell_type": "code",
      "metadata": {
        "id": "yy5vXle-9HNc",
        "colab_type": "code",
        "colab": {
          "base_uri": "https://localhost:8080/",
          "height": 34
        },
        "outputId": "4f39f92d-3cc9-4d98-88da-566204c54278"
      },
      "source": [
        "boston_price_list = [9.99, 7.99, 7.49, 7, 6.29, 4.99]\n",
        "london_price_list = [7.5, 5, 4.4, 5, 3.75, 2.25]\n",
        "\n",
        "midpoint_price = np.mean(boston_price_list + london_price_list)\n",
        "midpoint_price"
      ],
      "execution_count": 55,
      "outputs": [
        {
          "output_type": "execute_result",
          "data": {
            "text/plain": [
              "5.970833333333334"
            ]
          },
          "metadata": {
            "tags": []
          },
          "execution_count": 55
        }
      ]
    },
    {
      "cell_type": "markdown",
      "metadata": {
        "id": "iRncCgfg9HNf",
        "colab_type": "text"
      },
      "source": [
        "This code runs, and it produces an answer, but the answer is not what we expect.  In fact, it's not easy to figure out where that number came from.\n",
        "\n",
        "To debug this code, I would start by splitting the computation into smaller steps and displaying the intermediate results.  For example, we might add the two lists and display the result, like this."
      ]
    },
    {
      "cell_type": "code",
      "metadata": {
        "id": "-zHnY41Q9HNj",
        "colab_type": "code",
        "colab": {
          "base_uri": "https://localhost:8080/",
          "height": 34
        },
        "outputId": "3af46b0e-f530-40c0-9cd0-fa96a59b5f02"
      },
      "source": [
        "total_price = boston_price_list + london_price_list\n",
        "total_price"
      ],
      "execution_count": 56,
      "outputs": [
        {
          "output_type": "execute_result",
          "data": {
            "text/plain": [
              "[9.99, 7.99, 7.49, 7, 6.29, 4.99, 7.5, 5, 4.4, 5, 3.75, 2.25]"
            ]
          },
          "metadata": {
            "tags": []
          },
          "execution_count": 56
        }
      ]
    },
    {
      "cell_type": "markdown",
      "metadata": {
        "id": "jtTSUw4S9HNm",
        "colab_type": "text"
      },
      "source": [
        "Looking at the result, we see that it did not add the sandwich prices elementwise, as we intended.  Because the arguments are lists, the `+` operator concatenates them rather than adding the elements.\n",
        "\n",
        "We can solve this problem by converting the lists to arrays."
      ]
    },
    {
      "cell_type": "code",
      "metadata": {
        "id": "PakGILoW9HNn",
        "colab_type": "code",
        "colab": {
          "base_uri": "https://localhost:8080/",
          "height": 34
        },
        "outputId": "a9ea8b51-a2f4-41db-b16a-be09fab39236"
      },
      "source": [
        "boston_price_array = np.array(boston_price_list)\n",
        "london_price_array = np.array(london_price_list)\n",
        "\n",
        "total_price_array = boston_price_array + london_price_array\n",
        "total_price_array"
      ],
      "execution_count": 57,
      "outputs": [
        {
          "output_type": "execute_result",
          "data": {
            "text/plain": [
              "array([17.49, 12.99, 11.89, 12.  , 10.04,  7.24])"
            ]
          },
          "metadata": {
            "tags": []
          },
          "execution_count": 57
        }
      ]
    },
    {
      "cell_type": "code",
      "metadata": {
        "id": "10qkpm409HNq",
        "colab_type": "code",
        "colab": {
          "base_uri": "https://localhost:8080/",
          "height": 34
        },
        "outputId": "31d8d6ba-d80d-4aef-9851-877487b0c6d8"
      },
      "source": [
        "midpoint_price_array = total_price_array / 2\n",
        "midpoint_price_array"
      ],
      "execution_count": 58,
      "outputs": [
        {
          "output_type": "execute_result",
          "data": {
            "text/plain": [
              "array([8.745, 6.495, 5.945, 6.   , 5.02 , 3.62 ])"
            ]
          },
          "metadata": {
            "tags": []
          },
          "execution_count": 58
        }
      ]
    },
    {
      "cell_type": "markdown",
      "metadata": {
        "id": "K1hA9XLX9HNs",
        "colab_type": "text"
      },
      "source": [
        "As you gain experience, you will be able to write bigger chunks of code before testing.  But while you are getting started, keep it simple!\n",
        "\n",
        "As a general rule, each line of code should perform a small number of operations, often one.  And each cell should contain a small number of statements, often one."
      ]
    },
    {
      "cell_type": "code",
      "metadata": {
        "id": "zj0tb8k29HNu",
        "colab_type": "code",
        "colab": {}
      },
      "source": [
        ""
      ],
      "execution_count": 0,
      "outputs": []
    }
  ]
}