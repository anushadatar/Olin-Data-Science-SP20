{
  "nbformat": 4,
  "nbformat_minor": 0,
  "metadata": {
    "kernelspec": {
      "display_name": "Python 3",
      "language": "python",
      "name": "python3"
    },
    "language_info": {
      "codemirror_mode": {
        "name": "ipython",
        "version": 3
      },
      "file_extension": ".py",
      "mimetype": "text/x-python",
      "name": "python",
      "nbconvert_exporter": "python",
      "pygments_lexer": "ipython3",
      "version": "3.7.4"
    },
    "colab": {
      "name": "06_plotting.ipynb",
      "provenance": [],
      "collapsed_sections": [],
      "include_colab_link": true
    }
  },
  "cells": [
    {
      "cell_type": "markdown",
      "metadata": {
        "id": "view-in-github",
        "colab_type": "text"
      },
      "source": [
        "<a href=\"https://colab.research.google.com/github/anushadatar/Olin-Data-Science-SP20/blob/master/06_plotting.ipynb\" target=\"_parent\"><img src=\"https://colab.research.google.com/assets/colab-badge.svg\" alt=\"Open In Colab\"/></a>"
      ]
    },
    {
      "cell_type": "markdown",
      "metadata": {
        "id": "2RQBbve64q0Y",
        "colab_type": "text"
      },
      "source": [
        "# Plotting\n",
        "\n",
        "Elements of Data Science\n",
        "\n",
        "by [Allen Downey](https://allendowney.com)\n",
        "\n",
        "[MIT License](https://opensource.org/licenses/MIT)\n",
        "\n",
        "### Goals\n",
        "\n",
        "This notebook presents ways to create figures and graphs, more generally called \"data visualizations\".  As examples, we'll generate three figures:\n",
        "\n",
        "* We'll replicate a figure from the Pew Research Center that shows changes in religious affiliation in the U.S. over time.\n",
        "\n",
        "* We'll replicate the figure from *The Economist* that shows the prices of sandwiches in Boston and London (we saw this data back in Notebook 03).\n",
        "\n",
        "* We'll make a plot to test Zipf's law, which describes the relationship between word frequencies and their ranks.\n",
        "\n",
        "With the tools in this notebook, you can generate a variety of simple graphs.  We will see more visualization tools in later notebooks.\n",
        "\n",
        "But before we get started with plotting, we need a new language feature: keyword arguments."
      ]
    },
    {
      "cell_type": "markdown",
      "metadata": {
        "id": "P1GVMn5E4q0c",
        "colab_type": "text"
      },
      "source": [
        "## Keyword arguments\n",
        "\n",
        "When you call most functions, you have to provide values.  For example, when you call `np.exp`, the value you provide is a number: "
      ]
    },
    {
      "cell_type": "code",
      "metadata": {
        "id": "JunMUw774q0e",
        "colab_type": "code",
        "colab": {
          "base_uri": "https://localhost:8080/",
          "height": 34
        },
        "outputId": "c715cbe2-94cb-4069-8605-f2349fdad794"
      },
      "source": [
        "import numpy as np\n",
        "\n",
        "np.exp(1)"
      ],
      "execution_count": 1,
      "outputs": [
        {
          "output_type": "execute_result",
          "data": {
            "text/plain": [
              "2.718281828459045"
            ]
          },
          "metadata": {
            "tags": []
          },
          "execution_count": 1
        }
      ]
    },
    {
      "cell_type": "markdown",
      "metadata": {
        "id": "f9a3kWZL4q0j",
        "colab_type": "text"
      },
      "source": [
        "When you call `np.power`, you have to provide two numbers:"
      ]
    },
    {
      "cell_type": "code",
      "metadata": {
        "id": "FyJ2zFk04q0k",
        "colab_type": "code",
        "colab": {
          "base_uri": "https://localhost:8080/",
          "height": 34
        },
        "outputId": "46e10d53-d6d9-4a3c-eee5-d9e10314f075"
      },
      "source": [
        "np.power(10, 6)"
      ],
      "execution_count": 2,
      "outputs": [
        {
          "output_type": "execute_result",
          "data": {
            "text/plain": [
              "1000000"
            ]
          },
          "metadata": {
            "tags": []
          },
          "execution_count": 2
        }
      ]
    },
    {
      "cell_type": "markdown",
      "metadata": {
        "id": "aHToib5r4q0q",
        "colab_type": "text"
      },
      "source": [
        "The values you provide are called \"arguments\".  Specifically, the values in these examples are \"positional arguments\" because their position determines how they are used.\n",
        "\n",
        "In the second example, `power` computes `10` to the sixth power, not `6` to the 10th power because of the order of the arguments.\n",
        "\n",
        "Many functions also take \"keyword arguments\", which are optional.  For example, we have previously used `int` to convert a string to an integer."
      ]
    },
    {
      "cell_type": "code",
      "metadata": {
        "id": "hdEf9APT4q0s",
        "colab_type": "code",
        "colab": {
          "base_uri": "https://localhost:8080/",
          "height": 34
        },
        "outputId": "c29864fc-fe17-4edb-effb-43f848dd5419"
      },
      "source": [
        "int('21')"
      ],
      "execution_count": 3,
      "outputs": [
        {
          "output_type": "execute_result",
          "data": {
            "text/plain": [
              "21"
            ]
          },
          "metadata": {
            "tags": []
          },
          "execution_count": 3
        }
      ]
    },
    {
      "cell_type": "markdown",
      "metadata": {
        "id": "RUnTVypu4q0y",
        "colab_type": "text"
      },
      "source": [
        "By default, `int` assumes that the number is in base 10.  But you can provide a keyword argument that specifies a different base.\n",
        "\n",
        "For example, the string `'21'`, interpreted in base 8, represents the number `2 * 8 + 1 = 17`.  Here's how we do this conversion using `int`."
      ]
    },
    {
      "cell_type": "code",
      "metadata": {
        "id": "UwX1jUZu4q00",
        "colab_type": "code",
        "colab": {
          "base_uri": "https://localhost:8080/",
          "height": 34
        },
        "outputId": "52ad2859-5f1e-4312-f0af-b50c1e0f4e0c"
      },
      "source": [
        "int('21', base=8)"
      ],
      "execution_count": 4,
      "outputs": [
        {
          "output_type": "execute_result",
          "data": {
            "text/plain": [
              "17"
            ]
          },
          "metadata": {
            "tags": []
          },
          "execution_count": 4
        }
      ]
    },
    {
      "cell_type": "markdown",
      "metadata": {
        "id": "DsLlBfKg4q06",
        "colab_type": "text"
      },
      "source": [
        "The string `'21'` is a positional argument.  The integer value `8` is a keyword argument, with the keyword `base`.\n",
        "\n",
        "Specifying a keyword argument looks like an assignment statement, but it does not create a new variable."
      ]
    },
    {
      "cell_type": "code",
      "metadata": {
        "id": "SNo7TIu94q09",
        "colab_type": "code",
        "colab": {
          "base_uri": "https://localhost:8080/",
          "height": 167
        },
        "outputId": "c8af5ea2-5bd3-4b4d-ce35-bf725bdf1208"
      },
      "source": [
        "base"
      ],
      "execution_count": 5,
      "outputs": [
        {
          "output_type": "error",
          "ename": "NameError",
          "evalue": "ignored",
          "traceback": [
            "\u001b[0;31m---------------------------------------------------------------------------\u001b[0m",
            "\u001b[0;31mNameError\u001b[0m                                 Traceback (most recent call last)",
            "\u001b[0;32m<ipython-input-5-51c64a6f4fc3>\u001b[0m in \u001b[0;36m<module>\u001b[0;34m()\u001b[0m\n\u001b[0;32m----> 1\u001b[0;31m \u001b[0mbase\u001b[0m\u001b[0;34m\u001b[0m\u001b[0;34m\u001b[0m\u001b[0m\n\u001b[0m",
            "\u001b[0;31mNameError\u001b[0m: name 'base' is not defined"
          ]
        }
      ]
    },
    {
      "cell_type": "markdown",
      "metadata": {
        "id": "JeIPRjcc4q1C",
        "colab_type": "text"
      },
      "source": [
        "And when you specify a keyword argument, you don't choose the variable name.  In this example, the keyword name, `base`, is part of the definition of `int`.  If you specify another keyword name, you get an error."
      ]
    },
    {
      "cell_type": "code",
      "metadata": {
        "id": "iwHSVQO04q1D",
        "colab_type": "code",
        "colab": {
          "base_uri": "https://localhost:8080/",
          "height": 167
        },
        "outputId": "a03695a5-a15d-41a1-88b6-853cb9047e50"
      },
      "source": [
        "int('123', bass=11)"
      ],
      "execution_count": 6,
      "outputs": [
        {
          "output_type": "error",
          "ename": "TypeError",
          "evalue": "ignored",
          "traceback": [
            "\u001b[0;31m---------------------------------------------------------------------------\u001b[0m",
            "\u001b[0;31mTypeError\u001b[0m                                 Traceback (most recent call last)",
            "\u001b[0;32m<ipython-input-6-ce15d533a9e4>\u001b[0m in \u001b[0;36m<module>\u001b[0;34m()\u001b[0m\n\u001b[0;32m----> 1\u001b[0;31m \u001b[0mint\u001b[0m\u001b[0;34m(\u001b[0m\u001b[0;34m'123'\u001b[0m\u001b[0;34m,\u001b[0m \u001b[0mbass\u001b[0m\u001b[0;34m=\u001b[0m\u001b[0;36m11\u001b[0m\u001b[0;34m)\u001b[0m\u001b[0;34m\u001b[0m\u001b[0;34m\u001b[0m\u001b[0m\n\u001b[0m",
            "\u001b[0;31mTypeError\u001b[0m: 'bass' is an invalid keyword argument for this function"
          ]
        }
      ]
    },
    {
      "cell_type": "markdown",
      "metadata": {
        "id": "U2pJDsnN4q1I",
        "colab_type": "text"
      },
      "source": [
        "**Exercise:** Use `int` to compute the value of `\"123\"` interpreted in base 5.  What happens if you try to interpret `\"123\"` as a base 3 number?"
      ]
    },
    {
      "cell_type": "code",
      "metadata": {
        "id": "okZAVt1A4q1K",
        "colab_type": "code",
        "colab": {
          "base_uri": "https://localhost:8080/",
          "height": 34
        },
        "outputId": "214e52ee-1bb0-440b-d1ba-ebe42f47b4ff"
      },
      "source": [
        "# Solution goes here\n",
        "int('123', base=5)"
      ],
      "execution_count": 8,
      "outputs": [
        {
          "output_type": "execute_result",
          "data": {
            "text/plain": [
              "38"
            ]
          },
          "metadata": {
            "tags": []
          },
          "execution_count": 8
        }
      ]
    },
    {
      "cell_type": "code",
      "metadata": {
        "id": "S9tSWN3L4q1P",
        "colab_type": "code",
        "colab": {
          "base_uri": "https://localhost:8080/",
          "height": 167
        },
        "outputId": "3257f72a-ec0c-4ea1-914f-2349025faefc"
      },
      "source": [
        "# Solution goes here\n",
        "int('123', base=3)"
      ],
      "execution_count": 9,
      "outputs": [
        {
          "output_type": "error",
          "ename": "ValueError",
          "evalue": "ignored",
          "traceback": [
            "\u001b[0;31m---------------------------------------------------------------------------\u001b[0m",
            "\u001b[0;31mValueError\u001b[0m                                Traceback (most recent call last)",
            "\u001b[0;32m<ipython-input-9-d35c41f9ef44>\u001b[0m in \u001b[0;36m<module>\u001b[0;34m()\u001b[0m\n\u001b[0;32m----> 1\u001b[0;31m \u001b[0mint\u001b[0m\u001b[0;34m(\u001b[0m\u001b[0;34m'123'\u001b[0m\u001b[0;34m,\u001b[0m \u001b[0mbase\u001b[0m\u001b[0;34m=\u001b[0m\u001b[0;36m3\u001b[0m\u001b[0;34m)\u001b[0m\u001b[0;34m\u001b[0m\u001b[0;34m\u001b[0m\u001b[0m\n\u001b[0m",
            "\u001b[0;31mValueError\u001b[0m: invalid literal for int() with base 3: '123'"
          ]
        }
      ]
    },
    {
      "cell_type": "markdown",
      "metadata": {
        "id": "aBQJQwYo4q1U",
        "colab_type": "text"
      },
      "source": [
        "**Exercise:** The `print` function takes a keyword argument called `end` that specifies the character it prints at the end of the line.  By default, `end` is the newline character, `\\n`.  So if you call `print` more than once, the results normally appear on separate lines, like this:"
      ]
    },
    {
      "cell_type": "code",
      "metadata": {
        "id": "axcYB7wC4q1V",
        "colab_type": "code",
        "colab": {
          "base_uri": "https://localhost:8080/",
          "height": 34
        },
        "outputId": "9ab63822-3999-4fc7-cdd8-a012e18c6eae"
      },
      "source": [
        "for x in [1, 2, 3]:\n",
        "    print(x)"
      ],
      "execution_count": 11,
      "outputs": [
        {
          "output_type": "stream",
          "text": [
            "1 2 3 "
          ],
          "name": "stdout"
        }
      ]
    },
    {
      "cell_type": "markdown",
      "metadata": {
        "id": "AfMvLP0a4q1Y",
        "colab_type": "text"
      },
      "source": [
        "Modify the previous example so it prints the elements of the list, all on one line, with spaces between them.\n",
        "\n",
        "Then modify it to print an open bracket at the beginning and a close bracket and newline at the end."
      ]
    },
    {
      "cell_type": "code",
      "metadata": {
        "id": "Jx7o3akk4q1b",
        "colab_type": "code",
        "colab": {
          "base_uri": "https://localhost:8080/",
          "height": 34
        },
        "outputId": "e59824f2-7462-4760-f678-428032ebf4c6"
      },
      "source": [
        "# Solution goes here\n",
        "print(\"[\", end=\"\")\n",
        "for x in [1, 2, 3]:\n",
        "    print(x, end=\" \")\n",
        "print(\"]\")"
      ],
      "execution_count": 15,
      "outputs": [
        {
          "output_type": "stream",
          "text": [
            "[1 2 3 ]\n"
          ],
          "name": "stdout"
        }
      ]
    },
    {
      "cell_type": "markdown",
      "metadata": {
        "id": "HQNLhKgO4q1f",
        "colab_type": "text"
      },
      "source": [
        "## Religious affiliation\n",
        "\n",
        "Now we're ready to make some graphs.\n",
        "\n",
        "In October 2019 the Pew Research Center published \"[In U.S., Decline of Christianity Continues at Rapid Pace](https://www.pewforum.org/2019/10/17/in-u-s-decline-of-christianity-continues-at-rapid-pace/): An update on America's changing religious landscape\".\n",
        "\n",
        "It includes this figure, which shows changes in religious affiliation among adults in the U.S. over the previous 10 years.\n",
        "\n",
        "<img src=\"https://github.com/AllenDowney/ElementsOfDataScience/raw/master/figs/pew_religion_figure1.png\" width=\"300\">\n",
        "\n",
        "As an exercise, we'll replicate this figure.  It shows results from two sources, Religious Landscape Studies and Pew Research Political Surveys.  The political surveys provide data from more years, so we'll focus on that.\n",
        "\n",
        "[The data from the figure are available directly from Pew Research](https://www.pewforum.org/wp-content/uploads/sites/7/2019/10/Detailed-Tables-v1-FOR-WEB.pdf), but they are in a PDF document.  Later you'll learn how to extract data from PDF documents, but for now we'll enter the data by hand."
      ]
    },
    {
      "cell_type": "code",
      "metadata": {
        "id": "NPAiiPJi4q1g",
        "colab_type": "code",
        "colab": {}
      },
      "source": [
        "year = [2009, 2010, 2011, 2012, 2013, 2014, 2015, 2016, 2017, 2018]"
      ],
      "execution_count": 0,
      "outputs": []
    },
    {
      "cell_type": "code",
      "metadata": {
        "id": "ur0Qbavz4q1j",
        "colab_type": "code",
        "colab": {}
      },
      "source": [
        "christian = [77, 76, 75, 73, 73, 71, 69, 68, 67, 65]"
      ],
      "execution_count": 0,
      "outputs": []
    },
    {
      "cell_type": "code",
      "metadata": {
        "id": "y_TN4Oae4q1o",
        "colab_type": "code",
        "colab": {}
      },
      "source": [
        "unaffiliated = [17, 17, 19, 19, 20, 21, 24, 23, 25, 26]"
      ],
      "execution_count": 0,
      "outputs": []
    },
    {
      "cell_type": "markdown",
      "metadata": {
        "id": "lxZkqzKy4q1u",
        "colab_type": "text"
      },
      "source": [
        "The library we'll use for plotting is Matplotlib; more specifically, we'll use a part of it called Pyplot, which we'll import with the nickname `plt`."
      ]
    },
    {
      "cell_type": "code",
      "metadata": {
        "id": "hJ0lkH704q1v",
        "colab_type": "code",
        "colab": {}
      },
      "source": [
        "import matplotlib.pyplot as plt"
      ],
      "execution_count": 0,
      "outputs": []
    },
    {
      "cell_type": "markdown",
      "metadata": {
        "id": "y-s1P3l14q1z",
        "colab_type": "text"
      },
      "source": [
        "Pyplot provides a function called `plot` that makes a line plot.  It takes two sequences as arguments, the `x` values and the `y` values.  The sequences can be tuples, lists, or arrays."
      ]
    },
    {
      "cell_type": "code",
      "metadata": {
        "id": "tC4Z-imX4q11",
        "colab_type": "code",
        "colab": {
          "base_uri": "https://localhost:8080/",
          "height": 282
        },
        "outputId": "4a056f46-a660-4600-b3cf-73196678cd4c"
      },
      "source": [
        "plt.plot(year, christian)"
      ],
      "execution_count": 20,
      "outputs": [
        {
          "output_type": "execute_result",
          "data": {
            "text/plain": [
              "[<matplotlib.lines.Line2D at 0x7f86740c5da0>]"
            ]
          },
          "metadata": {
            "tags": []
          },
          "execution_count": 20
        },
        {
          "output_type": "display_data",
          "data": {
            "image/png": "[encoded data removed]",
            "text/plain": [
              "<Figure size 432x288 with 1 Axes>"
            ]
          },
          "metadata": {
            "tags": []
          }
        }
      ]
    },
    {
      "cell_type": "markdown",
      "metadata": {
        "id": "HzPcpyzG4q17",
        "colab_type": "text"
      },
      "source": [
        "In addition to the plot, Jupyter also displays the result from `plt.plot`, which is a value that represents the plotted line.\n",
        "\n",
        "For now we won't do anything with this value.  If you prefer not to see it, you can put a semi-colon at the end of the line to suppress it.\n",
        "\n",
        "If you plot multiple lines in a single cell, they appear on the same axes."
      ]
    },
    {
      "cell_type": "code",
      "metadata": {
        "id": "PayWq8Tw4q19",
        "colab_type": "code",
        "colab": {
          "base_uri": "https://localhost:8080/",
          "height": 269
        },
        "outputId": "75e4e22c-eafc-48b1-f8fb-486b85a5bcd4"
      },
      "source": [
        "plt.plot(year, christian)\n",
        "plt.plot(year, unaffiliated);"
      ],
      "execution_count": 21,
      "outputs": [
        {
          "output_type": "display_data",
          "data": {
            "image/png": "[encoded data removed]",
            "text/plain": [
              "<Figure size 432x288 with 1 Axes>"
            ]
          },
          "metadata": {
            "tags": []
          }
        }
      ]
    },
    {
      "cell_type": "markdown",
      "metadata": {
        "id": "KRMcE64o4q2C",
        "colab_type": "text"
      },
      "source": [
        "In this example, plotting them on the same axes makes it possible to compare them directly.\n",
        "\n",
        "However, notice that Pyplot chooses the range for the axes automatically; in this example the `y` axis starts around 15, not zero.  \n",
        "\n",
        "As a result, it provides a misleading picture, making the ratio of the two lines look bigger than it really is.\n",
        "\n",
        "We can set the limits of the `y` axis using the function `plt.ylim`.  The argument is a list with two values, the lower bound and the upper bound."
      ]
    },
    {
      "cell_type": "code",
      "metadata": {
        "id": "vAmP7YVc4q2D",
        "colab_type": "code",
        "colab": {
          "base_uri": "https://localhost:8080/",
          "height": 269
        },
        "outputId": "38fd9aa6-26c2-4cda-9304-149993e86bfb"
      },
      "source": [
        "plt.plot(year, christian)\n",
        "plt.plot(year, unaffiliated)\n",
        "\n",
        "plt.ylim([0, 80]);"
      ],
      "execution_count": 22,
      "outputs": [
        {
          "output_type": "display_data",
          "data": {
            "image/png": "[encoded data removed]",
            "text/plain": [
              "<Figure size 432x288 with 1 Axes>"
            ]
          },
          "metadata": {
            "tags": []
          }
        }
      ]
    },
    {
      "cell_type": "markdown",
      "metadata": {
        "id": "unFnvdKr4q2H",
        "colab_type": "text"
      },
      "source": [
        "That's better, but this graph is missing some of the most important elements: labels for the axes, and a title.  "
      ]
    },
    {
      "cell_type": "markdown",
      "metadata": {
        "id": "53WyGXSy4q2I",
        "colab_type": "text"
      },
      "source": [
        "## Decorating the axes\n",
        "\n",
        "To label the axes and add a title, we'll use Pyplot functions `xlabel`, `ylabel`, and `title`.  All of them take strings as arguments."
      ]
    },
    {
      "cell_type": "code",
      "metadata": {
        "id": "P6YPkGLa4q2J",
        "colab_type": "code",
        "colab": {
          "base_uri": "https://localhost:8080/",
          "height": 295
        },
        "outputId": "049b3c03-78f4-4d31-818f-f3382e546781"
      },
      "source": [
        "plt.plot(year, christian)\n",
        "plt.plot(year, unaffiliated)\n",
        "\n",
        "plt.ylim([0, 80])\n",
        "plt.xlabel('Year')\n",
        "plt.ylabel('% of adults')\n",
        "plt.title('Religious affiliation of U.S adults');"
      ],
      "execution_count": 23,
      "outputs": [
        {
          "output_type": "display_data",
          "data": {
            "image/png": "[encoded data removed]",
            "text/plain": [
              "<Figure size 432x288 with 1 Axes>"
            ]
          },
          "metadata": {
            "tags": []
          }
        }
      ]
    },
    {
      "cell_type": "markdown",
      "metadata": {
        "id": "USqQlSEY4q2N",
        "colab_type": "text"
      },
      "source": [
        "Now let's add another important element, a legend that indicates which line is which.\n",
        "\n",
        "To do that, we add a label to each line, using the keyword argument `label`.\n",
        "\n",
        "Then we call `plt.legend` to create the legend."
      ]
    },
    {
      "cell_type": "code",
      "metadata": {
        "id": "YZZbPArm4q2O",
        "colab_type": "code",
        "colab": {
          "base_uri": "https://localhost:8080/",
          "height": 295
        },
        "outputId": "bcff7950-c749-45e5-9ad5-d0955a2b3fe5"
      },
      "source": [
        "plt.plot(year, christian, label='Christian')\n",
        "plt.plot(year, unaffiliated, label='Unaffiliated')\n",
        "\n",
        "plt.ylim([0, 80])\n",
        "plt.xlabel('Year')\n",
        "plt.ylabel('% of adults')\n",
        "plt.title('Religious affiliation of U.S adults')\n",
        "plt.legend();"
      ],
      "execution_count": 24,
      "outputs": [
        {
          "output_type": "display_data",
          "data": {
            "image/png": "[encoded data removed]",
            "text/plain": [
              "<Figure size 432x288 with 1 Axes>"
            ]
          },
          "metadata": {
            "tags": []
          }
        }
      ]
    },
    {
      "cell_type": "markdown",
      "metadata": {
        "id": "oiaYgEyr4q2R",
        "colab_type": "text"
      },
      "source": [
        "**Exercise:** The orginal figure plots lines between the data points, but it also plots \"markers\" showing the location of each data point.  It is generally good practice to include markers, especially if data are not available for every year.\n",
        "\n",
        "Modify the previous example to include a keyword argument `marker` with the string value `'o'`, which indicates that you want to plot circles as markers."
      ]
    },
    {
      "cell_type": "code",
      "metadata": {
        "id": "C-M23sbK4q2S",
        "colab_type": "code",
        "colab": {
          "base_uri": "https://localhost:8080/",
          "height": 295
        },
        "outputId": "aeb2be91-f4e4-4d18-85ee-1ca2dda9472d"
      },
      "source": [
        "# Solution goes here\n",
        "plt.plot(year, christian, label='Christian', marker='o')\n",
        "plt.plot(year, unaffiliated, label='Unaffiliated', marker='o')\n",
        "\n",
        "plt.ylim([0, 80])\n",
        "plt.xlabel('Year')\n",
        "plt.ylabel('% of adults')\n",
        "plt.title('Religious affiliation of U.S adults')\n",
        "plt.legend();"
      ],
      "execution_count": 25,
      "outputs": [
        {
          "output_type": "display_data",
          "data": {
            "image/png": "[encoded data removed]",
            "text/plain": [
              "<Figure size 432x288 with 1 Axes>"
            ]
          },
          "metadata": {
            "tags": []
          }
        }
      ]
    },
    {
      "cell_type": "markdown",
      "metadata": {
        "id": "yslkkpj14q2V",
        "colab_type": "text"
      },
      "source": [
        "**Exercise:** In the original figure, the line labelled `'Christian'` is red and the line labeled `'Unaffiliated'` is grey.\n",
        "\n",
        "Find the online documentation of `plt.plot` and figure out how to use keyword arguments to specify colors.  Choose colors to (roughly) match the original figure.\n",
        "\n",
        "The `legend` function takes a keyword argument that speficies the location of the legend.  Read the documentation of this function and move the legend to the center left of the figure."
      ]
    },
    {
      "cell_type": "code",
      "metadata": {
        "id": "tcY3NwKb4q2W",
        "colab_type": "code",
        "colab": {
          "base_uri": "https://localhost:8080/",
          "height": 295
        },
        "outputId": "be04dd6f-5d59-4967-cd96-9971795e99d4"
      },
      "source": [
        "# Solution goes here\n",
        "plt.plot(year, christian, label='Christian', marker='o', color='r')\n",
        "plt.plot(year, unaffiliated, label='Unaffiliated', marker='o', color='gray')\n",
        "\n",
        "plt.ylim([0, 80])\n",
        "plt.xlabel('Year')\n",
        "plt.ylabel('% of adults')\n",
        "plt.title('Religious affiliation of U.S adults')\n",
        "plt.legend();"
      ],
      "execution_count": 29,
      "outputs": [
        {
          "output_type": "display_data",
          "data": {
            "image/png": "[encoded data removed]",
            "text/plain": [
              "<Figure size 432x288 with 1 Axes>"
            ]
          },
          "metadata": {
            "tags": []
          }
        }
      ]
    },
    {
      "cell_type": "markdown",
      "metadata": {
        "id": "tqxe3YJI4q2a",
        "colab_type": "text"
      },
      "source": [
        "## Sandwiches\n",
        "\n",
        "In a previous notebook we used data from an article in *The Economist* comparing sandwich prices in Boston and London: \"[Why Americans pay more for lunch than Britons do](https://www.economist.com/finance-and-economics/2019/09/07/why-americans-pay-more-for-lunch-than-britons-do)\"\n",
        "\n",
        "The article includes this graph showing prices of several sandwiches in the two cities:\n",
        "\n",
        "<img src=\"https://github.com/AllenDowney/ElementsOfDataScience/raw/master/figs/20190907_FNC941.png\" width=\"400\"/>\n",
        "\n",
        "As an exercise, let's see if we can replicate this figure.\n",
        "\n",
        "Here's the data from the article again: the names of the sandwiches and the price list for each city."
      ]
    },
    {
      "cell_type": "code",
      "metadata": {
        "id": "zKnfwacG4q2b",
        "colab_type": "code",
        "colab": {}
      },
      "source": [
        "name_list = ['Lobster roll',\n",
        "    'Chicken caesar',\n",
        "    'Bang bang chicken',\n",
        "    'Ham and cheese',\n",
        "    'Tuna and cucumber',\n",
        "    'Egg'\n",
        "]"
      ],
      "execution_count": 0,
      "outputs": []
    },
    {
      "cell_type": "code",
      "metadata": {
        "id": "9al71zxP4q2f",
        "colab_type": "code",
        "colab": {}
      },
      "source": [
        "boston_price_list = [9.99, 7.99, 7.49, 7, 6.29, 4.99]"
      ],
      "execution_count": 0,
      "outputs": []
    },
    {
      "cell_type": "code",
      "metadata": {
        "id": "_a92AWqI4q2i",
        "colab_type": "code",
        "colab": {}
      },
      "source": [
        "london_price_list = [7.5, 5, 4.4, 5, 3.75, 2.25]"
      ],
      "execution_count": 0,
      "outputs": []
    },
    {
      "cell_type": "markdown",
      "metadata": {
        "id": "wX-gUOes4q2m",
        "colab_type": "text"
      },
      "source": [
        "In the previous section we plotted percentages on the `y` axis versus time on the `x` axis.  \n",
        "\n",
        "Now we want to plot the sandwich names on the `y` axis and the prices on the `x` axis.  Here's how:"
      ]
    },
    {
      "cell_type": "code",
      "metadata": {
        "id": "bnjVrpPW4q2n",
        "colab_type": "code",
        "colab": {
          "base_uri": "https://localhost:8080/",
          "height": 279
        },
        "outputId": "6a8e434a-21d7-43a6-db1a-10d17e9d60ad"
      },
      "source": [
        "plt.plot(boston_price_list, name_list)\n",
        "plt.xlabel('Price in USD');"
      ],
      "execution_count": 33,
      "outputs": [
        {
          "output_type": "display_data",
          "data": {
            "image/png": "[encoded data removed]",
            "text/plain": [
              "<Figure size 432x288 with 1 Axes>"
            ]
          },
          "metadata": {
            "tags": []
          }
        }
      ]
    },
    {
      "cell_type": "markdown",
      "metadata": {
        "id": "Ulb-pztk4q2q",
        "colab_type": "text"
      },
      "source": [
        "`name_list` is a list of strings; Pyplot orders them from top to bottom, equally spaced.\n",
        "\n",
        "By default Pyplot connects the points with lines, but in this example the lines don't make sense because the sandwich names are \"categorical\", not numerical.  You can't interpolate between an egg sandwich and a tuna sandwich.\n",
        "\n",
        "We can turn on markers and turn off lines with keyword arguments."
      ]
    },
    {
      "cell_type": "code",
      "metadata": {
        "id": "NysQW-534q2r",
        "colab_type": "code",
        "colab": {
          "base_uri": "https://localhost:8080/",
          "height": 279
        },
        "outputId": "2bc774e0-2d89-4017-bf82-3803f82d5ea3"
      },
      "source": [
        "plt.plot(boston_price_list, name_list, marker='o', linestyle='')\n",
        "plt.xlabel('Price in USD');"
      ],
      "execution_count": 34,
      "outputs": [
        {
          "output_type": "display_data",
          "data": {
            "image/png": "[encoded data removed]",
            "text/plain": [
              "<Figure size 432x288 with 1 Axes>"
            ]
          },
          "metadata": {
            "tags": []
          }
        }
      ]
    },
    {
      "cell_type": "markdown",
      "metadata": {
        "id": "6MnIc2KY4q2v",
        "colab_type": "text"
      },
      "source": [
        "Or we can do the same thing more concisely by providing a \"format string\" as a positional argument.  You can read the documentation of `plt.plot` to learn more about format strings.\n",
        "\n",
        "I added a title at the same time."
      ]
    },
    {
      "cell_type": "code",
      "metadata": {
        "id": "X129e1VX4q2w",
        "colab_type": "code",
        "colab": {
          "base_uri": "https://localhost:8080/",
          "height": 295
        },
        "outputId": "55ff8d56-e6f6-48ac-fddf-9afa5c27a08c"
      },
      "source": [
        "plt.plot(boston_price_list, name_list, 'o')\n",
        "plt.plot(london_price_list, name_list, 's')\n",
        "\n",
        "plt.xlabel('Price in USD')\n",
        "plt.title('Pret a Manger prices in Boston and London');"
      ],
      "execution_count": 35,
      "outputs": [
        {
          "output_type": "display_data",
          "data": {
            "image/png": "[encoded data removed]",
            "text/plain": [
              "<Figure size 432x288 with 1 Axes>"
            ]
          },
          "metadata": {
            "tags": []
          }
        }
      ]
    },
    {
      "cell_type": "markdown",
      "metadata": {
        "id": "1lMnvFTr4q2y",
        "colab_type": "text"
      },
      "source": [
        "To approximate the colors in the original figure, I use the strings `'C3'` and `'C0'` to specify colors from the default color sequence.  [You can read the documentation to learn more about specifying colors in Pyplot](https://matplotlib.org/3.1.1/tutorials/colors/colors.html)."
      ]
    },
    {
      "cell_type": "code",
      "metadata": {
        "id": "viP8gOKZ4q2z",
        "colab_type": "code",
        "colab": {
          "base_uri": "https://localhost:8080/",
          "height": 295
        },
        "outputId": "ba0d5c25-493c-466b-9c5b-de38877ef15d"
      },
      "source": [
        "plt.plot(boston_price_list, name_list, 'o', color='C3')\n",
        "plt.plot(london_price_list, name_list, 's', color='C0')\n",
        "\n",
        "plt.xlabel('Price in USD')\n",
        "plt.title('Pret a Manger prices in Boston and London');"
      ],
      "execution_count": 36,
      "outputs": [
        {
          "output_type": "display_data",
          "data": {
            "image/png": "[encoded data removed]",
            "text/plain": [
              "<Figure size 432x288 with 1 Axes>"
            ]
          },
          "metadata": {
            "tags": []
          }
        }
      ]
    },
    {
      "cell_type": "markdown",
      "metadata": {
        "id": "vjGVduoe4q22",
        "colab_type": "text"
      },
      "source": [
        "To connect the dots with lines, I use `plt.hlines`, which draws horizontal lines.  It takes three arguments: a sequence of values on the `y` axis, which are the sandwich names in this example, and two sequences of values on the `x` axis, which are the London prices and Boston prices in this example."
      ]
    },
    {
      "cell_type": "code",
      "metadata": {
        "id": "Z1s4NQ4t4q23",
        "colab_type": "code",
        "colab": {
          "base_uri": "https://localhost:8080/",
          "height": 295
        },
        "outputId": "29d23acb-8828-473e-d13e-f7b66272c1d5"
      },
      "source": [
        "plt.plot(boston_price_list, name_list, 'o', color='C3')\n",
        "plt.plot(london_price_list, name_list, 's', color='C0')\n",
        "\n",
        "plt.hlines(name_list, london_price_list, boston_price_list)\n",
        "\n",
        "plt.xlabel('Price in USD')\n",
        "plt.title('Pret a Manger prices in Boston and London');"
      ],
      "execution_count": 37,
      "outputs": [
        {
          "output_type": "display_data",
          "data": {
            "image/png": "[encoded data removed]",
            "text/plain": [
              "<Figure size 432x288 with 1 Axes>"
            ]
          },
          "metadata": {
            "tags": []
          }
        }
      ]
    },
    {
      "cell_type": "markdown",
      "metadata": {
        "id": "GvThsf_44q26",
        "colab_type": "text"
      },
      "source": [
        "**Exercise:** To finish off this example, add a legend that identifies the London and Boston prices.  Remember that you have to add a `label` keyword each time you call `plt.plot`, and then call `plt.legend`.\n",
        "\n",
        "Notice that the sandwiches in our figure are in the opposite order of the sandwiches in the original figure.  There is a Pyplot function that inverts the `y` axis; see if you can find it and use it to reverse the order of the sandwich list."
      ]
    },
    {
      "cell_type": "code",
      "metadata": {
        "id": "nxym0J8W4q2-",
        "colab_type": "code",
        "colab": {
          "base_uri": "https://localhost:8080/",
          "height": 295
        },
        "outputId": "23ef0fe1-14a5-40d3-ed2b-7e5e2929aef2"
      },
      "source": [
        "# Solution goes here\n",
        "plt.plot(boston_price_list, name_list, 'o', color='C3', label=\"Boston Price\")\n",
        "plt.plot(london_price_list, name_list, 's', color='C0', label=\"London Price\")\n",
        "\n",
        "plt.hlines(name_list, london_price_list, boston_price_list)\n",
        "\n",
        "plt.xlabel('Price in USD')\n",
        "plt.title('Pret a Manger prices in Boston and London');\n",
        "\n",
        "plt.legend()\n",
        "plt.gca().invert_yaxis()\n"
      ],
      "execution_count": 39,
      "outputs": [
        {
          "output_type": "display_data",
          "data": {
            "image/png": "[encoded data removed]",
            "text/plain": [
              "<Figure size 432x288 with 1 Axes>"
            ]
          },
          "metadata": {
            "tags": []
          }
        }
      ]
    },
    {
      "cell_type": "markdown",
      "metadata": {
        "id": "Ns3GU4I34q3B",
        "colab_type": "text"
      },
      "source": [
        "## Zipf's law\n",
        "\n",
        "In the previous notebook we downloaded *War and Peace* from [Project Gutenberg](https://www.gutenberg.org) and counted the number of lines and words.\n",
        "\n",
        "Then we used a dictionary to count the number of unique words and the number of times each one appears.\n",
        "\n",
        "Now we'll use those results to generate a \"Zipf plot\", which shows the frequency of the words on the `y` axis, ordered from the most common word to the least.\n",
        "\n",
        "First, let's download the book again.  If you run the following cell, it checks to see whether you already have a file named `2600-0.txt`; if not, it uses `wget` to copy a book from Project Gutenberg to your computer.  "
      ]
    },
    {
      "cell_type": "code",
      "metadata": {
        "id": "9Z3SdVWJ4q3B",
        "colab_type": "code",
        "colab": {}
      },
      "source": [
        "import os\n",
        "\n",
        "if not os.path.exists('2600-0.txt'):\n",
        "    !wget https://www.gutenberg.org/files/2600/2600-0.txt"
      ],
      "execution_count": 0,
      "outputs": []
    },
    {
      "cell_type": "markdown",
      "metadata": {
        "id": "b0NxTayg4q3E",
        "colab_type": "text"
      },
      "source": [
        "Here's the code from the previous notebook that loops through the book and makes a dictionary that contains all punctuation characters.  Again, you don't have to understand all of the details here."
      ]
    },
    {
      "cell_type": "code",
      "metadata": {
        "id": "Sr3ZlTtP4q3F",
        "colab_type": "code",
        "colab": {
          "base_uri": "https://localhost:8080/",
          "height": 34
        },
        "outputId": "d1775f10-e60f-44f8-c9e0-2df72c3d7025"
      },
      "source": [
        "import unicodedata\n",
        "\n",
        "fp = open('2600-0.txt')\n",
        "punc_marks = {}\n",
        "for line in fp:\n",
        "    for x in line:\n",
        "        category = unicodedata.category(x)\n",
        "        if category[0] == 'P':\n",
        "            punc_marks[x] = 1\n",
        "        \n",
        "all_punctuation = ''.join(punc_marks)\n",
        "print(all_punctuation)"
      ],
      "execution_count": 55,
      "outputs": [
        {
          "output_type": "stream",
          "text": [
            ",.-:[#]*/“’—‘!?”;()%@\n"
          ],
          "name": "stdout"
        }
      ]
    },
    {
      "cell_type": "markdown",
      "metadata": {
        "id": "Ns0j7yUC4q3L",
        "colab_type": "text"
      },
      "source": [
        "And here's a solution to one of the previous exercises.  It loops through the book and makes a dictionary that maps from each word to the number of times it appears."
      ]
    },
    {
      "cell_type": "code",
      "metadata": {
        "id": "tZ20d1xa4q3O",
        "colab_type": "code",
        "colab": {}
      },
      "source": [
        "# Solution goes here\n",
        "import string\n",
        "\n",
        "fp = open('2600-0.txt')\n",
        "unique_words = {}\n",
        "for line in fp:\n",
        "    for word in line.split():\n",
        "      word = word.lower()\n",
        "      word = word.strip(string.punctuation)\n",
        "      if word in unique_words:\n",
        "        unique_words[word] += 1\n",
        "      else:\n",
        "        unique_words[word] = 1"
      ],
      "execution_count": 0,
      "outputs": []
    },
    {
      "cell_type": "markdown",
      "metadata": {
        "id": "PPKmRFGR4q3V",
        "colab_type": "text"
      },
      "source": [
        "## Frequencies and ranks\n",
        "\n",
        "[According to Wikipedia](https://en.wikipedia.org/wiki/Zipf%27s_law), Zipf's law\n",
        "\n",
        ">was originally formulated in terms of quantitative linguistics, stating that given some corpus of natural language utterances, the frequency of any word is inversely proportional to its rank in the frequency table. Thus the most frequent word will occur approximately twice as often as the second most frequent word, three times as often as the third most frequent word, etc.\n",
        "\n",
        "To see if this law holds for the words in *War and Peace*, we'll make a plot that shows:\n",
        "\n",
        "* The frequency of each word on the `y` axis, and\n",
        "\n",
        "* The rank of each word on the `x` axis, where the rank of the most frequent word is 1, the rank of the frequent most common word is 2, etc."
      ]
    },
    {
      "cell_type": "markdown",
      "metadata": {
        "id": "BRuzKP4P4q3W",
        "colab_type": "text"
      },
      "source": [
        "In `unique_words`, the keys are words and the values are their frequencies.  We can use the `values` function to get the values from the dictionary.  The result has the type `dict_values`: "
      ]
    },
    {
      "cell_type": "code",
      "metadata": {
        "id": "DbWQVDd94q3X",
        "colab_type": "code",
        "colab": {
          "base_uri": "https://localhost:8080/",
          "height": 34
        },
        "outputId": "1bda9b33-f256-4849-cc77-3c055f4ff270"
      },
      "source": [
        "freqs = unique_words.values()\n",
        "type(freqs)"
      ],
      "execution_count": 60,
      "outputs": [
        {
          "output_type": "execute_result",
          "data": {
            "text/plain": [
              "dict_values"
            ]
          },
          "metadata": {
            "tags": []
          },
          "execution_count": 60
        }
      ]
    },
    {
      "cell_type": "markdown",
      "metadata": {
        "id": "rASAt9Re4q3a",
        "colab_type": "text"
      },
      "source": [
        "Before we plot them, we have to sort them, but the `sort` function doesn't work with `dict_values`:"
      ]
    },
    {
      "cell_type": "code",
      "metadata": {
        "id": "Ct7TT2k84q3d",
        "colab_type": "code",
        "colab": {
          "base_uri": "https://localhost:8080/",
          "height": 167
        },
        "outputId": "217300bc-f79e-4fb7-8eb8-7cffaeaaaf5c"
      },
      "source": [
        "freqs.sort()"
      ],
      "execution_count": 61,
      "outputs": [
        {
          "output_type": "error",
          "ename": "AttributeError",
          "evalue": "ignored",
          "traceback": [
            "\u001b[0;31m---------------------------------------------------------------------------\u001b[0m",
            "\u001b[0;31mAttributeError\u001b[0m                            Traceback (most recent call last)",
            "\u001b[0;32m<ipython-input-61-356f65ca4196>\u001b[0m in \u001b[0;36m<module>\u001b[0;34m()\u001b[0m\n\u001b[0;32m----> 1\u001b[0;31m \u001b[0mfreqs\u001b[0m\u001b[0;34m.\u001b[0m\u001b[0msort\u001b[0m\u001b[0;34m(\u001b[0m\u001b[0;34m)\u001b[0m\u001b[0;34m\u001b[0m\u001b[0;34m\u001b[0m\u001b[0m\n\u001b[0m",
            "\u001b[0;31mAttributeError\u001b[0m: 'dict_values' object has no attribute 'sort'"
          ]
        }
      ]
    },
    {
      "cell_type": "markdown",
      "metadata": {
        "id": "h_bll5be4q3h",
        "colab_type": "text"
      },
      "source": [
        "We can use `list` to make a list of frequencies:"
      ]
    },
    {
      "cell_type": "code",
      "metadata": {
        "id": "b8NuS-5X4q3i",
        "colab_type": "code",
        "colab": {
          "base_uri": "https://localhost:8080/",
          "height": 34
        },
        "outputId": "253ff3bd-80b0-4dc3-f983-31369b66b019"
      },
      "source": [
        "freqs = list(unique_words.values())\n",
        "type(freqs)"
      ],
      "execution_count": 62,
      "outputs": [
        {
          "output_type": "execute_result",
          "data": {
            "text/plain": [
              "list"
            ]
          },
          "metadata": {
            "tags": []
          },
          "execution_count": 62
        }
      ]
    },
    {
      "cell_type": "markdown",
      "metadata": {
        "id": "2M-mo5_s4q3m",
        "colab_type": "text"
      },
      "source": [
        "And the `sort` function works with lists.  By default it sorts in ascending order, but we can pass a keyword argument to reverse the order."
      ]
    },
    {
      "cell_type": "code",
      "metadata": {
        "id": "ujnI5Iqv4q3m",
        "colab_type": "code",
        "colab": {}
      },
      "source": [
        "freqs.sort(reverse=True)"
      ],
      "execution_count": 0,
      "outputs": []
    },
    {
      "cell_type": "markdown",
      "metadata": {
        "id": "yMnywPU_4q3q",
        "colab_type": "text"
      },
      "source": [
        "Now, for the ranks, we need a sequence that counts from 1 to `n`, where `n` is the number of elements in `freqs`.  We can use the `range` function, which returs a value with type `range`.\n",
        "\n",
        "As a small example, here's the range from 1 to 5."
      ]
    },
    {
      "cell_type": "code",
      "metadata": {
        "id": "xVLZ9U-m4q3r",
        "colab_type": "code",
        "colab": {
          "base_uri": "https://localhost:8080/",
          "height": 34
        },
        "outputId": "b7a8b93b-92ea-4600-9e4b-f87c0021d2c8"
      },
      "source": [
        "range(1, 5)"
      ],
      "execution_count": 64,
      "outputs": [
        {
          "output_type": "execute_result",
          "data": {
            "text/plain": [
              "range(1, 5)"
            ]
          },
          "metadata": {
            "tags": []
          },
          "execution_count": 64
        }
      ]
    },
    {
      "cell_type": "markdown",
      "metadata": {
        "id": "QBXneouE4q3u",
        "colab_type": "text"
      },
      "source": [
        "However, there's a catch.  If we use the range to make a list, we see that \"the range from 1 to 5\" includes 1, but it doesn't include 5."
      ]
    },
    {
      "cell_type": "code",
      "metadata": {
        "id": "v2s8NRkP4q3u",
        "colab_type": "code",
        "colab": {
          "base_uri": "https://localhost:8080/",
          "height": 34
        },
        "outputId": "7842dcf2-5e79-42c5-a27c-68874060eb84"
      },
      "source": [
        "list(range(1, 5))"
      ],
      "execution_count": 65,
      "outputs": [
        {
          "output_type": "execute_result",
          "data": {
            "text/plain": [
              "[1, 2, 3, 4]"
            ]
          },
          "metadata": {
            "tags": []
          },
          "execution_count": 65
        }
      ]
    },
    {
      "cell_type": "markdown",
      "metadata": {
        "id": "Z7j6OvH-4q3y",
        "colab_type": "text"
      },
      "source": [
        "That might seem strange, but it is [often more convenient](https://www.cs.utexas.edu/users/EWD/transcriptions/EWD08xx/EWD831.html) to use `range` when it is defined this way, rather than what might seem like the more natural way.\n",
        "\n",
        "Anyway, we can get what we want by increasing the second argument by one:"
      ]
    },
    {
      "cell_type": "code",
      "metadata": {
        "id": "nzZ-XUEV4q3z",
        "colab_type": "code",
        "colab": {
          "base_uri": "https://localhost:8080/",
          "height": 34
        },
        "outputId": "277cab48-a80e-49fd-f0a6-556b5c1bcb6d"
      },
      "source": [
        "list(range(1, 6))"
      ],
      "execution_count": 66,
      "outputs": [
        {
          "output_type": "execute_result",
          "data": {
            "text/plain": [
              "[1, 2, 3, 4, 5]"
            ]
          },
          "metadata": {
            "tags": []
          },
          "execution_count": 66
        }
      ]
    },
    {
      "cell_type": "markdown",
      "metadata": {
        "id": "ek-8llFK4q32",
        "colab_type": "text"
      },
      "source": [
        "So, finally, we can make a range that represents the ranks from `1` to `n`:"
      ]
    },
    {
      "cell_type": "code",
      "metadata": {
        "id": "PjphkrO24q34",
        "colab_type": "code",
        "colab": {
          "base_uri": "https://localhost:8080/",
          "height": 34
        },
        "outputId": "23401e42-cdca-4aff-df92-9b4425971142"
      },
      "source": [
        "n = len(freqs)\n",
        "ranks = range(1, n+1)\n",
        "ranks"
      ],
      "execution_count": 67,
      "outputs": [
        {
          "output_type": "execute_result",
          "data": {
            "text/plain": [
              "range(1, 25856)"
            ]
          },
          "metadata": {
            "tags": []
          },
          "execution_count": 67
        }
      ]
    },
    {
      "cell_type": "markdown",
      "metadata": {
        "id": "CVzH7b5d4q39",
        "colab_type": "text"
      },
      "source": [
        "And now we can plot the frequencies versus the ranks:"
      ]
    },
    {
      "cell_type": "code",
      "metadata": {
        "id": "8DibBgVh4q39",
        "colab_type": "code",
        "colab": {
          "base_uri": "https://localhost:8080/",
          "height": 295
        },
        "outputId": "2adcc418-721f-4b85-b8ac-9a16e4838eec"
      },
      "source": [
        "plt.plot(ranks, freqs)\n",
        "\n",
        "plt.xlabel('Rank')\n",
        "plt.ylabel('Frequency')\n",
        "plt.title(\"War and Peace and Zipf's law\");"
      ],
      "execution_count": 68,
      "outputs": [
        {
          "output_type": "display_data",
          "data": {
            "image/png": "[encoded data removed]",
            "text/plain": [
              "<Figure size 432x288 with 1 Axes>"
            ]
          },
          "metadata": {
            "tags": []
          }
        }
      ]
    },
    {
      "cell_type": "markdown",
      "metadata": {
        "id": "xBKihv5J4q4A",
        "colab_type": "text"
      },
      "source": [
        "## Logarithmic scales\n",
        "\n",
        "The few most common words are very common, and the great majority of words are much less common.  So that's consistent with Zipf's law, but Zipf's law is more specific.  It claims that the frequencies should be inversely proportional to the ranks.  If that's true, we can write the mathematical relation:\n",
        "\n",
        "$f = k / r$\n",
        "\n",
        "where $r$ is the rank of a word, $f$ is its frequency, and $k$ is an unknown constant of proportionality.  If we take the log of both sides, we get this relation:\n",
        "\n",
        "$\\log f = \\log k - \\log r$\n",
        "\n",
        "This relation implies that if we plot $f$ versus $r$ on a log-log scale, we expect to see a straight line with intercept at $\\log k$ and slope -1.\n",
        "\n",
        "We can use `plt.xscale` to plot the `x` axis on a log scale."
      ]
    },
    {
      "cell_type": "code",
      "metadata": {
        "id": "3NaUUShG4q4B",
        "colab_type": "code",
        "colab": {
          "base_uri": "https://localhost:8080/",
          "height": 299
        },
        "outputId": "bd6d3bc3-2ead-4c15-d3b4-0ad0c2610011"
      },
      "source": [
        "plt.plot(ranks, freqs)\n",
        "\n",
        "plt.xlabel('Rank')\n",
        "plt.ylabel('Frequency')\n",
        "plt.title(\"War and Peace and Zipf's law\")\n",
        "plt.xscale('log')"
      ],
      "execution_count": 69,
      "outputs": [
        {
          "output_type": "display_data",
          "data": {
            "image/png": "[encoded data removed]",
            "text/plain": [
              "<Figure size 432x288 with 1 Axes>"
            ]
          },
          "metadata": {
            "tags": []
          }
        }
      ]
    },
    {
      "cell_type": "markdown",
      "metadata": {
        "id": "GTsTqG7X4q4F",
        "colab_type": "text"
      },
      "source": [
        "And `plt.yscale` to plot the `y` axis on a log scale."
      ]
    },
    {
      "cell_type": "code",
      "metadata": {
        "id": "9MzkElgZ4q4G",
        "colab_type": "code",
        "colab": {
          "base_uri": "https://localhost:8080/",
          "height": 299
        },
        "outputId": "80be661f-a2f6-4664-92ba-25334b53d1d0"
      },
      "source": [
        "plt.plot(ranks, freqs)\n",
        "\n",
        "plt.xlabel('Rank')\n",
        "plt.ylabel('Frequency')\n",
        "plt.title(\"War and Peace and Zipf's law\")\n",
        "plt.xscale('log')\n",
        "plt.yscale('log')"
      ],
      "execution_count": 70,
      "outputs": [
        {
          "output_type": "display_data",
          "data": {
            "image/png": "[encoded data removed]",
            "text/plain": [
              "<Figure size 432x288 with 1 Axes>"
            ]
          },
          "metadata": {
            "tags": []
          }
        }
      ]
    },
    {
      "cell_type": "markdown",
      "metadata": {
        "id": "wvaiGRvq4q4I",
        "colab_type": "text"
      },
      "source": [
        "The result is not quite a straight line, but it is close.  We can get a sense of the slope by connecting the end points with a line."
      ]
    },
    {
      "cell_type": "code",
      "metadata": {
        "id": "9e8jqSJo4q4J",
        "colab_type": "code",
        "colab": {
          "base_uri": "https://localhost:8080/",
          "height": 34
        },
        "outputId": "2c244c12-b980-409d-a56c-98d2645f8588"
      },
      "source": [
        "xs = [ranks[0], ranks[-1]]\n",
        "xs"
      ],
      "execution_count": 71,
      "outputs": [
        {
          "output_type": "execute_result",
          "data": {
            "text/plain": [
              "[1, 25855]"
            ]
          },
          "metadata": {
            "tags": []
          },
          "execution_count": 71
        }
      ]
    },
    {
      "cell_type": "code",
      "metadata": {
        "id": "cG82mWNx4q4K",
        "colab_type": "code",
        "colab": {
          "base_uri": "https://localhost:8080/",
          "height": 34
        },
        "outputId": "326a1f6c-9bbc-4740-a76d-2aec34b0e816"
      },
      "source": [
        "ys = [freqs[0], freqs[-1]]\n",
        "ys"
      ],
      "execution_count": 72,
      "outputs": [
        {
          "output_type": "execute_result",
          "data": {
            "text/plain": [
              "[34300, 1]"
            ]
          },
          "metadata": {
            "tags": []
          },
          "execution_count": 72
        }
      ]
    },
    {
      "cell_type": "code",
      "metadata": {
        "id": "LMD2Emct4q4N",
        "colab_type": "code",
        "colab": {
          "base_uri": "https://localhost:8080/",
          "height": 299
        },
        "outputId": "7efcbd72-666b-449a-cdcd-92baa13c3788"
      },
      "source": [
        "plt.plot(xs, ys, color='gray')\n",
        "plt.plot(ranks, freqs)\n",
        "\n",
        "plt.xlabel('Rank')\n",
        "plt.ylabel('Frequency')\n",
        "plt.title(\"War and Peace and Zipf's law\")\n",
        "plt.xscale('log')\n",
        "plt.yscale('log')"
      ],
      "execution_count": 73,
      "outputs": [
        {
          "output_type": "display_data",
          "data": {
            "image/png": "[encoded data removed]",
            "text/plain": [
              "<Figure size 432x288 with 1 Axes>"
            ]
          },
          "metadata": {
            "tags": []
          }
        }
      ]
    },
    {
      "cell_type": "markdown",
      "metadata": {
        "id": "rwuYHjOw4q4Q",
        "colab_type": "text"
      },
      "source": [
        "The slope of this line is the \"rise over run\", that is, the difference on the `y` axis divided by the distance on the `x` axis.\n",
        "\n",
        "We can compute the rise using `np.log` to compute the log of the first and last values:"
      ]
    },
    {
      "cell_type": "code",
      "metadata": {
        "id": "1rdfalqL4q4U",
        "colab_type": "code",
        "colab": {
          "base_uri": "https://localhost:8080/",
          "height": 34
        },
        "outputId": "338c7966-3277-441f-c14e-17af54a5488e"
      },
      "source": [
        "np.log(ys)"
      ],
      "execution_count": 74,
      "outputs": [
        {
          "output_type": "execute_result",
          "data": {
            "text/plain": [
              "array([10.44290063,  0.        ])"
            ]
          },
          "metadata": {
            "tags": []
          },
          "execution_count": 74
        }
      ]
    },
    {
      "cell_type": "markdown",
      "metadata": {
        "id": "LUo3336b4q4X",
        "colab_type": "text"
      },
      "source": [
        "Then we can use `np.diff` to compute the difference between the elements:"
      ]
    },
    {
      "cell_type": "code",
      "metadata": {
        "id": "iyo7zzfO4q4a",
        "colab_type": "code",
        "colab": {
          "base_uri": "https://localhost:8080/",
          "height": 34
        },
        "outputId": "214178d9-f1c8-4657-b792-baee656b5d7a"
      },
      "source": [
        "np.diff(np.log(ys))"
      ],
      "execution_count": 75,
      "outputs": [
        {
          "output_type": "execute_result",
          "data": {
            "text/plain": [
              "array([-10.44290063])"
            ]
          },
          "metadata": {
            "tags": []
          },
          "execution_count": 75
        }
      ]
    },
    {
      "cell_type": "markdown",
      "metadata": {
        "id": "nmBVIrgp4q4e",
        "colab_type": "text"
      },
      "source": [
        "**Exercise:** Compute the run, that is, the difference between the logs of `xs`, and the slope of the grey line.  Is it close to -1, as Zipf's law predicts?"
      ]
    },
    {
      "cell_type": "code",
      "metadata": {
        "id": "K1IQsYCa4q4f",
        "colab_type": "code",
        "colab": {
          "base_uri": "https://localhost:8080/",
          "height": 34
        },
        "outputId": "b224d7ad-beaf-462d-b0ff-c4a2f40bf6f6"
      },
      "source": [
        "np.diff(np.log(ys)) / np.diff(np.log(xs))\n",
        "# It is!"
      ],
      "execution_count": 76,
      "outputs": [
        {
          "output_type": "execute_result",
          "data": {
            "text/plain": [
              "array([-1.02781832])"
            ]
          },
          "metadata": {
            "tags": []
          },
          "execution_count": 76
        }
      ]
    },
    {
      "cell_type": "code",
      "metadata": {
        "id": "gkEkcgy_4q4l",
        "colab_type": "code",
        "colab": {}
      },
      "source": [
        ""
      ],
      "execution_count": 0,
      "outputs": []
    }
  ]
}