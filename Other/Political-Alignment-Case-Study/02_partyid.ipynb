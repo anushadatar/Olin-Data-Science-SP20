{
  "nbformat": 4,
  "nbformat_minor": 0,
  "metadata": {
    "kernelspec": {
      "display_name": "Python 3",
      "language": "python",
      "name": "python3"
    },
    "language_info": {
      "codemirror_mode": {
        "name": "ipython",
        "version": 3
      },
      "file_extension": ".py",
      "mimetype": "text/x-python",
      "name": "python",
      "nbconvert_exporter": "python",
      "pygments_lexer": "ipython3",
      "version": "3.7.6"
    },
    "colab": {
      "name": "02_partyid.ipynb",
      "provenance": [],
      "collapsed_sections": [],
      "include_colab_link": true
    }
  },
  "cells": [
    {
      "cell_type": "markdown",
      "metadata": {
        "id": "view-in-github",
        "colab_type": "text"
      },
      "source": [
        "<a href=\"https://colab.research.google.com/github/anushadatar/Olin-Data-Science-SP20/blob/master/02_partyid.ipynb\" target=\"_parent\"><img src=\"https://colab.research.google.com/assets/colab-badge.svg\" alt=\"Open In Colab\"/></a>"
      ]
    },
    {
      "cell_type": "markdown",
      "metadata": {
        "id": "yaoe68gc7wbi",
        "colab_type": "text"
      },
      "source": [
        "# Political Alignment Case Study\n",
        "\n",
        "Allen Downey\n",
        "\n",
        "[MIT License](https://en.wikipedia.org/wiki/MIT_License)"
      ]
    },
    {
      "cell_type": "markdown",
      "metadata": {
        "id": "QN_FAIU07wbl",
        "colab_type": "text"
      },
      "source": [
        "### Introduction\n",
        "\n",
        "This is the second in a series of notebooks that make up a case study in exploratory data analysis.\n",
        "\n",
        "In this notebook, we:\n",
        "\n",
        "1. Look at responses to the variable `p`, which represent political alignment on a 7-point scale from liberal to conservative.\n",
        "\n",
        "2. Compare the distribution of responses in 1974 and 1990.\n",
        "\n",
        "3. Plot the mean and standard deviation of responses over time as a way of quantifying changes in political alignment and polarization.\n",
        "\n",
        "4. Use local regression to plot a smooth line through noisy data.\n",
        "\n",
        "5. Use cross tabulation to compute the fraction of respondents in each category over time.\n",
        "\n",
        "6. Plot the results using a custom color palette.\n",
        "\n",
        "As an exercise, you will look at changes in political party affiliation over the same period."
      ]
    },
    {
      "cell_type": "markdown",
      "metadata": {
        "id": "2_ZFND7D7wbm",
        "colab_type": "text"
      },
      "source": [
        "### Setup\n",
        "\n",
        "If you are running this notebook in Colab, the following cell downloads the `empiricaldist` library.\n",
        "\n",
        "If you are running in another environment, you will need to install it yourself."
      ]
    },
    {
      "cell_type": "code",
      "metadata": {
        "id": "hkAuXUrl7wbn",
        "colab_type": "code",
        "outputId": "aab83eca-0e01-48ba-a8fb-e0fdd29aaf73",
        "colab": {
          "base_uri": "https://localhost:8080/",
          "height": 168
        }
      },
      "source": [
        "# If we're running in Colab, set up the environment\n",
        "\n",
        "import sys\n",
        "IN_COLAB = 'google.colab' in sys.modules\n",
        "\n",
        "if IN_COLAB:\n",
        "    !pip install empiricaldist"
      ],
      "execution_count": 1,
      "outputs": [
        {
          "output_type": "stream",
          "text": [
            "Collecting empiricaldist\n",
            "  Downloading https://files.pythonhosted.org/packages/fc/4e/c66eef2f47b1f746fafa9a342814a343d06669da9904725fd9029874f95d/empiricaldist-0.3.4.tar.gz\n",
            "Building wheels for collected packages: empiricaldist\n",
            "  Building wheel for empiricaldist (setup.py) ... \u001b[?25l\u001b[?25hdone\n",
            "  Created wheel for empiricaldist: filename=empiricaldist-0.3.4-cp36-none-any.whl size=9201 sha256=89f3878216a34acf74418c3b71452faa841e2b140a6258851a428e388574b692\n",
            "  Stored in directory: /root/.cache/pip/wheels/ac/73/c9/8f65a5da21549c874a85614bff3413ddc0e441b9b0c73a823b\n",
            "Successfully built empiricaldist\n",
            "Installing collected packages: empiricaldist\n",
            "Successfully installed empiricaldist-0.3.4\n"
          ],
          "name": "stdout"
        }
      ]
    },
    {
      "cell_type": "markdown",
      "metadata": {
        "id": "78HrMqvN7wbs",
        "colab_type": "text"
      },
      "source": [
        "If everything we need is installed, the following cell should run without error."
      ]
    },
    {
      "cell_type": "code",
      "metadata": {
        "id": "sDVOumSz7wbt",
        "colab_type": "code",
        "colab": {}
      },
      "source": [
        "import pandas as pd\n",
        "import numpy as np\n",
        "import matplotlib.pyplot as plt\n",
        "import seaborn as sns\n",
        "\n",
        "from empiricaldist import Pmf"
      ],
      "execution_count": 0,
      "outputs": []
    },
    {
      "cell_type": "markdown",
      "metadata": {
        "id": "wuEHjAFu7wbx",
        "colab_type": "text"
      },
      "source": [
        "The following cell defines a function I use to decorate the axes in plots."
      ]
    },
    {
      "cell_type": "code",
      "metadata": {
        "id": "Nt6eYRM37wby",
        "colab_type": "code",
        "colab": {}
      },
      "source": [
        "def decorate(**options):\n",
        "    \"\"\"Decorate the current axes.\n",
        "    Call decorate with keyword arguments like\n",
        "    decorate(title='Title',\n",
        "             xlabel='x',\n",
        "             ylabel='y')\n",
        "    The keyword arguments can be any of the axis properties\n",
        "    https://matplotlib.org/api/axes_api.html\n",
        "    \"\"\"\n",
        "    plt.gca().set(**options)\n",
        "    plt.tight_layout()"
      ],
      "execution_count": 0,
      "outputs": []
    },
    {
      "cell_type": "markdown",
      "metadata": {
        "id": "QGhCwuWR7wb1",
        "colab_type": "text"
      },
      "source": [
        "### Loading the data\n",
        "\n",
        "In the previous notebook, we downloaded GSS data, loaded and cleaned it, resampled it to correct for stratified sampling, and then saved the data in an HDF5 file, which is much faster to load.  In this and the following notebooks, we'll download the HDF5 file and load it.\n",
        "\n",
        "The following cell downloads the file."
      ]
    },
    {
      "cell_type": "code",
      "metadata": {
        "id": "Jnts8HcN7wb3",
        "colab_type": "code",
        "outputId": "342fea00-ea70-4144-d6a0-9b279a73156e",
        "colab": {
          "base_uri": "https://localhost:8080/",
          "height": 286
        }
      },
      "source": [
        "# Load the data file\n",
        "\n",
        "import os\n",
        "\n",
        "datafile = 'gss_eda.3.hdf5'\n",
        "if not os.path.exists(datafile):\n",
        "    !wget https://github.com/AllenDowney/PoliticalAlignmentCaseStudy/raw/master/gss_eda.3.hdf5\n"
      ],
      "execution_count": 4,
      "outputs": [
        {
          "output_type": "stream",
          "text": [
            "--2020-02-12 04:58:55--  https://github.com/AllenDowney/PoliticalAlignmentCaseStudy/raw/master/gss_eda.3.hdf5\n",
            "Resolving github.com (github.com)... 140.82.114.3\n",
            "Connecting to github.com (github.com)|140.82.114.3|:443... connected.\n",
            "HTTP request sent, awaiting response... 302 Found\n",
            "Location: https://raw.githubusercontent.com/AllenDowney/PoliticalAlignmentCaseStudy/master/gss_eda.3.hdf5 [following]\n",
            "--2020-02-12 04:58:55--  https://raw.githubusercontent.com/AllenDowney/PoliticalAlignmentCaseStudy/master/gss_eda.3.hdf5\n",
            "Resolving raw.githubusercontent.com (raw.githubusercontent.com)... 151.101.0.133, 151.101.64.133, 151.101.128.133, ...\n",
            "Connecting to raw.githubusercontent.com (raw.githubusercontent.com)|151.101.0.133|:443... connected.\n",
            "HTTP request sent, awaiting response... 200 OK\n",
            "Length: 19281025 (18M) [application/octet-stream]\n",
            "Saving to: ‘gss_eda.3.hdf5’\n",
            "\n",
            "gss_eda.3.hdf5      100%[===================>]  18.39M   100MB/s    in 0.2s    \n",
            "\n",
            "2020-02-12 04:58:56 (100 MB/s) - ‘gss_eda.3.hdf5’ saved [19281025/19281025]\n",
            "\n"
          ],
          "name": "stdout"
        }
      ]
    },
    {
      "cell_type": "markdown",
      "metadata": {
        "id": "3tpkzFU17wb7",
        "colab_type": "text"
      },
      "source": [
        "This file contains three DataFrames containing resamples of the GSS data.  We'll work with the first resampling, `gss0`, to get started; at the end of this notebook, we'll see the other two as well."
      ]
    },
    {
      "cell_type": "code",
      "metadata": {
        "id": "SPPX56V67wb8",
        "colab_type": "code",
        "outputId": "deb8ccf3-9d9a-4496-daad-0c05d367a6f3",
        "colab": {
          "base_uri": "https://localhost:8080/",
          "height": 34
        }
      },
      "source": [
        "gss = pd.read_hdf(datafile, 'gss0')\n",
        "gss.shape"
      ],
      "execution_count": 67,
      "outputs": [
        {
          "output_type": "execute_result",
          "data": {
            "text/plain": [
              "(64814, 165)"
            ]
          },
          "metadata": {
            "tags": []
          },
          "execution_count": 67
        }
      ]
    },
    {
      "cell_type": "markdown",
      "metadata": {
        "id": "Z7LuIebO7wcA",
        "colab_type": "text"
      },
      "source": [
        "## Political alignment\n",
        "\n",
        "The people surveyed as part of the GSS were asked about their \"political alignment\", which is where they place themselves on a spectrum from liberal to conservative.\n",
        "\n",
        "The variable `partyid` contains responses to the [following question](https://gssdataexplorer.norc.org/projects/52787/variables/178/vshow):\n",
        "\n",
        "> We hear a lot of talk these days about liberals and conservatives. \n",
        "I'm going to show you a seven-point scale on which the political views that people might hold are arranged from extremely liberal--point 1--to extremely conservative--point 7. Where would you place yourself on this scale?"
      ]
    },
    {
      "cell_type": "markdown",
      "metadata": {
        "id": "636s6AUT7wcB",
        "colab_type": "text"
      },
      "source": [
        "Here are the valid responses:\n",
        "\n",
        "```\n",
        "1\tExtremely liberal\n",
        "2\tLiberal\n",
        "3\tSlightly liberal\n",
        "4\tModerate\n",
        "5\tSlightly conservative\n",
        "6\tConservative\n",
        "7\tExtremely conservative\n",
        "```\n",
        "\n",
        "To see how the responses have changed over time, we'll inspect them at the beginning and end of the observation period.\n",
        "\n",
        "First I'll select the column."
      ]
    },
    {
      "cell_type": "code",
      "metadata": {
        "id": "cg8ex8Ac7wcC",
        "colab_type": "code",
        "colab": {}
      },
      "source": [
        "partyid = gss['partyid']"
      ],
      "execution_count": 0,
      "outputs": []
    },
    {
      "cell_type": "markdown",
      "metadata": {
        "id": "I48hSuUP7wcF",
        "colab_type": "text"
      },
      "source": [
        "Then compute a Boolean Series that's `True` for responses from 1974."
      ]
    },
    {
      "cell_type": "code",
      "metadata": {
        "id": "bnSJyjzn7wcG",
        "colab_type": "code",
        "colab": {}
      },
      "source": [
        "year74 = (gss['year'] == 1974)"
      ],
      "execution_count": 0,
      "outputs": []
    },
    {
      "cell_type": "markdown",
      "metadata": {
        "id": "zkhWnhC27wcJ",
        "colab_type": "text"
      },
      "source": [
        "Now we can select the responses from 1974."
      ]
    },
    {
      "cell_type": "code",
      "metadata": {
        "id": "iziKgCUX7wcK",
        "colab_type": "code",
        "colab": {}
      },
      "source": [
        "partyid74 = partyid[year74]"
      ],
      "execution_count": 0,
      "outputs": []
    },
    {
      "cell_type": "markdown",
      "metadata": {
        "id": "xmsnt5pL7wcN",
        "colab_type": "text"
      },
      "source": [
        "As in the previous notebook, we'll use `values` to plot the values in the series and their frequencies."
      ]
    },
    {
      "cell_type": "code",
      "metadata": {
        "id": "Jeg4krxx7wcO",
        "colab_type": "code",
        "colab": {}
      },
      "source": [
        "def values(series):\n",
        "    \"\"\"Count the values and sort.\n",
        "    \n",
        "    series: pd.Series\n",
        "    \n",
        "    returns: series mapping from values to frequencies\n",
        "    \"\"\"\n",
        "    return series.value_counts().sort_index()"
      ],
      "execution_count": 0,
      "outputs": []
    },
    {
      "cell_type": "markdown",
      "metadata": {
        "id": "6X18_W1f7wcS",
        "colab_type": "text"
      },
      "source": [
        "Here are the responses from 1974."
      ]
    },
    {
      "cell_type": "code",
      "metadata": {
        "id": "mskv2tAw7wcT",
        "colab_type": "code",
        "outputId": "33ac8564-7d91-4cea-9645-9efa35819125",
        "colab": {
          "base_uri": "https://localhost:8080/",
          "height": 168
        }
      },
      "source": [
        "\n",
        "values(partyid74)"
      ],
      "execution_count": 72,
      "outputs": [
        {
          "output_type": "execute_result",
          "data": {
            "text/plain": [
              "0.0    273\n",
              "1.0    394\n",
              "2.0    173\n",
              "3.0    130\n",
              "4.0    102\n",
              "5.0    203\n",
              "6.0    112\n",
              "7.0     68\n",
              "Name: partyid, dtype: int64"
            ]
          },
          "metadata": {
            "tags": []
          },
          "execution_count": 72
        }
      ]
    },
    {
      "cell_type": "markdown",
      "metadata": {
        "id": "5Plf49137wcW",
        "colab_type": "text"
      },
      "source": [
        "And here are the responses from 2018."
      ]
    },
    {
      "cell_type": "code",
      "metadata": {
        "id": "bn2Ii2tQ7wcX",
        "colab_type": "code",
        "outputId": "d83111a6-5b3d-4832-c1ca-5a3fb9bc1d2e",
        "colab": {
          "base_uri": "https://localhost:8080/",
          "height": 168
        }
      },
      "source": [
        "year18 = (gss['year'] == 2018)\n",
        "partyid18 = partyid[year18]\n",
        "values(partyid18)"
      ],
      "execution_count": 73,
      "outputs": [
        {
          "output_type": "execute_result",
          "data": {
            "text/plain": [
              "0.0    318\n",
              "1.0    367\n",
              "2.0    313\n",
              "3.0    408\n",
              "4.0    290\n",
              "5.0    276\n",
              "6.0    249\n",
              "7.0     89\n",
              "Name: partyid, dtype: int64"
            ]
          },
          "metadata": {
            "tags": []
          },
          "execution_count": 73
        }
      ]
    },
    {
      "cell_type": "markdown",
      "metadata": {
        "id": "ueHC9h627wcb",
        "colab_type": "text"
      },
      "source": [
        "## PMFs\n",
        "\n",
        "To visualize these distributions, we'll use the Probability Mass Function (PMF), which is similar to a histogram.  The difference is that the PMF is \"normalized\", which means that it shows the percentage of people who gave each response, rather than the number.\n",
        "\n",
        "I use the `Pmf` class from `empiricaldist` to compute them."
      ]
    },
    {
      "cell_type": "code",
      "metadata": {
        "id": "iqChFPZn7wcc",
        "colab_type": "code",
        "colab": {}
      },
      "source": [
        "from empiricaldist import Pmf"
      ],
      "execution_count": 0,
      "outputs": []
    },
    {
      "cell_type": "markdown",
      "metadata": {
        "id": "XaukFBqg7wcf",
        "colab_type": "text"
      },
      "source": [
        "Here's the distribution from 1974:"
      ]
    },
    {
      "cell_type": "code",
      "metadata": {
        "id": "EHO5sDLe7wcg",
        "colab_type": "code",
        "outputId": "eb5d71b5-4fc8-4a2a-c646-6f52df6154df",
        "colab": {
          "base_uri": "https://localhost:8080/",
          "height": 297
        }
      },
      "source": [
        "pmf74 = Pmf.from_seq(partyid74)\n",
        "pmf74.bar(label='1974', color='C0', alpha=0.7)\n",
        "\n",
        "decorate(xlabel='Political view on a 7-point scale',\n",
        "         ylabel='Fraction of population',\n",
        "         title='Distribution of political views')\n",
        "\n",
        "plt.legend();"
      ],
      "execution_count": 75,
      "outputs": [
        {
          "output_type": "display_data",
          "data": {
            "image/png": "[encoded data removed]",
            "text/plain": [
              "<Figure size 432x288 with 1 Axes>"
            ]
          },
          "metadata": {
            "tags": []
          }
        }
      ]
    },
    {
      "cell_type": "markdown",
      "metadata": {
        "id": "kCXs7TqR7wcj",
        "colab_type": "text"
      },
      "source": [
        "Here's the distribution from 1974:"
      ]
    },
    {
      "cell_type": "code",
      "metadata": {
        "id": "KKzRynUT7wck",
        "colab_type": "code",
        "outputId": "190524c9-c50b-4642-e4a1-bc04cd9cdfe0",
        "colab": {
          "base_uri": "https://localhost:8080/",
          "height": 297
        }
      },
      "source": [
        "pmf18 = Pmf.from_seq(partyid18)\n",
        "pmf18.bar(label='2018', color='C1', alpha=0.7)\n",
        "\n",
        "decorate(xlabel='Political view on a 7-point scale',\n",
        "         ylabel='Fraction of population',\n",
        "         title='Distribution of political views')\n",
        "\n",
        "plt.legend();"
      ],
      "execution_count": 76,
      "outputs": [
        {
          "output_type": "display_data",
          "data": {
            "image/png": "[encoded data removed]",
            "text/plain": [
              "<Figure size 432x288 with 1 Axes>"
            ]
          },
          "metadata": {
            "tags": []
          }
        }
      ]
    },
    {
      "cell_type": "markdown",
      "metadata": {
        "id": "9u_A1wJq7wco",
        "colab_type": "text"
      },
      "source": [
        "In both cases, the most common response is `4`, which is the code for \"moderate\".  And few respondents describe themselves as \"extremely\" liberal or conservative.\n",
        "\n",
        "So maybe we're not so polarized after all.\n",
        "\n",
        "To make it easier to compare the distributions, I'll plot them side by side.  "
      ]
    },
    {
      "cell_type": "code",
      "metadata": {
        "id": "WG19VVLd7wcp",
        "colab_type": "code",
        "outputId": "92d6b36f-c739-4a0e-9e4b-16f5fe51ad92",
        "colab": {
          "base_uri": "https://localhost:8080/",
          "height": 297
        }
      },
      "source": [
        "pmf74.bar(label='1974', width=-0.45, align='edge', alpha=0.7)\n",
        "\n",
        "pmf18.bar(label='2018', width=0.45, align='edge', alpha=0.7)\n",
        "\n",
        "decorate(xlabel='Political view on a 7-point scale',\n",
        "         ylabel='Fraction of population',\n",
        "         title='Distribution of political views')\n",
        "\n",
        "plt.legend();"
      ],
      "execution_count": 77,
      "outputs": [
        {
          "output_type": "display_data",
          "data": {
            "image/png": "[encoded data removed]",
            "text/plain": [
              "<Figure size 432x288 with 1 Axes>"
            ]
          },
          "metadata": {
            "tags": []
          }
        }
      ]
    },
    {
      "cell_type": "markdown",
      "metadata": {
        "id": "rXgtw9bw7wcs",
        "colab_type": "text"
      },
      "source": [
        "Now we can see the changes in the distribution more clearly.  It looks like the number of people at the extremes (1 and 7) has increased, and the fraction of liberal (2) and slightly liberal (3) has decreased."
      ]
    },
    {
      "cell_type": "markdown",
      "metadata": {
        "id": "ICBHouU97wct",
        "colab_type": "text"
      },
      "source": [
        "**Exercise:** To summarize these changes, we can compare the mean and standard deviation of `partyid` in 1974 and 2018.\n",
        "\n",
        "The mean of the responses measures the balance of people in the population with liberal or conservative leanings.  If the mean increases over time, that might indicate a shift in the population toward conservatism.\n",
        "\n",
        "The standard deviation measures the dispersion of views in the population; if it increases over time, that might indicate an increase in polarization.\n",
        "\n",
        "Compute the mean and standard deviation of `partyid74` and `partyid18`.\n",
        "\n",
        "What do they indicate about changes over this interval?"
      ]
    },
    {
      "cell_type": "code",
      "metadata": {
        "id": "VinuDvU97wcu",
        "colab_type": "code",
        "outputId": "333bf75f-7303-4d5f-acf9-168891950c58",
        "colab": {
          "base_uri": "https://localhost:8080/",
          "height": 50
        }
      },
      "source": [
        "# Solution goes here\n",
        "print(partyid74.mean())\n",
        "partyid74.std()"
      ],
      "execution_count": 78,
      "outputs": [
        {
          "output_type": "stream",
          "text": [
            "2.543642520904541\n"
          ],
          "name": "stdout"
        },
        {
          "output_type": "execute_result",
          "data": {
            "text/plain": [
              "2.1804733276367188"
            ]
          },
          "metadata": {
            "tags": []
          },
          "execution_count": 78
        }
      ]
    },
    {
      "cell_type": "code",
      "metadata": {
        "id": "_wcGT38X7wcy",
        "colab_type": "code",
        "outputId": "561748fe-f2b1-4edb-e815-aaef19ab5968",
        "colab": {
          "base_uri": "https://localhost:8080/",
          "height": 50
        }
      },
      "source": [
        "# Solution goes here\n",
        "print(partyid18.mean())\n",
        "partyid18.std()"
      ],
      "execution_count": 79,
      "outputs": [
        {
          "output_type": "stream",
          "text": [
            "2.975757598876953\n"
          ],
          "name": "stdout"
        },
        {
          "output_type": "execute_result",
          "data": {
            "text/plain": [
              "2.049697160720825"
            ]
          },
          "metadata": {
            "tags": []
          },
          "execution_count": 79
        }
      ]
    },
    {
      "cell_type": "code",
      "metadata": {
        "id": "yZw8W5tK7wc0",
        "colab_type": "code",
        "colab": {}
      },
      "source": [
        "# Solution goes here\n",
        "# The standard deviation has decreased a little, suggesting people might have slightly\n",
        "# less extreme party leanings..."
      ],
      "execution_count": 0,
      "outputs": []
    },
    {
      "cell_type": "markdown",
      "metadata": {
        "id": "pCdm9L5b7wc3",
        "colab_type": "text"
      },
      "source": [
        "## Time series\n",
        "\n",
        "At this point we have looked at the endpoints, 1974 and 2018, but we don't know what happened in between.\n",
        "\n",
        "To see how the distribution changes over time, we can group by year and compute the mean of `partyid` during each year.\n",
        "\n",
        "First I'll use `groupby` to group the respondents by year."
      ]
    },
    {
      "cell_type": "code",
      "metadata": {
        "id": "csoWJIdV7wc4",
        "colab_type": "code",
        "outputId": "f4ba3c12-2407-4c9e-db62-bb85d73433ba",
        "colab": {
          "base_uri": "https://localhost:8080/",
          "height": 34
        }
      },
      "source": [
        "gss_by_year = gss.groupby('year')\n",
        "gss_by_year"
      ],
      "execution_count": 81,
      "outputs": [
        {
          "output_type": "execute_result",
          "data": {
            "text/plain": [
              "<pandas.core.groupby.generic.DataFrameGroupBy object at 0x7f50dcf8ecc0>"
            ]
          },
          "metadata": {
            "tags": []
          },
          "execution_count": 81
        }
      ]
    },
    {
      "cell_type": "markdown",
      "metadata": {
        "id": "MeMUffWm7wc6",
        "colab_type": "text"
      },
      "source": [
        "The result is a `DataFrameGroupBy` value that represents a collection of groups.  We can loop through the groups and display the number of respondents in each:"
      ]
    },
    {
      "cell_type": "code",
      "metadata": {
        "id": "KbD-aNOI7wc7",
        "colab_type": "code",
        "outputId": "02e9c11e-53b6-499c-ba98-ae45e50f055c",
        "colab": {
          "base_uri": "https://localhost:8080/",
          "height": 554
        }
      },
      "source": [
        "for year, group in gss_by_year:\n",
        "    print(year, len(group))"
      ],
      "execution_count": 82,
      "outputs": [
        {
          "output_type": "stream",
          "text": [
            "1972 1613\n",
            "1973 1504\n",
            "1974 1484\n",
            "1975 1490\n",
            "1976 1499\n",
            "1977 1530\n",
            "1978 1532\n",
            "1980 1468\n",
            "1982 1860\n",
            "1983 1599\n",
            "1984 1473\n",
            "1985 1534\n",
            "1986 1470\n",
            "1987 1819\n",
            "1988 1481\n",
            "1989 1537\n",
            "1990 1372\n",
            "1991 1517\n",
            "1993 1606\n",
            "1994 2992\n",
            "1996 2904\n",
            "1998 2832\n",
            "2000 2817\n",
            "2002 2765\n",
            "2004 2812\n",
            "2006 4510\n",
            "2008 2023\n",
            "2010 2044\n",
            "2012 1974\n",
            "2014 2538\n",
            "2016 2867\n",
            "2018 2348\n"
          ],
          "name": "stdout"
        }
      ]
    },
    {
      "cell_type": "markdown",
      "metadata": {
        "id": "0-LBGvaA7wc-",
        "colab_type": "text"
      },
      "source": [
        "In many ways the `DataFrameGroupBy` behaves like a DataFrame.  We can use the bracket operator to select a column: "
      ]
    },
    {
      "cell_type": "code",
      "metadata": {
        "id": "cIj_Pvlc7wdG",
        "colab_type": "code",
        "outputId": "aaaaea76-8c32-4add-c4db-0c01d8732839",
        "colab": {
          "base_uri": "https://localhost:8080/",
          "height": 34
        }
      },
      "source": [
        "partyid_by_year = gss_by_year['partyid']\n",
        "partyid_by_year"
      ],
      "execution_count": 83,
      "outputs": [
        {
          "output_type": "execute_result",
          "data": {
            "text/plain": [
              "<pandas.core.groupby.generic.SeriesGroupBy object at 0x7f50dcad0470>"
            ]
          },
          "metadata": {
            "tags": []
          },
          "execution_count": 83
        }
      ]
    },
    {
      "cell_type": "markdown",
      "metadata": {
        "id": "pb0AcThg7wdL",
        "colab_type": "text"
      },
      "source": [
        "A column from a `DataFrameGroupBy` is a `SeriesGroupBy`.  If we invoke `mean` on it, the results is a series that contains the mean of `partyid` for each year of the survey."
      ]
    },
    {
      "cell_type": "code",
      "metadata": {
        "id": "UhZpg5rp7wdM",
        "colab_type": "code",
        "colab": {}
      },
      "source": [
        "mean_series = partyid_by_year.mean()"
      ],
      "execution_count": 0,
      "outputs": []
    },
    {
      "cell_type": "markdown",
      "metadata": {
        "id": "j0UGR7JA7wdQ",
        "colab_type": "text"
      },
      "source": [
        "And here's what it looks like."
      ]
    },
    {
      "cell_type": "code",
      "metadata": {
        "id": "1Ub_elUZ7wdR",
        "colab_type": "code",
        "outputId": "7cb29e52-6a64-49a7-bd77-9fdc70ae9966",
        "colab": {
          "base_uri": "https://localhost:8080/",
          "height": 297
        }
      },
      "source": [
        "mean_series.plot(color='C2', label='partyid')\n",
        "decorate(xlabel='Year', \n",
        "         ylabel='Mean (7 point scale)',\n",
        "         title='Mean of partyid')"
      ],
      "execution_count": 85,
      "outputs": [
        {
          "output_type": "display_data",
          "data": {
            "image/png": "[encoded data removed]",
            "text/plain": [
              "<Figure size 432x288 with 1 Axes>"
            ]
          },
          "metadata": {
            "tags": []
          }
        }
      ]
    },
    {
      "cell_type": "markdown",
      "metadata": {
        "id": "CXU16zAx7wdW",
        "colab_type": "text"
      },
      "source": [
        "**Exercise:** The standard deviation quantifies the spread of the distribution, which is one way to measure polarization.\n",
        "\n",
        "Plot standard deviation of `partyid` for each year of the survey from 1972 to 2018.\n",
        "\n",
        "Does it show evidence of increasing polarization?"
      ]
    },
    {
      "cell_type": "code",
      "metadata": {
        "id": "_FswC5tk7wdY",
        "colab_type": "code",
        "outputId": "e5670caf-e6be-4aaf-ae5d-e5f122fedc1c",
        "colab": {
          "base_uri": "https://localhost:8080/",
          "height": 297
        }
      },
      "source": [
        "# Solution goes here\n",
        "std_series = partyid_by_year.std()\n",
        "std_series.plot(color='C2', label='partyid')\n",
        "decorate(xlabel='Year', \n",
        "         ylabel='Standard Deviation (7 point scale)',\n",
        "         title='Standard Deviation of Party Identification')\n",
        "# It does show absolute delta in party identification, but a lot of fluctuation."
      ],
      "execution_count": 86,
      "outputs": [
        {
          "output_type": "display_data",
          "data": {
            "image/png": "[encoded data removed]",
            "text/plain": [
              "<Figure size 432x288 with 1 Axes>"
            ]
          },
          "metadata": {
            "tags": []
          }
        }
      ]
    },
    {
      "cell_type": "markdown",
      "metadata": {
        "id": "y6CFiESy7wdc",
        "colab_type": "text"
      },
      "source": [
        "### Local regression\n",
        "\n",
        "In the previous section we plotted mean and standard deviation of `partyid` over time.  Both plots are quite noisy.\n",
        "\n",
        "We can use [local regression](https://en.wikipedia.org/wiki/Local_regression) to compute a smooth line through these data points.  \n",
        "\n",
        "The following function takes a Pandas Series and uses and algorithm called LOWESS to compute a smooth line.  LOWESS stands for \"locally weighted scatterplot smoothing\"."
      ]
    },
    {
      "cell_type": "code",
      "metadata": {
        "id": "DQBmnNZN7wdd",
        "colab_type": "code",
        "colab": {}
      },
      "source": [
        "from statsmodels.nonparametric.smoothers_lowess import lowess\n",
        "\n",
        "def make_lowess(series):\n",
        "    \"\"\"Use LOWESS to compute a smooth line.\n",
        "    \n",
        "    series: pd.Series\n",
        "    \n",
        "    returns: pd.Series\n",
        "    \"\"\"\n",
        "    y = series.values\n",
        "    x = series.index.values\n",
        "\n",
        "    smooth = lowess(y, x)\n",
        "    index, data = np.transpose(smooth)\n",
        "\n",
        "    return pd.Series(data, index=index) "
      ],
      "execution_count": 0,
      "outputs": []
    },
    {
      "cell_type": "markdown",
      "metadata": {
        "id": "EUzzunIi7wdg",
        "colab_type": "text"
      },
      "source": [
        "We'll use the following function to plot data points and the smoothed line."
      ]
    },
    {
      "cell_type": "code",
      "metadata": {
        "id": "l_F7bzxf7wdh",
        "colab_type": "code",
        "colab": {}
      },
      "source": [
        "def plot_series_lowess(series, color):\n",
        "    \"\"\"Plots a series of data points and a smooth line.\n",
        "    \n",
        "    series: pd.Series\n",
        "    color: string or tuple\n",
        "    \"\"\"\n",
        "    series.plot(linewidth=0, marker='o', color=color, alpha=0.5)\n",
        "    smooth = make_lowess(series)\n",
        "    smooth.plot(label='_', color=color)"
      ],
      "execution_count": 0,
      "outputs": []
    },
    {
      "cell_type": "markdown",
      "metadata": {
        "id": "sKA4U5597wdl",
        "colab_type": "text"
      },
      "source": [
        "The following figure shows the mean of `partyid` and a smooth line."
      ]
    },
    {
      "cell_type": "code",
      "metadata": {
        "id": "n9Pxl8ZV7wdm",
        "colab_type": "code",
        "outputId": "0add2c4a-3b44-418e-82c4-402cdcdbc64a",
        "colab": {
          "base_uri": "https://localhost:8080/",
          "height": 297
        }
      },
      "source": [
        "mean_series = gss_by_year['partyid'].mean()\n",
        "plot_series_lowess(mean_series, 'C2')\n",
        "decorate(ylabel='Mean (7 point scale)',\n",
        "         title='Mean of Party Identification',\n",
        "         xlabel='Year',\n",
        "         xlim=[1972, 2020])"
      ],
      "execution_count": 89,
      "outputs": [
        {
          "output_type": "display_data",
          "data": {
            "image/png": "[encoded data removed]",
            "text/plain": [
              "<Figure size 432x288 with 1 Axes>"
            ]
          },
          "metadata": {
            "tags": []
          }
        }
      ]
    },
    {
      "cell_type": "markdown",
      "metadata": {
        "id": "nCCKeOnB7wdo",
        "colab_type": "text"
      },
      "source": [
        "One reason the PMFs for 1974 and 2018 did not look very different is that the mean seems to have gone up (more conservative) and then down again (more liberal).\n",
        "\n",
        "Generally, it looks like the U.S. has been trending toward liberal for the last 20 years, or more, at least in the sense of how people describe themselves."
      ]
    },
    {
      "cell_type": "markdown",
      "metadata": {
        "id": "nYCFOItb7wdp",
        "colab_type": "text"
      },
      "source": [
        "**Exercise:** Use `plot_series_lowess` to plot the standard deviation of `partyid` with a smooth line."
      ]
    },
    {
      "cell_type": "code",
      "metadata": {
        "id": "IDkTLkji7wdq",
        "colab_type": "code",
        "outputId": "b69fc481-5dc2-4b17-cf1a-e644d8cde9e2",
        "colab": {
          "base_uri": "https://localhost:8080/",
          "height": 297
        }
      },
      "source": [
        "# Solution goes here\n",
        "std_series = gss_by_year['partyid'].std()\n",
        "plot_series_lowess(std_series, 'C2')\n",
        "decorate(ylabel='Standard Deviation (7 point scale)',\n",
        "         title='Standard Deviation of Party Identification',\n",
        "         xlabel='Year',\n",
        "         xlim=[1972, 2020])"
      ],
      "execution_count": 90,
      "outputs": [
        {
          "output_type": "display_data",
          "data": {
            "image/png": "[encoded data removed]",
            "text/plain": [
              "<Figure size 432x288 with 1 Axes>"
            ]
          },
          "metadata": {
            "tags": []
          }
        }
      ]
    },
    {
      "cell_type": "markdown",
      "metadata": {
        "id": "eUhqShrC7wdt",
        "colab_type": "text"
      },
      "source": [
        "## Cross tabulation\n",
        "\n",
        "In the previous sections, we treated `partyid` as a numerical quantity, so we were able to compute means and standard deviations.\n",
        "\n",
        "But the responses are really categorical, which means that each value represents a discrete category, like \"liberal\" or \"conservative\".  \n",
        "\n",
        "In this section, we'll treat `partyid` as a categorical variable.  Specifically, we'll compute the number of respondents in each category for each year, and plot changes over time.\n",
        "\n",
        "Pandas provides a function called `crosstab` that computes a [cross tabulation](https://en.wikipedia.org/wiki/Contingency_table).\n",
        "\n",
        "It takes two Series as arguments and returns a DataFrame."
      ]
    },
    {
      "cell_type": "code",
      "metadata": {
        "id": "RFln_SGt7wdu",
        "colab_type": "code",
        "colab": {}
      },
      "source": [
        "year = gss['year']\n",
        "column = gss['partyid']\n",
        "\n",
        "xtab = pd.crosstab(year, column)"
      ],
      "execution_count": 0,
      "outputs": []
    },
    {
      "cell_type": "markdown",
      "metadata": {
        "id": "AlczMRrt7wdx",
        "colab_type": "text"
      },
      "source": [
        "Here are the first few lines from the result."
      ]
    },
    {
      "cell_type": "code",
      "metadata": {
        "id": "gzLDuwK_7wdy",
        "colab_type": "code",
        "outputId": "1eb3a87f-243b-4de3-fddd-007bfb636d03",
        "colab": {
          "base_uri": "https://localhost:8080/",
          "height": 225
        }
      },
      "source": [
        "xtab.head()"
      ],
      "execution_count": 92,
      "outputs": [
        {
          "output_type": "execute_result",
          "data": {
            "text/html": [
              "<div>\n",
              "<style scoped>\n",
              "    .dataframe tbody tr th:only-of-type {\n",
              "        vertical-align: middle;\n",
              "    }\n",
              "\n",
              "    .dataframe tbody tr th {\n",
              "        vertical-align: top;\n",
              "    }\n",
              "\n",
              "    .dataframe thead th {\n",
              "        text-align: right;\n",
              "    }\n",
              "</style>\n",
              "<table border=\"1\" class=\"dataframe\">\n",
              "  <thead>\n",
              "    <tr style=\"text-align: right;\">\n",
              "      <th>partyid</th>\n",
              "      <th>0.0</th>\n",
              "      <th>1.0</th>\n",
              "      <th>2.0</th>\n",
              "      <th>3.0</th>\n",
              "      <th>4.0</th>\n",
              "      <th>5.0</th>\n",
              "      <th>6.0</th>\n",
              "      <th>7.0</th>\n",
              "    </tr>\n",
              "    <tr>\n",
              "      <th>year</th>\n",
              "      <th></th>\n",
              "      <th></th>\n",
              "      <th></th>\n",
              "      <th></th>\n",
              "      <th></th>\n",
              "      <th></th>\n",
              "      <th></th>\n",
              "      <th></th>\n",
              "    </tr>\n",
              "  </thead>\n",
              "  <tbody>\n",
              "    <tr>\n",
              "      <th>1972</th>\n",
              "      <td>341</td>\n",
              "      <td>448</td>\n",
              "      <td>147</td>\n",
              "      <td>146</td>\n",
              "      <td>84</td>\n",
              "      <td>250</td>\n",
              "      <td>132</td>\n",
              "      <td>59</td>\n",
              "    </tr>\n",
              "    <tr>\n",
              "      <th>1973</th>\n",
              "      <td>226</td>\n",
              "      <td>372</td>\n",
              "      <td>195</td>\n",
              "      <td>140</td>\n",
              "      <td>141</td>\n",
              "      <td>229</td>\n",
              "      <td>101</td>\n",
              "      <td>87</td>\n",
              "    </tr>\n",
              "    <tr>\n",
              "      <th>1974</th>\n",
              "      <td>273</td>\n",
              "      <td>394</td>\n",
              "      <td>173</td>\n",
              "      <td>130</td>\n",
              "      <td>102</td>\n",
              "      <td>203</td>\n",
              "      <td>112</td>\n",
              "      <td>68</td>\n",
              "    </tr>\n",
              "    <tr>\n",
              "      <th>1975</th>\n",
              "      <td>258</td>\n",
              "      <td>353</td>\n",
              "      <td>186</td>\n",
              "      <td>190</td>\n",
              "      <td>117</td>\n",
              "      <td>258</td>\n",
              "      <td>110</td>\n",
              "      <td>10</td>\n",
              "    </tr>\n",
              "    <tr>\n",
              "      <th>1976</th>\n",
              "      <td>205</td>\n",
              "      <td>397</td>\n",
              "      <td>236</td>\n",
              "      <td>241</td>\n",
              "      <td>131</td>\n",
              "      <td>202</td>\n",
              "      <td>81</td>\n",
              "      <td>3</td>\n",
              "    </tr>\n",
              "  </tbody>\n",
              "</table>\n",
              "</div>"
            ],
            "text/plain": [
              "partyid  0.0  1.0  2.0  3.0  4.0  5.0  6.0  7.0\n",
              "year                                           \n",
              "1972     341  448  147  146   84  250  132   59\n",
              "1973     226  372  195  140  141  229  101   87\n",
              "1974     273  394  173  130  102  203  112   68\n",
              "1975     258  353  186  190  117  258  110   10\n",
              "1976     205  397  236  241  131  202   81    3"
            ]
          },
          "metadata": {
            "tags": []
          },
          "execution_count": 92
        }
      ]
    },
    {
      "cell_type": "markdown",
      "metadata": {
        "id": "gq1CFmc47wd1",
        "colab_type": "text"
      },
      "source": [
        "It contains one row for each value of `year` and one column for each value of `partyid`.  Reading the first row, we see that in 1974, 31 people gave response 1, \"extremely liberal\", 201 people gave response 2, \"liberal\", and so on.\n",
        "\n",
        "The number of respondents varies from year to year, so we need to \"normalize\" the results, which means computing for each year the *fraction* of respondents in each category, rather than the count.\n",
        "\n",
        "`crosstab` takes an optional argument that normalizes each row."
      ]
    },
    {
      "cell_type": "code",
      "metadata": {
        "id": "s9fVboAR7wd3",
        "colab_type": "code",
        "colab": {}
      },
      "source": [
        "xtab_norm = pd.crosstab(year, column, normalize='index')"
      ],
      "execution_count": 0,
      "outputs": []
    },
    {
      "cell_type": "markdown",
      "metadata": {
        "id": "wUeQOQps7wd9",
        "colab_type": "text"
      },
      "source": [
        "Here's what that looks like for the 7-point scale."
      ]
    },
    {
      "cell_type": "code",
      "metadata": {
        "id": "4x51BEa77wd-",
        "colab_type": "code",
        "outputId": "ae4ac8ae-19ce-45e4-f056-5311c26b9bf6",
        "colab": {
          "base_uri": "https://localhost:8080/",
          "height": 225
        }
      },
      "source": [
        "xtab_norm.head()"
      ],
      "execution_count": 94,
      "outputs": [
        {
          "output_type": "execute_result",
          "data": {
            "text/html": [
              "<div>\n",
              "<style scoped>\n",
              "    .dataframe tbody tr th:only-of-type {\n",
              "        vertical-align: middle;\n",
              "    }\n",
              "\n",
              "    .dataframe tbody tr th {\n",
              "        vertical-align: top;\n",
              "    }\n",
              "\n",
              "    .dataframe thead th {\n",
              "        text-align: right;\n",
              "    }\n",
              "</style>\n",
              "<table border=\"1\" class=\"dataframe\">\n",
              "  <thead>\n",
              "    <tr style=\"text-align: right;\">\n",
              "      <th>partyid</th>\n",
              "      <th>0.0</th>\n",
              "      <th>1.0</th>\n",
              "      <th>2.0</th>\n",
              "      <th>3.0</th>\n",
              "      <th>4.0</th>\n",
              "      <th>5.0</th>\n",
              "      <th>6.0</th>\n",
              "      <th>7.0</th>\n",
              "    </tr>\n",
              "    <tr>\n",
              "      <th>year</th>\n",
              "      <th></th>\n",
              "      <th></th>\n",
              "      <th></th>\n",
              "      <th></th>\n",
              "      <th></th>\n",
              "      <th></th>\n",
              "      <th></th>\n",
              "      <th></th>\n",
              "    </tr>\n",
              "  </thead>\n",
              "  <tbody>\n",
              "    <tr>\n",
              "      <th>1972</th>\n",
              "      <td>0.212197</td>\n",
              "      <td>0.278780</td>\n",
              "      <td>0.091475</td>\n",
              "      <td>0.090853</td>\n",
              "      <td>0.052271</td>\n",
              "      <td>0.155569</td>\n",
              "      <td>0.082141</td>\n",
              "      <td>0.036714</td>\n",
              "    </tr>\n",
              "    <tr>\n",
              "      <th>1973</th>\n",
              "      <td>0.151576</td>\n",
              "      <td>0.249497</td>\n",
              "      <td>0.130785</td>\n",
              "      <td>0.093897</td>\n",
              "      <td>0.094567</td>\n",
              "      <td>0.153588</td>\n",
              "      <td>0.067740</td>\n",
              "      <td>0.058350</td>\n",
              "    </tr>\n",
              "    <tr>\n",
              "      <th>1974</th>\n",
              "      <td>0.187629</td>\n",
              "      <td>0.270790</td>\n",
              "      <td>0.118900</td>\n",
              "      <td>0.089347</td>\n",
              "      <td>0.070103</td>\n",
              "      <td>0.139519</td>\n",
              "      <td>0.076976</td>\n",
              "      <td>0.046735</td>\n",
              "    </tr>\n",
              "    <tr>\n",
              "      <th>1975</th>\n",
              "      <td>0.174089</td>\n",
              "      <td>0.238192</td>\n",
              "      <td>0.125506</td>\n",
              "      <td>0.128205</td>\n",
              "      <td>0.078947</td>\n",
              "      <td>0.174089</td>\n",
              "      <td>0.074224</td>\n",
              "      <td>0.006748</td>\n",
              "    </tr>\n",
              "    <tr>\n",
              "      <th>1976</th>\n",
              "      <td>0.137032</td>\n",
              "      <td>0.265374</td>\n",
              "      <td>0.157754</td>\n",
              "      <td>0.161096</td>\n",
              "      <td>0.087567</td>\n",
              "      <td>0.135027</td>\n",
              "      <td>0.054144</td>\n",
              "      <td>0.002005</td>\n",
              "    </tr>\n",
              "  </tbody>\n",
              "</table>\n",
              "</div>"
            ],
            "text/plain": [
              "partyid       0.0       1.0       2.0  ...       5.0       6.0       7.0\n",
              "year                                   ...                              \n",
              "1972     0.212197  0.278780  0.091475  ...  0.155569  0.082141  0.036714\n",
              "1973     0.151576  0.249497  0.130785  ...  0.153588  0.067740  0.058350\n",
              "1974     0.187629  0.270790  0.118900  ...  0.139519  0.076976  0.046735\n",
              "1975     0.174089  0.238192  0.125506  ...  0.174089  0.074224  0.006748\n",
              "1976     0.137032  0.265374  0.157754  ...  0.135027  0.054144  0.002005\n",
              "\n",
              "[5 rows x 8 columns]"
            ]
          },
          "metadata": {
            "tags": []
          },
          "execution_count": 94
        }
      ]
    },
    {
      "cell_type": "markdown",
      "metadata": {
        "id": "6cn7P8wv7weC",
        "colab_type": "text"
      },
      "source": [
        "To make the results easier to interpret, I'm going to replace the numeric codes 1-7 with strings.  First I'll make a dictionary that maps from numbers to strings:"
      ]
    },
    {
      "cell_type": "code",
      "metadata": {
        "id": "T-2-92MW7weD",
        "colab_type": "code",
        "colab": {}
      },
      "source": [
        "# recode the 7 point scale with words\n",
        "d7 = {0: 'Strong democrat',\n",
        "      1: 'Not str democrat',\n",
        "      2: 'Ind,near dem',\n",
        "      3: 'Independent',\n",
        "      4: 'Ind,near rep',\n",
        "      5: 'Not str republican',\n",
        "      6: 'Strong republican',\n",
        "      7: 'Other party'\n",
        "}\n"
      ],
      "execution_count": 0,
      "outputs": []
    },
    {
      "cell_type": "markdown",
      "metadata": {
        "id": "ZZX4wT8_7weI",
        "colab_type": "text"
      },
      "source": [
        "Then we can use the `replace` function like this:"
      ]
    },
    {
      "cell_type": "code",
      "metadata": {
        "id": "9PiR6yJ07weJ",
        "colab_type": "code",
        "colab": {}
      },
      "source": [
        "partyid7 = gss['partyid'].replace(d7)"
      ],
      "execution_count": 0,
      "outputs": []
    },
    {
      "cell_type": "markdown",
      "metadata": {
        "id": "jwXETM8R7weM",
        "colab_type": "text"
      },
      "source": [
        "We can use `values` to confirm that the values in `partyid7` are strings."
      ]
    },
    {
      "cell_type": "code",
      "metadata": {
        "id": "Sa4IZqnQ7weN",
        "colab_type": "code",
        "outputId": "98f3b6f3-8411-48ef-a549-7b9b786cd044",
        "colab": {
          "base_uri": "https://localhost:8080/",
          "height": 168
        }
      },
      "source": [
        "values(partyid7)"
      ],
      "execution_count": 97,
      "outputs": [
        {
          "output_type": "execute_result",
          "data": {
            "text/plain": [
              "Ind,near dem           7565\n",
              "Ind,near rep           5994\n",
              "Independent            9845\n",
              "Not str democrat      13311\n",
              "Not str republican    10156\n",
              "Other party            1064\n",
              "Strong democrat        9997\n",
              "Strong republican      6461\n",
              "Name: partyid, dtype: int64"
            ]
          },
          "metadata": {
            "tags": []
          },
          "execution_count": 97
        }
      ]
    },
    {
      "cell_type": "markdown",
      "metadata": {
        "id": "fuEDM43p7weQ",
        "colab_type": "text"
      },
      "source": [
        "If we make the cross tabulation again, we can see that the column names are strings."
      ]
    },
    {
      "cell_type": "code",
      "metadata": {
        "id": "q1zJCC_p7weR",
        "colab_type": "code",
        "outputId": "99eb7ecc-68fa-454e-dc61-9fb2b2291226",
        "colab": {
          "base_uri": "https://localhost:8080/",
          "height": 225
        }
      },
      "source": [
        "xtab_norm = pd.crosstab(year, partyid7, normalize='index')\n",
        "xtab_norm.head()"
      ],
      "execution_count": 98,
      "outputs": [
        {
          "output_type": "execute_result",
          "data": {
            "text/html": [
              "<div>\n",
              "<style scoped>\n",
              "    .dataframe tbody tr th:only-of-type {\n",
              "        vertical-align: middle;\n",
              "    }\n",
              "\n",
              "    .dataframe tbody tr th {\n",
              "        vertical-align: top;\n",
              "    }\n",
              "\n",
              "    .dataframe thead th {\n",
              "        text-align: right;\n",
              "    }\n",
              "</style>\n",
              "<table border=\"1\" class=\"dataframe\">\n",
              "  <thead>\n",
              "    <tr style=\"text-align: right;\">\n",
              "      <th>partyid</th>\n",
              "      <th>Ind,near dem</th>\n",
              "      <th>Ind,near rep</th>\n",
              "      <th>Independent</th>\n",
              "      <th>Not str democrat</th>\n",
              "      <th>Not str republican</th>\n",
              "      <th>Other party</th>\n",
              "      <th>Strong democrat</th>\n",
              "      <th>Strong republican</th>\n",
              "    </tr>\n",
              "    <tr>\n",
              "      <th>year</th>\n",
              "      <th></th>\n",
              "      <th></th>\n",
              "      <th></th>\n",
              "      <th></th>\n",
              "      <th></th>\n",
              "      <th></th>\n",
              "      <th></th>\n",
              "      <th></th>\n",
              "    </tr>\n",
              "  </thead>\n",
              "  <tbody>\n",
              "    <tr>\n",
              "      <th>1972</th>\n",
              "      <td>0.091475</td>\n",
              "      <td>0.052271</td>\n",
              "      <td>0.090853</td>\n",
              "      <td>0.278780</td>\n",
              "      <td>0.155569</td>\n",
              "      <td>0.036714</td>\n",
              "      <td>0.212197</td>\n",
              "      <td>0.082141</td>\n",
              "    </tr>\n",
              "    <tr>\n",
              "      <th>1973</th>\n",
              "      <td>0.130785</td>\n",
              "      <td>0.094567</td>\n",
              "      <td>0.093897</td>\n",
              "      <td>0.249497</td>\n",
              "      <td>0.153588</td>\n",
              "      <td>0.058350</td>\n",
              "      <td>0.151576</td>\n",
              "      <td>0.067740</td>\n",
              "    </tr>\n",
              "    <tr>\n",
              "      <th>1974</th>\n",
              "      <td>0.118900</td>\n",
              "      <td>0.070103</td>\n",
              "      <td>0.089347</td>\n",
              "      <td>0.270790</td>\n",
              "      <td>0.139519</td>\n",
              "      <td>0.046735</td>\n",
              "      <td>0.187629</td>\n",
              "      <td>0.076976</td>\n",
              "    </tr>\n",
              "    <tr>\n",
              "      <th>1975</th>\n",
              "      <td>0.125506</td>\n",
              "      <td>0.078947</td>\n",
              "      <td>0.128205</td>\n",
              "      <td>0.238192</td>\n",
              "      <td>0.174089</td>\n",
              "      <td>0.006748</td>\n",
              "      <td>0.174089</td>\n",
              "      <td>0.074224</td>\n",
              "    </tr>\n",
              "    <tr>\n",
              "      <th>1976</th>\n",
              "      <td>0.157754</td>\n",
              "      <td>0.087567</td>\n",
              "      <td>0.161096</td>\n",
              "      <td>0.265374</td>\n",
              "      <td>0.135027</td>\n",
              "      <td>0.002005</td>\n",
              "      <td>0.137032</td>\n",
              "      <td>0.054144</td>\n",
              "    </tr>\n",
              "  </tbody>\n",
              "</table>\n",
              "</div>"
            ],
            "text/plain": [
              "partyid  Ind,near dem  Ind,near rep  ...  Strong democrat  Strong republican\n",
              "year                                 ...                                    \n",
              "1972         0.091475      0.052271  ...         0.212197           0.082141\n",
              "1973         0.130785      0.094567  ...         0.151576           0.067740\n",
              "1974         0.118900      0.070103  ...         0.187629           0.076976\n",
              "1975         0.125506      0.078947  ...         0.174089           0.074224\n",
              "1976         0.157754      0.087567  ...         0.137032           0.054144\n",
              "\n",
              "[5 rows x 8 columns]"
            ]
          },
          "metadata": {
            "tags": []
          },
          "execution_count": 98
        }
      ]
    },
    {
      "cell_type": "markdown",
      "metadata": {
        "id": "0U-ukPJl7weV",
        "colab_type": "text"
      },
      "source": [
        "We are almost ready to plot the results, but first we need some colors."
      ]
    },
    {
      "cell_type": "markdown",
      "metadata": {
        "id": "R1Iew4C87weW",
        "colab_type": "text"
      },
      "source": [
        "## Color palettes\n",
        "\n",
        "Seaborn provides a variety of color palettes,  [which you can read about here](https://seaborn.pydata.org/tutorial/color_palettes.html).\n",
        "\n",
        "To represent political views, I'll use a diverging palette from blue to red."
      ]
    },
    {
      "cell_type": "code",
      "metadata": {
        "id": "KYaag8xe7weW",
        "colab_type": "code",
        "outputId": "7a557293-807a-41c2-e764-0ecab97750ac",
        "colab": {
          "base_uri": "https://localhost:8080/",
          "height": 89
        }
      },
      "source": [
        "palette = sns.color_palette('RdBu_r', 8)\n",
        "sns.palplot(palette)"
      ],
      "execution_count": 118,
      "outputs": [
        {
          "output_type": "display_data",
          "data": {
            "image/png": "[encoded data removed]",
            "text/plain": [
              "<Figure size 576x72 with 1 Axes>"
            ]
          },
          "metadata": {
            "tags": []
          }
        }
      ]
    },
    {
      "cell_type": "markdown",
      "metadata": {
        "id": "1kSMmNdr7weZ",
        "colab_type": "text"
      },
      "source": [
        "The middle color is white, which won't work when we plot it, so I will replace it with a purple color from another palette."
      ]
    },
    {
      "cell_type": "code",
      "metadata": {
        "id": "jfbff9vE7wea",
        "colab_type": "code",
        "outputId": "2f381c13-0c16-4bef-8445-8cfaac20da40",
        "colab": {
          "base_uri": "https://localhost:8080/",
          "height": 89
        }
      },
      "source": [
        "muted = sns.color_palette('muted', 8)\n",
        "purple = muted[4]\n",
        "sns.palplot(muted)"
      ],
      "execution_count": 119,
      "outputs": [
        {
          "output_type": "display_data",
          "data": {
            "image/png": "[encoded data removed]",
            "text/plain": [
              "<Figure size 576x72 with 1 Axes>"
            ]
          },
          "metadata": {
            "tags": []
          }
        }
      ]
    },
    {
      "cell_type": "markdown",
      "metadata": {
        "id": "p01DEpaH7wec",
        "colab_type": "text"
      },
      "source": [
        "Here's the modified diverging palette  with purple in the middle."
      ]
    },
    {
      "cell_type": "code",
      "metadata": {
        "id": "yGLRD71l7wed",
        "colab_type": "code",
        "outputId": "c4eb1c60-e433-4a0b-8fe7-3dff7f6875ae",
        "colab": {
          "base_uri": "https://localhost:8080/",
          "height": 89
        }
      },
      "source": [
        "palette[3] = purple\n",
        "sns.palplot(palette)"
      ],
      "execution_count": 120,
      "outputs": [
        {
          "output_type": "display_data",
          "data": {
            "image/png": "[encoded data removed]",
            "text/plain": [
              "<Figure size 576x72 with 1 Axes>"
            ]
          },
          "metadata": {
            "tags": []
          }
        }
      ]
    },
    {
      "cell_type": "markdown",
      "metadata": {
        "id": "voad64jU7weg",
        "colab_type": "text"
      },
      "source": [
        "Now I'll make a \"color map\", which is a dictionary that maps from the responses to the corresponding colors."
      ]
    },
    {
      "cell_type": "code",
      "metadata": {
        "id": "2aw8s02X7weh",
        "colab_type": "code",
        "colab": {}
      },
      "source": [
        "columns = ['Strong democrat',\n",
        "         'Not str democrat',\n",
        "         'Ind,near dem',\n",
        "         'Independent',\n",
        "         'Ind,near rep',\n",
        "         'Not str republican',\n",
        "         'Strong republican',\n",
        "         'Other party']"
      ],
      "execution_count": 0,
      "outputs": []
    },
    {
      "cell_type": "code",
      "metadata": {
        "id": "-KFn2C237wej",
        "colab_type": "code",
        "outputId": "d66f8d8c-0fad-462f-c97d-4c84e675ad18",
        "colab": {
          "base_uri": "https://localhost:8080/",
          "height": 151
        }
      },
      "source": [
        "\n",
        "color_map = dict(zip(columns, palette))\n",
        "\n",
        "for key, value in color_map.items():\n",
        "    print(key, value)"
      ],
      "execution_count": 122,
      "outputs": [
        {
          "output_type": "stream",
          "text": [
            "Strong democrat (0.14248366013071898, 0.41730103806228375, 0.6833525567089581)\n",
            "Not str democrat (0.3234909650134563, 0.6149173394848135, 0.7854671280276816)\n",
            "Ind,near dem (0.6549019607843136, 0.8143790849673203, 0.8941176470588235)\n",
            "Independent (0.5843137254901961, 0.4235294117647059, 0.7058823529411765)\n",
            "Ind,near rep (0.9820069204152249, 0.9061899269511726, 0.8615916955017302)\n",
            "Not str republican (0.9686274509803923, 0.7176470588235296, 0.6000000000000003)\n",
            "Strong republican (0.8622837370242215, 0.429527104959631, 0.3427143406382161)\n",
            "Other party (0.7118800461361015, 0.12179930795847749, 0.18169934640522878)\n"
          ],
          "name": "stdout"
        }
      ]
    },
    {
      "cell_type": "markdown",
      "metadata": {
        "id": "TgXQ0KP87wel",
        "colab_type": "text"
      },
      "source": [
        "## Plotting\n",
        "\n",
        "To plot the results, I use the following function, which takes a `DataFrame` and plots each column using `plot_series_lowess`."
      ]
    },
    {
      "cell_type": "code",
      "metadata": {
        "id": "cvcdYNEX7wem",
        "colab_type": "code",
        "colab": {}
      },
      "source": [
        "def plot_columns_lowess(table, columns, colors):\n",
        "    \"\"\"Plot the columns in a DataFrame.\n",
        "    \n",
        "    table: DataFrame with a cross tabulation\n",
        "    columns: list of column names, in the desired order\n",
        "    colors: mapping from column names to colors\n",
        "    \"\"\"\n",
        "    for col in columns:\n",
        "        series = table[col]\n",
        "        plot_series_lowess(series, colors[col])"
      ],
      "execution_count": 0,
      "outputs": []
    },
    {
      "cell_type": "markdown",
      "metadata": {
        "id": "ALRNRdU-7weo",
        "colab_type": "text"
      },
      "source": [
        "The following function sets the position of the figure legend."
      ]
    },
    {
      "cell_type": "code",
      "metadata": {
        "id": "uEATNFcw7wep",
        "colab_type": "code",
        "colab": {}
      },
      "source": [
        "def anchor_legend(x, y):\n",
        "    \"\"\"Place the upper left corner of the legend box.\n",
        "    \n",
        "    x: x coordinate\n",
        "    y: y coordinate\n",
        "    \"\"\"\n",
        "    plt.legend(bbox_to_anchor=(x, y), loc='upper left', ncol=1)"
      ],
      "execution_count": 0,
      "outputs": []
    },
    {
      "cell_type": "markdown",
      "metadata": {
        "id": "E1uo43G77wer",
        "colab_type": "text"
      },
      "source": [
        "Here are the 7 categories plotted as a function of time."
      ]
    },
    {
      "cell_type": "code",
      "metadata": {
        "scrolled": true,
        "id": "b6xtxvY-7wer",
        "colab_type": "code",
        "outputId": "5b98e458-39a0-4372-9139-3ffa00fa1f66",
        "colab": {
          "base_uri": "https://localhost:8080/",
          "height": 297
        }
      },
      "source": [
        "plot_columns_lowess(xtab_norm, columns, color_map)\n",
        "decorate(xlabel='Year',\n",
        "         ylabel='Proportion',\n",
        "         title='Fraction of people with each party identification',\n",
        "         xlim=[1972, 2020])\n",
        "\n",
        "anchor_legend(1.02, 1.02)"
      ],
      "execution_count": 127,
      "outputs": [
        {
          "output_type": "display_data",
          "data": {
            "image/png": "[encoded data removed]",
            "text/plain": [
              "<Figure size 432x288 with 1 Axes>"
            ]
          },
          "metadata": {
            "tags": []
          }
        }
      ]
    },
    {
      "cell_type": "markdown",
      "metadata": {
        "id": "oYhGzKC07wet",
        "colab_type": "text"
      },
      "source": [
        "This way of looking at the results suggests that changes in political alignment during this period have generally been slow and small.\n",
        "\n",
        "The fraction of self-described moderates has not changed substantially.\n",
        "\n",
        "The fraction of conservatives increased, but seems to be decreasing now; the number of liberals seems to be increasing.\n",
        "\n",
        "The fraction of people at the extremes has increased, but it is hard to see clearly in this figure.\n",
        "\n",
        "We can get a better view by plotting just the extremes."
      ]
    },
    {
      "cell_type": "code",
      "metadata": {
        "id": "Wl6bmghC7wet",
        "colab_type": "code",
        "outputId": "0336581c-dcfe-46e0-fe4a-11ae7e852eb4",
        "colab": {
          "base_uri": "https://localhost:8080/",
          "height": 297
        }
      },
      "source": [
        "columns2 = ['Strong democrat', 'Strong republican']\n",
        "\n",
        "plot_columns_lowess(xtab_norm, columns2, color_map)\n",
        "decorate(xlabel='Year',\n",
        "         ylabel='Proportion',\n",
        "         title='Fraction of people with extreme party leanings',\n",
        "         xlim=[1970, 2020])\n",
        "\n",
        "anchor_legend(1.02, 1.02)"
      ],
      "execution_count": 128,
      "outputs": [
        {
          "output_type": "display_data",
          "data": {
            "image/png": "[encoded data removed]",
            "text/plain": [
              "<Figure size 432x288 with 1 Axes>"
            ]
          },
          "metadata": {
            "tags": []
          }
        }
      ]
    },
    {
      "cell_type": "markdown",
      "metadata": {
        "id": "g-EXoOdu7wev",
        "colab_type": "text"
      },
      "source": [
        "This figure shows that the fraction of people who describe themselves as \"extreme\" has increased from about 2.5% to about 4%.\n",
        "\n",
        "In relative terms, that's a big increase.  But in absolute terms these tails of the distribution are still small."
      ]
    },
    {
      "cell_type": "markdown",
      "metadata": {
        "id": "4vwDtOoi7wev",
        "colab_type": "text"
      },
      "source": [
        "**Exercise:** Let's do a similar analysis with `partyid`, which encodes responses to the question:\n",
        "\n",
        ">Generally speaking, do you usually think of yourself as a Republican, Democrat, Independent, or what?\n",
        "\n",
        "The valid responses are:\n",
        "\n",
        "```\n",
        "0\tStrong democrat\n",
        "1\tNot str democrat\n",
        "2\tInd,near dem\n",
        "3\tIndependent\n",
        "4\tInd,near rep\n",
        "5\tNot str republican\n",
        "6\tStrong republican\n",
        "7\tOther party\n",
        "```\n",
        "\n",
        "You can [read the codebook for `partyid` here](https://gssdataexplorer.norc.org/projects/52787/variables/141/vshow).\n",
        "\n",
        "Here are the steps I suggest:\n",
        "\n",
        "1) If you have not already saved this notebook, you should do that first.  If you are running on Colab, select \"Save a copy in Drive\" from the File menu.\n",
        "\n",
        "2) Now, before you modify this notebook, make *another* copy and give it an appropriate name.\n",
        "\n",
        "3) Search and replace `polviews` with `partyid` (use \"Edit->Find and replace\").\n",
        "\n",
        "4) Run the notebook from the beginning and see what other changes you have to make.\n",
        "\n",
        "You will have to make changes in `d7` and `columns`.  Otherwise you might get a message like \n",
        "\n",
        "`TypeError: '<' not supported between instances of 'float' and 'str'`\n",
        "\n",
        "Also, you might have to drop \"Other party\" or change the color palette.\n",
        "\n",
        "And you should change the titles of the figures.\n",
        "\n",
        "\n",
        "What changes in party affiliation do you see over the last 50 years?  Are things going in the directions you expected?\n",
        "\n",
        "Write a headline (or a couple) that describe the most substantial changes you see."
      ]
    },
    {
      "cell_type": "code",
      "metadata": {
        "id": "lG_73NHG7wew",
        "colab_type": "code",
        "colab": {}
      },
      "source": [
        "# Party affiliation seems pretty constant, with a drop of in the 90s and some \n",
        "# local resurgence. I suppose I'd expect stronger affiliation because of the \n",
        "# increase in polarization, but I suppose it makes sense that people are \n",
        "# more polarized with less conviction. \n"
      ],
      "execution_count": 0,
      "outputs": []
    },
    {
      "cell_type": "code",
      "metadata": {
        "id": "nt_kOsaWAFj7",
        "colab_type": "code",
        "colab": {}
      },
      "source": [
        "#Headlines:\n",
        "# As political polarization tends to the extremes, party affiliation stays fairly constant.\n",
        "# Political polarization fails to inspire strong party alignment."
      ],
      "execution_count": 0,
      "outputs": []
    }
  ]
}