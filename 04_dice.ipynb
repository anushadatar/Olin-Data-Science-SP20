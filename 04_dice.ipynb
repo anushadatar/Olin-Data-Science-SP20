{
  "nbformat": 4,
  "nbformat_minor": 0,
  "metadata": {
    "kernelspec": {
      "display_name": "Python 3",
      "language": "python",
      "name": "python3"
    },
    "language_info": {
      "codemirror_mode": {
        "name": "ipython",
        "version": 3
      },
      "file_extension": ".py",
      "mimetype": "text/x-python",
      "name": "python",
      "nbconvert_exporter": "python",
      "pygments_lexer": "ipython3",
      "version": "3.7.6"
    },
    "colab": {
      "name": "04_dice.ipynb",
      "provenance": [],
      "collapsed_sections": [],
      "include_colab_link": true
    }
  },
  "cells": [
    {
      "cell_type": "markdown",
      "metadata": {
        "id": "view-in-github",
        "colab_type": "text"
      },
      "source": [
        "<a href=\"https://colab.research.google.com/github/anushadatar/Olin-Data-Science-SP20/blob/master/04_dice.ipynb\" target=\"_parent\"><img src=\"https://colab.research.google.com/assets/colab-badge.svg\" alt=\"Open In Colab\"/></a>"
      ]
    },
    {
      "cell_type": "markdown",
      "metadata": {
        "id": "rZWtUhNpGTba",
        "colab_type": "text"
      },
      "source": [
        "# Bite Size Bayes\n",
        "\n",
        "Copyright 2020 Allen B. Downey\n",
        "\n",
        "License: [Attribution-NonCommercial-ShareAlike 4.0 International (CC BY-NC-SA 4.0)](https://creativecommons.org/licenses/by-nc-sa/4.0/)"
      ]
    },
    {
      "cell_type": "markdown",
      "metadata": {
        "id": "oH_nmQ8zGTbd",
        "colab_type": "text"
      },
      "source": [
        "## Review\n",
        "\n",
        "[In the previous notebook](https://colab.research.google.com/github/AllenDowney/BiteSizeBayes/blob/master/03_cookie.ipynb) we started with Bayes's Theorem, written like this:\n",
        "\n",
        "$P(A|B) = P(A) ~ P(B|A) ~/~ P(B)$\n",
        "\n",
        "And applied it to the case where we use data, $D$, to update the probability of a hypothesis, $H$.  In this context, we write Bayes's Theorem like this:\n",
        "\n",
        "$P(H|D) = P(H) ~ P(D|H) ~/~ P(D)$\n",
        "\n",
        "And give each term a name:\n",
        "\n",
        "* $P(H)$ is the \"prior probability\" of the hypothesis, which represents how confident you are that $H$ is true prior to seeing the data,\n",
        "\n",
        "* $P(D|H)$ is the \"likelihood\" of the data, which is the probability of seeing $D$ if the hypothesis is true,\n",
        "\n",
        "* $P(D)$ is the \"total probability of the data\", that is, the chance of seeing $D$ regardless of whether $H$ is true or not.\n",
        "\n",
        "* $P(H|D)$ is the \"posterior probability\" of the hypothesis, which indicates how confident you should be that $H$ is true after taking the data into account.\n",
        "\n",
        "We used Bayes's Theorem to solve a cookie-related problem, and I presented the Bayes table, a way to solve Bayesian problems more generally.  I didn't really explain how it works, though.  That's the goal of this notebook.\n",
        "\n",
        "I'll start by extending the table method to a problem with more than two hypotheses."
      ]
    },
    {
      "cell_type": "markdown",
      "metadata": {
        "id": "WMR0nsYwGTbf",
        "colab_type": "text"
      },
      "source": [
        "## More hypotheses\n",
        "\n",
        "One nice thing about the table method is that it works with more than two hypotheses.  As an example, let's do another version of the cookie problem.\n",
        "\n",
        "Suppose you have five bowls:\n",
        "\n",
        "* Bowl 0 contains no vanilla cookies.\n",
        "\n",
        "* Bowl 1 contains 25% vanilla cookies.\n",
        "\n",
        "* Bowl 2 contains 50% vanilla cookies.\n",
        "\n",
        "* Bowl 3 contains 75% vanilla cookies.\n",
        "\n",
        "* Bowl 4 contains 100% vanilla cookies.\n",
        "\n",
        "Now suppose we choose a bowl at random and then choose a cookie, and we get a vanilla cookie.  What is the posterior probability that we chose each bowl?\n",
        "\n",
        "Here's a table that represents the five hypotheses and their prior probabilities:"
      ]
    },
    {
      "cell_type": "code",
      "metadata": {
        "id": "UcsInyqUGTbg",
        "colab_type": "code",
        "outputId": "aba27747-18ad-46d5-e542-b3c81b8a10ba",
        "colab": {
          "base_uri": "https://localhost:8080/",
          "height": 198
        }
      },
      "source": [
        "import pandas as pd\n",
        "\n",
        "table = pd.DataFrame()\n",
        "table['prior'] = 1/5, 1/5, 1/5, 1/5, 1/5\n",
        "table"
      ],
      "execution_count": 0,
      "outputs": [
        {
          "output_type": "execute_result",
          "data": {
            "text/html": [
              "<div>\n",
              "<style scoped>\n",
              "    .dataframe tbody tr th:only-of-type {\n",
              "        vertical-align: middle;\n",
              "    }\n",
              "\n",
              "    .dataframe tbody tr th {\n",
              "        vertical-align: top;\n",
              "    }\n",
              "\n",
              "    .dataframe thead th {\n",
              "        text-align: right;\n",
              "    }\n",
              "</style>\n",
              "<table border=\"1\" class=\"dataframe\">\n",
              "  <thead>\n",
              "    <tr style=\"text-align: right;\">\n",
              "      <th></th>\n",
              "      <th>prior</th>\n",
              "    </tr>\n",
              "  </thead>\n",
              "  <tbody>\n",
              "    <tr>\n",
              "      <th>0</th>\n",
              "      <td>0.2</td>\n",
              "    </tr>\n",
              "    <tr>\n",
              "      <th>1</th>\n",
              "      <td>0.2</td>\n",
              "    </tr>\n",
              "    <tr>\n",
              "      <th>2</th>\n",
              "      <td>0.2</td>\n",
              "    </tr>\n",
              "    <tr>\n",
              "      <th>3</th>\n",
              "      <td>0.2</td>\n",
              "    </tr>\n",
              "    <tr>\n",
              "      <th>4</th>\n",
              "      <td>0.2</td>\n",
              "    </tr>\n",
              "  </tbody>\n",
              "</table>\n",
              "</div>"
            ],
            "text/plain": [
              "   prior\n",
              "0    0.2\n",
              "1    0.2\n",
              "2    0.2\n",
              "3    0.2\n",
              "4    0.2"
            ]
          },
          "metadata": {
            "tags": []
          },
          "execution_count": 6
        }
      ]
    },
    {
      "cell_type": "markdown",
      "metadata": {
        "id": "_uhBdyh_GTbl",
        "colab_type": "text"
      },
      "source": [
        "The likelihood of drawing a vanilla cookie from each bowl is the given proportion of vanilla cookies:"
      ]
    },
    {
      "cell_type": "code",
      "metadata": {
        "id": "jA7e-lWIGTbm",
        "colab_type": "code",
        "outputId": "d0ee05ab-ad71-4888-fe58-5929783d05cc",
        "colab": {
          "base_uri": "https://localhost:8080/",
          "height": 198
        }
      },
      "source": [
        "table['likelihood'] = 0, 0.25, 0.5, 0.75, 1\n",
        "table"
      ],
      "execution_count": 0,
      "outputs": [
        {
          "output_type": "execute_result",
          "data": {
            "text/html": [
              "<div>\n",
              "<style scoped>\n",
              "    .dataframe tbody tr th:only-of-type {\n",
              "        vertical-align: middle;\n",
              "    }\n",
              "\n",
              "    .dataframe tbody tr th {\n",
              "        vertical-align: top;\n",
              "    }\n",
              "\n",
              "    .dataframe thead th {\n",
              "        text-align: right;\n",
              "    }\n",
              "</style>\n",
              "<table border=\"1\" class=\"dataframe\">\n",
              "  <thead>\n",
              "    <tr style=\"text-align: right;\">\n",
              "      <th></th>\n",
              "      <th>prior</th>\n",
              "      <th>likelihood</th>\n",
              "    </tr>\n",
              "  </thead>\n",
              "  <tbody>\n",
              "    <tr>\n",
              "      <th>0</th>\n",
              "      <td>0.2</td>\n",
              "      <td>0.00</td>\n",
              "    </tr>\n",
              "    <tr>\n",
              "      <th>1</th>\n",
              "      <td>0.2</td>\n",
              "      <td>0.25</td>\n",
              "    </tr>\n",
              "    <tr>\n",
              "      <th>2</th>\n",
              "      <td>0.2</td>\n",
              "      <td>0.50</td>\n",
              "    </tr>\n",
              "    <tr>\n",
              "      <th>3</th>\n",
              "      <td>0.2</td>\n",
              "      <td>0.75</td>\n",
              "    </tr>\n",
              "    <tr>\n",
              "      <th>4</th>\n",
              "      <td>0.2</td>\n",
              "      <td>1.00</td>\n",
              "    </tr>\n",
              "  </tbody>\n",
              "</table>\n",
              "</div>"
            ],
            "text/plain": [
              "   prior  likelihood\n",
              "0    0.2        0.00\n",
              "1    0.2        0.25\n",
              "2    0.2        0.50\n",
              "3    0.2        0.75\n",
              "4    0.2        1.00"
            ]
          },
          "metadata": {
            "tags": []
          },
          "execution_count": 7
        }
      ]
    },
    {
      "cell_type": "markdown",
      "metadata": {
        "id": "w4zi0Ec3GTbu",
        "colab_type": "text"
      },
      "source": [
        "Once we have priors and likelihoods, the remaining steps are always the same.  We compute the unnormalized posteriors:"
      ]
    },
    {
      "cell_type": "code",
      "metadata": {
        "id": "NrLlefffGTbv",
        "colab_type": "code",
        "outputId": "29609682-bc08-4295-e89b-ceebd0324c11",
        "colab": {
          "base_uri": "https://localhost:8080/",
          "height": 198
        }
      },
      "source": [
        "table['unnorm'] = table['prior'] * table['likelihood']\n",
        "table"
      ],
      "execution_count": 0,
      "outputs": [
        {
          "output_type": "execute_result",
          "data": {
            "text/html": [
              "<div>\n",
              "<style scoped>\n",
              "    .dataframe tbody tr th:only-of-type {\n",
              "        vertical-align: middle;\n",
              "    }\n",
              "\n",
              "    .dataframe tbody tr th {\n",
              "        vertical-align: top;\n",
              "    }\n",
              "\n",
              "    .dataframe thead th {\n",
              "        text-align: right;\n",
              "    }\n",
              "</style>\n",
              "<table border=\"1\" class=\"dataframe\">\n",
              "  <thead>\n",
              "    <tr style=\"text-align: right;\">\n",
              "      <th></th>\n",
              "      <th>prior</th>\n",
              "      <th>likelihood</th>\n",
              "      <th>unnorm</th>\n",
              "    </tr>\n",
              "  </thead>\n",
              "  <tbody>\n",
              "    <tr>\n",
              "      <th>0</th>\n",
              "      <td>0.2</td>\n",
              "      <td>0.00</td>\n",
              "      <td>0.00</td>\n",
              "    </tr>\n",
              "    <tr>\n",
              "      <th>1</th>\n",
              "      <td>0.2</td>\n",
              "      <td>0.25</td>\n",
              "      <td>0.05</td>\n",
              "    </tr>\n",
              "    <tr>\n",
              "      <th>2</th>\n",
              "      <td>0.2</td>\n",
              "      <td>0.50</td>\n",
              "      <td>0.10</td>\n",
              "    </tr>\n",
              "    <tr>\n",
              "      <th>3</th>\n",
              "      <td>0.2</td>\n",
              "      <td>0.75</td>\n",
              "      <td>0.15</td>\n",
              "    </tr>\n",
              "    <tr>\n",
              "      <th>4</th>\n",
              "      <td>0.2</td>\n",
              "      <td>1.00</td>\n",
              "      <td>0.20</td>\n",
              "    </tr>\n",
              "  </tbody>\n",
              "</table>\n",
              "</div>"
            ],
            "text/plain": [
              "   prior  likelihood  unnorm\n",
              "0    0.2        0.00    0.00\n",
              "1    0.2        0.25    0.05\n",
              "2    0.2        0.50    0.10\n",
              "3    0.2        0.75    0.15\n",
              "4    0.2        1.00    0.20"
            ]
          },
          "metadata": {
            "tags": []
          },
          "execution_count": 8
        }
      ]
    },
    {
      "cell_type": "markdown",
      "metadata": {
        "id": "5e7k1IPIGTb1",
        "colab_type": "text"
      },
      "source": [
        "And the total probability of the data."
      ]
    },
    {
      "cell_type": "code",
      "metadata": {
        "id": "FsdgKflTGTb2",
        "colab_type": "code",
        "outputId": "d67c90e8-e1d6-4f1a-fe81-66fcde80c27c",
        "colab": {
          "base_uri": "https://localhost:8080/",
          "height": 35
        }
      },
      "source": [
        "prob_data = table['unnorm'].sum()\n",
        "prob_data"
      ],
      "execution_count": 0,
      "outputs": [
        {
          "output_type": "execute_result",
          "data": {
            "text/plain": [
              "0.5"
            ]
          },
          "metadata": {
            "tags": []
          },
          "execution_count": 9
        }
      ]
    },
    {
      "cell_type": "markdown",
      "metadata": {
        "id": "0kDM3FYXGTb6",
        "colab_type": "text"
      },
      "source": [
        "Then divide through to get the normalized posteriors."
      ]
    },
    {
      "cell_type": "code",
      "metadata": {
        "id": "xAMXAB6wGTb7",
        "colab_type": "code",
        "outputId": "d88cde16-597e-4366-bca4-a74736a3da5e",
        "colab": {
          "base_uri": "https://localhost:8080/",
          "height": 198
        }
      },
      "source": [
        "table['posterior'] = table['unnorm'] / prob_data\n",
        "table"
      ],
      "execution_count": 0,
      "outputs": [
        {
          "output_type": "execute_result",
          "data": {
            "text/html": [
              "<div>\n",
              "<style scoped>\n",
              "    .dataframe tbody tr th:only-of-type {\n",
              "        vertical-align: middle;\n",
              "    }\n",
              "\n",
              "    .dataframe tbody tr th {\n",
              "        vertical-align: top;\n",
              "    }\n",
              "\n",
              "    .dataframe thead th {\n",
              "        text-align: right;\n",
              "    }\n",
              "</style>\n",
              "<table border=\"1\" class=\"dataframe\">\n",
              "  <thead>\n",
              "    <tr style=\"text-align: right;\">\n",
              "      <th></th>\n",
              "      <th>prior</th>\n",
              "      <th>likelihood</th>\n",
              "      <th>unnorm</th>\n",
              "      <th>posterior</th>\n",
              "    </tr>\n",
              "  </thead>\n",
              "  <tbody>\n",
              "    <tr>\n",
              "      <th>0</th>\n",
              "      <td>0.2</td>\n",
              "      <td>0.00</td>\n",
              "      <td>0.00</td>\n",
              "      <td>0.0</td>\n",
              "    </tr>\n",
              "    <tr>\n",
              "      <th>1</th>\n",
              "      <td>0.2</td>\n",
              "      <td>0.25</td>\n",
              "      <td>0.05</td>\n",
              "      <td>0.1</td>\n",
              "    </tr>\n",
              "    <tr>\n",
              "      <th>2</th>\n",
              "      <td>0.2</td>\n",
              "      <td>0.50</td>\n",
              "      <td>0.10</td>\n",
              "      <td>0.2</td>\n",
              "    </tr>\n",
              "    <tr>\n",
              "      <th>3</th>\n",
              "      <td>0.2</td>\n",
              "      <td>0.75</td>\n",
              "      <td>0.15</td>\n",
              "      <td>0.3</td>\n",
              "    </tr>\n",
              "    <tr>\n",
              "      <th>4</th>\n",
              "      <td>0.2</td>\n",
              "      <td>1.00</td>\n",
              "      <td>0.20</td>\n",
              "      <td>0.4</td>\n",
              "    </tr>\n",
              "  </tbody>\n",
              "</table>\n",
              "</div>"
            ],
            "text/plain": [
              "   prior  likelihood  unnorm  posterior\n",
              "0    0.2        0.00    0.00        0.0\n",
              "1    0.2        0.25    0.05        0.1\n",
              "2    0.2        0.50    0.10        0.2\n",
              "3    0.2        0.75    0.15        0.3\n",
              "4    0.2        1.00    0.20        0.4"
            ]
          },
          "metadata": {
            "tags": []
          },
          "execution_count": 10
        }
      ]
    },
    {
      "cell_type": "markdown",
      "metadata": {
        "id": "hwOerV_2GTcC",
        "colab_type": "text"
      },
      "source": [
        "Two things you might notice about these results:\n",
        "\n",
        "1. One of the hypotheses has a posterior probability of 0, which means it has been ruled out entirely.  And that makes sense: Bowl 0 contains no vanilla cookies, so if we get a vanilla cookie, we know it's not from Bowl 0.\n",
        "\n",
        "2. The posterior probabilities form a straight line.  We can see this more clearly by plotting the results."
      ]
    },
    {
      "cell_type": "code",
      "metadata": {
        "id": "G4RNxpENGTcE",
        "colab_type": "code",
        "colab": {}
      },
      "source": [
        "import matplotlib.pyplot as plt"
      ],
      "execution_count": 0,
      "outputs": []
    },
    {
      "cell_type": "code",
      "metadata": {
        "id": "7R_reDhUGTcL",
        "colab_type": "code",
        "outputId": "c86a06ba-47f3-4d8b-c171-3c1d548413e3",
        "colab": {
          "base_uri": "https://localhost:8080/",
          "height": 276
        }
      },
      "source": [
        "table['posterior'].plot(kind='bar')\n",
        "plt.xlabel('Bowl #')\n",
        "plt.ylabel('Posterior probability');"
      ],
      "execution_count": 0,
      "outputs": [
        {
          "output_type": "display_data",
          "data": {
            "image/png": "[encoded data removed]",
            "text/plain": [
              "<Figure size 432x288 with 1 Axes>"
            ]
          },
          "metadata": {
            "tags": [],
            "needs_background": "light"
          }
        }
      ]
    },
    {
      "cell_type": "markdown",
      "metadata": {
        "id": "fQ_ODnXGGTcS",
        "colab_type": "text"
      },
      "source": [
        "**Exercise:**  Use the table method to solve the following problem and plot the results as a bar chart.\n",
        "\n",
        ">The blue M&M was introduced in 1995.  Before then, the color mix in a bag of plain M&Ms was (30% Brown, 20% Yellow, 20% Red, 10% Green, 10% Orange, 10% Tan).  \n",
        ">\n",
        ">Afterward it was (24% Blue , 20% Green, 16% Orange, 14% Yellow, 13% Red, 13% Brown).\n",
        ">\n",
        ">A friend of mine has two bags of M&Ms, and he tells me that one is from 1994 and one from 1996.  He won't tell me which is which, but he gives me one M&M from each bag.  One is yellow and one is green.  What is the probability that the yellow M&M came from the 1994 bag?\n",
        "\n",
        "Hint: If the yellow came from 1994, the green must have come from 1996.  By Theorem 2 (conjunction), the likelihood of this combination is (0.2)(0.2)."
      ]
    },
    {
      "cell_type": "code",
      "metadata": {
        "id": "XTfdR9f1GTcU",
        "colab_type": "code",
        "outputId": "4cdaac93-e96b-4cb6-b940-0e36e84441f7",
        "colab": {
          "base_uri": "https://localhost:8080/",
          "height": 108
        }
      },
      "source": [
        "# Solution goes here\n",
        "table = pd.DataFrame(index=['1994', '1996'])\n",
        "table['prior'] = 1/2, 1/2\n",
        "table['likelihood'] = (0.2 * 0.2), (0.14 * 0.1)\n",
        "table['unnorm'] = table['prior'] * table['likelihood']\n",
        "prob_data = table['unnorm'].sum()\n",
        "table['posterior'] = table['unnorm'] / prob_data\n",
        "table\n"
      ],
      "execution_count": 0,
      "outputs": [
        {
          "output_type": "execute_result",
          "data": {
            "text/html": [
              "<div>\n",
              "<style scoped>\n",
              "    .dataframe tbody tr th:only-of-type {\n",
              "        vertical-align: middle;\n",
              "    }\n",
              "\n",
              "    .dataframe tbody tr th {\n",
              "        vertical-align: top;\n",
              "    }\n",
              "\n",
              "    .dataframe thead th {\n",
              "        text-align: right;\n",
              "    }\n",
              "</style>\n",
              "<table border=\"1\" class=\"dataframe\">\n",
              "  <thead>\n",
              "    <tr style=\"text-align: right;\">\n",
              "      <th></th>\n",
              "      <th>prior</th>\n",
              "      <th>likelihood</th>\n",
              "      <th>unnorm</th>\n",
              "      <th>posterior</th>\n",
              "    </tr>\n",
              "  </thead>\n",
              "  <tbody>\n",
              "    <tr>\n",
              "      <th>1994</th>\n",
              "      <td>0.5</td>\n",
              "      <td>0.040</td>\n",
              "      <td>0.020</td>\n",
              "      <td>0.740741</td>\n",
              "    </tr>\n",
              "    <tr>\n",
              "      <th>1996</th>\n",
              "      <td>0.5</td>\n",
              "      <td>0.014</td>\n",
              "      <td>0.007</td>\n",
              "      <td>0.259259</td>\n",
              "    </tr>\n",
              "  </tbody>\n",
              "</table>\n",
              "</div>"
            ],
            "text/plain": [
              "      prior  likelihood  unnorm  posterior\n",
              "1994    0.5       0.040   0.020   0.740741\n",
              "1996    0.5       0.014   0.007   0.259259"
            ]
          },
          "metadata": {
            "tags": []
          },
          "execution_count": 13
        }
      ]
    },
    {
      "cell_type": "code",
      "metadata": {
        "id": "Ob4n2W08GTca",
        "colab_type": "code",
        "outputId": "dc2329e1-2cb6-422a-f8c3-5e06f3031a2e",
        "colab": {
          "base_uri": "https://localhost:8080/",
          "height": 295
        }
      },
      "source": [
        "# Solution goes here\n",
        "import matplotlib.pyplot as plt\n",
        "table['posterior'].plot(kind='bar')\n",
        "plt.xlabel('Year')\n",
        "plt.ylabel('Posterior probability');\n"
      ],
      "execution_count": 0,
      "outputs": [
        {
          "output_type": "display_data",
          "data": {
            "image/png": "[encoded data removed]",
            "text/plain": [
              "<Figure size 432x288 with 1 Axes>"
            ]
          },
          "metadata": {
            "tags": [],
            "needs_background": "light"
          }
        }
      ]
    },
    {
      "cell_type": "markdown",
      "metadata": {
        "id": "PLr50X-CGTci",
        "colab_type": "text"
      },
      "source": [
        "## Why does this work?\n",
        "\n",
        "Now I will explain how the table method works, making two arguments:\n",
        "\n",
        "1. First, I'll show that it makes sense to normalize the posteriors so they add up to 1.\n",
        "\n",
        "2. Then I'll show that this step is consistent with Bayes's Theorem, because the total of the unnormalized posteriors is the total probability of the data, $P(D)$.\n",
        "\n",
        "Here's the first argument.  Let's start with Bayes's Theorem:\n",
        "\n",
        "$P(H|D) = P(H) ~ P(D|H)~/~P(D)$\n",
        "\n",
        "Notice that the denominator, $P(D)$, does not depend on $H$, so it is the same for all hypotheses.  If we factor it out, we get:\n",
        "\n",
        "$P(H|D) \\sim P(H) ~ P(D|H)$\n",
        "\n",
        "which says that the posterior probabilities *are proportional to* the unnormalized posteriors.  In other words, if we leave out $P(D)$, we get the proportions right, but not the total."
      ]
    },
    {
      "cell_type": "markdown",
      "metadata": {
        "id": "e4wPXLXRGTck",
        "colab_type": "text"
      },
      "source": [
        "Then how do we figure out the total?  Well, in this example we know that the cookie came from exactly one of the bowls.  So the hypotheses are:\n",
        "\n",
        "* Mutually exclusive, that is, only one of them can be true, and\n",
        "\n",
        "* Collectively exhaustive, that is, at least one of them must be true.\n",
        "\n",
        "Exactly one of the hypotheses must be true, so the posterior probabilities have to add up to 1.  Most of the time, the unnormalized posteriors don't add up to 1, but when we divide through by the total, we ensure that the *normalized* posteriors do.\n",
        "\n",
        "That's the first argument.  I hope it makes some sense, but if you don't find it entirely satisfying, keep going."
      ]
    },
    {
      "cell_type": "markdown",
      "metadata": {
        "id": "Zoh5_WZzGTcl",
        "colab_type": "text"
      },
      "source": [
        "## Rolling the dice\n",
        "\n",
        "Before I can make the second argument, we need one more law of probability, which I will explain with a new example:\n",
        "\n",
        "> Suppose you have a 4-sided die and a 6-sided die.  You choose one at random and roll it.  What is the probability of getting a 1?\n",
        "\n",
        "To answer that, I'll define two hypotheses and a datum:\n",
        "\n",
        "* $H_4$: You chose the 4-sided die.\n",
        "\n",
        "* $H_6$: You chose the 6-sided die.\n",
        "\n",
        "* $D$: You rolled a 1."
      ]
    },
    {
      "cell_type": "markdown",
      "metadata": {
        "id": "xuVueowvGTcm",
        "colab_type": "text"
      },
      "source": [
        "On a 4-sided die, the probability of rolling 1 is $1/4$; on a 6-sided die it is $1/6$.  So we can write the conditional probabilities:\n",
        "\n",
        "$P(D|H_4) = 1/4$\n",
        "\n",
        "$P(D|H_6) = 1/6$\n",
        "\n",
        "And if the probability of choosing either die is equal, we know the prior probabilities:\n",
        "\n",
        "$P(H_4) = 1/2$\n",
        "\n",
        "$P(H_6) = 1/2$"
      ]
    },
    {
      "cell_type": "markdown",
      "metadata": {
        "id": "iK5ZKxeaGTcn",
        "colab_type": "text"
      },
      "source": [
        "But what is the total probability of the data, $P(D)$?\n",
        "\n",
        "At this point your intuition might tell you that it is the weighted sum of the conditional probabilities:\n",
        "\n",
        "$P(D) = P(H_4)P(D|H_4) + P(H_6)P(D|H_6)$\n",
        "\n",
        "Which is\n",
        "\n",
        "$P(D) = (1/2)(1/4) + (1/2)(1/6)$\n",
        "\n",
        "Which is"
      ]
    },
    {
      "cell_type": "code",
      "metadata": {
        "id": "Ai9P6pdmGTco",
        "colab_type": "code",
        "outputId": "8aa863be-be56-4236-aae3-9103ec7b552b",
        "colab": {
          "base_uri": "https://localhost:8080/",
          "height": 35
        }
      },
      "source": [
        "(1/2)*(1/4) + (1/2)*(1/6)"
      ],
      "execution_count": 0,
      "outputs": [
        {
          "output_type": "execute_result",
          "data": {
            "text/plain": [
              "0.20833333333333331"
            ]
          },
          "metadata": {
            "tags": []
          },
          "execution_count": 8
        }
      ]
    },
    {
      "cell_type": "markdown",
      "metadata": {
        "id": "2vNaGvWjGTct",
        "colab_type": "text"
      },
      "source": [
        "And that's correct.  But if your intuition did not tell you that, or if you would like to see something closer to a proof, keep going."
      ]
    },
    {
      "cell_type": "markdown",
      "metadata": {
        "id": "1midz4DIGTcv",
        "colab_type": "text"
      },
      "source": [
        "## Disjunction\n",
        "\n",
        "In this example, we can describe the outcome in terms of logical operators like this:\n",
        "\n",
        "> The outcome is 1 if you choose the 4-sided die **and** roll 1 **or** you roll the 6-sided die **and** roll 1.\n",
        "\n",
        "Using math notation, $D$ is true if:\n",
        "\n",
        "$(H_4 ~and~ D) ~or~ (H_6 ~and~ D)$\n",
        "\n",
        "We've already seen the $and$ operator, also known as \"conjunction\", but we have not yet seen the $or$ operator, which is also known as \"disjunction\"?\n",
        "\n",
        "For that, we a new rule, which I'll call **Theorem 4**:\n",
        "\n",
        "$P(A ~or~ B) = P(A) + P(B) - P(A ~and~ B)$"
      ]
    },
    {
      "cell_type": "markdown",
      "metadata": {
        "id": "6MdPcVBoGTcx",
        "colab_type": "text"
      },
      "source": [
        "To see why that's true, let's take a look at the Venn diagram:\n",
        "\n",
        "<img width=\"200\" src=\"https://github.com/AllenDowney/BiteSizeBayes/raw/master/theorem4_venn_diagram.png\">\n",
        "\n",
        "What we want is the total of the blue, red, and purple regions.  If we add $P(A)$ and $P(B)$, we get the blue and red regions right, but we double-count the purple region.  So we have to subtract off one purple region, which is $P(A ~and~ B)$."
      ]
    },
    {
      "cell_type": "markdown",
      "metadata": {
        "id": "ZsgtS7CqGTcy",
        "colab_type": "text"
      },
      "source": [
        "**Exercise:** Let's do a quick example using disjunction.  \n",
        "\n",
        "A standard deck of playing cards contains 52 cards; \n",
        "\n",
        "* 26 of them are red, \n",
        "\n",
        "* 12 of them are face cards, and \n",
        "\n",
        "* 6 of them are red face cards.\n",
        "\n",
        "The following diagram shows what I mean: the red rectangle contains the red cards; the blue rectangle contains the face cards, and the overlap includes the red face cards.\n",
        "\n",
        "<img width=\"500\"\n",
        "     src=\"https://github.com/AllenDowney/BiteSizeBayes/raw/master/card_venn_diagram.png\">\n",
        "\n",
        "\n",
        "If we choose a card at random, here are the probabilities of choosing a red card, a face card, and a red face card:"
      ]
    },
    {
      "cell_type": "code",
      "metadata": {
        "id": "5-nJJpaHGTcz",
        "colab_type": "code",
        "outputId": "0274628a-7b08-4ba2-8aa7-37b033ff9506",
        "colab": {
          "base_uri": "https://localhost:8080/",
          "height": 35
        }
      },
      "source": [
        "p_red = 26/52\n",
        "p_face = 12/52\n",
        "p_red_face = 6/52\n",
        "\n",
        "p_red, p_face, p_red_face"
      ],
      "execution_count": 0,
      "outputs": [
        {
          "output_type": "execute_result",
          "data": {
            "text/plain": [
              "(0.5, 0.23076923076923078, 0.11538461538461539)"
            ]
          },
          "metadata": {
            "tags": []
          },
          "execution_count": 9
        }
      ]
    },
    {
      "cell_type": "markdown",
      "metadata": {
        "id": "vWBcvwxWGTc4",
        "colab_type": "text"
      },
      "source": [
        "Use Theorem 4 to compute the probability of choosing a card that is either red, or a face card, or both:"
      ]
    },
    {
      "cell_type": "code",
      "metadata": {
        "id": "FHGTb_A1GTc5",
        "colab_type": "code",
        "outputId": "6816cc4c-c8f6-45c6-a290-3b51db4a2681",
        "colab": {
          "base_uri": "https://localhost:8080/",
          "height": 35
        }
      },
      "source": [
        "# Solution goes here\n",
        "p_or = p_red + p_face - p_red_face\n",
        "p_or"
      ],
      "execution_count": 0,
      "outputs": [
        {
          "output_type": "execute_result",
          "data": {
            "text/plain": [
              "0.6153846153846154"
            ]
          },
          "metadata": {
            "tags": []
          },
          "execution_count": 12
        }
      ]
    },
    {
      "cell_type": "markdown",
      "metadata": {
        "id": "DUG-1Kb3GTc_",
        "colab_type": "text"
      },
      "source": [
        "## Total probability\n",
        "\n",
        "In the dice example, $H_4$ and $H_6$ are mutually exclusive, which means only one of them can be true, so the purple region is 0.  Therefore:\n",
        "\n",
        "$P(D) = P(H_4 ~and~ D) + P(H_6 ~and~ D) - 0$\n",
        "\n",
        "Now we can use **Theorem 2** to replace the conjunctions with conditonal probabilities:\n",
        "\n",
        "$P(D) = P(H_4)~P(D|H_4) + P(H_6)~P(D|H_6)$\n",
        "\n",
        "By a similar argument, we can show that this is true for any number of hypotheses.  For example, if we add an 8-sided die to the mix, we can write:\n",
        "\n",
        "$P(D) = P(H_4)~P(D|H_4) + P(H_6)~P(D|H_6) + P(H_8)~P(D|H_8)$"
      ]
    },
    {
      "cell_type": "markdown",
      "metadata": {
        "id": "j4i3vV1AGTdB",
        "colab_type": "text"
      },
      "source": [
        "And more generally, with any number of hypotheses $H_i$:\n",
        "\n",
        "$P(D) = \\sum_i P(H_i)~P(D|H_i)$\n",
        "\n",
        "Which shows that the total probability of the data is the sum of the unnormalized posteriors.\n",
        "\n",
        "And that's why the table method works."
      ]
    },
    {
      "cell_type": "markdown",
      "metadata": {
        "id": "lvFaM4LUGTdE",
        "colab_type": "text"
      },
      "source": [
        "Now let's get back to the original question:\n",
        "\n",
        "> Suppose you have a 4-sided die and a 6-sided die.  You choose one at random and roll it.  What is the probability of getting a 1?\n",
        "\n",
        "We can use a Bayes table to compute the answer.  Here are the priors:"
      ]
    },
    {
      "cell_type": "code",
      "metadata": {
        "id": "nI8MqsoVGTdG",
        "colab_type": "code",
        "outputId": "35d0fc72-c1b5-42af-e6b4-c127d9e6a350",
        "colab": {
          "base_uri": "https://localhost:8080/",
          "height": 108
        }
      },
      "source": [
        "table = pd.DataFrame(index=['H4', 'H6'])\n",
        "table['prior'] = 1/2, 1/2\n",
        "table"
      ],
      "execution_count": 0,
      "outputs": [
        {
          "output_type": "execute_result",
          "data": {
            "text/html": [
              "<div>\n",
              "<style scoped>\n",
              "    .dataframe tbody tr th:only-of-type {\n",
              "        vertical-align: middle;\n",
              "    }\n",
              "\n",
              "    .dataframe tbody tr th {\n",
              "        vertical-align: top;\n",
              "    }\n",
              "\n",
              "    .dataframe thead th {\n",
              "        text-align: right;\n",
              "    }\n",
              "</style>\n",
              "<table border=\"1\" class=\"dataframe\">\n",
              "  <thead>\n",
              "    <tr style=\"text-align: right;\">\n",
              "      <th></th>\n",
              "      <th>prior</th>\n",
              "    </tr>\n",
              "  </thead>\n",
              "  <tbody>\n",
              "    <tr>\n",
              "      <th>H4</th>\n",
              "      <td>0.5</td>\n",
              "    </tr>\n",
              "    <tr>\n",
              "      <th>H6</th>\n",
              "      <td>0.5</td>\n",
              "    </tr>\n",
              "  </tbody>\n",
              "</table>\n",
              "</div>"
            ],
            "text/plain": [
              "    prior\n",
              "H4    0.5\n",
              "H6    0.5"
            ]
          },
          "metadata": {
            "tags": []
          },
          "execution_count": 20
        }
      ]
    },
    {
      "cell_type": "markdown",
      "metadata": {
        "id": "lsG75Tb3GTeE",
        "colab_type": "text"
      },
      "source": [
        "And the likelihoods:"
      ]
    },
    {
      "cell_type": "code",
      "metadata": {
        "id": "S57VMfB-GTeG",
        "colab_type": "code",
        "outputId": "f57635e3-b135-4478-eaba-a3ba02531010",
        "colab": {
          "base_uri": "https://localhost:8080/",
          "height": 108
        }
      },
      "source": [
        "table['likelihood'] = 1/4, 1/6\n",
        "table"
      ],
      "execution_count": 0,
      "outputs": [
        {
          "output_type": "execute_result",
          "data": {
            "text/html": [
              "<div>\n",
              "<style scoped>\n",
              "    .dataframe tbody tr th:only-of-type {\n",
              "        vertical-align: middle;\n",
              "    }\n",
              "\n",
              "    .dataframe tbody tr th {\n",
              "        vertical-align: top;\n",
              "    }\n",
              "\n",
              "    .dataframe thead th {\n",
              "        text-align: right;\n",
              "    }\n",
              "</style>\n",
              "<table border=\"1\" class=\"dataframe\">\n",
              "  <thead>\n",
              "    <tr style=\"text-align: right;\">\n",
              "      <th></th>\n",
              "      <th>prior</th>\n",
              "      <th>likelihood</th>\n",
              "    </tr>\n",
              "  </thead>\n",
              "  <tbody>\n",
              "    <tr>\n",
              "      <th>H4</th>\n",
              "      <td>0.5</td>\n",
              "      <td>0.250000</td>\n",
              "    </tr>\n",
              "    <tr>\n",
              "      <th>H6</th>\n",
              "      <td>0.5</td>\n",
              "      <td>0.166667</td>\n",
              "    </tr>\n",
              "  </tbody>\n",
              "</table>\n",
              "</div>"
            ],
            "text/plain": [
              "    prior  likelihood\n",
              "H4    0.5    0.250000\n",
              "H6    0.5    0.166667"
            ]
          },
          "metadata": {
            "tags": []
          },
          "execution_count": 21
        }
      ]
    },
    {
      "cell_type": "markdown",
      "metadata": {
        "id": "HXb8B0WiGTec",
        "colab_type": "text"
      },
      "source": [
        "Now we compute the unnormalized posteriors in the usual way:"
      ]
    },
    {
      "cell_type": "code",
      "metadata": {
        "id": "iGBBL1JPGTef",
        "colab_type": "code",
        "outputId": "ef08ff17-488f-49d6-f372-89006b82aaf9",
        "colab": {
          "base_uri": "https://localhost:8080/",
          "height": 108
        }
      },
      "source": [
        "table['unnorm'] = table['prior'] * table['likelihood']\n",
        "table"
      ],
      "execution_count": 0,
      "outputs": [
        {
          "output_type": "execute_result",
          "data": {
            "text/html": [
              "<div>\n",
              "<style scoped>\n",
              "    .dataframe tbody tr th:only-of-type {\n",
              "        vertical-align: middle;\n",
              "    }\n",
              "\n",
              "    .dataframe tbody tr th {\n",
              "        vertical-align: top;\n",
              "    }\n",
              "\n",
              "    .dataframe thead th {\n",
              "        text-align: right;\n",
              "    }\n",
              "</style>\n",
              "<table border=\"1\" class=\"dataframe\">\n",
              "  <thead>\n",
              "    <tr style=\"text-align: right;\">\n",
              "      <th></th>\n",
              "      <th>prior</th>\n",
              "      <th>likelihood</th>\n",
              "      <th>unnorm</th>\n",
              "    </tr>\n",
              "  </thead>\n",
              "  <tbody>\n",
              "    <tr>\n",
              "      <th>H4</th>\n",
              "      <td>0.5</td>\n",
              "      <td>0.250000</td>\n",
              "      <td>0.125000</td>\n",
              "    </tr>\n",
              "    <tr>\n",
              "      <th>H6</th>\n",
              "      <td>0.5</td>\n",
              "      <td>0.166667</td>\n",
              "      <td>0.083333</td>\n",
              "    </tr>\n",
              "  </tbody>\n",
              "</table>\n",
              "</div>"
            ],
            "text/plain": [
              "    prior  likelihood    unnorm\n",
              "H4    0.5    0.250000  0.125000\n",
              "H6    0.5    0.166667  0.083333"
            ]
          },
          "metadata": {
            "tags": []
          },
          "execution_count": 22
        }
      ]
    },
    {
      "cell_type": "markdown",
      "metadata": {
        "id": "FHDJkIBnGTeq",
        "colab_type": "text"
      },
      "source": [
        "And the total probability of the data:"
      ]
    },
    {
      "cell_type": "code",
      "metadata": {
        "id": "JgTEnftQGTer",
        "colab_type": "code",
        "outputId": "b7fb231a-8588-4134-8183-e8a0f03a408a",
        "colab": {
          "base_uri": "https://localhost:8080/",
          "height": 35
        }
      },
      "source": [
        "prob_data = table['unnorm'].sum()\n",
        "prob_data"
      ],
      "execution_count": 0,
      "outputs": [
        {
          "output_type": "execute_result",
          "data": {
            "text/plain": [
              "0.20833333333333331"
            ]
          },
          "metadata": {
            "tags": []
          },
          "execution_count": 23
        }
      ]
    },
    {
      "cell_type": "markdown",
      "metadata": {
        "id": "KXx_aQOyGTey",
        "colab_type": "text"
      },
      "source": [
        "That's what we got when we solved the problem by hand, so that's good."
      ]
    },
    {
      "cell_type": "markdown",
      "metadata": {
        "id": "upWRepuOGTez",
        "colab_type": "text"
      },
      "source": [
        "**Exercise:** Suppose you have a 4-sided, 6-sided, and 8-sided die.  You choose one at random and roll it, what is the probability of getting a 1?\n",
        "\n",
        "Do you expect it to be higher or lower than in the previous example?"
      ]
    },
    {
      "cell_type": "code",
      "metadata": {
        "id": "YU9tjSFyGTe1",
        "colab_type": "code",
        "outputId": "a65f34ba-b7e3-4db4-da7f-0759e188a8bc",
        "colab": {
          "base_uri": "https://localhost:8080/",
          "height": 35
        }
      },
      "source": [
        "# Solution goes here\n",
        "\n",
        "table = pd.DataFrame(index=['H4', 'H6', 'H8', 'H12'])\n",
        "table['prior'] = 1/4, 1/4, 1/4, 1/4\n",
        "table['likelihood'] = 1/4, 1/6, 1/8, 1/12\n",
        "table['unnorm'] = table['prior'] * table['likelihood']\n",
        "prob_data = table['unnorm'].sum()\n",
        "prob_data\n"
      ],
      "execution_count": 0,
      "outputs": [
        {
          "output_type": "execute_result",
          "data": {
            "text/plain": [
              "0.15625"
            ]
          },
          "metadata": {
            "tags": []
          },
          "execution_count": 24
        }
      ]
    },
    {
      "cell_type": "code",
      "metadata": {
        "id": "ls3xJxivGTe8",
        "colab_type": "code",
        "colab": {}
      },
      "source": [
        "# Solution goes here\n",
        "# WOuld expect the value to be lower"
      ],
      "execution_count": 0,
      "outputs": []
    },
    {
      "cell_type": "markdown",
      "metadata": {
        "id": "2z2675h9GTfC",
        "colab_type": "text"
      },
      "source": [
        "## Prediction and inference\n",
        "\n",
        "In the previous section, we use a Bayes table to solve this problem:\n",
        "\n",
        "> Suppose you have a 4-sided die and a 6-sided die.  You choose one at random and roll it.  What is the probability of getting a 1?\n",
        "\n",
        "I'll call this a \"prediction problem\" because we are given a scenario and asked for the probability of a predicted outcome.\n",
        "\n",
        "Now let's solve a closely-related problem:\n",
        "\n",
        "> Suppose you have a 4-sided die and a 6-sided die.  You choose one at random, roll it, and get a 1.  What is the probability that the die you rolled is 4-sided?\n",
        "\n",
        "I'll call this an \"inference problem\" because we are given the outcome and asked to figure out, or \"infer\", which die was rolled.\n",
        "\n",
        "Here's a solution:"
      ]
    },
    {
      "cell_type": "code",
      "metadata": {
        "id": "wnAKFFjZGTfD",
        "colab_type": "code",
        "colab": {}
      },
      "source": [
        "table = pd.DataFrame(index=['H4', 'H6'])\n",
        "table['prior'] = 1/2, 1/2\n",
        "table['likelihood'] = 1/4, 1/6\n",
        "table['unnorm'] = table['prior'] * table['likelihood']\n",
        "prob_data = table['unnorm'].sum()\n",
        "table['posterior'] = table['unnorm'] / prob_data\n",
        "table"
      ],
      "execution_count": 0,
      "outputs": []
    },
    {
      "cell_type": "markdown",
      "metadata": {
        "id": "h_-zWEysGTfJ",
        "colab_type": "text"
      },
      "source": [
        "Given that the outcome is a 1, there is a 60% chance the die you rolled was 4-sided.\n",
        "\n",
        "As this example shows, prediction and inference closely-related problems, and we can use the same methods for both."
      ]
    },
    {
      "cell_type": "markdown",
      "metadata": {
        "id": "Gsvmh7fOGTfL",
        "colab_type": "text"
      },
      "source": [
        "**Exercise:** Let's add some more dice:\n",
        "\n",
        "1. Suppose you have a 4-sided, 6-sided, 8-sided, and 12-sided die.  You choose one at random and roll it.  What is the probabily of getting a 1?\n",
        "\n",
        "2. Now suppose the outcome is a 1. What is the probability that the die you rolled is 4-sided?  And what are the posterior probabilities for the other dice?"
      ]
    },
    {
      "cell_type": "code",
      "metadata": {
        "id": "Eu2oK3qyGTfL",
        "colab_type": "code",
        "colab": {}
      },
      "source": [
        "# Solution goes here\n",
        "table = pd.DataFrame(index=['H4', 'H6'])\n",
        "table['prior'] = 1/4, 1/4, 1/4, 1/4\n",
        "table['likelihood'] = 1/4, 1/6, 1/8, 1/12\n",
        "table['unnorm'] = table['prior'] * table['likelihood']\n",
        "prob_data = table['unnorm'].sum()\n",
        "table['posterior'] = table['unnorm'] / prob_data\n",
        "table"
      ],
      "execution_count": 0,
      "outputs": []
    },
    {
      "cell_type": "code",
      "metadata": {
        "id": "cw4QdOJEGTfR",
        "colab_type": "code",
        "colab": {}
      },
      "source": [
        ""
      ],
      "execution_count": 0,
      "outputs": []
    },
    {
      "cell_type": "markdown",
      "metadata": {
        "id": "q6Jl0Qj_GTfV",
        "colab_type": "text"
      },
      "source": [
        "## Summary\n",
        "\n",
        "In this notebook, I introduced a new law of probability, so now we have four:\n",
        "\n",
        "**Theorem 1** gives us a way to compute a conditional probability using a conjunction:\n",
        "\n",
        "$P(A|B) = \\frac{P(A~\\mathrm{and}~B)}{P(B)}$ \n",
        "\n",
        "**Theorem 2** gives us a way to compute a conjunction using a conditional probability:\n",
        "\n",
        "$P(A~\\mathrm{and}~B) = P(B) P(A|B)$\n",
        "\n",
        "**Theorem 3** gives us a way to get from $P(A|B)$ to $P(B|A)$, or the other way around:\n",
        "\n",
        "$P(A|B) = \\frac{P(A) P(B|A)}{P(B)}$\n",
        "\n",
        "**Theorem 4** gives us a way to compute a disjunction using a conjunction.\n",
        "\n",
        "$P(A ~or~ B) = P(A) + P(B) - P(A ~and~ B)$\n",
        "\n",
        "Then we used Theorems 2 and 4 to show that the sum of the unnormalized posteriors is the total probability of the data, which we wrote like this:\n",
        "\n",
        "$P(D) = \\sum_i P(H_i)~P(D|H_i)$\n",
        "\n",
        "This conclusion is useful for two reasons:\n",
        "\n",
        "1. It provides a way to compute the probability of future data using prior probabilities and likelihoods, and\n",
        "\n",
        "2. It explains why the Bayes table method works.\n",
        "\n",
        "[In the next notebook](https://colab.research.google.com/github/AllenDowney/BiteSizeBayes/blob/master/05_test.ipynb) we will explore a famously useful application of Bayes's Theorem, medical testing."
      ]
    },
    {
      "cell_type": "code",
      "metadata": {
        "id": "5rDG1qBtGTfW",
        "colab_type": "code",
        "colab": {}
      },
      "source": [
        ""
      ],
      "execution_count": 0,
      "outputs": []
    }
  ]
}