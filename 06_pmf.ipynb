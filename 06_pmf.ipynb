{
  "nbformat": 4,
  "nbformat_minor": 0,
  "metadata": {
    "kernelspec": {
      "display_name": "Python 3",
      "language": "python",
      "name": "python3"
    },
    "language_info": {
      "codemirror_mode": {
        "name": "ipython",
        "version": 3
      },
      "file_extension": ".py",
      "mimetype": "text/x-python",
      "name": "python",
      "nbconvert_exporter": "python",
      "pygments_lexer": "ipython3",
      "version": "3.7.6"
    },
    "colab": {
      "name": "06_pmf.ipynb",
      "provenance": [],
      "collapsed_sections": [],
      "include_colab_link": true
    }
  },
  "cells": [
    {
      "cell_type": "markdown",
      "metadata": {
        "id": "view-in-github",
        "colab_type": "text"
      },
      "source": [
        "<a href=\"https://colab.research.google.com/github/anushadatar/Olin-Data-Science-SP20/blob/master/06_pmf.ipynb\" target=\"_parent\"><img src=\"https://colab.research.google.com/assets/colab-badge.svg\" alt=\"Open In Colab\"/></a>"
      ]
    },
    {
      "cell_type": "markdown",
      "metadata": {
        "id": "xjNEK1MIn9nU",
        "colab_type": "text"
      },
      "source": [
        "# Bite Size Bayes\n",
        "\n",
        "Copyright 2020 Allen B. Downey\n",
        "\n",
        "License: [Attribution-NonCommercial-ShareAlike 4.0 International (CC BY-NC-SA 4.0)](https://creativecommons.org/licenses/by-nc-sa/4.0/)"
      ]
    },
    {
      "cell_type": "markdown",
      "metadata": {
        "id": "Ov3wL-sfn9nV",
        "colab_type": "text"
      },
      "source": [
        "## Review\n",
        "\n",
        "[In the previous notebook](https://colab.research.google.com/github/AllenDowney/BiteSizeBayes/blob/master/05_test.ipynb) we used a Bayes table to interpret medical tests.\n",
        "\n",
        "In this notebook we'll solve an expanded version of the cookie problem with 101 Bowls.  It might seem like a silly problem, but it's not: the solution demonstrates a Bayesian way to estimate a proportion, and it applies to lots of real problems that don't involve cookies.\n",
        "\n",
        "Then I'll introduce an alternative to the Bayes table, a probability mass function (PMF), which is a useful way to represent and do computations with distributions.\n",
        "\n",
        "Here's the function, from the previous notebook, we'll use to make Bayes tables:"
      ]
    },
    {
      "cell_type": "code",
      "metadata": {
        "id": "bC7N5QfAn9nW",
        "colab_type": "code",
        "colab": {}
      },
      "source": [
        "import pandas as pd\n",
        "\n",
        "def make_bayes_table(hypos, prior, likelihood):\n",
        "    \"\"\"Make a Bayes table.\n",
        "    \n",
        "    hypos: sequence of hypotheses\n",
        "    prior: prior probabilities\n",
        "    likelihood: sequence of likelihoods\n",
        "    \n",
        "    returns: DataFrame\n",
        "    \"\"\"\n",
        "    table = pd.DataFrame(index=hypos)\n",
        "    table['prior'] = prior\n",
        "    table['likelihood'] = likelihood\n",
        "    table['unnorm'] = table['prior'] * table['likelihood']\n",
        "    prob_data = table['unnorm'].sum()\n",
        "    table['posterior'] = table['unnorm'] / prob_data\n",
        "    return table"
      ],
      "execution_count": 0,
      "outputs": []
    },
    {
      "cell_type": "markdown",
      "metadata": {
        "id": "LQAqXgPSn9nb",
        "colab_type": "text"
      },
      "source": [
        "## 101 Bowls\n",
        "\n",
        "In [Notebook 4](https://colab.research.google.com/github/AllenDowney/BiteSizeBayes/blob/master/05_dice.ipynb), we saw that the Bayes table works with more than two hypotheses.  As an example, we solved a cookie problem with five bowls.\n",
        "\n",
        "Now we'll take it even farther and solve a cookie problem with 101 bowls:\n",
        "\n",
        "* Bowl 0 contains no vanilla cookies,\n",
        "\n",
        "* Bowl 1 contains 1% vanilla cookies,\n",
        "\n",
        "* Bowl 2 contains 2% vanilla cookies,\n",
        "\n",
        "and so on, up to\n",
        "\n",
        "* Bowl 99 contains 99% vanilla cookies, and\n",
        "\n",
        "* Bowl 100 contains all vanilla cookies.\n",
        "\n",
        "As in the previous problems, there are only two kinds of cookies, vanilla and chocolate.  So Bowl 0 is all chocolate cookies, Bowl 1 is 99% chocolate, and so on.\n",
        "\n",
        "Suppose we choose a bowl at random, choose a cookie at random, and it turns out to be vanilla.  What is the probability that the cookie came from Bowl $x$, for each value of $x$?\n",
        "\n",
        "To solve this problem, I'll use `np.arange` to represent 101 hypotheses, numbered from 0 to 100."
      ]
    },
    {
      "cell_type": "code",
      "metadata": {
        "id": "EI9FNwydn9nb",
        "colab_type": "code",
        "colab": {}
      },
      "source": [
        "import numpy as np\n",
        "\n",
        "xs = np.arange(101)"
      ],
      "execution_count": 0,
      "outputs": []
    },
    {
      "cell_type": "markdown",
      "metadata": {
        "id": "HXPQcPAKn9ne",
        "colab_type": "text"
      },
      "source": [
        "The prior probability for each bowl is $1/101$.  I could create a sequence with 101 identical values, but if all of the priors are equal, we only have to probide one value:"
      ]
    },
    {
      "cell_type": "code",
      "metadata": {
        "id": "Ibo-s9w6n9nf",
        "colab_type": "code",
        "colab": {}
      },
      "source": [
        "prior = 1/101"
      ],
      "execution_count": 0,
      "outputs": []
    },
    {
      "cell_type": "markdown",
      "metadata": {
        "id": "iROubgqEn9nh",
        "colab_type": "text"
      },
      "source": [
        "Because of the way I numbered the bowls, the probability of a vanilla cookie from Bowl $x$ is $x/100$.  So we can compute the likelihoods like this:"
      ]
    },
    {
      "cell_type": "code",
      "metadata": {
        "id": "NysikPB6n9ni",
        "colab_type": "code",
        "colab": {}
      },
      "source": [
        "likelihood = xs/100"
      ],
      "execution_count": 0,
      "outputs": []
    },
    {
      "cell_type": "markdown",
      "metadata": {
        "id": "7cDcfol7n9nl",
        "colab_type": "text"
      },
      "source": [
        "And that's all we need; the Bayes table does the rest:"
      ]
    },
    {
      "cell_type": "code",
      "metadata": {
        "id": "MW6wMMnhn9nm",
        "colab_type": "code",
        "colab": {}
      },
      "source": [
        "table = make_bayes_table(xs, prior, likelihood)"
      ],
      "execution_count": 0,
      "outputs": []
    },
    {
      "cell_type": "markdown",
      "metadata": {
        "id": "Gs4ylyiwn9nq",
        "colab_type": "text"
      },
      "source": [
        "Here's a feature we have not seen before: we can give the index of the Bayes table a name, which will appear when we display the table."
      ]
    },
    {
      "cell_type": "code",
      "metadata": {
        "id": "D1Dwq5_Un9nr",
        "colab_type": "code",
        "colab": {}
      },
      "source": [
        "table.index.name = 'Bowl'"
      ],
      "execution_count": 0,
      "outputs": []
    },
    {
      "cell_type": "markdown",
      "metadata": {
        "id": "VtF0Ar4tn9nw",
        "colab_type": "text"
      },
      "source": [
        "Here are the first few rows:"
      ]
    },
    {
      "cell_type": "code",
      "metadata": {
        "id": "aJGDUlDen9nw",
        "colab_type": "code",
        "colab": {
          "base_uri": "https://localhost:8080/",
          "height": 228
        },
        "outputId": "b536aa6d-fea9-4e7c-bb87-4e7513eef55d"
      },
      "source": [
        "table.head()"
      ],
      "execution_count": 7,
      "outputs": [
        {
          "output_type": "execute_result",
          "data": {
            "text/html": [
              "<div>\n",
              "<style scoped>\n",
              "    .dataframe tbody tr th:only-of-type {\n",
              "        vertical-align: middle;\n",
              "    }\n",
              "\n",
              "    .dataframe tbody tr th {\n",
              "        vertical-align: top;\n",
              "    }\n",
              "\n",
              "    .dataframe thead th {\n",
              "        text-align: right;\n",
              "    }\n",
              "</style>\n",
              "<table border=\"1\" class=\"dataframe\">\n",
              "  <thead>\n",
              "    <tr style=\"text-align: right;\">\n",
              "      <th></th>\n",
              "      <th>prior</th>\n",
              "      <th>likelihood</th>\n",
              "      <th>unnorm</th>\n",
              "      <th>posterior</th>\n",
              "    </tr>\n",
              "    <tr>\n",
              "      <th>Bowl</th>\n",
              "      <th></th>\n",
              "      <th></th>\n",
              "      <th></th>\n",
              "      <th></th>\n",
              "    </tr>\n",
              "  </thead>\n",
              "  <tbody>\n",
              "    <tr>\n",
              "      <th>0</th>\n",
              "      <td>0.009901</td>\n",
              "      <td>0.00</td>\n",
              "      <td>0.000000</td>\n",
              "      <td>0.000000</td>\n",
              "    </tr>\n",
              "    <tr>\n",
              "      <th>1</th>\n",
              "      <td>0.009901</td>\n",
              "      <td>0.01</td>\n",
              "      <td>0.000099</td>\n",
              "      <td>0.000198</td>\n",
              "    </tr>\n",
              "    <tr>\n",
              "      <th>2</th>\n",
              "      <td>0.009901</td>\n",
              "      <td>0.02</td>\n",
              "      <td>0.000198</td>\n",
              "      <td>0.000396</td>\n",
              "    </tr>\n",
              "    <tr>\n",
              "      <th>3</th>\n",
              "      <td>0.009901</td>\n",
              "      <td>0.03</td>\n",
              "      <td>0.000297</td>\n",
              "      <td>0.000594</td>\n",
              "    </tr>\n",
              "    <tr>\n",
              "      <th>4</th>\n",
              "      <td>0.009901</td>\n",
              "      <td>0.04</td>\n",
              "      <td>0.000396</td>\n",
              "      <td>0.000792</td>\n",
              "    </tr>\n",
              "  </tbody>\n",
              "</table>\n",
              "</div>"
            ],
            "text/plain": [
              "         prior  likelihood    unnorm  posterior\n",
              "Bowl                                           \n",
              "0     0.009901        0.00  0.000000   0.000000\n",
              "1     0.009901        0.01  0.000099   0.000198\n",
              "2     0.009901        0.02  0.000198   0.000396\n",
              "3     0.009901        0.03  0.000297   0.000594\n",
              "4     0.009901        0.04  0.000396   0.000792"
            ]
          },
          "metadata": {
            "tags": []
          },
          "execution_count": 7
        }
      ]
    },
    {
      "cell_type": "markdown",
      "metadata": {
        "id": "wTDI2TCKn9nz",
        "colab_type": "text"
      },
      "source": [
        "Because Bowl 0 contains no vanilla cookies, its likelihood is 0, so its posterior probability is 0.  That is, the cookie cannot have come from Bowl 0.\n",
        "\n",
        "Here are the last few rows of the table."
      ]
    },
    {
      "cell_type": "code",
      "metadata": {
        "id": "AgB-OTKXn9nz",
        "colab_type": "code",
        "colab": {
          "base_uri": "https://localhost:8080/",
          "height": 228
        },
        "outputId": "825f7d08-65be-4d84-8ab4-dceafddc1627"
      },
      "source": [
        "table.tail()"
      ],
      "execution_count": 8,
      "outputs": [
        {
          "output_type": "execute_result",
          "data": {
            "text/html": [
              "<div>\n",
              "<style scoped>\n",
              "    .dataframe tbody tr th:only-of-type {\n",
              "        vertical-align: middle;\n",
              "    }\n",
              "\n",
              "    .dataframe tbody tr th {\n",
              "        vertical-align: top;\n",
              "    }\n",
              "\n",
              "    .dataframe thead th {\n",
              "        text-align: right;\n",
              "    }\n",
              "</style>\n",
              "<table border=\"1\" class=\"dataframe\">\n",
              "  <thead>\n",
              "    <tr style=\"text-align: right;\">\n",
              "      <th></th>\n",
              "      <th>prior</th>\n",
              "      <th>likelihood</th>\n",
              "      <th>unnorm</th>\n",
              "      <th>posterior</th>\n",
              "    </tr>\n",
              "    <tr>\n",
              "      <th>Bowl</th>\n",
              "      <th></th>\n",
              "      <th></th>\n",
              "      <th></th>\n",
              "      <th></th>\n",
              "    </tr>\n",
              "  </thead>\n",
              "  <tbody>\n",
              "    <tr>\n",
              "      <th>96</th>\n",
              "      <td>0.009901</td>\n",
              "      <td>0.96</td>\n",
              "      <td>0.009505</td>\n",
              "      <td>0.019010</td>\n",
              "    </tr>\n",
              "    <tr>\n",
              "      <th>97</th>\n",
              "      <td>0.009901</td>\n",
              "      <td>0.97</td>\n",
              "      <td>0.009604</td>\n",
              "      <td>0.019208</td>\n",
              "    </tr>\n",
              "    <tr>\n",
              "      <th>98</th>\n",
              "      <td>0.009901</td>\n",
              "      <td>0.98</td>\n",
              "      <td>0.009703</td>\n",
              "      <td>0.019406</td>\n",
              "    </tr>\n",
              "    <tr>\n",
              "      <th>99</th>\n",
              "      <td>0.009901</td>\n",
              "      <td>0.99</td>\n",
              "      <td>0.009802</td>\n",
              "      <td>0.019604</td>\n",
              "    </tr>\n",
              "    <tr>\n",
              "      <th>100</th>\n",
              "      <td>0.009901</td>\n",
              "      <td>1.00</td>\n",
              "      <td>0.009901</td>\n",
              "      <td>0.019802</td>\n",
              "    </tr>\n",
              "  </tbody>\n",
              "</table>\n",
              "</div>"
            ],
            "text/plain": [
              "         prior  likelihood    unnorm  posterior\n",
              "Bowl                                           \n",
              "96    0.009901        0.96  0.009505   0.019010\n",
              "97    0.009901        0.97  0.009604   0.019208\n",
              "98    0.009901        0.98  0.009703   0.019406\n",
              "99    0.009901        0.99  0.009802   0.019604\n",
              "100   0.009901        1.00  0.009901   0.019802"
            ]
          },
          "metadata": {
            "tags": []
          },
          "execution_count": 8
        }
      ]
    },
    {
      "cell_type": "markdown",
      "metadata": {
        "id": "GKFbo__3n9n3",
        "colab_type": "text"
      },
      "source": [
        "The posterior probabilities are substantially higher for the high-numbered bowls.\n",
        "\n",
        "There is a pattern here that will be clearer if we plot the results."
      ]
    },
    {
      "cell_type": "code",
      "metadata": {
        "id": "VsJUN44an9n4",
        "colab_type": "code",
        "colab": {}
      },
      "source": [
        "import matplotlib.pyplot as plt\n",
        "\n",
        "def plot_table(table):\n",
        "    \"\"\"Plot results from the 101 Bowls problem.\n",
        "    \n",
        "    table: DataFrame representing a Bayes table\n",
        "    \"\"\"\n",
        "    table['prior'].plot()\n",
        "    table['posterior'].plot()\n",
        "\n",
        "    plt.xlabel('Bowl #')\n",
        "    plt.ylabel('Probability')\n",
        "    plt.legend()"
      ],
      "execution_count": 0,
      "outputs": []
    },
    {
      "cell_type": "code",
      "metadata": {
        "id": "L23JByeen9n-",
        "colab_type": "code",
        "colab": {
          "base_uri": "https://localhost:8080/",
          "height": 295
        },
        "outputId": "fffdfdc6-9ea5-4df2-8521-ee5a4eb0a9ea"
      },
      "source": [
        "plot_table(table)\n",
        "plt.title('One cookie');"
      ],
      "execution_count": 10,
      "outputs": [
        {
          "output_type": "display_data",
          "data": {
            "image/png": "[encoded data removed]",
            "text/plain": [
              "<Figure size 432x288 with 1 Axes>"
            ]
          },
          "metadata": {
            "tags": [],
            "needs_background": "light"
          }
        }
      ]
    },
    {
      "cell_type": "markdown",
      "metadata": {
        "id": "Sud-k1Dan9oB",
        "colab_type": "text"
      },
      "source": [
        "The prior probabilities are uniform; that is, they are the same for every bowl.\n",
        "\n",
        "The posterior probabilities increase linearly; Bowl 0 is the least likely (actually impossible), and Bowl 100 is the most likely."
      ]
    },
    {
      "cell_type": "markdown",
      "metadata": {
        "id": "PZ3x4jnan9oC",
        "colab_type": "text"
      },
      "source": [
        "## Two cookies\n",
        "\n",
        "Suppose we put the first cookie back, stir the bowl thoroughly, and draw another cookie from the same bowl.  and suppose it turns out to be another vanilla cookie.\n",
        "\n",
        "Now what is the probability that we are drawing from Bowl $x$?\n",
        "\n",
        "To answer this question, we can use the posterior probabilities from the previous problem as prior probabilities for a new Bayes table, and then update with the new data."
      ]
    },
    {
      "cell_type": "code",
      "metadata": {
        "id": "QAxX33ATn9oC",
        "colab_type": "code",
        "colab": {
          "base_uri": "https://localhost:8080/",
          "height": 295
        },
        "outputId": "492b00fb-6fad-4281-d658-5f6087f2a4b0"
      },
      "source": [
        "prior2 = table['posterior']\n",
        "likelihood2 = likelihood\n",
        "\n",
        "table2 = make_bayes_table(xs, prior2, likelihood2)\n",
        "plot_table(table2)\n",
        "plt.title('Two cookies');"
      ],
      "execution_count": 11,
      "outputs": [
        {
          "output_type": "display_data",
          "data": {
            "image/png": "[encoded data removed]",
            "text/plain": [
              "<Figure size 432x288 with 1 Axes>"
            ]
          },
          "metadata": {
            "tags": [],
            "needs_background": "light"
          }
        }
      ]
    },
    {
      "cell_type": "markdown",
      "metadata": {
        "id": "Pxr3AqMmn9oF",
        "colab_type": "text"
      },
      "source": [
        "The blue line shows the posterior after one cookie, which is the prior before the second cookie.\n",
        "\n",
        "The orange line shows the posterior after two cookies, which curves upward.  Having see two vanilla cookies, the high-numbered bowls are more likely; the low-numbered bowls are less likely.\n",
        "\n",
        "I bet you can guess what's coming next."
      ]
    },
    {
      "cell_type": "markdown",
      "metadata": {
        "id": "CrVZZSm_n9oF",
        "colab_type": "text"
      },
      "source": [
        "## Three cookies\n",
        "\n",
        "Suppose we put the cookie back, stir, draw another cookie from the same bowl, and get a chocolate cookie.\n",
        "\n",
        "What do you think the posterior distribution looks like after these three cookies?\n",
        "\n",
        "Hint: what's the probability that the chocolate cookie came from Bowl 100?\n",
        "\n",
        "We'll use the posterior after two cookies as the prior for the third cookie:"
      ]
    },
    {
      "cell_type": "code",
      "metadata": {
        "id": "hATXC0svn9oF",
        "colab_type": "code",
        "colab": {}
      },
      "source": [
        "prior3 = table2['posterior']"
      ],
      "execution_count": 0,
      "outputs": []
    },
    {
      "cell_type": "markdown",
      "metadata": {
        "id": "5VNWVVZrn9oJ",
        "colab_type": "text"
      },
      "source": [
        "Now, what about the likelihoods?  Remember that the probability of a vanilla cookie from Bowl $x$ is $x/100$.  So the probability of a chocolate cookie is $(1 - x/100)$, which we can compute like this."
      ]
    },
    {
      "cell_type": "code",
      "metadata": {
        "id": "GSEuKby2n9oJ",
        "colab_type": "code",
        "colab": {}
      },
      "source": [
        "likelihood3 = 1 - xs/100"
      ],
      "execution_count": 0,
      "outputs": []
    },
    {
      "cell_type": "markdown",
      "metadata": {
        "id": "OBFqZv63n9oM",
        "colab_type": "text"
      },
      "source": [
        "That's it.  Everything else is the same."
      ]
    },
    {
      "cell_type": "code",
      "metadata": {
        "id": "Ez_3XJ9Ln9oN",
        "colab_type": "code",
        "colab": {}
      },
      "source": [
        "table3 = make_bayes_table(xs, prior3, likelihood3)"
      ],
      "execution_count": 0,
      "outputs": []
    },
    {
      "cell_type": "markdown",
      "metadata": {
        "id": "3x-66J0in9oP",
        "colab_type": "text"
      },
      "source": [
        "And here are the results"
      ]
    },
    {
      "cell_type": "code",
      "metadata": {
        "id": "JxU50ol4n9oQ",
        "colab_type": "code",
        "colab": {
          "base_uri": "https://localhost:8080/",
          "height": 295
        },
        "outputId": "812e88d9-a18b-4d4c-a661-916be5c34bdd"
      },
      "source": [
        "plot_table(table3)\n",
        "plt.title('Three cookies');"
      ],
      "execution_count": 15,
      "outputs": [
        {
          "output_type": "display_data",
          "data": {
            "image/png": "[encoded data removed]",
            "text/plain": [
              "<Figure size 432x288 with 1 Axes>"
            ]
          },
          "metadata": {
            "tags": [],
            "needs_background": "light"
          }
        }
      ]
    },
    {
      "cell_type": "markdown",
      "metadata": {
        "id": "s0uodXIjn9oT",
        "colab_type": "text"
      },
      "source": [
        "The blue line is the posterior after two cookies; the orange line is the posterior after three cookies.\n",
        "\n",
        "Because Bowl 100 contains no chocolate cookies, the posterior probability for Bowl 100 is 0.\n",
        "\n",
        "The posterior distribution has a peak near 60%.  We can use `idxmax` to find it: "
      ]
    },
    {
      "cell_type": "code",
      "metadata": {
        "id": "oV_jTk2Vn9oT",
        "colab_type": "code",
        "colab": {
          "base_uri": "https://localhost:8080/",
          "height": 35
        },
        "outputId": "6056d814-6509-4415-ca05-c700b59eba51"
      },
      "source": [
        "table3['posterior'].idxmax()"
      ],
      "execution_count": 16,
      "outputs": [
        {
          "output_type": "execute_result",
          "data": {
            "text/plain": [
              "67"
            ]
          },
          "metadata": {
            "tags": []
          },
          "execution_count": 16
        }
      ]
    },
    {
      "cell_type": "markdown",
      "metadata": {
        "id": "muawW04gn9oY",
        "colab_type": "text"
      },
      "source": [
        "The peak in the posterior distribution is at 67%.\n",
        "\n",
        "This value has a name; it is the **MAP**, which stands for \"Maximum Aposteori Probability\" (\"aposteori\" is Latin for posterior).\n",
        "\n",
        "In this example, the MAP is close to the proportion of vanilla cookies in the dataset: 2/3."
      ]
    },
    {
      "cell_type": "markdown",
      "metadata": {
        "id": "7SjkVn2cn9oZ",
        "colab_type": "text"
      },
      "source": [
        "**Exercise:** Let's do a version of the dice problem where we roll the die more than once.  Here's the statement of the problem again:\n",
        "\n",
        "> Suppose you have a 4-sided, 6-sided, 8-sided, and 12-sided die.  You choose one at random, roll it and get a 1. What is the probability that the die you rolled is 4-sided?  What are the posterior probabilities for the other dice?\n",
        "\n",
        "And here's a solution using a Bayes table:"
      ]
    },
    {
      "cell_type": "code",
      "metadata": {
        "id": "SCYMyLSHn9oa",
        "colab_type": "code",
        "colab": {
          "base_uri": "https://localhost:8080/",
          "height": 168
        },
        "outputId": "6e43522f-0ccd-49e0-dd87-0662c5d37c0b"
      },
      "source": [
        "hypos = ['H4', 'H6', 'H8', 'H12']\n",
        "prior = 1/4\n",
        "likelihood = 1/4, 1/6, 1/8, 1/12\n",
        "\n",
        "table = make_bayes_table(hypos, prior, likelihood)\n",
        "table"
      ],
      "execution_count": 17,
      "outputs": [
        {
          "output_type": "execute_result",
          "data": {
            "text/html": [
              "<div>\n",
              "<style scoped>\n",
              "    .dataframe tbody tr th:only-of-type {\n",
              "        vertical-align: middle;\n",
              "    }\n",
              "\n",
              "    .dataframe tbody tr th {\n",
              "        vertical-align: top;\n",
              "    }\n",
              "\n",
              "    .dataframe thead th {\n",
              "        text-align: right;\n",
              "    }\n",
              "</style>\n",
              "<table border=\"1\" class=\"dataframe\">\n",
              "  <thead>\n",
              "    <tr style=\"text-align: right;\">\n",
              "      <th></th>\n",
              "      <th>prior</th>\n",
              "      <th>likelihood</th>\n",
              "      <th>unnorm</th>\n",
              "      <th>posterior</th>\n",
              "    </tr>\n",
              "  </thead>\n",
              "  <tbody>\n",
              "    <tr>\n",
              "      <th>H4</th>\n",
              "      <td>0.25</td>\n",
              "      <td>0.250000</td>\n",
              "      <td>0.062500</td>\n",
              "      <td>0.400000</td>\n",
              "    </tr>\n",
              "    <tr>\n",
              "      <th>H6</th>\n",
              "      <td>0.25</td>\n",
              "      <td>0.166667</td>\n",
              "      <td>0.041667</td>\n",
              "      <td>0.266667</td>\n",
              "    </tr>\n",
              "    <tr>\n",
              "      <th>H8</th>\n",
              "      <td>0.25</td>\n",
              "      <td>0.125000</td>\n",
              "      <td>0.031250</td>\n",
              "      <td>0.200000</td>\n",
              "    </tr>\n",
              "    <tr>\n",
              "      <th>H12</th>\n",
              "      <td>0.25</td>\n",
              "      <td>0.083333</td>\n",
              "      <td>0.020833</td>\n",
              "      <td>0.133333</td>\n",
              "    </tr>\n",
              "  </tbody>\n",
              "</table>\n",
              "</div>"
            ],
            "text/plain": [
              "     prior  likelihood    unnorm  posterior\n",
              "H4    0.25    0.250000  0.062500   0.400000\n",
              "H6    0.25    0.166667  0.041667   0.266667\n",
              "H8    0.25    0.125000  0.031250   0.200000\n",
              "H12   0.25    0.083333  0.020833   0.133333"
            ]
          },
          "metadata": {
            "tags": []
          },
          "execution_count": 17
        }
      ]
    },
    {
      "cell_type": "markdown",
      "metadata": {
        "id": "LvveyJt6n9od",
        "colab_type": "text"
      },
      "source": [
        "Now suppose you roll the same die again and get a 6.  What are the posterior probabilities after the second roll?\n",
        "\n",
        "Use `idxmax` to find the MAP."
      ]
    },
    {
      "cell_type": "code",
      "metadata": {
        "id": "qGLK3lhbn9oe",
        "colab_type": "code",
        "colab": {
          "base_uri": "https://localhost:8080/",
          "height": 168
        },
        "outputId": "7fd0b518-8902-403f-bc94-604978c9dfc6"
      },
      "source": [
        "# Solution goes here\n",
        "prior_dice = table['posterior']\n",
        "likelihood_dice = 0, 1/6, 1/8, 1/12\n",
        "\n",
        "dice_table = make_bayes_table(hypos, prior_dice, likelihood_dice)\n",
        "dice_table\n"
      ],
      "execution_count": 18,
      "outputs": [
        {
          "output_type": "execute_result",
          "data": {
            "text/html": [
              "<div>\n",
              "<style scoped>\n",
              "    .dataframe tbody tr th:only-of-type {\n",
              "        vertical-align: middle;\n",
              "    }\n",
              "\n",
              "    .dataframe tbody tr th {\n",
              "        vertical-align: top;\n",
              "    }\n",
              "\n",
              "    .dataframe thead th {\n",
              "        text-align: right;\n",
              "    }\n",
              "</style>\n",
              "<table border=\"1\" class=\"dataframe\">\n",
              "  <thead>\n",
              "    <tr style=\"text-align: right;\">\n",
              "      <th></th>\n",
              "      <th>prior</th>\n",
              "      <th>likelihood</th>\n",
              "      <th>unnorm</th>\n",
              "      <th>posterior</th>\n",
              "    </tr>\n",
              "  </thead>\n",
              "  <tbody>\n",
              "    <tr>\n",
              "      <th>H4</th>\n",
              "      <td>0.400000</td>\n",
              "      <td>0.000000</td>\n",
              "      <td>0.000000</td>\n",
              "      <td>0.000000</td>\n",
              "    </tr>\n",
              "    <tr>\n",
              "      <th>H6</th>\n",
              "      <td>0.266667</td>\n",
              "      <td>0.166667</td>\n",
              "      <td>0.044444</td>\n",
              "      <td>0.551724</td>\n",
              "    </tr>\n",
              "    <tr>\n",
              "      <th>H8</th>\n",
              "      <td>0.200000</td>\n",
              "      <td>0.125000</td>\n",
              "      <td>0.025000</td>\n",
              "      <td>0.310345</td>\n",
              "    </tr>\n",
              "    <tr>\n",
              "      <th>H12</th>\n",
              "      <td>0.133333</td>\n",
              "      <td>0.083333</td>\n",
              "      <td>0.011111</td>\n",
              "      <td>0.137931</td>\n",
              "    </tr>\n",
              "  </tbody>\n",
              "</table>\n",
              "</div>"
            ],
            "text/plain": [
              "        prior  likelihood    unnorm  posterior\n",
              "H4   0.400000    0.000000  0.000000   0.000000\n",
              "H6   0.266667    0.166667  0.044444   0.551724\n",
              "H8   0.200000    0.125000  0.025000   0.310345\n",
              "H12  0.133333    0.083333  0.011111   0.137931"
            ]
          },
          "metadata": {
            "tags": []
          },
          "execution_count": 18
        }
      ]
    },
    {
      "cell_type": "code",
      "metadata": {
        "id": "x7_sTg-xn9og",
        "colab_type": "code",
        "colab": {
          "base_uri": "https://localhost:8080/",
          "height": 35
        },
        "outputId": "111bb76c-4d72-46d2-d7c0-d2139aef567c"
      },
      "source": [
        "# Solution goes here\n",
        "dice_table['posterior'].idxmax()"
      ],
      "execution_count": 19,
      "outputs": [
        {
          "output_type": "execute_result",
          "data": {
            "text/plain": [
              "'H6'"
            ]
          },
          "metadata": {
            "tags": []
          },
          "execution_count": 19
        }
      ]
    },
    {
      "cell_type": "markdown",
      "metadata": {
        "id": "13wy3f9sn9oi",
        "colab_type": "text"
      },
      "source": [
        "## Probability Mass Functions\n",
        "\n",
        "When we do more than one update, we don't always want to keep the whole Bayes table.  In this section we'll replace the Bayes table with a more compact representation, a probability mass function, or PMF.\n",
        "\n",
        "A PMF is a set of possible outcomes and their corresponding probabilities.  There are many ways to represent a PMF; in this notebook I'll use a Pandas Series.\n",
        "\n",
        "Here's a function that takes a sequence of outcomes, `xs`, and a sequence of probabilities, `ps`, and returns a Pandas Series that represents a PMF."
      ]
    },
    {
      "cell_type": "code",
      "metadata": {
        "id": "vETlgPWMn9oj",
        "colab_type": "code",
        "colab": {}
      },
      "source": [
        "def make_pmf(xs, ps, **options):\n",
        "    \"\"\"Make a Series that represents a PMF.\n",
        "    \n",
        "    xs: sequence of values\n",
        "    ps: sequence of probabilities\n",
        "    options: keyword arguments passed to Series constructor\n",
        "    \n",
        "    returns: Pandas Series\n",
        "    \"\"\"\n",
        "    pmf = pd.Series(ps, index=xs, **options)\n",
        "    return pmf"
      ],
      "execution_count": 0,
      "outputs": []
    },
    {
      "cell_type": "markdown",
      "metadata": {
        "id": "s0VGUSE2n9ol",
        "colab_type": "text"
      },
      "source": [
        "And here's a PMF that represents the prior from the 101 Bowls problem."
      ]
    },
    {
      "cell_type": "code",
      "metadata": {
        "id": "lAMIHzZon9om",
        "colab_type": "code",
        "colab": {
          "base_uri": "https://localhost:8080/",
          "height": 126
        },
        "outputId": "576a9d19-e785-408b-b081-f915c682dc70"
      },
      "source": [
        "xs = np.arange(101)\n",
        "prior = 1/101\n",
        "\n",
        "pmf = make_pmf(xs, prior)\n",
        "pmf.head()"
      ],
      "execution_count": 21,
      "outputs": [
        {
          "output_type": "execute_result",
          "data": {
            "text/plain": [
              "0    0.009901\n",
              "1    0.009901\n",
              "2    0.009901\n",
              "3    0.009901\n",
              "4    0.009901\n",
              "dtype: float64"
            ]
          },
          "metadata": {
            "tags": []
          },
          "execution_count": 21
        }
      ]
    },
    {
      "cell_type": "markdown",
      "metadata": {
        "id": "1_L7mokVn9op",
        "colab_type": "text"
      },
      "source": [
        "Now that we have a priod, we need to compute likelihoods.\n",
        "\n",
        "Here are the likelihoods for a vanilla cookie:"
      ]
    },
    {
      "cell_type": "code",
      "metadata": {
        "id": "IBF7XEr1n9oq",
        "colab_type": "code",
        "colab": {}
      },
      "source": [
        "likelihood_vanilla = xs / 100"
      ],
      "execution_count": 0,
      "outputs": []
    },
    {
      "cell_type": "markdown",
      "metadata": {
        "id": "W-GtEQqOn9ot",
        "colab_type": "text"
      },
      "source": [
        "And for a chocolate cookie."
      ]
    },
    {
      "cell_type": "code",
      "metadata": {
        "id": "msWFYtFmn9ot",
        "colab_type": "code",
        "colab": {}
      },
      "source": [
        "likelihood_chocolate = 1 - xs / 100"
      ],
      "execution_count": 0,
      "outputs": []
    },
    {
      "cell_type": "markdown",
      "metadata": {
        "id": "3bEVccvBn9ov",
        "colab_type": "text"
      },
      "source": [
        "To compute posterior probabilities, I'll use the following function, which takes a PMF and a sequence of likelihoods, and updates the PMF:"
      ]
    },
    {
      "cell_type": "code",
      "metadata": {
        "id": "BCmYp7dsn9ow",
        "colab_type": "code",
        "colab": {}
      },
      "source": [
        "def bayes_update(pmf, likelihood):\n",
        "    \"\"\"Do a Bayesian update.\n",
        "    \n",
        "    pmf: Series that represents the prior\n",
        "    likelihood: sequence of likelihoods\n",
        "    \"\"\"\n",
        "    pmf *= likelihood\n",
        "    pmf /= pmf.sum()"
      ],
      "execution_count": 0,
      "outputs": []
    },
    {
      "cell_type": "markdown",
      "metadata": {
        "id": "9uao9-j_n9oy",
        "colab_type": "text"
      },
      "source": [
        "The steps here are the same as in the Bayes table:\n",
        "\n",
        "1. Multiply the prior by the likelihoods.\n",
        "\n",
        "2. Add up the products to get the total probability of the data.\n",
        "\n",
        "3. Divide through to normalize the posteriors."
      ]
    },
    {
      "cell_type": "markdown",
      "metadata": {
        "id": "4Gl2Sfk3n9oy",
        "colab_type": "text"
      },
      "source": [
        "Now we can do the update for a vanilla cookie."
      ]
    },
    {
      "cell_type": "code",
      "metadata": {
        "scrolled": true,
        "id": "_C7A4QjCn9oz",
        "colab_type": "code",
        "colab": {}
      },
      "source": [
        "bayes_update(pmf, likelihood_vanilla)"
      ],
      "execution_count": 0,
      "outputs": []
    },
    {
      "cell_type": "markdown",
      "metadata": {
        "id": "jyJxCF_nn9o1",
        "colab_type": "text"
      },
      "source": [
        "Here's what the PMF looks like after the update."
      ]
    },
    {
      "cell_type": "code",
      "metadata": {
        "id": "e-zDn1sRn9o1",
        "colab_type": "code",
        "colab": {
          "base_uri": "https://localhost:8080/",
          "height": 295
        },
        "outputId": "c54c82ae-236f-45db-fbd2-e2b9a90d2d5e"
      },
      "source": [
        "pmf.plot()\n",
        "\n",
        "plt.xlabel('Bowl #')\n",
        "plt.ylabel('Probability')\n",
        "plt.title('One cookie');"
      ],
      "execution_count": 26,
      "outputs": [
        {
          "output_type": "display_data",
          "data": {
            "image/png": "[encoded data removed]",
            "text/plain": [
              "<Figure size 432x288 with 1 Axes>"
            ]
          },
          "metadata": {
            "tags": [],
            "needs_background": "light"
          }
        }
      ]
    },
    {
      "cell_type": "markdown",
      "metadata": {
        "id": "8yx8CHran9o3",
        "colab_type": "text"
      },
      "source": [
        "That's consistent with what we got with the Bayes table.\n",
        "\n",
        "The advantage of using a PMF is that it is easier to do multiple updates.  The following cell starts again with the uniform prior and does updates with two vanilla cookies and one chocolate cookie:"
      ]
    },
    {
      "cell_type": "code",
      "metadata": {
        "id": "f7WuIg2Fn9o4",
        "colab_type": "code",
        "colab": {}
      },
      "source": [
        "data = 'VVC'\n",
        "\n",
        "pmf = make_pmf(xs, prior)\n",
        "\n",
        "for cookie in data:\n",
        "    if cookie == 'V':\n",
        "        bayes_update(pmf, likelihood_vanilla)\n",
        "    else:\n",
        "        bayes_update(pmf, likelihood_chocolate)"
      ],
      "execution_count": 0,
      "outputs": []
    },
    {
      "cell_type": "markdown",
      "metadata": {
        "id": "bJIv1TpFn9o7",
        "colab_type": "text"
      },
      "source": [
        "Here's what the results look like:"
      ]
    },
    {
      "cell_type": "code",
      "metadata": {
        "id": "xWW8TQFCn9o7",
        "colab_type": "code",
        "colab": {
          "base_uri": "https://localhost:8080/",
          "height": 295
        },
        "outputId": "95f00ee5-dd52-41e3-cdf9-883139a7160e"
      },
      "source": [
        "pmf.plot()\n",
        "\n",
        "plt.xlabel('Bowl #')\n",
        "plt.ylabel('Probability')\n",
        "plt.title('Three cookies');"
      ],
      "execution_count": 28,
      "outputs": [
        {
          "output_type": "display_data",
          "data": {
            "image/png": "[encoded data removed]",
            "text/plain": [
              "<Figure size 432x288 with 1 Axes>"
            ]
          },
          "metadata": {
            "tags": [],
            "needs_background": "light"
          }
        }
      ]
    },
    {
      "cell_type": "markdown",
      "metadata": {
        "id": "QEVav1jxn9o9",
        "colab_type": "text"
      },
      "source": [
        "Again, that's consistent with what we got with the Bayes table.\n",
        "\n",
        "In the next section, I'll use a PMF and `bayes_update` to solve a dice problem."
      ]
    },
    {
      "cell_type": "markdown",
      "metadata": {
        "id": "eDtUSTgPn9o-",
        "colab_type": "text"
      },
      "source": [
        "## The dice problem\n",
        "\n",
        "As an exercise, let's do one more version of the dice problem:\n",
        "\n",
        "> Suppose you have a 4-sided, 6-sided, 8-sided, 12-sided, and a **20-sided die**.  You choose one at random, roll it and **get a 7**. What is the probability that the die you rolled is 4-sided?  What are the posterior probabilities for the other dice?\n",
        "\n",
        "Notice that in this version I've added a 20-sided die and the outcome is 7, not 1.\n",
        "\n",
        "Here's a PMF that represents the prior:"
      ]
    },
    {
      "cell_type": "code",
      "metadata": {
        "id": "IklPdqNmn9o-",
        "colab_type": "code",
        "colab": {
          "base_uri": "https://localhost:8080/",
          "height": 126
        },
        "outputId": "b360623e-cb38-4fdc-a85f-81a5fd729562"
      },
      "source": [
        "sides = np.array([4, 6, 8, 12, 20])\n",
        "prior = 1/5\n",
        "\n",
        "pmf = make_pmf(sides, prior)\n",
        "pmf"
      ],
      "execution_count": 29,
      "outputs": [
        {
          "output_type": "execute_result",
          "data": {
            "text/plain": [
              "4     0.2\n",
              "6     0.2\n",
              "8     0.2\n",
              "12    0.2\n",
              "20    0.2\n",
              "dtype: float64"
            ]
          },
          "metadata": {
            "tags": []
          },
          "execution_count": 29
        }
      ]
    },
    {
      "cell_type": "markdown",
      "metadata": {
        "id": "7eXrJLcxn9pB",
        "colab_type": "text"
      },
      "source": [
        "In this version, the hypotheses are integers rather than strings, so we can compute the likelihoods like this:"
      ]
    },
    {
      "cell_type": "code",
      "metadata": {
        "id": "6bg7GxWxn9pB",
        "colab_type": "code",
        "colab": {}
      },
      "source": [
        "likelihood = 1 / sides"
      ],
      "execution_count": 0,
      "outputs": []
    },
    {
      "cell_type": "markdown",
      "metadata": {
        "id": "PFNx7C11n9pE",
        "colab_type": "text"
      },
      "source": [
        "But the outcome is 7, so any die with fewer than 7 sides has likelihood 0.\n",
        "\n",
        "We can adjust `likelihood` by making a Boolean Series:"
      ]
    },
    {
      "cell_type": "code",
      "metadata": {
        "id": "gURMjWKln9pE",
        "colab_type": "code",
        "colab": {}
      },
      "source": [
        "too_low = (sides < 7)"
      ],
      "execution_count": 0,
      "outputs": []
    },
    {
      "cell_type": "markdown",
      "metadata": {
        "id": "tumpWFAVn9pG",
        "colab_type": "text"
      },
      "source": [
        "And using it to set the corresponding elements of `likelihood` to 0."
      ]
    },
    {
      "cell_type": "code",
      "metadata": {
        "id": "HhOznbIpn9pG",
        "colab_type": "code",
        "colab": {
          "base_uri": "https://localhost:8080/",
          "height": 35
        },
        "outputId": "d5f25a92-8cfc-42d7-c2ab-cc847a9f5ad3"
      },
      "source": [
        "likelihood[too_low] = 0\n",
        "likelihood"
      ],
      "execution_count": 32,
      "outputs": [
        {
          "output_type": "execute_result",
          "data": {
            "text/plain": [
              "array([0.        , 0.        , 0.125     , 0.08333333, 0.05      ])"
            ]
          },
          "metadata": {
            "tags": []
          },
          "execution_count": 32
        }
      ]
    },
    {
      "cell_type": "markdown",
      "metadata": {
        "id": "CoMxOkkdn9pK",
        "colab_type": "text"
      },
      "source": [
        "Now we can do the update and display the results."
      ]
    },
    {
      "cell_type": "code",
      "metadata": {
        "id": "CMv6X0vhn9pL",
        "colab_type": "code",
        "colab": {
          "base_uri": "https://localhost:8080/",
          "height": 126
        },
        "outputId": "5263948f-8c10-4b95-db9f-57ab051961f1"
      },
      "source": [
        "bayes_update(pmf, likelihood)\n",
        "pmf"
      ],
      "execution_count": 33,
      "outputs": [
        {
          "output_type": "execute_result",
          "data": {
            "text/plain": [
              "4     0.000000\n",
              "6     0.000000\n",
              "8     0.483871\n",
              "12    0.322581\n",
              "20    0.193548\n",
              "dtype: float64"
            ]
          },
          "metadata": {
            "tags": []
          },
          "execution_count": 33
        }
      ]
    },
    {
      "cell_type": "markdown",
      "metadata": {
        "id": "t4SN-LKxn9pR",
        "colab_type": "text"
      },
      "source": [
        "The 4-sided and 6-sided dice have been eliminated.  Of the remaining dice, the 8-sided die is the most likely."
      ]
    },
    {
      "cell_type": "markdown",
      "metadata": {
        "id": "fRx5Ttomn9pS",
        "colab_type": "text"
      },
      "source": [
        "**Exercise:** Suppose you have the same set of 5 die.  You choose a die, roll it six times, and get 6, 7, 2, 5, 1, and 2 again.  Use `idxmax` to find the MAP.  What is the posterior probability of the MAP?"
      ]
    },
    {
      "cell_type": "code",
      "metadata": {
        "id": "nGTMVeMcn9pT",
        "colab_type": "code",
        "colab": {}
      },
      "source": [
        "# Solution goes here\n",
        "dice_sides = np.array([4, 6, 8, 12, 20])\n",
        "dice_prior = 1/5\n",
        "dice_pmf = make_pmf(dice_sides, dice_prior)"
      ],
      "execution_count": 0,
      "outputs": []
    },
    {
      "cell_type": "code",
      "metadata": {
        "id": "RJjknV00n9pV",
        "colab_type": "code",
        "colab": {}
      },
      "source": [
        "# Solution goes here\n",
        "rolls = [6, 7, 2, 5, 1, 2]\n",
        "for roll in rolls:\n",
        "  likelihood = 1/dice_sides\n",
        "  low = dice_sides < likelihood\n",
        "  likelihood[low] = 0\n",
        "  bayes_update(dice_pmf, likelihood)"
      ],
      "execution_count": 0,
      "outputs": []
    },
    {
      "cell_type": "code",
      "metadata": {
        "id": "6hnRJayUn9pZ",
        "colab_type": "code",
        "colab": {
          "base_uri": "https://localhost:8080/",
          "height": 126
        },
        "outputId": "81db5689-9c30-48b9-c2b0-e5efe298c8a7"
      },
      "source": [
        "# Solution goes here\n",
        "pmf"
      ],
      "execution_count": 44,
      "outputs": [
        {
          "output_type": "execute_result",
          "data": {
            "text/plain": [
              "4     0.000000\n",
              "6     0.000000\n",
              "8     0.483871\n",
              "12    0.322581\n",
              "20    0.193548\n",
              "dtype: float64"
            ]
          },
          "metadata": {
            "tags": []
          },
          "execution_count": 44
        }
      ]
    },
    {
      "cell_type": "code",
      "metadata": {
        "id": "DrLO7NHvn9pe",
        "colab_type": "code",
        "colab": {
          "base_uri": "https://localhost:8080/",
          "height": 35
        },
        "outputId": "5de9df50-34fb-4a63-8188-8296d201f8e0"
      },
      "source": [
        "# Solution goes here\n",
        "MAP = pmf.idxmax()\n",
        "pmf[MAP]"
      ],
      "execution_count": 48,
      "outputs": [
        {
          "output_type": "execute_result",
          "data": {
            "text/plain": [
              "0.48387096774193544"
            ]
          },
          "metadata": {
            "tags": []
          },
          "execution_count": 48
        }
      ]
    },
    {
      "cell_type": "markdown",
      "metadata": {
        "id": "fhe3kH5pn9ph",
        "colab_type": "text"
      },
      "source": [
        "## Summary\n",
        "\n",
        "In this notebook, we extended the cookie problem with more bowls and the dice problem with more dice.\n",
        "\n",
        "I defined the MAP, which is the quantity in a posterior distribution with the highest probability.\n",
        "\n",
        "Although the cookie problem is not particularly realistic or useful, the method we used to solve it applies to many problems in the real world where we want to estimate a proportion.\n",
        "\n",
        "[In the next notebook](https://colab.research.google.com/github/AllenDowney/BiteSizeBayes/blob/master/07_euro.ipynb) we'll use the same method to take another step toward doing Bayesian statistics."
      ]
    },
    {
      "cell_type": "code",
      "metadata": {
        "id": "-qOObEorn9pi",
        "colab_type": "code",
        "colab": {}
      },
      "source": [
        ""
      ],
      "execution_count": 0,
      "outputs": []
    }
  ]
}