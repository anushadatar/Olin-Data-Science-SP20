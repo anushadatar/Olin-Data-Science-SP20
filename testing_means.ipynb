{
  "nbformat": 4,
  "nbformat_minor": 0,
  "metadata": {
    "kernelspec": {
      "display_name": "Python 3",
      "language": "python",
      "name": "python3"
    },
    "language_info": {
      "codemirror_mode": {
        "name": "ipython",
        "version": 3
      },
      "file_extension": ".py",
      "mimetype": "text/x-python",
      "name": "python",
      "nbconvert_exporter": "python",
      "pygments_lexer": "ipython3",
      "version": "3.7.6"
    },
    "colab": {
      "name": "testing_means.ipynb",
      "provenance": [],
      "collapsed_sections": [
        "8vfHqHgqjknt",
        "tQiHK2PCjkoe"
      ],
      "include_colab_link": true
    }
  },
  "cells": [
    {
      "cell_type": "markdown",
      "metadata": {
        "id": "view-in-github",
        "colab_type": "text"
      },
      "source": [
        "<a href=\"https://colab.research.google.com/github/anushadatar/Olin-Data-Science-SP20/blob/master/testing_means.ipynb\" target=\"_parent\"><img src=\"https://colab.research.google.com/assets/colab-badge.svg\" alt=\"Open In Colab\"/></a>"
      ]
    },
    {
      "cell_type": "markdown",
      "metadata": {
        "id": "d8JhQuRojkm8",
        "colab_type": "text"
      },
      "source": [
        "# Testing a difference in means\n",
        "\n",
        "Elements of Data Science\n",
        "\n",
        "by [Allen Downey](https://allendowney.com)\n",
        "\n",
        "[MIT License](https://opensource.org/licenses/MIT)"
      ]
    },
    {
      "cell_type": "code",
      "metadata": {
        "id": "89gUWNz6jkm9",
        "colab_type": "code",
        "colab": {}
      },
      "source": [
        "import numpy as np\n",
        "import pandas as pd\n",
        "import matplotlib.pyplot as plt"
      ],
      "execution_count": 0,
      "outputs": []
    },
    {
      "cell_type": "code",
      "metadata": {
        "id": "1pIavH5AjknD",
        "colab_type": "code",
        "colab": {
          "base_uri": "https://localhost:8080/",
          "height": 201
        },
        "outputId": "ddcb8a4a-b10c-4909-f39f-b40e2f2d914f"
      },
      "source": [
        "# If we're running on Colab, install empiricaldist\n",
        "# https://pypi.org/project/empiricaldist/\n",
        "\n",
        "import sys\n",
        "IN_COLAB = 'google.colab' in sys.modules\n",
        "\n",
        "if IN_COLAB:\n",
        "    !pip install empiricaldist"
      ],
      "execution_count": 2,
      "outputs": [
        {
          "output_type": "stream",
          "text": [
            "Collecting empiricaldist\n",
            "  Downloading https://files.pythonhosted.org/packages/a1/63/8e53bab30fa4c2ff0ffb741ab354833523e1e16e688ccde63ed6e2dd687a/empiricaldist-0.3.5.tar.gz\n",
            "Building wheels for collected packages: empiricaldist\n",
            "  Building wheel for empiricaldist (setup.py) ... \u001b[?25l\u001b[?25hdone\n",
            "  Created wheel for empiricaldist: filename=empiricaldist-0.3.5-cp36-none-any.whl size=10010 sha256=9a43ab5b0745892850489a50da42f6fc41fc24f89b852d06451f350505b47f9b\n",
            "  Stored in directory: /root/.cache/pip/wheels/c6/64/7b/b33ca2ad99ceb70d29bce521de4b4d8975ba537882c09c2896\n",
            "Successfully built empiricaldist\n",
            "Installing collected packages: empiricaldist\n",
            "Successfully installed empiricaldist-0.3.5\n"
          ],
          "name": "stdout"
        }
      ]
    },
    {
      "cell_type": "markdown",
      "metadata": {
        "id": "t-NOXX_-jknF",
        "colab_type": "text"
      },
      "source": [
        "## Difference in means\n",
        "\n",
        "A few days ago the [following question appeared on the statistics forum of Reddit](https://www.reddit.com/r/statistics/comments/fmfm0i/q_testing_equivalence_of_means_from_two_gamma/):\n",
        "\n",
        "> This may be a simple question for most of you, but I’m still learning statistics and I can’t find any resource that explains how to test two sample means from gamma distributions. Both samples have n > 30, so does that mean I can use a ttest due to central limit theorem? If so, can someone please ELI15?\n",
        "\n",
        "One of the first responses suggests:\n",
        "\n",
        "> Look up Permutation Tests\n",
        "\n",
        "I think this is a good suggestion, so let's do it.  Then I'll come back to the questions the original poster (OP) asked about the central limit theorem."
      ]
    },
    {
      "cell_type": "markdown",
      "metadata": {
        "id": "XXDgUV0jjknG",
        "colab_type": "text"
      },
      "source": [
        "## Fake data\n",
        "\n",
        "First, let's generate some fake data by sampling from two gamma distributions with different means.  \n",
        "\n",
        "I'll set the seed for the random number generator so we get the same samples every time."
      ]
    },
    {
      "cell_type": "code",
      "metadata": {
        "id": "uG5L-kEljknH",
        "colab_type": "code",
        "colab": {}
      },
      "source": [
        "np.random.seed(2)"
      ],
      "execution_count": 0,
      "outputs": []
    },
    {
      "cell_type": "markdown",
      "metadata": {
        "id": "qBtqNUwwjknK",
        "colab_type": "text"
      },
      "source": [
        "As an example, I'll assume that the actual means in the population are 2 and 3, and that the sample sizes are 30 and 40."
      ]
    },
    {
      "cell_type": "code",
      "metadata": {
        "id": "layHk62sjknK",
        "colab_type": "code",
        "colab": {}
      },
      "source": [
        "mean1, mean2 = 2, 3\n",
        "size1, size2 = 30, 40"
      ],
      "execution_count": 0,
      "outputs": []
    },
    {
      "cell_type": "code",
      "metadata": {
        "id": "IlPqLe0ujknN",
        "colab_type": "code",
        "colab": {
          "base_uri": "https://localhost:8080/",
          "height": 35
        },
        "outputId": "ee241ee1-8548-42e8-aa1d-435faec916dd"
      },
      "source": [
        "sample1 = np.random.gamma(mean1, size=size1)\n",
        "np.mean(sample1)"
      ],
      "execution_count": 5,
      "outputs": [
        {
          "output_type": "execute_result",
          "data": {
            "text/plain": [
              "1.944189047284886"
            ]
          },
          "metadata": {
            "tags": []
          },
          "execution_count": 5
        }
      ]
    },
    {
      "cell_type": "code",
      "metadata": {
        "id": "5u321ywmjknP",
        "colab_type": "code",
        "colab": {
          "base_uri": "https://localhost:8080/",
          "height": 35
        },
        "outputId": "657a2498-baba-4736-ac26-1f51b3550c16"
      },
      "source": [
        "sample2 = np.random.gamma(mean2, size=size2)\n",
        "np.mean(sample2)"
      ],
      "execution_count": 6,
      "outputs": [
        {
          "output_type": "execute_result",
          "data": {
            "text/plain": [
              "2.7019613323781497"
            ]
          },
          "metadata": {
            "tags": []
          },
          "execution_count": 6
        }
      ]
    },
    {
      "cell_type": "markdown",
      "metadata": {
        "id": "KwrgNTbpjknS",
        "colab_type": "text"
      },
      "source": [
        "**Warm-up Exercise:** Compute the difference in means between the two samples."
      ]
    },
    {
      "cell_type": "code",
      "metadata": {
        "id": "oWsszJsEjknT",
        "colab_type": "code",
        "colab": {
          "base_uri": "https://localhost:8080/",
          "height": 35
        },
        "outputId": "616535ae-d6cd-43f0-febe-4763b8fba0ad"
      },
      "source": [
        "# Solution goes here\n",
        "abs(np.mean(sample1) - np.mean(sample2))"
      ],
      "execution_count": 10,
      "outputs": [
        {
          "output_type": "execute_result",
          "data": {
            "text/plain": [
              "0.7577722850932638"
            ]
          },
          "metadata": {
            "tags": []
          },
          "execution_count": 10
        }
      ]
    },
    {
      "cell_type": "markdown",
      "metadata": {
        "id": "FdJUSmOejknV",
        "colab_type": "text"
      },
      "source": [
        "## Test statistic\n",
        "\n",
        "From the statement of the problem it sounds like we have no prior reason to expect the difference in means to be positive or negative, so it is appropriate to run a two-sided test.  One way to do that is to use the absolute value of the difference in means as a test statistic.\n",
        "\n",
        "The following function takes the two samples and returns the absolute value of the difference in their means."
      ]
    },
    {
      "cell_type": "code",
      "metadata": {
        "id": "rwn-9rCHjknV",
        "colab_type": "code",
        "colab": {}
      },
      "source": [
        "def test_statistic(sample1, sample2):\n",
        "    \"\"\"Compute the test statistic.\n",
        "    \n",
        "    sample1: sequence of values\n",
        "    sample2: sequence of values\n",
        "    \n",
        "    return: float\n",
        "    \"\"\"\n",
        "    diff = np.mean(sample1) - np.mean(sample2)\n",
        "    return np.abs(diff)"
      ],
      "execution_count": 0,
      "outputs": []
    },
    {
      "cell_type": "markdown",
      "metadata": {
        "id": "GZa4zsILjkna",
        "colab_type": "text"
      },
      "source": [
        "Here's the observed difference in the means."
      ]
    },
    {
      "cell_type": "code",
      "metadata": {
        "id": "3d4A0Xzfjkna",
        "colab_type": "code",
        "colab": {
          "base_uri": "https://localhost:8080/",
          "height": 35
        },
        "outputId": "5f12aa85-7836-4213-faf8-ed67b42d67ed"
      },
      "source": [
        "actual_diff = test_statistic(sample1, sample2)\n",
        "actual_diff"
      ],
      "execution_count": 12,
      "outputs": [
        {
          "output_type": "execute_result",
          "data": {
            "text/plain": [
              "0.7577722850932638"
            ]
          },
          "metadata": {
            "tags": []
          },
          "execution_count": 12
        }
      ]
    },
    {
      "cell_type": "markdown",
      "metadata": {
        "id": "Qj8-L5ePjknc",
        "colab_type": "text"
      },
      "source": [
        "This value is the \"apparent effect\"; based on these samples, it seems like there is a difference between the means of the two populations.  \n",
        "\n",
        "But we would like to check whether it is plausible that the two populations actually have the same mean, and the apparent difference is solely due to random sampling."
      ]
    },
    {
      "cell_type": "markdown",
      "metadata": {
        "id": "BpXacCgjjknd",
        "colab_type": "text"
      },
      "source": [
        "## Permutation\n",
        "\n",
        "One way to do that is by resampling or, more specifically, by permutation.  Here's the process:\n",
        "\n",
        "1. The \"null hypothesis\" is that the two populations have the same mean.  Under this hypothesis, we could consider both groups to be samples from the same population, so we can merge them into a single sample.\n",
        "\n",
        "2. To simulate the data-generating process under the null hypothesis, we can shuffle (permute) the merged sample and then split it into samples with the given sizes.\n",
        "\n",
        "**Exercise:** Compute the probability of seeing a difference in means as big as `actual_diff` under the null hypothesis.\n",
        "\n",
        "Use `np.concatenate` to merge the samples.  Use `np.random.shuffle` to shuffle the merged sample.  Use `np.split` to split the shuffled sample into groups with sizes `size1` and `size 2`.  Then compute the difference in means between the shuffled groups.\n",
        "\n",
        "Repeat that process 1000 times and count the number of times the observed difference exceeds `actual_diff`."
      ]
    },
    {
      "cell_type": "code",
      "metadata": {
        "id": "rgW8RMrljknd",
        "colab_type": "code",
        "colab": {}
      },
      "source": [
        "# Solution goes here\n",
        "merged = np.concatenate((sample1, sample2))\n"
      ],
      "execution_count": 0,
      "outputs": []
    },
    {
      "cell_type": "code",
      "metadata": {
        "id": "7c_nFS28jkng",
        "colab_type": "code",
        "colab": {}
      },
      "source": [
        "# Solution goes here\n",
        "np.random.shuffle(merged)"
      ],
      "execution_count": 0,
      "outputs": []
    },
    {
      "cell_type": "code",
      "metadata": {
        "id": "juwPOaGFjkni",
        "colab_type": "code",
        "colab": {
          "base_uri": "https://localhost:8080/",
          "height": 35
        },
        "outputId": "4f8eef2b-dd00-487e-a41f-c237539e4ab0"
      },
      "source": [
        "# Solution goes here\n",
        "#np.split() only works for equal sizes, so I will just manuall split it\n",
        "new_s1 = merged[0:size1]\n",
        "new_s2 = merged[size1:size1+size2]"
      ],
      "execution_count": 24,
      "outputs": [
        {
          "output_type": "execute_result",
          "data": {
            "text/plain": [
              "40"
            ]
          },
          "metadata": {
            "tags": []
          },
          "execution_count": 24
        }
      ]
    },
    {
      "cell_type": "code",
      "metadata": {
        "id": "j0cY6Zn6jknk",
        "colab_type": "code",
        "colab": {
          "base_uri": "https://localhost:8080/",
          "height": 35
        },
        "outputId": "fa4dccab-e49a-4b1f-88b6-02e25345daf1"
      },
      "source": [
        "# Solution goes here\n",
        "test_statistic(new_s1, new_s2)"
      ],
      "execution_count": 25,
      "outputs": [
        {
          "output_type": "execute_result",
          "data": {
            "text/plain": [
              "0.387275054318041"
            ]
          },
          "metadata": {
            "tags": []
          },
          "execution_count": 25
        }
      ]
    },
    {
      "cell_type": "code",
      "metadata": {
        "id": "mnEOOf7Ejknm",
        "colab_type": "code",
        "colab": {
          "base_uri": "https://localhost:8080/",
          "height": 35
        },
        "outputId": "20dc0297-8929-4a41-8f74-15f774aab2af"
      },
      "source": [
        "# Solution goes here\n",
        "actual_diff = test_statistic(sample1, sample2)\n",
        "count_above = 0 \n",
        "for i in range(1, 1000):\n",
        "  merged = np.concatenate((sample1, sample2))\n",
        "  np.random.shuffle(merged)\n",
        "  new_s1 = merged[0:size1]\n",
        "  new_s2 = merged[size1:size1+size2]\n",
        "  new_diff = test_statistic(new_s1, new_s2)\n",
        "  if new_diff > actual_diff:\n",
        "    count_above += 1 \n",
        "count_above"
      ],
      "execution_count": 29,
      "outputs": [
        {
          "output_type": "execute_result",
          "data": {
            "text/plain": [
              "47"
            ]
          },
          "metadata": {
            "tags": []
          },
          "execution_count": 29
        }
      ]
    },
    {
      "cell_type": "code",
      "metadata": {
        "id": "-0ww1oz1jknp",
        "colab_type": "code",
        "colab": {
          "base_uri": "https://localhost:8080/",
          "height": 35
        },
        "outputId": "7dae805a-9c47-4b4c-c7c8-444b3cf9e93b"
      },
      "source": [
        "# Solution goes here\n",
        "count_above/1000"
      ],
      "execution_count": 30,
      "outputs": [
        {
          "output_type": "execute_result",
          "data": {
            "text/plain": [
              "0.047"
            ]
          },
          "metadata": {
            "tags": []
          },
          "execution_count": 30
        }
      ]
    },
    {
      "cell_type": "markdown",
      "metadata": {
        "id": "8vfHqHgqjknt",
        "colab_type": "text"
      },
      "source": [
        "## There is only one test\n",
        "\n",
        "The computation in the previous section is an example of a framework I call \"There is Only One Test\".  The idea is that all hypothesis tests have the same logical structure, shown in the following diagram:\n",
        "\n",
        "<img src=\"https://github.com/AllenDowney/ElementsOfDataScience/raw/master/figs/hypothesis_testing.png\" width=\"400\">\n",
        "\n",
        "The key steps in this framework are:\n",
        "\n",
        "1. Choose a test statistic that quantifies the observed effect.\n",
        "\n",
        "2. Define a model of the null hypothesis and use it to generate simulated data.\n",
        "\n",
        "3. Compute the distribution of the test statistic under the null hypothesis.\n",
        "\n",
        "4. Compute a p-value, which is probability, under the null hypothesis, of seeing an effect as extreme as what you saw."
      ]
    },
    {
      "cell_type": "markdown",
      "metadata": {
        "id": "5znHiWLCjknu",
        "colab_type": "text"
      },
      "source": [
        "## Estimation\n",
        "\n",
        "So far we've computed a p-value, which is the probability of seeing a difference in means as big as `actual_diff` under the null hypothesis, which is that both samples are actually drawn from the same population.\n",
        "\n",
        "As I wrote in 2105, [p-values are not completely useless](http://allendowney.blogspot.com/2015/03/statistical-inference-is-only-mostly.html).  If you think an apparent effect might be due to chance, the p-value can tell you whether that's plausible.\n",
        "\n",
        "However, p-values don't provide a lot of guidance for decision making.  For that, it is often more useful to estimate the size of the effect.  In this example, estimating the size of the difference is easy; in fact, we've already done it.  \n",
        "\n",
        "The estimated size of the difference in means is:"
      ]
    },
    {
      "cell_type": "code",
      "metadata": {
        "id": "HDVSNZhejknv",
        "colab_type": "code",
        "colab": {
          "base_uri": "https://localhost:8080/",
          "height": 35
        },
        "outputId": "6d113284-b07d-4ccc-d4fa-fdf7196f45e8"
      },
      "source": [
        "np.mean(sample1) - np.mean(sample2)"
      ],
      "execution_count": 31,
      "outputs": [
        {
          "output_type": "execute_result",
          "data": {
            "text/plain": [
              "-0.7577722850932638"
            ]
          },
          "metadata": {
            "tags": []
          },
          "execution_count": 31
        }
      ]
    },
    {
      "cell_type": "markdown",
      "metadata": {
        "id": "3Z7zGzIejknx",
        "colab_type": "text"
      },
      "source": [
        "This result is a \"point estimate\", that is, a single value that quantifies the size of the effect.\n",
        "\n",
        "But we might wonder how precise the estimate is.  We can answer that question by computing a standard error and/or a confidence interval.\n",
        "\n",
        "That's what we'll do in this section, and once again we'll do it by resampling.  Here are the key steps:\n",
        "\n",
        "1. We'll use the data to build of model of the population.\n",
        "\n",
        "2. We'll use the model to generate simulated data.\n",
        "\n",
        "3. We'll use the simulated data to compute a sample of possible differences in the mean.\n",
        "\n",
        "To build a model of the population, we will make an assumption that sounds strange, but actually works:\n",
        "\n",
        "* We assume that the values in the sample represent the entire population.\n",
        "\n",
        "Under this assumption, we can generate a new sample by choosing values from the old sample with replacement.  Here's a function that does it."
      ]
    },
    {
      "cell_type": "code",
      "metadata": {
        "id": "Be0044XUjkny",
        "colab_type": "code",
        "colab": {}
      },
      "source": [
        "def resample(sample):\n",
        "    \"\"\"Draw a new sample from the data with replacement.\n",
        "    \n",
        "    sample: sequence of values\n",
        "    \n",
        "    returns: NumPy array\n",
        "    \"\"\"\n",
        "    return np.random.choice(sample, len(sample), replace=True)"
      ],
      "execution_count": 0,
      "outputs": []
    },
    {
      "cell_type": "markdown",
      "metadata": {
        "id": "xa3RzTK0jkn0",
        "colab_type": "text"
      },
      "source": [
        "Notice that the size of the resampled data is the same as the size of the original sample.  As a result, the same value might appear more than once, and other values might not appear at all.\n",
        "\n",
        "If we run `resample` many times and compute the mean of each batch of resampled data, we get a sample from the \"sampling distribution of the mean\", which is the distribution of means we would get if we ran the same experiment over and over.\n",
        "\n",
        "The following function simulates the experiment 1001 times and returns a sample of possible means:"
      ]
    },
    {
      "cell_type": "code",
      "metadata": {
        "id": "C8MdaQeOjkn1",
        "colab_type": "code",
        "colab": {}
      },
      "source": [
        "def sampling_distribution_of_mean(sample):\n",
        "    \"\"\"Simulate the sampling process and compute sample means.\n",
        "    \n",
        "    sample: sequence of values\n",
        "    \n",
        "    returns: NumPy array of means\n",
        "    \"\"\"\n",
        "    means = [resample(sample).mean() for i in range(1001)]\n",
        "    return np.array(means)"
      ],
      "execution_count": 0,
      "outputs": []
    },
    {
      "cell_type": "markdown",
      "metadata": {
        "id": "4YQqm9gQjkn3",
        "colab_type": "text"
      },
      "source": [
        "Here's what it looks like for `sample1`:"
      ]
    },
    {
      "cell_type": "code",
      "metadata": {
        "id": "nYu7LGh_jkn3",
        "colab_type": "code",
        "colab": {
          "base_uri": "https://localhost:8080/",
          "height": 35
        },
        "outputId": "ee76f18e-594c-4b9e-b604-37f576a82adb"
      },
      "source": [
        "sample_of_means1 = sampling_distribution_of_mean(sample1)\n",
        "np.mean(sample_of_means1)"
      ],
      "execution_count": 34,
      "outputs": [
        {
          "output_type": "execute_result",
          "data": {
            "text/plain": [
              "1.9412552709024324"
            ]
          },
          "metadata": {
            "tags": []
          },
          "execution_count": 34
        }
      ]
    },
    {
      "cell_type": "markdown",
      "metadata": {
        "id": "x0MTQNu0jkn7",
        "colab_type": "text"
      },
      "source": [
        "The mean of possible means is pretty close to the mean of the original sample:"
      ]
    },
    {
      "cell_type": "code",
      "metadata": {
        "id": "8az38sYSjkn7",
        "colab_type": "code",
        "colab": {
          "base_uri": "https://localhost:8080/",
          "height": 35
        },
        "outputId": "99a1bae8-aaaa-4dc2-ded5-4a20950ee95c"
      },
      "source": [
        "np.mean(sample1)"
      ],
      "execution_count": 35,
      "outputs": [
        {
          "output_type": "execute_result",
          "data": {
            "text/plain": [
              "1.944189047284886"
            ]
          },
          "metadata": {
            "tags": []
          },
          "execution_count": 35
        }
      ]
    },
    {
      "cell_type": "markdown",
      "metadata": {
        "id": "e1ej2vtQjkn-",
        "colab_type": "text"
      },
      "source": [
        "That's as expected, and it doesn't tell us much we didn't know.  However, the standard deviation of the sampling distribution tells us how much we expect the sample mean to vary from one simulated experiment to the next"
      ]
    },
    {
      "cell_type": "code",
      "metadata": {
        "id": "0Gz6YmgVjkn-",
        "colab_type": "code",
        "colab": {
          "base_uri": "https://localhost:8080/",
          "height": 35
        },
        "outputId": "d77dda9c-fbff-4bf0-be23-425e743f28b9"
      },
      "source": [
        "standard_error = np.std(sample_of_means1)\n",
        "standard_error"
      ],
      "execution_count": 36,
      "outputs": [
        {
          "output_type": "execute_result",
          "data": {
            "text/plain": [
              "0.26612466895419706"
            ]
          },
          "metadata": {
            "tags": []
          },
          "execution_count": 36
        }
      ]
    },
    {
      "cell_type": "markdown",
      "metadata": {
        "id": "vfc0N9eZjkoB",
        "colab_type": "text"
      },
      "source": [
        "This value is the \"standard error\", which quantifies the precision of the estimate.  I'm using the word \"precision\" carefully here, because standard error doesn't tell us whether the estimate is accurate; it only tells us how precise it is.  You can [read more about the difference between precision and accuracy here](https://en.wikipedia.org/wiki/Accuracy_and_precision).\n",
        "\n",
        "Another way to quantify precision is to compute a \"confidence interval\"; for example, a 90% confidence interval contains 90% of the sampling distribution.\n",
        "\n",
        "We can use `np.percentile` to compute the interval between the 5th and 95th percentiles."
      ]
    },
    {
      "cell_type": "code",
      "metadata": {
        "id": "NAbqFxXPjkoC",
        "colab_type": "code",
        "colab": {
          "base_uri": "https://localhost:8080/",
          "height": 35
        },
        "outputId": "9c4d69a4-8b86-43cc-efb5-52c26a96afef"
      },
      "source": [
        "CI = np.percentile(sample_of_means1, [5, 95])\n",
        "CI"
      ],
      "execution_count": 37,
      "outputs": [
        {
          "output_type": "execute_result",
          "data": {
            "text/plain": [
              "array([1.51357148, 2.38338019])"
            ]
          },
          "metadata": {
            "tags": []
          },
          "execution_count": 37
        }
      ]
    },
    {
      "cell_type": "markdown",
      "metadata": {
        "id": "KAQgaWLFjkoG",
        "colab_type": "text"
      },
      "source": [
        "In this example the 90% confidence interval contains the actual population mean, which is 2.  Of course, in the real world, we usually don't know the population mean.  If we did, we wouldn't be estimating it."
      ]
    },
    {
      "cell_type": "markdown",
      "metadata": {
        "id": "AffebQbJjkoG",
        "colab_type": "text"
      },
      "source": [
        "**Exercise:** The following cell computes the sampling distribution of the mean for `sample2`.  Compute the standard error and a 90% confidence interval.  Does the CI contain the population mean?"
      ]
    },
    {
      "cell_type": "code",
      "metadata": {
        "id": "DTO2kvnAjkoH",
        "colab_type": "code",
        "colab": {
          "base_uri": "https://localhost:8080/",
          "height": 35
        },
        "outputId": "ef02080f-110d-480e-97c8-c41b72200f4d"
      },
      "source": [
        "sample_of_means2 = sampling_distribution_of_mean(sample2)\n"
      ],
      "execution_count": 48,
      "outputs": [
        {
          "output_type": "execute_result",
          "data": {
            "text/plain": [
              "2.7019613323781497"
            ]
          },
          "metadata": {
            "tags": []
          },
          "execution_count": 48
        }
      ]
    },
    {
      "cell_type": "code",
      "metadata": {
        "id": "OjbDY-02jkoM",
        "colab_type": "code",
        "colab": {
          "base_uri": "https://localhost:8080/",
          "height": 35
        },
        "outputId": "ea26b219-87d8-4e22-fef2-30a9da92297f"
      },
      "source": [
        "# Solution goes here\n",
        "standard_error = np.std(sample_of_means2)\n",
        "standard_error"
      ],
      "execution_count": 56,
      "outputs": [
        {
          "output_type": "execute_result",
          "data": {
            "text/plain": [
              "0.26522224787163445"
            ]
          },
          "metadata": {
            "tags": []
          },
          "execution_count": 56
        }
      ]
    },
    {
      "cell_type": "code",
      "metadata": {
        "id": "WS-nN136jkoP",
        "colab_type": "code",
        "colab": {
          "base_uri": "https://localhost:8080/",
          "height": 35
        },
        "outputId": "16919b0e-2dee-4d5d-e5e0-d0c16cbd7998"
      },
      "source": [
        "# Solution goes here\n",
        "CI = np.percentile(sample_of_means2, [5, 95])\n",
        "CI\n",
        "# Population mean is 2.7, so interval does contain it."
      ],
      "execution_count": 57,
      "outputs": [
        {
          "output_type": "execute_result",
          "data": {
            "text/plain": [
              "array([2.28100103, 3.15551766])"
            ]
          },
          "metadata": {
            "tags": []
          },
          "execution_count": 57
        }
      ]
    },
    {
      "cell_type": "markdown",
      "metadata": {
        "id": "gD0C9xLmjkoS",
        "colab_type": "text"
      },
      "source": [
        "**Exercise:** Estimate the sampling distribution for the difference in means by subtracting `sample_of_means1` and `sample_of_means2` elementwise.  Compute the SE and 90% CI."
      ]
    },
    {
      "cell_type": "code",
      "metadata": {
        "id": "An9-78WTjkoS",
        "colab_type": "code",
        "colab": {
          "base_uri": "https://localhost:8080/",
          "height": 35
        },
        "outputId": "8447d4c9-5dd8-4abf-d4d3-68ceae6a1bd7"
      },
      "source": [
        "# Solution goes here\n",
        "sample_of_difference = sample_of_means1 - sample_of_means2"
      ],
      "execution_count": 61,
      "outputs": [
        {
          "output_type": "execute_result",
          "data": {
            "text/plain": [
              "0.7577722850932638"
            ]
          },
          "metadata": {
            "tags": []
          },
          "execution_count": 61
        }
      ]
    },
    {
      "cell_type": "code",
      "metadata": {
        "id": "jwhewWJ_jkoX",
        "colab_type": "code",
        "colab": {
          "base_uri": "https://localhost:8080/",
          "height": 35
        },
        "outputId": "f68ae12a-832a-44d3-dbc8-fcb4d4950061"
      },
      "source": [
        "# Solution goes here\n",
        "standard_error = np.std(sample_of_difference)\n",
        "standard_error"
      ],
      "execution_count": 62,
      "outputs": [
        {
          "output_type": "execute_result",
          "data": {
            "text/plain": [
              "0.3687080515467921"
            ]
          },
          "metadata": {
            "tags": []
          },
          "execution_count": 62
        }
      ]
    },
    {
      "cell_type": "code",
      "metadata": {
        "id": "-IU7UTTbjkoc",
        "colab_type": "code",
        "colab": {
          "base_uri": "https://localhost:8080/",
          "height": 35
        },
        "outputId": "4d22d0f1-3bcd-49d0-8dae-7bd929d766de"
      },
      "source": [
        "# Solution goes here\n",
        "CI = np.percentile(sample_of_difference, [5, 95])\n",
        "CI\n"
      ],
      "execution_count": 65,
      "outputs": [
        {
          "output_type": "execute_result",
          "data": {
            "text/plain": [
              "array([-1.37484671, -0.15194853])"
            ]
          },
          "metadata": {
            "tags": []
          },
          "execution_count": 65
        }
      ]
    },
    {
      "cell_type": "markdown",
      "metadata": {
        "id": "tQiHK2PCjkoe",
        "colab_type": "text"
      },
      "source": [
        "## Estimating sampling distributions\n",
        "\n",
        "The process we used in the previous section is an example of a framework for computing sampling distributions, standard errors, and confidence intervals, as shown in the following figure:\n",
        "\n",
        "<img src=\"https://github.com/AllenDowney/ElementsOfDataScience/raw/master/figs/resampling.png\" width=\"400\">\n",
        "\n",
        "The essential steps are:\n",
        "\n",
        "1. Choose a sample statistic that quantifies the thing you want to estimate.\n",
        "\n",
        "2. Use the data to make a model of the population.\n",
        "\n",
        "3. Use the model to simulate the sampling process and generate simulated data.\n",
        "\n",
        "4. Compute the sampling distribution of the estimate.\n",
        "\n",
        "5. Use the sampling distribution to compute the standard error, confidence interval, or both.\n",
        "\n",
        "But remember that this process only accounts for variability due to random sampling.  It doesn't tell us anything about systematic errors in the sampling process, measurement error, or other sources of error."
      ]
    },
    {
      "cell_type": "markdown",
      "metadata": {
        "id": "Ql0l7WUyjkof",
        "colab_type": "text"
      },
      "source": [
        "## The central limit theorem\n",
        "\n",
        "Now let's get back to the original question:\n",
        "\n",
        "> This may be a simple question for most of you, but I’m still learning statistics and I can’t find any resource that explains how to test two sample means from gamma distributions. Both samples have n > 30, so does that mean I can use a ttest due to central limit theorem? If so, can someone please ELI15?\n",
        "\n",
        "The question is about [Student's t-test](https://en.wikipedia.org/wiki/Student%27s_t-test) which is an analytic method for estimating p-values under certain assumptions about the distribution of the data.\n",
        "\n",
        "Without getting into the details, the t-test is accurate enough for practical purposes as long as the sampling distribution of the mean is approximately normal (Gaussian).\n",
        "\n",
        "If the distribution of the data is approximately normal, so is the sampling distribution of the means, so in that case there's no problem: the t-test is fine."
      ]
    },
    {
      "cell_type": "markdown",
      "metadata": {
        "id": "kBsKZdYRjkof",
        "colab_type": "text"
      },
      "source": [
        "But what if the distribution of the data is not normal, as in this example, where we are told that the data are closer to a gamma distribution?\n",
        "\n",
        "In that case, the t-test is usually fine anyway because of the central limit theorem, which implies that the sampling distribution of the mean is often (but not always) approximately normal even if the distribution of the data is not.\n",
        "\n",
        "Now you might wonder: how do we know when this approximation is good enough?  Well, one way is to use resampling to estimate the sampling distribution.  So let's do that.\n",
        "\n",
        "First, here's the distribution of the data in the two samples, represented as a CDF."
      ]
    },
    {
      "cell_type": "code",
      "metadata": {
        "id": "OYgy4tkZjkog",
        "colab_type": "code",
        "colab": {
          "base_uri": "https://localhost:8080/",
          "height": 351
        },
        "outputId": "6d10f1f8-7633-4a78-feea-7ed7f67019a4"
      },
      "source": [
        "from empiricaldist import Cdf\n",
        "\n",
        "cdf1 = Cdf.from_seq(sample1)\n",
        "cdf1.plot(label='Sample 1')\n",
        "\n",
        "cdf2 = Cdf.from_seq(sample2)\n",
        "cdf2.plot(label='Sample 2')\n",
        "\n",
        "plt.xlabel('Values from the samples')\n",
        "plt.ylabel('CDF')\n",
        "plt.title('Distribution of the samples');"
      ],
      "execution_count": 66,
      "outputs": [
        {
          "output_type": "stream",
          "text": [
            "/usr/local/lib/python3.6/dist-packages/statsmodels/tools/_testing.py:19: FutureWarning: pandas.util.testing is deprecated. Use the functions in the public API at pandas.testing instead.\n",
            "  import pandas.util.testing as tm\n"
          ],
          "name": "stderr"
        },
        {
          "output_type": "display_data",
          "data": {
            "image/png": "[encoded data removed]",
            "text/plain": [
              "<Figure size 432x288 with 1 Axes>"
            ]
          },
          "metadata": {
            "tags": [],
            "needs_background": "light"
          }
        }
      ]
    },
    {
      "cell_type": "markdown",
      "metadata": {
        "id": "2Rce-8pMjkoi",
        "colab_type": "text"
      },
      "source": [
        "In this example, the data were literally drawn from a gamma distribution, no it is no surprise that these CDFs do not look like normal distributions.\n",
        "\n",
        "To see that more clearly, I'll compute normal distributions with the same mean and standard deviation, and we'll see how different they look."
      ]
    },
    {
      "cell_type": "code",
      "metadata": {
        "id": "PA5p6TcGjkoi",
        "colab_type": "code",
        "colab": {}
      },
      "source": [
        "from scipy.stats import norm\n",
        "\n",
        "def plot_normal_model(sample, **options):\n",
        "    \"\"\"Plot the CDF of a normal distribution with the\n",
        "    same mean and std of the sample.\n",
        "    \n",
        "    sample: sequence of values\n",
        "    options: passed to plt.plot\n",
        "    \"\"\"\n",
        "    mean, std = np.mean(sample), np.std(sample)\n",
        "    xs = np.linspace(np.min(sample), np.max(sample))\n",
        "    ys = norm.cdf(xs, mean, std)\n",
        "    plt.plot(xs, ys, alpha=0.4, **options)"
      ],
      "execution_count": 0,
      "outputs": []
    },
    {
      "cell_type": "code",
      "metadata": {
        "id": "-teJpss0jkok",
        "colab_type": "code",
        "colab": {
          "base_uri": "https://localhost:8080/",
          "height": 295
        },
        "outputId": "37aac74a-7990-40c9-8373-adbbaadbfd56"
      },
      "source": [
        "from empiricaldist import Cdf\n",
        "\n",
        "plot_normal_model(sample1, color='C0', label='Normal model')\n",
        "cdf1 = Cdf.from_seq(sample1)\n",
        "cdf1.plot(label='Sample 1')\n",
        "\n",
        "plot_normal_model(sample2, color='C1', label='Normal model')\n",
        "cdf2 = Cdf.from_seq(sample2)\n",
        "cdf2.plot(label='Sample 2')\n",
        "\n",
        "plt.xlabel('Values from the samples')\n",
        "plt.ylabel('CDF')\n",
        "plt.title('Distribution of the samples')\n",
        "\n",
        "plt.legend();"
      ],
      "execution_count": 68,
      "outputs": [
        {
          "output_type": "display_data",
          "data": {
            "image/png": "[encoded data removed]",
            "text/plain": [
              "<Figure size 432x288 with 1 Axes>"
            ]
          },
          "metadata": {
            "tags": [],
            "needs_background": "light"
          }
        }
      ]
    },
    {
      "cell_type": "markdown",
      "metadata": {
        "id": "5Tzyr92Fjkoo",
        "colab_type": "text"
      },
      "source": [
        "The normal model does not fit the data particularly well; in particular, the normal model implies that negative values have non-negligible probability.  But the values from a gamma distribution cannot be negative (like most quantities that we measure in the world).\n",
        "\n",
        "But now let's do the same thing with the sampling distributions of the means:"
      ]
    },
    {
      "cell_type": "code",
      "metadata": {
        "id": "vNlrifXrjkop",
        "colab_type": "code",
        "colab": {
          "base_uri": "https://localhost:8080/",
          "height": 295
        },
        "outputId": "6b09a919-8942-486f-9d13-cd8d6439e45c"
      },
      "source": [
        "plot_normal_model(sample_of_means1, color='C0', label='Normal model')\n",
        "cdf1 = Cdf.from_seq(sample_of_means1)\n",
        "cdf1.plot(label='Sample of means 1')\n",
        "\n",
        "plot_normal_model(sample_of_means2, color='C1', label='Normal model')\n",
        "cdf2 = Cdf.from_seq(sample_of_means2)\n",
        "cdf2.plot(label='Sample of means2')\n",
        "\n",
        "plt.xlabel('Sample mean')\n",
        "plt.ylabel('CDF')\n",
        "plt.title('Sampling distributions')\n",
        "\n",
        "plt.legend();"
      ],
      "execution_count": 69,
      "outputs": [
        {
          "output_type": "display_data",
          "data": {
            "image/png": "[encoded data removed]",
            "text/plain": [
              "<Figure size 432x288 with 1 Axes>"
            ]
          },
          "metadata": {
            "tags": [],
            "needs_background": "light"
          }
        }
      ]
    },
    {
      "cell_type": "markdown",
      "metadata": {
        "id": "nHoT39AMjkou",
        "colab_type": "text"
      },
      "source": [
        "The models fit the data so well you can barely see them.  So the answer to the original question is a clear yes: with a gamma distribution and sample sizes near 30, the sampling distribution of the mean is approximately normal, the assumptions of the t-test are satisfied, and the results are accurate enough for practical purpose.\n",
        "\n",
        "At least, for *these* gamma distributions that's true.  For other gamma distributions it might not be.  In particular, when the mean of a gamma distribution is small, its skewness is large, and we need a larger sample size to ensure that the sampling distribution is normal enough.\n",
        "\n",
        "So how are we supposed to know?  Well, one option is to use resampling to estimate the sampling distribution.  But if we have to use resampling to know whether or not the t-test is reliable, we might as well use resampling to compute the p-value, standard error, and/or confidence interval, in my opinion."
      ]
    },
    {
      "cell_type": "code",
      "metadata": {
        "id": "rvc_ZY2tjkou",
        "colab_type": "code",
        "colab": {}
      },
      "source": [
        ""
      ],
      "execution_count": 0,
      "outputs": []
    }
  ]
}