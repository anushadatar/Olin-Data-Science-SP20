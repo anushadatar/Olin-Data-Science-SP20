{
  "nbformat": 4,
  "nbformat_minor": 0,
  "metadata": {
    "kernelspec": {
      "display_name": "Python 3",
      "language": "python",
      "name": "python3"
    },
    "language_info": {
      "codemirror_mode": {
        "name": "ipython",
        "version": 3
      },
      "file_extension": ".py",
      "mimetype": "text/x-python",
      "name": "python",
      "nbconvert_exporter": "python",
      "pygments_lexer": "ipython3",
      "version": "3.6.9"
    },
    "colab": {
      "name": "02_bayes.ipynb",
      "provenance": [],
      "collapsed_sections": [
        "_RTE9ies0mam"
      ],
      "include_colab_link": true
    }
  },
  "cells": [
    {
      "cell_type": "markdown",
      "metadata": {
        "id": "view-in-github",
        "colab_type": "text"
      },
      "source": [
        "<a href=\"https://colab.research.google.com/github/anushadatar/Olin-Data-Science-SP20/blob/master/02_bayes.ipynb\" target=\"_parent\"><img src=\"https://colab.research.google.com/assets/colab-badge.svg\" alt=\"Open In Colab\"/></a>"
      ]
    },
    {
      "cell_type": "markdown",
      "metadata": {
        "id": "O4phqxy10mWj",
        "colab_type": "text"
      },
      "source": [
        "# Bite Size Bayes\n",
        "\n",
        "Copyright 2020 Allen B. Downey\n",
        "\n",
        "License: [Attribution-NonCommercial-ShareAlike 4.0 International (CC BY-NC-SA 4.0)](https://creativecommons.org/licenses/by-nc-sa/4.0/)"
      ]
    },
    {
      "cell_type": "code",
      "metadata": {
        "id": "hZYP5vfG0mWp",
        "colab_type": "code",
        "outputId": "1b4e6be3-2e6a-42de-ff53-8a12321abfc4",
        "colab": {
          "base_uri": "https://localhost:8080/",
          "height": 289
        }
      },
      "source": [
        "# Load utils.py\n",
        "\n",
        "import os\n",
        "\n",
        "if not os.path.exists('utils.py'):\n",
        "    !wget https://github.com/AllenDowney/BiteSizeBayes/raw/master/utils.py"
      ],
      "execution_count": 0,
      "outputs": [
        {
          "output_type": "stream",
          "text": [
            "--2020-04-02 19:10:01--  https://github.com/AllenDowney/BiteSizeBayes/raw/master/utils.py\n",
            "Resolving github.com (github.com)... 140.82.113.4\n",
            "Connecting to github.com (github.com)|140.82.113.4|:443... connected.\n",
            "HTTP request sent, awaiting response... 302 Found\n",
            "Location: https://raw.githubusercontent.com/AllenDowney/BiteSizeBayes/master/utils.py [following]\n",
            "--2020-04-02 19:10:01--  https://raw.githubusercontent.com/AllenDowney/BiteSizeBayes/master/utils.py\n",
            "Resolving raw.githubusercontent.com (raw.githubusercontent.com)... 151.101.0.133, 151.101.64.133, 151.101.128.133, ...\n",
            "Connecting to raw.githubusercontent.com (raw.githubusercontent.com)|151.101.0.133|:443... connected.\n",
            "HTTP request sent, awaiting response... 200 OK\n",
            "Length: 8014 (7.8K) [text/plain]\n",
            "Saving to: ‘utils.py’\n",
            "\n",
            "utils.py            100%[===================>]   7.83K  --.-KB/s    in 0s      \n",
            "\n",
            "2020-04-02 19:10:01 (128 MB/s) - ‘utils.py’ saved [8014/8014]\n",
            "\n"
          ],
          "name": "stdout"
        }
      ]
    },
    {
      "cell_type": "code",
      "metadata": {
        "id": "FPkEmiaz0mW3",
        "colab_type": "code",
        "outputId": "e97c6a87-8389-48e0-e379-aedaea555316",
        "colab": {
          "base_uri": "https://localhost:8080/",
          "height": 289
        }
      },
      "source": [
        "# Load the data file\n",
        "\n",
        "if not os.path.exists('gss_bayes.csv'):\n",
        "    !wget https://github.com/AllenDowney/BiteSizeBayes/raw/master/gss_bayes.csv"
      ],
      "execution_count": 0,
      "outputs": [
        {
          "output_type": "stream",
          "text": [
            "--2020-04-02 19:10:02--  https://github.com/AllenDowney/BiteSizeBayes/raw/master/gss_bayes.csv\n",
            "Resolving github.com (github.com)... 140.82.114.4\n",
            "Connecting to github.com (github.com)|140.82.114.4|:443... connected.\n",
            "HTTP request sent, awaiting response... 302 Found\n",
            "Location: https://raw.githubusercontent.com/AllenDowney/BiteSizeBayes/master/gss_bayes.csv [following]\n",
            "--2020-04-02 19:10:02--  https://raw.githubusercontent.com/AllenDowney/BiteSizeBayes/master/gss_bayes.csv\n",
            "Resolving raw.githubusercontent.com (raw.githubusercontent.com)... 151.101.0.133, 151.101.64.133, 151.101.128.133, ...\n",
            "Connecting to raw.githubusercontent.com (raw.githubusercontent.com)|151.101.0.133|:443... connected.\n",
            "HTTP request sent, awaiting response... 200 OK\n",
            "Length: 1546290 (1.5M) [text/plain]\n",
            "Saving to: ‘gss_bayes.csv’\n",
            "\n",
            "\rgss_bayes.csv         0%[                    ]       0  --.-KB/s               \rgss_bayes.csv       100%[===================>]   1.47M  --.-KB/s    in 0.1s    \n",
            "\n",
            "2020-04-02 19:10:03 (11.9 MB/s) - ‘gss_bayes.csv’ saved [1546290/1546290]\n",
            "\n"
          ],
          "name": "stdout"
        }
      ]
    },
    {
      "cell_type": "code",
      "metadata": {
        "id": "gD-YlBtd0mXE",
        "colab_type": "code",
        "colab": {}
      },
      "source": [
        "import pandas as pd\n",
        "import numpy as np\n",
        "\n",
        "from utils import values"
      ],
      "execution_count": 0,
      "outputs": []
    },
    {
      "cell_type": "markdown",
      "metadata": {
        "id": "Mts1HnA_0mXS",
        "colab_type": "text"
      },
      "source": [
        "## Review\n",
        "\n",
        "[In the previous notebook](https://colab.research.google.com/github/AllenDowney/BiteSizeBayes/blob/master/01_linda.ipynb) I defined probability, conjunction, and conditional probability, and used data from the General Social Survey (GSS) to compute the probability of various logical propositions.\n",
        "\n",
        "To review, here's how we loaded the dataset:"
      ]
    },
    {
      "cell_type": "code",
      "metadata": {
        "id": "FUIh8JI80mXV",
        "colab_type": "code",
        "colab": {}
      },
      "source": [
        "gss = pd.read_csv('gss_bayes.csv', index_col=0)"
      ],
      "execution_count": 0,
      "outputs": []
    },
    {
      "cell_type": "markdown",
      "metadata": {
        "id": "hfCtkMkF0mXh",
        "colab_type": "text"
      },
      "source": [
        "And here are the logical propositions we defined, represented using Boolean series."
      ]
    },
    {
      "cell_type": "code",
      "metadata": {
        "id": "2CuC0DOC0mXj",
        "colab_type": "code",
        "colab": {}
      },
      "source": [
        "banker = (gss['indus10'] == 6870)"
      ],
      "execution_count": 0,
      "outputs": []
    },
    {
      "cell_type": "code",
      "metadata": {
        "id": "uOhEHJw90mXu",
        "colab_type": "code",
        "colab": {}
      },
      "source": [
        "female = (gss['sex'] == 2)"
      ],
      "execution_count": 0,
      "outputs": []
    },
    {
      "cell_type": "code",
      "metadata": {
        "id": "Tadq3egx0mX9",
        "colab_type": "code",
        "colab": {}
      },
      "source": [
        "liberal = (gss['polviews'] < 4)"
      ],
      "execution_count": 0,
      "outputs": []
    },
    {
      "cell_type": "code",
      "metadata": {
        "id": "6iflautl0mYD",
        "colab_type": "code",
        "colab": {}
      },
      "source": [
        "democrat = (gss['partyid'] <= 1)"
      ],
      "execution_count": 0,
      "outputs": []
    },
    {
      "cell_type": "markdown",
      "metadata": {
        "id": "phxN6gpw0mYI",
        "colab_type": "text"
      },
      "source": [
        "I defined the following function, which uses `mean` to compute the fraction of `True` values in a Boolean series."
      ]
    },
    {
      "cell_type": "code",
      "metadata": {
        "id": "JLC78mKe0mYK",
        "colab_type": "code",
        "colab": {}
      },
      "source": [
        "def prob(A):\n",
        "    \"\"\"Computes the probability of a proposition, A.\n",
        "    \n",
        "    A: Boolean series\n",
        "    \n",
        "    returns: probability\n",
        "    \"\"\"\n",
        "    assert isinstance(A, pd.Series)\n",
        "    assert A.dtype == 'bool'\n",
        "    \n",
        "    return A.mean()"
      ],
      "execution_count": 0,
      "outputs": []
    },
    {
      "cell_type": "markdown",
      "metadata": {
        "id": "tu7kWpao0mYQ",
        "colab_type": "text"
      },
      "source": [
        "So we can compute the probability of a proposition like this:"
      ]
    },
    {
      "cell_type": "code",
      "metadata": {
        "id": "0nLCs0Hj0mYR",
        "colab_type": "code",
        "outputId": "a6337130-b016-4188-8799-eba9b777ea68",
        "colab": {
          "base_uri": "https://localhost:8080/",
          "height": 34
        }
      },
      "source": [
        "prob(female)"
      ],
      "execution_count": 0,
      "outputs": [
        {
          "output_type": "execute_result",
          "data": {
            "text/plain": [
              "0.5378575776019476"
            ]
          },
          "metadata": {
            "tags": []
          },
          "execution_count": 10
        }
      ]
    },
    {
      "cell_type": "markdown",
      "metadata": {
        "id": "AqLNGbdC0mYX",
        "colab_type": "text"
      },
      "source": [
        "Then we used the `&` operator to compute the probability of a conjunction, like this:"
      ]
    },
    {
      "cell_type": "code",
      "metadata": {
        "id": "qRxWPuDA0mYZ",
        "colab_type": "code",
        "outputId": "04e886fb-f59b-441d-ff9e-44e567ee756f",
        "colab": {
          "base_uri": "https://localhost:8080/",
          "height": 34
        }
      },
      "source": [
        "prob(female & banker)"
      ],
      "execution_count": 0,
      "outputs": [
        {
          "output_type": "execute_result",
          "data": {
            "text/plain": [
              "0.011381618989653074"
            ]
          },
          "metadata": {
            "tags": []
          },
          "execution_count": 11
        }
      ]
    },
    {
      "cell_type": "markdown",
      "metadata": {
        "id": "98yFZIPC0mYj",
        "colab_type": "text"
      },
      "source": [
        "Next I defined the following function, which uses the bracket operator to compute conditional probability:"
      ]
    },
    {
      "cell_type": "code",
      "metadata": {
        "id": "oGKYoaev0mYk",
        "colab_type": "code",
        "colab": {}
      },
      "source": [
        "\n",
        "def conditional(A, B):\n",
        "    \"\"\"Conditional probability of A given B.\n",
        "    \n",
        "    A: Boolean series\n",
        "    B: Boolean series\n",
        "    \n",
        "    returns: probability\n",
        "    \"\"\"\n",
        "    return prob(A[B])"
      ],
      "execution_count": 0,
      "outputs": []
    },
    {
      "cell_type": "markdown",
      "metadata": {
        "id": "lPYoEdYR0mYq",
        "colab_type": "text"
      },
      "source": [
        "We showed that conjunction is commutative, so `prob(A & B)` equals `prob(B & A)`, for any logical propositions `A` and `B`.\n",
        "\n",
        "For example:"
      ]
    },
    {
      "cell_type": "code",
      "metadata": {
        "id": "1RczYdqJ0mYs",
        "colab_type": "code",
        "outputId": "5519766c-8c97-4167-f9ff-ae1c1a3847fa",
        "colab": {
          "base_uri": "https://localhost:8080/",
          "height": 34
        }
      },
      "source": [
        "prob(liberal & democrat)"
      ],
      "execution_count": 0,
      "outputs": [
        {
          "output_type": "execute_result",
          "data": {
            "text/plain": [
              "0.1425238385067965"
            ]
          },
          "metadata": {
            "tags": []
          },
          "execution_count": 13
        }
      ]
    },
    {
      "cell_type": "code",
      "metadata": {
        "id": "F1AxPvWt0mYx",
        "colab_type": "code",
        "outputId": "29d5978c-cb74-49cf-f874-f02140e59d0f",
        "colab": {
          "base_uri": "https://localhost:8080/",
          "height": 34
        }
      },
      "source": [
        "prob(democrat & liberal)"
      ],
      "execution_count": 0,
      "outputs": [
        {
          "output_type": "execute_result",
          "data": {
            "text/plain": [
              "0.1425238385067965"
            ]
          },
          "metadata": {
            "tags": []
          },
          "execution_count": 14
        }
      ]
    },
    {
      "cell_type": "markdown",
      "metadata": {
        "id": "w1wQceLw0mY7",
        "colab_type": "text"
      },
      "source": [
        "But conditional probability is NOT commutative, so `conditional(A, B)` is generally not the same as `conditional(B, A)`.\n",
        "\n",
        "For example, here's the probability that a respondent is female, given that they are a banker."
      ]
    },
    {
      "cell_type": "code",
      "metadata": {
        "id": "yKto0zfg0mY_",
        "colab_type": "code",
        "outputId": "d21c32ca-7c68-4fdd-a9eb-039c6f5aba9e",
        "colab": {
          "base_uri": "https://localhost:8080/",
          "height": 34
        }
      },
      "source": [
        "conditional(female, banker)"
      ],
      "execution_count": 0,
      "outputs": [
        {
          "output_type": "execute_result",
          "data": {
            "text/plain": [
              "0.7706043956043956"
            ]
          },
          "metadata": {
            "tags": []
          },
          "execution_count": 15
        }
      ]
    },
    {
      "cell_type": "markdown",
      "metadata": {
        "id": "GMPPORBW0mZJ",
        "colab_type": "text"
      },
      "source": [
        "And here's the probability that a respondent is a banker, given that they are female."
      ]
    },
    {
      "cell_type": "code",
      "metadata": {
        "id": "WauJM-4D0mZK",
        "colab_type": "code",
        "outputId": "e66dd4c4-96e3-4315-e733-80a813dd02ea",
        "colab": {
          "base_uri": "https://localhost:8080/",
          "height": 34
        }
      },
      "source": [
        "conditional(banker, female)"
      ],
      "execution_count": 0,
      "outputs": [
        {
          "output_type": "execute_result",
          "data": {
            "text/plain": [
              "0.02116102749801969"
            ]
          },
          "metadata": {
            "tags": []
          },
          "execution_count": 16
        }
      ]
    },
    {
      "cell_type": "markdown",
      "metadata": {
        "id": "__HFoF7a0mZU",
        "colab_type": "text"
      },
      "source": [
        "Not even close."
      ]
    },
    {
      "cell_type": "markdown",
      "metadata": {
        "id": "9ZASkCQD0mZV",
        "colab_type": "text"
      },
      "source": [
        "## More propositions\n",
        "\n",
        "For the sake of variety in our examples, let's define some new propositions.\n",
        "\n",
        "Here's the probability that a random respondent is male."
      ]
    },
    {
      "cell_type": "code",
      "metadata": {
        "id": "33_YSvkj0mZW",
        "colab_type": "code",
        "outputId": "d6a5ab20-fa9c-44da-e75c-30a6c714fa8a",
        "colab": {
          "base_uri": "https://localhost:8080/",
          "height": 34
        }
      },
      "source": [
        "male = (gss['sex']==1)\n",
        "prob(male)"
      ],
      "execution_count": 0,
      "outputs": [
        {
          "output_type": "execute_result",
          "data": {
            "text/plain": [
              "0.46214242239805237"
            ]
          },
          "metadata": {
            "tags": []
          },
          "execution_count": 17
        }
      ]
    },
    {
      "cell_type": "markdown",
      "metadata": {
        "id": "dJfRQJHg0mZd",
        "colab_type": "text"
      },
      "source": [
        "The industry code for \"Construction\" is `770`.  Let's call someone in this field a \"builder\"."
      ]
    },
    {
      "cell_type": "code",
      "metadata": {
        "id": "BwOTfCN80mZe",
        "colab_type": "code",
        "outputId": "9d393ce0-adc2-403c-aa59-247f132834c3",
        "colab": {
          "base_uri": "https://localhost:8080/",
          "height": 34
        }
      },
      "source": [
        "builder = (gss['indus10'] == 770)\n",
        "prob(builder)"
      ],
      "execution_count": 0,
      "outputs": [
        {
          "output_type": "execute_result",
          "data": {
            "text/plain": [
              "0.05978900385473727"
            ]
          },
          "metadata": {
            "tags": []
          },
          "execution_count": 18
        }
      ]
    },
    {
      "cell_type": "markdown",
      "metadata": {
        "id": "VuS3bMNz0mZo",
        "colab_type": "text"
      },
      "source": [
        "And let's define propositions for conservatives and Republicans."
      ]
    },
    {
      "cell_type": "code",
      "metadata": {
        "id": "6UVs0Z820mZp",
        "colab_type": "code",
        "outputId": "6f69a18a-62fe-4439-ab73-840635d277ef",
        "colab": {
          "base_uri": "https://localhost:8080/",
          "height": 34
        }
      },
      "source": [
        "conservative = (gss['polviews'] > 4)\n",
        "prob(conservative)"
      ],
      "execution_count": 0,
      "outputs": [
        {
          "output_type": "execute_result",
          "data": {
            "text/plain": [
              "0.3419354838709677"
            ]
          },
          "metadata": {
            "tags": []
          },
          "execution_count": 19
        }
      ]
    },
    {
      "cell_type": "code",
      "metadata": {
        "id": "Jbch1TAc0mZv",
        "colab_type": "code",
        "outputId": "a582b882-2be3-4ff6-fa7f-b38289c5f331",
        "colab": {
          "base_uri": "https://localhost:8080/",
          "height": 34
        }
      },
      "source": [
        "republican = (gss['partyid'].isin([5,6]))\n",
        "prob(republican)"
      ],
      "execution_count": 0,
      "outputs": [
        {
          "output_type": "execute_result",
          "data": {
            "text/plain": [
              "0.2610062893081761"
            ]
          },
          "metadata": {
            "tags": []
          },
          "execution_count": 20
        }
      ]
    },
    {
      "cell_type": "markdown",
      "metadata": {
        "id": "3JnXuvPS0mZ2",
        "colab_type": "text"
      },
      "source": [
        "The `isin` function checks whether values are in a given sequence.  In this example, the values `5` and `6` represent the responses \"Strong Republican\" and \"Not Strong Republican\"."
      ]
    },
    {
      "cell_type": "markdown",
      "metadata": {
        "id": "zLxPA5oZ0mZ2",
        "colab_type": "text"
      },
      "source": [
        "Finally, I'll use `age` to define propositions for `young` and `old`."
      ]
    },
    {
      "cell_type": "code",
      "metadata": {
        "id": "3sroXdMm0mZ3",
        "colab_type": "code",
        "outputId": "deb88a2a-60df-4ebf-fc9f-86368f217e9c",
        "colab": {
          "base_uri": "https://localhost:8080/",
          "height": 34
        }
      },
      "source": [
        "young = (gss['age'] < 30)\n",
        "prob(young)"
      ],
      "execution_count": 0,
      "outputs": [
        {
          "output_type": "execute_result",
          "data": {
            "text/plain": [
              "0.19435991073240008"
            ]
          },
          "metadata": {
            "tags": []
          },
          "execution_count": 21
        }
      ]
    },
    {
      "cell_type": "code",
      "metadata": {
        "id": "PKs4If6O0mZ8",
        "colab_type": "code",
        "outputId": "8f2196e5-ab53-4f88-cfc6-48e491c38f69",
        "colab": {
          "base_uri": "https://localhost:8080/",
          "height": 34
        }
      },
      "source": [
        "old = (gss['age'] >= 65)\n",
        "prob(old)"
      ],
      "execution_count": 0,
      "outputs": [
        {
          "output_type": "execute_result",
          "data": {
            "text/plain": [
              "0.17328058429701765"
            ]
          },
          "metadata": {
            "tags": []
          },
          "execution_count": 22
        }
      ]
    },
    {
      "cell_type": "markdown",
      "metadata": {
        "id": "FdUohBXl0maG",
        "colab_type": "text"
      },
      "source": [
        "For these thresholds, I chose round numbers near the 20th and 80th percentiles.  Depending on your age, you may or may not agree with these definitions of \"young\" and \"old\"."
      ]
    },
    {
      "cell_type": "markdown",
      "metadata": {
        "id": "29ivc6gE0maI",
        "colab_type": "text"
      },
      "source": [
        "**Exercise:** There's a [famous quote](https://quoteinvestigator.com/2014/02/24/heart-head/) about young people, old people, liberals, and conservatives that goes something like:\n",
        "\n",
        "> If you are not a liberal at 25, you have no heart. If you are not a conservative at 35, you have no brain.\n",
        "\n",
        "Whether you agree with this proposition or not, it suggests some probabilities we can compute as a review exercise.  \n",
        "Use `prob` and `conditional` to compute these probabilities.\n",
        "\n",
        "* What is the probability that a randomly chosen respondent is a young liberal?\n",
        "\n",
        "* What is the probability that a young person is liberal?\n",
        "\n",
        "* What fraction of respondents are old conservatives?\n",
        "\n",
        "* What fraction of conservatives are old?\n",
        "\n",
        "For each statement, think about whether it is expressing a conjunction, or a conditional probability, or both.\n",
        "\n",
        "And for the conditional probabilities, be careful about the order!"
      ]
    },
    {
      "cell_type": "code",
      "metadata": {
        "id": "epy7xH9O0maJ",
        "colab_type": "code",
        "outputId": "94464fba-f324-48b1-e91e-bc84cfe96d19",
        "colab": {
          "base_uri": "https://localhost:8080/",
          "height": 34
        }
      },
      "source": [
        "# Solution goes here\n",
        "prob(young & liberal )"
      ],
      "execution_count": 0,
      "outputs": [
        {
          "output_type": "execute_result",
          "data": {
            "text/plain": [
              "0.06579427875836884"
            ]
          },
          "metadata": {
            "tags": []
          },
          "execution_count": 25
        }
      ]
    },
    {
      "cell_type": "code",
      "metadata": {
        "id": "VPnQlv1A0maO",
        "colab_type": "code",
        "outputId": "ffc25405-ef7a-4b0e-b9e3-64c3ebb0c670",
        "colab": {
          "base_uri": "https://localhost:8080/",
          "height": 34
        }
      },
      "source": [
        "# Solution goes here.\n",
        "conditional(liberal, young)"
      ],
      "execution_count": 0,
      "outputs": [
        {
          "output_type": "execute_result",
          "data": {
            "text/plain": [
              "0.338517745302714"
            ]
          },
          "metadata": {
            "tags": []
          },
          "execution_count": 28
        }
      ]
    },
    {
      "cell_type": "code",
      "metadata": {
        "id": "UECeSWLN0maW",
        "colab_type": "code",
        "outputId": "740e7be2-f80c-4ac3-9192-760ec3e10d95",
        "colab": {
          "base_uri": "https://localhost:8080/",
          "height": 34
        }
      },
      "source": [
        "# Solution goes here\n",
        "prob(conservative & old)\n"
      ],
      "execution_count": 0,
      "outputs": [
        {
          "output_type": "execute_result",
          "data": {
            "text/plain": [
              "0.06701156421180766"
            ]
          },
          "metadata": {
            "tags": []
          },
          "execution_count": 29
        }
      ]
    },
    {
      "cell_type": "code",
      "metadata": {
        "id": "qFTieD4q0mab",
        "colab_type": "code",
        "outputId": "b79d04a1-8d4b-481e-f37a-4dd7d2c107bf",
        "colab": {
          "base_uri": "https://localhost:8080/",
          "height": 34
        }
      },
      "source": [
        "# Solution goes here.\n",
        "conditional(old, conservative)"
      ],
      "execution_count": 0,
      "outputs": [
        {
          "output_type": "execute_result",
          "data": {
            "text/plain": [
              "0.19597721609113564"
            ]
          },
          "metadata": {
            "tags": []
          },
          "execution_count": 30
        }
      ]
    },
    {
      "cell_type": "markdown",
      "metadata": {
        "id": "2tEqWtlN0maj",
        "colab_type": "text"
      },
      "source": [
        "If your last answer is greater than 30%, you have it backwards!"
      ]
    },
    {
      "cell_type": "markdown",
      "metadata": {
        "id": "_RTE9ies0mam",
        "colab_type": "text"
      },
      "source": [
        "## Onward!\n",
        "\n",
        "In this notebook, we'll derive three relationships between conjunction and conditional probability:\n",
        "\n",
        "* Theorem 1: Using conjunction to compute a conditional probability.\n",
        "\n",
        "* Theorem 2: Using a conditional probability to compute a conjunction.\n",
        "\n",
        "* Theorem 3: Using `conditional(A, B)` to compute `conditional(B, A)`.\n",
        "\n",
        "Theorem 3 is also known as Bayes's Theorem, which is the foundation of Bayesian statistics.\n",
        "\n",
        "For parts of this notebook it will be useful to use mathematical notation for probability, so I'll introduce that now.\n",
        "\n",
        "* $P(A)$ is the probability of proposition $A$.\n",
        "\n",
        "* $P(A~\\mathrm{and}~B)$ is the probability of the conjunction of $A$ and $B$, that is, the probability that both are true.\n",
        "\n",
        "* $P(A | B)$ is the conditional probability of $A$ given that $B$ is true.  The vertical line between $A$ and $B$ is pronounced \"given\". \n",
        "\n",
        "With that, we are ready for Theorem 1."
      ]
    },
    {
      "cell_type": "markdown",
      "metadata": {
        "id": "tze2fKIj0mao",
        "colab_type": "text"
      },
      "source": [
        "## Theorem 1\n",
        "\n",
        "What fraction of builders are male?  We have already seen one way to compute the answer:\n",
        "\n",
        "1. Use the bracket operator to select the builders, then\n",
        "\n",
        "2. Use `mean` to compute the fraction of builders who are male.\n",
        "\n",
        "We can write these steps like this:"
      ]
    },
    {
      "cell_type": "code",
      "metadata": {
        "id": "xq3wo1kr0map",
        "colab_type": "code",
        "outputId": "787bb885-9244-4c2e-b800-53a46973cd35",
        "colab": {
          "base_uri": "https://localhost:8080/",
          "height": 34
        }
      },
      "source": [
        "male[builder].mean()"
      ],
      "execution_count": 0,
      "outputs": [
        {
          "output_type": "execute_result",
          "data": {
            "text/plain": [
              "0.8920936545639634"
            ]
          },
          "metadata": {
            "tags": []
          },
          "execution_count": 31
        }
      ]
    },
    {
      "cell_type": "markdown",
      "metadata": {
        "id": "v45VfKs_0mat",
        "colab_type": "text"
      },
      "source": [
        "Or we can use the `conditional` function, which does the same thing:"
      ]
    },
    {
      "cell_type": "code",
      "metadata": {
        "id": "JAYylYe30mau",
        "colab_type": "code",
        "outputId": "6336a830-dfef-42e0-e03b-b12b18c15d85",
        "colab": {
          "base_uri": "https://localhost:8080/",
          "height": 34
        }
      },
      "source": [
        "conditional(male, builder)"
      ],
      "execution_count": 0,
      "outputs": [
        {
          "output_type": "execute_result",
          "data": {
            "text/plain": [
              "0.8920936545639634"
            ]
          },
          "metadata": {
            "tags": []
          },
          "execution_count": 32
        }
      ]
    },
    {
      "cell_type": "markdown",
      "metadata": {
        "id": "zJr8QpjA0ma3",
        "colab_type": "text"
      },
      "source": [
        "But there is another way: to compute the fraction of builders who are male, we can compute the ratio of two probabilities:\n",
        "\n",
        "1. The fraction of respondents who are male builders, and\n",
        "\n",
        "2. The fraction of respondents who are builders.\n",
        "\n",
        "Here's what that looks like."
      ]
    },
    {
      "cell_type": "code",
      "metadata": {
        "id": "fSCfmS7b0ma4",
        "colab_type": "code",
        "outputId": "bc742f14-5bb3-43bc-8a6c-92de2109c132",
        "colab": {
          "base_uri": "https://localhost:8080/",
          "height": 34
        }
      },
      "source": [
        "prob(male & builder) / prob(builder)"
      ],
      "execution_count": 0,
      "outputs": [
        {
          "output_type": "execute_result",
          "data": {
            "text/plain": [
              "0.8920936545639634"
            ]
          },
          "metadata": {
            "tags": []
          },
          "execution_count": 33
        }
      ]
    },
    {
      "cell_type": "markdown",
      "metadata": {
        "id": "r-hBViYL0ma-",
        "colab_type": "text"
      },
      "source": [
        "The result is the same.\n",
        "\n",
        "This example demonstrates a general rule that relates conditional probability and conjunction.  Here's what it looks like in math notation:\n",
        "\n",
        "$P(A|B) = \\frac{P(A~\\mathrm{and}~B)}{P(B)}$\n",
        "\n",
        "And that's Theorem 1.\n",
        "\n",
        "In this example:\n",
        "\n",
        "`conditional(male, builder) = prob(male & builder) / prob(builder)`"
      ]
    },
    {
      "cell_type": "markdown",
      "metadata": {
        "id": "ZTYRzPF90ma_",
        "colab_type": "text"
      },
      "source": [
        "**Exercise:**  What fraction of conservatives are Republican?  Compute the answer two ways:\n",
        "\n",
        "* Use `conditional` (which uses the bracket operator), and\n",
        "\n",
        "* Use Theorem 1.\n",
        "\n",
        "Confirm that you get the same answer.\n",
        "\n",
        "Note: Due to floating-point arithmetic, the results might not be exactly the same, but almost all of the digits should be the same."
      ]
    },
    {
      "cell_type": "code",
      "metadata": {
        "id": "q62TRqP00mbA",
        "colab_type": "code",
        "outputId": "7e08c739-fbe1-4c72-96bd-d65def7611de",
        "colab": {
          "base_uri": "https://localhost:8080/",
          "height": 34
        }
      },
      "source": [
        "# Solution goes here\n",
        "conditional(republican, conservative)"
      ],
      "execution_count": 0,
      "outputs": [
        {
          "output_type": "execute_result",
          "data": {
            "text/plain": [
              "0.45027886555120444"
            ]
          },
          "metadata": {
            "tags": []
          },
          "execution_count": 36
        }
      ]
    },
    {
      "cell_type": "code",
      "metadata": {
        "id": "NnanmDaV0mbK",
        "colab_type": "code",
        "outputId": "8b5ab049-1824-458b-94e3-85531c5c9db5",
        "colab": {
          "base_uri": "https://localhost:8080/",
          "height": 34
        }
      },
      "source": [
        "# Solution goes here\n",
        "prob(conservative & republican)/prob(conservative)"
      ],
      "execution_count": 0,
      "outputs": [
        {
          "output_type": "execute_result",
          "data": {
            "text/plain": [
              "0.4502788655512045"
            ]
          },
          "metadata": {
            "tags": []
          },
          "execution_count": 37
        }
      ]
    },
    {
      "cell_type": "markdown",
      "metadata": {
        "id": "ioaLlsSo0mbP",
        "colab_type": "text"
      },
      "source": [
        "## Proof?\n",
        "\n",
        "I didn't really prove Theorem 1; mostly, it is a statement of what conditional probability means.\n",
        "\n",
        "For example, consider this Venn diagram:\n",
        "\n",
        "<img width=\"200\" src=\"https://github.com/AllenDowney/BiteSizeBayes/raw/master/theorem1_venn_diagram.png\">\n",
        "\n",
        "\n",
        "The blue circle represents male respondents.  The red circle represents builders.  The intersection represents male builders.\n",
        "\n",
        "To compute the fraction of builders who are male, we can compute the ratio of the intersection, which is `prob(male & builder)` to the red circle, which is `prob(builder)`."
      ]
    },
    {
      "cell_type": "markdown",
      "metadata": {
        "id": "Z9gahz3g0mbS",
        "colab_type": "text"
      },
      "source": [
        "**Exercise:** For practice, compute fraction of bankers who are old both ways: using `conditional` and using Theorem 1."
      ]
    },
    {
      "cell_type": "code",
      "metadata": {
        "id": "PKkW01wU0mbT",
        "colab_type": "code",
        "outputId": "041f82f9-b41f-49f5-c422-ceda992f7b42",
        "colab": {
          "base_uri": "https://localhost:8080/",
          "height": 34
        }
      },
      "source": [
        "# Solution goes here\n",
        "conditional(old, banker)"
      ],
      "execution_count": 0,
      "outputs": [
        {
          "output_type": "execute_result",
          "data": {
            "text/plain": [
              "0.14697802197802198"
            ]
          },
          "metadata": {
            "tags": []
          },
          "execution_count": 38
        }
      ]
    },
    {
      "cell_type": "code",
      "metadata": {
        "id": "Ew5F5uhx0mbc",
        "colab_type": "code",
        "outputId": "dbd6426d-a07e-4909-86ca-598d4f5c865c",
        "colab": {
          "base_uri": "https://localhost:8080/",
          "height": 34
        }
      },
      "source": [
        "# Solution goes here\n",
        "prob(old & banker)/prob(banker)"
      ],
      "execution_count": 0,
      "outputs": [
        {
          "output_type": "execute_result",
          "data": {
            "text/plain": [
              "0.14697802197802198"
            ]
          },
          "metadata": {
            "tags": []
          },
          "execution_count": 39
        }
      ]
    },
    {
      "cell_type": "markdown",
      "metadata": {
        "id": "1TwRBmH_0mbg",
        "colab_type": "text"
      },
      "source": [
        "## Theorem 2\n",
        "\n",
        "Here's Theorem 1 again:\n",
        "\n",
        "$P(A|B) = \\frac{P(A~\\mathrm{and}~B)}{P(B)}$ \n",
        "\n",
        "If we multiply both sides by $P(B)$, we get Theorem 2.\n",
        "\n",
        "$P(A~\\mathrm{and}~B) = P(B) P(A|B)$\n",
        "\n",
        "This formula suggests a second way to compute a conjunction: instead of using the `&` operator, we can compute the product of two probabilities.\n",
        "\n",
        "Let's see if it works for `conservative` and `republican`.  Here's the result using `&`:"
      ]
    },
    {
      "cell_type": "code",
      "metadata": {
        "id": "TRfqY6pD0mbh",
        "colab_type": "code",
        "outputId": "87ddc8c0-9f16-4b2b-d369-13e4ec33cfe2",
        "colab": {
          "base_uri": "https://localhost:8080/",
          "height": 34
        }
      },
      "source": [
        "prob(conservative & republican)"
      ],
      "execution_count": 0,
      "outputs": [
        {
          "output_type": "execute_result",
          "data": {
            "text/plain": [
              "0.15396632176912153"
            ]
          },
          "metadata": {
            "tags": []
          },
          "execution_count": 40
        }
      ]
    },
    {
      "cell_type": "markdown",
      "metadata": {
        "id": "J76NnPA70mbs",
        "colab_type": "text"
      },
      "source": [
        "And here's the result using Theorem 2:"
      ]
    },
    {
      "cell_type": "code",
      "metadata": {
        "id": "9W07SG170mbt",
        "colab_type": "code",
        "outputId": "d3228a40-8142-4b3b-911a-67bf268c44b8",
        "colab": {
          "base_uri": "https://localhost:8080/",
          "height": 34
        }
      },
      "source": [
        "prob(republican) * conditional(conservative, republican)"
      ],
      "execution_count": 0,
      "outputs": [
        {
          "output_type": "execute_result",
          "data": {
            "text/plain": [
              "0.1539663217691215"
            ]
          },
          "metadata": {
            "tags": []
          },
          "execution_count": 41
        }
      ]
    },
    {
      "cell_type": "markdown",
      "metadata": {
        "id": "qJb7MDoY0mbz",
        "colab_type": "text"
      },
      "source": [
        "Because of floating-point errors, they might not be identical, but almost all of the digits are the same."
      ]
    },
    {
      "cell_type": "markdown",
      "metadata": {
        "id": "6kNHnAkV0mb1",
        "colab_type": "text"
      },
      "source": [
        "**Exercise:** Check Theorem 2 one more time by computing the fraction of respondents who are old liberals both ways:\n",
        "\n",
        "* Using the `&` operator, and\n",
        "\n",
        "* Using Theorem 2.\n",
        "\n",
        "The results should be the same, or at least very close."
      ]
    },
    {
      "cell_type": "code",
      "metadata": {
        "id": "O_ttB1Oq0mb2",
        "colab_type": "code",
        "outputId": "a6e36c45-ac4c-44e9-bc5f-8a2e482b5804",
        "colab": {
          "base_uri": "https://localhost:8080/",
          "height": 34
        }
      },
      "source": [
        "# Solution goes here\n",
        "prob(old & liberal)"
      ],
      "execution_count": 0,
      "outputs": [
        {
          "output_type": "execute_result",
          "data": {
            "text/plain": [
              "0.03653885169405559"
            ]
          },
          "metadata": {
            "tags": []
          },
          "execution_count": 42
        }
      ]
    },
    {
      "cell_type": "code",
      "metadata": {
        "id": "wKtoXem_0mb8",
        "colab_type": "code",
        "outputId": "a2b77d7d-0d3e-4d24-b67f-f0d252baf768",
        "colab": {
          "base_uri": "https://localhost:8080/",
          "height": 34
        }
      },
      "source": [
        "# Solution goes here\n",
        "prob(liberal) * conditional(old, liberal)"
      ],
      "execution_count": 0,
      "outputs": [
        {
          "output_type": "execute_result",
          "data": {
            "text/plain": [
              "0.03653885169405559"
            ]
          },
          "metadata": {
            "tags": []
          },
          "execution_count": 43
        }
      ]
    },
    {
      "cell_type": "markdown",
      "metadata": {
        "id": "gXiY_wFx0mcH",
        "colab_type": "text"
      },
      "source": [
        "## Conjunction is commutative\n",
        "\n",
        "We have already established that conjunction is commutative.  In math notation, that means:\n",
        "\n",
        "$P(A~\\mathrm{and}~B) = P(B~\\mathrm{and}~A)$\n",
        "\n",
        "If we apply Theorem 2 to both sides, we have\n",
        "\n",
        "$P(B) P(A|B) = P(A) P(B|A)$\n",
        "\n",
        "Here's one way to interpret that: if you want to check $A$ and $B$, you can do it in either order:\n",
        "\n",
        "1. You can check $B$ first, then $A$ conditioned on $B$, or\n",
        "\n",
        "2. You can check $A$ first, then $B$ conditioned on $A$.\n",
        "\n",
        "To try it out, I'll compute the fraction of young builders both ways:"
      ]
    },
    {
      "cell_type": "code",
      "metadata": {
        "id": "yIHmLoLp0mcI",
        "colab_type": "code",
        "outputId": "e2061b20-aa8c-4714-e0ab-dd5317e3f083",
        "colab": {
          "base_uri": "https://localhost:8080/",
          "height": 34
        }
      },
      "source": [
        "prob(young) * conditional(builder, young)"
      ],
      "execution_count": 0,
      "outputs": [
        {
          "output_type": "execute_result",
          "data": {
            "text/plain": [
              "0.012314871170622844"
            ]
          },
          "metadata": {
            "tags": []
          },
          "execution_count": 44
        }
      ]
    },
    {
      "cell_type": "code",
      "metadata": {
        "id": "gBQFmD8c0mcP",
        "colab_type": "code",
        "outputId": "2bc35e3f-9130-48b5-a9ac-dd696090c1e9",
        "colab": {
          "base_uri": "https://localhost:8080/",
          "height": 34
        }
      },
      "source": [
        "prob(builder) * conditional(young, builder)"
      ],
      "execution_count": 0,
      "outputs": [
        {
          "output_type": "execute_result",
          "data": {
            "text/plain": [
              "0.012314871170622844"
            ]
          },
          "metadata": {
            "tags": []
          },
          "execution_count": 45
        }
      ]
    },
    {
      "cell_type": "markdown",
      "metadata": {
        "id": "vVmBA1Mx0mcX",
        "colab_type": "text"
      },
      "source": [
        "Same thing!"
      ]
    },
    {
      "cell_type": "markdown",
      "metadata": {
        "id": "7Gf4CvQi0mcY",
        "colab_type": "text"
      },
      "source": [
        "**Exercise:** Compute the probability of being a male banker both ways and see if you get the same thing."
      ]
    },
    {
      "cell_type": "code",
      "metadata": {
        "id": "IZYwXctu0mca",
        "colab_type": "code",
        "outputId": "1df39f8d-5d14-4729-d9b7-641689be387e",
        "colab": {
          "base_uri": "https://localhost:8080/",
          "height": 34
        }
      },
      "source": [
        "# Solution goes here\n",
        "prob(male) * conditional(banker, male)"
      ],
      "execution_count": 0,
      "outputs": [
        {
          "output_type": "execute_result",
          "data": {
            "text/plain": [
              "0.003388111178738081"
            ]
          },
          "metadata": {
            "tags": []
          },
          "execution_count": 46
        }
      ]
    },
    {
      "cell_type": "code",
      "metadata": {
        "id": "08-LlPPW0mcg",
        "colab_type": "code",
        "outputId": "a57ff346-b29d-4566-d1f4-5d49b1dfdead",
        "colab": {
          "base_uri": "https://localhost:8080/",
          "height": 34
        }
      },
      "source": [
        "# Solution goes here\n",
        "prob(banker) * conditional(male, banker)"
      ],
      "execution_count": 0,
      "outputs": [
        {
          "output_type": "execute_result",
          "data": {
            "text/plain": [
              "0.003388111178738081"
            ]
          },
          "metadata": {
            "tags": []
          },
          "execution_count": 47
        }
      ]
    },
    {
      "cell_type": "markdown",
      "metadata": {
        "id": "FFQgBK9C0mcm",
        "colab_type": "text"
      },
      "source": [
        "## Theorem 3\n",
        "\n",
        "In the previous section we established that \n",
        "\n",
        "$P(B) P(A|B) = P(A) P(B|A)$\n",
        "\n",
        "If we divide through by $P(B)$, we get Theorem 3:\n",
        "\n",
        "$P(A|B) = \\frac{P(A) P(B|A)}{P(B)}$\n",
        "\n",
        "And that, my friends, is Bayes's Theorem.\n",
        "\n",
        "To see how it works, let's try one more combination of our propositions.  Let's compute the fraction of builders who are liberal, first using `conditional`:"
      ]
    },
    {
      "cell_type": "code",
      "metadata": {
        "id": "GgrLIKtN0mcn",
        "colab_type": "code",
        "outputId": "a8acb91f-d786-4d27-d424-432a3cd49b18",
        "colab": {
          "base_uri": "https://localhost:8080/",
          "height": 34
        }
      },
      "source": [
        "conditional(liberal, builder)"
      ],
      "execution_count": 0,
      "outputs": [
        {
          "output_type": "execute_result",
          "data": {
            "text/plain": [
              "0.24431625381744146"
            ]
          },
          "metadata": {
            "tags": []
          },
          "execution_count": 48
        }
      ]
    },
    {
      "cell_type": "markdown",
      "metadata": {
        "id": "PXHhQrKr0mcs",
        "colab_type": "text"
      },
      "source": [
        "Now using Bayes's Theorem:"
      ]
    },
    {
      "cell_type": "code",
      "metadata": {
        "id": "8VCK6YCA0mcs",
        "colab_type": "code",
        "outputId": "13022fbf-6702-4f5e-a2e4-3a623f0a8480",
        "colab": {
          "base_uri": "https://localhost:8080/",
          "height": 34
        }
      },
      "source": [
        "prob(liberal) * conditional(builder, liberal) / prob(builder)"
      ],
      "execution_count": 0,
      "outputs": [
        {
          "output_type": "execute_result",
          "data": {
            "text/plain": [
              "0.24431625381744151"
            ]
          },
          "metadata": {
            "tags": []
          },
          "execution_count": 49
        }
      ]
    },
    {
      "cell_type": "markdown",
      "metadata": {
        "id": "vd0hScjw0mcw",
        "colab_type": "text"
      },
      "source": [
        "Same thing!"
      ]
    },
    {
      "cell_type": "markdown",
      "metadata": {
        "id": "xtpSbINv0mcx",
        "colab_type": "text"
      },
      "source": [
        "**Exercise:** Try it yourself!  Compute the fraction of young people who are Republican both ways: using `conditional` and using Bayes's Theorem.  See if you get the same thing."
      ]
    },
    {
      "cell_type": "code",
      "metadata": {
        "id": "fvVIM6Se0mcx",
        "colab_type": "code",
        "outputId": "90872bd2-1265-4674-9be9-ade892858db8",
        "colab": {
          "base_uri": "https://localhost:8080/",
          "height": 34
        }
      },
      "source": [
        "conditional(republican, young)"
      ],
      "execution_count": 0,
      "outputs": [
        {
          "output_type": "execute_result",
          "data": {
            "text/plain": [
              "0.23319415448851774"
            ]
          },
          "metadata": {
            "tags": []
          },
          "execution_count": 50
        }
      ]
    },
    {
      "cell_type": "code",
      "metadata": {
        "id": "L5J-w4zW0mc5",
        "colab_type": "code",
        "outputId": "d14edab0-a625-4b04-fcb1-2d0c8dc11afd",
        "colab": {
          "base_uri": "https://localhost:8080/",
          "height": 34
        }
      },
      "source": [
        "prob(republican) * conditional(young, republican) / prob(young)"
      ],
      "execution_count": 0,
      "outputs": [
        {
          "output_type": "execute_result",
          "data": {
            "text/plain": [
              "0.2331941544885177"
            ]
          },
          "metadata": {
            "tags": []
          },
          "execution_count": 51
        }
      ]
    },
    {
      "cell_type": "markdown",
      "metadata": {
        "id": "FBPRDy2Y0mc_",
        "colab_type": "text"
      },
      "source": [
        "## Summary\n",
        "\n",
        "Here's what we have so far:\n",
        "\n",
        "**Theorem 1** gives us a new way to compute a conditional probability using a conjunction:\n",
        "\n",
        "$P(A|B) = \\frac{P(A~\\mathrm{and}~B)}{P(B)}$ \n",
        "\n",
        "**Theorem 2** gives us a new way to compute a conjunction using a conditional probability:\n",
        "\n",
        "$P(A~\\mathrm{and}~B) = P(B) P(A|B)$\n",
        "\n",
        "**Theorem 3**, also known as Bayes's Theorem, gives us a way to get from $P(A|B)$ to $P(B|A)$, or the other way around:\n",
        "\n",
        "$P(A|B) = \\frac{P(A) P(B|A)}{P(B)}$\n",
        "\n",
        "But at this point you might ask, \"So what?\"  If we have all of the data, we can compute any probability we want, any conjunction, or any conditional probability, just by counting.  Why do we need these formulas?\n",
        "\n",
        "And you are right, *if* we have all of the data.  But often we don't, and in that case, these formulas can be pretty useful -- especially Bayes's Theorem.\n",
        "\n",
        "In the next notebook, we'll see how."
      ]
    },
    {
      "cell_type": "code",
      "metadata": {
        "id": "H5QM-Bjk0mdE",
        "colab_type": "code",
        "colab": {}
      },
      "source": [
        ""
      ],
      "execution_count": 0,
      "outputs": []
    }
  ]
}