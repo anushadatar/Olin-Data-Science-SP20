{
  "nbformat": 4,
  "nbformat_minor": 0,
  "metadata": {
    "kernelspec": {
      "display_name": "Python 3",
      "language": "python",
      "name": "python3"
    },
    "language_info": {
      "codemirror_mode": {
        "name": "ipython",
        "version": 3
      },
      "file_extension": ".py",
      "mimetype": "text/x-python",
      "name": "python",
      "nbconvert_exporter": "python",
      "pygments_lexer": "ipython3",
      "version": "3.7.6"
    },
    "colab": {
      "name": "09_predict.ipynb",
      "provenance": [],
      "collapsed_sections": [],
      "include_colab_link": true
    }
  },
  "cells": [
    {
      "cell_type": "markdown",
      "metadata": {
        "id": "view-in-github",
        "colab_type": "text"
      },
      "source": [
        "<a href=\"https://colab.research.google.com/github/anushadatar/Olin-Data-Science-SP20/blob/master/09_predict.ipynb\" target=\"_parent\"><img src=\"https://colab.research.google.com/assets/colab-badge.svg\" alt=\"Open In Colab\"/></a>"
      ]
    },
    {
      "cell_type": "markdown",
      "metadata": {
        "id": "uWcI0xl6VEe5",
        "colab_type": "text"
      },
      "source": [
        "# Bite Size Bayes\n",
        "\n",
        "Copyright 2020 Allen B. Downey\n",
        "\n",
        "License: [Attribution-NonCommercial-ShareAlike 4.0 International (CC BY-NC-SA 4.0)](https://creativecommons.org/licenses/by-nc-sa/4.0/)"
      ]
    },
    {
      "cell_type": "code",
      "metadata": {
        "id": "qjcSrs78VEe6",
        "colab_type": "code",
        "colab": {}
      },
      "source": [
        "import numpy as np\n",
        "import pandas as pd\n",
        "import matplotlib.pyplot as plt"
      ],
      "execution_count": 0,
      "outputs": []
    },
    {
      "cell_type": "markdown",
      "metadata": {
        "id": "bGMQ7mxqVEe9",
        "colab_type": "text"
      },
      "source": [
        "## Review\n",
        "\n",
        "[In the previous notebook](https://colab.research.google.com/github/AllenDowney/BiteSizeBayes/blob/master/08_soccer.ipynb) I introduced the World Cup problem:\n",
        "\n",
        ">In the 2018 FIFA World Cup final, France defeated Croatia 4 goals to 2.  Based on this outcome:\n",
        ">\n",
        ">1. How confident should we be that France is the better team?\n",
        ">\n",
        ">2. If the same teams played again, what is the chance Croatia would win?\n",
        "\n",
        "I started with the assumption that for any team against any other team there is some unknown goal-scoring rate, λ.\n",
        "\n",
        "And I showed that if we know λ, we can compute the probability of scoring $k$ goals in a game:\n",
        "\n",
        "$f(k; λ) = λ^k \\exp(-λ) ~/~ k!$\n",
        "\n",
        "This function is the [Poisson distribution](https://en.wikipedia.org/wiki/Poisson_distribution), and we can use SciPy to compute it.\n",
        "\n",
        "For example, if we know that λ is 1.4, we can compute the distribution of $k$ like this:\n"
      ]
    },
    {
      "cell_type": "code",
      "metadata": {
        "id": "I_an3YFnVEe-",
        "colab_type": "code",
        "outputId": "5dd2525c-1a24-4772-bf09-cab4469437e6",
        "colab": {
          "base_uri": "https://localhost:8080/",
          "height": 230
        }
      },
      "source": [
        "from scipy.stats import poisson\n",
        "\n",
        "λ = 1.4\n",
        "xs = np.arange(11)\n",
        "ys = poisson.pmf(xs, λ)\n",
        "pmf_goals = pd.Series(ys, index=xs)\n",
        "\n",
        "pmf_goals"
      ],
      "execution_count": 0,
      "outputs": [
        {
          "output_type": "execute_result",
          "data": {
            "text/plain": [
              "0     0.246597\n",
              "1     0.345236\n",
              "2     0.241665\n",
              "3     0.112777\n",
              "4     0.039472\n",
              "5     0.011052\n",
              "6     0.002579\n",
              "7     0.000516\n",
              "8     0.000090\n",
              "9     0.000014\n",
              "10    0.000002\n",
              "dtype: float64"
            ]
          },
          "metadata": {
            "tags": []
          },
          "execution_count": 3
        }
      ]
    },
    {
      "cell_type": "markdown",
      "metadata": {
        "id": "wId85LU1VEfA",
        "colab_type": "text"
      },
      "source": [
        "In theory, the values of $k$ go to infinity, but I cut it off at 10 because higher values have very low probability.\n",
        "\n",
        "Here's what the distribution of $k$ looks like:"
      ]
    },
    {
      "cell_type": "code",
      "metadata": {
        "id": "lUZ8f_E4VEfB",
        "colab_type": "code",
        "outputId": "53bd400e-ba57-4ce7-f7fb-3e7849af8f5f",
        "colab": {
          "base_uri": "https://localhost:8080/",
          "height": 297
        }
      },
      "source": [
        "pmf_goals.plot.bar(color='C0', alpha=0.5, label='Poisson distribution')\n",
        "\n",
        "plt.xlabel('Number of goals')\n",
        "plt.ylabel('Probability')\n",
        "plt.title('Distribution of goals scored')\n",
        "plt.legend();"
      ],
      "execution_count": 0,
      "outputs": [
        {
          "output_type": "display_data",
          "data": {
            "image/png": "[encoded data removed]",
            "text/plain": [
              "<Figure size 432x288 with 1 Axes>"
            ]
          },
          "metadata": {
            "tags": [],
            "needs_background": "light"
          }
        }
      ]
    },
    {
      "cell_type": "markdown",
      "metadata": {
        "id": "fbywHpL3VEfF",
        "colab_type": "text"
      },
      "source": [
        "Because the values of $k$ are discrete integers, I use a bar chart to plot the distribution.\n",
        "\n",
        "Next I used a gamma distributon to represent the prior distribution of λ.  I set the parameter of the gamma distribution, α, to 1.4, which is the average number of goals each team scores in World Cup play.\n",
        "\n",
        "I broke the range of values for λ into 101 discrete possibilities and used SciPy to compute the prior probabilities:"
      ]
    },
    {
      "cell_type": "code",
      "metadata": {
        "id": "AAXF1bSeVEfG",
        "colab_type": "code",
        "colab": {}
      },
      "source": [
        "from scipy.stats import gamma\n",
        "\n",
        "α = 1.4\n",
        "qs = np.linspace(0, 10, 101)\n",
        "ps = gamma.pdf(qs, α)\n",
        "\n",
        "prior = pd.Series(ps, index=qs)\n",
        "prior /= prior.sum()"
      ],
      "execution_count": 0,
      "outputs": []
    },
    {
      "cell_type": "markdown",
      "metadata": {
        "id": "gE6GkFeJVEfJ",
        "colab_type": "text"
      },
      "source": [
        "Here's what the prior distribution looks like:"
      ]
    },
    {
      "cell_type": "code",
      "metadata": {
        "id": "RrSZq-msVEfK",
        "colab_type": "code",
        "outputId": "ec642bb1-1c7e-43b7-c415-e5317b94dff0",
        "colab": {
          "base_uri": "https://localhost:8080/",
          "height": 294
        }
      },
      "source": [
        "prior.plot(label='prior', color='gray')\n",
        "\n",
        "plt.xlabel('Goal scoring rate')\n",
        "plt.ylabel('Probability')\n",
        "plt.title('Prior distribution')\n",
        "plt.legend();"
      ],
      "execution_count": 0,
      "outputs": [
        {
          "output_type": "display_data",
          "data": {
            "image/png": "[encoded data removed]",
            "text/plain": [
              "<Figure size 432x288 with 1 Axes>"
            ]
          },
          "metadata": {
            "tags": [],
            "needs_background": "light"
          }
        }
      ]
    },
    {
      "cell_type": "markdown",
      "metadata": {
        "id": "SBFnj-vcVEfN",
        "colab_type": "text"
      },
      "source": [
        "Because the values of $λ$ are continuous, I use a line to plot the distribution.\n",
        "\n",
        "Next we did a Bayesian update, using the Poisson distribution to compute the likelihood of the data, $k$, for each possible goal scoring rate, $λ$\n",
        "\n",
        "$ f(k; λ) = λ^k \\exp(-λ) ~/~ k! $\n",
        "\n",
        "Since France scored 4 goals, the likelihood of the data is:"
      ]
    },
    {
      "cell_type": "code",
      "metadata": {
        "id": "A2TqzWmLVEfO",
        "colab_type": "code",
        "colab": {}
      },
      "source": [
        "λs = prior.index\n",
        "k = 4\n",
        "likelihood = poisson.pmf(k, λs)"
      ],
      "execution_count": 0,
      "outputs": []
    },
    {
      "cell_type": "markdown",
      "metadata": {
        "id": "6eR1A7W4VEfR",
        "colab_type": "text"
      },
      "source": [
        "And we can use the following function to do the update:"
      ]
    },
    {
      "cell_type": "code",
      "metadata": {
        "id": "et9iVZSxVEfS",
        "colab_type": "code",
        "colab": {}
      },
      "source": [
        "def bayes_update(pmf, likelihood):\n",
        "    \"\"\"Do a Bayesian update.\n",
        "    \n",
        "    pmf: Series that represents the prior\n",
        "    likelihood: sequence of likelihoods\n",
        "    \n",
        "    returns: float probability of the data\n",
        "    \"\"\"\n",
        "    pmf *= likelihood\n",
        "    prob_data = pmf.sum()\n",
        "    pmf /= prob_data\n",
        "    return prob_data"
      ],
      "execution_count": 0,
      "outputs": []
    },
    {
      "cell_type": "code",
      "metadata": {
        "id": "9_-w8kvCVEfW",
        "colab_type": "code",
        "outputId": "e7e83da5-8dda-4b7f-d294-a04b53e27628",
        "colab": {
          "base_uri": "https://localhost:8080/",
          "height": 34
        }
      },
      "source": [
        "france = prior.copy()\n",
        "bayes_update(france, likelihood)"
      ],
      "execution_count": 0,
      "outputs": [
        {
          "output_type": "execute_result",
          "data": {
            "text/plain": [
              "0.05015532557804499"
            ]
          },
          "metadata": {
            "tags": []
          },
          "execution_count": 9
        }
      ]
    },
    {
      "cell_type": "markdown",
      "metadata": {
        "id": "cvDnBbwnVEfZ",
        "colab_type": "text"
      },
      "source": [
        "And we can do the same thing for Croatia, given that they scored 2 goals:"
      ]
    },
    {
      "cell_type": "code",
      "metadata": {
        "id": "saNGCdkSVEfa",
        "colab_type": "code",
        "outputId": "67763cb9-7b52-487f-cbbf-bcad4da6405b",
        "colab": {
          "base_uri": "https://localhost:8080/",
          "height": 34
        }
      },
      "source": [
        "k = 2\n",
        "λs = prior.index\n",
        "likelihood = poisson.pmf(k, λs)\n",
        "\n",
        "croatia = prior.copy()\n",
        "bayes_update(croatia, likelihood)"
      ],
      "execution_count": 0,
      "outputs": [
        {
          "output_type": "execute_result",
          "data": {
            "text/plain": [
              "0.1609321178598705"
            ]
          },
          "metadata": {
            "tags": []
          },
          "execution_count": 10
        }
      ]
    },
    {
      "cell_type": "markdown",
      "metadata": {
        "id": "54RV447AVEfd",
        "colab_type": "text"
      },
      "source": [
        "Here's what the results look like."
      ]
    },
    {
      "cell_type": "code",
      "metadata": {
        "id": "R0WvkZWiVEfe",
        "colab_type": "code",
        "outputId": "0a64455e-ebf6-482b-cb94-247d25781b3f",
        "colab": {
          "base_uri": "https://localhost:8080/",
          "height": 294
        }
      },
      "source": [
        "prior.plot(label='prior', color='gray')\n",
        "france.plot(label='France', color='C0')\n",
        "croatia.plot(label='Croatia', color='C3')\n",
        "\n",
        "plt.xlabel('Goal scoring rate')\n",
        "plt.ylabel('Probability')\n",
        "plt.title('Posterior distributions for France and Croatia')\n",
        "plt.legend();"
      ],
      "execution_count": 0,
      "outputs": [
        {
          "output_type": "display_data",
          "data": {
            "image/png": "[encoded data removed]",
            "text/plain": [
              "<Figure size 432x288 with 1 Axes>"
            ]
          },
          "metadata": {
            "tags": [],
            "needs_background": "light"
          }
        }
      ]
    },
    {
      "cell_type": "markdown",
      "metadata": {
        "id": "BkPUaIIBVEfj",
        "colab_type": "text"
      },
      "source": [
        "In the previous notebook we used the following function to compute the mean of a PMF."
      ]
    },
    {
      "cell_type": "code",
      "metadata": {
        "id": "sryP0y5-VEfk",
        "colab_type": "code",
        "colab": {}
      },
      "source": [
        "def pmf_mean(pmf):\n",
        "    \"\"\"Compute the mean of a PMF.\n",
        "    \n",
        "    pmf: Series representing a PMF\n",
        "    \n",
        "    return: float\n",
        "    \"\"\"\n",
        "    return np.sum(pmf.index * pmf)"
      ],
      "execution_count": 0,
      "outputs": []
    },
    {
      "cell_type": "markdown",
      "metadata": {
        "id": "6gFqKJ_RVEfo",
        "colab_type": "text"
      },
      "source": [
        "We can use it to compute the posterior means for France and Croatia."
      ]
    },
    {
      "cell_type": "code",
      "metadata": {
        "id": "BddU5grSVEfo",
        "colab_type": "code",
        "outputId": "7595df5c-9040-4e98-96a4-83b562387611",
        "colab": {
          "base_uri": "https://localhost:8080/",
          "height": 34
        }
      },
      "source": [
        "pmf_mean(france), pmf_mean(croatia)"
      ],
      "execution_count": 0,
      "outputs": [
        {
          "output_type": "execute_result",
          "data": {
            "text/plain": [
              "(2.699772393342308, 1.6999765866755225)"
            ]
          },
          "metadata": {
            "tags": []
          },
          "execution_count": 14
        }
      ]
    },
    {
      "cell_type": "markdown",
      "metadata": {
        "id": "_SttlUO_VEfr",
        "colab_type": "text"
      },
      "source": [
        "Based on the outcome of the game, we have some reason to think France is the better team.\n",
        "\n",
        "But if we look at the posterior distribution of λ for France and Croatia, there is still a lot of overlap, which means we are still not certain which is the better team.\n",
        "\n",
        "In the next section, we'll use the posterior distributions to compute the \"probability of superiority\"."
      ]
    },
    {
      "cell_type": "markdown",
      "metadata": {
        "id": "7tKuvAE2VEfs",
        "colab_type": "text"
      },
      "source": [
        "### Probability of superiority\n",
        "\n",
        "Now that we have a posterior distribution for each team, we can answer the first question: How confident should we be that France is the better team?\n",
        "\n",
        "In the model, \"better\" means having a higher goal-scoring rate against the opponent.  We can use the posterior distributions to compute the probability that a random value drawn from France's distribution exceeds a value drawn from Croatia's.\n",
        "\n",
        "The following function takes a Series that represents a PMF and draws a sample from it."
      ]
    },
    {
      "cell_type": "code",
      "metadata": {
        "id": "sGud4dNIVEfs",
        "colab_type": "code",
        "colab": {}
      },
      "source": [
        "def pmf_choice(pmf, n):\n",
        "    \"\"\"Draw a random sample from a PMF.\n",
        "    \n",
        "    pmf: Series representing a PMF\n",
        "    n: number of values to draw\n",
        "    \n",
        "    returns: NumPy array\n",
        "    \"\"\"\n",
        "    return np.random.choice(pmf.index,\n",
        "                            size=n, \n",
        "                            replace=True, \n",
        "                            p=pmf)"
      ],
      "execution_count": 0,
      "outputs": []
    },
    {
      "cell_type": "markdown",
      "metadata": {
        "id": "9PDMMw4_VEfv",
        "colab_type": "text"
      },
      "source": [
        "`pmf_choice` uses `np.random.choice`, which chooses `n` values from the PMF with replacement, so the same value can appear more than once.  It uses the probabilities from the PMF as weights, so the number of times each value appears is proportional to its probability.\n",
        "\n",
        "Here's a sample from the posterior distribution for France."
      ]
    },
    {
      "cell_type": "code",
      "metadata": {
        "id": "9hiC2CHdVEfv",
        "colab_type": "code",
        "outputId": "9a72ccff-f8c4-4ab8-c730-c0412128521a",
        "colab": {
          "base_uri": "https://localhost:8080/",
          "height": 35
        }
      },
      "source": [
        "sample_france = pmf_choice(france, 1000)\n",
        "sample_france.mean()"
      ],
      "execution_count": 0,
      "outputs": [
        {
          "output_type": "execute_result",
          "data": {
            "text/plain": [
              "2.6449000000000003"
            ]
          },
          "metadata": {
            "tags": []
          },
          "execution_count": 16
        }
      ]
    },
    {
      "cell_type": "markdown",
      "metadata": {
        "id": "FEQ8UQMVVEfy",
        "colab_type": "text"
      },
      "source": [
        "And here's a sample for Croatia."
      ]
    },
    {
      "cell_type": "code",
      "metadata": {
        "id": "doCXOxj8VEfy",
        "colab_type": "code",
        "outputId": "98a7a956-9535-4d98-aaa6-d00baad9b4a7",
        "colab": {
          "base_uri": "https://localhost:8080/",
          "height": 34
        }
      },
      "source": [
        "sample_croatia = pmf_choice(croatia, 1000)\n",
        "sample_croatia.mean()"
      ],
      "execution_count": 0,
      "outputs": [
        {
          "output_type": "execute_result",
          "data": {
            "text/plain": [
              "1.6658"
            ]
          },
          "metadata": {
            "tags": []
          },
          "execution_count": 17
        }
      ]
    },
    {
      "cell_type": "markdown",
      "metadata": {
        "id": "5ieCRibOVEf2",
        "colab_type": "text"
      },
      "source": [
        "To estimate the probability of superiority, we can count the number of times the value from France's distribution exceeds the value from Croatia's distribution."
      ]
    },
    {
      "cell_type": "code",
      "metadata": {
        "id": "hYj55Ml6VEf3",
        "colab_type": "code",
        "outputId": "e4a9eb6c-a99a-4cec-9802-28e2ea291f75",
        "colab": {
          "base_uri": "https://localhost:8080/",
          "height": 34
        }
      },
      "source": [
        "np.mean(sample_france > sample_croatia)"
      ],
      "execution_count": 0,
      "outputs": [
        {
          "output_type": "execute_result",
          "data": {
            "text/plain": [
              "0.761"
            ]
          },
          "metadata": {
            "tags": []
          },
          "execution_count": 18
        }
      ]
    },
    {
      "cell_type": "markdown",
      "metadata": {
        "id": "128WtcK0VEf5",
        "colab_type": "text"
      },
      "source": [
        "On the basis of one game, we have moderate confidence that France is actually the better team."
      ]
    },
    {
      "cell_type": "markdown",
      "metadata": {
        "id": "uZDBMOKyVEf6",
        "colab_type": "text"
      },
      "source": [
        "### Predicting the rematch\n",
        "\n",
        "Now we can take on the second question: If the same teams played again, what is the chance Croatia would win?\n",
        "\n",
        "To answer this question, we'll generate a sample from the \"posterior predictive distribution\", which is the number of goals we expect a team to score.\n",
        "\n",
        "If we knew the goal scoring rate, λ, the distribution of goals would be a Poisson distributon with parameter λ.\n",
        "\n",
        "Since we don't know λ, we can use the sample we generated in the previous section to generate a sample of goals, like this:"
      ]
    },
    {
      "cell_type": "code",
      "metadata": {
        "id": "lxL8B5asVEf6",
        "colab_type": "code",
        "colab": {}
      },
      "source": [
        "goals_france = np.random.poisson(sample_france)"
      ],
      "execution_count": 0,
      "outputs": []
    },
    {
      "cell_type": "markdown",
      "metadata": {
        "id": "8xcsUg3oVEf8",
        "colab_type": "text"
      },
      "source": [
        "`np.random.poisson` uses each element of `sample_france` to generate a random value; that is, each value in the result is based on a different value of λ.\n",
        "\n",
        "To see what the resulting distribution looks like, we'll use this function from a previous notebook:"
      ]
    },
    {
      "cell_type": "code",
      "metadata": {
        "id": "Afx-HRQrVEf9",
        "colab_type": "code",
        "colab": {}
      },
      "source": [
        "def pmf_from_seq(seq):\n",
        "    \"\"\"Make a PMF from a sequence of values.\n",
        "    \n",
        "    seq: sequence\n",
        "    \n",
        "    returns: Series representing a PMF\n",
        "    \"\"\"\n",
        "    pmf = pd.Series(seq).value_counts(sort=False).sort_index()\n",
        "    pmf /= pmf.sum()\n",
        "    return pmf"
      ],
      "execution_count": 0,
      "outputs": []
    },
    {
      "cell_type": "code",
      "metadata": {
        "id": "q6ZFH2ohVEf-",
        "colab_type": "code",
        "outputId": "8ccd87ef-c5c4-4be2-91f5-d38ab18235cf",
        "colab": {
          "base_uri": "https://localhost:8080/",
          "height": 315
        }
      },
      "source": [
        "pmf_france = pmf_from_seq(goals_france)\n",
        "pmf_france.plot.bar(color='C0', label='France')\n",
        "\n",
        "plt.xlabel('Goals scored')\n",
        "plt.ylabel('Probability')\n",
        "plt.title('Predictive distribution')\n",
        "plt.legend()\n",
        "\n",
        "goals_france.mean()"
      ],
      "execution_count": 0,
      "outputs": [
        {
          "output_type": "execute_result",
          "data": {
            "text/plain": [
              "2.695"
            ]
          },
          "metadata": {
            "tags": []
          },
          "execution_count": 21
        },
        {
          "output_type": "display_data",
          "data": {
            "image/png": "[encoded data removed]",
            "text/plain": [
              "<Figure size 432x288 with 1 Axes>"
            ]
          },
          "metadata": {
            "tags": [],
            "needs_background": "light"
          }
        }
      ]
    },
    {
      "cell_type": "markdown",
      "metadata": {
        "id": "uzXo-fW_VEgA",
        "colab_type": "text"
      },
      "source": [
        "This distribution represents two sources of uncertainty: we don't know the actual value of λ, and even if we did, we would not know the number of goals in the next game."
      ]
    },
    {
      "cell_type": "markdown",
      "metadata": {
        "id": "rQi6-K71VEgB",
        "colab_type": "text"
      },
      "source": [
        "**Exercise:** Generate and plot the predictive distribution for Croatia."
      ]
    },
    {
      "cell_type": "code",
      "metadata": {
        "scrolled": true,
        "id": "Z0fviNwSVEgB",
        "colab_type": "code",
        "outputId": "031c569b-b087-4984-8dc2-a1ac22a81a1e",
        "colab": {
          "base_uri": "https://localhost:8080/",
          "height": 315
        }
      },
      "source": [
        "# Solution goes here\n",
        "croatia_goals = np.random.poisson(sample_croatia)\n",
        "croatia_pmf = pmf_from_seq(croatia_goals)\n",
        "croatia_pmf.plot.bar(color='C0', label='Croatia')\n",
        "\n",
        "plt.xlabel('Goals scored')\n",
        "plt.ylabel('Probability')\n",
        "plt.title('Predictive distribution')\n",
        "plt.legend()"
      ],
      "execution_count": 0,
      "outputs": [
        {
          "output_type": "execute_result",
          "data": {
            "text/plain": [
              "<matplotlib.legend.Legend at 0x7fb00fcc77b8>"
            ]
          },
          "metadata": {
            "tags": []
          },
          "execution_count": 22
        },
        {
          "output_type": "display_data",
          "data": {
            "image/png": "[encoded data removed]",
            "text/plain": [
              "<Figure size 432x288 with 1 Axes>"
            ]
          },
          "metadata": {
            "tags": [],
            "needs_background": "light"
          }
        }
      ]
    },
    {
      "cell_type": "markdown",
      "metadata": {
        "id": "pb24oszWVEgD",
        "colab_type": "text"
      },
      "source": [
        "In a sense, these distributions represent the outcomes of 1000 simulated games."
      ]
    },
    {
      "cell_type": "markdown",
      "metadata": {
        "id": "RJ8c3vW4VEgD",
        "colab_type": "text"
      },
      "source": [
        "**Exercise:** Compute the fraction of simulated rematches Croatia would win, how many France would win, and how many would end in a tie."
      ]
    },
    {
      "cell_type": "code",
      "metadata": {
        "id": "Dslxkj56VEgE",
        "colab_type": "code",
        "outputId": "6499a9cb-5f5a-493d-9059-615969b21277",
        "colab": {
          "base_uri": "https://localhost:8080/",
          "height": 34
        }
      },
      "source": [
        "# Solution goes here\n",
        "np.mean(croatia_goals > goals_france)\n"
      ],
      "execution_count": 0,
      "outputs": [
        {
          "output_type": "execute_result",
          "data": {
            "text/plain": [
              "0.232"
            ]
          },
          "metadata": {
            "tags": []
          },
          "execution_count": 23
        }
      ]
    },
    {
      "cell_type": "code",
      "metadata": {
        "id": "_iQ9q3rPVEgI",
        "colab_type": "code",
        "outputId": "646a05e3-ce5d-4b5c-cebc-03f520d8ddad",
        "colab": {
          "base_uri": "https://localhost:8080/",
          "height": 34
        }
      },
      "source": [
        "# Solution goes here\n",
        "np.mean(goals_france > croatia_goals)"
      ],
      "execution_count": 0,
      "outputs": [
        {
          "output_type": "execute_result",
          "data": {
            "text/plain": [
              "0.596"
            ]
          },
          "metadata": {
            "tags": []
          },
          "execution_count": 24
        }
      ]
    },
    {
      "cell_type": "code",
      "metadata": {
        "id": "ZpvIAuk5VEgK",
        "colab_type": "code",
        "outputId": "b1c0e159-8868-48dd-f6cc-8f0c0a417a5a",
        "colab": {
          "base_uri": "https://localhost:8080/",
          "height": 34
        }
      },
      "source": [
        "# Solution goes here\n",
        "np.mean(goals_france == croatia_goals)"
      ],
      "execution_count": 0,
      "outputs": [
        {
          "output_type": "execute_result",
          "data": {
            "text/plain": [
              "0.172"
            ]
          },
          "metadata": {
            "tags": []
          },
          "execution_count": 25
        }
      ]
    },
    {
      "cell_type": "markdown",
      "metadata": {
        "id": "m19CcJrTVEgM",
        "colab_type": "text"
      },
      "source": [
        "Assuming that Croatia wins half of the ties, their chance of winning the rematch is about 33%."
      ]
    },
    {
      "cell_type": "markdown",
      "metadata": {
        "id": "azBCeauzVEgM",
        "colab_type": "text"
      },
      "source": [
        "## Summary\n",
        "\n",
        "In this notebook, we finished off the World Cup problem:\n",
        "\n",
        "* We used posterior distributions to generate samples of goal-scoring rates.\n",
        "\n",
        "* We compared samples to compute a \"probability of superiority\".\n",
        "\n",
        "* We used samples and `np.random.poisson` to generate samples of goals score and to estimate their distributions.\n",
        "\n",
        "* We used those distributions to compute the probabilities of winning, losing, and tying in a rematch.\n",
        "\n",
        "The goal distributions we computed are called \"[posterior predictive distributions](https://en.wikipedia.org/wiki/Posterior_predictive_distribution)\" because they use posterior distribution to make predictions.\n",
        "\n",
        "[In the next notebook](https://colab.research.google.com/github/AllenDowney/BiteSizeBayes/blob/master/10_joint.ipynb) we'll take a break from Bayesian methods and learn about an important idea in probability: joint distributions.\n",
        "\n",
        "But first, here's an exercise where you can practice what you learned in this notebook."
      ]
    },
    {
      "cell_type": "markdown",
      "metadata": {
        "id": "fhPODyNmVEgN",
        "colab_type": "text"
      },
      "source": [
        "## Exercise\n",
        "\n",
        "**Exercise:** Here's a variation on the World Cup Problem:\n",
        "\n",
        ">In the 2014 FIFA World Cup, Germany played Brazil in a semifinal match. Germany scored after 11 minutes and again at the 23 minute mark. At that point in the match, how many goals would you expect Germany to score after 90 minutes? What was the probability that they would score 5 more goals (as, in fact, they did)?\n",
        "\n",
        "In this version, notice that the data is not the number of goals in a fixed period of time, but the time between goals.\n",
        "\n",
        "To compute the likelihood of data like this, we can take advantage of the theory of [Poisson processes](https://en.wikipedia.org/wiki/Poisson_point_process).  In our model of a soccer game, we assume that each team has a goal-scoring rate, λ, in goals per game.  And we assume that λ is constant, so the chance of scoring a goal in the same at any moment of the game."
      ]
    },
    {
      "cell_type": "markdown",
      "metadata": {
        "id": "tE1rIQPiVEgN",
        "colab_type": "text"
      },
      "source": [
        "Under these assumptions, the distribution of goals follows a Poisson distribution, as we've already seen.  Also, the time between goals follows an [exponential distribution](https://en.wikipedia.org/wiki/Exponential_distribution).\n",
        "\n",
        "If the goal-scoring rate is λ, the probability of seeing an interval between goals of $t$ is proportional to the PDF of the exponential distribution:\n",
        "\n",
        "$f(t; λ) = λ~\\exp(-λ t)$\n",
        "\n",
        "Because $t$ is a continuous quantity, the value of this expression is not really a probability; technically it is a [probability density](https://en.wikipedia.org/wiki/Probability_density_function).  However, it is proportional to the probability of the data, so we can use it as a likelihood in a Bayesian update.\n",
        "\n",
        "To see what the exponential distribution looks like, let's assume again that λ is 1.4; we can compute the distribution of $t$ like this:"
      ]
    },
    {
      "cell_type": "code",
      "metadata": {
        "id": "C0ZFSm4rVEgN",
        "colab_type": "code",
        "colab": {}
      },
      "source": [
        "def expo_pdf(t, λ):\n",
        "    \"\"\"Compute the PDF of the exponential distribution.\n",
        "    \n",
        "    t: time\n",
        "    λ: rate\n",
        "    \n",
        "    returns: probability density\n",
        "    \"\"\"\n",
        "    return λ * np.exp(-λ * t)"
      ],
      "execution_count": 0,
      "outputs": []
    },
    {
      "cell_type": "code",
      "metadata": {
        "id": "Ot2MkkquVEgP",
        "colab_type": "code",
        "colab": {}
      },
      "source": [
        "λ = 1.4\n",
        "ts = np.linspace(0, 4, 101)\n",
        "ys = expo_pdf(ts, λ)\n",
        "pmf_time = pd.Series(ys, index=ts)\n",
        "pmf_time /= pmf_time.sum()"
      ],
      "execution_count": 0,
      "outputs": []
    },
    {
      "cell_type": "code",
      "metadata": {
        "id": "JoONaIZ9VEgR",
        "colab_type": "code",
        "outputId": "262e9b3b-6bc3-442c-e370-5a8939bf495b",
        "colab": {
          "base_uri": "https://localhost:8080/",
          "height": 294
        }
      },
      "source": [
        "pmf_time.plot(label='λ = 1.4')\n",
        "\n",
        "plt.xlabel('Time between goals (games)')\n",
        "plt.ylabel('Probability')\n",
        "plt.title('Distribution of time between goals')\n",
        "plt.legend();"
      ],
      "execution_count": 0,
      "outputs": [
        {
          "output_type": "display_data",
          "data": {
            "image/png": "[encoded data removed]",
            "text/plain": [
              "<Figure size 432x288 with 1 Axes>"
            ]
          },
          "metadata": {
            "tags": [],
            "needs_background": "light"
          }
        }
      ]
    },
    {
      "cell_type": "markdown",
      "metadata": {
        "id": "Tqu5wNqqVEgT",
        "colab_type": "text"
      },
      "source": [
        "It is counterintuitive, but true, that the most likely time to score a goal is immediately.  After that, the probability of each possible interval is a little lower.\n",
        "\n",
        "With a goal-scoring rate of 1.4, it is possible that a team will take more than one game to score a goal, but it is unlikely that they will take more than two games."
      ]
    },
    {
      "cell_type": "markdown",
      "metadata": {
        "id": "YHMO267fVEgU",
        "colab_type": "text"
      },
      "source": [
        "Now we're ready to solve the problem.  Here are the steps I recommend:\n",
        "\n",
        "1. Starting with the same gamma prior we used in the previous problem, compute the likelihood of scoring a goal after 11 minutes for each possible value of λ.  Don't forget to convert all times into units of games.\n",
        "\n",
        "2. Use `bayesian_update` to compute the posterior distribution of λ for Germany after the first goal.  If the total probability of the data is greater than 1, don't panic; because the likelihoods are not probabilities, the return value from `bayesian_update` is not a probability either.  But the posterior distribution is still valid.\n",
        "\n",
        "3. Compute the likelihood of scoring another goal after 12 more minutes and do another update.  Plot the prior, posterior after one goal, and posterior after two goals.\n",
        "\n",
        "4. Use `pmf_choice` to generate a sample of 1000 values from the posterior distribution of goal scoring rate.\n",
        "\n",
        "5. Use `np.random.poisson` to compute a sample of goals Germany might score during the remaining time in the game, `90-23` minutes.  Note: you will have to think about how to generate predicted goals for a fraction of a game.\n",
        "\n",
        "6. Compute and plot the PMF of possible goals scored and select from it the probability of scoring 5 more goals.  "
      ]
    },
    {
      "cell_type": "code",
      "metadata": {
        "id": "gw-5x--CVEgU",
        "colab_type": "code",
        "colab": {}
      },
      "source": [
        "# Solution goes here\n",
        "germany = prior.copy()\n",
        "λs = germany.index\n",
        "likelihood = expo_pdf(11/90, λs)"
      ],
      "execution_count": 0,
      "outputs": []
    },
    {
      "cell_type": "code",
      "metadata": {
        "id": "6N4v52kKVEgY",
        "colab_type": "code",
        "outputId": "290bc861-93b6-496c-e94c-7bd327e7c113",
        "colab": {
          "base_uri": "https://localhost:8080/",
          "height": 34
        }
      },
      "source": [
        "# Solution goes here\n",
        "bayes_update(germany, likelihood)\n"
      ],
      "execution_count": 0,
      "outputs": [
        {
          "output_type": "execute_result",
          "data": {
            "text/plain": [
              "1.0728988807549489"
            ]
          },
          "metadata": {
            "tags": []
          },
          "execution_count": 30
        }
      ]
    },
    {
      "cell_type": "code",
      "metadata": {
        "id": "CPgmK6yDVEgc",
        "colab_type": "code",
        "outputId": "8b098683-92fa-4b58-d55b-8fa081de9545",
        "colab": {
          "base_uri": "https://localhost:8080/",
          "height": 34
        }
      },
      "source": [
        "# Solution goes here\n",
        "likelihood_two = expo_pdf(12/90, λs)\n",
        "germany_two = germany.copy()\n",
        "bayes_update(germany_two, likelihood_two)"
      ],
      "execution_count": 0,
      "outputs": [
        {
          "output_type": "execute_result",
          "data": {
            "text/plain": [
              "1.4598709349606904"
            ]
          },
          "metadata": {
            "tags": []
          },
          "execution_count": 34
        }
      ]
    },
    {
      "cell_type": "code",
      "metadata": {
        "id": "inzoAGbSVEge",
        "colab_type": "code",
        "outputId": "e72ef156-967d-4821-8a13-dfbd3531ca0f",
        "colab": {
          "base_uri": "https://localhost:8080/",
          "height": 294
        }
      },
      "source": [
        "prior.plot(color= 'C0', label='Prior')\n",
        "germany.plot(color='C1', label='Posterior after first goal')\n",
        "germany_two.plot(color='C2', label='Posterior after second goal')\n",
        "\n",
        "plt.xlabel('Scoring Rate')\n",
        "plt.ylabel('Probability')\n",
        "plt.title('Prior')\n",
        "plt.legend();\n"
      ],
      "execution_count": 0,
      "outputs": [
        {
          "output_type": "display_data",
          "data": {
            "image/png": "[encoded data removed]",
            "text/plain": [
              "<Figure size 432x288 with 1 Axes>"
            ]
          },
          "metadata": {
            "tags": [],
            "needs_background": "light"
          }
        }
      ]
    },
    {
      "cell_type": "code",
      "metadata": {
        "id": "aMK6nHfzVEgi",
        "colab_type": "code",
        "outputId": "445b8979-d214-4e23-93a2-63417e3eeb2e",
        "colab": {
          "base_uri": "https://localhost:8080/",
          "height": 315
        }
      },
      "source": [
        "# Solution goes here\n",
        "germany_sample = pmf_choice(germany_two, 1000)\n",
        "time_left = (90 - (11 + 12))/90\n",
        "goals = np.random.poisson(germany_sample * time_left)\n",
        "\n",
        "germany_pmf = pmf_from_seq(goals)\n",
        "germany_pmf.plot.bar(color='C3', label='germany')\n",
        "\n",
        "plt.xlabel('Goals')\n",
        "plt.ylabel('Probability')\n",
        "plt.title('Predicted goal distribution')\n",
        "plt.legend()\n"
      ],
      "execution_count": 0,
      "outputs": [
        {
          "output_type": "execute_result",
          "data": {
            "text/plain": [
              "<matplotlib.legend.Legend at 0x7fb00f79b518>"
            ]
          },
          "metadata": {
            "tags": []
          },
          "execution_count": 38
        },
        {
          "output_type": "display_data",
          "data": {
            "image/png": "[encoded data removed]",
            "text/plain": [
              "<Figure size 432x288 with 1 Axes>"
            ]
          },
          "metadata": {
            "tags": [],
            "needs_background": "light"
          }
        }
      ]
    },
    {
      "cell_type": "markdown",
      "metadata": {
        "id": "42wmvpqHYgJ2",
        "colab_type": "text"
      },
      "source": [
        ""
      ]
    },
    {
      "cell_type": "markdown",
      "metadata": {
        "id": "Y-qLqGW3YfQX",
        "colab_type": "text"
      },
      "source": [
        ""
      ]
    },
    {
      "cell_type": "code",
      "metadata": {
        "id": "YogcyzABVEgk",
        "colab_type": "code",
        "colab": {}
      },
      "source": [
        "# Solution goes here\n",
        "germany_pmf[5]"
      ],
      "execution_count": 0,
      "outputs": []
    }
  ]
}