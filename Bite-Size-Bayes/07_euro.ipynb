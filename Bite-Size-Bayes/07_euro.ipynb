{
  "nbformat": 4,
  "nbformat_minor": 0,
  "metadata": {
    "kernelspec": {
      "display_name": "Python 3",
      "language": "python",
      "name": "python3"
    },
    "language_info": {
      "codemirror_mode": {
        "name": "ipython",
        "version": 3
      },
      "file_extension": ".py",
      "mimetype": "text/x-python",
      "name": "python",
      "nbconvert_exporter": "python",
      "pygments_lexer": "ipython3",
      "version": "3.7.6"
    },
    "colab": {
      "name": "07_euro.ipynb",
      "provenance": [],
      "collapsed_sections": [
        "gLMWbfqxVTxA"
      ],
      "include_colab_link": true
    }
  },
  "cells": [
    {
      "cell_type": "markdown",
      "metadata": {
        "id": "view-in-github",
        "colab_type": "text"
      },
      "source": [
        "<a href=\"https://colab.research.google.com/github/anushadatar/Olin-Data-Science-SP20/blob/master/07_euro.ipynb\" target=\"_parent\"><img src=\"https://colab.research.google.com/assets/colab-badge.svg\" alt=\"Open In Colab\"/></a>"
      ]
    },
    {
      "cell_type": "markdown",
      "metadata": {
        "id": "s3r-xtwcVTsz",
        "colab_type": "text"
      },
      "source": [
        "# Bite Size Bayes\n",
        "\n",
        "Copyright 2020 Allen B. Downey\n",
        "\n",
        "License: [Attribution-NonCommercial-ShareAlike 4.0 International (CC BY-NC-SA 4.0)](https://creativecommons.org/licenses/by-nc-sa/4.0/)"
      ]
    },
    {
      "cell_type": "code",
      "metadata": {
        "id": "ZeZFmgMvVTs1",
        "colab_type": "code",
        "colab": {}
      },
      "source": [
        "import numpy as np\n",
        "import pandas as pd\n",
        "import matplotlib.pyplot as plt"
      ],
      "execution_count": 0,
      "outputs": []
    },
    {
      "cell_type": "markdown",
      "metadata": {
        "id": "dUGaXFVPVTs_",
        "colab_type": "text"
      },
      "source": [
        "## Review\n",
        "\n",
        "[In the previous notebook](https://colab.research.google.com/github/AllenDowney/BiteSizeBayes/blob/master/06_pmf.ipynb) we extended the cookie problem with more bowls and the dice problem with more dice.\n",
        "\n",
        "And I introduced an alternative to the Bayes table, a probability mass function (PMF), which is a useful way to represent and do computations with distributions.\n",
        "\n",
        "Here's the function I used to create a `Pmf`, given a sequence of quantities, `xs`, and the corresponding probabilities, `ps`."
      ]
    },
    {
      "cell_type": "code",
      "metadata": {
        "id": "x1agxw_fVTtA",
        "colab_type": "code",
        "colab": {}
      },
      "source": [
        "def make_pmf(xs, ps, **options):\n",
        "    \"\"\"Make a Series that represents a PMF.\n",
        "    \n",
        "    xs: sequence of values\n",
        "    ps: sequence of probabilities\n",
        "    options: keyword arguments passed to Series constructor\n",
        "    \n",
        "    returns: Pandas Series\n",
        "    \"\"\"\n",
        "    pmf = pd.Series(ps, index=xs, **options)\n",
        "    return pmf"
      ],
      "execution_count": 0,
      "outputs": []
    },
    {
      "cell_type": "markdown",
      "metadata": {
        "id": "zSvCnFYvVTtH",
        "colab_type": "text"
      },
      "source": [
        "And here's the function that performs a Bayesian update, given a sequence of likelihoods:"
      ]
    },
    {
      "cell_type": "code",
      "metadata": {
        "id": "j7YNNkGxVTtJ",
        "colab_type": "code",
        "colab": {}
      },
      "source": [
        "def bayes_update(pmf, likelihood):\n",
        "    \"\"\"Do a Bayesian update.\n",
        "    \n",
        "    pmf: Series that represents the prior\n",
        "    likelihood: sequence of likelihoods\n",
        "    \n",
        "    returns: float probability of the data\n",
        "    \"\"\"\n",
        "    pmf *= likelihood\n",
        "    prob_data = pmf.sum()\n",
        "    pmf /= prob_data\n",
        "    return prob_data"
      ],
      "execution_count": 0,
      "outputs": []
    },
    {
      "cell_type": "markdown",
      "metadata": {
        "id": "jpettfzeVTtQ",
        "colab_type": "text"
      },
      "source": [
        "We'll use these functions to solve a new problem similar to the cookie problem."
      ]
    },
    {
      "cell_type": "markdown",
      "metadata": {
        "id": "kAXe6WIGVTtR",
        "colab_type": "text"
      },
      "source": [
        "## The Euro problem\n",
        "\n",
        "Here's a problem from David MacKay's book, [*Information Theory, Inference, and Learning Algorithms*](http://www.inference.org.uk/mackay/itila/p0.html), which is the book where I first learned about Bayesian statistics.  MacKay writes:\n",
        "\n",
        "> A statistical statement appeared in The Guardian on\n",
        "Friday January 4, 2002:\n",
        ">\n",
        "> >\"When spun on edge 250 times, a Belgian one-euro coin came\n",
        "up heads 140 times and tails 110. ‘It looks very suspicious\n",
        "to me’, said Barry Blight, a statistics lecturer at the London\n",
        "School of Economics. ‘If the coin were unbiased the chance of\n",
        "getting a result as extreme as that would be less than 7%’.\"\n",
        ">\n",
        "> But [asks MacKay] do these data give evidence that the coin is biased rather than fair?\n",
        "\n",
        "To answer this question, we have to make some modeling choices.\n",
        "\n",
        "First, let's assume that if you spin a coin on edge, there is some probability that it will land heads up.  I'll call that probability $x$.\n",
        "\n",
        "Second, let's assume that $x$ varies from one coin to the next, depending on how the coin is balanced and maybe some other factors."
      ]
    },
    {
      "cell_type": "markdown",
      "metadata": {
        "id": "v5n1WCTlVTtT",
        "colab_type": "text"
      },
      "source": [
        "With these assumptions we can formulate MacKay's question as an inference problem: given the data --- 140 heads and 110 tails --- what do we think $x$ is for this coin?\n",
        "\n",
        "This formulation is similar to the 101 Bowls problem we saw in the previous notebook; in fact, we will use the same likelihoods.\n",
        "\n",
        "But in the 101 Bowls problem, we are told that we choose a bowl at random, which implies that all bowls have the same prior probability.\n",
        "\n",
        "For the Euro problem, we have to think harder.  What values of $x$ do you think are reasonable?\n",
        "\n",
        "It seems likely that many coins are \"fair\", meaning that the probability of heads is close to 50%.  Do you think there are coins where $x$ is 75%?  How about 90%?\n",
        "\n",
        "To be honest, I don't really know.  To get started, I will assume that all values of $x$, from 0% to 100%, are equally likely.  Then we'll come back and try another prior.\n",
        "\n",
        "Here's a uniform prior from 0 to 100."
      ]
    },
    {
      "cell_type": "code",
      "metadata": {
        "id": "3bAn-Ca6VTtU",
        "colab_type": "code",
        "colab": {}
      },
      "source": [
        "xs = np.arange(101)\n",
        "prior = 1/101\n",
        "pmf = make_pmf(xs, prior)"
      ],
      "execution_count": 0,
      "outputs": []
    },
    {
      "cell_type": "markdown",
      "metadata": {
        "id": "O3V36HOqVTtc",
        "colab_type": "text"
      },
      "source": [
        "Here are the likelihoods for heads and tails:"
      ]
    },
    {
      "cell_type": "code",
      "metadata": {
        "id": "X1Xo2g2iVTte",
        "colab_type": "code",
        "colab": {}
      },
      "source": [
        "likelihood_heads = xs / 100\n",
        "likelihood_tails = 1 - xs / 100"
      ],
      "execution_count": 0,
      "outputs": []
    },
    {
      "cell_type": "markdown",
      "metadata": {
        "id": "LmJ1vCzfVTtl",
        "colab_type": "text"
      },
      "source": [
        "And here are the updates for 140 heads and 110 tails."
      ]
    },
    {
      "cell_type": "code",
      "metadata": {
        "id": "yWM00MmvVTto",
        "colab_type": "code",
        "colab": {}
      },
      "source": [
        "for i in range(140):\n",
        "    bayes_update(pmf, likelihood_heads)\n",
        "\n",
        "for i in range(110):\n",
        "    bayes_update(pmf, likelihood_tails)"
      ],
      "execution_count": 0,
      "outputs": []
    },
    {
      "cell_type": "markdown",
      "metadata": {
        "id": "exHkKZS1VTtw",
        "colab_type": "text"
      },
      "source": [
        "Here's what the results look like:"
      ]
    },
    {
      "cell_type": "code",
      "metadata": {
        "id": "usjtOdJsVTtx",
        "colab_type": "code",
        "outputId": "bf55dcec-0851-4b20-89ed-174282d5fefa",
        "colab": {
          "base_uri": "https://localhost:8080/",
          "height": 294
        }
      },
      "source": [
        "pmf.plot()\n",
        "\n",
        "plt.xlabel('Possible values of x')\n",
        "plt.ylabel('Probability')\n",
        "plt.title('140 heads, 110 tails');"
      ],
      "execution_count": 7,
      "outputs": [
        {
          "output_type": "display_data",
          "data": {
            "image/png": "[encoded data removed]",
            "text/plain": [
              "<Figure size 432x288 with 1 Axes>"
            ]
          },
          "metadata": {
            "tags": [],
            "needs_background": "light"
          }
        }
      ]
    },
    {
      "cell_type": "markdown",
      "metadata": {
        "id": "pFgfAALqVTt3",
        "colab_type": "text"
      },
      "source": [
        "This curve shows the \"posterior distribution\" of $x$."
      ]
    },
    {
      "cell_type": "markdown",
      "metadata": {
        "id": "klMh08rOVTt4",
        "colab_type": "text"
      },
      "source": [
        "## Put a function on it\n",
        "\n",
        "Before we go on, let's put that update in a function, because we are going to need it again."
      ]
    },
    {
      "cell_type": "code",
      "metadata": {
        "id": "4Sw83YAGVTt5",
        "colab_type": "code",
        "colab": {}
      },
      "source": [
        "def bayes_update_euro(pmf, data):\n",
        "    \"\"\"Do a Bayesian update.\n",
        "    \n",
        "    pmf: Series that represents a prior PMF\n",
        "    data: tuple of number of heads, tails\n",
        "    \"\"\"\n",
        "    heads, tails = data\n",
        "    xs = pmf.index\n",
        "    \n",
        "    likelihood_heads = xs / 100\n",
        "    likelihood_tails = 1 - likelihood_heads\n",
        "\n",
        "    for i in range(heads):\n",
        "        bayes_update(pmf, likelihood_heads)\n",
        "\n",
        "    for i in range(tails):\n",
        "        bayes_update(pmf, likelihood_tails)"
      ],
      "execution_count": 0,
      "outputs": []
    },
    {
      "cell_type": "markdown",
      "metadata": {
        "id": "E2M3hMsIVTuA",
        "colab_type": "text"
      },
      "source": [
        "This function takes a PMF that represents the prior, and a tuple that contains the number of heads and tails.\n",
        "\n",
        "Here's the uniform prior again."
      ]
    },
    {
      "cell_type": "code",
      "metadata": {
        "id": "a-L__oL1VTuC",
        "colab_type": "code",
        "colab": {}
      },
      "source": [
        "xs = np.arange(101)\n",
        "prior = 1/101\n",
        "uniform = make_pmf(xs, prior)"
      ],
      "execution_count": 0,
      "outputs": []
    },
    {
      "cell_type": "markdown",
      "metadata": {
        "id": "Y09MVdUqVTuJ",
        "colab_type": "text"
      },
      "source": [
        "Here's the update."
      ]
    },
    {
      "cell_type": "code",
      "metadata": {
        "id": "zMKkSYjeVTuM",
        "colab_type": "code",
        "colab": {}
      },
      "source": [
        "data = 140, 110\n",
        "bayes_update_euro(uniform, data)"
      ],
      "execution_count": 0,
      "outputs": []
    },
    {
      "cell_type": "markdown",
      "metadata": {
        "id": "IhzHiVHCVTuS",
        "colab_type": "text"
      },
      "source": [
        "And here are the results again."
      ]
    },
    {
      "cell_type": "code",
      "metadata": {
        "id": "PWmKGFc3VTuT",
        "colab_type": "code",
        "outputId": "ff507eb7-4f81-43f3-d2d9-1754379ee27e",
        "colab": {
          "base_uri": "https://localhost:8080/",
          "height": 295
        }
      },
      "source": [
        "uniform.plot()\n",
        "\n",
        "plt.xlabel('Possible values of x')\n",
        "plt.ylabel('Probability')\n",
        "plt.title('140 heads, 110 tails');"
      ],
      "execution_count": 0,
      "outputs": [
        {
          "output_type": "display_data",
          "data": {
            "image/png": "[encoded data removed]",
            "text/plain": [
              "<Figure size 432x288 with 1 Axes>"
            ]
          },
          "metadata": {
            "tags": [],
            "needs_background": "light"
          }
        }
      ]
    },
    {
      "cell_type": "markdown",
      "metadata": {
        "id": "N9nlK6nfVTuY",
        "colab_type": "text"
      },
      "source": [
        "## A better prior\n",
        "\n",
        "Remember that this result is based on a uniform prior, which assumes that any value of $x$ from 0 to 100 is equally likely.\n",
        "\n",
        "Given what we know about coins, that's probabily not true.  I can believe that if you spin a lop-sided coin on edge, it might be somewhat more likely to land on heads or tails.  \n",
        "\n",
        "But unless the coin is heavily weighted on one side, I would be surprised if $x$ were greater than 60% or less than 40%.\n",
        "\n",
        "Of course, I could be wrong, but in general I would expect to find $x$ closer to 50%, and I would be surprised to find it near 0% or 100%.\n",
        "\n",
        "I can represent that prior believe with a triangle-shaped prior.\n",
        "\n",
        "Here's an array that ramps up from 0 to 49 and ramps down from 50 to 0."
      ]
    },
    {
      "cell_type": "code",
      "metadata": {
        "id": "PUmE2geQVTuZ",
        "colab_type": "code",
        "colab": {}
      },
      "source": [
        "ramp_up = np.arange(50)\n",
        "ramp_down = np.arange(50, -1, -1)\n",
        "\n",
        "ps = np.append(ramp_up, ramp_down)"
      ],
      "execution_count": 0,
      "outputs": []
    },
    {
      "cell_type": "markdown",
      "metadata": {
        "id": "2A8cgv66VTuf",
        "colab_type": "text"
      },
      "source": [
        "I'll put it in a PMF and normalize it so it adds up to 1."
      ]
    },
    {
      "cell_type": "code",
      "metadata": {
        "id": "-FC9hHIBVTuk",
        "colab_type": "code",
        "colab": {}
      },
      "source": [
        "triangle = make_pmf(xs, ps)\n",
        "triangle /= triangle.sum()"
      ],
      "execution_count": 0,
      "outputs": []
    },
    {
      "cell_type": "markdown",
      "metadata": {
        "id": "YH_1P_HmVTup",
        "colab_type": "text"
      },
      "source": [
        "Here's what the triangle prior looks like."
      ]
    },
    {
      "cell_type": "code",
      "metadata": {
        "id": "Zn-YFdAkVTuq",
        "colab_type": "code",
        "outputId": "2817904b-99eb-46ee-f659-56d8d74c6b93",
        "colab": {
          "base_uri": "https://localhost:8080/",
          "height": 295
        }
      },
      "source": [
        "triangle.plot(color='C1')\n",
        "\n",
        "plt.xlabel('Possible values of x')\n",
        "plt.ylabel('Probability')\n",
        "plt.title('Triangle prior');"
      ],
      "execution_count": 0,
      "outputs": [
        {
          "output_type": "display_data",
          "data": {
            "image/png": "[encoded data removed]",
            "text/plain": [
              "<Figure size 432x288 with 1 Axes>"
            ]
          },
          "metadata": {
            "tags": [],
            "needs_background": "light"
          }
        }
      ]
    },
    {
      "cell_type": "markdown",
      "metadata": {
        "id": "HIZezCMxVTux",
        "colab_type": "text"
      },
      "source": [
        "Now let's update it with the data."
      ]
    },
    {
      "cell_type": "code",
      "metadata": {
        "id": "l1Z05vArVTuy",
        "colab_type": "code",
        "colab": {}
      },
      "source": [
        "data = 140, 110\n",
        "bayes_update_euro(triangle, data)"
      ],
      "execution_count": 0,
      "outputs": []
    },
    {
      "cell_type": "markdown",
      "metadata": {
        "id": "ZYoVpwD5VTu6",
        "colab_type": "text"
      },
      "source": [
        "And plot the results, along with the posterior based on a uniform prior."
      ]
    },
    {
      "cell_type": "code",
      "metadata": {
        "id": "t5dv-NRsVTu7",
        "colab_type": "code",
        "outputId": "dacf07ae-86a1-4590-b79a-59214a1dce17",
        "colab": {
          "base_uri": "https://localhost:8080/",
          "height": 295
        }
      },
      "source": [
        "uniform.plot(label='Uniform')\n",
        "triangle.plot(label='Triangle')\n",
        "\n",
        "plt.xlabel('Possible values of x')\n",
        "plt.ylabel('Probability')\n",
        "plt.title('140 heads, 110 tails')\n",
        "plt.legend();"
      ],
      "execution_count": 0,
      "outputs": [
        {
          "output_type": "display_data",
          "data": {
            "image/png": "[encoded data removed]",
            "text/plain": [
              "<Figure size 432x288 with 1 Axes>"
            ]
          },
          "metadata": {
            "tags": [],
            "needs_background": "light"
          }
        }
      ]
    },
    {
      "cell_type": "markdown",
      "metadata": {
        "id": "QVi6VcfRVTvC",
        "colab_type": "text"
      },
      "source": [
        "The posterior distributions are almost identical because, in this case, we have enough data to \"swamp the prior\"; that is, the posteriors depend strongly on the data and only weakly on the priors.\n",
        "\n",
        "This is good news, because it suggests that we can use data to resolve arguments.  Suppose two people disagree about the correct prior.  If neither can persuade the other, they might have to agree to disagree.\n",
        "\n",
        "But if they get new data, and each of them does a Bayesian update, they will usually find their beliefs converging.\n",
        "\n",
        "And with enough data, the remaining difference can be so small that it makes no difference in practice."
      ]
    },
    {
      "cell_type": "markdown",
      "metadata": {
        "id": "IHaj3qPHVTvE",
        "colab_type": "text"
      },
      "source": [
        "## Summarizing the posterior distribution\n",
        "\n",
        "The posterior distribution contains all of the information we have about the value of $x$.  But sometimes we want to summarize this information.\n",
        "\n",
        "We have already seen one way to summarize a posterior distribution, the Maximum Aposteori Probability, or MAP:"
      ]
    },
    {
      "cell_type": "code",
      "metadata": {
        "id": "1E15Tas1VTvF",
        "colab_type": "code",
        "outputId": "61cc1a9a-fd1f-44ed-fdd8-f33c016cc37c",
        "colab": {
          "base_uri": "https://localhost:8080/",
          "height": 35
        }
      },
      "source": [
        "uniform.idxmax()"
      ],
      "execution_count": 0,
      "outputs": [
        {
          "output_type": "execute_result",
          "data": {
            "text/plain": [
              "56"
            ]
          },
          "metadata": {
            "tags": []
          },
          "execution_count": 17
        }
      ]
    },
    {
      "cell_type": "markdown",
      "metadata": {
        "id": "nFKZJO0tVTvK",
        "colab_type": "text"
      },
      "source": [
        "`idxmax` returns the value of $x$ with the highest probability.\n",
        "\n",
        "In this example, we get the same MAP with the triangle prior:"
      ]
    },
    {
      "cell_type": "code",
      "metadata": {
        "id": "Mhbv4oILVTvL",
        "colab_type": "code",
        "outputId": "6fe9990e-de00-4828-fee3-f8e59852045a",
        "colab": {
          "base_uri": "https://localhost:8080/",
          "height": 35
        }
      },
      "source": [
        "triangle.idxmax()"
      ],
      "execution_count": 0,
      "outputs": [
        {
          "output_type": "execute_result",
          "data": {
            "text/plain": [
              "56"
            ]
          },
          "metadata": {
            "tags": []
          },
          "execution_count": 18
        }
      ]
    },
    {
      "cell_type": "markdown",
      "metadata": {
        "id": "QbzcmbTdVTvS",
        "colab_type": "text"
      },
      "source": [
        "Another way to summarize the posterior distribution is the posterior mean.\n",
        "\n",
        "Given a set of values, $x_i$, and the corresponding probabilities, $p_i$, the mean of the distribution is:\n",
        "\n",
        "$\\sum_i x_i p_i$\n",
        "\n",
        "The following function takes a Pmf and computes its mean.  Note that this function only works correctly if the Pmf is normalized."
      ]
    },
    {
      "cell_type": "code",
      "metadata": {
        "id": "9xKsUtIwVTvT",
        "colab_type": "code",
        "colab": {}
      },
      "source": [
        "def pmf_mean(pmf):\n",
        "    \"\"\"Compute the mean of a PMF.\n",
        "    \n",
        "    pmf: Series representing a PMF\n",
        "    \n",
        "    return: float\n",
        "    \"\"\"\n",
        "    return np.sum(pmf.index * pmf)"
      ],
      "execution_count": 0,
      "outputs": []
    },
    {
      "cell_type": "markdown",
      "metadata": {
        "id": "CQY7foElVTvZ",
        "colab_type": "text"
      },
      "source": [
        "Here's the posterior mean based on the uniform prior:"
      ]
    },
    {
      "cell_type": "code",
      "metadata": {
        "id": "KA2fOayQVTva",
        "colab_type": "code",
        "outputId": "0adc7732-b2cf-4308-d272-a542afa69a4b",
        "colab": {
          "base_uri": "https://localhost:8080/",
          "height": 35
        }
      },
      "source": [
        "pmf_mean(uniform)"
      ],
      "execution_count": 0,
      "outputs": [
        {
          "output_type": "execute_result",
          "data": {
            "text/plain": [
              "55.95238095238095"
            ]
          },
          "metadata": {
            "tags": []
          },
          "execution_count": 20
        }
      ]
    },
    {
      "cell_type": "markdown",
      "metadata": {
        "id": "eYJik9YtVTvi",
        "colab_type": "text"
      },
      "source": [
        "And here's the posterior mean with the triangle prior:"
      ]
    },
    {
      "cell_type": "code",
      "metadata": {
        "id": "_Bid33DZVTvj",
        "colab_type": "code",
        "outputId": "0487f697-d9ce-416d-eb0e-0e1a46e2cf5b",
        "colab": {
          "base_uri": "https://localhost:8080/",
          "height": 35
        }
      },
      "source": [
        "pmf_mean(triangle)"
      ],
      "execution_count": 0,
      "outputs": [
        {
          "output_type": "execute_result",
          "data": {
            "text/plain": [
              "55.74349943859505"
            ]
          },
          "metadata": {
            "tags": []
          },
          "execution_count": 21
        }
      ]
    },
    {
      "cell_type": "markdown",
      "metadata": {
        "id": "fo6IQORdVTvq",
        "colab_type": "text"
      },
      "source": [
        "The posterior means are not identical, but they are close enough that the difference probably doesn't matter.\n",
        "\n",
        "In this example, the posterior mean is very close to the MAP.  That's true when the posterior distribution is symmetric, but it is not always true."
      ]
    },
    {
      "cell_type": "markdown",
      "metadata": {
        "id": "erAhPoajVTvs",
        "colab_type": "text"
      },
      "source": [
        "If someone asks what we think $x$ is, the MAP or the posterior mean might be a good answer.\n",
        "\n",
        "But MacKay asked a different question: do these data give evidence that the coin is biased rather than fair?\n",
        "\n",
        "We have more work to do before we can really answer this question.  But first, I want to rule out an approach that is tempting, but incorrect."
      ]
    },
    {
      "cell_type": "markdown",
      "metadata": {
        "id": "vCiD835cVTvt",
        "colab_type": "text"
      },
      "source": [
        "## Posterior probability\n",
        "\n",
        "If the coin is \"fair\", that means that $x$ is 50%.  So it might be tempting to use the posterior PMF to compute the probability that $x$ is 50%:"
      ]
    },
    {
      "cell_type": "code",
      "metadata": {
        "id": "xR_7zaIrVTvu",
        "colab_type": "code",
        "outputId": "ba911e47-720f-4cfd-c0aa-dfd4aee79911",
        "colab": {
          "base_uri": "https://localhost:8080/",
          "height": 35
        }
      },
      "source": [
        "uniform[50]"
      ],
      "execution_count": 0,
      "outputs": [
        {
          "output_type": "execute_result",
          "data": {
            "text/plain": [
              "0.020976526129544655"
            ]
          },
          "metadata": {
            "tags": []
          },
          "execution_count": 22
        }
      ]
    },
    {
      "cell_type": "markdown",
      "metadata": {
        "id": "jgj8rOTAVTv1",
        "colab_type": "text"
      },
      "source": [
        "The result is the posterior probability that $x$ is 50%, but it is not the probability that the coin is fair.\n",
        "\n",
        "The problem is that $x$ is really a continuous quantity, which means it could have any value between 0 and 1.  \n",
        "\n",
        "For purposes of computation, I broke this interval into 101 discrete values, but that was an arbitrary choice.  I could have done the computation with 201 hypotheses, like this:"
      ]
    },
    {
      "cell_type": "code",
      "metadata": {
        "id": "XbWehttpVTv2",
        "colab_type": "code",
        "outputId": "13298c2c-fefa-4959-bde8-00c03aace5b6",
        "colab": {
          "base_uri": "https://localhost:8080/",
          "height": 35
        }
      },
      "source": [
        "xs2 = np.linspace(0, 100, 201)\n",
        "prior2 = 1/201\n",
        "\n",
        "uniform2 = make_pmf(xs2, prior2)\n",
        "len(uniform2)"
      ],
      "execution_count": 0,
      "outputs": [
        {
          "output_type": "execute_result",
          "data": {
            "text/plain": [
              "201"
            ]
          },
          "metadata": {
            "tags": []
          },
          "execution_count": 23
        }
      ]
    },
    {
      "cell_type": "markdown",
      "metadata": {
        "id": "10GCJ8WdVTv6",
        "colab_type": "text"
      },
      "source": [
        "Here's the update."
      ]
    },
    {
      "cell_type": "code",
      "metadata": {
        "id": "nwVrgjbjVTv7",
        "colab_type": "code",
        "colab": {}
      },
      "source": [
        "bayes_update_euro(uniform2, data)"
      ],
      "execution_count": 0,
      "outputs": []
    },
    {
      "cell_type": "markdown",
      "metadata": {
        "id": "EiAkhTz_VTwB",
        "colab_type": "text"
      },
      "source": [
        "And here's what the results look like."
      ]
    },
    {
      "cell_type": "code",
      "metadata": {
        "id": "HZqIjlkeVTwC",
        "colab_type": "code",
        "outputId": "132ce07a-868a-4c91-acaf-1eb1406840ea",
        "colab": {
          "base_uri": "https://localhost:8080/",
          "height": 295
        }
      },
      "source": [
        "uniform2.plot(color='C2')\n",
        "\n",
        "plt.xlabel('201 possible values of x')\n",
        "plt.ylabel('Probability')\n",
        "plt.title('140 heads, 110 tails');"
      ],
      "execution_count": 0,
      "outputs": [
        {
          "output_type": "display_data",
          "data": {
            "image/png": "[encoded data removed]",
            "text/plain": [
              "<Figure size 432x288 with 1 Axes>"
            ]
          },
          "metadata": {
            "tags": [],
            "needs_background": "light"
          }
        }
      ]
    },
    {
      "cell_type": "markdown",
      "metadata": {
        "id": "nR4w6MNlVTwH",
        "colab_type": "text"
      },
      "source": [
        "The results are visually similar, but you might notice that the curve is a little smoother at the peak.\n",
        "\n",
        "The MAPs are the same and the posterior means are almost the same:"
      ]
    },
    {
      "cell_type": "code",
      "metadata": {
        "id": "fntttsnfVTwI",
        "colab_type": "code",
        "outputId": "d637a028-bc04-4bf1-e7f8-d6ea7da8d93b",
        "colab": {
          "base_uri": "https://localhost:8080/",
          "height": 35
        }
      },
      "source": [
        "uniform.idxmax(), uniform2.idxmax()"
      ],
      "execution_count": 0,
      "outputs": [
        {
          "output_type": "execute_result",
          "data": {
            "text/plain": [
              "(56, 56.0)"
            ]
          },
          "metadata": {
            "tags": []
          },
          "execution_count": 26
        }
      ]
    },
    {
      "cell_type": "code",
      "metadata": {
        "id": "hH2p7PKIVTwP",
        "colab_type": "code",
        "outputId": "c4bd5cbc-e3dd-482d-eeae-a0db42d037bf",
        "colab": {
          "base_uri": "https://localhost:8080/",
          "height": 35
        }
      },
      "source": [
        "pmf_mean(uniform), pmf_mean(uniform2)"
      ],
      "execution_count": 0,
      "outputs": [
        {
          "output_type": "execute_result",
          "data": {
            "text/plain": [
              "(55.95238095238095, 55.95238095238094)"
            ]
          },
          "metadata": {
            "tags": []
          },
          "execution_count": 27
        }
      ]
    },
    {
      "cell_type": "markdown",
      "metadata": {
        "id": "cYEaD5WgVTwW",
        "colab_type": "text"
      },
      "source": [
        "But the total probability is spread out over twice as many hypotheses, so the proability of any single hypothesis is smaller.\n",
        "\n",
        "If use both posteriors to compute the probability that $x$ is 50%, we get very different results."
      ]
    },
    {
      "cell_type": "code",
      "metadata": {
        "id": "pEz1PEheVTwX",
        "colab_type": "code",
        "outputId": "70d73328-a561-48d1-b1b2-aff59c70e1e3",
        "colab": {
          "base_uri": "https://localhost:8080/",
          "height": 35
        }
      },
      "source": [
        "uniform[50], uniform2[50]"
      ],
      "execution_count": 0,
      "outputs": [
        {
          "output_type": "execute_result",
          "data": {
            "text/plain": [
              "(0.020976526129544655, 0.01048826306477235)"
            ]
          },
          "metadata": {
            "tags": []
          },
          "execution_count": 28
        }
      ]
    },
    {
      "cell_type": "markdown",
      "metadata": {
        "id": "wq8TYfLoVTwd",
        "colab_type": "text"
      },
      "source": [
        "Because $x$ is continuous, we divided the interval into discrete values.  But the number of values was an arbitrary choice, so the probability of any single value is not meaningful. \n",
        "\n",
        "However, we can meaningfully compute the probability that $x$ falls in an interval."
      ]
    },
    {
      "cell_type": "markdown",
      "metadata": {
        "id": "jsskATvBVTwe",
        "colab_type": "text"
      },
      "source": [
        "## Credible intervals\n",
        "\n",
        "We can use a Boolean series to select values from the posterior distribution and add up their probabilities.\n",
        "\n",
        "Here's a function that computes the total probability of all values less than or equal to a given threshold."
      ]
    },
    {
      "cell_type": "code",
      "metadata": {
        "id": "GFGdE1nzVTwh",
        "colab_type": "code",
        "colab": {}
      },
      "source": [
        "def prob_le(pmf, threshold):\n",
        "    le = (pmf.index <= threshold)\n",
        "    total = pmf[le].sum()\n",
        "    return total"
      ],
      "execution_count": 0,
      "outputs": []
    },
    {
      "cell_type": "markdown",
      "metadata": {
        "id": "Oo1-976lVTwo",
        "colab_type": "text"
      },
      "source": [
        "For example, here's the probability that $x$ is less than or equal to 60%, based on the uniform prior with 101 values."
      ]
    },
    {
      "cell_type": "code",
      "metadata": {
        "id": "8OaDDHH6VTwp",
        "colab_type": "code",
        "outputId": "23fd8d29-214f-434d-e477-5dec1c534887",
        "colab": {
          "base_uri": "https://localhost:8080/",
          "height": 35
        }
      },
      "source": [
        "prob_le(uniform, 60)"
      ],
      "execution_count": 0,
      "outputs": [
        {
          "output_type": "execute_result",
          "data": {
            "text/plain": [
              "0.928955163489148"
            ]
          },
          "metadata": {
            "tags": []
          },
          "execution_count": 30
        }
      ]
    },
    {
      "cell_type": "markdown",
      "metadata": {
        "id": "UupU1Ev4VTwu",
        "colab_type": "text"
      },
      "source": [
        "Here's what we get with 201 values."
      ]
    },
    {
      "cell_type": "code",
      "metadata": {
        "id": "lfthmx-tVTwv",
        "colab_type": "code",
        "outputId": "7e81777a-5a35-41d4-bef9-fc06b8d84799",
        "colab": {
          "base_uri": "https://localhost:8080/",
          "height": 35
        }
      },
      "source": [
        "prob_le(uniform2, 60)"
      ],
      "execution_count": 0,
      "outputs": [
        {
          "output_type": "execute_result",
          "data": {
            "text/plain": [
              "0.9164519507463521"
            ]
          },
          "metadata": {
            "tags": []
          },
          "execution_count": 31
        }
      ]
    },
    {
      "cell_type": "markdown",
      "metadata": {
        "id": "zD67YVlvVTw3",
        "colab_type": "text"
      },
      "source": [
        "The results are not identical, but they are close enough that the differences might not matter.\n",
        "\n",
        "So let's say that the probability is 92% that $x$ is less than or equal to 61.\n",
        "\n",
        "I'll also compute the probability that $x$ is less than or equal to 51:"
      ]
    },
    {
      "cell_type": "code",
      "metadata": {
        "id": "pn_093GZVTw5",
        "colab_type": "code",
        "outputId": "674d2622-66d5-4160-93a3-0e0634d27e60",
        "colab": {
          "base_uri": "https://localhost:8080/",
          "height": 35
        }
      },
      "source": [
        "prob_le(uniform, 50), prob_le(uniform2, 50)"
      ],
      "execution_count": 0,
      "outputs": [
        {
          "output_type": "execute_result",
          "data": {
            "text/plain": [
              "(0.04056797774604359, 0.034538255921946155)"
            ]
          },
          "metadata": {
            "tags": []
          },
          "execution_count": 32
        }
      ]
    },
    {
      "cell_type": "markdown",
      "metadata": {
        "id": "Vu4_AJZgVTw_",
        "colab_type": "text"
      },
      "source": [
        "It looks like the probability is about 4% that $x$ is less than 50.\n",
        "\n",
        "Putting these results together, we can estimate the probability that $x$ is between 50 and 60; it's about 92% - 4% = 88%.\n",
        "\n",
        "And interval like this is called a \"credible interval\" because it tells us how credible it is that $x$ falls in the interval.\n",
        "\n",
        "In this case the interval from 50 to 60 is an 88% credible interval.  We'll learn more about credible intervals in a future notebook."
      ]
    },
    {
      "cell_type": "markdown",
      "metadata": {
        "id": "gLMWbfqxVTxA",
        "colab_type": "text"
      },
      "source": [
        "## Summary\n",
        "\n",
        "In this notebook, we used data from a coin-spinning experiment to estimate the probability that a given coin lands on heads.\n",
        "\n",
        "We tried three different priors: uniform distributions with 101 and 201 values, and a triangle distribution.  The results are similar, which indicates that we have enough data to \"swamp the priors\".\n",
        "\n",
        "And we summarized the posterior distributions three ways, computing the value with Maximum Aposteori Probability (MAP), the posterior mean, and a credible interval.\n",
        "\n",
        "Although we have made progress, we have not yet answered the question I started with, \"Do these data give evidence that the coin is biased rather than fair?\"\n",
        "\n",
        "We'll come back to this question in a future notebook, but [in the next notebook](https://colab.research.google.com/github/AllenDowney/BiteSizeBayes/blob/master/08_soccer.ipynb), we'll work on the World Cup problem."
      ]
    },
    {
      "cell_type": "markdown",
      "metadata": {
        "id": "_bmaC9TyVTxB",
        "colab_type": "text"
      },
      "source": [
        "## Exercises\n",
        "\n",
        "**Exercise:**  Suppose a baseball player gets 3 hits out of 3 at bats during their first game.  What is the probability that their batting average is actually below the mean?  What is the probability that they go 3-for-3 in the next game?\n",
        "\n",
        "To answer this question, we have to make some modeling choices:\n",
        "\n",
        "* Let's assume that each player has some constant batting average that is their probability of getting a hit during any at bat.\n",
        "\n",
        "* As a prior distribution, let's use a normal distribution with mean 0.260 and standard deviation 0.033.\n",
        "\n",
        "We can use `scipy.stats.norm` to evaluate the normal distribution for a range of batting averages, like this:"
      ]
    },
    {
      "cell_type": "code",
      "metadata": {
        "id": "JQdbftUtVTxB",
        "colab_type": "code",
        "colab": {}
      },
      "source": [
        "from scipy.stats import norm\n",
        "\n",
        "mean = 0.26\n",
        "std = 0.033\n",
        "\n",
        "xs = np.linspace(0, 0.5)\n",
        "ps = norm(mean, std).pdf(xs)"
      ],
      "execution_count": 0,
      "outputs": []
    },
    {
      "cell_type": "markdown",
      "metadata": {
        "id": "XTbbf9uRVTxI",
        "colab_type": "text"
      },
      "source": [
        "1. Put these values and probabilities in a Series and normalize it to represent the prior.\n",
        "\n",
        "2. Compute the likelihood of getting 3 hits.\n",
        "\n",
        "3. Compute the total probability of the data, which is the probability that a new player gets 3 hits in their first game.\n",
        "\n",
        "4. Compute the posterior distribution for this player's batting average.\n",
        "\n",
        "5. Plot the prior and posterior distributions.\n",
        "\n",
        "6. Compute the prior and posterior means; how much higher is the posterior mean?\n",
        "\n",
        "7. Compute the posterior probability that the player's batting average is actually below the mean.\n",
        "\n",
        "\n",
        "7. Compute the probability the same player will get 3 hits in their next game."
      ]
    },
    {
      "cell_type": "code",
      "metadata": {
        "id": "eprrhJssVTxI",
        "colab_type": "code",
        "colab": {}
      },
      "source": [
        "# Solution goes here\n",
        "prior = make_pmf(xs, ps)\n",
        "prior /= prior.sum()\n"
      ],
      "execution_count": 0,
      "outputs": []
    },
    {
      "cell_type": "code",
      "metadata": {
        "id": "kMLuESmXVTxU",
        "colab_type": "code",
        "colab": {}
      },
      "source": [
        "# Solution goes here\n",
        "likelihood = xs**3"
      ],
      "execution_count": 0,
      "outputs": []
    },
    {
      "cell_type": "code",
      "metadata": {
        "id": "TMsfl8x2VTxb",
        "colab_type": "code",
        "outputId": "14445e07-3d6a-4bf6-8456-f3b6cbe8857a",
        "colab": {
          "base_uri": "https://localhost:8080/",
          "height": 35
        }
      },
      "source": [
        "# Solution goes here\n",
        "posterior = prior * likelihood\n",
        "total = posterior.sum()\n",
        "total\n"
      ],
      "execution_count": 0,
      "outputs": [
        {
          "output_type": "execute_result",
          "data": {
            "text/plain": [
              "0.018425419999994874"
            ]
          },
          "metadata": {
            "tags": []
          },
          "execution_count": 37
        }
      ]
    },
    {
      "cell_type": "code",
      "metadata": {
        "id": "vU2aeF39VTxe",
        "colab_type": "code",
        "colab": {}
      },
      "source": [
        "# Solution goes here\n",
        "posterior /= total"
      ],
      "execution_count": 0,
      "outputs": []
    },
    {
      "cell_type": "code",
      "metadata": {
        "id": "LHyWci9UVTxl",
        "colab_type": "code",
        "colab": {}
      },
      "source": [
        "# Solution goes here"
      ],
      "execution_count": 0,
      "outputs": []
    },
    {
      "cell_type": "code",
      "metadata": {
        "id": "0dAqWOSSVTxs",
        "colab_type": "code",
        "outputId": "ff328556-1d0d-41a6-f306-89a64c2d977c",
        "colab": {
          "base_uri": "https://localhost:8080/",
          "height": 295
        }
      },
      "source": [
        "# Solution goes here\n",
        "prior.plot(label='prior')\n",
        "posterior.plot(label='posterior')\n",
        "\n",
        "plt.xlabel('Batting average')\n",
        "plt.ylabel('Probability')\n",
        "plt.title('Batting average distribution')\n",
        "plt.legend();\n"
      ],
      "execution_count": 0,
      "outputs": [
        {
          "output_type": "display_data",
          "data": {
            "image/png": "[encoded data removed]",
            "text/plain": [
              "<Figure size 432x288 with 1 Axes>"
            ]
          },
          "metadata": {
            "tags": [],
            "needs_background": "light"
          }
        }
      ]
    },
    {
      "cell_type": "code",
      "metadata": {
        "id": "eofr68JtVTxz",
        "colab_type": "code",
        "outputId": "1279aa68-6de5-4a97-b7a9-58fafabf593e",
        "colab": {
          "base_uri": "https://localhost:8080/",
          "height": 35
        }
      },
      "source": [
        "# Solution goes here\n",
        "pmf_mean(prior), pmf_mean(posterior)\n"
      ],
      "execution_count": 0,
      "outputs": [
        {
          "output_type": "execute_result",
          "data": {
            "text/plain": [
              "(0.2599999999999889, 0.2721792047616051)"
            ]
          },
          "metadata": {
            "tags": []
          },
          "execution_count": 40
        }
      ]
    },
    {
      "cell_type": "code",
      "metadata": {
        "id": "re9wbP_0VTx3",
        "colab_type": "code",
        "outputId": "16031acc-4db6-4a5d-c3f0-a27eb738f426",
        "colab": {
          "base_uri": "https://localhost:8080/",
          "height": 35
        }
      },
      "source": [
        "# Solution goes here\n",
        "np.sum(posterior[xs < mean])\n"
      ],
      "execution_count": 0,
      "outputs": [
        {
          "output_type": "execute_result",
          "data": {
            "text/plain": [
              "0.35532439078734424"
            ]
          },
          "metadata": {
            "tags": []
          },
          "execution_count": 41
        }
      ]
    },
    {
      "cell_type": "code",
      "metadata": {
        "id": "DAFbSz2YVTx8",
        "colab_type": "code",
        "outputId": "1b88d9b0-25dd-4e51-8923-0ac9170d731e",
        "colab": {
          "base_uri": "https://localhost:8080/",
          "height": 35
        }
      },
      "source": [
        "# Solution goes here\n",
        "np.sum(posterior * likelihood)\n"
      ],
      "execution_count": 0,
      "outputs": [
        {
          "output_type": "execute_result",
          "data": {
            "text/plain": [
              "0.02101389001178065"
            ]
          },
          "metadata": {
            "tags": []
          },
          "execution_count": 42
        }
      ]
    },
    {
      "cell_type": "code",
      "metadata": {
        "id": "mbvfIWHmVTyA",
        "colab_type": "code",
        "colab": {}
      },
      "source": [
        ""
      ],
      "execution_count": 0,
      "outputs": []
    }
  ]
}