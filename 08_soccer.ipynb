{
  "nbformat": 4,
  "nbformat_minor": 0,
  "metadata": {
    "kernelspec": {
      "display_name": "Python 3",
      "language": "python",
      "name": "python3"
    },
    "language_info": {
      "codemirror_mode": {
        "name": "ipython",
        "version": 3
      },
      "file_extension": ".py",
      "mimetype": "text/x-python",
      "name": "python",
      "nbconvert_exporter": "python",
      "pygments_lexer": "ipython3",
      "version": "3.7.6"
    },
    "colab": {
      "name": "08_soccer.ipynb",
      "provenance": [],
      "collapsed_sections": [],
      "include_colab_link": true
    }
  },
  "cells": [
    {
      "cell_type": "markdown",
      "metadata": {
        "id": "view-in-github",
        "colab_type": "text"
      },
      "source": [
        "<a href=\"https://colab.research.google.com/github/anushadatar/Olin-Data-Science-SP20/blob/master/08_soccer.ipynb\" target=\"_parent\"><img src=\"https://colab.research.google.com/assets/colab-badge.svg\" alt=\"Open In Colab\"/></a>"
      ]
    },
    {
      "cell_type": "markdown",
      "metadata": {
        "id": "eugiGkQsUVnH",
        "colab_type": "text"
      },
      "source": [
        "# Bite Size Bayes\n",
        "\n",
        "Copyright 2020 Allen B. Downey\n",
        "\n",
        "License: [Attribution-NonCommercial-ShareAlike 4.0 International (CC BY-NC-SA 4.0)](https://creativecommons.org/licenses/by-nc-sa/4.0/)"
      ]
    },
    {
      "cell_type": "code",
      "metadata": {
        "id": "FNMiDVS1UVnJ",
        "colab_type": "code",
        "colab": {}
      },
      "source": [
        "import numpy as np\n",
        "import pandas as pd\n",
        "\n",
        "import matplotlib.pyplot as plt"
      ],
      "execution_count": 0,
      "outputs": []
    },
    {
      "cell_type": "markdown",
      "metadata": {
        "id": "YPu33f-mUVnP",
        "colab_type": "text"
      },
      "source": [
        "## Review\n",
        "\n",
        "\n",
        "In [the previous notebook](https://colab.research.google.com/github/AllenDowney/BiteSizeBayes/blob/master/07_euro.ipynb), we used data from a coin-spinning experiment to estimate the probability that a given coin lands on heads.\n",
        "\n",
        "We tried three different priors: uniform distributions with 101 and 201 values, and a triangle distribution.  The results are similar, which indicates that we have enough data to \"swamp the priors\".\n",
        "\n",
        "And we summarized the posterior distributions three ways, computing the value with Maximum Aposteori Probability (MAP), the posterior mean, and a credible interval.\n",
        "\n",
        "We'll come back to the Euro problem in another notebook, but first we'll work on the World Cup problem."
      ]
    },
    {
      "cell_type": "markdown",
      "metadata": {
        "id": "hLKnAxhBUVnQ",
        "colab_type": "text"
      },
      "source": [
        "## The World Cup problem\n",
        "\n",
        "In the 2018 FIFA World Cup final, France defeated Croatia 4 goals to 2.  Based on this outcome:\n",
        "\n",
        "1. How confident should we be that France is the better team?\n",
        "\n",
        "2. If the same teams played again, what is the chance Croatia would win?\n",
        "\n",
        "To answer these questions, we have to make some modeling decisions.\n",
        "\n",
        "* First, I'll assume that for any team against any other team there is some unknown goal-scoring rate, measured in goals per game, which I'll denote `λ`.\n",
        "\n",
        "* Second, I'll assume that a goal is equally likely during any minute of a game.  So, in a 90 minute game, the probability of scoring during any minute is `λ/90`.\n",
        "\n",
        "* Third, I'll assume that a team never scores twice during the same minute.\n",
        "\n",
        "Of course, none of these assumptions is absolutely true in the real world, but I think they are reasonable simplifications.\n",
        "\n",
        "As George Box said, \"[All models are wrong; some are useful.](https://en.wikipedia.org/wiki/All_models_are_wrong)\""
      ]
    },
    {
      "cell_type": "markdown",
      "metadata": {
        "id": "WyeNU0iZUVnQ",
        "colab_type": "text"
      },
      "source": [
        "## Goal-scoring\n",
        "\n",
        "Given these assumptions, we can simulate the goal-scoring process by tossing 90 imaginary coins, one for each minute of the game, with the same probability of yielding a goal.  Here's a function that does it:"
      ]
    },
    {
      "cell_type": "code",
      "metadata": {
        "id": "KKibJzzQUVnR",
        "colab_type": "code",
        "colab": {}
      },
      "source": [
        "def flip(n, p):\n",
        "    \"\"\"Flips n coins and returns the number of heads.\n",
        "    \n",
        "    n: number of coins\n",
        "    p: probability of heads\n",
        "    \"\"\"\n",
        "    return np.sum(np.random.random(n) < p)"
      ],
      "execution_count": 0,
      "outputs": []
    },
    {
      "cell_type": "markdown",
      "metadata": {
        "id": "E_C7KJCQUVnV",
        "colab_type": "text"
      },
      "source": [
        "As an example, suppose we know the goal scoring rate is 1.4; we can compute `p` like this:"
      ]
    },
    {
      "cell_type": "code",
      "metadata": {
        "id": "HljYATPFUVnV",
        "colab_type": "code",
        "colab": {}
      },
      "source": [
        "λ = 1.4\n",
        "n = 90\n",
        "p = λ / n"
      ],
      "execution_count": 0,
      "outputs": []
    },
    {
      "cell_type": "markdown",
      "metadata": {
        "id": "I8ovZ09lUVnY",
        "colab_type": "text"
      },
      "source": [
        "And call `flip` like this:"
      ]
    },
    {
      "cell_type": "code",
      "metadata": {
        "id": "kK9Zm0O5UVnZ",
        "colab_type": "code",
        "colab": {
          "base_uri": "https://localhost:8080/",
          "height": 35
        },
        "outputId": "0569f31c-e3c8-46f8-e765-51796a4a2748"
      },
      "source": [
        "flip(n, p)"
      ],
      "execution_count": 4,
      "outputs": [
        {
          "output_type": "execute_result",
          "data": {
            "text/plain": [
              "1"
            ]
          },
          "metadata": {
            "tags": []
          },
          "execution_count": 4
        }
      ]
    },
    {
      "cell_type": "markdown",
      "metadata": {
        "id": "9Kkph5z0UVnd",
        "colab_type": "text"
      },
      "source": [
        "Each time you call flip, you get a different number of goals.  Here's a list of 10 simulated scores:"
      ]
    },
    {
      "cell_type": "code",
      "metadata": {
        "id": "O_1AIIRxUVne",
        "colab_type": "code",
        "colab": {
          "base_uri": "https://localhost:8080/",
          "height": 35
        },
        "outputId": "0e0acf6d-62d1-4391-f3ad-390fc9aba69f"
      },
      "source": [
        "[flip(n, p) for i in range(10)]"
      ],
      "execution_count": 5,
      "outputs": [
        {
          "output_type": "execute_result",
          "data": {
            "text/plain": [
              "[0, 2, 2, 3, 0, 0, 0, 0, 0, 1]"
            ]
          },
          "metadata": {
            "tags": []
          },
          "execution_count": 5
        }
      ]
    },
    {
      "cell_type": "markdown",
      "metadata": {
        "id": "WjNx57isUVnh",
        "colab_type": "text"
      },
      "source": [
        "If we simulate many games, we expect the mean to be near 1.4."
      ]
    },
    {
      "cell_type": "code",
      "metadata": {
        "id": "XHwNjXW3UVni",
        "colab_type": "code",
        "colab": {
          "base_uri": "https://localhost:8080/",
          "height": 35
        },
        "outputId": "5539cae8-bf27-47d7-c4f0-0ca01d6c11be"
      },
      "source": [
        "sample = [flip(n, p) for i in range(10000)]\n",
        "\n",
        "np.mean(sample)"
      ],
      "execution_count": 6,
      "outputs": [
        {
          "output_type": "execute_result",
          "data": {
            "text/plain": [
              "1.393"
            ]
          },
          "metadata": {
            "tags": []
          },
          "execution_count": 6
        }
      ]
    },
    {
      "cell_type": "markdown",
      "metadata": {
        "id": "Lny73rUaUVnm",
        "colab_type": "text"
      },
      "source": [
        "This sample contains scores from many simulated games.  The following function computes the number of times each score occurs and stores the result in a Series."
      ]
    },
    {
      "cell_type": "code",
      "metadata": {
        "id": "0ysoPtQoUVnm",
        "colab_type": "code",
        "colab": {}
      },
      "source": [
        "def pmf_from_seq(seq):\n",
        "    \"\"\"Make a PMF from a sequence of values.\n",
        "    \n",
        "    seq: sequence\n",
        "    \n",
        "    returns: Series representing a PMF\n",
        "    \"\"\"\n",
        "    pmf = pd.Series(seq).value_counts(sort=False).sort_index()\n",
        "    pmf /= pmf.sum()\n",
        "    return pmf"
      ],
      "execution_count": 0,
      "outputs": []
    },
    {
      "cell_type": "markdown",
      "metadata": {
        "id": "C2XgNmj2UVnq",
        "colab_type": "text"
      },
      "source": [
        "We can use `pmf_from_seq` to compute the PMF of goals."
      ]
    },
    {
      "cell_type": "code",
      "metadata": {
        "id": "1z39YWY2UVnq",
        "colab_type": "code",
        "colab": {
          "base_uri": "https://localhost:8080/",
          "height": 195
        },
        "outputId": "9d43fb6c-7aad-4bf6-ca7e-8b980b2c7aa3"
      },
      "source": [
        "pmf_goals = pmf_from_seq(sample)\n",
        "pmf_goals"
      ],
      "execution_count": 8,
      "outputs": [
        {
          "output_type": "execute_result",
          "data": {
            "text/plain": [
              "0    0.2470\n",
              "1    0.3494\n",
              "2    0.2386\n",
              "3    0.1121\n",
              "4    0.0378\n",
              "5    0.0121\n",
              "6    0.0027\n",
              "7    0.0002\n",
              "8    0.0001\n",
              "dtype: float64"
            ]
          },
          "metadata": {
            "tags": []
          },
          "execution_count": 8
        }
      ]
    },
    {
      "cell_type": "markdown",
      "metadata": {
        "id": "2AKZm6PeUVnt",
        "colab_type": "text"
      },
      "source": [
        "The PMF represents the distribution of goals scored, that is, each possible outcome and its probability.\n",
        "\n",
        "In this example, the PMF indicates that the probability of scoring 0 goals is about 27%, and the probability of scoring 1 goal is about 35%.\n",
        "\n",
        "Here's what the whole distribution looks like:"
      ]
    },
    {
      "cell_type": "code",
      "metadata": {
        "id": "2X82f8KYUVnu",
        "colab_type": "code",
        "colab": {
          "base_uri": "https://localhost:8080/",
          "height": 292
        },
        "outputId": "209be973-fe1e-4f86-e2f3-31783c5ff2f2"
      },
      "source": [
        "pmf_goals.plot.bar(color='C1', alpha=0.5)\n",
        "\n",
        "plt.xlabel('Number of goals')\n",
        "plt.ylabel('Probability')\n",
        "plt.title('Distribution of goals scored');"
      ],
      "execution_count": 9,
      "outputs": [
        {
          "output_type": "display_data",
          "data": {
            "image/png": "[encoded data removed]",
            "text/plain": [
              "<Figure size 432x288 with 1 Axes>"
            ]
          },
          "metadata": {
            "tags": [],
            "needs_background": "light"
          }
        }
      ]
    },
    {
      "cell_type": "markdown",
      "metadata": {
        "id": "9ajXn9HzUVnz",
        "colab_type": "text"
      },
      "source": [
        "In summary, if we know the goal-scoring rate, `λ`, we can use `flip` to simulate games and estimate the distribution of goals scored."
      ]
    },
    {
      "cell_type": "markdown",
      "metadata": {
        "id": "E2NGanQqUVn0",
        "colab_type": "text"
      },
      "source": [
        "## The Poisson distribution\n",
        "\n",
        "The distribution in the previous section is well approximated by the [Poisson distribution](https://en.wikipedia.org/wiki/Poisson_distribution).  If we know that the goal-scoring rate is $λ$, the probability of scoring $k$ goals is\n",
        "\n",
        "$f(k; \\lambda) = \\lambda^k exp(-\\lambda) ~/~ k!$\n",
        "\n",
        "SciPy provides a function that computes this expression; we can use it like this:"
      ]
    },
    {
      "cell_type": "code",
      "metadata": {
        "id": "n4KkR_gGUVn1",
        "colab_type": "code",
        "colab": {
          "base_uri": "https://localhost:8080/",
          "height": 70
        },
        "outputId": "71962b46-d681-4da9-c921-a27c8816e5ef"
      },
      "source": [
        "from scipy.stats import poisson\n",
        "\n",
        "xs = pmf_goals.index\n",
        "ys = poisson.pmf(xs, λ)\n",
        "ys"
      ],
      "execution_count": 10,
      "outputs": [
        {
          "output_type": "execute_result",
          "data": {
            "text/plain": [
              "array([2.46596964e-01, 3.45235750e-01, 2.41665025e-01, 1.12777012e-01,\n",
              "       3.94719540e-02, 1.10521471e-02, 2.57883433e-03, 5.15766866e-04,\n",
              "       9.02592015e-05])"
            ]
          },
          "metadata": {
            "tags": []
          },
          "execution_count": 10
        }
      ]
    },
    {
      "cell_type": "markdown",
      "metadata": {
        "id": "CvK8BCXZUVn6",
        "colab_type": "text"
      },
      "source": [
        "The following figure compares these values with the results we got by simulation."
      ]
    },
    {
      "cell_type": "code",
      "metadata": {
        "id": "4sHtDi0CUVn7",
        "colab_type": "code",
        "colab": {
          "base_uri": "https://localhost:8080/",
          "height": 292
        },
        "outputId": "c28fc80c-ea95-45b7-ff26-caaaf8b7d69c"
      },
      "source": [
        "pmf_goals.plot.bar(color='C1', alpha=0.5, label='sample')\n",
        "plt.plot(xs, ys, '_', color='C0', markersize=20, \n",
        "         label='Poisson distribution')\n",
        "\n",
        "plt.xlabel('Number of goals')\n",
        "plt.ylabel('Probability')\n",
        "plt.title('Distribution of goals scored')\n",
        "plt.legend();"
      ],
      "execution_count": 11,
      "outputs": [
        {
          "output_type": "display_data",
          "data": {
            "image/png": "[encoded data removed]",
            "text/plain": [
              "<Figure size 432x288 with 1 Axes>"
            ]
          },
          "metadata": {
            "tags": [],
            "needs_background": "light"
          }
        }
      ]
    },
    {
      "cell_type": "markdown",
      "metadata": {
        "id": "40yBHJKtUVoD",
        "colab_type": "text"
      },
      "source": [
        "The results from the Poisson distribution are consistent with the results from simulation.\n",
        "\n",
        "In summary, given `λ`, we can compute the distribution of goals scored, either by simulation or using a Poisson distribution.\n",
        "\n",
        "Now let's turn it around: given the number of goals scored in a game, how can we estimate `λ`?\n",
        "\n",
        "First, we need a prior distribution for `λ`, which represents the range of possible values and their probabilities before we see the score.\n",
        "\n",
        "Then we use the data to update the distribution.  \n",
        "\n",
        "The result is a posterior distribution that represents our estimate of `λ` after seeing the score."
      ]
    },
    {
      "cell_type": "markdown",
      "metadata": {
        "id": "S3JmD9VDUVoF",
        "colab_type": "text"
      },
      "source": [
        "## The prior\n",
        "\n",
        "If you have ever seen a soccer game, you have some information about `λ`.  In most games, teams score a few goals each.  In rare cases, a team might score more than 5 goals, but they almost never score more than 10.\n",
        "\n",
        "Using [data from previous World Cups](https://www.statista.com/statistics/269031/goals-scored-per-game-at-the-fifa-world-cup-since-1930/) I estimate that each team scores about 1.4 goals per game, on average.  So I'll set the mean of `λ` to be 1.4.\n",
        "\n",
        "For a good team against a bad one, we expect `λ` to be higher; for a bad team against a good one, we expect it to be lower.\n",
        "\n",
        "To model the distribution of goal-scoring rates, I will use a [gamma distribution](https://en.wikipedia.org/wiki/Gamma_distribution), which I chose because:\n",
        "\n",
        "1. The goal scoring rate is a continuous quantity that cannot be less than 0, and the gamma distribution is appropriate for this kind of quantity.\n",
        "\n",
        "2. The gamma distribution has only one parameter, `α`, which is the mean.  So it's easy to construct a gamma distribution with the mean we want.\n",
        "\n",
        "3. As we'll see, the shape of the Gamma distribution is a reasonable choice, given what we know about soccer.\n",
        "\n",
        "We can use `scipy.stats.gamma` to compute the values of the gamma distribution, like this:"
      ]
    },
    {
      "cell_type": "code",
      "metadata": {
        "id": "0r_xK-mRUVoG",
        "colab_type": "code",
        "colab": {}
      },
      "source": [
        "from scipy.stats import gamma\n",
        "\n",
        "α = 1.4\n",
        "qs = np.linspace(0, 10, 101)\n",
        "ps = gamma.pdf(qs, α)"
      ],
      "execution_count": 0,
      "outputs": []
    },
    {
      "cell_type": "markdown",
      "metadata": {
        "id": "qqMA9UfmUVoM",
        "colab_type": "text"
      },
      "source": [
        "The parameter, `α`, is the mean of the distribution.\n",
        "\n",
        "`qs` is an array of possible values for `λ`, from 0 to 10.\n",
        "\n",
        "`ps` is an array of probabilities, one for each value of `λ`.\n",
        "\n",
        "Now we can use `qs` and `ps` to make a `Pmf` that represents the prior distribution."
      ]
    },
    {
      "cell_type": "code",
      "metadata": {
        "id": "q0_aza1fUVoN",
        "colab_type": "code",
        "colab": {}
      },
      "source": [
        "prior = pd.Series(ps, index=qs)\n",
        "prior /= prior.sum()"
      ],
      "execution_count": 0,
      "outputs": []
    },
    {
      "cell_type": "markdown",
      "metadata": {
        "id": "5ICVLeteUVoU",
        "colab_type": "text"
      },
      "source": [
        "I normalized the distribution so the probabilities add up to 1.\n",
        "\n",
        "We can use the following function, from the previous notebook, to compute the prior mean."
      ]
    },
    {
      "cell_type": "code",
      "metadata": {
        "id": "PylzoFlgUVoV",
        "colab_type": "code",
        "colab": {}
      },
      "source": [
        "def pmf_mean(pmf):\n",
        "    \"\"\"Compute the mean of a PMF.\n",
        "    \n",
        "    pmf: Series representing a PMF\n",
        "    \n",
        "    return: float\n",
        "    \"\"\"\n",
        "    return np.sum(pmf.index * pmf)"
      ],
      "execution_count": 0,
      "outputs": []
    },
    {
      "cell_type": "code",
      "metadata": {
        "id": "5G0-14hLUVol",
        "colab_type": "code",
        "colab": {
          "base_uri": "https://localhost:8080/",
          "height": 35
        },
        "outputId": "395230fe-cc99-4e69-c502-a55d5f77f035"
      },
      "source": [
        "pmf_mean(prior)"
      ],
      "execution_count": 15,
      "outputs": [
        {
          "output_type": "execute_result",
          "data": {
            "text/plain": [
              "1.4140818156118378"
            ]
          },
          "metadata": {
            "tags": []
          },
          "execution_count": 15
        }
      ]
    },
    {
      "cell_type": "markdown",
      "metadata": {
        "id": "DBb44zaWUVop",
        "colab_type": "text"
      },
      "source": [
        "The prior mean is a little higher than 1.4; that's because we are approximating a continuous distribution with an array of discrete values.\n",
        "\n",
        "But since the choice of prior is partly arbitrary, we don't have to be too precise.\n",
        "\n",
        "Here's what it looks like."
      ]
    },
    {
      "cell_type": "code",
      "metadata": {
        "id": "NUMwxHTzUVoq",
        "colab_type": "code",
        "colab": {
          "base_uri": "https://localhost:8080/",
          "height": 295
        },
        "outputId": "27b08371-069b-4757-98d5-12d6867fb12f"
      },
      "source": [
        "prior.plot(label='prior', color='gray')\n",
        "\n",
        "plt.xlabel('Goal scoring rate')\n",
        "plt.ylabel('Probability')\n",
        "plt.title('Prior distribution')\n",
        "plt.legend();"
      ],
      "execution_count": 16,
      "outputs": [
        {
          "output_type": "display_data",
          "data": {
            "image/png": "[encoded data removed]",
            "text/plain": [
              "<Figure size 432x288 with 1 Axes>"
            ]
          },
          "metadata": {
            "tags": [],
            "needs_background": "light"
          }
        }
      ]
    },
    {
      "cell_type": "markdown",
      "metadata": {
        "id": "A7h90KSTUVos",
        "colab_type": "text"
      },
      "source": [
        "This distribution represents our prior knowledge about goal scoring: `λ` is usually less than 2, occasionally as high as 6, and seldom higher than that.  And the mean is about 1.4.\n",
        "\n",
        "As usual, reasonable people could disagree about the details of the prior.  As an exercise, you'll have a chance to try a different prior and see how much effect it has on the results.\n",
        "\n",
        "But first, it's time to do an update."
      ]
    },
    {
      "cell_type": "markdown",
      "metadata": {
        "id": "YOIhXo2qUVot",
        "colab_type": "text"
      },
      "source": [
        "## The update\n",
        "\n",
        "Suppose you are given the goal-scoring rate, $λ$, and asked to compute the probability of scoring a number of goals, $k$.  That is precisely the question we answered by computing the Poisson distribution:\n",
        "\n",
        "$ f(k; λ) = \\lambda^k \\exp(-\\lambda) ~/~ k! $\n",
        "\n",
        "For example, if $λ$ is 1.4, the probability of scoring 4 goals in a game is:"
      ]
    },
    {
      "cell_type": "code",
      "metadata": {
        "id": "E-A2FTAfUVot",
        "colab_type": "code",
        "colab": {
          "base_uri": "https://localhost:8080/",
          "height": 35
        },
        "outputId": "48375a70-16ab-44fd-ce40-26547400367d"
      },
      "source": [
        "k = 4\n",
        "poisson.pmf(4, λ)"
      ],
      "execution_count": 17,
      "outputs": [
        {
          "output_type": "execute_result",
          "data": {
            "text/plain": [
              "0.039471954028253146"
            ]
          },
          "metadata": {
            "tags": []
          },
          "execution_count": 17
        }
      ]
    },
    {
      "cell_type": "markdown",
      "metadata": {
        "id": "FNzgQTCbUVow",
        "colab_type": "text"
      },
      "source": [
        "Now suppose we are have an array of possible values for λ, like this:"
      ]
    },
    {
      "cell_type": "code",
      "metadata": {
        "id": "gwF7GWs3UVox",
        "colab_type": "code",
        "colab": {}
      },
      "source": [
        "λs = prior.index"
      ],
      "execution_count": 0,
      "outputs": []
    },
    {
      "cell_type": "markdown",
      "metadata": {
        "id": "XbeQ5FHjUVo3",
        "colab_type": "text"
      },
      "source": [
        "We can compute the likelihood of the data for each hypothetical value of λ, like this:"
      ]
    },
    {
      "cell_type": "code",
      "metadata": {
        "id": "yyH2IVLtUVo4",
        "colab_type": "code",
        "colab": {}
      },
      "source": [
        "k = 4\n",
        "likelihood = poisson.pmf(k, λs)"
      ],
      "execution_count": 0,
      "outputs": []
    },
    {
      "cell_type": "markdown",
      "metadata": {
        "id": "v_reqZ-MUVo-",
        "colab_type": "text"
      },
      "source": [
        "And that's all we need to do the update.  \n",
        "\n",
        "Here's the function we used in the previous notebook; it takes a prior distribution and an array of likelihoods, does a Bayesian update, and returns the total probability of the data."
      ]
    },
    {
      "cell_type": "code",
      "metadata": {
        "id": "LBrlSt8pUVo-",
        "colab_type": "code",
        "colab": {}
      },
      "source": [
        "def bayes_update(pmf, likelihood):\n",
        "    \"\"\"Do a Bayesian update.\n",
        "    \n",
        "    pmf: Series that represents the prior\n",
        "    likelihood: sequence of likelihoods\n",
        "    \n",
        "    returns: float probability of the data\n",
        "    \"\"\"\n",
        "    pmf *= likelihood\n",
        "    prob_data = pmf.sum()\n",
        "    pmf /= prob_data\n",
        "    return prob_data"
      ],
      "execution_count": 0,
      "outputs": []
    },
    {
      "cell_type": "markdown",
      "metadata": {
        "id": "MsQBDDwbUVpC",
        "colab_type": "text"
      },
      "source": [
        "In the example, France scored 4 goals, so I'll make a copy of the prior and update it with the likelihoods we just computed."
      ]
    },
    {
      "cell_type": "code",
      "metadata": {
        "id": "JADOEvC0UVpD",
        "colab_type": "code",
        "colab": {
          "base_uri": "https://localhost:8080/",
          "height": 35
        },
        "outputId": "0f4d13df-8711-479c-9806-40afe3ca97cc"
      },
      "source": [
        "france = prior.copy()\n",
        "bayes_update(france, likelihood)"
      ],
      "execution_count": 21,
      "outputs": [
        {
          "output_type": "execute_result",
          "data": {
            "text/plain": [
              "0.05015532557804499"
            ]
          },
          "metadata": {
            "tags": []
          },
          "execution_count": 21
        }
      ]
    },
    {
      "cell_type": "markdown",
      "metadata": {
        "id": "fFAoJMEWUVpG",
        "colab_type": "text"
      },
      "source": [
        "Under the prior distribution, the probability of scoring 4 goals was about 5%.\n",
        "\n",
        "Here's what the posterior distribution looks like:"
      ]
    },
    {
      "cell_type": "code",
      "metadata": {
        "id": "atVy4Ys6UVpH",
        "colab_type": "code",
        "colab": {
          "base_uri": "https://localhost:8080/",
          "height": 295
        },
        "outputId": "0b5d99f3-6bc2-4865-8a3d-fb25ec2ea1d8"
      },
      "source": [
        "prior.plot(label='prior', color='gray')\n",
        "france.plot(label='France posterior', color='C0')\n",
        "\n",
        "plt.xlabel('Goal scoring rate')\n",
        "plt.ylabel('Probability')\n",
        "plt.title('Posterior distribution for France')\n",
        "plt.legend();"
      ],
      "execution_count": 22,
      "outputs": [
        {
          "output_type": "display_data",
          "data": {
            "image/png": "[encoded data removed]",
            "text/plain": [
              "<Figure size 432x288 with 1 Axes>"
            ]
          },
          "metadata": {
            "tags": [],
            "needs_background": "light"
          }
        }
      ]
    },
    {
      "cell_type": "markdown",
      "metadata": {
        "id": "F3Ad6v09UVpK",
        "colab_type": "text"
      },
      "source": [
        "The data, `k=4`, makes us think higher values of `λ` are more likely and lower values are less likely.  So the posterior distribution is shifted to the right.\n",
        "\n",
        "Remember that the prior mean was about 1.4; here's the posterior mean:"
      ]
    },
    {
      "cell_type": "code",
      "metadata": {
        "id": "Sx-LG6eeUVpL",
        "colab_type": "code",
        "colab": {
          "base_uri": "https://localhost:8080/",
          "height": 35
        },
        "outputId": "c72c0fea-8a70-4443-eec3-124e72f9aa7d"
      },
      "source": [
        "pmf_mean(prior), pmf_mean(france)"
      ],
      "execution_count": 23,
      "outputs": [
        {
          "output_type": "execute_result",
          "data": {
            "text/plain": [
              "(1.4140818156118378, 2.699772393342308)"
            ]
          },
          "metadata": {
            "tags": []
          },
          "execution_count": 23
        }
      ]
    },
    {
      "cell_type": "markdown",
      "metadata": {
        "id": "dfS8EOezUVpO",
        "colab_type": "text"
      },
      "source": [
        "The posterior mean is near 2.7, which is between the prior (1.4) and the data (4).\n",
        "\n",
        "Having seen 4 goals, we think France's goal-scoring rate is higher than 1.4, but we have not seen enough data to go all the way to 4."
      ]
    },
    {
      "cell_type": "markdown",
      "metadata": {
        "id": "GQvVQEaPUVpP",
        "colab_type": "text"
      },
      "source": [
        "**Exercise:** Here's a prior distribution for Croatia:"
      ]
    },
    {
      "cell_type": "code",
      "metadata": {
        "id": "U7QAXyrXUVpP",
        "colab_type": "code",
        "colab": {}
      },
      "source": [
        "croatia = prior.copy()"
      ],
      "execution_count": 0,
      "outputs": []
    },
    {
      "cell_type": "markdown",
      "metadata": {
        "id": "zlHqeSw8UVpS",
        "colab_type": "text"
      },
      "source": [
        "Update `croatia` with the observed number of goals, `k=2`.  Plot the results and compute the posterior mean."
      ]
    },
    {
      "cell_type": "code",
      "metadata": {
        "id": "mf2W_JRjUVpT",
        "colab_type": "code",
        "colab": {}
      },
      "source": [
        "# Solution goes here\n",
        "l = 2\n",
        "λs = prior.index\n",
        "likelihood = poisson.pmf(k, λs)\n",
        "bayes_update(croatia, likelihood)\n"
      ],
      "execution_count": 0,
      "outputs": []
    },
    {
      "cell_type": "code",
      "metadata": {
        "id": "AKB8bqBkUVpW",
        "colab_type": "code",
        "colab": {
          "base_uri": "https://localhost:8080/",
          "height": 295
        },
        "outputId": "f5f0dc8b-83da-4bf8-beef-01b8ad26d8e5"
      },
      "source": [
        "# Solution goes here\n",
        "prior.plot(label='prior', color='gray')\n",
        "france.plot(label='France posterior', color='C0')\n",
        "croatia.plot(label='Croatia posterior', color='C1')\n",
        "\n",
        "\n",
        "plt.xlabel('Goal scoring rate')\n",
        "plt.ylabel('Probability')\n",
        "plt.title('Posterior distribution for Croatia France')\n",
        "plt.legend();"
      ],
      "execution_count": 25,
      "outputs": [
        {
          "output_type": "display_data",
          "data": {
            "image/png": "[encoded data removed]",
            "text/plain": [
              "<Figure size 432x288 with 1 Axes>"
            ]
          },
          "metadata": {
            "tags": [],
            "needs_background": "light"
          }
        }
      ]
    },
    {
      "cell_type": "code",
      "metadata": {
        "id": "NDQaggZzUVpZ",
        "colab_type": "code",
        "colab": {}
      },
      "source": [
        "# Solution goes here"
      ],
      "execution_count": 0,
      "outputs": []
    },
    {
      "cell_type": "markdown",
      "metadata": {
        "id": "7J6BA-5tUVpb",
        "colab_type": "text"
      },
      "source": [
        "## Summary\n",
        "\n",
        "In this notebook, I introduced the World Cup problem, which involves estimating the goal-scoring rate of a soccer team, based on the outcome of a single game.\n",
        "\n",
        "To solve this problem, I introduced the gamma distribution, which we used to generate a prior, and the Poisson distribution, which we used to compute the likelihood of the data.\n",
        "\n",
        "We used the prior and the likelihood to do a Bayesian update, which computes posterior distributions that estimate the goal-scoring rate for each team.\n",
        "\n",
        "[In the next notebook](https://colab.research.google.com/github/AllenDowney/BiteSizeBayes/blob/master/09_predict.ipynb) we will use those distributions to answer the questions we started with:\n",
        "\n",
        "1. What is the probability that the winning team is actually the better team?\n",
        "\n",
        "2. What is their probability of winning a rematch?\n"
      ]
    },
    {
      "cell_type": "markdown",
      "metadata": {
        "id": "mxUqT9e6UVpc",
        "colab_type": "text"
      },
      "source": [
        "**Exercise:**  I chose to represent the prior distribution with a gamma distribution because it has some desirable properties, but it is not the only choice.\n",
        "\n",
        "Another possibility is a normal distribution with the same mean, 1.4 goals per game, and a standard deviation we can choose.\n",
        "\n",
        "You can evaluate the PDF of the normal distribution like this:"
      ]
    },
    {
      "cell_type": "code",
      "metadata": {
        "id": "zJYI2RtJUVpc",
        "colab_type": "code",
        "colab": {}
      },
      "source": [
        "from scipy.stats import norm\n",
        "\n",
        "mean = 1.4\n",
        "std = 2\n",
        "qs = np.linspace(0, 10, 101)\n",
        "ps = norm.pdf(qs, mean, std)"
      ],
      "execution_count": 0,
      "outputs": []
    },
    {
      "cell_type": "markdown",
      "metadata": {
        "id": "MED1HUTgUVpf",
        "colab_type": "text"
      },
      "source": [
        "Use these values to construct a normal prior, then update it with France's score, `k=4`.  Plot the posterior distributions based on the gamma and uniform priors.  How different are they?  What effect does the choice of `std`?"
      ]
    },
    {
      "cell_type": "code",
      "metadata": {
        "id": "o8irrSdvUVpf",
        "colab_type": "code",
        "colab": {
          "base_uri": "https://localhost:8080/",
          "height": 35
        },
        "outputId": "8ec678fd-3a80-4e47-cf19-613d67e74fab"
      },
      "source": [
        "# Solution goes here\n",
        "\n",
        "normalized_prior = pd.Series(ps, index=qs)\n",
        "normalized_prior /= normalized_prior.sum()\n",
        "normalized_france = normalized_prior.copy()\n",
        "k = 4\n",
        "λs = prior.index\n",
        "likelihood = poisson.pmf(k, λs)\n",
        "bayes_update(normalized_france, likelihood)\n",
        "\n"
      ],
      "execution_count": 36,
      "outputs": [
        {
          "output_type": "execute_result",
          "data": {
            "text/plain": [
              "0.09206290200005803"
            ]
          },
          "metadata": {
            "tags": []
          },
          "execution_count": 36
        }
      ]
    },
    {
      "cell_type": "code",
      "metadata": {
        "id": "PKT9S2NpUVpk",
        "colab_type": "code",
        "colab": {
          "base_uri": "https://localhost:8080/",
          "height": 295
        },
        "outputId": "0057fa81-ac55-498a-b028-1318fcaef60f"
      },
      "source": [
        "# Solution goes here\n",
        "# Solution goes here\n",
        "normalized_prior.plot(label='prior', color='gray')\n",
        "france.plot(label='France posterior (gamma prior)', color='C0')\n",
        "normalized_france.plot(label='France posterior (normal prior)', color='C1')\n",
        "\n",
        "\n",
        "plt.xlabel('Goal scoring rate')\n",
        "plt.ylabel('Probability')\n",
        "plt.title('Posterior distribution for France')\n",
        "plt.legend();"
      ],
      "execution_count": 37,
      "outputs": [
        {
          "output_type": "display_data",
          "data": {
            "image/png": "[encoded data removed]",
            "text/plain": [
              "<Figure size 432x288 with 1 Axes>"
            ]
          },
          "metadata": {
            "tags": [],
            "needs_background": "light"
          }
        }
      ]
    },
    {
      "cell_type": "code",
      "metadata": {
        "id": "I-DWR0OxUVpo",
        "colab_type": "code",
        "colab": {}
      },
      "source": [
        "# The normal prior is more normalized-looking? I suppose than the gamma prior. \n",
        "# Increasing the stdev flattens the curve :) "
      ],
      "execution_count": 0,
      "outputs": []
    },
    {
      "cell_type": "code",
      "metadata": {
        "id": "ETHQVWn1UVpt",
        "colab_type": "code",
        "colab": {}
      },
      "source": [
        "# Solution goes here"
      ],
      "execution_count": 0,
      "outputs": []
    },
    {
      "cell_type": "code",
      "metadata": {
        "id": "fFq7xpfkWfsE",
        "colab_type": "code",
        "colab": {}
      },
      "source": [
        ""
      ],
      "execution_count": 0,
      "outputs": []
    },
    {
      "cell_type": "code",
      "metadata": {
        "id": "PwMMvnRBUVpw",
        "colab_type": "code",
        "colab": {}
      },
      "source": [
        ""
      ],
      "execution_count": 0,
      "outputs": []
    }
  ]
}